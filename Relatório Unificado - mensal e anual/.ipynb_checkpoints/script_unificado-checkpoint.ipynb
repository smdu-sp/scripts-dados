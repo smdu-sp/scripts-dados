{
 "cells": [
  {
   "cell_type": "markdown",
   "metadata": {
    "id": "f1CRLol8qWqA"
   },
   "source": [
    "# <center>Script Unificado de Dados para os sistemas Aprova Digital, SLCe e SISSEL\n",
    "## <center>Análise de resultados da Secretaria\n",
    "Março de 2023\n",
    "<br/>"
   ]
  },
  {
   "cell_type": "markdown",
   "metadata": {
    "id": "5NENVjw5q33E",
    "tags": []
   },
   "source": [
    "## 1. Introdução\n"
   ]
  },
  {
   "cell_type": "markdown",
   "metadata": {
    "id": "Y5hIx7mrmqPd"
   },
   "source": [
    "\n",
    "<p align='justify'>O Aprova Digital é um software de gestão pública que permite protocolar, tramitar e emitir licenças para construção de forma 100% digital. </p>\n",
    "\n",
    "<p align='justify'>Por ser um sistema com implementação recente, iniciando as operações em 2020, ainda não é possível, usando a interface do sistema, extrair informações relacionadas ao desempenho das coordenadorias quanto ao número de aprovações realizadas.</p>\n",
    "\n",
    "<p align='justify'>Pode-se fazer consultas individualizadas de cada processo, porém não é possível saber qual a totalidade de processos foram aprovados por cada divisão, quantos despachos foram emitidos, em quais divisões as análises ocorreram entre outros dados de importância para a gestão da secretária.</p>\n",
    "\n",
    "<p align='justify'>Dentro do projeto de Análise de Dados do Aprova Digital temos a missão de extrair esses dados e apresenta-los de forma ordenada para subsidiar tomadas de decisão baseadas em evidências, buscando melhorar o serviço público prestado pela SMUL.\n",
    "A análise proposta neste projeto acontece através das seguintes fases:</p>\n",
    "\n",
    "* **Questionamento**: Definir o problema e as questões a relevantes a serem levantadas para atingir os objetivos.\n",
    "\n",
    "* **Preparação**: Entender quais dados necessários para responder às questões da fase de questionamento, onde encontra-los e definir de que forma podem ser extraídos. Realizar a extração de dados e identificar sua estrutura.\n",
    "\n",
    "* **Processamento**: Verificar a integridade dos dados, realizar a limpeza de dados e reportar os resultados da limpeza de dados.\n",
    "\n",
    "* **Análise**: Usar ferramentas para combinar os dados, filter e ordenar as informações, efetuar cálculos para responder as perguntas iniciais, identificar padrões que possam ser usados para gerar conclusões.\n",
    "\n",
    "* **Compartilhamento**: Criar visualizações que sejam efetivas em demonstrar os resultados alcançados na fase de análise e facilitar o entendimento das conclusões.\n",
    "<p align='justify'>Ao longo desse documento todas essas fases serão exploradas em detalhes visando a replicação e continuidade dos processos e procedimentos de análise. </p>\n",
    "<br/>\n"
   ]
  },
  {
   "cell_type": "markdown",
   "metadata": {
    "id": "jjGWaP7LssAc",
    "tags": []
   },
   "source": [
    "## 2. Questionamento"
   ]
  },
  {
   "cell_type": "markdown",
   "metadata": {
    "id": "7TL3y-V8mxL1"
   },
   "source": [
    "<p align='justify'> Nos últimos anos as coordenadorias de SMUL tem se preocupado em levantar dados de desempenho, especialmente os ligados à quantidade de deferimentos e indeferimentos anuais. Porém, as informações referentes ao sistema Aprova Digital não puderam ser extraídas e passaram a defasar esse levantamento.</p>\n",
    "\n",
    "<p align='justify'> As perguntas da fase de questionamento foram baseadas justamente no vazio deixado pelo sistema do Aprova Digital em relação a essas importantes informações, uma vez que, em outros sistemas da prefeitura, esses dados podem ser obtidos e usados como ferramenta de mensuração. </p>\n",
    "\n",
    "<p align='justify'> Portanto, os questionamentos apresentados visam complementar as informações fornecidas pelos outros sistemas formando um panorama completo da performance de cada coordenadoria em relação aos seus despachos publicados, além de embasar futuras decisões e apontar oportunidades de aprofundamento da análise para gerar ainda mais assertividade e por fim, a melhoria nos serviços públicos prestados por esta coordenadoria. \n",
    "A análise começa pela fase de questionamento e o projeto se propõe a responder as seguintes perguntas: </p>\n",
    "\n",
    "* Quantos deferimentos e indeferimentos foram realizados por RESID na plataforma Aprova Digital desde o seu início?\n",
    "* Como esses despachos se distribuem mês a mês?\n",
    "* Como cada divisão/departamento participa em relação ao desempenho?\n",
    "* Como os despachos se dividem entre assuntos e categorias de uso?\n",
    "* Quantos processos novos são criados na plataforma por mês e atribuídos às coordenadorias\n",
    "* Quantos comunique-ses foram emitidos ao todo e como isso se distribui no ano?\n",
    "* Qual a média de dias necessarios para o deferimento de um processo?\n",
    "<br/>"
   ]
  },
  {
   "cell_type": "markdown",
   "metadata": {
    "id": "nzF-Pf7aaR8A",
    "tags": []
   },
   "source": [
    "## 3. Preparação"
   ]
  },
  {
   "cell_type": "code",
   "execution_count": 1,
   "metadata": {
    "id": "_fHNB3tJ4uEs",
    "tags": []
   },
   "outputs": [],
   "source": [
    "# Importando as bibliotecas utilizadas\n",
    "import os # trabalhar com arquivos e diretórios\n",
    "import pandas as pd  # daframes\n",
    "import numpy as np  # operações com dataframes\n",
    "import copy  # copiar um dataframe mudando a alocação na memória\n",
    "import json  # gerar/importar arquivos para salvar infos \n",
    "from datetime import datetime, timedelta  # operações com datas\n",
    "import ezsheets  # Acessar e manipular tabelas do google sheets"
   ]
  },
  {
   "cell_type": "code",
   "execution_count": 2,
   "metadata": {
    "colab": {
     "base_uri": "https://localhost:8080/"
    },
    "id": "ATVOHkqDkioG",
    "outputId": "8ec35503-d2c5-453d-bd90-3fd84644caf7",
    "tags": []
   },
   "outputs": [
    {
     "name": "stdout",
     "output_type": "stream",
     "text": [
      "C:\\Users\\julio\\Documents\\GitHub\\relatorio_unificado\n",
      "C:\\Users\\julio\\Documents\\GitHub\\relatorio_unificado\\cleaned_data\n",
      "C:\\Users\\julio\\Documents\\GitHub\\relatorio_unificado\\raw_data\n"
     ]
    }
   ],
   "source": [
    "# Absolute path para o diretório atual\n",
    "dir_atual = os.getcwd()\n",
    "# Absolute path para o diretório irmão onde os arquivos serão lidos\n",
    "dir_cleaned_data = os.path.abspath(os.path.join(dir_atual, 'cleaned_data'))\n",
    "dir_raw_data = os.path.abspath(os.path.join(dir_atual, 'raw_data'))\n",
    "print(dir_atual)\n",
    "print(dir_cleaned_data)\n",
    "print(dir_raw_data)"
   ]
  },
  {
   "cell_type": "code",
   "execution_count": 3,
   "metadata": {
    "colab": {
     "base_uri": "https://localhost:8080/"
    },
    "id": "aPpd8wZpdSSn",
    "outputId": "3d125ac7-9db8-4282-c3bd-0bf2daa6beca",
    "tags": []
   },
   "outputs": [
    {
     "name": "stdout",
     "output_type": "stream",
     "text": [
      "ad_comuniqueses.csv\n",
      "ad_despachos.csv\n",
      "ad_principal.csv\n",
      "portal_comuniqueses.csv\n",
      "portal_despachos.csv\n",
      "sissel_comuniqueses.csv\n",
      "sissel_despachos.csv\n",
      "slce_comuniqueses.csv\n",
      "slce_despachos.csv\n",
      "slce_principal.csv\n"
     ]
    }
   ],
   "source": [
    "# Teste - deve retornar informações sobre uma das tabelas csv do repositório\n",
    "for file in os.listdir(dir_cleaned_data):\n",
    "    print(file)"
   ]
  },
  {
   "cell_type": "markdown",
   "metadata": {
    "id": "oHWZCuEutcJz",
    "tags": []
   },
   "source": [
    "### 3.1 Modelagem de dados\n"
   ]
  },
  {
   "cell_type": "markdown",
   "metadata": {
    "id": "wYYPoD83tgNh"
   },
   "source": [
    "<p align='justify'> Inicialmente serão extraídos dados de três diferentes sistemas. Para cada sistema serão extraídas três diferentes tabelas. Optou-se por manter as tabelas em separado por que é assim que elas vêm pós processo de extração.</p>\n",
    "<p align='justify'> A <b>primeira tabela</b> conterá as chaves primarias para cada sistema (número do processo) e será formada pelos seguintes campos:</p>\n",
    "\n",
    "* **n_processo:** O número de cada processo, também usado como chave primária.\n",
    "* **data_autuacao:** A data em que o processo foi protocolado.\n",
    "* **assunto:** O requerimento feito pelo interessado.\n",
    "* **coordenadoria:** A coordenadoria responsável pela análise do processo\n",
    "* **status:** A situação atual do processo para determinado sistema quando da extração.\n",
    "\n",
    "<p> A <b>segunda tabela</b> será baseada em despachos e comterá os seguintes campos:</p>\n",
    "\n",
    "* **n_processo:** Número do processo e realacionamento com a tabela anterior\n",
    "* **despacho:** O tipo de despacho dado (deferido ou indeferido)\n",
    "* **data_despacho:** A data em que ocorreu o despacho no sistema. (Não sua publicação)\n",
    "* **coord_despacho:** Coordenadoria e divisão onde o despacho foi dado.\n",
    "* **quem_despachou:** (Apenas para o Aprova Digital) Usado para diferenciação entre despachos automáticos e por análise.\n",
    "\n",
    "<p> A <b>terceira tabela</b> é focada em comunique-sese tem a seguinte estrutura:</p>\n",
    "\n",
    "* **n_processo:** Número do processo e realacionamento com as tabelas anteriores\n",
    "* **data_comunique-se:** A data em que o processo foi comunicado no sistema\n",
    "* **coord_comunique-se:** Coordenadoria responsável pelo comunique-se\n",
    "* **quem_comunicou:** (Apenas para o Aprova Digital)"
   ]
  },
  {
   "cell_type": "markdown",
   "metadata": {
    "id": "AZ_E0_v_GG4b"
   },
   "source": []
  },
  {
   "cell_type": "markdown",
   "metadata": {
    "id": "Pnnkm5Bq9713",
    "tags": []
   },
   "source": [
    "## 4. Procesamento dos dados para o Aprova Digital"
   ]
  },
  {
   "cell_type": "markdown",
   "metadata": {
    "id": "OiMcVCNG3pfd",
    "tags": []
   },
   "source": [
    "### 4.1 Lendo as tabelas do Aprova Digital"
   ]
  },
  {
   "cell_type": "markdown",
   "metadata": {
    "id": "KCUGRt_g56X6"
   },
   "source": [
    "<p align='justify'> A base de dados  do aprova digital está armazenada em um arquivo .csv chamado 'csv_principal', vamos olhar um resumo do arquivo quanto à sua estrutura e em seguida vamos observar as 10 primeiras linhas para ter uma ideia com o que estamos lidando. </p>"
   ]
  },
  {
   "cell_type": "markdown",
   "metadata": {
    "id": "WmJ-tbZhFnLN"
   },
   "source": [
    "##### Tabela principal para o Aprova Digital"
   ]
  },
  {
   "cell_type": "code",
   "execution_count": 4,
   "metadata": {
    "colab": {
     "base_uri": "https://localhost:8080/"
    },
    "id": "daOF2UE5ooXm",
    "outputId": "a822c957-1bce-4fe3-fdfb-801f55f19b14",
    "tags": []
   },
   "outputs": [
    {
     "name": "stdout",
     "output_type": "stream",
     "text": [
      "<class 'pandas.core.frame.DataFrame'>\n",
      "RangeIndex: 27376 entries, 0 to 27375\n",
      "Data columns (total 6 columns):\n",
      " #   Column         Non-Null Count  Dtype \n",
      "---  ------         --------------  ----- \n",
      " 0   n_processo     27376 non-null  object\n",
      " 1   data_autuacao  27367 non-null  object\n",
      " 2   assunto        27376 non-null  object\n",
      " 3   coord_atual    27376 non-null  object\n",
      " 4   status         27376 non-null  object\n",
      " 5   data_extracao  27376 non-null  object\n",
      "dtypes: object(6)\n",
      "memory usage: 1.3+ MB\n"
     ]
    }
   ],
   "source": [
    "# Lendo a tabela principal\n",
    "ad_main = pd.read_csv(f'{dir_cleaned_data}/ad_principal.csv', encoding='latin-1', sep=';')\n",
    "ad_main.info()"
   ]
  },
  {
   "cell_type": "markdown",
   "metadata": {
    "id": "U_ElY49TBKsF"
   },
   "source": [
    "<p align='justify'> Podemos observar que a tabela principal é composta de mais de 20.000 linhas dispostas em 17 colunas. Os nomes das colunas são consistentes e algumas não estão com o tipo de dados ideais, como por exemplo a coluna sei_autuado é apresentada no formato <em>object(string)</em> em vez de ser um formato <em>datetime</em>. Observemos em seguida as primeiras linhas do <em>data frame</em>.</p>"
   ]
  },
  {
   "cell_type": "code",
   "execution_count": 5,
   "metadata": {
    "colab": {
     "base_uri": "https://localhost:8080/"
    },
    "id": "8sVG_5VYDTTQ",
    "outputId": "79f6c2ef-0274-4c1a-fee9-11ad3f4fa8d8",
    "tags": []
   },
   "outputs": [
    {
     "data": {
      "text/html": [
       "<div>\n",
       "<style scoped>\n",
       "    .dataframe tbody tr th:only-of-type {\n",
       "        vertical-align: middle;\n",
       "    }\n",
       "\n",
       "    .dataframe tbody tr th {\n",
       "        vertical-align: top;\n",
       "    }\n",
       "\n",
       "    .dataframe thead th {\n",
       "        text-align: right;\n",
       "    }\n",
       "</style>\n",
       "<table border=\"1\" class=\"dataframe\">\n",
       "  <thead>\n",
       "    <tr style=\"text-align: right;\">\n",
       "      <th></th>\n",
       "      <th>n_processo</th>\n",
       "      <th>data_autuacao</th>\n",
       "      <th>assunto</th>\n",
       "      <th>coord_atual</th>\n",
       "      <th>status</th>\n",
       "      <th>data_extracao</th>\n",
       "    </tr>\n",
       "  </thead>\n",
       "  <tbody>\n",
       "    <tr>\n",
       "      <th>0</th>\n",
       "      <td>1010.2020/0005874-9</td>\n",
       "      <td>NaN</td>\n",
       "      <td>Alvará de Aprovação e Execução de Edificação N...</td>\n",
       "      <td>PARHIS</td>\n",
       "      <td>desistido</td>\n",
       "      <td>2023.10.05</td>\n",
       "    </tr>\n",
       "    <tr>\n",
       "      <th>1</th>\n",
       "      <td>1010.2020/0006241-0</td>\n",
       "      <td>NaN</td>\n",
       "      <td>Alvará de Aprovação de Edificação Nova (Exceto...</td>\n",
       "      <td>SERVIN</td>\n",
       "      <td>deferido</td>\n",
       "      <td>2023.10.05</td>\n",
       "    </tr>\n",
       "    <tr>\n",
       "      <th>2</th>\n",
       "      <td>1010.2020/0006754-3</td>\n",
       "      <td>NaN</td>\n",
       "      <td>Alvará de Aprovação e Execução de Edificação N...</td>\n",
       "      <td>PARHIS</td>\n",
       "      <td>em análise</td>\n",
       "      <td>2023.10.05</td>\n",
       "    </tr>\n",
       "    <tr>\n",
       "      <th>3</th>\n",
       "      <td>1010.2020/0006559-1</td>\n",
       "      <td>NaN</td>\n",
       "      <td>Alvará de Aprovação de Edificação Nova (HIS/ HMP)</td>\n",
       "      <td>PARHIS</td>\n",
       "      <td>deferido</td>\n",
       "      <td>2023.10.05</td>\n",
       "    </tr>\n",
       "    <tr>\n",
       "      <th>4</th>\n",
       "      <td>1010.2020/0006787-0</td>\n",
       "      <td>NaN</td>\n",
       "      <td>Alvará de Aprovação e Execução de Edificação N...</td>\n",
       "      <td>RESID</td>\n",
       "      <td>deferido</td>\n",
       "      <td>2023.10.05</td>\n",
       "    </tr>\n",
       "    <tr>\n",
       "      <th>5</th>\n",
       "      <td>1010.2020/0006558-3</td>\n",
       "      <td>NaN</td>\n",
       "      <td>Alvará de Aprovação e Execução de Edificação N...</td>\n",
       "      <td>PARHIS</td>\n",
       "      <td>deferido</td>\n",
       "      <td>2023.10.05</td>\n",
       "    </tr>\n",
       "    <tr>\n",
       "      <th>6</th>\n",
       "      <td>1010.2020/0007422-1</td>\n",
       "      <td>09/10/2020 12:35:15</td>\n",
       "      <td>Certificado de Acessibilidade</td>\n",
       "      <td>CONTRU</td>\n",
       "      <td>em análise</td>\n",
       "      <td>2023.10.05</td>\n",
       "    </tr>\n",
       "    <tr>\n",
       "      <th>7</th>\n",
       "      <td>1010.2020/0007052-8</td>\n",
       "      <td>01/10/2020 17:24:26</td>\n",
       "      <td>Cadastro de tanque de armazenagem, bomba, filt...</td>\n",
       "      <td>CONTRU</td>\n",
       "      <td>deferido</td>\n",
       "      <td>2023.10.05</td>\n",
       "    </tr>\n",
       "    <tr>\n",
       "      <th>8</th>\n",
       "      <td>1010.2020/0006801-9</td>\n",
       "      <td>NaN</td>\n",
       "      <td>Alvará de Aprovação e Execução de Edificação N...</td>\n",
       "      <td>PARHIS</td>\n",
       "      <td>desistido</td>\n",
       "      <td>2023.10.05</td>\n",
       "    </tr>\n",
       "    <tr>\n",
       "      <th>9</th>\n",
       "      <td>1010.2020/0007034-0</td>\n",
       "      <td>01/10/2020 13:33:43</td>\n",
       "      <td>Cadastro de Sistema Especial de Segurança</td>\n",
       "      <td>CONTRU</td>\n",
       "      <td>deferido</td>\n",
       "      <td>2023.10.05</td>\n",
       "    </tr>\n",
       "  </tbody>\n",
       "</table>\n",
       "</div>"
      ],
      "text/plain": [
       "            n_processo        data_autuacao  \\\n",
       "0  1010.2020/0005874-9                  NaN   \n",
       "1  1010.2020/0006241-0                  NaN   \n",
       "2  1010.2020/0006754-3                  NaN   \n",
       "3  1010.2020/0006559-1                  NaN   \n",
       "4  1010.2020/0006787-0                  NaN   \n",
       "5  1010.2020/0006558-3                  NaN   \n",
       "6  1010.2020/0007422-1  09/10/2020 12:35:15   \n",
       "7  1010.2020/0007052-8  01/10/2020 17:24:26   \n",
       "8  1010.2020/0006801-9                  NaN   \n",
       "9  1010.2020/0007034-0  01/10/2020 13:33:43   \n",
       "\n",
       "                                             assunto coord_atual      status  \\\n",
       "0  Alvará de Aprovação e Execução de Edificação N...      PARHIS   desistido   \n",
       "1  Alvará de Aprovação de Edificação Nova (Exceto...      SERVIN    deferido   \n",
       "2  Alvará de Aprovação e Execução de Edificação N...      PARHIS  em análise   \n",
       "3  Alvará de Aprovação de Edificação Nova (HIS/ HMP)      PARHIS    deferido   \n",
       "4  Alvará de Aprovação e Execução de Edificação N...       RESID    deferido   \n",
       "5  Alvará de Aprovação e Execução de Edificação N...      PARHIS    deferido   \n",
       "6                      Certificado de Acessibilidade      CONTRU  em análise   \n",
       "7  Cadastro de tanque de armazenagem, bomba, filt...      CONTRU    deferido   \n",
       "8  Alvará de Aprovação e Execução de Edificação N...      PARHIS   desistido   \n",
       "9          Cadastro de Sistema Especial de Segurança      CONTRU    deferido   \n",
       "\n",
       "  data_extracao  \n",
       "0    2023.10.05  \n",
       "1    2023.10.05  \n",
       "2    2023.10.05  \n",
       "3    2023.10.05  \n",
       "4    2023.10.05  \n",
       "5    2023.10.05  \n",
       "6    2023.10.05  \n",
       "7    2023.10.05  \n",
       "8    2023.10.05  \n",
       "9    2023.10.05  "
      ]
     },
     "execution_count": 5,
     "metadata": {},
     "output_type": "execute_result"
    }
   ],
   "source": [
    "# Mostrando as 10 primeiras linhas do data frame\n",
    "ad_main.head(10)"
   ]
  },
  {
   "cell_type": "markdown",
   "metadata": {
    "id": "MPoMUXwCEErM"
   },
   "source": [
    "<p align='justify'> O dataframe é composto das seguintes colunas:</p>\n",
    "\n",
    "* **n_processo:** Número do processo no SEI (após autuação).\n",
    "\n",
    "* **data_autuacao:** Data em que o processo foi autuado no SEI, quando começam a contar os prazos. Com esses valores podemos calular a média de dias necessários para a análise, além de determinar quantos novos processos são autuados a cada mês.\n",
    "\n",
    "* **assunto:** O requerimento feito pelo interessado. Usado para descobrir como ocorre a distribuição dos assuntos entre os despachos realizados.\n",
    "\n",
    "* **coord_atual:** Indica a coordenadoria em que o processo se encontra.\n",
    "\n",
    "* **status:** O status atual do processo.\n",
    "\n",
    "\n",
    "<p align='justify'> Esta planilha apresenta uma visão focada em cada processo. Usando apenas estes dados como base não podemos responder à pergunta de como os despachos são distribuídos por divisão dentro de RESID, ou como os depachos se distribuem por categoria de uso. Para tanto, mais informações são necessárias. \n",
    "Portanto, outras tabelas serão utilzads em que os despachos e comunique-ses são destacados e viram o foco.</p>"
   ]
  },
  {
   "cell_type": "markdown",
   "metadata": {
    "id": "NEEyx3reFtXT"
   },
   "source": [
    "##### Tabela de despachos para o Aprova Digital"
   ]
  },
  {
   "cell_type": "markdown",
   "metadata": {
    "id": "-ExwotH350CS"
   },
   "source": [
    "<p align='justify'> A segunda tabela é focada nos depachos. Cada processo pode contar com diversas entradas de acordo com a quantidade de deferimentos e indeferimentos que sofreu.</p>"
   ]
  },
  {
   "cell_type": "code",
   "execution_count": 6,
   "metadata": {
    "colab": {
     "base_uri": "https://localhost:8080/"
    },
    "id": "JZk3XbMDQEwL",
    "outputId": "ce8c124b-ff8c-4865-83cf-21e04ef24e4a",
    "tags": []
   },
   "outputs": [
    {
     "name": "stdout",
     "output_type": "stream",
     "text": [
      "<class 'pandas.core.frame.DataFrame'>\n",
      "RangeIndex: 18056 entries, 0 to 18055\n",
      "Data columns (total 7 columns):\n",
      " #   Column          Non-Null Count  Dtype \n",
      "---  ------          --------------  ----- \n",
      " 0   n_processo      18056 non-null  object\n",
      " 1   assunto         18056 non-null  object\n",
      " 2   despacho        18056 non-null  object\n",
      " 3   data_despacho   18056 non-null  object\n",
      " 4   coord_despacho  12770 non-null  object\n",
      " 5   quem_despachou  18056 non-null  object\n",
      " 6   data_extracao   18056 non-null  object\n",
      "dtypes: object(7)\n",
      "memory usage: 987.6+ KB\n"
     ]
    },
    {
     "data": {
      "text/html": [
       "<div>\n",
       "<style scoped>\n",
       "    .dataframe tbody tr th:only-of-type {\n",
       "        vertical-align: middle;\n",
       "    }\n",
       "\n",
       "    .dataframe tbody tr th {\n",
       "        vertical-align: top;\n",
       "    }\n",
       "\n",
       "    .dataframe thead th {\n",
       "        text-align: right;\n",
       "    }\n",
       "</style>\n",
       "<table border=\"1\" class=\"dataframe\">\n",
       "  <thead>\n",
       "    <tr style=\"text-align: right;\">\n",
       "      <th></th>\n",
       "      <th>n_processo</th>\n",
       "      <th>assunto</th>\n",
       "      <th>despacho</th>\n",
       "      <th>data_despacho</th>\n",
       "      <th>coord_despacho</th>\n",
       "      <th>quem_despachou</th>\n",
       "      <th>data_extracao</th>\n",
       "    </tr>\n",
       "  </thead>\n",
       "  <tbody>\n",
       "    <tr>\n",
       "      <th>0</th>\n",
       "      <td>1010.2020/0006241-0</td>\n",
       "      <td>Alvará de Aprovação de Edificação Nova (Exceto...</td>\n",
       "      <td>Processo Deferido</td>\n",
       "      <td>12/05/2023 11:40:43</td>\n",
       "      <td>SMUL/SERVIN/DSIMP</td>\n",
       "      <td>Katleen Mayumi Minoda</td>\n",
       "      <td>2023.10.05</td>\n",
       "    </tr>\n",
       "    <tr>\n",
       "      <th>1</th>\n",
       "      <td>1010.2020/0006559-1</td>\n",
       "      <td>Alvará de Aprovação de Edificação Nova (HIS/ HMP)</td>\n",
       "      <td>Processo Deferido</td>\n",
       "      <td>08/07/2021 17:02:54</td>\n",
       "      <td>SMUL/PARHIS/DHIS</td>\n",
       "      <td>Renaldo Silva de Moura</td>\n",
       "      <td>2023.10.05</td>\n",
       "    </tr>\n",
       "    <tr>\n",
       "      <th>2</th>\n",
       "      <td>1010.2020/0006787-0</td>\n",
       "      <td>Alvará de Aprovação e Execução de Edificação N...</td>\n",
       "      <td>Processo Deferido</td>\n",
       "      <td>28/04/2021 11:36:57</td>\n",
       "      <td>SMUL/RESID/DRGP</td>\n",
       "      <td>Luiz Fernando Nuno Malvezi Pedrosa</td>\n",
       "      <td>2023.10.05</td>\n",
       "    </tr>\n",
       "    <tr>\n",
       "      <th>3</th>\n",
       "      <td>1010.2020/0006558-3</td>\n",
       "      <td>Alvará de Aprovação e Execução de Edificação N...</td>\n",
       "      <td>Processo Deferido</td>\n",
       "      <td>06/05/2022 21:54:16</td>\n",
       "      <td>SMUL/PARHIS/DHIS</td>\n",
       "      <td>Renaldo Silva de Moura</td>\n",
       "      <td>2023.10.05</td>\n",
       "    </tr>\n",
       "    <tr>\n",
       "      <th>4</th>\n",
       "      <td>1010.2020/0007422-1</td>\n",
       "      <td>Certificado de Acessibilidade</td>\n",
       "      <td>Processo Indeferido</td>\n",
       "      <td>23/03/2021 09:16:21</td>\n",
       "      <td>SMUL/CONTRU/DACESS</td>\n",
       "      <td>JOSE MANUEL FERREIRA CORREIA</td>\n",
       "      <td>2023.10.05</td>\n",
       "    </tr>\n",
       "  </tbody>\n",
       "</table>\n",
       "</div>"
      ],
      "text/plain": [
       "            n_processo                                            assunto  \\\n",
       "0  1010.2020/0006241-0  Alvará de Aprovação de Edificação Nova (Exceto...   \n",
       "1  1010.2020/0006559-1  Alvará de Aprovação de Edificação Nova (HIS/ HMP)   \n",
       "2  1010.2020/0006787-0  Alvará de Aprovação e Execução de Edificação N...   \n",
       "3  1010.2020/0006558-3  Alvará de Aprovação e Execução de Edificação N...   \n",
       "4  1010.2020/0007422-1                      Certificado de Acessibilidade   \n",
       "\n",
       "              despacho        data_despacho      coord_despacho  \\\n",
       "0    Processo Deferido  12/05/2023 11:40:43   SMUL/SERVIN/DSIMP   \n",
       "1    Processo Deferido  08/07/2021 17:02:54    SMUL/PARHIS/DHIS   \n",
       "2    Processo Deferido  28/04/2021 11:36:57     SMUL/RESID/DRGP   \n",
       "3    Processo Deferido  06/05/2022 21:54:16    SMUL/PARHIS/DHIS   \n",
       "4  Processo Indeferido  23/03/2021 09:16:21  SMUL/CONTRU/DACESS   \n",
       "\n",
       "                       quem_despachou data_extracao  \n",
       "0               Katleen Mayumi Minoda    2023.10.05  \n",
       "1              Renaldo Silva de Moura    2023.10.05  \n",
       "2  Luiz Fernando Nuno Malvezi Pedrosa    2023.10.05  \n",
       "3              Renaldo Silva de Moura    2023.10.05  \n",
       "4        JOSE MANUEL FERREIRA CORREIA    2023.10.05  "
      ]
     },
     "execution_count": 6,
     "metadata": {},
     "output_type": "execute_result"
    }
   ],
   "source": [
    "# Lendo a tabela de despachos\n",
    "ad_despachos = pd.read_csv(f'{dir_cleaned_data}/ad_despachos.csv', encoding='latin-1', sep=';')\n",
    "ad_despachos.info()\n",
    "ad_despachos.head()"
   ]
  },
  {
   "cell_type": "markdown",
   "metadata": {
    "id": "AMOYNaXGVFen"
   },
   "source": [
    "<p align='justify'> Podemos notar que o <em>data frame</em> contem mais de 13000 linhas e 5 colunas. É possivel notar que, como observado na tabela anterior, alguns <em>data types</em> precisam ser ajustados, principalmente os relativos a datas.</p>\n",
    "\n",
    "<p align='justify'> Notamos ainda que nem todos os dados estão completos, especialmente os dados relativos à coordenadoria responsável pelo depsacho.</p>\n",
    "\n",
    "<p align='justify'> O dataframe é composto das seguintes colunas:</p>\n",
    "\n",
    "* **n_processo:** Número do processo SEI (após autuação).\n",
    "\n",
    "* **despacho:** Indica o deferimento, indeferimento ou o indeferimento com encerramento do processo e sua data.\n",
    "\n",
    "* **data_despacho:** A data em que o despacho foi dado.\n",
    "\n",
    "* **coord_despacho:** A divisão a qual pertence o servidor responsável pelo despacho.\n",
    "\n",
    "* **quem_despachou:** Servidor responsável pelo despacho.\n",
    "\n",
    "\n",
    "\n"
   ]
  },
  {
   "cell_type": "markdown",
   "metadata": {
    "id": "cnWRbxkpF2b-"
   },
   "source": [
    "##### Tabela de comunique-ses para o Aprova Digital"
   ]
  },
  {
   "cell_type": "markdown",
   "metadata": {
    "id": "TtQY1mig5nBT"
   },
   "source": [
    "<p align='justify'> Da mesma forma que a análise sobre os despachos não pode ser aprofundada apenas com a planilha principal, os resutados de comunique-ses emitidos também não podem.</p>\n",
    "<p align='justify'> A base é formada por detalhamento dos processos que apresentam um ou mais comunique-ses.</p>\n"
   ]
  },
  {
   "cell_type": "code",
   "execution_count": 7,
   "metadata": {
    "colab": {
     "base_uri": "https://localhost:8080/"
    },
    "id": "hFvGOZNkZKbK",
    "outputId": "f0498a2e-0826-4c95-fc31-b72a233da95d",
    "tags": []
   },
   "outputs": [
    {
     "name": "stdout",
     "output_type": "stream",
     "text": [
      "<class 'pandas.core.frame.DataFrame'>\n",
      "RangeIndex: 24536 entries, 0 to 24535\n",
      "Data columns (total 4 columns):\n",
      " #   Column             Non-Null Count  Dtype \n",
      "---  ------             --------------  ----- \n",
      " 0   n_processo         24536 non-null  object\n",
      " 1   data_comuniquese   24536 non-null  object\n",
      " 2   coord_comuniquese  23645 non-null  object\n",
      " 3   quem_comunicou     24536 non-null  object\n",
      "dtypes: object(4)\n",
      "memory usage: 766.9+ KB\n"
     ]
    },
    {
     "data": {
      "text/html": [
       "<div>\n",
       "<style scoped>\n",
       "    .dataframe tbody tr th:only-of-type {\n",
       "        vertical-align: middle;\n",
       "    }\n",
       "\n",
       "    .dataframe tbody tr th {\n",
       "        vertical-align: top;\n",
       "    }\n",
       "\n",
       "    .dataframe thead th {\n",
       "        text-align: right;\n",
       "    }\n",
       "</style>\n",
       "<table border=\"1\" class=\"dataframe\">\n",
       "  <thead>\n",
       "    <tr style=\"text-align: right;\">\n",
       "      <th></th>\n",
       "      <th>n_processo</th>\n",
       "      <th>data_comuniquese</th>\n",
       "      <th>coord_comuniquese</th>\n",
       "      <th>quem_comunicou</th>\n",
       "    </tr>\n",
       "  </thead>\n",
       "  <tbody>\n",
       "    <tr>\n",
       "      <th>0</th>\n",
       "      <td>1010.2020/0006241-0</td>\n",
       "      <td>18/12/2020 15:56:43</td>\n",
       "      <td>SERVIN</td>\n",
       "      <td>Camila Boselli de Mendonça</td>\n",
       "    </tr>\n",
       "    <tr>\n",
       "      <th>1</th>\n",
       "      <td>1010.2020/0006241-0</td>\n",
       "      <td>26/10/2021 17:08:40</td>\n",
       "      <td>SMUL/SERVIN/DSIGP</td>\n",
       "      <td>Camila Boselli de Mendonça</td>\n",
       "    </tr>\n",
       "    <tr>\n",
       "      <th>2</th>\n",
       "      <td>1010.2020/0006241-0</td>\n",
       "      <td>07/12/2022 12:02:14</td>\n",
       "      <td>SMUL/SERVIN/DSIGP</td>\n",
       "      <td>Camila Boselli de Mendonça</td>\n",
       "    </tr>\n",
       "    <tr>\n",
       "      <th>3</th>\n",
       "      <td>1010.2020/0006787-0</td>\n",
       "      <td>16/02/2021 12:01:39</td>\n",
       "      <td>NaN</td>\n",
       "      <td>REGINA MARIA ALMEIDA MARTINS</td>\n",
       "    </tr>\n",
       "    <tr>\n",
       "      <th>4</th>\n",
       "      <td>1010.2020/0006787-0</td>\n",
       "      <td>09/04/2021 16:16:09</td>\n",
       "      <td>NaN</td>\n",
       "      <td>REGINA MARIA ALMEIDA MARTINS</td>\n",
       "    </tr>\n",
       "  </tbody>\n",
       "</table>\n",
       "</div>"
      ],
      "text/plain": [
       "            n_processo     data_comuniquese  coord_comuniquese  \\\n",
       "0  1010.2020/0006241-0  18/12/2020 15:56:43             SERVIN   \n",
       "1  1010.2020/0006241-0  26/10/2021 17:08:40  SMUL/SERVIN/DSIGP   \n",
       "2  1010.2020/0006241-0  07/12/2022 12:02:14  SMUL/SERVIN/DSIGP   \n",
       "3  1010.2020/0006787-0  16/02/2021 12:01:39                NaN   \n",
       "4  1010.2020/0006787-0  09/04/2021 16:16:09                NaN   \n",
       "\n",
       "                 quem_comunicou  \n",
       "0    Camila Boselli de Mendonça  \n",
       "1    Camila Boselli de Mendonça  \n",
       "2    Camila Boselli de Mendonça  \n",
       "3  REGINA MARIA ALMEIDA MARTINS  \n",
       "4  REGINA MARIA ALMEIDA MARTINS  "
      ]
     },
     "execution_count": 7,
     "metadata": {},
     "output_type": "execute_result"
    }
   ],
   "source": [
    "# Usando pandas para ler o arquivo csv e transforma-lo em um data frame\n",
    "ad_comuniqueses = pd.read_csv(f'{dir_cleaned_data}/ad_comuniqueses.csv', encoding='latin-1', sep=';')\n",
    "ad_comuniqueses.info()\n",
    "ad_comuniqueses.head()"
   ]
  },
  {
   "cell_type": "markdown",
   "metadata": {
    "id": "0-dBb--PaEpV"
   },
   "source": [
    "<p align='justify'> Assim como nos <em>data frames</em> acima, aqui também é necessário ajustar o <em>date type</em> das colunas para o formato <em>datetime</em>. Além disso nota-se a ausência de alguns dados para apontamento da coordenadoria em que o processo foi comunicado.</p>\n",
    "\n",
    "<p align='justify'> O dataframe é composto das seguintes colunas:</p>\n",
    "\n",
    "* **n_processo:** Número do processo SEI (após autuação).\n",
    "\n",
    "* **data_comuniquese:** Indica a data em que o comunique-se ocorreu.\n",
    "\n",
    "* **coord_comuniquese:** A divisão a qual pertence o servidor responsável pelo comunicado.\n",
    "\n",
    "* **quem_comunicou:** Servidor responsável pelo comunique-se.\n",
    "\n"
   ]
  },
  {
   "cell_type": "markdown",
   "metadata": {
    "id": "OijA1eNsV3dg",
    "tags": []
   },
   "source": [
    "### 4.2 Processamento e limpeza\n",
    "\n"
   ]
  },
  {
   "cell_type": "markdown",
   "metadata": {
    "id": "oWQe-LZ4T0OM"
   },
   "source": [
    "#### 4.2.1 Alterações realizadas nos dataframes "
   ]
  },
  {
   "cell_type": "markdown",
   "metadata": {
    "id": "dtQrXfWRXBfu"
   },
   "source": [
    "##### Relaório de limpeza de dados no momento da extração (antes de carregar no colab)"
   ]
  },
  {
   "cell_type": "markdown",
   "metadata": {
    "id": "1AfUW8fLXNLx"
   },
   "source": [
    "<p align='justify'> A maioria dos procedimentos de limpeza de dados foi realizado no momento seguinte ao da extração. Todos os procedimentos realizados neste documento serão aqui relacionados.</p>\n",
    "<p align='justify'> Mesmo com a limpeza prévia, os procedimentos aqui serão mantidos como forma de garantiar que os dados estão prontos para análise. Todas as ocorrencias tratadas neste documento serão posteriormente adicionadas ao script de extração para serem tratadas na hora.</p>"
   ]
  },
  {
   "cell_type": "markdown",
   "metadata": {
    "id": "I099ji_vX2jJ"
   },
   "source": [
    "**Tabela Principal**\n",
    "\n",
    "* Exluídos todos os processos que não foram autuados, ou seja, os que não possuem número de processo SEI\n",
    "\n",
    "* Foram exluídas do dataframe linhas com dados nulos em todas as colunas\n",
    "\n",
    "\n",
    "**Tabela Despachos**\n",
    "\n",
    "* **Correção de nomes duplicados:** Pessoas que despacharam em dois cadastros diferentes ou que tiveram alteração de nome.\n",
    "\n",
    "* **Limpeza de de espaços em branco:** Algum nomes duplicados continham apenas a diferença entre um espaço em branco em algum ponto. Estes foram removidos e nos nomes padronizados.\n",
    "\n",
    "* **Adição de coordenadorias:** Para linhas em que não constavam coord de despacho, mas não eram por procedimento automático, foram adicionadas as coordenadorias e divisões correspondentes.\n",
    "\n",
    "* **Pradronização de coord e divisões:** Alguns nomes de coordenadoria também variaram com o tempo, para a padronização os nomes divergentes foram trocados.\n",
    "\n",
    "**Tabela de comunique-ses**\n",
    "\n",
    "* **Limpeza de de espaços em branco:** Mesmo procedimento do item acima.\n",
    "\n",
    "* **Correção de nomes duplicados:** Mesmo procedimento do item acima.\n",
    "\n",
    "* **Adição de coordenarias:** Mesmo procedimento do item acima."
   ]
  },
  {
   "cell_type": "markdown",
   "metadata": {
    "id": "fKkRNXr6Yhq_",
    "jp-MarkdownHeadingCollapsed": true,
    "tags": []
   },
   "source": [
    "#### 4.2.2 Excluindo processos não autuados"
   ]
  },
  {
   "cell_type": "markdown",
   "metadata": {
    "id": "wo_4sU9lnbXi"
   },
   "source": [
    "<p align='justify'>Processos não autuados, isto é sem número de processo SEI não interessam para a análise e serão excluidos. Isto também inclui processos novos que ainda não foram distribuídos, mas à medida que a base for sendo atualizada eles deixarão de ser suprimidos.</p>\n",
    "<p align='justify'> Como em outros casos, este problema já foi resolvido no momento da extração.</p>"
   ]
  },
  {
   "cell_type": "markdown",
   "metadata": {
    "id": "3U_oUwyHkwWY",
    "tags": []
   },
   "source": [
    "#### 4.2.3 Procurando por inconsistências em números de processo"
   ]
  },
  {
   "cell_type": "markdown",
   "metadata": {
    "id": "PNsp9dVXoXfF"
   },
   "source": [
    "##### Tabela principal"
   ]
  },
  {
   "cell_type": "markdown",
   "metadata": {
    "id": "PRARatoolEtD"
   },
   "source": [
    "<p> Na coluna 'n_processo' os valores devem sempre ter 19 caracteres, qualquer coisa que fuja disso precisa ter seu impacto avaliado na análise dos dados.</p>"
   ]
  },
  {
   "cell_type": "code",
   "execution_count": 8,
   "metadata": {
    "colab": {
     "base_uri": "https://localhost:8080/"
    },
    "id": "a7OqhIDAk4bD",
    "outputId": "12f1b841-07a3-413a-da03-ecd3486a617a",
    "tags": []
   },
   "outputs": [
    {
     "data": {
      "text/html": [
       "<div>\n",
       "<style scoped>\n",
       "    .dataframe tbody tr th:only-of-type {\n",
       "        vertical-align: middle;\n",
       "    }\n",
       "\n",
       "    .dataframe tbody tr th {\n",
       "        vertical-align: top;\n",
       "    }\n",
       "\n",
       "    .dataframe thead th {\n",
       "        text-align: right;\n",
       "    }\n",
       "</style>\n",
       "<table border=\"1\" class=\"dataframe\">\n",
       "  <thead>\n",
       "    <tr style=\"text-align: right;\">\n",
       "      <th></th>\n",
       "      <th>n_processo</th>\n",
       "      <th>data_autuacao</th>\n",
       "      <th>assunto</th>\n",
       "      <th>coord_atual</th>\n",
       "      <th>status</th>\n",
       "      <th>data_extracao</th>\n",
       "    </tr>\n",
       "  </thead>\n",
       "  <tbody>\n",
       "  </tbody>\n",
       "</table>\n",
       "</div>"
      ],
      "text/plain": [
       "Empty DataFrame\n",
       "Columns: [n_processo, data_autuacao, assunto, coord_atual, status, data_extracao]\n",
       "Index: []"
      ]
     },
     "execution_count": 8,
     "metadata": {},
     "output_type": "execute_result"
    }
   ],
   "source": [
    "# Procurando valores divergentes nas coluna n_processo\n",
    "ad_main.query(\"n_processo.str.len() != 19\")"
   ]
  },
  {
   "cell_type": "markdown",
   "metadata": {
    "id": "PJTBS_J5on4e"
   },
   "source": [
    "<p> A seguir os procedimentos serão repetidos para as duas outras tabelas do Aprova Digital</p>"
   ]
  },
  {
   "cell_type": "markdown",
   "metadata": {
    "id": "aPX3tWgZob77"
   },
   "source": [
    "##### Tabela despachos"
   ]
  },
  {
   "cell_type": "code",
   "execution_count": 9,
   "metadata": {
    "colab": {
     "base_uri": "https://localhost:8080/"
    },
    "id": "5HmH52q1oxxU",
    "outputId": "ee934b42-fbcd-4290-8b6a-657461b5010e",
    "tags": []
   },
   "outputs": [
    {
     "data": {
      "text/html": [
       "<div>\n",
       "<style scoped>\n",
       "    .dataframe tbody tr th:only-of-type {\n",
       "        vertical-align: middle;\n",
       "    }\n",
       "\n",
       "    .dataframe tbody tr th {\n",
       "        vertical-align: top;\n",
       "    }\n",
       "\n",
       "    .dataframe thead th {\n",
       "        text-align: right;\n",
       "    }\n",
       "</style>\n",
       "<table border=\"1\" class=\"dataframe\">\n",
       "  <thead>\n",
       "    <tr style=\"text-align: right;\">\n",
       "      <th></th>\n",
       "      <th>n_processo</th>\n",
       "      <th>assunto</th>\n",
       "      <th>despacho</th>\n",
       "      <th>data_despacho</th>\n",
       "      <th>coord_despacho</th>\n",
       "      <th>quem_despachou</th>\n",
       "      <th>data_extracao</th>\n",
       "    </tr>\n",
       "  </thead>\n",
       "  <tbody>\n",
       "  </tbody>\n",
       "</table>\n",
       "</div>"
      ],
      "text/plain": [
       "Empty DataFrame\n",
       "Columns: [n_processo, assunto, despacho, data_despacho, coord_despacho, quem_despachou, data_extracao]\n",
       "Index: []"
      ]
     },
     "execution_count": 9,
     "metadata": {},
     "output_type": "execute_result"
    }
   ],
   "source": [
    "ad_despachos.query(\"n_processo.str.len() != 19\")\n",
    "\n",
    "# Nenhuma ação será necessária"
   ]
  },
  {
   "cell_type": "markdown",
   "metadata": {
    "id": "bUA0MGpxogJe"
   },
   "source": [
    "##### Tabela comunique-ses"
   ]
  },
  {
   "cell_type": "code",
   "execution_count": 10,
   "metadata": {
    "colab": {
     "base_uri": "https://localhost:8080/"
    },
    "id": "7Bt6UwCPo6Bw",
    "outputId": "e5c705b8-9674-49e9-b048-e377ea31a3e2",
    "tags": []
   },
   "outputs": [
    {
     "data": {
      "text/html": [
       "<div>\n",
       "<style scoped>\n",
       "    .dataframe tbody tr th:only-of-type {\n",
       "        vertical-align: middle;\n",
       "    }\n",
       "\n",
       "    .dataframe tbody tr th {\n",
       "        vertical-align: top;\n",
       "    }\n",
       "\n",
       "    .dataframe thead th {\n",
       "        text-align: right;\n",
       "    }\n",
       "</style>\n",
       "<table border=\"1\" class=\"dataframe\">\n",
       "  <thead>\n",
       "    <tr style=\"text-align: right;\">\n",
       "      <th></th>\n",
       "      <th>n_processo</th>\n",
       "      <th>data_comuniquese</th>\n",
       "      <th>coord_comuniquese</th>\n",
       "      <th>quem_comunicou</th>\n",
       "    </tr>\n",
       "  </thead>\n",
       "  <tbody>\n",
       "  </tbody>\n",
       "</table>\n",
       "</div>"
      ],
      "text/plain": [
       "Empty DataFrame\n",
       "Columns: [n_processo, data_comuniquese, coord_comuniquese, quem_comunicou]\n",
       "Index: []"
      ]
     },
     "execution_count": 10,
     "metadata": {},
     "output_type": "execute_result"
    }
   ],
   "source": [
    "ad_comuniqueses.query(\"n_processo.str.len() != 19\")\n",
    "\n",
    "# Nenhuma ação será necessária"
   ]
  },
  {
   "cell_type": "markdown",
   "metadata": {
    "id": "OgYQ3ulffCi7",
    "tags": []
   },
   "source": [
    "#### 4.2.4 Restringindo valores da tabela de despacho\n",
    "\n"
   ]
  },
  {
   "cell_type": "markdown",
   "metadata": {
    "id": "2m2-hJiwrMXr"
   },
   "source": [
    "<p align='justify'>No passado, foi encontrado pela equipe de suporte, um erro em que um <em>looping</em> ocorria no momento do despacho, gerando várias entradas de deferimento ou indeferimento em determinados processos. Atualmente este problema foi corrigido, porém mantivemos este verificador para garantir que apenas despachos reais constem na tabela.<p>\n",
    "<p align='justify'> Em caso de repetições em despacho, o processo é retirado do <em>dataframe</em> e a análise prossegue sem ele. O caso é repassado para a equipe de sustentação do sistema e, quando o problema for resolvido, voltará naturalmente a constar na análise.</p> \n",
    "<p align='justify'> Para filtrar os valores suspeitos foi escolhido o valor de 4 despachos. Considerando serem 3 instancias administrativas e ainda incluindo um despacho a mais. Em casos de erros de repetição os processos contam com valores próximos a 20 entradas de despacho.</p>"
   ]
  },
  {
   "cell_type": "code",
   "execution_count": 11,
   "metadata": {
    "colab": {
     "base_uri": "https://localhost:8080/"
    },
    "id": "rlfT04yHRmqh",
    "outputId": "7faea74a-70a7-40fb-800b-c0689e23eb21",
    "tags": []
   },
   "outputs": [
    {
     "data": {
      "text/plain": [
       "n_processo\n",
       "1020.2021/0001523-0    5\n",
       "1020.2022/0001444-8    4\n",
       "1020.2022/0003098-2    4\n",
       "1020.2021/0015180-0    4\n",
       "1020.2023/0000111-9    4\n",
       "1020.2021/0016233-0    4\n",
       "1020.2021/0009255-2    4\n",
       "1020.2021/0009587-0    4\n",
       "1020.2022/0006657-0    4\n",
       "1020.2020/0015637-0    4\n",
       "Name: count, dtype: int64"
      ]
     },
     "execution_count": 11,
     "metadata": {},
     "output_type": "execute_result"
    }
   ],
   "source": [
    "# Contando repetições em numeros de processos\n",
    "contagem = ad_despachos['n_processo'].value_counts()\n",
    "contagem[contagem > 3]"
   ]
  },
  {
   "cell_type": "markdown",
   "metadata": {
    "id": "YMWp4S6DY0sU"
   },
   "source": [
    "<p align='justify'> Destes, apenas o segundo parece aprensentar despachos duplicados. Portanto o processo será removido até este problema ser resolvido.</p>"
   ]
  },
  {
   "cell_type": "code",
   "execution_count": 12,
   "metadata": {
    "id": "M3CyDUfHZGT9",
    "tags": []
   },
   "outputs": [],
   "source": [
    "# Filtrando df por processos diferentes do que deve ser excluído\n",
    "ad_despachos = ad_despachos.query(\"n_processo != '1020.2021/0016233-0'\")"
   ]
  },
  {
   "cell_type": "code",
   "execution_count": 13,
   "metadata": {
    "colab": {
     "base_uri": "https://localhost:8080/"
    },
    "id": "xOZ_SkhqZe6G",
    "outputId": "27364c4f-4383-4a00-ed90-a68275e44989",
    "tags": []
   },
   "outputs": [
    {
     "data": {
      "text/plain": [
       "n_processo\n",
       "1020.2021/0001523-0    5\n",
       "1020.2022/0003098-2    4\n",
       "1020.2021/0015180-0    4\n",
       "1020.2021/0009255-2    4\n",
       "1020.2021/0009587-0    4\n",
       "1020.2023/0000111-9    4\n",
       "1020.2020/0015637-0    4\n",
       "1020.2022/0001444-8    4\n",
       "1020.2022/0006657-0    4\n",
       "Name: count, dtype: int64"
      ]
     },
     "execution_count": 13,
     "metadata": {},
     "output_type": "execute_result"
    }
   ],
   "source": [
    "# Testando\n",
    "contagem = ad_despachos['n_processo'].value_counts()\n",
    "contagem[contagem > 3]"
   ]
  },
  {
   "cell_type": "markdown",
   "metadata": {
    "id": "DyZ0BsfIXYkW"
   },
   "source": [
    "#### 4.2.6 Alterando os dados para o formato <em>datetime</em>\n"
   ]
  },
  {
   "cell_type": "markdown",
   "metadata": {
    "id": "p0Pmj17_2xcB"
   },
   "source": [
    "<p align='justify'> Para poder efetuar cálculos, análises e mensurações, é essencial que as colunas que tratam de dados sobre datas estejam no formato <em>datetime</em>, permitindo que operações possam ser realizadas e gráficos construídos através de <em>scripts</em>. Faremos isso usando o método to_datetime do pandas.</p>\n",
    "<p align='justify'>As operações serão realizadas nas seguintes colunas:</p>\n",
    "\n",
    "**Planilha principal (ad_main)**\n",
    "\n",
    "* data_autuacao\n",
    "\n",
    "**Planilha de despachos (ad_despacho)**\n",
    "* data_despacho\n",
    "\n",
    "**Planilha de comunique-ses (ad_comuniquese)**\n",
    "* data_comuniquese"
   ]
  },
  {
   "cell_type": "code",
   "execution_count": 14,
   "metadata": {
    "colab": {
     "base_uri": "https://localhost:8080/"
    },
    "id": "yzWTXoUAG3D8",
    "outputId": "554cc595-5ee9-4b95-dcf5-e36201131ab0",
    "tags": []
   },
   "outputs": [
    {
     "name": "stdout",
     "output_type": "stream",
     "text": [
      "<class 'pandas.core.frame.DataFrame'>\n",
      "RangeIndex: 27376 entries, 0 to 27375\n",
      "Data columns (total 6 columns):\n",
      " #   Column         Non-Null Count  Dtype         \n",
      "---  ------         --------------  -----         \n",
      " 0   n_processo     27376 non-null  object        \n",
      " 1   data_autuacao  27367 non-null  datetime64[ns]\n",
      " 2   assunto        27376 non-null  object        \n",
      " 3   coord_atual    27376 non-null  object        \n",
      " 4   status         27376 non-null  object        \n",
      " 5   data_extracao  27376 non-null  object        \n",
      "dtypes: datetime64[ns](1), object(5)\n",
      "memory usage: 1.3+ MB\n"
     ]
    }
   ],
   "source": [
    "## PLanilha principal\n",
    "# to_datetime\n",
    "ad_main['data_autuacao'] = pd.to_datetime(ad_main['data_autuacao'], dayfirst=True)\n",
    "ad_main.info()"
   ]
  },
  {
   "cell_type": "code",
   "execution_count": 15,
   "metadata": {
    "colab": {
     "base_uri": "https://localhost:8080/"
    },
    "id": "4qMLqMUvLvqR",
    "outputId": "3c6aa30f-7399-4931-f3da-c7885f3eb661",
    "tags": []
   },
   "outputs": [
    {
     "name": "stdout",
     "output_type": "stream",
     "text": [
      "<class 'pandas.core.frame.DataFrame'>\n",
      "Index: 18052 entries, 0 to 18055\n",
      "Data columns (total 7 columns):\n",
      " #   Column          Non-Null Count  Dtype         \n",
      "---  ------          --------------  -----         \n",
      " 0   n_processo      18052 non-null  object        \n",
      " 1   assunto         18052 non-null  object        \n",
      " 2   despacho        18052 non-null  object        \n",
      " 3   data_despacho   18052 non-null  datetime64[ns]\n",
      " 4   coord_despacho  12766 non-null  object        \n",
      " 5   quem_despachou  18052 non-null  object        \n",
      " 6   data_extracao   18052 non-null  object        \n",
      "dtypes: datetime64[ns](1), object(6)\n",
      "memory usage: 1.1+ MB\n"
     ]
    }
   ],
   "source": [
    "## ad_despachos\n",
    "# to_datetime\n",
    "ad_despachos['data_despacho'] = pd.to_datetime(ad_despachos['data_despacho'], dayfirst=True)\n",
    "ad_despachos.info()"
   ]
  },
  {
   "cell_type": "code",
   "execution_count": 16,
   "metadata": {
    "colab": {
     "base_uri": "https://localhost:8080/"
    },
    "id": "hf4xQxQ8RTmN",
    "outputId": "40d414a5-21ab-4ad0-c145-23f2270c9c29",
    "tags": []
   },
   "outputs": [
    {
     "name": "stdout",
     "output_type": "stream",
     "text": [
      "<class 'pandas.core.frame.DataFrame'>\n",
      "RangeIndex: 24536 entries, 0 to 24535\n",
      "Data columns (total 4 columns):\n",
      " #   Column             Non-Null Count  Dtype         \n",
      "---  ------             --------------  -----         \n",
      " 0   n_processo         24536 non-null  object        \n",
      " 1   data_comuniquese   24536 non-null  datetime64[ns]\n",
      " 2   coord_comuniquese  23645 non-null  object        \n",
      " 3   quem_comunicou     24536 non-null  object        \n",
      "dtypes: datetime64[ns](1), object(3)\n",
      "memory usage: 766.9+ KB\n"
     ]
    }
   ],
   "source": [
    "## ad_comuniqueses\n",
    "# to_datetime\n",
    "ad_comuniqueses['data_comuniquese'] = pd.to_datetime(ad_comuniqueses['data_comuniquese'], dayfirst=True)\n",
    "ad_comuniqueses.info()"
   ]
  },
  {
   "cell_type": "markdown",
   "metadata": {
    "id": "aKm_oXEzY0rv",
    "tags": []
   },
   "source": [
    "#### 4.2.7 Padronizando os despachos"
   ]
  },
  {
   "cell_type": "markdown",
   "metadata": {
    "id": "B7DIOkDmY44-"
   },
   "source": [
    "<p align='justify'> Os despachos do Aprova Digital contém três <em>status</em> diferêntes. Processo Deferido, Processo Indeferido e Processo Indeferido e Encerrado. Para está analise não importa se o processo está marcado como a <em>tag</em> encerrado, apenas se ele consta como indeferido. Para acessar o estado atual de cada processo pode-se utilizar a coluna 'status' da planilha principal</p>\n",
    "<p align='justify'> Portanto iremos trocar os campos em que consta Processo Indeferido e Finalizado para Processo Indeferido e Encerrado. Desta forma conseguiremos padronizar a análise.</p>"
   ]
  },
  {
   "cell_type": "code",
   "execution_count": 17,
   "metadata": {
    "id": "S9gze2C3cCGP",
    "tags": []
   },
   "outputs": [],
   "source": [
    "# Trocando campos com a tag processo indeferido e encerrado (finalizado) para processo indeferido\n",
    "#ad_despachos.loc[ad_despachos.despacho == 'Processo Indeferido e Encerrado', 'despacho'] = 'Processo Indeferido'\n",
    "ad_despachos.loc[ad_despachos.despacho == 'Processo Indeferido e Finalizado', 'despacho'] = 'Processo Indeferido e Encerrado'"
   ]
  },
  {
   "cell_type": "markdown",
   "metadata": {
    "id": "rbCmEEbSDrMu",
    "tags": []
   },
   "source": [
    "### 4.3 Transformando os dados para a análise"
   ]
  },
  {
   "cell_type": "markdown",
   "metadata": {
    "id": "ahpLhZj8D0o-"
   },
   "source": [
    "<p align='justify'> Na tabela de despachos temos a coluna de coordenadoria responsável pelo despacho. A informção que realmente consta é de todo o camninho até o setor de quem proferiu o despacho, como por exemplo \"SMUL/RESID/DRGP\". Portanto, será necessário criar duas novas colunas no dataframe para explorar duas informações necessárias, em primeiro lugar ter apenas a coordenadoria responsavel pelo despacho e também a divisão onde esse despacho ocorreu.</p>"
   ]
  },
  {
   "cell_type": "code",
   "execution_count": 18,
   "metadata": {
    "id": "cSR2QuNSEq7V",
    "tags": []
   },
   "outputs": [],
   "source": [
    "# Criando coluna apenas para coordenadoria na tabela de despachos\n",
    "ad_despachos['coord'] = ad_despachos['coord_despacho'].apply(lambda x: str(x).split('/')[1] if '/' in str(x) else None)\n",
    "ad_despachos['divisao'] = ad_despachos['coord_despacho'].apply(lambda x: str(x).split('/')[-1] if '/' in str(x) else None)\n",
    "ad_comuniqueses['coord'] = ad_comuniqueses['coord_comuniquese'].apply(lambda x: str(x).split('/')[1] if '/' in str(x) else None)"
   ]
  },
  {
   "cell_type": "markdown",
   "metadata": {
    "id": "inblbEylaFeB",
    "jp-MarkdownHeadingCollapsed": true,
    "tags": []
   },
   "source": [
    "## 5. Processamento SLCe"
   ]
  },
  {
   "cell_type": "markdown",
   "metadata": {
    "id": "M3zQt1hMtS-D"
   },
   "source": [
    "### 5.1 Preparação"
   ]
  },
  {
   "cell_type": "markdown",
   "metadata": {
    "id": "mz-1tKAKtZLD"
   },
   "source": [
    "<p> Adicionando as tabelas para o SLCe</p>"
   ]
  },
  {
   "cell_type": "code",
   "execution_count": 19,
   "metadata": {
    "colab": {
     "base_uri": "https://localhost:8080/"
    },
    "id": "o7wKonjDbSYJ",
    "outputId": "719152b2-e4a6-442a-953f-ca9da04edf0f",
    "tags": []
   },
   "outputs": [
    {
     "name": "stdout",
     "output_type": "stream",
     "text": [
      "<class 'pandas.core.frame.DataFrame'>\n",
      "RangeIndex: 36546 entries, 0 to 36545\n",
      "Data columns (total 7 columns):\n",
      " #   Column         Non-Null Count  Dtype \n",
      "---  ------         --------------  ----- \n",
      " 0   n_processo     36546 non-null  object\n",
      " 1   data_autuacao  36546 non-null  object\n",
      " 2   assunto        36546 non-null  object\n",
      " 3   coord_atual    36546 non-null  object\n",
      " 4   status         36546 non-null  object\n",
      " 5   n_protocolo    36546 non-null  object\n",
      " 6   data_extracao  36546 non-null  object\n",
      "dtypes: object(7)\n",
      "memory usage: 2.0+ MB\n"
     ]
    }
   ],
   "source": [
    "# Adicionando a tabela principal para o SLCe\n",
    "slce_main = pd.read_csv(f'{dir_cleaned_data}/slce_principal.csv', encoding='latin-1', sep=';')\n",
    "slce_main.info()"
   ]
  },
  {
   "cell_type": "code",
   "execution_count": 20,
   "metadata": {
    "colab": {
     "base_uri": "https://localhost:8080/"
    },
    "id": "tbcXpIu7f8bz",
    "outputId": "a6083dbd-a35e-4728-de63-87ba10cbafd5",
    "tags": []
   },
   "outputs": [
    {
     "name": "stdout",
     "output_type": "stream",
     "text": [
      "<class 'pandas.core.frame.DataFrame'>\n",
      "RangeIndex: 30057 entries, 0 to 30056\n",
      "Data columns (total 8 columns):\n",
      " #   Column          Non-Null Count  Dtype \n",
      "---  ------          --------------  ----- \n",
      " 0   n_processo      30057 non-null  object\n",
      " 1   assunto         30057 non-null  object\n",
      " 2   deferido        30057 non-null  object\n",
      " 3   data_despacho   30057 non-null  object\n",
      " 4   coord_despacho  30057 non-null  object\n",
      " 5   situacao        30057 non-null  object\n",
      " 6   n_protocolo     30057 non-null  object\n",
      " 7   data_extracao   30057 non-null  object\n",
      "dtypes: object(8)\n",
      "memory usage: 1.8+ MB\n"
     ]
    }
   ],
   "source": [
    "# Adicionando a tabela de despachos para o SLCe\n",
    "slce_despachos = pd.read_csv(f'{dir_cleaned_data}/slce_despachos.csv', encoding='latin-1', sep=';')\n",
    "slce_despachos.info()"
   ]
  },
  {
   "cell_type": "code",
   "execution_count": 21,
   "metadata": {
    "colab": {
     "base_uri": "https://localhost:8080/"
    },
    "id": "ahNBydPTgixx",
    "outputId": "fc070a39-68e2-438e-8958-e22a49a665ce",
    "tags": []
   },
   "outputs": [
    {
     "name": "stdout",
     "output_type": "stream",
     "text": [
      "<class 'pandas.core.frame.DataFrame'>\n",
      "RangeIndex: 28790 entries, 0 to 28789\n",
      "Data columns (total 5 columns):\n",
      " #   Column             Non-Null Count  Dtype \n",
      "---  ------             --------------  ----- \n",
      " 0   n_processo         28790 non-null  object\n",
      " 1   data_comuniquese   28790 non-null  object\n",
      " 2   coord_comuniquese  28790 non-null  object\n",
      " 3   n_protocolo        28790 non-null  object\n",
      " 4   data_extracao      28790 non-null  object\n",
      "dtypes: object(5)\n",
      "memory usage: 1.1+ MB\n"
     ]
    }
   ],
   "source": [
    "# Adicionando a tabela de comunique-ses para o SLCe\n",
    "slce_comuniqueses = pd.read_csv(f'{dir_cleaned_data}/slce_comuniqueses.csv', encoding='latin-1', sep=';')\n",
    "slce_comuniqueses.info()"
   ]
  },
  {
   "cell_type": "markdown",
   "metadata": {
    "id": "zmUdkwtCUvsb"
   },
   "source": [
    "### 5.2 Verificando a integridade dos dados"
   ]
  },
  {
   "cell_type": "markdown",
   "metadata": {
    "id": "2_ajM1mhq7nH"
   },
   "source": [
    "#### 5.2.1 Alterações realizadas nos dataframes "
   ]
  },
  {
   "cell_type": "markdown",
   "metadata": {
    "id": "8xKFlF8IrBEW"
   },
   "source": [
    "**Tabela principal**\n",
    "\n",
    "* Nomes de coluna padronizados para ['n_processo', 'data_autuacao', 'assunto', 'coord_atual', 'status']\n",
    "\n",
    "* Adicionada coluna 'data_extração', que contém em todas as linhas a mesma data de quando a tabela foi extraída.\n",
    "\n",
    "**Tabela despachos**\n",
    "* Nomes de colunas padronizados: ['n_processo', 'deferido', 'data_despacho', 'coord_despacho']\n",
    "\n",
    "* Exclusão de linhas que não apresentam despacho: Na tabela constam processos com despacho em fase de processamento. Nessas linhas não há data de despacho e nesses casos a linha foi excluída, uma vez que o despacho ainda vai ocorrer.\n",
    "\n",
    "* Adicionada coluna 'data_extração', que contém em todas as linhas a mesma data de quando a tabela foi extraída.\n",
    "\n",
    "**Tabela de comuniqueses**\n",
    "\n",
    "* Nomes de colunas padronizados: ['n_processo', 'data_comuniquese','coord_comuniquese']\n",
    "\n",
    "* Adicionada coluna 'data_extração', que contém em todas as linhas a mesma data de quando a tabela foi extraída.\n",
    "\n"
   ]
  },
  {
   "cell_type": "markdown",
   "metadata": {
    "id": "Mkw5KJ7UWAwp"
   },
   "source": [
    "##### Padronizando nomes das colunas"
   ]
  },
  {
   "cell_type": "markdown",
   "metadata": {
    "id": "6DqNAJsCdIvv"
   },
   "source": [
    "<p> Nomes já foram padronizados na extração</p>"
   ]
  },
  {
   "cell_type": "markdown",
   "metadata": {
    "id": "U-ne2wBCVgZm"
   },
   "source": [
    "##### Verificando a integridade das tabelas"
   ]
  },
  {
   "cell_type": "markdown",
   "metadata": {
    "id": "qxTAqML-VusS"
   },
   "source": [
    "\n",
    "<b>Tabela Principal</b>"
   ]
  },
  {
   "cell_type": "code",
   "execution_count": 22,
   "metadata": {
    "colab": {
     "base_uri": "https://localhost:8080/"
    },
    "id": "OWYVWxxmUt4i",
    "outputId": "7112c440-58d3-45b7-97c3-5bbe0c027bc1",
    "tags": []
   },
   "outputs": [
    {
     "name": "stdout",
     "output_type": "stream",
     "text": [
      "['Alvará de Aprovação de Edificação Nova' 'Alvará de Aprovação de Reforma'\n",
      " 'Alvará de Desdobro de Lote' 'Alvará de Execução de Edificação Nova'\n",
      " 'Alvará de Execução de Reforma' 'Alvará de Remembramento de Lote'\n",
      " 'Alvará de Remembramento e Desdobro de Lote'\n",
      " 'Alvará de Licença para Residências Unifamiliares'\n",
      " 'Certificado de Conclusão' 'Alvará de Desmembramento de Lote'\n",
      " 'Alvará de Aprovação e Execução para Residência Unifamiliar'\n",
      " 'Alvará de Execução de Demolição' 'Certificado de Conclusão de Demolição'\n",
      " 'Alvará de Reparcelamento de Lote'\n",
      " 'Alvará de Autorização para avanço de Tapume sobre parte do Passeio Público'\n",
      " 'Alvará de Autorização de Implantação e/ou Utilização de Estande de Vendas'\n",
      " 'Alvará de Autorização para Implantação e Utilização de Equipamento Transitório - Grua(s)'\n",
      " 'Comunicação de Execução de Obras Emergenciais']\n",
      "['RESID' 'COMIN' 'SERVIN' 'PARHIS-3' 'PARHIS-G' 'GAB' 'CONTRU-G'\n",
      " 'CAEPP-DERPP' 'COMIN-GTEA' 'CAEPP' 'PARHIS-DPS' 'Processo Eletrônico']\n",
      "['Processo Físico' 'Deferido - Encerrado' 'Indeferido' 'Em Análise'\n",
      " 'Cancelado' 'Solicitação Enviada' 'Indeferido - Encerrado'\n",
      " 'Em Comunique-se' 'Processando Despacho' 'Processando Comunique-se']\n"
     ]
    }
   ],
   "source": [
    "# Vericando entradas de do campo assunto e coord_atual\n",
    "print(slce_main['assunto'].unique())\n",
    "print(slce_main['coord_atual'].unique())\n",
    "print(slce_main['status'].unique())"
   ]
  },
  {
   "cell_type": "markdown",
   "metadata": {
    "id": "cyGI2n2AYkYM"
   },
   "source": [
    "<b> Despachos</b>"
   ]
  },
  {
   "cell_type": "code",
   "execution_count": 23,
   "metadata": {
    "colab": {
     "base_uri": "https://localhost:8080/"
    },
    "id": "ZT7cLJJKYgnU",
    "outputId": "e32ef9f0-8b24-4f67-b110-e647021153e1",
    "tags": []
   },
   "outputs": [
    {
     "name": "stdout",
     "output_type": "stream",
     "text": [
      "['Não' 'Sim']\n",
      "['CAEPP-DERPP' 'COMIN' 'PARHIS-G' 'RESID' 'COMIN-GTEA' 'SERVIN' 'CONTRU-G'\n",
      " 'GAB' 'PARHIS-3' 'CAEPP' 'Processo Eletrônico']\n"
     ]
    }
   ],
   "source": [
    "# Verificando entradas para os campos 'deferido' e 'coord_despacho'\n",
    "print(slce_despachos['deferido'].unique())\n",
    "print(slce_despachos['coord_despacho'].unique())"
   ]
  },
  {
   "cell_type": "markdown",
   "metadata": {
    "id": "8lCLED57ZMx0"
   },
   "source": [
    "<b> Comunique-ses </b>"
   ]
  },
  {
   "cell_type": "code",
   "execution_count": 24,
   "metadata": {
    "colab": {
     "base_uri": "https://localhost:8080/"
    },
    "id": "kIkqcDlmZQOn",
    "outputId": "dd935d96-44a1-4b8a-a313-2aee6025087d",
    "tags": []
   },
   "outputs": [
    {
     "data": {
      "text/plain": [
       "array(['RESID', 'SERVIN', 'PARHIS-G', 'COMIN', 'GAB', 'PARHIS-3',\n",
       "       'CAEPP-DERPP', 'COMIN-GTEA', 'CAEPP', 'PARHIS-DPS'], dtype=object)"
      ]
     },
     "execution_count": 24,
     "metadata": {},
     "output_type": "execute_result"
    }
   ],
   "source": [
    "# Verificando entradas para os campos 'coord_comuniquese'\n",
    "slce_comuniqueses['coord_comuniquese'].unique()"
   ]
  },
  {
   "cell_type": "markdown",
   "metadata": {
    "id": "DDUEyGqkZnN8"
   },
   "source": [
    "<p align='justify'> Atualmente apenas duas divisões de SMUL utilizam o SLCe, porém pode-se notar nos dados diversas outras coordenadorias e divisões.</p>\n",
    "<p align='justify'> Outro ponto de atenção é o grande número de processos que constam em análise mas que, as vezes, tem mais de 10 anos. Provavelmente não é confiavel agrupar os dados pelo seu status.</p>\n",
    "<p align='justify'> Além do informado acima, nada mais foi encontrado, uma vez que os dados estão completos e os campos de data já estão formatados</p>"
   ]
  },
  {
   "cell_type": "markdown",
   "metadata": {
    "id": "a865AQbgGoYR"
   },
   "source": [
    "##### Verificando alteração de nomes de coordenadorias"
   ]
  },
  {
   "cell_type": "markdown",
   "metadata": {
    "id": "w8DE04ZXG1JQ"
   },
   "source": [
    "<p> Essa verificação visa determinar se, para RESID e para COMIN, tem outras divisões presentes no sistema atualmente, além de GTEL e COMIN-GTEA.</p>"
   ]
  },
  {
   "cell_type": "code",
   "execution_count": 25,
   "metadata": {
    "colab": {
     "base_uri": "https://localhost:8080/"
    },
    "id": "l_7TdTWrGzmg",
    "outputId": "3df45620-ff2e-40af-b2f1-a3f73e77e3b3",
    "tags": []
   },
   "outputs": [
    {
     "data": {
      "text/html": [
       "<div>\n",
       "<style scoped>\n",
       "    .dataframe tbody tr th:only-of-type {\n",
       "        vertical-align: middle;\n",
       "    }\n",
       "\n",
       "    .dataframe tbody tr th {\n",
       "        vertical-align: top;\n",
       "    }\n",
       "\n",
       "    .dataframe thead th {\n",
       "        text-align: right;\n",
       "    }\n",
       "</style>\n",
       "<table border=\"1\" class=\"dataframe\">\n",
       "  <thead>\n",
       "    <tr style=\"text-align: right;\">\n",
       "      <th></th>\n",
       "      <th>n_processo</th>\n",
       "      <th>assunto</th>\n",
       "      <th>deferido</th>\n",
       "      <th>data_despacho</th>\n",
       "      <th>coord_despacho</th>\n",
       "      <th>situacao</th>\n",
       "      <th>n_protocolo</th>\n",
       "      <th>data_extracao</th>\n",
       "    </tr>\n",
       "  </thead>\n",
       "  <tbody>\n",
       "    <tr>\n",
       "      <th>610</th>\n",
       "      <td>2013-0.239.009-7</td>\n",
       "      <td>Alvará de Execução de Reforma</td>\n",
       "      <td>Não</td>\n",
       "      <td>30/11/2016 00:00</td>\n",
       "      <td>RESID</td>\n",
       "      <td>Indeferido</td>\n",
       "      <td>14537-13</td>\n",
       "      <td>2023.10.03</td>\n",
       "    </tr>\n",
       "    <tr>\n",
       "      <th>10687</th>\n",
       "      <td>2013-0.102.696-0</td>\n",
       "      <td>Alvará de Execução de Edificação Nova</td>\n",
       "      <td>Não</td>\n",
       "      <td>30/11/2016 00:00</td>\n",
       "      <td>RESID</td>\n",
       "      <td>Indeferido</td>\n",
       "      <td>6456-13</td>\n",
       "      <td>2023.10.03</td>\n",
       "    </tr>\n",
       "    <tr>\n",
       "      <th>10644</th>\n",
       "      <td>2013-0.063.179-8</td>\n",
       "      <td>Alvará de Execução de Edificação Nova</td>\n",
       "      <td>Não</td>\n",
       "      <td>30/11/2016 00:00</td>\n",
       "      <td>RESID</td>\n",
       "      <td>Indeferido</td>\n",
       "      <td>3566-13</td>\n",
       "      <td>2023.10.03</td>\n",
       "    </tr>\n",
       "    <tr>\n",
       "      <th>10637</th>\n",
       "      <td>2013-0.063.109-7</td>\n",
       "      <td>Alvará de Execução de Edificação Nova</td>\n",
       "      <td>Não</td>\n",
       "      <td>30/11/2016 00:00</td>\n",
       "      <td>RESID</td>\n",
       "      <td>Indeferido</td>\n",
       "      <td>3533-13</td>\n",
       "      <td>2023.10.03</td>\n",
       "    </tr>\n",
       "    <tr>\n",
       "      <th>10634</th>\n",
       "      <td>2013-0.053.068-1</td>\n",
       "      <td>Alvará de Execução de Edificação Nova</td>\n",
       "      <td>Não</td>\n",
       "      <td>30/11/2016 00:00</td>\n",
       "      <td>RESID</td>\n",
       "      <td>Indeferido</td>\n",
       "      <td>3191-13</td>\n",
       "      <td>2023.10.03</td>\n",
       "    </tr>\n",
       "    <tr>\n",
       "      <th>...</th>\n",
       "      <td>...</td>\n",
       "      <td>...</td>\n",
       "      <td>...</td>\n",
       "      <td>...</td>\n",
       "      <td>...</td>\n",
       "      <td>...</td>\n",
       "      <td>...</td>\n",
       "      <td>...</td>\n",
       "    </tr>\n",
       "    <tr>\n",
       "      <th>3426</th>\n",
       "      <td>2014-0.311.566-0</td>\n",
       "      <td>Alvará de Aprovação de Reforma</td>\n",
       "      <td>Não</td>\n",
       "      <td>02/12/2016 00:00</td>\n",
       "      <td>RESID</td>\n",
       "      <td>Indeferido</td>\n",
       "      <td>31397-14</td>\n",
       "      <td>2023.10.03</td>\n",
       "    </tr>\n",
       "    <tr>\n",
       "      <th>3427</th>\n",
       "      <td>2014-0.317.589-2</td>\n",
       "      <td>Alvará de Execução de Reforma</td>\n",
       "      <td>Não</td>\n",
       "      <td>02/12/2016 00:00</td>\n",
       "      <td>RESID</td>\n",
       "      <td>Indeferido</td>\n",
       "      <td>30871-14</td>\n",
       "      <td>2023.10.03</td>\n",
       "    </tr>\n",
       "    <tr>\n",
       "      <th>3428</th>\n",
       "      <td>2014-0.319.984-8</td>\n",
       "      <td>Alvará de Aprovação de Reforma</td>\n",
       "      <td>Não</td>\n",
       "      <td>02/12/2016 00:00</td>\n",
       "      <td>RESID</td>\n",
       "      <td>Indeferido</td>\n",
       "      <td>32090-14</td>\n",
       "      <td>2023.10.03</td>\n",
       "    </tr>\n",
       "    <tr>\n",
       "      <th>3430</th>\n",
       "      <td>2014-0.324.516-5</td>\n",
       "      <td>Alvará de Aprovação de Edificação Nova</td>\n",
       "      <td>Não</td>\n",
       "      <td>02/12/2016 00:00</td>\n",
       "      <td>RESID</td>\n",
       "      <td>Indeferido</td>\n",
       "      <td>30881-14</td>\n",
       "      <td>2023.10.03</td>\n",
       "    </tr>\n",
       "    <tr>\n",
       "      <th>3418</th>\n",
       "      <td>2014-0.294.922-3</td>\n",
       "      <td>Alvará de Aprovação de Reforma</td>\n",
       "      <td>Não</td>\n",
       "      <td>02/12/2016 00:00</td>\n",
       "      <td>RESID</td>\n",
       "      <td>Indeferido</td>\n",
       "      <td>28775-14</td>\n",
       "      <td>2023.10.03</td>\n",
       "    </tr>\n",
       "  </tbody>\n",
       "</table>\n",
       "<p>395 rows × 8 columns</p>\n",
       "</div>"
      ],
      "text/plain": [
       "             n_processo                                 assunto deferido  \\\n",
       "610    2013-0.239.009-7           Alvará de Execução de Reforma      Não   \n",
       "10687  2013-0.102.696-0   Alvará de Execução de Edificação Nova      Não   \n",
       "10644  2013-0.063.179-8   Alvará de Execução de Edificação Nova      Não   \n",
       "10637  2013-0.063.109-7   Alvará de Execução de Edificação Nova      Não   \n",
       "10634  2013-0.053.068-1   Alvará de Execução de Edificação Nova      Não   \n",
       "...                 ...                                     ...      ...   \n",
       "3426   2014-0.311.566-0          Alvará de Aprovação de Reforma      Não   \n",
       "3427   2014-0.317.589-2           Alvará de Execução de Reforma      Não   \n",
       "3428   2014-0.319.984-8          Alvará de Aprovação de Reforma      Não   \n",
       "3430   2014-0.324.516-5  Alvará de Aprovação de Edificação Nova      Não   \n",
       "3418   2014-0.294.922-3          Alvará de Aprovação de Reforma      Não   \n",
       "\n",
       "          data_despacho coord_despacho    situacao n_protocolo data_extracao  \n",
       "610    30/11/2016 00:00          RESID  Indeferido    14537-13    2023.10.03  \n",
       "10687  30/11/2016 00:00          RESID  Indeferido     6456-13    2023.10.03  \n",
       "10644  30/11/2016 00:00          RESID  Indeferido     3566-13    2023.10.03  \n",
       "10637  30/11/2016 00:00          RESID  Indeferido     3533-13    2023.10.03  \n",
       "10634  30/11/2016 00:00          RESID  Indeferido     3191-13    2023.10.03  \n",
       "...                 ...            ...         ...         ...           ...  \n",
       "3426   02/12/2016 00:00          RESID  Indeferido    31397-14    2023.10.03  \n",
       "3427   02/12/2016 00:00          RESID  Indeferido    30871-14    2023.10.03  \n",
       "3428   02/12/2016 00:00          RESID  Indeferido    32090-14    2023.10.03  \n",
       "3430   02/12/2016 00:00          RESID  Indeferido    30881-14    2023.10.03  \n",
       "3418   02/12/2016 00:00          RESID  Indeferido    28775-14    2023.10.03  \n",
       "\n",
       "[395 rows x 8 columns]"
      ]
     },
     "execution_count": 25,
     "metadata": {},
     "output_type": "execute_result"
    }
   ],
   "source": [
    "# Classificando dados de despachos RESID em ordem decrescente\n",
    "slce_despachos.query(\"coord_despacho == 'RESID'\").sort_values('data_despacho', ascending=False)"
   ]
  },
  {
   "cell_type": "markdown",
   "metadata": {
    "id": "IljsdI2THxLr"
   },
   "source": [
    "<p> Pode ser observado que para RESID não existem despachos atualmente</p>"
   ]
  },
  {
   "cell_type": "code",
   "execution_count": 26,
   "metadata": {
    "colab": {
     "base_uri": "https://localhost:8080/"
    },
    "id": "tZ8U29hIH_Iv",
    "outputId": "c96aa7fd-3872-4e88-f8eb-d65a3a6acb84",
    "tags": []
   },
   "outputs": [
    {
     "data": {
      "text/html": [
       "<div>\n",
       "<style scoped>\n",
       "    .dataframe tbody tr th:only-of-type {\n",
       "        vertical-align: middle;\n",
       "    }\n",
       "\n",
       "    .dataframe tbody tr th {\n",
       "        vertical-align: top;\n",
       "    }\n",
       "\n",
       "    .dataframe thead th {\n",
       "        text-align: right;\n",
       "    }\n",
       "</style>\n",
       "<table border=\"1\" class=\"dataframe\">\n",
       "  <thead>\n",
       "    <tr style=\"text-align: right;\">\n",
       "      <th></th>\n",
       "      <th>n_processo</th>\n",
       "      <th>data_comuniquese</th>\n",
       "      <th>coord_comuniquese</th>\n",
       "      <th>n_protocolo</th>\n",
       "      <th>data_extracao</th>\n",
       "    </tr>\n",
       "  </thead>\n",
       "  <tbody>\n",
       "    <tr>\n",
       "      <th>205</th>\n",
       "      <td>2013-0.016.720-0</td>\n",
       "      <td>31/10/2013 16:35</td>\n",
       "      <td>RESID</td>\n",
       "      <td>666-13</td>\n",
       "      <td>2023.10.03</td>\n",
       "    </tr>\n",
       "    <tr>\n",
       "      <th>111</th>\n",
       "      <td>2012-0.358.859-0</td>\n",
       "      <td>31/07/2013 11:38</td>\n",
       "      <td>RESID</td>\n",
       "      <td>5977-12</td>\n",
       "      <td>2023.10.03</td>\n",
       "    </tr>\n",
       "    <tr>\n",
       "      <th>110</th>\n",
       "      <td>2013-0.088.610-9</td>\n",
       "      <td>31/07/2013 11:31</td>\n",
       "      <td>RESID</td>\n",
       "      <td>4577-13</td>\n",
       "      <td>2023.10.03</td>\n",
       "    </tr>\n",
       "    <tr>\n",
       "      <th>149</th>\n",
       "      <td>2012-0.358.901-4</td>\n",
       "      <td>30/08/2013 16:38</td>\n",
       "      <td>RESID</td>\n",
       "      <td>6716-12</td>\n",
       "      <td>2023.10.03</td>\n",
       "    </tr>\n",
       "    <tr>\n",
       "      <th>109</th>\n",
       "      <td>2013-0.038.565-7</td>\n",
       "      <td>30/07/2013 17:40</td>\n",
       "      <td>RESID</td>\n",
       "      <td>6255-12</td>\n",
       "      <td>2023.10.03</td>\n",
       "    </tr>\n",
       "    <tr>\n",
       "      <th>...</th>\n",
       "      <td>...</td>\n",
       "      <td>...</td>\n",
       "      <td>...</td>\n",
       "      <td>...</td>\n",
       "      <td>...</td>\n",
       "    </tr>\n",
       "    <tr>\n",
       "      <th>267</th>\n",
       "      <td>2013-0.053.016-9</td>\n",
       "      <td>02/04/2014 10:59</td>\n",
       "      <td>RESID</td>\n",
       "      <td>2920-13</td>\n",
       "      <td>2023.10.03</td>\n",
       "    </tr>\n",
       "    <tr>\n",
       "      <th>78</th>\n",
       "      <td>2013-0.042.299-4</td>\n",
       "      <td>02/04/2013 15:26</td>\n",
       "      <td>RESID</td>\n",
       "      <td>2090-13</td>\n",
       "      <td>2023.10.03</td>\n",
       "    </tr>\n",
       "    <tr>\n",
       "      <th>77</th>\n",
       "      <td>2013-0.035.050-0</td>\n",
       "      <td>02/04/2013 11:24</td>\n",
       "      <td>RESID</td>\n",
       "      <td>1604-13</td>\n",
       "      <td>2023.10.03</td>\n",
       "    </tr>\n",
       "    <tr>\n",
       "      <th>0</th>\n",
       "      <td>2012-0.292.446-4</td>\n",
       "      <td>01/11/2012 17:40</td>\n",
       "      <td>RESID</td>\n",
       "      <td>419-12</td>\n",
       "      <td>2023.10.03</td>\n",
       "    </tr>\n",
       "    <tr>\n",
       "      <th>75</th>\n",
       "      <td>2012-0.307.528-2</td>\n",
       "      <td>01/04/2013 17:32</td>\n",
       "      <td>RESID</td>\n",
       "      <td>2153-12</td>\n",
       "      <td>2023.10.03</td>\n",
       "    </tr>\n",
       "  </tbody>\n",
       "</table>\n",
       "<p>113 rows × 5 columns</p>\n",
       "</div>"
      ],
      "text/plain": [
       "           n_processo  data_comuniquese coord_comuniquese n_protocolo  \\\n",
       "205  2013-0.016.720-0  31/10/2013 16:35             RESID      666-13   \n",
       "111  2012-0.358.859-0  31/07/2013 11:38             RESID     5977-12   \n",
       "110  2013-0.088.610-9  31/07/2013 11:31             RESID     4577-13   \n",
       "149  2012-0.358.901-4  30/08/2013 16:38             RESID     6716-12   \n",
       "109  2013-0.038.565-7  30/07/2013 17:40             RESID     6255-12   \n",
       "..                ...               ...               ...         ...   \n",
       "267  2013-0.053.016-9  02/04/2014 10:59             RESID     2920-13   \n",
       "78   2013-0.042.299-4  02/04/2013 15:26             RESID     2090-13   \n",
       "77   2013-0.035.050-0  02/04/2013 11:24             RESID     1604-13   \n",
       "0    2012-0.292.446-4  01/11/2012 17:40             RESID      419-12   \n",
       "75   2012-0.307.528-2  01/04/2013 17:32             RESID     2153-12   \n",
       "\n",
       "    data_extracao  \n",
       "205    2023.10.03  \n",
       "111    2023.10.03  \n",
       "110    2023.10.03  \n",
       "149    2023.10.03  \n",
       "109    2023.10.03  \n",
       "..            ...  \n",
       "267    2023.10.03  \n",
       "78     2023.10.03  \n",
       "77     2023.10.03  \n",
       "0      2023.10.03  \n",
       "75     2023.10.03  \n",
       "\n",
       "[113 rows x 5 columns]"
      ]
     },
     "execution_count": 26,
     "metadata": {},
     "output_type": "execute_result"
    }
   ],
   "source": [
    "# Classificando dados de comunique-ses de RESID em ordem decrescente\n",
    "slce_comuniqueses.query(\"coord_comuniquese == 'RESID'\").sort_values('data_comuniquese', ascending=False)"
   ]
  },
  {
   "cell_type": "markdown",
   "metadata": {
    "id": "zgSYQUG2IerL"
   },
   "source": [
    "<p> Mesma coisa para comuniqueses</p>"
   ]
  },
  {
   "cell_type": "markdown",
   "metadata": {
    "id": "6ssazK6tIomr"
   },
   "source": [
    "<<<<< DEVE SER FEITO PARA OUTRAS DIVISÕES >>>>>"
   ]
  },
  {
   "cell_type": "markdown",
   "metadata": {
    "id": "FH6Whre5r2CM"
   },
   "source": [
    "### 5.3 Transformando campos em datetime"
   ]
  },
  {
   "cell_type": "code",
   "execution_count": 27,
   "metadata": {
    "id": "0xklmhnysCfm",
    "tags": []
   },
   "outputs": [],
   "source": [
    "# campo data_autuacao da tabela principal\n",
    "slce_main['data_autuacao'] = pd.to_datetime(slce_main['data_autuacao'], dayfirst=True)\n",
    "\n",
    "# campo data_despacho da tabela de despachos\n",
    "slce_despachos['data_despacho'] = pd.to_datetime(slce_despachos['data_despacho'], dayfirst=True)\n",
    "\n",
    "# campo data_comuniquese para a tabela de comunique-ses\n",
    "slce_comuniqueses['data_comuniquese'] = pd.to_datetime(slce_comuniqueses['data_comuniquese'], dayfirst=True)"
   ]
  },
  {
   "cell_type": "code",
   "execution_count": 28,
   "metadata": {
    "tags": []
   },
   "outputs": [
    {
     "name": "stdout",
     "output_type": "stream",
     "text": [
      "<class 'pandas.core.frame.DataFrame'>\n",
      "RangeIndex: 36546 entries, 0 to 36545\n",
      "Data columns (total 7 columns):\n",
      " #   Column         Non-Null Count  Dtype         \n",
      "---  ------         --------------  -----         \n",
      " 0   n_processo     36546 non-null  object        \n",
      " 1   data_autuacao  36546 non-null  datetime64[ns]\n",
      " 2   assunto        36546 non-null  object        \n",
      " 3   coord_atual    36546 non-null  object        \n",
      " 4   status         36546 non-null  object        \n",
      " 5   n_protocolo    36546 non-null  object        \n",
      " 6   data_extracao  36546 non-null  object        \n",
      "dtypes: datetime64[ns](1), object(6)\n",
      "memory usage: 2.0+ MB\n",
      "<class 'pandas.core.frame.DataFrame'>\n",
      "RangeIndex: 30057 entries, 0 to 30056\n",
      "Data columns (total 8 columns):\n",
      " #   Column          Non-Null Count  Dtype         \n",
      "---  ------          --------------  -----         \n",
      " 0   n_processo      30057 non-null  object        \n",
      " 1   assunto         30057 non-null  object        \n",
      " 2   deferido        30057 non-null  object        \n",
      " 3   data_despacho   30057 non-null  datetime64[ns]\n",
      " 4   coord_despacho  30057 non-null  object        \n",
      " 5   situacao        30057 non-null  object        \n",
      " 6   n_protocolo     30057 non-null  object        \n",
      " 7   data_extracao   30057 non-null  object        \n",
      "dtypes: datetime64[ns](1), object(7)\n",
      "memory usage: 1.8+ MB\n",
      "<class 'pandas.core.frame.DataFrame'>\n",
      "RangeIndex: 28790 entries, 0 to 28789\n",
      "Data columns (total 5 columns):\n",
      " #   Column             Non-Null Count  Dtype         \n",
      "---  ------             --------------  -----         \n",
      " 0   n_processo         28790 non-null  object        \n",
      " 1   data_comuniquese   28790 non-null  datetime64[ns]\n",
      " 2   coord_comuniquese  28790 non-null  object        \n",
      " 3   n_protocolo        28790 non-null  object        \n",
      " 4   data_extracao      28790 non-null  object        \n",
      "dtypes: datetime64[ns](1), object(4)\n",
      "memory usage: 1.1+ MB\n"
     ]
    }
   ],
   "source": [
    "slce_main.info()\n",
    "slce_despachos.info()\n",
    "slce_comuniqueses.info()"
   ]
  },
  {
   "cell_type": "markdown",
   "metadata": {
    "id": "u7C3coHZmd9t",
    "jp-MarkdownHeadingCollapsed": true,
    "tags": []
   },
   "source": [
    "## 6. Processamento SISSEL"
   ]
  },
  {
   "cell_type": "code",
   "execution_count": 29,
   "metadata": {
    "colab": {
     "base_uri": "https://localhost:8080/"
    },
    "id": "yCkffwjV1I8K",
    "outputId": "ab4f641f-de95-4e24-973b-65a75aec052b",
    "tags": []
   },
   "outputs": [
    {
     "name": "stdout",
     "output_type": "stream",
     "text": [
      "<class 'pandas.core.frame.DataFrame'>\n",
      "RangeIndex: 76228 entries, 0 to 76227\n",
      "Data columns (total 6 columns):\n",
      " #   Column          Non-Null Count  Dtype \n",
      "---  ------          --------------  ----- \n",
      " 0   assunto         76228 non-null  object\n",
      " 1   situacao        76228 non-null  object\n",
      " 2   data_despacho   76228 non-null  object\n",
      " 3   coord_despacho  76228 non-null  object\n",
      " 4   n_processo      76228 non-null  object\n",
      " 5   data_extracao   76228 non-null  object\n",
      "dtypes: object(6)\n",
      "memory usage: 3.5+ MB\n"
     ]
    }
   ],
   "source": [
    "# Tabela de despachos\n",
    "sissel_despachos = pd.read_csv(f'{dir_cleaned_data}/sissel_despachos.csv', sep=';')\n",
    "sissel_despachos.info()"
   ]
  },
  {
   "cell_type": "code",
   "execution_count": 30,
   "metadata": {
    "colab": {
     "base_uri": "https://localhost:8080/"
    },
    "id": "-GODqyZMEWZU",
    "outputId": "cdbfb4c7-6437-4046-a210-c08bf120bd30",
    "tags": []
   },
   "outputs": [
    {
     "data": {
      "text/html": [
       "<div>\n",
       "<style scoped>\n",
       "    .dataframe tbody tr th:only-of-type {\n",
       "        vertical-align: middle;\n",
       "    }\n",
       "\n",
       "    .dataframe tbody tr th {\n",
       "        vertical-align: top;\n",
       "    }\n",
       "\n",
       "    .dataframe thead th {\n",
       "        text-align: right;\n",
       "    }\n",
       "</style>\n",
       "<table border=\"1\" class=\"dataframe\">\n",
       "  <thead>\n",
       "    <tr style=\"text-align: right;\">\n",
       "      <th></th>\n",
       "      <th>assunto</th>\n",
       "      <th>situacao</th>\n",
       "      <th>data_despacho</th>\n",
       "      <th>coord_despacho</th>\n",
       "      <th>n_processo</th>\n",
       "      <th>data_extracao</th>\n",
       "    </tr>\n",
       "  </thead>\n",
       "  <tbody>\n",
       "    <tr>\n",
       "      <th>0</th>\n",
       "      <td>ALVARA DE APROVACAO DE SISTEMA DE SEGURANCA</td>\n",
       "      <td>COM PROPOSTA DE DEFERIMENTO</td>\n",
       "      <td>2014-10-29</td>\n",
       "      <td>SEL/CONTRU/DSUS</td>\n",
       "      <td>2014-0291888-3</td>\n",
       "      <td>2023.10.03</td>\n",
       "    </tr>\n",
       "    <tr>\n",
       "      <th>1</th>\n",
       "      <td>ALVARA DE EXECUCAO DE SISTEMA DE SEGURANCA</td>\n",
       "      <td>COM PROPOSTA DE DEFERIMENTO</td>\n",
       "      <td>2014-10-29</td>\n",
       "      <td>SEL/CONTRU/DSUS</td>\n",
       "      <td>2014-0291888-3</td>\n",
       "      <td>2023.10.03</td>\n",
       "    </tr>\n",
       "    <tr>\n",
       "      <th>2</th>\n",
       "      <td>AUTO DE VERIFICACAO DE SEGURANCA</td>\n",
       "      <td>COM PROPOSTA DE DEFERIMENTO</td>\n",
       "      <td>2014-10-29</td>\n",
       "      <td>SEL/CONTRU/DSUS</td>\n",
       "      <td>2013-0368239-3</td>\n",
       "      <td>2023.10.03</td>\n",
       "    </tr>\n",
       "    <tr>\n",
       "      <th>3</th>\n",
       "      <td>ALVARA DE APROVACAO DE SISTEMA DE SEGURANCA</td>\n",
       "      <td>COM PROPOSTA DE DEFERIMENTO</td>\n",
       "      <td>2014-10-30</td>\n",
       "      <td>SEL/CONTRU/DSUS</td>\n",
       "      <td>2014-0241287-4</td>\n",
       "      <td>2023.10.03</td>\n",
       "    </tr>\n",
       "    <tr>\n",
       "      <th>4</th>\n",
       "      <td>ALVARA DE EXECUCAO DE SISTEMA DE SEGURANCA</td>\n",
       "      <td>COM PROPOSTA DE DEFERIMENTO</td>\n",
       "      <td>2014-10-30</td>\n",
       "      <td>SEL/CONTRU/DSUS</td>\n",
       "      <td>2014-0241287-4</td>\n",
       "      <td>2023.10.03</td>\n",
       "    </tr>\n",
       "  </tbody>\n",
       "</table>\n",
       "</div>"
      ],
      "text/plain": [
       "                                       assunto                     situacao  \\\n",
       "0  ALVARA DE APROVACAO DE SISTEMA DE SEGURANCA  COM PROPOSTA DE DEFERIMENTO   \n",
       "1   ALVARA DE EXECUCAO DE SISTEMA DE SEGURANCA  COM PROPOSTA DE DEFERIMENTO   \n",
       "2             AUTO DE VERIFICACAO DE SEGURANCA  COM PROPOSTA DE DEFERIMENTO   \n",
       "3  ALVARA DE APROVACAO DE SISTEMA DE SEGURANCA  COM PROPOSTA DE DEFERIMENTO   \n",
       "4   ALVARA DE EXECUCAO DE SISTEMA DE SEGURANCA  COM PROPOSTA DE DEFERIMENTO   \n",
       "\n",
       "  data_despacho   coord_despacho      n_processo data_extracao  \n",
       "0    2014-10-29  SEL/CONTRU/DSUS  2014-0291888-3    2023.10.03  \n",
       "1    2014-10-29  SEL/CONTRU/DSUS  2014-0291888-3    2023.10.03  \n",
       "2    2014-10-29  SEL/CONTRU/DSUS  2013-0368239-3    2023.10.03  \n",
       "3    2014-10-30  SEL/CONTRU/DSUS  2014-0241287-4    2023.10.03  \n",
       "4    2014-10-30  SEL/CONTRU/DSUS  2014-0241287-4    2023.10.03  "
      ]
     },
     "execution_count": 30,
     "metadata": {},
     "output_type": "execute_result"
    }
   ],
   "source": [
    "sissel_despachos.head()"
   ]
  },
  {
   "cell_type": "code",
   "execution_count": 31,
   "metadata": {
    "id": "IBxtgV_dFB3Z",
    "tags": []
   },
   "outputs": [],
   "source": [
    "sissel_despachos['data_despacho'] = pd.to_datetime(sissel_despachos['data_despacho'])"
   ]
  },
  {
   "cell_type": "code",
   "execution_count": 32,
   "metadata": {
    "colab": {
     "base_uri": "https://localhost:8080/"
    },
    "id": "DEyKKbZDFnhs",
    "outputId": "07585f05-5abf-4b02-e701-ea09b06b389e",
    "tags": []
   },
   "outputs": [
    {
     "name": "stdout",
     "output_type": "stream",
     "text": [
      "<class 'pandas.core.frame.DataFrame'>\n",
      "RangeIndex: 76228 entries, 0 to 76227\n",
      "Data columns (total 6 columns):\n",
      " #   Column          Non-Null Count  Dtype         \n",
      "---  ------          --------------  -----         \n",
      " 0   assunto         76228 non-null  object        \n",
      " 1   situacao        76228 non-null  object        \n",
      " 2   data_despacho   76228 non-null  datetime64[ns]\n",
      " 3   coord_despacho  76228 non-null  object        \n",
      " 4   n_processo      76228 non-null  object        \n",
      " 5   data_extracao   76228 non-null  object        \n",
      "dtypes: datetime64[ns](1), object(5)\n",
      "memory usage: 3.5+ MB\n"
     ]
    }
   ],
   "source": [
    "sissel_despachos.info()"
   ]
  },
  {
   "cell_type": "code",
   "execution_count": 33,
   "metadata": {
    "id": "zhSk51n2GrRY",
    "tags": []
   },
   "outputs": [],
   "source": [
    "# Criando coluna apenas para coordenadoria na tabela de despachos\n",
    "sissel_despachos['coord'] = sissel_despachos['coord_despacho'].apply(lambda x: str(x).split('/')[1] if '/' in str(x) else None)\n",
    "sissel_despachos['divisao'] = sissel_despachos['coord_despacho'].apply(lambda x: str(x).split('/')[-1] if '/' in str(x) else None)"
   ]
  },
  {
   "cell_type": "code",
   "execution_count": 34,
   "metadata": {
    "colab": {
     "base_uri": "https://localhost:8080/"
    },
    "id": "f4juZB8lETRS",
    "outputId": "6ed24add-d75e-458b-ca72-e1b28aaa7b77",
    "tags": []
   },
   "outputs": [
    {
     "name": "stdout",
     "output_type": "stream",
     "text": [
      "<class 'pandas.core.frame.DataFrame'>\n",
      "RangeIndex: 184129 entries, 0 to 184128\n",
      "Data columns (total 4 columns):\n",
      " #   Column             Non-Null Count   Dtype \n",
      "---  ------             --------------   ----- \n",
      " 0   data_comuniquese   184129 non-null  object\n",
      " 1   coord_comuniquese  184129 non-null  object\n",
      " 2   n_processo         184129 non-null  object\n",
      " 3   data_extracao      184129 non-null  object\n",
      "dtypes: object(4)\n",
      "memory usage: 5.6+ MB\n"
     ]
    }
   ],
   "source": [
    "# Tabela comunique-ses\n",
    "sissel_comuniqueses = pd.read_csv(f'{dir_cleaned_data}/sissel_comuniqueses.csv', sep=';')\n",
    "sissel_comuniqueses.info()"
   ]
  },
  {
   "cell_type": "code",
   "execution_count": 35,
   "metadata": {
    "colab": {
     "base_uri": "https://localhost:8080/"
    },
    "id": "IV21V1j4F3eN",
    "outputId": "ec1a1717-11be-4131-9917-aa4774afc025",
    "tags": []
   },
   "outputs": [
    {
     "data": {
      "text/html": [
       "<div>\n",
       "<style scoped>\n",
       "    .dataframe tbody tr th:only-of-type {\n",
       "        vertical-align: middle;\n",
       "    }\n",
       "\n",
       "    .dataframe tbody tr th {\n",
       "        vertical-align: top;\n",
       "    }\n",
       "\n",
       "    .dataframe thead th {\n",
       "        text-align: right;\n",
       "    }\n",
       "</style>\n",
       "<table border=\"1\" class=\"dataframe\">\n",
       "  <thead>\n",
       "    <tr style=\"text-align: right;\">\n",
       "      <th></th>\n",
       "      <th>data_comuniquese</th>\n",
       "      <th>coord_comuniquese</th>\n",
       "      <th>n_processo</th>\n",
       "      <th>data_extracao</th>\n",
       "    </tr>\n",
       "  </thead>\n",
       "  <tbody>\n",
       "    <tr>\n",
       "      <th>0</th>\n",
       "      <td>28/12/2005 00:00:00</td>\n",
       "      <td>SMUL/GAB</td>\n",
       "      <td>2002-0072049-6</td>\n",
       "      <td>2023.10.03</td>\n",
       "    </tr>\n",
       "    <tr>\n",
       "      <th>1</th>\n",
       "      <td>07/03/2006 00:00:00</td>\n",
       "      <td>SMUL/GAB</td>\n",
       "      <td>2002-0072049-6</td>\n",
       "      <td>2023.10.03</td>\n",
       "    </tr>\n",
       "    <tr>\n",
       "      <th>2</th>\n",
       "      <td>06/10/2015 00:00:00</td>\n",
       "      <td>SMUL/GAB</td>\n",
       "      <td>2000-0097269-6</td>\n",
       "      <td>2023.10.03</td>\n",
       "    </tr>\n",
       "    <tr>\n",
       "      <th>3</th>\n",
       "      <td>20/11/2015 00:00:00</td>\n",
       "      <td>SMUL/GAB</td>\n",
       "      <td>2003-1048955-1</td>\n",
       "      <td>2023.10.03</td>\n",
       "    </tr>\n",
       "    <tr>\n",
       "      <th>4</th>\n",
       "      <td>19/10/2016 00:00:00</td>\n",
       "      <td>SMUL/GAB</td>\n",
       "      <td>2016-0043255-3</td>\n",
       "      <td>2023.10.03</td>\n",
       "    </tr>\n",
       "  </tbody>\n",
       "</table>\n",
       "</div>"
      ],
      "text/plain": [
       "      data_comuniquese coord_comuniquese      n_processo data_extracao\n",
       "0  28/12/2005 00:00:00          SMUL/GAB  2002-0072049-6    2023.10.03\n",
       "1  07/03/2006 00:00:00          SMUL/GAB  2002-0072049-6    2023.10.03\n",
       "2  06/10/2015 00:00:00          SMUL/GAB  2000-0097269-6    2023.10.03\n",
       "3  20/11/2015 00:00:00          SMUL/GAB  2003-1048955-1    2023.10.03\n",
       "4  19/10/2016 00:00:00          SMUL/GAB  2016-0043255-3    2023.10.03"
      ]
     },
     "execution_count": 35,
     "metadata": {},
     "output_type": "execute_result"
    }
   ],
   "source": [
    "sissel_comuniqueses.head()"
   ]
  },
  {
   "cell_type": "code",
   "execution_count": 36,
   "metadata": {
    "id": "PBthv4XwGGL7",
    "tags": []
   },
   "outputs": [],
   "source": [
    "sissel_comuniqueses['data_comuniquese'] = pd.to_datetime(sissel_comuniqueses['data_comuniquese'], dayfirst=True)"
   ]
  },
  {
   "cell_type": "code",
   "execution_count": 37,
   "metadata": {
    "colab": {
     "base_uri": "https://localhost:8080/"
    },
    "id": "0bz4eQwjGM7w",
    "outputId": "6977759e-f247-4036-862d-def47ed5cefe",
    "tags": []
   },
   "outputs": [
    {
     "name": "stdout",
     "output_type": "stream",
     "text": [
      "<class 'pandas.core.frame.DataFrame'>\n",
      "RangeIndex: 184129 entries, 0 to 184128\n",
      "Data columns (total 4 columns):\n",
      " #   Column             Non-Null Count   Dtype         \n",
      "---  ------             --------------   -----         \n",
      " 0   data_comuniquese   184129 non-null  datetime64[ns]\n",
      " 1   coord_comuniquese  184129 non-null  object        \n",
      " 2   n_processo         184129 non-null  object        \n",
      " 3   data_extracao      184129 non-null  object        \n",
      "dtypes: datetime64[ns](1), object(3)\n",
      "memory usage: 5.6+ MB\n"
     ]
    }
   ],
   "source": [
    "sissel_comuniqueses.info()"
   ]
  },
  {
   "cell_type": "code",
   "execution_count": 38,
   "metadata": {
    "id": "jyt8C5rAG7DJ",
    "tags": []
   },
   "outputs": [],
   "source": [
    "# Criando coluna apenas para coordenadoria na tabela de comuniqueses\n",
    "sissel_comuniqueses['coord'] = sissel_comuniqueses['coord_comuniquese'].apply(lambda x: str(x).split('/')[1] if '/' in str(x) else None)\n",
    "sissel_comuniqueses['divisao'] = sissel_comuniqueses['coord_comuniquese'].apply(lambda x: str(x).split('/')[-1] if '/' in str(x) else None)"
   ]
  },
  {
   "cell_type": "markdown",
   "metadata": {
    "jp-MarkdownHeadingCollapsed": true,
    "tags": []
   },
   "source": [
    "## 7. Processamento Portal do Licenciamento"
   ]
  },
  {
   "cell_type": "markdown",
   "metadata": {
    "tags": []
   },
   "source": [
    "### 7.1 Despachos"
   ]
  },
  {
   "cell_type": "code",
   "execution_count": 39,
   "metadata": {
    "tags": []
   },
   "outputs": [
    {
     "name": "stdout",
     "output_type": "stream",
     "text": [
      "<class 'pandas.core.frame.DataFrame'>\n",
      "RangeIndex: 7260 entries, 0 to 7259\n",
      "Data columns (total 6 columns):\n",
      " #   Column          Non-Null Count  Dtype \n",
      "---  ------          --------------  ----- \n",
      " 0   n_protocolo     7260 non-null   object\n",
      " 1   n_processo      7260 non-null   object\n",
      " 2   despacho        7260 non-null   object\n",
      " 3   data_despacho   7260 non-null   object\n",
      " 4   coord_despacho  7260 non-null   object\n",
      " 5   data_extracao   7260 non-null   object\n",
      "dtypes: object(6)\n",
      "memory usage: 340.4+ KB\n"
     ]
    }
   ],
   "source": [
    "portal_despachos = pd.read_csv(f'{dir_cleaned_data}/portal_despachos.csv', sep=';', encoding='latin-1')\n",
    "portal_despachos.info()"
   ]
  },
  {
   "cell_type": "code",
   "execution_count": 40,
   "metadata": {
    "tags": []
   },
   "outputs": [],
   "source": [
    "portal_despachos['data_despacho'] = pd.to_datetime(portal_despachos['data_despacho'], dayfirst=True)"
   ]
  },
  {
   "cell_type": "code",
   "execution_count": 41,
   "metadata": {
    "tags": []
   },
   "outputs": [
    {
     "name": "stdout",
     "output_type": "stream",
     "text": [
      "<class 'pandas.core.frame.DataFrame'>\n",
      "RangeIndex: 7260 entries, 0 to 7259\n",
      "Data columns (total 6 columns):\n",
      " #   Column          Non-Null Count  Dtype         \n",
      "---  ------          --------------  -----         \n",
      " 0   n_protocolo     7260 non-null   object        \n",
      " 1   n_processo      7260 non-null   object        \n",
      " 2   despacho        7260 non-null   object        \n",
      " 3   data_despacho   7260 non-null   datetime64[ns]\n",
      " 4   coord_despacho  7260 non-null   object        \n",
      " 5   data_extracao   7260 non-null   object        \n",
      "dtypes: datetime64[ns](1), object(5)\n",
      "memory usage: 340.4+ KB\n"
     ]
    }
   ],
   "source": [
    "portal_despachos.info()"
   ]
  },
  {
   "cell_type": "markdown",
   "metadata": {
    "tags": []
   },
   "source": [
    "### 7.2 Comunique-ses"
   ]
  },
  {
   "cell_type": "code",
   "execution_count": 42,
   "metadata": {
    "tags": []
   },
   "outputs": [
    {
     "name": "stdout",
     "output_type": "stream",
     "text": [
      "<class 'pandas.core.frame.DataFrame'>\n",
      "RangeIndex: 13288 entries, 0 to 13287\n",
      "Data columns (total 5 columns):\n",
      " #   Column             Non-Null Count  Dtype \n",
      "---  ------             --------------  ----- \n",
      " 0   n_protocolo        13288 non-null  object\n",
      " 1   n_processo         13288 non-null  object\n",
      " 2   data_comuniquese   13288 non-null  object\n",
      " 3   coord_comuniquese  13288 non-null  object\n",
      " 4   data_extracao      13288 non-null  object\n",
      "dtypes: object(5)\n",
      "memory usage: 519.2+ KB\n"
     ]
    }
   ],
   "source": [
    "portal_comuniqueses = pd.read_csv(f'{dir_cleaned_data}/portal_comuniqueses.csv', sep=';', encoding='latin-1')\n",
    "portal_comuniqueses.info()"
   ]
  },
  {
   "cell_type": "code",
   "execution_count": 43,
   "metadata": {
    "tags": []
   },
   "outputs": [],
   "source": [
    "portal_comuniqueses['data_comuniquese'] = pd.to_datetime(portal_comuniqueses['data_comuniquese'], dayfirst=True)"
   ]
  },
  {
   "cell_type": "code",
   "execution_count": 44,
   "metadata": {
    "tags": []
   },
   "outputs": [
    {
     "name": "stdout",
     "output_type": "stream",
     "text": [
      "<class 'pandas.core.frame.DataFrame'>\n",
      "RangeIndex: 13288 entries, 0 to 13287\n",
      "Data columns (total 5 columns):\n",
      " #   Column             Non-Null Count  Dtype         \n",
      "---  ------             --------------  -----         \n",
      " 0   n_protocolo        13288 non-null  object        \n",
      " 1   n_processo         13288 non-null  object        \n",
      " 2   data_comuniquese   13288 non-null  datetime64[ns]\n",
      " 3   coord_comuniquese  13288 non-null  object        \n",
      " 4   data_extracao      13288 non-null  object        \n",
      "dtypes: datetime64[ns](1), object(4)\n",
      "memory usage: 519.2+ KB\n"
     ]
    }
   ],
   "source": [
    "portal_comuniqueses.info()"
   ]
  },
  {
   "cell_type": "markdown",
   "metadata": {
    "tags": []
   },
   "source": [
    "### Autuados"
   ]
  },
  {
   "cell_type": "code",
   "execution_count": 45,
   "metadata": {
    "tags": []
   },
   "outputs": [
    {
     "name": "stdout",
     "output_type": "stream",
     "text": [
      "<class 'pandas.core.frame.DataFrame'>\n",
      "RangeIndex: 91 entries, 0 to 90\n",
      "Data columns (total 4 columns):\n",
      " #   Column                      Non-Null Count  Dtype\n",
      "---  ------                      --------------  -----\n",
      " 0   ProcessoAnoAutuacao         91 non-null     int64\n",
      " 1   ProcessoMesAutuacao         91 non-null     int64\n",
      " 2   ProcessoQuinzenaAutuacao    91 non-null     int64\n",
      " 3   CodigoRequerimentoOperacao  91 non-null     int64\n",
      "dtypes: int64(4)\n",
      "memory usage: 3.0 KB\n"
     ]
    }
   ],
   "source": [
    "for i in os.listdir(dir_raw_data):\n",
    "    if i.startswith('portal_card-quantidade'):\n",
    "        aut_file = i\n",
    "\n",
    "portal_autuados = pd.read_excel(f'{dir_raw_data}/{aut_file}')\n",
    "portal_autuados.info()"
   ]
  },
  {
   "cell_type": "code",
   "execution_count": 46,
   "metadata": {
    "tags": []
   },
   "outputs": [],
   "source": [
    "portal_autuados.columns = ['ano', 'mes', 'quinzena', 'quantidade']"
   ]
  },
  {
   "cell_type": "code",
   "execution_count": 47,
   "metadata": {
    "tags": []
   },
   "outputs": [
    {
     "data": {
      "text/html": [
       "<div>\n",
       "<style scoped>\n",
       "    .dataframe tbody tr th:only-of-type {\n",
       "        vertical-align: middle;\n",
       "    }\n",
       "\n",
       "    .dataframe tbody tr th {\n",
       "        vertical-align: top;\n",
       "    }\n",
       "\n",
       "    .dataframe thead th {\n",
       "        text-align: right;\n",
       "    }\n",
       "</style>\n",
       "<table border=\"1\" class=\"dataframe\">\n",
       "  <thead>\n",
       "    <tr style=\"text-align: right;\">\n",
       "      <th></th>\n",
       "      <th>ano</th>\n",
       "      <th>mes</th>\n",
       "      <th>quinzena</th>\n",
       "      <th>quantidade</th>\n",
       "    </tr>\n",
       "  </thead>\n",
       "  <tbody>\n",
       "    <tr>\n",
       "      <th>86</th>\n",
       "      <td>2023</td>\n",
       "      <td>8</td>\n",
       "      <td>1</td>\n",
       "      <td>697</td>\n",
       "    </tr>\n",
       "    <tr>\n",
       "      <th>87</th>\n",
       "      <td>2023</td>\n",
       "      <td>8</td>\n",
       "      <td>2</td>\n",
       "      <td>822</td>\n",
       "    </tr>\n",
       "    <tr>\n",
       "      <th>88</th>\n",
       "      <td>2023</td>\n",
       "      <td>9</td>\n",
       "      <td>1</td>\n",
       "      <td>647</td>\n",
       "    </tr>\n",
       "    <tr>\n",
       "      <th>89</th>\n",
       "      <td>2023</td>\n",
       "      <td>9</td>\n",
       "      <td>2</td>\n",
       "      <td>639</td>\n",
       "    </tr>\n",
       "    <tr>\n",
       "      <th>90</th>\n",
       "      <td>2023</td>\n",
       "      <td>10</td>\n",
       "      <td>1</td>\n",
       "      <td>70</td>\n",
       "    </tr>\n",
       "  </tbody>\n",
       "</table>\n",
       "</div>"
      ],
      "text/plain": [
       "     ano  mes  quinzena  quantidade\n",
       "86  2023    8         1         697\n",
       "87  2023    8         2         822\n",
       "88  2023    9         1         647\n",
       "89  2023    9         2         639\n",
       "90  2023   10         1          70"
      ]
     },
     "execution_count": 47,
     "metadata": {},
     "output_type": "execute_result"
    }
   ],
   "source": [
    "portal_autuados.tail()"
   ]
  },
  {
   "cell_type": "markdown",
   "metadata": {
    "id": "BHvqBvBscRZw",
    "tags": []
   },
   "source": [
    "## 8. Análise por sistema"
   ]
  },
  {
   "cell_type": "markdown",
   "metadata": {
    "id": "7Hz6y23Z4d_4",
    "jp-MarkdownHeadingCollapsed": true,
    "tags": []
   },
   "source": [
    "### **8.1 Preparando datas e agrupadores**"
   ]
  },
  {
   "cell_type": "code",
   "execution_count": 48,
   "metadata": {
    "id": "TEiKgf6zdbVO",
    "tags": []
   },
   "outputs": [],
   "source": [
    "# Extração de data de referência: A data de referência é sempre o ultimo mês completo. Como os processos são extraídos\n",
    "# sempre no mês seguinte ao mês de referência, são usados os dados do dia subtraindo 1 mês (30 dias)\n",
    "# e para o mês anterior volta-se 2 meses (60 dias)\n",
    "\n",
    "data_atual = datetime.now()\n",
    "\n",
    "data_referencia = data_atual - timedelta(days=30)\n",
    "data_anterior = data_atual - timedelta(days=60)\n",
    "\n",
    "month_starter = lambda date: f'{date.year}-{date.month}-01'"
   ]
  },
  {
   "cell_type": "code",
   "execution_count": 49,
   "metadata": {
    "colab": {
     "base_uri": "https://localhost:8080/"
    },
    "id": "h2qjgyyhfb2x",
    "outputId": "dff5098f-e7c8-4089-ccaa-bc8dc424302e",
    "tags": []
   },
   "outputs": [
    {
     "data": {
      "text/plain": [
       "('2023-9-01', '2023-8-01', '2023-10-01')"
      ]
     },
     "execution_count": 49,
     "metadata": {},
     "output_type": "execute_result"
    }
   ],
   "source": [
    "# Declarando datas de referência \n",
    "data_referencia = month_starter(data_referencia)\n",
    "data_anterior = month_starter(data_anterior)\n",
    "data_corrente = month_starter(data_atual)\n",
    "\n",
    "data_referencia, data_anterior, data_corrente"
   ]
  },
  {
   "cell_type": "code",
   "execution_count": 50,
   "metadata": {
    "id": "3aFcMPx_f5Qa",
    "tags": []
   },
   "outputs": [],
   "source": [
    "### Defiindo agrupadores por data\n",
    "# Agrupador para a coluna 'data_autucao'\n",
    "grouper_aut = pd.Grouper(key='data_autuacao', freq='MS', label='left')\n",
    "\n",
    "# Agrupador para a coluna 'data_despacho'\n",
    "grouper_desp = pd.Grouper(key='data_despacho', freq='MS', label='left')\n",
    "\n",
    "# Agrupador para a coluna 'data_comuniquese'\n",
    "grouper_comun = pd.Grouper(key='data_comuniquese', freq='MS', label='left')"
   ]
  },
  {
   "cell_type": "markdown",
   "metadata": {
    "id": "rkYZacwl9QuX",
    "jp-MarkdownHeadingCollapsed": true,
    "tags": []
   },
   "source": [
    "### **8.2 Análise para o Aprova Digital**"
   ]
  },
  {
   "cell_type": "markdown",
   "metadata": {
    "id": "rNelGjL-eZz_",
    "jp-MarkdownHeadingCollapsed": true,
    "tags": []
   },
   "source": [
    "#### 8.2.1 Despachos emitidos no mês de referência e anterior"
   ]
  },
  {
   "cell_type": "code",
   "execution_count": 51,
   "metadata": {
    "colab": {
     "base_uri": "https://localhost:8080/"
    },
    "id": "dn0lVchw4PwK",
    "outputId": "d9dab206-0ff4-4e1f-a0f5-ea4ce7283eb0",
    "tags": []
   },
   "outputs": [
    {
     "data": {
      "text/plain": [
       "{'despachos_mes_referencia': 116,\n",
       " 'despachos_mes_anterior': 0,\n",
       " 'deferidos_mes_referencia': 112,\n",
       " 'deferidos_mes_anterior': 0,\n",
       " 'indeferidos_mes_referencia': 4,\n",
       " 'indeferidos_mes_anterior': 0,\n",
       " 'encerrados_mes_referencia': 0,\n",
       " 'encerrados_mes_anterior': 0}"
      ]
     },
     "execution_count": 51,
     "metadata": {},
     "output_type": "execute_result"
    }
   ],
   "source": [
    "def get_ad_despachos(coord):\n",
    "    # Data cointainer\n",
    "    data_container = {}\n",
    "    \n",
    "    # Filtrando despachos para coordenadoria\n",
    "    coord = ad_despachos.query(\"(coord == @coord)\")\n",
    "    coord_grouped = coord.groupby(grouper_desp)\n",
    "\n",
    "    try:\n",
    "        data_container['despachos_mes_referencia'] = int(coord_grouped.get_group(data_referencia)['n_processo'].count())\n",
    "    except KeyError:\n",
    "        data_container['despachos_mes_referencia'] = 0\n",
    "        \n",
    "    try:\n",
    "        data_container['despachos_mes_anterior'] = int(coord_grouped.get_group(data_anterior)['n_processo'].count()) if data_anterior in coord_grouped else 0\n",
    "    except KeyError:\n",
    "        data_container['despachos_mes_anterior'] = 0\n",
    "\n",
    "    # Filtrando deferidos\n",
    "    deferidos = coord.query(\"despacho == 'Processo Deferido'\")\n",
    "    deferidos_grouped = deferidos.groupby(grouper_desp)\n",
    "\n",
    "    try:\n",
    "        data_container['deferidos_mes_referencia'] = int(deferidos_grouped.get_group(data_referencia)['n_processo'].count())\n",
    "    except KeyError:\n",
    "        data_container['deferidos_mes_referencia'] = 0\n",
    "    \n",
    "    try:\n",
    "        data_container['deferidos_mes_anterior'] = int(deferidos_grouped.get_group(data_anterior)['n_processo'].count()) if data_anterior in deferidos_grouped else 0\n",
    "    except KeyError:\n",
    "        data_container['deferidos_mes_anterior'] = 0\n",
    "\n",
    "    # Filtrando indeferidos\n",
    "    indeferidos = coord.query(\"despacho == 'Processo Indeferido'\")\n",
    "    indeferidos_grouped = indeferidos.groupby(grouper_desp)\n",
    "\n",
    "    try:\n",
    "        data_container['indeferidos_mes_referencia'] = int(indeferidos_grouped.get_group(data_referencia)['n_processo'].count())\n",
    "    except KeyError:\n",
    "        data_container['indeferidos_mes_referencia'] = 0\n",
    "\n",
    "    try:\n",
    "        data_container['indeferidos_mes_anterior'] = int(indeferidos_grouped.get_group(data_anterior)['n_processo'].count()) if data_anterior in indeferidos_grouped else 0\n",
    "    except KeyError:\n",
    "        data_container['indeferidos_mes_anterior'] = 0\n",
    "\n",
    "    # Filtrando indeferidos e encerrados\n",
    "    encerrados = coord.query(\"despacho == 'Processo Indeferido e Encerrado'\")\n",
    "    encerrados_grouped = encerrados.groupby(grouper_desp)\n",
    "\n",
    "    try:\n",
    "        data_container['encerrados_mes_referencia'] = int(encerrados_grouped.get_group(data_referencia)['n_processo'].count())\n",
    "    except:\n",
    "        data_container['encerrados_mes_referencia'] = 0\n",
    "        \n",
    "    try:\n",
    "        data_container['encerrados_mes_anterior'] = int(encerrados_grouped.get_group(data_anterior)['n_processo'].count()) if data_anterior in encerrados_grouped else 0\n",
    "    except KeyError:\n",
    "        data_container['encerrados_mes_anterior'] = 0\n",
    "        \n",
    "        \n",
    "\n",
    "    return data_container\n",
    "\n",
    "get_ad_despachos('CAEPP')"
   ]
  },
  {
   "cell_type": "markdown",
   "metadata": {
    "id": "fwMUy7PSunvd",
    "jp-MarkdownHeadingCollapsed": true,
    "tags": []
   },
   "source": [
    "#### 8.2.2 Despachos emitidos por divisão no mês de referência"
   ]
  },
  {
   "cell_type": "code",
   "execution_count": 52,
   "metadata": {
    "id": "r291G9kZh09D"
   },
   "outputs": [
    {
     "data": {
      "text/plain": [
       "divisao\n",
       "CAEPP    116\n",
       "Name: count, dtype: int64"
      ]
     },
     "execution_count": 52,
     "metadata": {},
     "output_type": "execute_result"
    }
   ],
   "source": [
    "def get_ad_divisoes(coord):\n",
    "    # Data cointainer\n",
    "    data_container = {}\n",
    "\n",
    "    # Filtrando despachos para coordenadoria\n",
    "    coord = ad_despachos.query(\"(coord == @coord) & ~(quem_despachou == 'Desconhecido/Evento Automático')\")\n",
    "    coord_grouped = coord.groupby(grouper_desp)\n",
    "    \n",
    "    mes_referencia = coord_grouped.get_group(data_referencia)\n",
    "    \n",
    "    return mes_referencia['divisao'].value_counts()\n",
    "    \n",
    "get_ad_divisoes('CAEPP')"
   ]
  },
  {
   "cell_type": "code",
   "execution_count": 53,
   "metadata": {
    "id": "QzIGEhINqz0e"
   },
   "outputs": [
    {
     "data": {
      "text/plain": [
       "['CAEPP']"
      ]
     },
     "execution_count": 53,
     "metadata": {},
     "output_type": "execute_result"
    }
   ],
   "source": [
    "def get_ad_divisao_list(coord):\n",
    "    # Recebe um objeto Series contendo algumas divisões e retorna o nome de cada uma\n",
    "    \n",
    "    series = get_ad_divisoes(coord)\n",
    "    div_list = [i.split('/')[-1] for i in series.index]\n",
    "\n",
    "    return div_list\n",
    "\n",
    "get_ad_divisao_list('CAEPP')"
   ]
  },
  {
   "cell_type": "markdown",
   "metadata": {
    "id": "ZtM4a7kXglxz",
    "jp-MarkdownHeadingCollapsed": true,
    "tags": []
   },
   "source": [
    "#### 8.2.3 Comunique-ses mês de referência e anterior"
   ]
  },
  {
   "cell_type": "code",
   "execution_count": 54,
   "metadata": {
    "id": "jufCpVK6dvPs"
   },
   "outputs": [
    {
     "data": {
      "text/plain": [
       "{'comuniq_mes_referencia': 15, 'comuniq_mes_anterior': 6}"
      ]
     },
     "execution_count": 54,
     "metadata": {},
     "output_type": "execute_result"
    }
   ],
   "source": [
    "def get_ad_comuniqueses(coord):\n",
    "    # Data cointainer\n",
    "    data_container = {}\n",
    "\n",
    "    # Filtrando comunique-ses para coordenadoria\n",
    "    coord = ad_comuniqueses.query(\"coord == @coord\")\n",
    "    coord_grouped = coord.groupby(grouper_comun)\n",
    "    \n",
    "    try:\n",
    "        data_container['comuniq_mes_referencia'] = int(coord_grouped.get_group(data_referencia)['n_processo'].count())\n",
    "    except KeyError:\n",
    "        data_container['comuniq_mes_referencia'] = 0\n",
    "        \n",
    "    try:\n",
    "        data_container['comuniq_mes_anterior'] = int(coord_grouped.get_group(data_anterior)['n_processo'].count())\n",
    "    except KeyError:\n",
    "        data_container['comuniq_mes_anterior'] = 0\n",
    "    \n",
    "\n",
    "    return data_container\n",
    "\n",
    "get_ad_comuniqueses('CAEPP')"
   ]
  },
  {
   "cell_type": "markdown",
   "metadata": {
    "id": "Z7vrBVQQCEAz",
    "jp-MarkdownHeadingCollapsed": true,
    "tags": []
   },
   "source": [
    "#### 8.2.4 Processos autuados no mês de referência e anterior *ADCIONAR NOTAS"
   ]
  },
  {
   "cell_type": "code",
   "execution_count": 55,
   "metadata": {
    "colab": {
     "base_uri": "https://localhost:8080/"
    },
    "id": "2MrOLjeuCFan",
    "outputId": "e6326a51-e13a-4352-b66e-01c2319da3d4"
   },
   "outputs": [
    {
     "data": {
      "text/plain": [
       "{'aut_mes_referencia': 219, 'aut_mes_anterior': 362}"
      ]
     },
     "execution_count": 55,
     "metadata": {},
     "output_type": "execute_result"
    }
   ],
   "source": [
    "def get_ad_autuados(coord):\n",
    "    # Data cointainer\n",
    "    data_container = {}\n",
    "\n",
    "    # Filtrando comunique-ses para coordenadoria\n",
    "    coord = ad_main.query(\"(data_autuacao >= @data_anterior) & (data_autuacao < @data_corrente) & (coord_atual == @coord)\")\n",
    "    coord_grouped = coord.groupby(grouper_aut)\n",
    "    \n",
    "    data_container['aut_mes_referencia'] = int(coord_grouped.get_group(data_referencia)['n_processo'].count())\n",
    "    data_container['aut_mes_anterior'] = int(coord_grouped.get_group(data_anterior)['n_processo'].count())\n",
    "\n",
    "    return data_container\n",
    "\n",
    "get_ad_autuados('CAEPP')"
   ]
  },
  {
   "cell_type": "markdown",
   "metadata": {
    "id": "WerNBSgZwCy4",
    "jp-MarkdownHeadingCollapsed": true,
    "tags": []
   },
   "source": [
    "#### 8.2.5 Últimos 12 meses despachos"
   ]
  },
  {
   "cell_type": "code",
   "execution_count": 56,
   "metadata": {
    "id": "ZYYdnJN-jfco"
   },
   "outputs": [
    {
     "data": {
      "text/plain": [
       "{'despachos': data_despacho\n",
       " 2023-08-01     49\n",
       " 2023-09-01    116\n",
       " Freq: MS, Name: despacho, dtype: int64,\n",
       " 'deferidos': data_despacho\n",
       " 2023-08-01     46\n",
       " 2023-09-01    112\n",
       " Freq: MS, Name: despacho, dtype: int64,\n",
       " 'indeferidos': data_despacho\n",
       " 2023-08-01    3\n",
       " 2023-09-01    4\n",
       " Freq: MS, Name: despacho, dtype: int64}"
      ]
     },
     "execution_count": 56,
     "metadata": {},
     "output_type": "execute_result"
    }
   ],
   "source": [
    "def get_ad_last_12_despachos(coord):\n",
    "    # Data cointainer\n",
    "    data_container = {}\n",
    "\n",
    "    # Filtrando despachos para coordenadoria\n",
    "    coord = ad_despachos.query(\"(coord == @coord) & ~(quem_despachou == 'Desconhecido/Evento Automático')\")\n",
    "    coord_grouped = coord.groupby(grouper_desp)\n",
    "    \n",
    "    # Ultimos 12 meses de despachos\n",
    "    data_container['despachos'] = coord_grouped['despacho'].count().loc[:data_referencia][-12:]\n",
    "\n",
    "    # Fiitrando e extraindo deferidos\n",
    "    deferidos = coord.query(\"despacho == 'Processo Deferido'\").groupby(grouper_desp)\n",
    "    data_container['deferidos'] = deferidos['despacho'].count().loc[:data_referencia][-12:]\n",
    "\n",
    "    # Fiitrando e extraindo indeferidos\n",
    "    indeferidos = coord.query(\"despacho == 'Processo Indeferido'\").groupby(grouper_desp)\n",
    "    data_container['indeferidos'] = indeferidos['despacho'].count().loc[:data_referencia][-12:]\n",
    "\n",
    "\n",
    "    return data_container\n",
    "\n",
    "get_ad_last_12_despachos('CAEPP')"
   ]
  },
  {
   "cell_type": "markdown",
   "metadata": {
    "id": "ICecoDHvm1SG",
    "jp-MarkdownHeadingCollapsed": true,
    "tags": []
   },
   "source": [
    "#### 8.2.6 Últimos 12 meses comunique-ses"
   ]
  },
  {
   "cell_type": "code",
   "execution_count": 57,
   "metadata": {
    "id": "C2Sr1gypm7PV"
   },
   "outputs": [
    {
     "data": {
      "text/plain": [
       "data_comuniquese\n",
       "2023-08-01     6\n",
       "2023-09-01    15\n",
       "Freq: MS, Name: n_processo, dtype: int64"
      ]
     },
     "execution_count": 57,
     "metadata": {},
     "output_type": "execute_result"
    }
   ],
   "source": [
    "def get_ad_last_12_comuniq(coord):\n",
    "\n",
    "    # Filtrando despachos para coordenadoria\n",
    "    coord = ad_comuniqueses.query(\"(coord == @coord)\")\n",
    "    coord_grouped = coord.groupby(grouper_comun)\n",
    "    \n",
    "    # Ultimos 12 meses de despachos\n",
    "    comuniq_12 = coord_grouped['n_processo'].count().loc[:data_referencia][-12:]\n",
    "\n",
    "   \n",
    "    return comuniq_12\n",
    "\n",
    "get_ad_last_12_comuniq('CAEPP')"
   ]
  },
  {
   "cell_type": "markdown",
   "metadata": {
    "id": "lU9RNDuxA5H0",
    "jp-MarkdownHeadingCollapsed": true,
    "tags": []
   },
   "source": [
    "#### 8.2.7 Últimos 12 meses autuações  - Adcionar nota explicando de onde vieram os resultados"
   ]
  },
  {
   "cell_type": "code",
   "execution_count": 58,
   "metadata": {
    "colab": {
     "base_uri": "https://localhost:8080/"
    },
    "id": "aNx5SXyTqfHv",
    "outputId": "d8b09fc4-3359-41ca-cda4-5cea2f6211ed"
   },
   "outputs": [
    {
     "data": {
      "text/plain": [
       "data_autuacao\n",
       "2022-10-01    141\n",
       "2022-11-01    121\n",
       "2022-12-01    157\n",
       "2023-01-01    101\n",
       "2023-02-01    144\n",
       "2023-03-01    184\n",
       "2023-04-01    215\n",
       "2023-05-01    211\n",
       "2023-06-01    289\n",
       "2023-07-01    301\n",
       "2023-08-01    362\n",
       "2023-09-01    219\n",
       "Freq: MS, Name: n_processo, dtype: int64"
      ]
     },
     "execution_count": 58,
     "metadata": {},
     "output_type": "execute_result"
    }
   ],
   "source": [
    "def get_ad_last_12_autuados(coord):\n",
    "\n",
    "    # Filtrando despachos para coordenadoria\n",
    "    coord = ad_main.query(\"(coord_atual == @coord)\")\n",
    "    coord_grouped = coord.groupby(grouper_aut)\n",
    "    \n",
    "    # Ultimos 12 meses de despachos\n",
    "    aut_12 = coord_grouped['n_processo'].count().loc[:data_referencia][-12:]\n",
    "   \n",
    "    return aut_12\n",
    "\n",
    "get_ad_last_12_autuados('CAEPP')"
   ]
  },
  {
   "cell_type": "markdown",
   "metadata": {
    "id": "fxLcl1gHaeCT",
    "jp-MarkdownHeadingCollapsed": true,
    "tags": []
   },
   "source": [
    "#### 8.2.8 Assuntos requeridos"
   ]
  },
  {
   "cell_type": "code",
   "execution_count": 59,
   "metadata": {
    "id": "DaBkgppJ4aU-"
   },
   "outputs": [
    {
     "data": {
      "text/plain": [
       "assunto_x\n",
       "Alvará de Aprovação e Execução de Edificação Nova (Exceto HIS/ HMP)                             39\n",
       "Alvará para Desmembramento/ Remembramento/ Reparcelamento                                       20\n",
       "Certificado de Conclusão                                                                        20\n",
       "Alvará de Aprovação e Execução de Reforma (Exceto HIS e HMP)                                    12\n",
       "Apostilamento                                                                                   12\n",
       "Alvará de Autorização de Implantação e/ou Utilização de Estande de Vendas                        2\n",
       "Alvará de Execução de Edificação Nova (Exceto HIS/ HMP)                                          2\n",
       "Alvará de Execução de Reforma (Exceto HIS/ HMP)                                                  1\n",
       "Alvará de Execução de Demolição Total                                                            1\n",
       "Alvará de Aprovação de Reforma (Exceto HIS/ HMP)                                                 1\n",
       "Alvará de Autorização de Avanço de Grua Sobre o Espaço Público                                   1\n",
       "Projeto Modificativo de Alvará de Aprovação e Execução de Edificação Nova (exceto HIS / HMP)     1\n",
       "Name: count, dtype: int64"
      ]
     },
     "execution_count": 59,
     "metadata": {},
     "output_type": "execute_result"
    }
   ],
   "source": [
    "def get_ad_assuntos(coord):\n",
    "\n",
    "    # Filtrando despachos deferidos para coordenadoria\n",
    "    coord_desp = ad_despachos.query(\"(coord == @coord) & (despacho == 'Processo Deferido')\")\n",
    "    \n",
    "    # Filtro para o período\n",
    "    coord_desp_mes = coord_desp.query(\"(data_despacho >= @data_referencia) & (data_despacho < @data_corrente)\")\n",
    "    \n",
    "    # Fazendo um left merge com a planilha principal para adcionar a coluna assunto à tabela de despachos\n",
    "    assuntos = coord_desp_mes.merge(ad_main[['n_processo', 'assunto']].drop_duplicates(subset=['n_processo']), on='n_processo', how='left')\n",
    "    \n",
    "    #return assuntos.head()\n",
    "    return assuntos['assunto_x'].value_counts()\n",
    "\n",
    "\n",
    "get_ad_assuntos('CAEPP')"
   ]
  },
  {
   "cell_type": "markdown",
   "metadata": {
    "id": "3hfRImjDAAgj",
    "jp-MarkdownHeadingCollapsed": true,
    "tags": []
   },
   "source": [
    "#### 8.2.9 Acumulados"
   ]
  },
  {
   "cell_type": "code",
   "execution_count": 60,
   "metadata": {
    "id": "4od_aX-RrOGv"
   },
   "outputs": [
    {
     "data": {
      "text/plain": [
       "{'Despachos': 165,\n",
       " 'Deferidos': 158,\n",
       " 'Indeferidos': 7,\n",
       " 'CAEPP': 165,\n",
       " 'Comunique-ses': 21,\n",
       " 'Autuados': 4307,\n",
       " 'Estoque': 4151}"
      ]
     },
     "execution_count": 60,
     "metadata": {},
     "output_type": "execute_result"
    }
   ],
   "source": [
    "def get_ad_acumulado(coord):\n",
    "\n",
    "    data_container = {}\n",
    "\n",
    "    # Filtrando despachos para coordenadoria\n",
    "    coord_desp = ad_despachos.query(\"(coord == @coord) & ~(quem_despachou == 'Desconhecido/Evento Automático') & (data_despacho < @data_corrente)\")\n",
    "    \n",
    "    # Despachos\n",
    "    data_container['Despachos'] = coord_desp.shape[0]\n",
    "    data_container['Deferidos'] = coord_desp.query(\"(despacho == 'Processo Deferido')\").shape[0]\n",
    "    data_container['Indeferidos'] = coord_desp.query(\"(despacho == 'Processo Indeferido')\").shape[0]\n",
    "\n",
    "    # Divisões\n",
    "    for i in get_ad_divisao_list(coord):\n",
    "        data_container[i] = coord_desp.query('divisao == @i').shape[0]\n",
    "\n",
    "    # Comunique-ses\n",
    "    data_container['Comunique-ses'] = ad_comuniqueses.query(\"(coord == @coord) & (data_comuniquese < @data_corrente)\").shape[0]\n",
    "\n",
    "    # Autuados\n",
    "    data_container['Autuados'] = ad_main.query(\"(coord_atual == @coord) & (data_autuacao < @data_corrente)\").shape[0]\n",
    "    \n",
    "    # Estoque\n",
    "    coord_main = ad_main.query(\"(coord_atual == @coord) & ((status == 'em análise') | (status == 'indeferido') | (status == 'desconhecido'))\")\n",
    "    data_container['Estoque'] = coord_main.shape[0]\n",
    "\n",
    "    return data_container\n",
    "\n",
    "\n",
    "get_ad_acumulado('CAEPP')"
   ]
  },
  {
   "cell_type": "markdown",
   "metadata": {
    "id": "w1ZvxAk6aqhb",
    "jp-MarkdownHeadingCollapsed": true,
    "tags": []
   },
   "source": [
    "#### 8.2.10 Principais Categorias de Uso * DESENVOLVIMENTO"
   ]
  },
  {
   "cell_type": "markdown",
   "metadata": {
    "id": "rF1ZYkZRGl3V"
   },
   "source": [
    "<p align='justify'> Para extrair as categorias de uso será necessario criar uma nova coluna no DataFrame que vai abrigar qual a principal categoria de uso. Esse preenchimento será feito com base na coluna 'quadro_areas' e levará em consideração o grupo de atividade com maior área dentre as possibilidades</p>"
   ]
  },
  {
   "cell_type": "code",
   "execution_count": 61,
   "metadata": {
    "id": "fYkFzPqpy0NU"
   },
   "outputs": [],
   "source": [
    "# Função para extração do grupo de atividade\n",
    "def grupo_atv_extract(areas_list):\n",
    "    area, index = 0, 0\n",
    "\n",
    "    #Preparando o parse para json\n",
    "    areas_list = areas_list.replace(\"'\", '\"')\n",
    "    areas_list = areas_list.replace('None', 'null')\n",
    "    # Passando a entrada para json\n",
    "    areas_list = json.loads(areas_list)\n",
    "\n",
    "    for n, item in enumerate(areas_list):\n",
    "        if int(item['area_comput']) > area:\n",
    "            area = item['area_comput']\n",
    "            index = n\n",
    "    return areas_list[index]['grupo_atv'] or areas_list[index]['subcateg']\n",
    "\n",
    "#string = \"[{'tipo': 'Residencial (R)', 'uni': 110, 'subcateg': 'HMP', 'grupo_atv': None, 'area_comput': 3998.91, 'area_n_comput': 1814.58, 'area_total': 5813.49}, {'tipo': 'Não Residencial (nR)', 'uni': None, 'subcateg': 'nR1', 'grupo_atv': 'nR1-12', 'area_comput': 0, 'area_n_comput': 1683.8, 'area_total': 1683.8}, {'tipo': 'Não Residencial (nR)', 'uni': None, 'subcateg': 'nR1', 'grupo_atv': 'nR1-15', 'area_comput': 0, 'area_n_comput': 35.25, 'area_total': 35.25}]\"\n",
    "#print(grupo_atv_extract(string))\n"
   ]
  },
  {
   "cell_type": "code",
   "execution_count": 62,
   "metadata": {
    "id": "tFuUq14jHHDM"
   },
   "outputs": [],
   "source": [
    "# Processando os dados da coluna 'quadro_areas' e adicionando na nova coluna\n",
    "#main_df['grupo_atividade_principal'] = main_df['quadro_areas'].apply(grupo_atv_extract)"
   ]
  },
  {
   "cell_type": "code",
   "execution_count": 63,
   "metadata": {
    "id": "sxnpZf4RGfrD"
   },
   "outputs": [],
   "source": [
    "# Agrupando os valores no mês"
   ]
  },
  {
   "cell_type": "markdown",
   "metadata": {
    "id": "atsddIuT4lkZ",
    "tags": []
   },
   "source": [
    "### **7.3 Análise para o SLCe**"
   ]
  },
  {
   "cell_type": "markdown",
   "metadata": {
    "id": "rPrFm1PU4ojf",
    "tags": []
   },
   "source": [
    "#### 7.3.1 Despachos emitidos no mês de referência e no anterior"
   ]
  },
  {
   "cell_type": "code",
   "execution_count": 64,
   "metadata": {
    "colab": {
     "base_uri": "https://localhost:8080/"
    },
    "id": "lVPY2y-N4xOA",
    "outputId": "4df94ebe-1a41-408f-82dc-6061eb826ea0"
   },
   "outputs": [
    {
     "data": {
      "text/plain": [
       "{'despachos_mes_referencia': 412,\n",
       " 'despachos_mes_anterior': 464,\n",
       " 'deferidos_mes_referencia': 363,\n",
       " 'deferidos_mes_anterior': 334,\n",
       " 'indeferidos_mes_referencia': 49,\n",
       " 'indeferidos_mes_anterior': 130,\n",
       " 'encerrados_mes_referencia': 3,\n",
       " 'encerrados_mes_anterior': 49}"
      ]
     },
     "execution_count": 64,
     "metadata": {},
     "output_type": "execute_result"
    }
   ],
   "source": [
    "def get_slce_despachos():  # parametro coord retirado\n",
    "    # Data cointainer\n",
    "    data_container = {}\n",
    "\n",
    "    # Filtrando despachos para coordenadoria\n",
    "    #coord = slce_despachos.query(\"(coord_despacho == @coord)\")\n",
    "    coord_grouped = slce_despachos.groupby(grouper_desp) # coord foi trocado pelo tabela original - slce_despachos\n",
    "    \n",
    "    data_container['despachos_mes_referencia'] = int(coord_grouped.get_group(data_referencia)['n_processo'].count())\n",
    "    data_container['despachos_mes_anterior'] = int(coord_grouped.get_group(data_anterior)['n_processo'].count())\n",
    "\n",
    "    # Filtrando deferidos\n",
    "    deferidos = slce_despachos.query(\"deferido == 'Sim'\")  # coord foi trocado pelo tabela original - slce_despachos\n",
    "    deferidos_grouped = deferidos.groupby(grouper_desp)\n",
    "\n",
    "    data_container['deferidos_mes_referencia'] = int(deferidos_grouped.get_group(data_referencia)['n_processo'].count())\n",
    "    data_container['deferidos_mes_anterior'] = int(deferidos_grouped.get_group(data_anterior)['n_processo'].count())\n",
    "\n",
    "\n",
    "    # Filtrando indeferidos\n",
    "    indeferidos = slce_despachos.query(\"deferido == 'Não'\")  # coord foi trocado pelo tabela original - slce_despachos\n",
    "    indeferidos_grouped = indeferidos.groupby(grouper_desp)\n",
    "\n",
    "    data_container['indeferidos_mes_referencia'] = int(indeferidos_grouped.get_group(data_referencia)['n_processo'].count())\n",
    "    data_container['indeferidos_mes_anterior'] = int(indeferidos_grouped.get_group(data_anterior)['n_processo'].count())\n",
    "\n",
    "\n",
    "    # Filtrando indeferidos e encerrados\n",
    "    encerrados = slce_despachos.query(\"(deferido == 'Não') & (situacao == 'Indeferido - Encerrado')\")  # coord foi trocado pelo tabela original - slce_despachos\n",
    "    encerrados_grouped = encerrados.groupby(grouper_desp)\n",
    "\n",
    "    try:\n",
    "        data_container['encerrados_mes_referencia'] = int(encerrados_grouped.get_group(data_referencia)['n_processo'].count())\n",
    "        data_container['encerrados_mes_anterior'] = int(encerrados_grouped.get_group(data_anterior)['n_processo'].count())\n",
    "    \n",
    "    except KeyError:\n",
    "        data_container['encerrados_mes_referencia'] = 0\n",
    "        data_container['encerrados_mes_anterior'] = 0\n",
    "\n",
    "\n",
    "    return data_container\n",
    "\n",
    "get_slce_despachos()"
   ]
  },
  {
   "cell_type": "markdown",
   "metadata": {
    "id": "jDFjDe8JBJtR",
    "jp-MarkdownHeadingCollapsed": true,
    "tags": []
   },
   "source": [
    "#### Comunique-ses emitidos no mês de referência e anterior"
   ]
  },
  {
   "cell_type": "code",
   "execution_count": 65,
   "metadata": {
    "id": "90y2ImJ9BIqZ"
   },
   "outputs": [
    {
     "data": {
      "text/plain": [
       "{'comuniq_mes_referencia': 112, 'comuniq_mes_anterior': 163}"
      ]
     },
     "execution_count": 65,
     "metadata": {},
     "output_type": "execute_result"
    }
   ],
   "source": [
    "def get_slce_comuniqueses():\n",
    "    # Data cointainer\n",
    "    data_container = {}\n",
    "\n",
    "    # Filtrando comunique-ses para coordenadoria\n",
    "    #coord = slce_comuniqueses.query(\"(coord_comuniquese == @coord)\")\n",
    "    coord_grouped = slce_comuniqueses.groupby(grouper_comun) # coord foi trocado pelo tabela original - slce_despachos\n",
    "    \n",
    "    data_container['comuniq_mes_referencia'] = int(coord_grouped.get_group(data_referencia)['n_processo'].count())\n",
    "    data_container['comuniq_mes_anterior'] = int(coord_grouped.get_group(data_anterior)['n_processo'].count())\n",
    "\n",
    "\n",
    "    return data_container\n",
    "\n",
    "get_slce_comuniqueses()"
   ]
  },
  {
   "cell_type": "markdown",
   "metadata": {
    "id": "Qx3wdL4iDs8w",
    "jp-MarkdownHeadingCollapsed": true,
    "tags": []
   },
   "source": [
    "#### Processos autuados no mês de referência e anterior"
   ]
  },
  {
   "cell_type": "code",
   "execution_count": 66,
   "metadata": {
    "id": "kxK6f-52uhwn"
   },
   "outputs": [
    {
     "data": {
      "text/plain": [
       "{'aut_mes_referencia': 556, 'aut_mes_anterior': 624}"
      ]
     },
     "execution_count": 66,
     "metadata": {},
     "output_type": "execute_result"
    }
   ],
   "source": [
    "def get_slce_autuados():\n",
    "    # Data cointainer\n",
    "    data_container = {}\n",
    "\n",
    "    # Filtrando comunique-ses para coordenadoria\n",
    "    #coord = slce_main.query(\"(data_autuacao >= @data_anterior) & (data_autuacao < @data_corrente) & (coord_atual == @coord)\")\n",
    "    coord_grouped = slce_main.groupby(grouper_aut) # coord foi trocado pelo tabela original - slce_main\n",
    "    \n",
    "    data_container['aut_mes_referencia'] = int(coord_grouped.get_group(data_referencia)['n_processo'].count())\n",
    "    data_container['aut_mes_anterior'] = int(coord_grouped.get_group(data_anterior)['n_processo'].count())\n",
    "\n",
    "\n",
    "    return data_container\n",
    "\n",
    "get_slce_autuados()"
   ]
  },
  {
   "cell_type": "markdown",
   "metadata": {
    "id": "UOHgdJqEsbUp",
    "jp-MarkdownHeadingCollapsed": true,
    "tags": []
   },
   "source": [
    "#### Últimos 12 meses despachos "
   ]
  },
  {
   "cell_type": "code",
   "execution_count": 67,
   "metadata": {
    "id": "Z8dFaDBJs1DA"
   },
   "outputs": [
    {
     "data": {
      "text/plain": [
       "{'despachos_12': data_despacho\n",
       " 2022-10-01    504\n",
       " 2022-11-01    612\n",
       " 2022-12-01    649\n",
       " 2023-01-01    578\n",
       " 2023-02-01    517\n",
       " 2023-03-01    703\n",
       " 2023-04-01    800\n",
       " 2023-05-01    939\n",
       " 2023-06-01    615\n",
       " 2023-07-01    668\n",
       " 2023-08-01    464\n",
       " 2023-09-01    412\n",
       " Freq: MS, Name: deferido, dtype: int64,\n",
       " 'deferidos_12': data_despacho\n",
       " 2022-10-01    337\n",
       " 2022-11-01    456\n",
       " 2022-12-01    494\n",
       " 2023-01-01    416\n",
       " 2023-02-01    414\n",
       " 2023-03-01    560\n",
       " 2023-04-01    579\n",
       " 2023-05-01    712\n",
       " 2023-06-01    442\n",
       " 2023-07-01    512\n",
       " 2023-08-01    334\n",
       " 2023-09-01    363\n",
       " Freq: MS, Name: deferido, dtype: int64,\n",
       " 'indeferidos_12': data_despacho\n",
       " 2022-10-01    167\n",
       " 2022-11-01    156\n",
       " 2022-12-01    155\n",
       " 2023-01-01    162\n",
       " 2023-02-01    103\n",
       " 2023-03-01    143\n",
       " 2023-04-01    221\n",
       " 2023-05-01    227\n",
       " 2023-06-01    173\n",
       " 2023-07-01    156\n",
       " 2023-08-01    130\n",
       " 2023-09-01     49\n",
       " Freq: MS, Name: deferido, dtype: int64}"
      ]
     },
     "execution_count": 67,
     "metadata": {},
     "output_type": "execute_result"
    }
   ],
   "source": [
    "def get_slce_last_12_despachos():\n",
    "    # Data cointainer\n",
    "    data_container = {}\n",
    "\n",
    "    # Filtrando despachos para coordenadoria\n",
    "    #coord = slce_despachos.query(\"(coord_despacho == @coord)\")\n",
    "    coord_grouped = slce_despachos.groupby(grouper_desp) # coord foi trocado pelo tabela original - slce_despachos\n",
    "    \n",
    "    # Ultimos 12 meses de despachos\n",
    "    data_container['despachos_12'] = coord_grouped['deferido'].count().loc[:data_referencia][-12:]\n",
    "\n",
    "    # Fiitrando e extraindo deferidos\n",
    "    deferidos = slce_despachos.query(\"deferido == 'Sim'\").groupby(grouper_desp) # coord foi trocado pelo tabela original - slce_despachos\n",
    "    data_container['deferidos_12'] = deferidos['deferido'].count().loc[:data_referencia][-12:]\n",
    "\n",
    "    # Fiitrando e extraindo indeferidos\n",
    "    indeferidos = slce_despachos.query(\"deferido == 'Não'\").groupby(grouper_desp) # coord foi trocado pelo tabela original - slce_despachos\n",
    "    data_container['indeferidos_12'] = indeferidos['deferido'].count().loc[:data_referencia][-12:]\n",
    "\n",
    "\n",
    "    return data_container\n",
    "\n",
    "get_slce_last_12_despachos()"
   ]
  },
  {
   "cell_type": "markdown",
   "metadata": {
    "id": "0wDe2DXmszbz",
    "jp-MarkdownHeadingCollapsed": true,
    "tags": []
   },
   "source": [
    "#### Últimos 12 meses comunique-ses"
   ]
  },
  {
   "cell_type": "code",
   "execution_count": 68,
   "metadata": {
    "id": "nA-eOzsSs7J3"
   },
   "outputs": [
    {
     "data": {
      "text/plain": [
       "data_comuniquese\n",
       "2022-10-01    481\n",
       "2022-11-01    455\n",
       "2022-12-01    372\n",
       "2023-01-01    540\n",
       "2023-02-01    416\n",
       "2023-03-01    590\n",
       "2023-04-01    497\n",
       "2023-05-01    580\n",
       "2023-06-01    417\n",
       "2023-07-01    353\n",
       "2023-08-01    163\n",
       "2023-09-01    112\n",
       "Freq: MS, Name: n_processo, dtype: int64"
      ]
     },
     "execution_count": 68,
     "metadata": {},
     "output_type": "execute_result"
    }
   ],
   "source": [
    "def get_slce_last_12_comuniq():\n",
    "\n",
    "    # Filtrando despachos para coordenadoria\n",
    "    #coord = slce_comuniqueses.query(\"(coord_comuniquese == @coord)\") # coord foi trocado pelo tabela original - slce_comuniqueses\n",
    "    coord_grouped = slce_comuniqueses.groupby(grouper_comun)\n",
    "    \n",
    "    # Ultimos 12 meses de despachos\n",
    "    comuniq_12 = coord_grouped['n_processo'].count().loc[:data_referencia][-12:]\n",
    "\n",
    "    return comuniq_12\n",
    "\n",
    "get_slce_last_12_comuniq()"
   ]
  },
  {
   "cell_type": "markdown",
   "metadata": {
    "id": "PoDw1DpBs7j4",
    "jp-MarkdownHeadingCollapsed": true,
    "tags": []
   },
   "source": [
    "#### Últimos 12 meses autuações"
   ]
  },
  {
   "cell_type": "code",
   "execution_count": 69,
   "metadata": {
    "id": "B-tbjFkRtEwA"
   },
   "outputs": [
    {
     "data": {
      "text/plain": [
       "data_autuacao\n",
       "2022-10-01    488\n",
       "2022-11-01    758\n",
       "2022-12-01    714\n",
       "2023-01-01    515\n",
       "2023-02-01    601\n",
       "2023-03-01    684\n",
       "2023-04-01    597\n",
       "2023-05-01    681\n",
       "2023-06-01    641\n",
       "2023-07-01    600\n",
       "2023-08-01    624\n",
       "2023-09-01    556\n",
       "Freq: MS, Name: n_processo, dtype: int64"
      ]
     },
     "execution_count": 69,
     "metadata": {},
     "output_type": "execute_result"
    }
   ],
   "source": [
    "def get_slce_last_12_autuados():\n",
    "\n",
    "    # Filtrando despachos para coordenadoria\n",
    "    #coord = slce_main.query(\"(coord_atual == @coord)\")\n",
    "    coord_grouped = slce_main.groupby(grouper_aut) # coord foi trocado pelo tabela original - slce_despachos\n",
    "    \n",
    "    # Ultimos 12 meses de despachos\n",
    "    aut_12 = coord_grouped['n_processo'].count().loc[:data_referencia][-12:]\n",
    "   \n",
    "    return aut_12\n",
    "\n",
    "get_slce_last_12_autuados()"
   ]
  },
  {
   "cell_type": "markdown",
   "metadata": {
    "id": "xSN2uZZWtH7Z",
    "tags": []
   },
   "source": [
    "#### Assuntos requeridos"
   ]
  },
  {
   "cell_type": "code",
   "execution_count": 70,
   "metadata": {
    "colab": {
     "base_uri": "https://localhost:8080/"
    },
    "id": "AW01SqHHtWcg",
    "outputId": "01aa0b6a-0fbf-4949-af6b-5b4be1fba494"
   },
   "outputs": [
    {
     "data": {
      "text/plain": [
       "assunto_x\n",
       "Alvará de Autorização para avanço de Tapume sobre parte do Passeio Público    163\n",
       "Alvará de Autorização de Implantação e/ou Utilização de Estande de Vendas      50\n",
       "Alvará de Execução de Demolição                                                43\n",
       "Certificado de Conclusão de Demolição                                          38\n",
       "Certificado de Conclusão                                                       35\n",
       "Alvará de Aprovação e Execução para Residência Unifamiliar                     25\n",
       "Alvará de Reparcelamento de Lote                                                3\n",
       "Alvará de Execução de Edificação Nova                                           2\n",
       "Alvará de Desmembramento de Lote                                                2\n",
       "Alvará de Aprovação de Edificação Nova                                          2\n",
       "Name: count, dtype: int64"
      ]
     },
     "execution_count": 70,
     "metadata": {},
     "output_type": "execute_result"
    }
   ],
   "source": [
    "def get_slce_assuntos():\n",
    "\n",
    "    # Filtrando despachos deferidos para coordenadoria\n",
    "    coord_desp = slce_despachos.query(\"(deferido == 'Sim')\") # retirado: (coord_despacho == @coord) & \n",
    "    # Filtro para o período\n",
    "    coord_desp_mes = coord_desp.query(\"(data_despacho >= @data_referencia) & (data_despacho < @data_corrente)\")\n",
    "\n",
    "    # Fazendo um left merge com a planilha principal para adcionar a coluna assunto à tabela de despachos\n",
    "    assuntos = coord_desp_mes.merge(slce_main[['n_processo', 'assunto']].drop_duplicates(subset=['n_processo']), on='n_processo', how='left')\n",
    "    return assuntos['assunto_x'].value_counts()\n",
    "\n",
    "\n",
    "get_slce_assuntos()"
   ]
  },
  {
   "cell_type": "markdown",
   "metadata": {
    "id": "SEsdK4fRtE-R"
   },
   "source": [
    "#### Acumulados"
   ]
  },
  {
   "cell_type": "code",
   "execution_count": 71,
   "metadata": {
    "id": "2wexMrcHtHux"
   },
   "outputs": [
    {
     "data": {
      "text/plain": [
       "{'Despachos': 30044,\n",
       " 'Deferidos': 17106,\n",
       " 'Indeferidos': 12938,\n",
       " 'COMIN-GTEA': 14764,\n",
       " 'CAEPP-DERPP': 14139,\n",
       " 'CAEPP': 1,\n",
       " 'Comunique-ses': 28787,\n",
       " 'Autuados': 36540,\n",
       " 'Estoque': 15251}"
      ]
     },
     "execution_count": 71,
     "metadata": {},
     "output_type": "execute_result"
    }
   ],
   "source": [
    "# Para valores históricos, devemos misturar GTEL com RESID? POr equanto será usado apenas GTEL\n",
    "def get_slce_acumulado():\n",
    "\n",
    "    data_container = {}\n",
    "\n",
    "    # Filtrando despachos para coordenadoria\n",
    "    coord_desp = slce_despachos.query(\"(data_despacho < @data_corrente)\") # Retirado: (coord_despacho == @coord) &\n",
    "    \n",
    "    # Despachos\n",
    "    data_container['Despachos'] = coord_desp.shape[0]\n",
    "    data_container['Deferidos'] = coord_desp.query(\"(deferido == 'Sim')\").shape[0]\n",
    "    data_container['Indeferidos'] = coord_desp.query(\"(deferido == 'Não')\").shape[0]\n",
    "\n",
    "    # Divisões\n",
    "    for i in coord_desp['coord_despacho'].value_counts().index:\n",
    "        div_name = i.split('/')[-1]\n",
    "        data_container[div_name] = coord_desp.query('coord_despacho == @i').shape[0]\n",
    "\n",
    "    # Comunique-ses\n",
    "    data_container['Comunique-ses'] = slce_comuniqueses.query(\"(data_comuniquese < @data_corrente)\").shape[0] # Retirado: (coord_comuniquese == @coord) & \n",
    "\n",
    "    # Autuados\n",
    "    data_container['Autuados'] = slce_main.query(\"(data_autuacao < @data_corrente)\").shape[0] # Retirado: (coord_atual == @coord) & \n",
    "    \n",
    "    # Estoque\n",
    "    status_ativos = ['Processo Físico', 'Indeferido', 'Em Análise', 'Processando Despacho', 'Solicitação Enviada', 'Em Comunique-se', 'Processando Comunique-se', 'Aguardando Pagamento', 'Aguardando Aceite']\n",
    "    coord_main = slce_main.query(\"status.isin(@status_ativos)\") # Retirado: (coord_atual == @coord) & \n",
    "    data_container['Estoque'] = coord_main.shape[0]\n",
    "    \n",
    "    del data_container['RESID']\n",
    "    del data_container['COMIN']\n",
    "    del data_container['Processo Eletrônico']\n",
    "    del data_container['PARHIS-G']\n",
    "    del data_container['SERVIN']\n",
    "    del data_container['GAB']\n",
    "    del data_container['CONTRU-G']\n",
    "    del data_container['PARHIS-3']\n",
    "\n",
    "    return data_container\n",
    "\n",
    "\n",
    "get_slce_acumulado()"
   ]
  },
  {
   "cell_type": "markdown",
   "metadata": {
    "id": "62DPzaJb9kLq",
    "tags": []
   },
   "source": [
    "### **7.4 Analise para o SISSEL**"
   ]
  },
  {
   "cell_type": "markdown",
   "metadata": {
    "id": "JyiuZTSxGWek",
    "tags": []
   },
   "source": [
    "#### 7.4.1 Despachos emitidos no mês de referência e anterior"
   ]
  },
  {
   "cell_type": "code",
   "execution_count": 72,
   "metadata": {
    "colab": {
     "base_uri": "https://localhost:8080/"
    },
    "id": "Mbb-aPjhGWel",
    "outputId": "8ac63a9a-47ec-46f8-dc3f-91a082e08052"
   },
   "outputs": [
    {
     "data": {
      "text/plain": [
       "{'despachos_mes_referencia': 37,\n",
       " 'despachos_mes_anterior': 40,\n",
       " 'deferidos_mes_referencia': 27,\n",
       " 'deferidos_mes_anterior': 21,\n",
       " 'indeferidos_mes_referencia': 10,\n",
       " 'indeferidos_mes_anterior': 19}"
      ]
     },
     "execution_count": 72,
     "metadata": {},
     "output_type": "execute_result"
    }
   ],
   "source": [
    "def get_sissel_despachos(coord):\n",
    "    # Data cointainer\n",
    "    data_container = {}\n",
    "    \n",
    "    # Filtrando despachos para coordenadoria\n",
    "    coord = sissel_despachos.query(\"(coord == @coord)\")\n",
    "    coord_grouped = coord.groupby(grouper_desp)\n",
    "\n",
    "    data_container['despachos_mes_referencia'] = int(coord_grouped.get_group(data_referencia)['n_processo'].count())\n",
    "    data_container['despachos_mes_anterior'] = int(coord_grouped.get_group(data_anterior)['n_processo'].count())\n",
    "\n",
    "    # Filtrando deferidos\n",
    "    deferidos = coord.query(\"situacao == 'COM PROPOSTA DE DEFERIMENTO'\")\n",
    "    deferidos_grouped = deferidos.groupby(grouper_desp)\n",
    "\n",
    "    data_container['deferidos_mes_referencia'] = int(deferidos_grouped.get_group(data_referencia)['n_processo'].count())\n",
    "    data_container['deferidos_mes_anterior'] = int(deferidos_grouped.get_group(data_anterior)['n_processo'].count())#\n",
    "\n",
    "    # Filtrando indeferidos\n",
    "    indeferidos = coord.query(\"situacao == 'COM PROPOSTA DE INDEFERIMENTO'\")\n",
    "    indeferidos_grouped = indeferidos.groupby(grouper_desp)\n",
    "\n",
    "    data_container['indeferidos_mes_referencia'] = int(indeferidos_grouped.get_group(data_referencia)['n_processo'].count())\n",
    "    data_container['indeferidos_mes_anterior'] = int(indeferidos_grouped.get_group(data_anterior)['n_processo'].count())\n",
    "\n",
    "\n",
    "    return data_container\n",
    "\n",
    "get_sissel_despachos('RESID')"
   ]
  },
  {
   "cell_type": "markdown",
   "metadata": {
    "id": "yeIcjDETGWel",
    "tags": []
   },
   "source": [
    "#### 7.4.2 Despachos emitidos por divisão no mês de referência"
   ]
  },
  {
   "cell_type": "code",
   "execution_count": 73,
   "metadata": {
    "colab": {
     "base_uri": "https://localhost:8080/"
    },
    "id": "Go_iv8ShGWel",
    "outputId": "dc3e08bb-4788-4869-e65a-c91ba4b1ba55"
   },
   "outputs": [
    {
     "data": {
      "text/plain": [
       "divisao\n",
       "DRGP     21\n",
       "DRVE     11\n",
       "RESID     5\n",
       "Name: count, dtype: int64"
      ]
     },
     "execution_count": 73,
     "metadata": {},
     "output_type": "execute_result"
    }
   ],
   "source": [
    "def get_sissel_divisoes(coord):\n",
    "    # Data cointainer\n",
    "    data_container = {}\n",
    "\n",
    "    # Filtrando despachos para coordenadoria\n",
    "    coord = sissel_despachos.query(\"(coord == @coord)\")\n",
    "    coord_grouped = coord.groupby(grouper_desp)\n",
    "    \n",
    "    mes_referencia = coord_grouped.get_group(data_referencia)\n",
    "    \n",
    "    return mes_referencia['divisao'].value_counts()\n",
    "    \n",
    "get_sissel_divisoes('RESID')"
   ]
  },
  {
   "cell_type": "code",
   "execution_count": 74,
   "metadata": {
    "colab": {
     "base_uri": "https://localhost:8080/"
    },
    "id": "LcpDO8KOGWel",
    "outputId": "dbc82cdc-39e3-4ebb-d72a-994aadb9802e"
   },
   "outputs": [
    {
     "name": "stdout",
     "output_type": "stream",
     "text": [
      "['DRGP', 'DRVE', 'RESID']\n"
     ]
    }
   ],
   "source": [
    "def get_sissel_divisao_list(coord):\n",
    "    # Recebe um objeto Series contendo algumas divisões e retorna o nome de cada uma\n",
    "    \n",
    "    series = get_sissel_divisoes(coord)\n",
    "    div_list = [i.split('/')[-1] for i in series.index]\n",
    "\n",
    "    return div_list\n",
    "\n",
    "print(get_sissel_divisao_list('RESID'))"
   ]
  },
  {
   "cell_type": "markdown",
   "metadata": {
    "id": "SAy8iMwqGWel",
    "tags": []
   },
   "source": [
    "#### 7.4.3 Comunique-ses mês de referência e anterior"
   ]
  },
  {
   "cell_type": "code",
   "execution_count": 75,
   "metadata": {
    "colab": {
     "base_uri": "https://localhost:8080/"
    },
    "id": "rJIoetulGWel",
    "outputId": "52574336-3a5a-4e4f-e197-362ef64c751d"
   },
   "outputs": [
    {
     "data": {
      "text/plain": [
       "{'comuniq_mes_referencia': 38, 'comuniq_mes_anterior': 37}"
      ]
     },
     "execution_count": 75,
     "metadata": {},
     "output_type": "execute_result"
    }
   ],
   "source": [
    "def get_sissel_comuniqueses(coord):\n",
    "    # Data cointainer\n",
    "    data_container = {}\n",
    "\n",
    "    # Filtrando comunique-ses para coordenadoria\n",
    "    coord = sissel_comuniqueses.query(\"coord == @coord\")\n",
    "    coord_grouped = coord.groupby(grouper_comun)\n",
    "    \n",
    "    data_container['comuniq_mes_referencia'] = int(coord_grouped.get_group(data_referencia)['n_processo'].count())\n",
    "    data_container['comuniq_mes_anterior'] = int(coord_grouped.get_group(data_anterior)['n_processo'].count())\n",
    "\n",
    "    return data_container\n",
    "\n",
    "get_sissel_comuniqueses('RESID')"
   ]
  },
  {
   "cell_type": "markdown",
   "metadata": {
    "id": "A7CN-L9_GWel",
    "tags": []
   },
   "source": [
    "#### 7.4.4 Processos autuados no mês de referência e anterior *ADCIONAR NOTAS"
   ]
  },
  {
   "cell_type": "code",
   "execution_count": 76,
   "metadata": {
    "colab": {
     "base_uri": "https://localhost:8080/"
    },
    "id": "BHOEsQARGWel",
    "outputId": "10f15702-82f6-4135-c239-5ab93c8967dc"
   },
   "outputs": [
    {
     "data": {
      "text/plain": [
       "'\\ndef get_ad_autuados(coord):\\n    # Data cointainer\\n    data_container = {}\\n\\n    # Filtrando comunique-ses para coordenadoria\\n    coord = ad_main.query(\"(data_autuacao >= @data_anterior) & (data_autuacao < @data_corrente) & (coord_autuacao == @coord)\")\\n    coord_grouped = coord.groupby(grouper_aut)\\n    \\n    data_container[\\'aut_mes_referencia\\'] = int(coord_grouped.get_group(data_referencia)[\\'n_processo\\'].count())\\n    data_container[\\'aut_mes_anterior\\'] = int(coord_grouped.get_group(data_anterior)[\\'n_processo\\'].count())\\n\\n    return data_container\\n\\nget_ad_autuados(\\'RESID\\')\\n'"
      ]
     },
     "execution_count": 76,
     "metadata": {},
     "output_type": "execute_result"
    }
   ],
   "source": [
    "# Dados incompletos impedem a implementação\n",
    "\"\"\"\n",
    "def get_ad_autuados(coord):\n",
    "    # Data cointainer\n",
    "    data_container = {}\n",
    "\n",
    "    # Filtrando comunique-ses para coordenadoria\n",
    "    coord = ad_main.query(\"(data_autuacao >= @data_anterior) & (data_autuacao < @data_corrente) & (coord_autuacao == @coord)\")\n",
    "    coord_grouped = coord.groupby(grouper_aut)\n",
    "    \n",
    "    data_container['aut_mes_referencia'] = int(coord_grouped.get_group(data_referencia)['n_processo'].count())\n",
    "    data_container['aut_mes_anterior'] = int(coord_grouped.get_group(data_anterior)['n_processo'].count())\n",
    "\n",
    "    return data_container\n",
    "\n",
    "get_ad_autuados('RESID')\n",
    "\"\"\"\n"
   ]
  },
  {
   "cell_type": "markdown",
   "metadata": {
    "id": "wChkwrvbGWel",
    "tags": []
   },
   "source": [
    "#### 7.4.5 Últimos 12 meses despachos"
   ]
  },
  {
   "cell_type": "code",
   "execution_count": 77,
   "metadata": {
    "colab": {
     "base_uri": "https://localhost:8080/"
    },
    "id": "xdZYWJnRGWel",
    "outputId": "5ee667b8-176e-4606-9ca5-c39b8172b048"
   },
   "outputs": [
    {
     "data": {
      "text/plain": [
       "{'despachos': data_despacho\n",
       " 2022-10-01    45\n",
       " 2022-11-01    44\n",
       " 2022-12-01    31\n",
       " 2023-01-01    33\n",
       " 2023-02-01    24\n",
       " 2023-03-01    51\n",
       " 2023-04-01    26\n",
       " 2023-05-01    44\n",
       " 2023-06-01    34\n",
       " 2023-07-01    44\n",
       " 2023-08-01    40\n",
       " 2023-09-01    37\n",
       " Freq: MS, Name: situacao, dtype: int64,\n",
       " 'deferidos': data_despacho\n",
       " 2022-10-01    30\n",
       " 2022-11-01    30\n",
       " 2022-12-01    18\n",
       " 2023-01-01    22\n",
       " 2023-02-01    10\n",
       " 2023-03-01    29\n",
       " 2023-04-01    13\n",
       " 2023-05-01    21\n",
       " 2023-06-01    22\n",
       " 2023-07-01    25\n",
       " 2023-08-01    21\n",
       " 2023-09-01    27\n",
       " Freq: MS, Name: situacao, dtype: int64,\n",
       " 'indeferidos': data_despacho\n",
       " 2022-10-01    15\n",
       " 2022-11-01    14\n",
       " 2022-12-01    13\n",
       " 2023-01-01    11\n",
       " 2023-02-01    14\n",
       " 2023-03-01    22\n",
       " 2023-04-01    13\n",
       " 2023-05-01    23\n",
       " 2023-06-01    12\n",
       " 2023-07-01    19\n",
       " 2023-08-01    19\n",
       " 2023-09-01    10\n",
       " Freq: MS, Name: situacao, dtype: int64}"
      ]
     },
     "execution_count": 77,
     "metadata": {},
     "output_type": "execute_result"
    }
   ],
   "source": [
    "def get_sissel_last_12_despachos(coord):\n",
    "    # Data cointainer\n",
    "    data_container = {}\n",
    "\n",
    "    # Filtrando despachos para coordenadoria\n",
    "    coord = sissel_despachos.query(\"(coord == @coord)\")\n",
    "    coord_grouped = coord.groupby(grouper_desp)\n",
    "    \n",
    "    # Ultimos 12 meses de despachos\n",
    "    data_container['despachos'] = coord_grouped['situacao'].count().loc[:data_referencia][-12:]\n",
    "\n",
    "    # Fiitrando e extraindo deferidos\n",
    "    deferidos = coord.query(\"situacao == 'COM PROPOSTA DE DEFERIMENTO'\").groupby(grouper_desp)\n",
    "    data_container['deferidos'] = deferidos['situacao'].count().loc[:data_referencia][-12:]\n",
    "\n",
    "    # Fiitrando e extraindo indeferidos\n",
    "    indeferidos = coord.query(\"situacao == 'COM PROPOSTA DE INDEFERIMENTO'\").groupby(grouper_desp)\n",
    "    data_container['indeferidos'] = indeferidos['situacao'].count().loc[:data_referencia][-12:]\n",
    "\n",
    "\n",
    "    return data_container\n",
    "\n",
    "get_sissel_last_12_despachos('RESID')"
   ]
  },
  {
   "cell_type": "markdown",
   "metadata": {
    "id": "8XH3N-GlGWem",
    "tags": []
   },
   "source": [
    "#### 7.4.6 Últimos 12 meses comunique-ses"
   ]
  },
  {
   "cell_type": "code",
   "execution_count": 78,
   "metadata": {
    "colab": {
     "base_uri": "https://localhost:8080/"
    },
    "id": "Sa0GDcI3GWem",
    "outputId": "57d0af13-1770-4ae8-d327-7dfe5d31240f"
   },
   "outputs": [
    {
     "data": {
      "text/plain": [
       "data_comuniquese\n",
       "2022-10-01    45\n",
       "2022-11-01    44\n",
       "2022-12-01    30\n",
       "2023-01-01    43\n",
       "2023-02-01    32\n",
       "2023-03-01    41\n",
       "2023-04-01    50\n",
       "2023-05-01    35\n",
       "2023-06-01    26\n",
       "2023-07-01    24\n",
       "2023-08-01    37\n",
       "2023-09-01    38\n",
       "Freq: MS, Name: n_processo, dtype: int64"
      ]
     },
     "execution_count": 78,
     "metadata": {},
     "output_type": "execute_result"
    }
   ],
   "source": [
    "def get_sissel_last_12_comuniq(coord):\n",
    "\n",
    "    # Filtrando despachos para coordenadoria\n",
    "    coord = sissel_comuniqueses.query(\"(coord == @coord)\")\n",
    "    coord_grouped = coord.groupby(grouper_comun)\n",
    "    \n",
    "    # Ultimos 12 meses de despachos\n",
    "    comuniq_12 = coord_grouped['n_processo'].count().loc[:data_referencia][-12:]\n",
    "\n",
    "    return comuniq_12\n",
    "\n",
    "get_sissel_last_12_comuniq('RESID')"
   ]
  },
  {
   "cell_type": "markdown",
   "metadata": {
    "id": "F6HBTU7GGWem",
    "tags": []
   },
   "source": [
    "#### 7.4.7 Últimos 12 meses autuações"
   ]
  },
  {
   "cell_type": "code",
   "execution_count": 79,
   "metadata": {
    "colab": {
     "base_uri": "https://localhost:8080/"
    },
    "id": "bNWyhhRqGWem",
    "outputId": "8fbe4595-1dbb-47c2-b29d-fc29ea04a523"
   },
   "outputs": [
    {
     "data": {
      "text/plain": [
       "'\\ndef get_ad_last_12_autuados(coord):\\n\\n    # Filtrando despachos para coordenadoria\\n    coord = ad_main.query(\"(coord_autuacao == @coord)\")\\n    coord_grouped = coord.groupby(grouper_aut)\\n    \\n    # Ultimos 12 meses de despachos\\n    aut_12 = coord_grouped[\\'n_processo\\'].count().loc[:data_referencia][-12:]\\n   \\n    return aut_12\\n\\nget_ad_last_12_autuados(\\'RESID\\')\\n'"
      ]
     },
     "execution_count": 79,
     "metadata": {},
     "output_type": "execute_result"
    }
   ],
   "source": [
    "# Dados incompletos impedem a implementação\n",
    "\"\"\"\n",
    "def get_ad_last_12_autuados(coord):\n",
    "\n",
    "    # Filtrando despachos para coordenadoria\n",
    "    coord = ad_main.query(\"(coord_autuacao == @coord)\")\n",
    "    coord_grouped = coord.groupby(grouper_aut)\n",
    "    \n",
    "    # Ultimos 12 meses de despachos\n",
    "    aut_12 = coord_grouped['n_processo'].count().loc[:data_referencia][-12:]\n",
    "   \n",
    "    return aut_12\n",
    "\n",
    "get_ad_last_12_autuados('RESID')\n",
    "\"\"\""
   ]
  },
  {
   "cell_type": "markdown",
   "metadata": {
    "id": "sQ96bj5FGWem",
    "tags": []
   },
   "source": [
    "#### 7.4.8 Assuntos requeridos"
   ]
  },
  {
   "cell_type": "code",
   "execution_count": 80,
   "metadata": {
    "colab": {
     "base_uri": "https://localhost:8080/"
    },
    "id": "lFUS2K-NGWem",
    "outputId": "40427b4c-a1ee-4e14-ca7b-e8b3c8adc201"
   },
   "outputs": [
    {
     "data": {
      "text/plain": [
       "assunto\n",
       "APOSTILAMENTO DE ALVARA DE APROVACAO E EXECUCAO DE EDIFICACAO NOVA              6\n",
       "APOSTILAMENTO DE ALVARA DE EXECUCAO DE EDIFICACAO NOVA                          5\n",
       "APOSTILAMENTO DE ALVARA DE APROVACAO DE EDIFICACAO NOVA                         4\n",
       "RECONSIDERACAO DE DESPACHO DE ALVARA DE APROVACAO DE EDIFICACAO NOVA            3\n",
       "ALVARA DE APROVACAO E EXECUCAO DE REQUALIFICACAO                                3\n",
       "ALVARA DE APROVACAO DE EDIFICACAO NOVA                                          2\n",
       "RECONSIDERACAO DESPACHO DE ALVARA DE APROVACAO E EXECUCAO DE EDIFICACAO NOVA    1\n",
       "ALVARA DE EXECUCAO DE REQUALIFICACAO                                            1\n",
       "PROJETO MODIFICATIVO DE ALVARA DE APROVACAO E EXECUCAO DE EDIFICACAO NOVA       1\n",
       "ALVARA DE APROVACAO E EXECUCAO DE EDIFICACAO NOVA                               1\n",
       "Name: count, dtype: int64"
      ]
     },
     "execution_count": 80,
     "metadata": {},
     "output_type": "execute_result"
    }
   ],
   "source": [
    "def get_sissel_assuntos(coord):\n",
    "\n",
    "    # Filtrando despachos deferidos para coordenadoria\n",
    "    coord_desp = sissel_despachos.query(\"(coord == @coord) & (situacao == 'COM PROPOSTA DE DEFERIMENTO')\")\n",
    "    \n",
    "    # Filtro para o período\n",
    "    assuntos = coord_desp.query(\"(data_despacho >= @data_referencia) & (data_despacho < @data_corrente)\")\n",
    "\n",
    "    return assuntos['assunto'].value_counts()\n",
    "\n",
    "get_sissel_assuntos('RESID')"
   ]
  },
  {
   "cell_type": "markdown",
   "metadata": {
    "id": "rZFk30xZGWem",
    "tags": []
   },
   "source": [
    "#### 7.4.9 Acumulados"
   ]
  },
  {
   "cell_type": "code",
   "execution_count": 81,
   "metadata": {
    "colab": {
     "base_uri": "https://localhost:8080/"
    },
    "id": "he8uaoeKGWem",
    "outputId": "741f2b1c-8401-4a76-c18a-578818af4e77"
   },
   "outputs": [
    {
     "data": {
      "text/plain": [
       "{'Despachos': 7715,\n",
       " 'Deferidos': 4451,\n",
       " 'Indeferidos': 3229,\n",
       " 'DRGP': 3288,\n",
       " 'DRVE': 20,\n",
       " 'RESID': 1544,\n",
       " 'Comunique-ses': 27816}"
      ]
     },
     "execution_count": 81,
     "metadata": {},
     "output_type": "execute_result"
    }
   ],
   "source": [
    "def get_sissel_acumulado(coord):\n",
    "\n",
    "    data_container = {}\n",
    "\n",
    "    # Filtrando despachos para coordenadoria\n",
    "    coord_desp = sissel_despachos.query(\"(coord == @coord) & (data_despacho < @data_corrente)\")\n",
    "    \n",
    "    # Despachos\n",
    "    data_container['Despachos'] = coord_desp.shape[0]\n",
    "    data_container['Deferidos'] = coord_desp.query(\"(situacao == 'COM PROPOSTA DE DEFERIMENTO')\").shape[0]\n",
    "    data_container['Indeferidos'] = coord_desp.query(\"(situacao == 'COM PROPOSTA DE INDEFERIMENTO')\").shape[0]\n",
    "\n",
    "    # Divisões\n",
    "    for i in get_sissel_divisao_list(coord):\n",
    "        data_container[i] = coord_desp.query('divisao == @i').shape[0]\n",
    "\n",
    "    # Comunique-ses\n",
    "    data_container['Comunique-ses'] = sissel_comuniqueses.query(\"(coord == @coord) & (data_comuniquese < @data_corrente)\").shape[0]\n",
    "\n",
    "    # Autuados\n",
    "    #data_container['Autuados'] = sissel_main.query(\"(coord_atual == @coord) & (data_autuacao < @data_corrente)\").shape[0]\n",
    "    \n",
    "    # Estoque\n",
    "    #coord_main = sissel_main.query(\"(coord_atual == @coord) & ((status == 'em análise') | (status == 'indeferido') | (status == 'desconhecido'))\")\n",
    "    #data_container['Estoque'] = coord_main.shape[0]\n",
    "\n",
    "    return data_container\n",
    "\n",
    "\n",
    "get_sissel_acumulado('RESID')"
   ]
  },
  {
   "cell_type": "markdown",
   "metadata": {
    "id": "Ym8mf5V5GWem",
    "tags": []
   },
   "source": [
    "#### 7.4.10 Principais Categorias de Uso * DESENVOLVIMENTO"
   ]
  },
  {
   "cell_type": "markdown",
   "metadata": {
    "id": "XOrxDrTEGWem"
   },
   "source": [
    "<p align='justify'> Para extrair as categorias de uso será necessario criar uma nova coluna no DataFrame que vai abrigar qual a principal categoria de uso. Esse preenchimento será feito com base na coluna 'quadro_areas' e levará em consideração o grupo de atividade com maior área dentre as possibilidades</p>"
   ]
  },
  {
   "cell_type": "code",
   "execution_count": 82,
   "metadata": {
    "id": "dmXuA6c2GWem"
   },
   "outputs": [],
   "source": [
    "# Função para extração do grupo de atividade\n",
    "def grupo_atv_extract(areas_list):\n",
    "    area, index = 0, 0\n",
    "\n",
    "    #Preparando o parse para json\n",
    "    areas_list = areas_list.replace(\"'\", '\"')\n",
    "    areas_list = areas_list.replace('None', 'null')\n",
    "    # Passando a entrada para json\n",
    "    areas_list = json.loads(areas_list)\n",
    "\n",
    "    for n, item in enumerate(areas_list):\n",
    "        if int(item['area_comput']) > area:\n",
    "            area = item['area_comput']\n",
    "            index = n\n",
    "    return areas_list[index]['grupo_atv'] or areas_list[index]['subcateg']\n",
    "\n",
    "#string = \"[{'tipo': 'Residencial (R)', 'uni': 110, 'subcateg': 'HMP', 'grupo_atv': None, 'area_comput': 3998.91, 'area_n_comput': 1814.58, 'area_total': 5813.49}, {'tipo': 'Não Residencial (nR)', 'uni': None, 'subcateg': 'nR1', 'grupo_atv': 'nR1-12', 'area_comput': 0, 'area_n_comput': 1683.8, 'area_total': 1683.8}, {'tipo': 'Não Residencial (nR)', 'uni': None, 'subcateg': 'nR1', 'grupo_atv': 'nR1-15', 'area_comput': 0, 'area_n_comput': 35.25, 'area_total': 35.25}]\"\n",
    "#print(grupo_atv_extract(string))\n"
   ]
  },
  {
   "cell_type": "code",
   "execution_count": 83,
   "metadata": {
    "id": "fDTcO-j4GWem"
   },
   "outputs": [],
   "source": [
    "# Processando os dados da coluna 'quadro_areas' e adicionando na nova coluna\n",
    "#main_df['grupo_atividade_principal'] = main_df['quadro_areas'].apply(grupo_atv_extract)"
   ]
  },
  {
   "cell_type": "code",
   "execution_count": 84,
   "metadata": {
    "id": "w3zDhVNLGWem"
   },
   "outputs": [],
   "source": [
    "# Agrupando os valores no mês"
   ]
  },
  {
   "cell_type": "markdown",
   "metadata": {
    "id": "ud27I7d40j-Z",
    "tags": []
   },
   "source": [
    "### **7.5 Análise para o Portal do Licenciamento**"
   ]
  },
  {
   "cell_type": "markdown",
   "metadata": {
    "id": "JyiuZTSxGWek",
    "tags": []
   },
   "source": [
    "#### 7.4.1 Despachos emitidos no mês de referência e anterior"
   ]
  },
  {
   "cell_type": "code",
   "execution_count": 85,
   "metadata": {
    "colab": {
     "base_uri": "https://localhost:8080/"
    },
    "id": "Mbb-aPjhGWel",
    "outputId": "8ac63a9a-47ec-46f8-dc3f-91a082e08052"
   },
   "outputs": [
    {
     "data": {
      "text/plain": [
       "{'despachos_mes_referencia': 217,\n",
       " 'despachos_mes_anterior': 309,\n",
       " 'deferidos_mes_referencia': 178,\n",
       " 'deferidos_mes_anterior': 236,\n",
       " 'indeferidos_mes_referencia': 39,\n",
       " 'indeferidos_mes_anterior': 73}"
      ]
     },
     "execution_count": 85,
     "metadata": {},
     "output_type": "execute_result"
    }
   ],
   "source": [
    "def get_portal_despachos(coord):\n",
    "    # Data cointainer\n",
    "    data_container = {}\n",
    "    \n",
    "    # Filtrando despachos para coordenadoria\n",
    "    coord = portal_despachos.query(\"(coord_despacho == @coord)\")\n",
    "    coord_grouped = coord.groupby(grouper_desp)\n",
    "\n",
    "    data_container['despachos_mes_referencia'] = int(coord_grouped.get_group(data_referencia)['n_processo'].count())\n",
    "    data_container['despachos_mes_anterior'] = int(coord_grouped.get_group(data_anterior)['n_processo'].count())\n",
    "\n",
    "    # Filtrando deferidos\n",
    "    deferidos = coord.query(\"despacho == 'Despacho de Deferimento Comum'\")\n",
    "    deferidos_grouped = deferidos.groupby(grouper_desp)\n",
    "\n",
    "    data_container['deferidos_mes_referencia'] = int(deferidos_grouped.get_group(data_referencia)['n_processo'].count())\n",
    "    data_container['deferidos_mes_anterior'] = int(deferidos_grouped.get_group(data_anterior)['n_processo'].count())#\n",
    "\n",
    "    # Filtrando indeferidos\n",
    "    indeferidos = coord.query(\"despacho == 'Despacho de Indeferimento Comum'\")\n",
    "    indeferidos_grouped = indeferidos.groupby(grouper_desp)\n",
    "\n",
    "    data_container['indeferidos_mes_referencia'] = int(indeferidos_grouped.get_group(data_referencia)['n_processo'].count())\n",
    "    data_container['indeferidos_mes_anterior'] = int(indeferidos_grouped.get_group(data_anterior)['n_processo'].count())\n",
    "\n",
    "\n",
    "    return data_container\n",
    "\n",
    "get_portal_despachos('GTEC')"
   ]
  },
  {
   "cell_type": "markdown",
   "metadata": {
    "id": "SAy8iMwqGWel",
    "tags": []
   },
   "source": [
    "#### 7.4.3 Comunique-ses mês de referência e anterior"
   ]
  },
  {
   "cell_type": "code",
   "execution_count": 86,
   "metadata": {
    "colab": {
     "base_uri": "https://localhost:8080/"
    },
    "id": "rJIoetulGWel",
    "outputId": "52574336-3a5a-4e4f-e197-362ef64c751d"
   },
   "outputs": [
    {
     "data": {
      "text/plain": [
       "{'comuniq_mes_referencia': 377, 'comuniq_mes_anterior': 529}"
      ]
     },
     "execution_count": 86,
     "metadata": {},
     "output_type": "execute_result"
    }
   ],
   "source": [
    "def get_portal_comuniqueses(coord):\n",
    "    # Data cointainer\n",
    "    data_container = {}\n",
    "\n",
    "    # Filtrando comunique-ses para coordenadoria\n",
    "    coord = portal_comuniqueses.query(\"coord_comuniquese == @coord\")\n",
    "    coord_grouped = coord.groupby(grouper_comun)\n",
    "    \n",
    "    data_container['comuniq_mes_referencia'] = int(coord_grouped.get_group(data_referencia)['n_processo'].count())\n",
    "    data_container['comuniq_mes_anterior'] = int(coord_grouped.get_group(data_anterior)['n_processo'].count())\n",
    "\n",
    "    return data_container\n",
    "\n",
    "get_portal_comuniqueses('GTEC')"
   ]
  },
  {
   "cell_type": "markdown",
   "metadata": {
    "id": "A7CN-L9_GWel",
    "tags": []
   },
   "source": [
    "#### 7.4.4 Processos autuados no mês de referência e anterior *ADCIONAR NOTAS"
   ]
  },
  {
   "cell_type": "code",
   "execution_count": 87,
   "metadata": {
    "colab": {
     "base_uri": "https://localhost:8080/"
    },
    "id": "BHOEsQARGWel",
    "outputId": "10f15702-82f6-4135-c239-5ab93c8967dc"
   },
   "outputs": [
    {
     "data": {
      "text/plain": [
       "('2023-9-01', '2023-8-01', '2023-10-01')"
      ]
     },
     "execution_count": 87,
     "metadata": {},
     "output_type": "execute_result"
    }
   ],
   "source": [
    "data_referencia, data_anterior, data_corrente"
   ]
  },
  {
   "cell_type": "code",
   "execution_count": 88,
   "metadata": {},
   "outputs": [],
   "source": [
    "ano_referencia = int(data_referencia[:data_referencia.find('-')])\n",
    "ano_anterior = int(data_anterior[:data_anterior.find('-')])\n",
    "ano_corrente = int(data_corrente[:data_corrente.find('-')])\n",
    "\n",
    "mes_referencia = int(data_referencia[data_referencia.find('-') + 1: -3])\n",
    "mes_anterior = int(data_anterior[data_anterior.find('-') + 1: -3])\n",
    "mes_corrente = int(data_corrente[data_corrente.find('-') + 1: -3])"
   ]
  },
  {
   "cell_type": "code",
   "execution_count": 89,
   "metadata": {},
   "outputs": [
    {
     "data": {
      "text/plain": [
       "{'aut_mes_referencia': 1286, 'aut_mes_anterior': 1519}"
      ]
     },
     "execution_count": 89,
     "metadata": {},
     "output_type": "execute_result"
    }
   ],
   "source": [
    "def get_portal_autuados():\n",
    "    # Data cointainer\n",
    "    data_container = {}\n",
    "    \n",
    "    data_container['aut_mes_referencia'] = portal_autuados.query(\"(ano == @ano_referencia) & (mes == @mes_referencia)\").quantidade.sum()\n",
    "    data_container['aut_mes_anterior'] = portal_autuados.query(\"(ano == @ano_anterior) & (mes == @mes_anterior)\").quantidade.sum()\n",
    "\n",
    "    return data_container\n",
    "\n",
    "get_portal_autuados()"
   ]
  },
  {
   "cell_type": "markdown",
   "metadata": {
    "id": "wChkwrvbGWel",
    "tags": []
   },
   "source": [
    "#### 7.4.5 Últimos 12 meses despachos"
   ]
  },
  {
   "cell_type": "code",
   "execution_count": 90,
   "metadata": {
    "colab": {
     "base_uri": "https://localhost:8080/"
    },
    "id": "xdZYWJnRGWel",
    "outputId": "5ee667b8-176e-4606-9ca5-c39b8172b048"
   },
   "outputs": [
    {
     "data": {
      "text/plain": [
       "{'despachos': data_despacho\n",
       " 2022-10-01    238\n",
       " 2022-11-01    240\n",
       " 2022-12-01    187\n",
       " 2023-01-01    128\n",
       " 2023-02-01    232\n",
       " 2023-03-01    249\n",
       " 2023-04-01    245\n",
       " 2023-05-01    292\n",
       " 2023-06-01    269\n",
       " 2023-07-01    303\n",
       " 2023-08-01    309\n",
       " 2023-09-01    217\n",
       " Freq: MS, Name: despacho, dtype: int64,\n",
       " 'deferidos': data_despacho\n",
       " 2022-10-01    183\n",
       " 2022-11-01    182\n",
       " 2022-12-01    150\n",
       " 2023-01-01     87\n",
       " 2023-02-01    173\n",
       " 2023-03-01    191\n",
       " 2023-04-01    185\n",
       " 2023-05-01    215\n",
       " 2023-06-01    207\n",
       " 2023-07-01    202\n",
       " 2023-08-01    236\n",
       " 2023-09-01    178\n",
       " Freq: MS, Name: despacho, dtype: int64,\n",
       " 'indeferidos': data_despacho\n",
       " 2022-10-01     55\n",
       " 2022-11-01     58\n",
       " 2022-12-01     37\n",
       " 2023-01-01     41\n",
       " 2023-02-01     59\n",
       " 2023-03-01     58\n",
       " 2023-04-01     60\n",
       " 2023-05-01     77\n",
       " 2023-06-01     62\n",
       " 2023-07-01    101\n",
       " 2023-08-01     73\n",
       " 2023-09-01     39\n",
       " Freq: MS, Name: despacho, dtype: int64}"
      ]
     },
     "execution_count": 90,
     "metadata": {},
     "output_type": "execute_result"
    }
   ],
   "source": [
    "def get_portal_last_12_despachos(coord):\n",
    "    # Data cointainer\n",
    "    data_container = {}\n",
    "\n",
    "    # Filtrando despachos para coordenadoria\n",
    "    coord = portal_despachos.query(\"(coord_despacho == @coord)\")\n",
    "    coord_grouped = coord.groupby(grouper_desp)\n",
    "    \n",
    "    # Ultimos 12 meses de despachos\n",
    "    data_container['despachos'] = coord_grouped['despacho'].count().loc[:data_referencia][-12:]\n",
    "\n",
    "    # Fiitrando e extraindo deferidos\n",
    "    deferidos = coord.query(\"despacho == 'Despacho de Deferimento Comum'\").groupby(grouper_desp)\n",
    "    data_container['deferidos'] = deferidos['despacho'].count().loc[:data_referencia][-12:]\n",
    "\n",
    "    # Fiitrando e extraindo indeferidos\n",
    "    indeferidos = coord.query(\"despacho == 'Despacho de Indeferimento Comum'\").groupby(grouper_desp)\n",
    "    data_container['indeferidos'] = indeferidos['despacho'].count().loc[:data_referencia][-12:]\n",
    "\n",
    "\n",
    "    return data_container\n",
    "\n",
    "get_portal_last_12_despachos('GTEC')"
   ]
  },
  {
   "cell_type": "markdown",
   "metadata": {
    "id": "8XH3N-GlGWem",
    "tags": []
   },
   "source": [
    "#### 7.4.6 Últimos 12 meses comunique-ses"
   ]
  },
  {
   "cell_type": "code",
   "execution_count": 91,
   "metadata": {
    "colab": {
     "base_uri": "https://localhost:8080/"
    },
    "id": "Sa0GDcI3GWem",
    "outputId": "57d0af13-1770-4ae8-d327-7dfe5d31240f"
   },
   "outputs": [
    {
     "data": {
      "text/plain": [
       "data_comuniquese\n",
       "2022-10-01    459\n",
       "2022-11-01    442\n",
       "2022-12-01    374\n",
       "2023-01-01    437\n",
       "2023-02-01    498\n",
       "2023-03-01    574\n",
       "2023-04-01    516\n",
       "2023-05-01    570\n",
       "2023-06-01    536\n",
       "2023-07-01    650\n",
       "2023-08-01    529\n",
       "2023-09-01    377\n",
       "Freq: MS, Name: n_processo, dtype: int64"
      ]
     },
     "execution_count": 91,
     "metadata": {},
     "output_type": "execute_result"
    }
   ],
   "source": [
    "def get_portal_last_12_comuniq(coord):\n",
    "\n",
    "    # Filtrando despachos para coordenadoria\n",
    "    coord = portal_comuniqueses.query(\"(coord_comuniquese == @coord)\")\n",
    "    coord_grouped = coord.groupby(grouper_comun)\n",
    "    \n",
    "    # Ultimos 12 meses de despachos\n",
    "    comuniq_12 = coord_grouped['n_processo'].count().loc[:data_referencia][-12:]\n",
    "\n",
    "    return comuniq_12\n",
    "\n",
    "get_portal_last_12_comuniq('GTEC')"
   ]
  },
  {
   "cell_type": "markdown",
   "metadata": {
    "id": "F6HBTU7GGWem",
    "tags": []
   },
   "source": [
    "#### 7.4.7 Últimos 12 meses autuações"
   ]
  },
  {
   "cell_type": "code",
   "execution_count": 92,
   "metadata": {
    "colab": {
     "base_uri": "https://localhost:8080/"
    },
    "id": "bNWyhhRqGWem",
    "outputId": "8fbe4595-1dbb-47c2-b29d-fc29ea04a523"
   },
   "outputs": [
    {
     "data": {
      "text/plain": [
       "0      765\n",
       "1      855\n",
       "2      774\n",
       "3      876\n",
       "4     1055\n",
       "5     1322\n",
       "6     1156\n",
       "7     1336\n",
       "8     1365\n",
       "9     1299\n",
       "10    1519\n",
       "11    1286\n",
       "Name: quantidade, dtype: int64"
      ]
     },
     "execution_count": 92,
     "metadata": {},
     "output_type": "execute_result"
    }
   ],
   "source": [
    "# Dados incompletos impedem a implementação\n",
    "def get_portal_last_12_autuados():\n",
    "    \n",
    "    # Ultimos 12 meses de despachos\n",
    "    aut_12 = portal_autuados.query(\"~((ano == @ano_corrente) & (mes ==@mes_corrente))\")[-24:]\n",
    "    \n",
    "    aut_12 = aut_12.groupby(['ano', 'mes'])['quantidade'].sum().reset_index()\n",
    "    return aut_12['quantidade']\n",
    "\n",
    "get_portal_last_12_autuados()"
   ]
  },
  {
   "cell_type": "markdown",
   "metadata": {
    "id": "rZFk30xZGWem",
    "tags": []
   },
   "source": [
    "#### 7.4.9 Acumulados"
   ]
  },
  {
   "cell_type": "code",
   "execution_count": 93,
   "metadata": {
    "colab": {
     "base_uri": "https://localhost:8080/"
    },
    "id": "he8uaoeKGWem",
    "outputId": "741f2b1c-8401-4a76-c18a-578818af4e77"
   },
   "outputs": [
    {
     "data": {
      "text/plain": [
       "{'Despachos': 7226,\n",
       " 'Deferidos': 4701,\n",
       " 'Indeferidos': 2525,\n",
       " 'Comunique-ses': 13249,\n",
       " 'Autuados': 49087}"
      ]
     },
     "execution_count": 93,
     "metadata": {},
     "output_type": "execute_result"
    }
   ],
   "source": [
    "def get_portal_acumulado(coord):\n",
    "\n",
    "    data_container = {}\n",
    "\n",
    "    # Filtrando despachos para coordenadoria\n",
    "    coord_desp = portal_despachos.query(\"(coord_despacho == @coord) & (data_despacho < @data_corrente)\")\n",
    "    \n",
    "    # Despachos\n",
    "    data_container['Despachos'] = coord_desp.shape[0]\n",
    "    data_container['Deferidos'] = coord_desp.query(\"(despacho == 'Despacho de Deferimento Comum')\").shape[0]\n",
    "    data_container['Indeferidos'] = coord_desp.query(\"(despacho == 'Despacho de Indeferimento Comum')\").shape[0]\n",
    "\n",
    "    # Comunique-ses\n",
    "    data_container['Comunique-ses'] = portal_comuniqueses.query(\"(coord_comuniquese == @coord) & (data_comuniquese < @data_corrente)\").shape[0]\n",
    "\n",
    "    # Autuados\n",
    "    data_container['Autuados'] = portal_autuados.query(\"~((ano == @ano_corrente) & (mes ==@mes_corrente))\").quantidade.sum()\n",
    "    \n",
    "    # Estoque\n",
    "    #data_container['Estoque'] = data_container['Autuados'] - data_container['Despachos']\n",
    "\n",
    "    return data_container\n",
    "\n",
    "\n",
    "get_portal_acumulado('GTEC')"
   ]
  },
  {
   "cell_type": "markdown",
   "metadata": {
    "id": "Ym8mf5V5GWem",
    "tags": []
   },
   "source": [
    "#### 7.4.10 Principais Categorias de Uso * DESENVOLVIMENTO"
   ]
  },
  {
   "cell_type": "markdown",
   "metadata": {
    "id": "XOrxDrTEGWem"
   },
   "source": [
    "<p align='justify'> Para extrair as categorias de uso será necessario criar uma nova coluna no DataFrame que vai abrigar qual a principal categoria de uso. Esse preenchimento será feito com base na coluna 'quadro_areas' e levará em consideração o grupo de atividade com maior área dentre as possibilidades</p>"
   ]
  },
  {
   "cell_type": "code",
   "execution_count": 94,
   "metadata": {
    "id": "dmXuA6c2GWem"
   },
   "outputs": [],
   "source": [
    "# Função para extração do grupo de atividade\n",
    "def grupo_atv_extract(areas_list):\n",
    "    area, index = 0, 0\n",
    "\n",
    "    #Preparando o parse para json\n",
    "    areas_list = areas_list.replace(\"'\", '\"')\n",
    "    areas_list = areas_list.replace('None', 'null')\n",
    "    # Passando a entrada para json\n",
    "    areas_list = json.loads(areas_list)\n",
    "\n",
    "    for n, item in enumerate(areas_list):\n",
    "        if int(item['area_comput']) > area:\n",
    "            area = item['area_comput']\n",
    "            index = n\n",
    "    return areas_list[index]['grupo_atv'] or areas_list[index]['subcateg']\n",
    "\n",
    "#string = \"[{'tipo': 'Residencial (R)', 'uni': 110, 'subcateg': 'HMP', 'grupo_atv': None, 'area_comput': 3998.91, 'area_n_comput': 1814.58, 'area_total': 5813.49}, {'tipo': 'Não Residencial (nR)', 'uni': None, 'subcateg': 'nR1', 'grupo_atv': 'nR1-12', 'area_comput': 0, 'area_n_comput': 1683.8, 'area_total': 1683.8}, {'tipo': 'Não Residencial (nR)', 'uni': None, 'subcateg': 'nR1', 'grupo_atv': 'nR1-15', 'area_comput': 0, 'area_n_comput': 35.25, 'area_total': 35.25}]\"\n",
    "#print(grupo_atv_extract(string))\n"
   ]
  },
  {
   "cell_type": "code",
   "execution_count": 95,
   "metadata": {
    "id": "fDTcO-j4GWem"
   },
   "outputs": [],
   "source": [
    "# Processando os dados da coluna 'quadro_areas' e adicionando na nova coluna\n",
    "#main_df['grupo_atividade_principal'] = main_df['quadro_areas'].apply(grupo_atv_extract)"
   ]
  },
  {
   "cell_type": "code",
   "execution_count": 96,
   "metadata": {
    "id": "w3zDhVNLGWem"
   },
   "outputs": [],
   "source": [
    "# Agrupando os valores no mês"
   ]
  },
  {
   "cell_type": "markdown",
   "metadata": {
    "tags": []
   },
   "source": [
    "# 9 escrevendo dados no relatório"
   ]
  },
  {
   "cell_type": "markdown",
   "metadata": {
    "id": "MyTrBcpOg_tO",
    "tags": []
   },
   "source": [
    "### **8.1 Configuração**"
   ]
  },
  {
   "cell_type": "code",
   "execution_count": 97,
   "metadata": {
    "id": "jnnI3a55tvwV"
   },
   "outputs": [
    {
     "data": {
      "text/plain": [
       "'relatorio_unificado'"
      ]
     },
     "execution_count": 97,
     "metadata": {},
     "output_type": "execute_result"
    }
   ],
   "source": [
    "sh = ezsheets.Spreadsheet('14Vh8KdIMnAlHQQACdU73y46C6-1nbfTIzVrUpDwtozk')\n",
    "sh.title"
   ]
  },
  {
   "cell_type": "code",
   "execution_count": 98,
   "metadata": {},
   "outputs": [
    {
     "data": {
      "text/plain": [
       "(<Sheet sheetId=0, title='RESID', rowCount=1033, columnCount=25>,\n",
       " <Sheet sheetId=1668860588, title='dados_resid', rowCount=1015, columnCount=26>,\n",
       " <Sheet sheetId=348128133, title='CAEPP', rowCount=1024, columnCount=25>,\n",
       " <Sheet sheetId=773150461, title='dados_caepp', rowCount=1015, columnCount=26>,\n",
       " <Sheet sheetId=659338294, title='COMIN', rowCount=1029, columnCount=25>,\n",
       " <Sheet sheetId=336590157, title='dados_comin', rowCount=1015, columnCount=26>,\n",
       " <Sheet sheetId=1038291008, title='SERVIN', rowCount=1030, columnCount=25>,\n",
       " <Sheet sheetId=930950155, title='dados_servin', rowCount=1015, columnCount=26>,\n",
       " <Sheet sheetId=293123553, title='PARHIS', rowCount=1049, columnCount=25>,\n",
       " <Sheet sheetId=318710386, title='dados_parhis', rowCount=1015, columnCount=26>,\n",
       " <Sheet sheetId=1461934880, title='CONTRU', rowCount=1056, columnCount=25>,\n",
       " <Sheet sheetId=1425404180, title='dados_contru', rowCount=1015, columnCount=26>,\n",
       " <Sheet sheetId=1778087744, title='GTEC', rowCount=721, columnCount=25>,\n",
       " <Sheet sheetId=1753191798, title='dados_gtec', rowCount=896, columnCount=26>,\n",
       " <Sheet sheetId=276176169, title='tabelão', rowCount=1004, columnCount=34>)"
      ]
     },
     "execution_count": 98,
     "metadata": {},
     "output_type": "execute_result"
    }
   ],
   "source": [
    "sh.sheets"
   ]
  },
  {
   "cell_type": "code",
   "execution_count": 99,
   "metadata": {
    "id": "xXS3w7h-uOus"
   },
   "outputs": [],
   "source": [
    "# Acessando planilhas das coordenadorias\n",
    "DADOS_RESID = sh['dados_resid']\n",
    "DADOS_COMIN = sh['dados_comin']\n",
    "DADOS_SERVIN = sh['dados_servin']\n",
    "DADOS_PARHIS = sh['dados_parhis']\n",
    "DADOS_CONTRU = sh['dados_contru']\n",
    "DADOS_GTEC = sh['dados_gtec']\n",
    "DADOS_CAEPP = sh['dados_caepp']"
   ]
  },
  {
   "cell_type": "code",
   "execution_count": 100,
   "metadata": {
    "id": "kQSKA1odxHlu"
   },
   "outputs": [],
   "source": [
    "dict_meses = {\n",
    "    '1': 'Janeiro',\n",
    "    '2': 'Fevereiro',\n",
    "    '3': 'Março',\n",
    "    '4': 'Abril',\n",
    "    '5': 'Maio',\n",
    "    '6': 'Junho',\n",
    "    '7': 'Julho',\n",
    "    '8': 'Agosto',\n",
    "    '9': 'Setembro',\n",
    "    '10': 'Outubro',\n",
    "    '11': 'Novembro',\n",
    "    '12': 'Dezembro'\n",
    "}"
   ]
  },
  {
   "cell_type": "code",
   "execution_count": 101,
   "metadata": {
    "id": "qoSsMwc5xFy1"
   },
   "outputs": [],
   "source": [
    "dict_mes_abrev = {\n",
    "    1: 'jan',\n",
    "    2: 'fev',\n",
    "    3: 'mar',\n",
    "    4: 'abr',\n",
    "    5: 'mai',\n",
    "    6: 'jun',\n",
    "    7: 'jul',\n",
    "    8: 'ago',\n",
    "    9: 'set',\n",
    "    10: 'out',\n",
    "    11: 'nov',\n",
    "    12: 'dez'\n",
    "}"
   ]
  },
  {
   "cell_type": "code",
   "execution_count": 102,
   "metadata": {
    "id": "PY8mNj1c8EY6"
   },
   "outputs": [],
   "source": [
    "# Ferramentas para formatar data de referência\n",
    "mes = lambda x: dict_meses[x[5:x.find('-', 5)]]\n",
    "ano = lambda y: y[:4]"
   ]
  },
  {
   "cell_type": "markdown",
   "metadata": {
    "id": "gicUsSkj7pLh",
    "tags": []
   },
   "source": [
    "### **8.2 Gravando dados de RESID**"
   ]
  },
  {
   "cell_type": "markdown",
   "metadata": {
    "id": "nefVoC7U8mg6",
    "tags": []
   },
   "source": [
    "#### 8.2.1 Mês Referência - RESID"
   ]
  },
  {
   "cell_type": "markdown",
   "metadata": {
    "id": "fuc3ln6Bfouj"
   },
   "source": [
    "<p align='justify'> Calcula e grava qual mês de referência usado para a geração do relatorio. No caso o mês de referência sempre será o mês anterior ao do atual no momento em que o script é rodados, ou o ultimo mês \"cheio\", em que é possível obter informações completas. Futuramente será adcionada funcionalidade que permitirá que o mês referência possa ser selecionado manualmente.</p>"
   ]
  },
  {
   "cell_type": "code",
   "execution_count": 103,
   "metadata": {
    "id": "9A53mZEl8qUx"
   },
   "outputs": [],
   "source": [
    "# Mês referência\n",
    "mes_ref = mes(data_referencia)\n",
    "ano_ref = ano(data_referencia)\n",
    "\n",
    "# Mês anterior\n",
    "mes_ant = mes(data_anterior)"
   ]
  },
  {
   "cell_type": "code",
   "execution_count": 104,
   "metadata": {
    "id": "4SQihMeZqxUz"
   },
   "outputs": [],
   "source": [
    "# Escrevendo dados de referência\n",
    "DADOS_RESID['C1'] = str(f'RESID - {mes_ref} de {ano_ref}')\n",
    "DADOS_RESID['C2'] = str(f'Resumo {mes_ref} de {ano_ref}')\n",
    "DADOS_RESID['C3'] = str(f'Comunique-ses emitidos em {mes_ref}')\n",
    "DADOS_RESID['C4'] = str(f'Deferimentos por assunto em {mes_ref}')"
   ]
  },
  {
   "cell_type": "markdown",
   "metadata": {
    "id": "uenPvs1vlHGJ",
    "tags": []
   },
   "source": [
    "#### 8.2.2 Dados Aprova Digital - RESID"
   ]
  },
  {
   "cell_type": "markdown",
   "metadata": {
    "id": "6B0XtFYxgtvm",
    "tags": []
   },
   "source": [
    "##### Quadro resumo"
   ]
  },
  {
   "cell_type": "code",
   "execution_count": 105,
   "metadata": {
    "colab": {
     "base_uri": "https://localhost:8080/"
    },
    "id": "mTHTnv9Fgtvm",
    "outputId": "b53248ae-b104-4f3d-b48e-213dd9fb4d3f"
   },
   "outputs": [
    {
     "data": {
      "text/plain": [
       "{'despachos_mes_referencia': 95,\n",
       " 'despachos_mes_anterior': 0,\n",
       " 'deferidos_mes_referencia': 72,\n",
       " 'deferidos_mes_anterior': 0,\n",
       " 'indeferidos_mes_referencia': 23,\n",
       " 'indeferidos_mes_anterior': 0,\n",
       " 'encerrados_mes_referencia': 0,\n",
       " 'encerrados_mes_anterior': 0}"
      ]
     },
     "execution_count": 105,
     "metadata": {},
     "output_type": "execute_result"
    }
   ],
   "source": [
    "##### Despachos deferidos e indeferidos #####\n",
    "\n",
    "# Trazendo os dados - Para o SLCe os dados de RESID estão como GTEL\n",
    "dados_despacho = get_ad_despachos('RESID')\n",
    "\n",
    "# Total despachos emitidos\n",
    "DADOS_RESID['B46'] = dados_despacho['despachos_mes_referencia']\n",
    "\n",
    "# Deferidos\n",
    "DADOS_RESID['B47'] = dados_despacho['deferidos_mes_referencia']\n",
    "\n",
    "# Indeferidos\n",
    "DADOS_RESID['B48'] = dados_despacho['indeferidos_mes_referencia']\n",
    "\n",
    "# Indeferidos e encerrados\n",
    "DADOS_RESID['B51'] = dados_despacho['encerrados_mes_referencia']\n",
    "\n",
    "dados_despacho"
   ]
  },
  {
   "cell_type": "code",
   "execution_count": 106,
   "metadata": {
    "colab": {
     "base_uri": "https://localhost:8080/"
    },
    "id": "jAllJvoGgtvn",
    "outputId": "a219d279-1212-4822-fc64-b03319875db5"
   },
   "outputs": [
    {
     "data": {
      "text/plain": [
       "{'comuniq_mes_referencia': 126, 'comuniq_mes_anterior': 155}"
      ]
     },
     "execution_count": 106,
     "metadata": {},
     "output_type": "execute_result"
    }
   ],
   "source": [
    "##### Processos comunicados ##### \n",
    "\n",
    "# Trazendo os dados - Para o SLCe os dados de RESID estão como GTEL\n",
    "dados_comun = get_ad_comuniqueses('RESID')\n",
    "\n",
    "# Comunique-ses no mês de referência\n",
    "DADOS_RESID['B49'] = dados_comun['comuniq_mes_referencia']\n",
    "dados_comun"
   ]
  },
  {
   "cell_type": "code",
   "execution_count": 107,
   "metadata": {
    "colab": {
     "base_uri": "https://localhost:8080/"
    },
    "id": "EQmSXLsngtvn",
    "outputId": "299ddf98-1599-4b6e-b985-27aadcc266d2"
   },
   "outputs": [
    {
     "data": {
      "text/plain": [
       "{'aut_mes_referencia': 60, 'aut_mes_anterior': 78}"
      ]
     },
     "execution_count": 107,
     "metadata": {},
     "output_type": "execute_result"
    }
   ],
   "source": [
    "##### Processos autuados #####\n",
    "dados_aut = get_ad_autuados('RESID')\n",
    "\n",
    "# Autuados no mês de referência\n",
    "DADOS_RESID['B50'] = dados_aut['aut_mes_referencia']\n",
    "dados_aut"
   ]
  },
  {
   "cell_type": "markdown",
   "metadata": {
    "id": "-_mNGHPHBpjg",
    "tags": []
   },
   "source": [
    "##### Despachos por divisões"
   ]
  },
  {
   "cell_type": "code",
   "execution_count": 108,
   "metadata": {
    "colab": {
     "base_uri": "https://localhost:8080/"
    },
    "id": "VvpRPW2OtrK7",
    "outputId": "5d0e2cf8-1393-46cc-a4f8-1e220acead89"
   },
   "outputs": [
    {
     "name": "stdout",
     "output_type": "stream",
     "text": [
      "50\n",
      "37\n",
      "5\n",
      "3\n"
     ]
    }
   ],
   "source": [
    "# Escrevendo os valores\n",
    "dados = get_ad_divisoes('RESID')\n",
    "for n, i in enumerate(dados.keys()):\n",
    "    DADOS_RESID[f'B{n + 53}'] = int(dados[i])\n",
    "    print(dados[i])"
   ]
  },
  {
   "cell_type": "code",
   "execution_count": 109,
   "metadata": {
    "colab": {
     "base_uri": "https://localhost:8080/"
    },
    "id": "xvqENW9GBuOl",
    "outputId": "ebf47549-84c4-4e7d-e83e-65d571ebfe4c"
   },
   "outputs": [
    {
     "name": "stdout",
     "output_type": "stream",
     "text": [
      "DRGP\n",
      "DRPM\n",
      "DRU\n",
      "RESID\n"
     ]
    }
   ],
   "source": [
    " # Escrevendo os nomes das divisões\n",
    "last_line = 0\n",
    "\n",
    "for n, i in enumerate(get_ad_divisao_list('RESID')):\n",
    "    DADOS_RESID[f'A{n + 53}'] =  i\n",
    "    last_line = n + 53 + 1\n",
    "    print(i)\n",
    "\n",
    "if last_line < 59:\n",
    "    for i in range(59 - last_line):\n",
    "        DADOS_RESID[f'A{last_line + i}'] = ' '\n",
    "        DADOS_RESID[f'B{last_line + i}'] = ' '"
   ]
  },
  {
   "cell_type": "markdown",
   "metadata": {
    "id": "tO5xQ-jgis3I",
    "tags": []
   },
   "source": [
    "##### Comparativo mês anterior x mês atual"
   ]
  },
  {
   "cell_type": "code",
   "execution_count": 110,
   "metadata": {
    "colab": {
     "base_uri": "https://localhost:8080/"
    },
    "id": "ol_QVNg5is3I",
    "outputId": "41b72e70-bdd4-4260-b228-cf2dbdc2c7f7"
   },
   "outputs": [
    {
     "name": "stdout",
     "output_type": "stream",
     "text": [
      "Agosto Setembro\n"
     ]
    }
   ],
   "source": [
    "# Escrevendo títulos\n",
    "DADOS_RESID['E43'] = f'Comparativo {mes_ant} - {mes_ref}'\n",
    "\n",
    "# Escrevendo mes corrente e passado\n",
    "DADOS_RESID['E52'] = mes_ant\n",
    "DADOS_RESID['F52'] = mes_ref\n",
    "print(mes_ant, mes_ref)"
   ]
  },
  {
   "cell_type": "code",
   "execution_count": 111,
   "metadata": {
    "colab": {
     "base_uri": "https://localhost:8080/"
    },
    "id": "taXYz3U9is3J",
    "outputId": "ebaf472b-d955-4fff-d093-87847d0edb3b"
   },
   "outputs": [
    {
     "name": "stdout",
     "output_type": "stream",
     "text": [
      "0 95\n",
      "0 72\n",
      "0 23\n"
     ]
    }
   ],
   "source": [
    "# Total despachos\n",
    "DADOS_RESID['E46'] = dados_despacho['despachos_mes_anterior']\n",
    "DADOS_RESID['F46'] = dados_despacho['despachos_mes_referencia']\n",
    "\n",
    "# Deferidos\n",
    "DADOS_RESID['E47'] = dados_despacho['deferidos_mes_anterior']\n",
    "DADOS_RESID['F47'] = dados_despacho['deferidos_mes_referencia']\n",
    "\n",
    "# Indeferidos\n",
    "DADOS_RESID['E48'] = dados_despacho['indeferidos_mes_anterior']\n",
    "DADOS_RESID['F48'] = dados_despacho['indeferidos_mes_referencia']\n",
    "\n",
    "print(dados_despacho['despachos_mes_anterior'], dados_despacho['despachos_mes_referencia'])\n",
    "print(dados_despacho['deferidos_mes_anterior'], dados_despacho['deferidos_mes_referencia'])\n",
    "print(dados_despacho['indeferidos_mes_anterior'], dados_despacho['indeferidos_mes_referencia'])"
   ]
  },
  {
   "cell_type": "code",
   "execution_count": 112,
   "metadata": {
    "colab": {
     "base_uri": "https://localhost:8080/"
    },
    "id": "UjHadh0Qis3J",
    "outputId": "714a5e3d-a7ea-4069-d1ad-9be96e72db71"
   },
   "outputs": [
    {
     "name": "stdout",
     "output_type": "stream",
     "text": [
      "155 126\n"
     ]
    }
   ],
   "source": [
    "# Comunique-ses\n",
    "DADOS_RESID['E49'] = dados_comun['comuniq_mes_anterior']\n",
    "DADOS_RESID['F49'] = dados_comun['comuniq_mes_referencia']\n",
    "\n",
    "print(dados_comun['comuniq_mes_anterior'], dados_comun['comuniq_mes_referencia'])"
   ]
  },
  {
   "cell_type": "markdown",
   "metadata": {
    "id": "soHKEC_f5cZz",
    "tags": []
   },
   "source": [
    "##### Ultimos 12 meses despachos"
   ]
  },
  {
   "cell_type": "code",
   "execution_count": 113,
   "metadata": {
    "colab": {
     "base_uri": "https://localhost:8080/"
    },
    "id": "EUk-GNWX5ql4",
    "outputId": "a68b110c-e574-4cea-b315-d262a6540649"
   },
   "outputs": [
    {
     "data": {
      "text/plain": [
       "{'despachos': data_despacho\n",
       " 2022-10-01    254\n",
       " 2022-11-01    165\n",
       " 2022-12-01    145\n",
       " 2023-01-01    176\n",
       " 2023-02-01    173\n",
       " 2023-03-01    245\n",
       " 2023-04-01    207\n",
       " 2023-05-01    294\n",
       " 2023-06-01    249\n",
       " 2023-07-01    284\n",
       " 2023-08-01     99\n",
       " 2023-09-01     95\n",
       " Freq: MS, Name: despacho, dtype: int64,\n",
       " 'deferidos': data_despacho\n",
       " 2022-10-01    195\n",
       " 2022-11-01    134\n",
       " 2022-12-01    113\n",
       " 2023-01-01    144\n",
       " 2023-02-01    138\n",
       " 2023-03-01    185\n",
       " 2023-04-01    161\n",
       " 2023-05-01    237\n",
       " 2023-06-01    198\n",
       " 2023-07-01    231\n",
       " 2023-08-01     62\n",
       " 2023-09-01     72\n",
       " Freq: MS, Name: despacho, dtype: int64,\n",
       " 'indeferidos': data_despacho\n",
       " 2022-10-01    58\n",
       " 2022-11-01    25\n",
       " 2022-12-01    28\n",
       " 2023-01-01    28\n",
       " 2023-02-01    35\n",
       " 2023-03-01    59\n",
       " 2023-04-01    44\n",
       " 2023-05-01    50\n",
       " 2023-06-01    47\n",
       " 2023-07-01    49\n",
       " 2023-08-01    36\n",
       " 2023-09-01    23\n",
       " Freq: MS, Name: despacho, dtype: int64}"
      ]
     },
     "execution_count": 113,
     "metadata": {},
     "output_type": "execute_result"
    }
   ],
   "source": [
    "dados = get_ad_last_12_despachos('RESID')\n",
    "# Gerando os nomes das colunas de meses\n",
    "for n, index in enumerate(dados['despachos'].index):\n",
    "    mes_abrev = dict_mes_abrev[index.month]\n",
    "    DADOS_RESID[f'A{n + 61}'] = mes_abrev\n",
    "dados"
   ]
  },
  {
   "cell_type": "code",
   "execution_count": 114,
   "metadata": {
    "id": "0Jz-ZP3s8mwW"
   },
   "outputs": [],
   "source": [
    "# Gerando total de despachos\n",
    "for n, valor in enumerate(dados['despachos']):\n",
    "    DADOS_RESID[f'B{n + 61}'] = valor"
   ]
  },
  {
   "cell_type": "code",
   "execution_count": 115,
   "metadata": {
    "id": "lTolZsK-Cdsd"
   },
   "outputs": [],
   "source": [
    "# Gerando deferidos\n",
    "for n, valor in enumerate(dados['deferidos']):\n",
    "    DADOS_RESID[f'C{n + 61}'] = valor"
   ]
  },
  {
   "cell_type": "code",
   "execution_count": 116,
   "metadata": {
    "id": "T25X-bfqCohH"
   },
   "outputs": [],
   "source": [
    "# Gerando indeferidos\n",
    "for n, valor in enumerate(dados['indeferidos']):\n",
    "    DADOS_RESID[f'D{n + 61}'] = valor"
   ]
  },
  {
   "cell_type": "markdown",
   "metadata": {
    "id": "B0ct0WPF_xkb",
    "jp-MarkdownHeadingCollapsed": true,
    "tags": []
   },
   "source": [
    "##### Últimos 12 meses comunique-ses"
   ]
  },
  {
   "cell_type": "code",
   "execution_count": 117,
   "metadata": {
    "id": "f-lDPxsr_4b6"
   },
   "outputs": [
    {
     "data": {
      "text/plain": [
       "data_comuniquese\n",
       "2022-10-01    302\n",
       "2022-11-01    215\n",
       "2022-12-01    232\n",
       "2023-01-01    258\n",
       "2023-02-01    258\n",
       "2023-03-01    376\n",
       "2023-04-01    262\n",
       "2023-05-01    351\n",
       "2023-06-01    301\n",
       "2023-07-01    264\n",
       "2023-08-01    155\n",
       "2023-09-01    126\n",
       "Freq: MS, Name: n_processo, dtype: int64"
      ]
     },
     "execution_count": 117,
     "metadata": {},
     "output_type": "execute_result"
    }
   ],
   "source": [
    "dados = get_ad_last_12_comuniq('RESID')\n",
    "\n",
    "# Gerando total de Comunique-ses\n",
    "for n, valor in enumerate(dados):\n",
    "    DADOS_RESID[f'G{n + 61}'] = valor\n",
    "\n",
    "dados"
   ]
  },
  {
   "cell_type": "markdown",
   "metadata": {
    "id": "-S30LiCyDOlQ",
    "jp-MarkdownHeadingCollapsed": true,
    "tags": []
   },
   "source": [
    "##### Últimos 12 meses autuados\n"
   ]
  },
  {
   "cell_type": "code",
   "execution_count": 118,
   "metadata": {
    "id": "_OynUICxDWUA"
   },
   "outputs": [
    {
     "data": {
      "text/plain": [
       "data_autuacao\n",
       "2022-10-01    149\n",
       "2022-11-01    162\n",
       "2022-12-01    143\n",
       "2023-01-01    102\n",
       "2023-02-01    122\n",
       "2023-03-01    163\n",
       "2023-04-01    113\n",
       "2023-05-01    136\n",
       "2023-06-01    149\n",
       "2023-07-01     74\n",
       "2023-08-01     78\n",
       "2023-09-01     60\n",
       "Name: n_processo, dtype: int64"
      ]
     },
     "execution_count": 118,
     "metadata": {},
     "output_type": "execute_result"
    }
   ],
   "source": [
    "dados = get_ad_last_12_autuados('RESID')\n",
    "\n",
    "for n, valor in enumerate(dados):\n",
    "    DADOS_RESID[f'J{n + 61}'] = valor\n",
    "\n",
    "dados"
   ]
  },
  {
   "cell_type": "markdown",
   "metadata": {
    "id": "D1qk1PnkDnNw",
    "jp-MarkdownHeadingCollapsed": true,
    "tags": []
   },
   "source": [
    "##### Acumulado RESID"
   ]
  },
  {
   "cell_type": "code",
   "execution_count": 119,
   "metadata": {
    "id": "GH5BdJ9bXOyn"
   },
   "outputs": [
    {
     "data": {
      "text/plain": [
       "{'Despachos': 4300,\n",
       " 'Deferidos': 3350,\n",
       " 'Indeferidos': 889,\n",
       " 'DRGP': 2475,\n",
       " 'DRPM': 1267,\n",
       " 'DRU': 349,\n",
       " 'RESID': 209,\n",
       " 'Comunique-ses': 6445,\n",
       " 'Autuados': 4458,\n",
       " 'Estoque': 1043}"
      ]
     },
     "execution_count": 119,
     "metadata": {},
     "output_type": "execute_result"
    }
   ],
   "source": [
    "# Escrevendo os dados e os nomes das colunas\n",
    "dados = get_ad_acumulado('RESID')\n",
    "\n",
    "last_line = 0\n",
    "\n",
    "for n, key in enumerate(dados.keys()):\n",
    "    DADOS_RESID[f'I{n + 45}'] = key\n",
    "    DADOS_RESID[f'J{n + 45}'] = dados[key]\n",
    "    last_line = n + 45 + 1\n",
    "\n",
    "if last_line < 59:\n",
    "    for i in range(59 - last_line):\n",
    "        DADOS_RESID[f'I{last_line + i}'] = \" \"\n",
    "        DADOS_RESID[f'J{last_line + i}'] = \" \"\n",
    "\n",
    "dados"
   ]
  },
  {
   "cell_type": "markdown",
   "metadata": {
    "id": "s7qCndToDfjC",
    "tags": []
   },
   "source": [
    "##### Assuntos"
   ]
  },
  {
   "cell_type": "code",
   "execution_count": 120,
   "metadata": {
    "colab": {
     "base_uri": "https://localhost:8080/"
    },
    "id": "9_GeNSc2De8A",
    "outputId": "6b1c8d41-902b-4b1b-fbfa-7eb5c51fe211"
   },
   "outputs": [
    {
     "data": {
      "text/plain": [
       "assunto_x\n",
       "Alvará de Execução de Edificação Nova (Exceto HIS/ HMP)                                         18\n",
       "Apostilamento                                                                                   17\n",
       "Alvará de Aprovação de Edificação Nova (Exceto HIS/ HMP)                                        16\n",
       "Certificado de Conclusão                                                                        11\n",
       "Alvará de Aprovação e Execução de Edificação Nova (Exceto HIS/ HMP)                              8\n",
       "Projeto Modificativo de Alvará de Aprovação e Execução de Edificação Nova (exceto HIS / HMP)     2\n",
       "Name: count, dtype: int64"
      ]
     },
     "execution_count": 120,
     "metadata": {},
     "output_type": "execute_result"
    }
   ],
   "source": [
    "dados = get_ad_assuntos('RESID')\n",
    "last_line = 0 \n",
    "# Inserindo dados de assuntos\n",
    "for n, index in enumerate(dados.index):\n",
    "    DADOS_RESID[f'L{n + 48}'] = index\n",
    "    DADOS_RESID[f'M{n + 48}'] = int(dados.at[index])\n",
    "    last_line = n + 48 + 1\n",
    "\n",
    "for i in range(68 - last_line):\n",
    "    DADOS_RESID[f'L{last_line + i}'] = \" \"\n",
    "    DADOS_RESID[f'M{last_line + i}'] = \" \"\n",
    "    \n",
    "dados"
   ]
  },
  {
   "cell_type": "markdown",
   "metadata": {
    "id": "Cvvw8PdkDjnA",
    "jp-MarkdownHeadingCollapsed": true,
    "tags": []
   },
   "source": [
    "##### Categorias de Uso * EM DESENVOLVIMENTO"
   ]
  },
  {
   "cell_type": "markdown",
   "metadata": {
    "id": "qtkXR5zECzOo",
    "tags": []
   },
   "source": [
    "#### 8.2.4 Dados SISSEL - RESID"
   ]
  },
  {
   "cell_type": "markdown",
   "metadata": {
    "id": "-NHkEq0Xr59y",
    "tags": []
   },
   "source": [
    "##### Quadro resumo"
   ]
  },
  {
   "cell_type": "code",
   "execution_count": 121,
   "metadata": {
    "colab": {
     "base_uri": "https://localhost:8080/"
    },
    "id": "elmYtHfHr59y",
    "outputId": "8b260339-21d3-4baa-f0aa-e6e952b0f0c4"
   },
   "outputs": [
    {
     "data": {
      "text/plain": [
       "{'despachos_mes_referencia': 37,\n",
       " 'despachos_mes_anterior': 40,\n",
       " 'deferidos_mes_referencia': 27,\n",
       " 'deferidos_mes_anterior': 21,\n",
       " 'indeferidos_mes_referencia': 10,\n",
       " 'indeferidos_mes_anterior': 19}"
      ]
     },
     "execution_count": 121,
     "metadata": {},
     "output_type": "execute_result"
    }
   ],
   "source": [
    "##### Despachos, deferidos e indeferidos #####\n",
    "\n",
    "# Trazendo os dados - Para o SLCe os dados de RESID estão como GTEL\n",
    "dados_despacho = get_sissel_despachos('RESID')\n",
    "\n",
    "# Total despachos emitidos\n",
    "DADOS_RESID['B80'] = dados_despacho['despachos_mes_referencia']\n",
    "\n",
    "# Deferidos\n",
    "DADOS_RESID['B81'] = dados_despacho['deferidos_mes_referencia']\n",
    "\n",
    "# Indeferidos\n",
    "DADOS_RESID['B82'] = dados_despacho['indeferidos_mes_referencia']\n",
    "dados_despacho"
   ]
  },
  {
   "cell_type": "code",
   "execution_count": 122,
   "metadata": {
    "colab": {
     "base_uri": "https://localhost:8080/"
    },
    "id": "fngEV1yTr59y",
    "outputId": "c5bfb645-0b59-4894-ce00-467434cdb5c9"
   },
   "outputs": [
    {
     "data": {
      "text/plain": [
       "{'comuniq_mes_referencia': 38, 'comuniq_mes_anterior': 37}"
      ]
     },
     "execution_count": 122,
     "metadata": {},
     "output_type": "execute_result"
    }
   ],
   "source": [
    "##### Processos comunicados ##### \n",
    "\n",
    "# Trazendo os dados - Para o SLCe os dados de RESID estão como GTEL\n",
    "dados_comun = get_sissel_comuniqueses('RESID')\n",
    "\n",
    "# Comunique-ses no mês de referência\n",
    "DADOS_RESID['B83'] = dados_comun['comuniq_mes_referencia']\n",
    "dados_comun"
   ]
  },
  {
   "cell_type": "code",
   "execution_count": 123,
   "metadata": {
    "colab": {
     "base_uri": "https://localhost:8080/"
    },
    "id": "nL6ZYIp_r59z",
    "outputId": "28f57a48-2b80-4e64-cd97-4b688a23b0fa"
   },
   "outputs": [
    {
     "data": {
      "text/plain": [
       "\"\\n##### Processos autuados #####\\ndados_aut = get_ad_autuados('RESID')\\n\\n# Autuados no mês de referência\\nDADOS_RESID.update('B50', dados_aut['aut_mes_referencia'])\\ndados_aut\\n\""
      ]
     },
     "execution_count": 123,
     "metadata": {},
     "output_type": "execute_result"
    }
   ],
   "source": [
    "# Em desenvolvimento\n",
    "\"\"\"\n",
    "##### Processos autuados #####\n",
    "dados_aut = get_ad_autuados('RESID')\n",
    "\n",
    "# Autuados no mês de referência\n",
    "DADOS_RESID.update('B50', dados_aut['aut_mes_referencia'])\n",
    "dados_aut\n",
    "\"\"\""
   ]
  },
  {
   "cell_type": "markdown",
   "metadata": {
    "id": "PxAHMjf9r59z",
    "tags": []
   },
   "source": [
    "##### Despachos por divisões"
   ]
  },
  {
   "cell_type": "code",
   "execution_count": 124,
   "metadata": {
    "colab": {
     "base_uri": "https://localhost:8080/"
    },
    "id": "j-4Zw3lTr59z",
    "outputId": "82ab24f3-c59d-4854-e926-280703bd4446"
   },
   "outputs": [
    {
     "name": "stdout",
     "output_type": "stream",
     "text": [
      "21\n",
      "11\n",
      "5\n"
     ]
    }
   ],
   "source": [
    "# Escrevendo os valores\n",
    "dados = get_sissel_divisoes('RESID')\n",
    "for n, i in enumerate(dados.keys()):\n",
    "    DADOS_RESID[f'B{n + 86}'] = int(dados[i])\n",
    "    print(dados[i])"
   ]
  },
  {
   "cell_type": "code",
   "execution_count": 125,
   "metadata": {
    "colab": {
     "base_uri": "https://localhost:8080/"
    },
    "id": "O6u6irFzr59z",
    "outputId": "e26aceea-cdab-479b-eac3-bfd8117d79ac"
   },
   "outputs": [
    {
     "name": "stdout",
     "output_type": "stream",
     "text": [
      "DRGP\n",
      "DRVE\n",
      "RESID\n"
     ]
    }
   ],
   "source": [
    "# Escrevendo os nomes das divisões\n",
    "last_line = 0\n",
    "\n",
    "for n, i in enumerate(get_sissel_divisao_list('RESID')):\n",
    "    DADOS_RESID[f'A{n + 86}'] = i\n",
    "    last_line = n + 86 + 1\n",
    "    print(i)\n",
    "\n",
    "if last_line < 92:\n",
    "    for i in range(92 - last_line):\n",
    "        DADOS_RESID[f'A{last_line + i}'] = \" \"\n",
    "        DADOS_RESID[f'B{last_line + i}'] = \" \""
   ]
  },
  {
   "cell_type": "markdown",
   "metadata": {
    "id": "SmxWs3KYr59z",
    "tags": []
   },
   "source": [
    "##### Comparativo mês anterior x mês atual"
   ]
  },
  {
   "cell_type": "code",
   "execution_count": 126,
   "metadata": {
    "colab": {
     "base_uri": "https://localhost:8080/"
    },
    "id": "EVVktYJtr59z",
    "outputId": "f7532572-ac8f-4d78-c78f-194af8840bf8"
   },
   "outputs": [
    {
     "name": "stdout",
     "output_type": "stream",
     "text": [
      "Agosto Setembro\n"
     ]
    }
   ],
   "source": [
    "# Escrevendo títulos\n",
    "DADOS_RESID['E78'] = f'Comparativo {mes_ant} - {mes_ref}'\n",
    "\n",
    "# Escrevendo mes corrente e passado\n",
    "DADOS_RESID['E84'] = mes_ant\n",
    "DADOS_RESID['F84'] = mes_ref\n",
    "print(mes_ant, mes_ref)"
   ]
  },
  {
   "cell_type": "code",
   "execution_count": 127,
   "metadata": {
    "colab": {
     "base_uri": "https://localhost:8080/"
    },
    "id": "Y81cQ8HDr59z",
    "outputId": "87346905-392b-4566-d536-e99e616069bd"
   },
   "outputs": [
    {
     "name": "stdout",
     "output_type": "stream",
     "text": [
      "40 37\n",
      "21 27\n",
      "19 10\n"
     ]
    }
   ],
   "source": [
    "# Total despachos\n",
    "DADOS_RESID['E80'] = dados_despacho['despachos_mes_anterior']\n",
    "DADOS_RESID['F80'] = dados_despacho['despachos_mes_referencia']\n",
    "\n",
    "# Deferidos\n",
    "DADOS_RESID['E81'] = dados_despacho['deferidos_mes_anterior']\n",
    "DADOS_RESID['F81'] = dados_despacho['deferidos_mes_referencia']\n",
    "\n",
    "# Indeferidos\n",
    "DADOS_RESID['E82'] = dados_despacho['indeferidos_mes_anterior']\n",
    "DADOS_RESID['F82'] = dados_despacho['indeferidos_mes_referencia']\n",
    "\n",
    "print(dados_despacho['despachos_mes_anterior'], dados_despacho['despachos_mes_referencia'])\n",
    "print(dados_despacho['deferidos_mes_anterior'], dados_despacho['deferidos_mes_referencia'])\n",
    "print(dados_despacho['indeferidos_mes_anterior'], dados_despacho['indeferidos_mes_referencia'])"
   ]
  },
  {
   "cell_type": "code",
   "execution_count": 128,
   "metadata": {
    "colab": {
     "base_uri": "https://localhost:8080/"
    },
    "id": "4Ky9j3cKr59z",
    "outputId": "b1e656ff-1b98-44bb-d545-10faa314dbe6"
   },
   "outputs": [],
   "source": [
    "# Comunique-ses\n",
    "DADOS_RESID['E83'] = dados_comun['comuniq_mes_anterior']\n",
    "DADOS_RESID['F83'] = dados_comun['comuniq_mes_referencia']"
   ]
  },
  {
   "cell_type": "markdown",
   "metadata": {
    "id": "bdOZO0Cpr59z",
    "tags": []
   },
   "source": [
    "##### Ultimos 12 meses despachos"
   ]
  },
  {
   "cell_type": "code",
   "execution_count": 129,
   "metadata": {
    "colab": {
     "base_uri": "https://localhost:8080/"
    },
    "id": "2YG9eG3Ur590",
    "outputId": "b9cd0700-471d-430a-c6cc-2613716caba1"
   },
   "outputs": [
    {
     "data": {
      "text/plain": [
       "{'despachos': data_despacho\n",
       " 2022-10-01    45\n",
       " 2022-11-01    44\n",
       " 2022-12-01    31\n",
       " 2023-01-01    33\n",
       " 2023-02-01    24\n",
       " 2023-03-01    51\n",
       " 2023-04-01    26\n",
       " 2023-05-01    44\n",
       " 2023-06-01    34\n",
       " 2023-07-01    44\n",
       " 2023-08-01    40\n",
       " 2023-09-01    37\n",
       " Freq: MS, Name: situacao, dtype: int64,\n",
       " 'deferidos': data_despacho\n",
       " 2022-10-01    30\n",
       " 2022-11-01    30\n",
       " 2022-12-01    18\n",
       " 2023-01-01    22\n",
       " 2023-02-01    10\n",
       " 2023-03-01    29\n",
       " 2023-04-01    13\n",
       " 2023-05-01    21\n",
       " 2023-06-01    22\n",
       " 2023-07-01    25\n",
       " 2023-08-01    21\n",
       " 2023-09-01    27\n",
       " Freq: MS, Name: situacao, dtype: int64,\n",
       " 'indeferidos': data_despacho\n",
       " 2022-10-01    15\n",
       " 2022-11-01    14\n",
       " 2022-12-01    13\n",
       " 2023-01-01    11\n",
       " 2023-02-01    14\n",
       " 2023-03-01    22\n",
       " 2023-04-01    13\n",
       " 2023-05-01    23\n",
       " 2023-06-01    12\n",
       " 2023-07-01    19\n",
       " 2023-08-01    19\n",
       " 2023-09-01    10\n",
       " Freq: MS, Name: situacao, dtype: int64}"
      ]
     },
     "execution_count": 129,
     "metadata": {},
     "output_type": "execute_result"
    }
   ],
   "source": [
    "dados = get_sissel_last_12_despachos('RESID')\n",
    "# Gerando os nomes das colunas de meses\n",
    "for n, index in enumerate(dados['despachos'].index):\n",
    "    mes_avrev = dict_mes_abrev[index.month]\n",
    "    DADOS_RESID[f'A{n + 95}'] = mes_avrev\n",
    "    \n",
    "dados"
   ]
  },
  {
   "cell_type": "code",
   "execution_count": 130,
   "metadata": {
    "id": "4RUz29aer590"
   },
   "outputs": [],
   "source": [
    "# Gerando total de despachos\n",
    "for n, valor in enumerate(dados['despachos']):\n",
    "    DADOS_RESID[f'B{n + 95}'] = valor"
   ]
  },
  {
   "cell_type": "code",
   "execution_count": 131,
   "metadata": {
    "id": "HHy4fX5Cr590"
   },
   "outputs": [],
   "source": [
    "# Gerando deferidos\n",
    "for n, valor in enumerate(dados['deferidos']):\n",
    "    DADOS_RESID[f'C{n + 95}'] = valor"
   ]
  },
  {
   "cell_type": "code",
   "execution_count": 132,
   "metadata": {
    "id": "FKWH8ujUr590"
   },
   "outputs": [],
   "source": [
    "# Gerando indeferidos\n",
    "for n, valor in enumerate(dados['indeferidos']):\n",
    "    DADOS_RESID[f'D{n + 95}'] = valor"
   ]
  },
  {
   "cell_type": "markdown",
   "metadata": {
    "id": "4RlXxeFSr590",
    "tags": []
   },
   "source": [
    "##### Últimos 12 meses comunique-ses"
   ]
  },
  {
   "cell_type": "code",
   "execution_count": 133,
   "metadata": {
    "id": "LAI9-HzIr590"
   },
   "outputs": [],
   "source": [
    "dados = get_sissel_last_12_comuniq('RESID')\n",
    "\n",
    "# Gerando total de Comunique-ses\n",
    "for n, valor in enumerate(dados):\n",
    "    DADOS_RESID[f'G{n + 95}'] = valor"
   ]
  },
  {
   "cell_type": "markdown",
   "metadata": {
    "id": "zoe0HoL3r590",
    "tags": []
   },
   "source": [
    "##### Últimos 12 meses autuados\n"
   ]
  },
  {
   "cell_type": "code",
   "execution_count": 134,
   "metadata": {
    "colab": {
     "base_uri": "https://localhost:8080/",
     "height": 35
    },
    "id": "c7UlZ1Cyr591",
    "outputId": "f9625e37-c984-4c83-d2bf-0f21003abe85"
   },
   "outputs": [
    {
     "data": {
      "text/plain": [
       "\"\\ndados = get_sissel_last_12_autuados('RESID')\\n\\nfor n, valor in enumerate(dados):\\n    DADOS_RESID.update(f'J{n + 95}', valor)\\n\""
      ]
     },
     "execution_count": 134,
     "metadata": {},
     "output_type": "execute_result"
    }
   ],
   "source": [
    "# Em desenvolvimento\n",
    "\"\"\"\n",
    "dados = get_sissel_last_12_autuados('RESID')\n",
    "\n",
    "for n, valor in enumerate(dados):\n",
    "    DADOS_RESID.update(f'J{n + 95}', valor)\n",
    "\"\"\""
   ]
  },
  {
   "cell_type": "markdown",
   "metadata": {
    "id": "ci-O0risr591",
    "tags": []
   },
   "source": [
    "##### Acumulado RESID"
   ]
  },
  {
   "cell_type": "code",
   "execution_count": 135,
   "metadata": {
    "colab": {
     "base_uri": "https://localhost:8080/"
    },
    "id": "McKRwIVVr591",
    "outputId": "f8c10b89-75ff-4e3f-b714-0a26fd7360f0"
   },
   "outputs": [
    {
     "data": {
      "text/plain": [
       "{'Despachos': 7715,\n",
       " 'Deferidos': 4451,\n",
       " 'Indeferidos': 3229,\n",
       " 'DRGP': 3288,\n",
       " 'DRVE': 20,\n",
       " 'RESID': 1544,\n",
       " 'Comunique-ses': 27816}"
      ]
     },
     "execution_count": 135,
     "metadata": {},
     "output_type": "execute_result"
    }
   ],
   "source": [
    "# Escrevendo os dados e os nomes das colunas\n",
    "dados = get_sissel_acumulado('RESID')\n",
    "\n",
    "last_line = 0\n",
    "\n",
    "for n, key in enumerate(dados.keys()):\n",
    "    DADOS_RESID[f'I{n + 79}'] = key\n",
    "    DADOS_RESID[f'J{n + 79}'] = dados[key]\n",
    "    last_line = n + 79 + 1\n",
    "\n",
    "if last_line < 92:\n",
    "    for i in range(92 - last_line):\n",
    "        DADOS_RESID[f'I{last_line + i}'] = \" \"\n",
    "        DADOS_RESID[f'J{last_line + i}'] = \" \"\n",
    "\n",
    "dados"
   ]
  },
  {
   "cell_type": "markdown",
   "metadata": {
    "id": "blTvCXlir591",
    "tags": []
   },
   "source": [
    "##### Assuntos"
   ]
  },
  {
   "cell_type": "code",
   "execution_count": 136,
   "metadata": {
    "colab": {
     "base_uri": "https://localhost:8080/"
    },
    "id": "MEX4Kh-_r591",
    "outputId": "d77691a4-3445-4d26-d49e-1e335e65a567"
   },
   "outputs": [
    {
     "data": {
      "text/plain": [
       "assunto\n",
       "APOSTILAMENTO DE ALVARA DE APROVACAO E EXECUCAO DE EDIFICACAO NOVA              6\n",
       "APOSTILAMENTO DE ALVARA DE EXECUCAO DE EDIFICACAO NOVA                          5\n",
       "APOSTILAMENTO DE ALVARA DE APROVACAO DE EDIFICACAO NOVA                         4\n",
       "RECONSIDERACAO DE DESPACHO DE ALVARA DE APROVACAO DE EDIFICACAO NOVA            3\n",
       "ALVARA DE APROVACAO E EXECUCAO DE REQUALIFICACAO                                3\n",
       "ALVARA DE APROVACAO DE EDIFICACAO NOVA                                          2\n",
       "RECONSIDERACAO DESPACHO DE ALVARA DE APROVACAO E EXECUCAO DE EDIFICACAO NOVA    1\n",
       "ALVARA DE EXECUCAO DE REQUALIFICACAO                                            1\n",
       "PROJETO MODIFICATIVO DE ALVARA DE APROVACAO E EXECUCAO DE EDIFICACAO NOVA       1\n",
       "ALVARA DE APROVACAO E EXECUCAO DE EDIFICACAO NOVA                               1\n",
       "Name: count, dtype: int64"
      ]
     },
     "execution_count": 136,
     "metadata": {},
     "output_type": "execute_result"
    }
   ],
   "source": [
    "dados = get_sissel_assuntos('RESID')\n",
    "last_line = 0 \n",
    "# Inserindo dados de assuntos\n",
    "for n, index in enumerate(dados.index):\n",
    "    DADOS_RESID[f'L{n + 82}'] = index\n",
    "    DADOS_RESID[f'M{n + 82}'] = int(dados.at[index])\n",
    "    last_line = n + 82 + 1\n",
    "\n",
    "for i in range(100 - last_line):\n",
    "    DADOS_RESID[f'L{last_line + i}'] = \" \"\n",
    "    DADOS_RESID[f'M{last_line + i}'] = \" \"\n",
    "    \n",
    "dados"
   ]
  },
  {
   "cell_type": "markdown",
   "metadata": {
    "id": "x5yD0GcGr591",
    "tags": []
   },
   "source": [
    "##### Categorias de Uso * EM DESENVOLVIMENTO"
   ]
  },
  {
   "cell_type": "code",
   "execution_count": null,
   "metadata": {
    "id": "n5HQ5Hl6r591"
   },
   "outputs": [],
   "source": []
  },
  {
   "cell_type": "markdown",
   "metadata": {
    "id": "lQfji52_r592"
   },
   "source": [
    "##### Time off"
   ]
  },
  {
   "cell_type": "code",
   "execution_count": 137,
   "metadata": {
    "id": "9HwGQe_Ar592"
   },
   "outputs": [],
   "source": [
    "# Dando um tempo para esfriar o processador da google\n",
    "import time\n",
    "time.sleep(30)"
   ]
  },
  {
   "cell_type": "markdown",
   "metadata": {
    "tags": []
   },
   "source": [
    "### Gravando dados de CAEPP"
   ]
  },
  {
   "cell_type": "markdown",
   "metadata": {
    "id": "nefVoC7U8mg6",
    "tags": []
   },
   "source": [
    "#### 8.2.1 Mês Referência - CAEPP"
   ]
  },
  {
   "cell_type": "markdown",
   "metadata": {
    "id": "fuc3ln6Bfouj"
   },
   "source": [
    "<p align='justify'> Calcula e grava qual mês de referência usado para a geração do relatorio. No caso o mês de referência sempre será o mês anterior ao do atual no momento em que o script é rodados, ou o ultimo mês \"cheio\", em que é possível obter informações completas. Futuramente será adcionada funcionalidade que permitirá que o mês referência possa ser selecionado manualmente.</p>"
   ]
  },
  {
   "cell_type": "code",
   "execution_count": 138,
   "metadata": {
    "id": "9A53mZEl8qUx"
   },
   "outputs": [],
   "source": [
    "# Mês referência\n",
    "mes_ref = mes(data_referencia)\n",
    "ano_ref = ano(data_referencia)\n",
    "\n",
    "# Mês anterior\n",
    "mes_ant = mes(data_anterior)"
   ]
  },
  {
   "cell_type": "code",
   "execution_count": 139,
   "metadata": {
    "id": "4SQihMeZqxUz"
   },
   "outputs": [],
   "source": [
    "# Escrevendo dados de referência\n",
    "DADOS_CAEPP['C1'] = str(f'CAEPP - {mes_ref} de {ano_ref}')\n",
    "DADOS_CAEPP['C2'] = str(f'Resumo {mes_ref} de {ano_ref}')\n",
    "DADOS_CAEPP['C3'] = str(f'Comunique-ses emitidos em {mes_ref}')\n",
    "DADOS_CAEPP['C4'] = str(f'Deferimentos por assunto em {mes_ref}')"
   ]
  },
  {
   "cell_type": "markdown",
   "metadata": {
    "id": "uenPvs1vlHGJ",
    "tags": []
   },
   "source": [
    "#### 8.2.2 Dados Aprova Digital - CAEPP"
   ]
  },
  {
   "cell_type": "markdown",
   "metadata": {
    "id": "6B0XtFYxgtvm",
    "jp-MarkdownHeadingCollapsed": true,
    "tags": []
   },
   "source": [
    "##### Quadro resumo"
   ]
  },
  {
   "cell_type": "code",
   "execution_count": 140,
   "metadata": {
    "colab": {
     "base_uri": "https://localhost:8080/"
    },
    "id": "mTHTnv9Fgtvm",
    "outputId": "b53248ae-b104-4f3d-b48e-213dd9fb4d3f"
   },
   "outputs": [
    {
     "data": {
      "text/plain": [
       "{'despachos_mes_referencia': 116,\n",
       " 'despachos_mes_anterior': 0,\n",
       " 'deferidos_mes_referencia': 112,\n",
       " 'deferidos_mes_anterior': 0,\n",
       " 'indeferidos_mes_referencia': 4,\n",
       " 'indeferidos_mes_anterior': 0,\n",
       " 'encerrados_mes_referencia': 0,\n",
       " 'encerrados_mes_anterior': 0}"
      ]
     },
     "execution_count": 140,
     "metadata": {},
     "output_type": "execute_result"
    }
   ],
   "source": [
    "##### Despachos deferidos e indeferidos #####\n",
    "\n",
    "# Trazendo os dados - Para o SLCe os dados de CAEPP estão como GTEL\n",
    "dados_despacho = get_ad_despachos('CAEPP')\n",
    "\n",
    "# Total despachos emitidos\n",
    "DADOS_CAEPP['B46'] = dados_despacho['despachos_mes_referencia']\n",
    "\n",
    "# Deferidos\n",
    "DADOS_CAEPP['B47'] = dados_despacho['deferidos_mes_referencia']\n",
    "\n",
    "# Indeferidos\n",
    "DADOS_CAEPP['B48'] = dados_despacho['indeferidos_mes_referencia']\n",
    "\n",
    "# Indeferidos e encerrados\n",
    "DADOS_CAEPP['B51'] = dados_despacho['encerrados_mes_referencia']\n",
    "\n",
    "dados_despacho"
   ]
  },
  {
   "cell_type": "code",
   "execution_count": 141,
   "metadata": {
    "colab": {
     "base_uri": "https://localhost:8080/"
    },
    "id": "jAllJvoGgtvn",
    "outputId": "a219d279-1212-4822-fc64-b03319875db5"
   },
   "outputs": [
    {
     "data": {
      "text/plain": [
       "{'comuniq_mes_referencia': 15, 'comuniq_mes_anterior': 6}"
      ]
     },
     "execution_count": 141,
     "metadata": {},
     "output_type": "execute_result"
    }
   ],
   "source": [
    "##### Processos comunicados ##### \n",
    "\n",
    "# Trazendo os dados - Para o SLCe os dados de CAEPP estão como GTEL\n",
    "dados_comun = get_ad_comuniqueses('CAEPP')\n",
    "\n",
    "# Comunique-ses no mês de referência\n",
    "DADOS_CAEPP['B49'] = dados_comun['comuniq_mes_referencia']\n",
    "dados_comun"
   ]
  },
  {
   "cell_type": "code",
   "execution_count": 142,
   "metadata": {
    "colab": {
     "base_uri": "https://localhost:8080/"
    },
    "id": "EQmSXLsngtvn",
    "outputId": "299ddf98-1599-4b6e-b985-27aadcc266d2"
   },
   "outputs": [
    {
     "data": {
      "text/plain": [
       "{'aut_mes_referencia': 219, 'aut_mes_anterior': 362}"
      ]
     },
     "execution_count": 142,
     "metadata": {},
     "output_type": "execute_result"
    }
   ],
   "source": [
    "##### Processos autuados #####\n",
    "dados_aut = get_ad_autuados('CAEPP')\n",
    "\n",
    "# Autuados no mês de referência\n",
    "DADOS_CAEPP['B50'] = dados_aut['aut_mes_referencia']\n",
    "dados_aut"
   ]
  },
  {
   "cell_type": "markdown",
   "metadata": {
    "id": "-_mNGHPHBpjg",
    "jp-MarkdownHeadingCollapsed": true,
    "tags": []
   },
   "source": [
    "##### Despachos por divisões"
   ]
  },
  {
   "cell_type": "code",
   "execution_count": 143,
   "metadata": {
    "colab": {
     "base_uri": "https://localhost:8080/"
    },
    "id": "VvpRPW2OtrK7",
    "outputId": "5d0e2cf8-1393-46cc-a4f8-1e220acead89"
   },
   "outputs": [
    {
     "name": "stdout",
     "output_type": "stream",
     "text": [
      "116\n"
     ]
    }
   ],
   "source": [
    "# Escrevendo os valores\n",
    "dados = get_ad_divisoes('CAEPP')\n",
    "for n, i in enumerate(dados.keys()):\n",
    "    DADOS_CAEPP[f'B{n + 53}'] = int(dados[i])\n",
    "    print(dados[i])"
   ]
  },
  {
   "cell_type": "code",
   "execution_count": 144,
   "metadata": {
    "colab": {
     "base_uri": "https://localhost:8080/"
    },
    "id": "xvqENW9GBuOl",
    "outputId": "ebf47549-84c4-4e7d-e83e-65d571ebfe4c"
   },
   "outputs": [
    {
     "name": "stdout",
     "output_type": "stream",
     "text": [
      "CAEPP\n"
     ]
    }
   ],
   "source": [
    " # Escrevendo os nomes das divisões\n",
    "last_line = 0\n",
    "\n",
    "for n, i in enumerate(get_ad_divisao_list('CAEPP')):\n",
    "    DADOS_CAEPP[f'A{n + 53}'] =  i\n",
    "    last_line = n + 53 + 1\n",
    "    print(i)\n",
    "\n",
    "if last_line < 59:\n",
    "    for i in range(59 - last_line):\n",
    "        DADOS_CAEPP[f'A{last_line + i}'] = ' '\n",
    "        DADOS_CAEPP[f'B{last_line + i}'] = ' '"
   ]
  },
  {
   "cell_type": "markdown",
   "metadata": {
    "id": "tO5xQ-jgis3I",
    "jp-MarkdownHeadingCollapsed": true,
    "tags": []
   },
   "source": [
    "##### Comparativo mês anterior x mês atual"
   ]
  },
  {
   "cell_type": "code",
   "execution_count": 145,
   "metadata": {
    "colab": {
     "base_uri": "https://localhost:8080/"
    },
    "id": "ol_QVNg5is3I",
    "outputId": "41b72e70-bdd4-4260-b228-cf2dbdc2c7f7"
   },
   "outputs": [
    {
     "name": "stdout",
     "output_type": "stream",
     "text": [
      "Agosto Setembro\n"
     ]
    }
   ],
   "source": [
    "# Escrevendo títulos\n",
    "DADOS_CAEPP['E43'] = f'Comparativo {mes_ant} - {mes_ref}'\n",
    "\n",
    "# Escrevendo mes corrente e passado\n",
    "DADOS_CAEPP['E52'] = mes_ant\n",
    "DADOS_CAEPP['F52'] = mes_ref\n",
    "print(mes_ant, mes_ref)"
   ]
  },
  {
   "cell_type": "code",
   "execution_count": 146,
   "metadata": {
    "colab": {
     "base_uri": "https://localhost:8080/"
    },
    "id": "taXYz3U9is3J",
    "outputId": "ebaf472b-d955-4fff-d093-87847d0edb3b"
   },
   "outputs": [
    {
     "name": "stdout",
     "output_type": "stream",
     "text": [
      "0 116\n",
      "0 112\n",
      "0 4\n"
     ]
    }
   ],
   "source": [
    "# Total despachos\n",
    "DADOS_CAEPP['E46'] = dados_despacho['despachos_mes_anterior']\n",
    "DADOS_CAEPP['F46'] = dados_despacho['despachos_mes_referencia']\n",
    "\n",
    "# Deferidos\n",
    "DADOS_CAEPP['E47'] = dados_despacho['deferidos_mes_anterior']\n",
    "DADOS_CAEPP['F47'] = dados_despacho['deferidos_mes_referencia']\n",
    "\n",
    "# Indeferidos\n",
    "DADOS_CAEPP['E48'] = dados_despacho['indeferidos_mes_anterior']\n",
    "DADOS_CAEPP['F48'] = dados_despacho['indeferidos_mes_referencia']\n",
    "\n",
    "print(dados_despacho['despachos_mes_anterior'], dados_despacho['despachos_mes_referencia'])\n",
    "print(dados_despacho['deferidos_mes_anterior'], dados_despacho['deferidos_mes_referencia'])\n",
    "print(dados_despacho['indeferidos_mes_anterior'], dados_despacho['indeferidos_mes_referencia'])"
   ]
  },
  {
   "cell_type": "code",
   "execution_count": 147,
   "metadata": {
    "colab": {
     "base_uri": "https://localhost:8080/"
    },
    "id": "UjHadh0Qis3J",
    "outputId": "714a5e3d-a7ea-4069-d1ad-9be96e72db71"
   },
   "outputs": [
    {
     "name": "stdout",
     "output_type": "stream",
     "text": [
      "6 15\n"
     ]
    }
   ],
   "source": [
    "# Comunique-ses\n",
    "DADOS_CAEPP['E49'] = dados_comun['comuniq_mes_anterior']\n",
    "DADOS_CAEPP['F49'] = dados_comun['comuniq_mes_referencia']\n",
    "\n",
    "print(dados_comun['comuniq_mes_anterior'], dados_comun['comuniq_mes_referencia'])"
   ]
  },
  {
   "cell_type": "markdown",
   "metadata": {
    "id": "soHKEC_f5cZz",
    "jp-MarkdownHeadingCollapsed": true,
    "tags": []
   },
   "source": [
    "##### Ultimos 12 meses despachos"
   ]
  },
  {
   "cell_type": "code",
   "execution_count": 148,
   "metadata": {
    "colab": {
     "base_uri": "https://localhost:8080/"
    },
    "id": "EUk-GNWX5ql4",
    "outputId": "a68b110c-e574-4cea-b315-d262a6540649"
   },
   "outputs": [
    {
     "data": {
      "text/plain": [
       "{'despachos': data_despacho\n",
       " 2023-08-01     49\n",
       " 2023-09-01    116\n",
       " Freq: MS, Name: despacho, dtype: int64,\n",
       " 'deferidos': data_despacho\n",
       " 2023-08-01     46\n",
       " 2023-09-01    112\n",
       " Freq: MS, Name: despacho, dtype: int64,\n",
       " 'indeferidos': data_despacho\n",
       " 2023-08-01    3\n",
       " 2023-09-01    4\n",
       " Freq: MS, Name: despacho, dtype: int64}"
      ]
     },
     "execution_count": 148,
     "metadata": {},
     "output_type": "execute_result"
    }
   ],
   "source": [
    "dados = get_ad_last_12_despachos('CAEPP')\n",
    "# Gerando os nomes das colunas de meses\n",
    "for n, index in enumerate(dados['despachos'].index):\n",
    "    mes_abrev = dict_mes_abrev[index.month]\n",
    "    DADOS_CAEPP[f'A{n + 61}'] = mes_abrev\n",
    "dados"
   ]
  },
  {
   "cell_type": "code",
   "execution_count": 149,
   "metadata": {
    "id": "0Jz-ZP3s8mwW"
   },
   "outputs": [],
   "source": [
    "# Gerando total de despachos\n",
    "for n, valor in enumerate(dados['despachos']):\n",
    "    DADOS_CAEPP[f'B{n + 61}'] = valor"
   ]
  },
  {
   "cell_type": "code",
   "execution_count": 150,
   "metadata": {
    "id": "lTolZsK-Cdsd"
   },
   "outputs": [],
   "source": [
    "# Gerando deferidos\n",
    "for n, valor in enumerate(dados['deferidos']):\n",
    "    DADOS_CAEPP[f'C{n + 61}'] = valor"
   ]
  },
  {
   "cell_type": "code",
   "execution_count": 151,
   "metadata": {
    "id": "T25X-bfqCohH"
   },
   "outputs": [],
   "source": [
    "# Gerando indeferidos\n",
    "for n, valor in enumerate(dados['indeferidos']):\n",
    "    DADOS_CAEPP[f'D{n + 61}'] = valor"
   ]
  },
  {
   "cell_type": "markdown",
   "metadata": {
    "id": "B0ct0WPF_xkb",
    "jp-MarkdownHeadingCollapsed": true,
    "tags": []
   },
   "source": [
    "##### Últimos 12 meses comunique-ses"
   ]
  },
  {
   "cell_type": "code",
   "execution_count": 152,
   "metadata": {
    "id": "f-lDPxsr_4b6"
   },
   "outputs": [
    {
     "data": {
      "text/plain": [
       "data_comuniquese\n",
       "2023-08-01     6\n",
       "2023-09-01    15\n",
       "Freq: MS, Name: n_processo, dtype: int64"
      ]
     },
     "execution_count": 152,
     "metadata": {},
     "output_type": "execute_result"
    }
   ],
   "source": [
    "dados = get_ad_last_12_comuniq('CAEPP')\n",
    "\n",
    "# Gerando total de Comunique-ses\n",
    "for n, valor in enumerate(dados):\n",
    "    DADOS_CAEPP[f'G{n + 61}'] = valor\n",
    "\n",
    "dados"
   ]
  },
  {
   "cell_type": "markdown",
   "metadata": {
    "id": "-S30LiCyDOlQ",
    "jp-MarkdownHeadingCollapsed": true,
    "tags": []
   },
   "source": [
    "##### Últimos 12 meses autuados\n"
   ]
  },
  {
   "cell_type": "code",
   "execution_count": 153,
   "metadata": {
    "id": "_OynUICxDWUA"
   },
   "outputs": [
    {
     "data": {
      "text/plain": [
       "data_autuacao\n",
       "2022-10-01    141\n",
       "2022-11-01    121\n",
       "2022-12-01    157\n",
       "2023-01-01    101\n",
       "2023-02-01    144\n",
       "2023-03-01    184\n",
       "2023-04-01    215\n",
       "2023-05-01    211\n",
       "2023-06-01    289\n",
       "2023-07-01    301\n",
       "2023-08-01    362\n",
       "2023-09-01    219\n",
       "Freq: MS, Name: n_processo, dtype: int64"
      ]
     },
     "execution_count": 153,
     "metadata": {},
     "output_type": "execute_result"
    }
   ],
   "source": [
    "dados = get_ad_last_12_autuados('CAEPP')\n",
    "\n",
    "for n, valor in enumerate(dados):\n",
    "    DADOS_CAEPP[f'J{n + 61}'] = valor\n",
    "\n",
    "dados"
   ]
  },
  {
   "cell_type": "markdown",
   "metadata": {
    "id": "D1qk1PnkDnNw",
    "jp-MarkdownHeadingCollapsed": true,
    "tags": []
   },
   "source": [
    "##### Acumulado CAEPP"
   ]
  },
  {
   "cell_type": "code",
   "execution_count": 154,
   "metadata": {
    "id": "GH5BdJ9bXOyn"
   },
   "outputs": [
    {
     "data": {
      "text/plain": [
       "{'Despachos': 165,\n",
       " 'Deferidos': 158,\n",
       " 'Indeferidos': 7,\n",
       " 'CAEPP': 165,\n",
       " 'Comunique-ses': 21,\n",
       " 'Autuados': 4307,\n",
       " 'Estoque': 4151}"
      ]
     },
     "execution_count": 154,
     "metadata": {},
     "output_type": "execute_result"
    }
   ],
   "source": [
    "# Escrevendo os dados e os nomes das colunas\n",
    "dados = get_ad_acumulado('CAEPP')\n",
    "\n",
    "last_line = 0\n",
    "\n",
    "for n, key in enumerate(dados.keys()):\n",
    "    DADOS_CAEPP[f'I{n + 45}'] = key\n",
    "    DADOS_CAEPP[f'J{n + 45}'] = dados[key]\n",
    "    last_line = n + 45 + 1\n",
    "\n",
    "if last_line < 59:\n",
    "    for i in range(59 - last_line):\n",
    "        DADOS_CAEPP[f'I{last_line + i}'] = \" \"\n",
    "        DADOS_CAEPP[f'J{last_line + i}'] = \" \"\n",
    "\n",
    "dados"
   ]
  },
  {
   "cell_type": "markdown",
   "metadata": {
    "id": "s7qCndToDfjC",
    "tags": []
   },
   "source": [
    "##### Assuntos"
   ]
  },
  {
   "cell_type": "code",
   "execution_count": 155,
   "metadata": {
    "colab": {
     "base_uri": "https://localhost:8080/"
    },
    "id": "9_GeNSc2De8A",
    "outputId": "6b1c8d41-902b-4b1b-fbfa-7eb5c51fe211"
   },
   "outputs": [
    {
     "data": {
      "text/plain": [
       "assunto_x\n",
       "Alvará de Aprovação e Execução de Edificação Nova (Exceto HIS/ HMP)                             39\n",
       "Alvará para Desmembramento/ Remembramento/ Reparcelamento                                       20\n",
       "Certificado de Conclusão                                                                        20\n",
       "Alvará de Aprovação e Execução de Reforma (Exceto HIS e HMP)                                    12\n",
       "Apostilamento                                                                                   12\n",
       "Alvará de Autorização de Implantação e/ou Utilização de Estande de Vendas                        2\n",
       "Alvará de Execução de Edificação Nova (Exceto HIS/ HMP)                                          2\n",
       "Alvará de Execução de Reforma (Exceto HIS/ HMP)                                                  1\n",
       "Alvará de Execução de Demolição Total                                                            1\n",
       "Alvará de Aprovação de Reforma (Exceto HIS/ HMP)                                                 1\n",
       "Alvará de Autorização de Avanço de Grua Sobre o Espaço Público                                   1\n",
       "Projeto Modificativo de Alvará de Aprovação e Execução de Edificação Nova (exceto HIS / HMP)     1\n",
       "Name: count, dtype: int64"
      ]
     },
     "execution_count": 155,
     "metadata": {},
     "output_type": "execute_result"
    }
   ],
   "source": [
    "dados = get_ad_assuntos('CAEPP')\n",
    "last_line = 0 \n",
    "# Inserindo dados de assuntos\n",
    "for n, index in enumerate(dados.index):\n",
    "    DADOS_CAEPP[f'L{n + 48}'] = index\n",
    "    DADOS_CAEPP[f'M{n + 48}'] = int(dados.at[index])\n",
    "    last_line = n + 48 + 1\n",
    "\n",
    "for i in range(68 - last_line):\n",
    "    DADOS_CAEPP[f'L{last_line + i}'] = \" \"\n",
    "    DADOS_CAEPP[f'M{last_line + i}'] = \" \"\n",
    "    \n",
    "dados"
   ]
  },
  {
   "cell_type": "markdown",
   "metadata": {
    "id": "Cvvw8PdkDjnA",
    "jp-MarkdownHeadingCollapsed": true,
    "tags": []
   },
   "source": [
    "##### Categorias de Uso * EM DESENVOLVIMENTO"
   ]
  },
  {
   "cell_type": "markdown",
   "metadata": {
    "id": "8kv7AKUtz4Pz",
    "jp-MarkdownHeadingCollapsed": true,
    "tags": []
   },
   "source": [
    "##### Time off"
   ]
  },
  {
   "cell_type": "code",
   "execution_count": 156,
   "metadata": {
    "id": "FXnN9PKZPCcA"
   },
   "outputs": [],
   "source": [
    "# Dando um tempo para esfriar o processador da google\n"
   ]
  },
  {
   "cell_type": "markdown",
   "metadata": {
    "id": "PYCBd97P8-4J",
    "tags": []
   },
   "source": [
    "#### 8.2.3 Dados SLCe - CAEPP"
   ]
  },
  {
   "cell_type": "markdown",
   "metadata": {
    "id": "0zuKkRVE9FNR",
    "tags": []
   },
   "source": [
    "##### Quadro resumo"
   ]
  },
  {
   "cell_type": "code",
   "execution_count": 157,
   "metadata": {
    "colab": {
     "base_uri": "https://localhost:8080/"
    },
    "id": "EAEqRRxz88Oa",
    "outputId": "654db237-1bf6-43ad-b8f9-01354219f79a"
   },
   "outputs": [
    {
     "data": {
      "text/plain": [
       "{'despachos_mes_referencia': 412,\n",
       " 'despachos_mes_anterior': 464,\n",
       " 'deferidos_mes_referencia': 363,\n",
       " 'deferidos_mes_anterior': 334,\n",
       " 'indeferidos_mes_referencia': 49,\n",
       " 'indeferidos_mes_anterior': 130,\n",
       " 'encerrados_mes_referencia': 3,\n",
       " 'encerrados_mes_anterior': 49}"
      ]
     },
     "execution_count": 157,
     "metadata": {},
     "output_type": "execute_result"
    }
   ],
   "source": [
    "##### Despachos, deferidos e indeferidos #####\n",
    "\n",
    "# Trazendo os dados - Para o SLCe os dados de CAEPP estão como GTEL\n",
    "dados_despacho = get_slce_despachos()\n",
    "\n",
    "# Total despachos emitidos\n",
    "DADOS_CAEPP['B117'] = dados_despacho['despachos_mes_referencia']\n",
    "\n",
    "# Deferidos\n",
    "DADOS_CAEPP['B118'] = dados_despacho['deferidos_mes_referencia']\n",
    "\n",
    "# Indeferidos\n",
    "DADOS_CAEPP['B119'] = dados_despacho['indeferidos_mes_referencia']\n",
    "\n",
    "# Indeferidos e encerrados\n",
    "DADOS_CAEPP['B122'] = dados_despacho['encerrados_mes_referencia']\n",
    "\n",
    "dados_despacho"
   ]
  },
  {
   "cell_type": "code",
   "execution_count": 158,
   "metadata": {
    "colab": {
     "base_uri": "https://localhost:8080/"
    },
    "id": "TILwwq90Agw2",
    "outputId": "adc94569-e196-45f8-de85-87a0e0d17c29"
   },
   "outputs": [
    {
     "data": {
      "text/plain": [
       "{'comuniq_mes_referencia': 112, 'comuniq_mes_anterior': 163}"
      ]
     },
     "execution_count": 158,
     "metadata": {},
     "output_type": "execute_result"
    }
   ],
   "source": [
    "##### Processos comunicados ##### \n",
    "\n",
    "# Trazendo os dados - Para o SLCe os dados de CAEPP estão como GTEL\n",
    "dados_comun = get_slce_comuniqueses()\n",
    "\n",
    "# Comunique-ses no mês de referência\n",
    "DADOS_CAEPP['B120'] = dados_comun['comuniq_mes_referencia']\n",
    "dados_comun"
   ]
  },
  {
   "cell_type": "code",
   "execution_count": 159,
   "metadata": {
    "colab": {
     "base_uri": "https://localhost:8080/"
    },
    "id": "XclcI8UWAkJG",
    "outputId": "ba00c34a-351c-4a01-fbaf-8270aa9d8431"
   },
   "outputs": [
    {
     "data": {
      "text/plain": [
       "{'aut_mes_referencia': 556, 'aut_mes_anterior': 624}"
      ]
     },
     "execution_count": 159,
     "metadata": {},
     "output_type": "execute_result"
    }
   ],
   "source": [
    "##### Processos autuados #####\n",
    "dados_aut = get_slce_autuados()\n",
    "\n",
    "# Autuados no mês de referência\n",
    "DADOS_CAEPP['B121'] = dados_aut['aut_mes_referencia']\n",
    "dados_aut"
   ]
  },
  {
   "cell_type": "markdown",
   "metadata": {
    "id": "LAO3FqB4xjPi",
    "tags": []
   },
   "source": [
    "##### Comparativo mês anterior x mês atual"
   ]
  },
  {
   "cell_type": "code",
   "execution_count": 160,
   "metadata": {
    "colab": {
     "base_uri": "https://localhost:8080/"
    },
    "id": "6BZ2Vd1Axnq7",
    "outputId": "3e8cf1b0-14d6-4dd8-fabc-fe3237c2bbc8"
   },
   "outputs": [
    {
     "data": {
      "text/plain": [
       "('Agosto', 'Setembro')"
      ]
     },
     "execution_count": 160,
     "metadata": {},
     "output_type": "execute_result"
    }
   ],
   "source": [
    "# Escrevendo títulos\n",
    "DADOS_CAEPP['E114'] = f'Comparativo {mes_ant} - {mes_ref}'\n",
    "\n",
    "# Escrevendo mes corrente e passado\n",
    "DADOS_CAEPP['E123'] = mes_ant\n",
    "DADOS_CAEPP['F123'] = mes_ref\n",
    "\n",
    "mes_ant, mes_ref"
   ]
  },
  {
   "cell_type": "code",
   "execution_count": 161,
   "metadata": {
    "colab": {
     "base_uri": "https://localhost:8080/"
    },
    "id": "3aVmKhF2_g0e",
    "outputId": "b6f5f3d1-b7e0-456f-9e3d-2b93f1d3f1d9"
   },
   "outputs": [
    {
     "name": "stdout",
     "output_type": "stream",
     "text": [
      "(464, 412) (334, 363) (130, 49)\n"
     ]
    }
   ],
   "source": [
    "# Total despachos\n",
    "DADOS_CAEPP['E117'] = dados_despacho['despachos_mes_anterior']\n",
    "DADOS_CAEPP['F117'] = dados_despacho['despachos_mes_referencia']\n",
    "\n",
    "# Deferidos\n",
    "DADOS_CAEPP['E118'] = dados_despacho['deferidos_mes_anterior']\n",
    "DADOS_CAEPP['F118'] = dados_despacho['deferidos_mes_referencia']\n",
    "\n",
    "# Indeferidos\n",
    "DADOS_CAEPP['E119'] = dados_despacho['indeferidos_mes_anterior']\n",
    "DADOS_CAEPP['F119'] = dados_despacho['indeferidos_mes_referencia']\n",
    "\n",
    "print(\n",
    "(dados_despacho['despachos_mes_anterior'], dados_despacho['despachos_mes_referencia']),\n",
    "(dados_despacho['deferidos_mes_anterior'], dados_despacho['deferidos_mes_referencia']),\n",
    "(dados_despacho['indeferidos_mes_anterior'], dados_despacho['indeferidos_mes_referencia'])\n",
    ")"
   ]
  },
  {
   "cell_type": "code",
   "execution_count": 162,
   "metadata": {
    "colab": {
     "base_uri": "https://localhost:8080/"
    },
    "id": "fIrz8GykAR7p",
    "outputId": "8872b620-124a-494d-be4a-0582ed62e3c0"
   },
   "outputs": [
    {
     "data": {
      "text/plain": [
       "(163, 112)"
      ]
     },
     "execution_count": 162,
     "metadata": {},
     "output_type": "execute_result"
    }
   ],
   "source": [
    "# Comunique-ses\n",
    "DADOS_CAEPP['E120'] = dados_comun['comuniq_mes_anterior']\n",
    "DADOS_CAEPP['F120'] = dados_comun['comuniq_mes_referencia']\n",
    "\n",
    "dados_comun['comuniq_mes_anterior'], dados_comun['comuniq_mes_referencia']"
   ]
  },
  {
   "cell_type": "markdown",
   "metadata": {
    "id": "VpmZFj7lvNCo",
    "tags": []
   },
   "source": [
    "##### Despachos ultimos 12 meses"
   ]
  },
  {
   "cell_type": "code",
   "execution_count": 163,
   "metadata": {
    "colab": {
     "base_uri": "https://localhost:8080/"
    },
    "id": "T3Rn5M4HvUtZ",
    "outputId": "a27eca7b-f244-407b-e31a-47f0622107de"
   },
   "outputs": [
    {
     "data": {
      "text/plain": [
       "{'despachos_12': data_despacho\n",
       " 2022-10-01    504\n",
       " 2022-11-01    612\n",
       " 2022-12-01    649\n",
       " 2023-01-01    578\n",
       " 2023-02-01    517\n",
       " 2023-03-01    703\n",
       " 2023-04-01    800\n",
       " 2023-05-01    939\n",
       " 2023-06-01    615\n",
       " 2023-07-01    668\n",
       " 2023-08-01    464\n",
       " 2023-09-01    412\n",
       " Freq: MS, Name: deferido, dtype: int64,\n",
       " 'deferidos_12': data_despacho\n",
       " 2022-10-01    337\n",
       " 2022-11-01    456\n",
       " 2022-12-01    494\n",
       " 2023-01-01    416\n",
       " 2023-02-01    414\n",
       " 2023-03-01    560\n",
       " 2023-04-01    579\n",
       " 2023-05-01    712\n",
       " 2023-06-01    442\n",
       " 2023-07-01    512\n",
       " 2023-08-01    334\n",
       " 2023-09-01    363\n",
       " Freq: MS, Name: deferido, dtype: int64,\n",
       " 'indeferidos_12': data_despacho\n",
       " 2022-10-01    167\n",
       " 2022-11-01    156\n",
       " 2022-12-01    155\n",
       " 2023-01-01    162\n",
       " 2023-02-01    103\n",
       " 2023-03-01    143\n",
       " 2023-04-01    221\n",
       " 2023-05-01    227\n",
       " 2023-06-01    173\n",
       " 2023-07-01    156\n",
       " 2023-08-01    130\n",
       " 2023-09-01     49\n",
       " Freq: MS, Name: deferido, dtype: int64}"
      ]
     },
     "execution_count": 163,
     "metadata": {},
     "output_type": "execute_result"
    }
   ],
   "source": [
    "# Gerando os nomes das colunas de meses\n",
    "dados = get_slce_last_12_despachos()\n",
    "\n",
    "for n, index in enumerate(dados['despachos_12'].index):\n",
    "    mes_avrev = dict_mes_abrev[index.month]\n",
    "    DADOS_CAEPP[f'A{n + 132}'] = mes_avrev\n",
    "\n",
    "dados"
   ]
  },
  {
   "cell_type": "code",
   "execution_count": 164,
   "metadata": {
    "id": "BW25LqJXwgLI"
   },
   "outputs": [],
   "source": [
    "# Gerando total de despachos\n",
    "for n, valor in enumerate(dados['despachos_12']):\n",
    "    DADOS_CAEPP[f'B{n + 132}'] = valor"
   ]
  },
  {
   "cell_type": "code",
   "execution_count": 165,
   "metadata": {
    "id": "TYS1qdCSwl2Z"
   },
   "outputs": [],
   "source": [
    "# Gerando deferidos\n",
    "for n, valor in enumerate(dados['deferidos_12']):\n",
    "    DADOS_CAEPP[f'C{n + 132}'] = valor"
   ]
  },
  {
   "cell_type": "code",
   "execution_count": 166,
   "metadata": {
    "id": "ZsiQcm3EwqKS"
   },
   "outputs": [],
   "source": [
    "# Gerando indeferidos\n",
    "for n, valor in enumerate(dados['indeferidos_12']):\n",
    "    DADOS_CAEPP[f'D{n + 132}'] = valor"
   ]
  },
  {
   "cell_type": "markdown",
   "metadata": {
    "id": "UVQ2GRsSDbE6",
    "tags": []
   },
   "source": [
    "##### Comunique-ses últimos 12 meses"
   ]
  },
  {
   "cell_type": "code",
   "execution_count": 167,
   "metadata": {
    "colab": {
     "base_uri": "https://localhost:8080/"
    },
    "id": "s8nSoFJvDf_C",
    "outputId": "4b450aba-d7c1-4a1b-a710-43d7c87e984d"
   },
   "outputs": [
    {
     "data": {
      "text/plain": [
       "data_comuniquese\n",
       "2022-10-01    481\n",
       "2022-11-01    455\n",
       "2022-12-01    372\n",
       "2023-01-01    540\n",
       "2023-02-01    416\n",
       "2023-03-01    590\n",
       "2023-04-01    497\n",
       "2023-05-01    580\n",
       "2023-06-01    417\n",
       "2023-07-01    353\n",
       "2023-08-01    163\n",
       "2023-09-01    112\n",
       "Freq: MS, Name: n_processo, dtype: int64"
      ]
     },
     "execution_count": 167,
     "metadata": {},
     "output_type": "execute_result"
    }
   ],
   "source": [
    "dados = get_slce_last_12_comuniq()\n",
    "\n",
    "# Gerando total de Comunique-ses\n",
    "for n, valor in enumerate(dados):\n",
    "    DADOS_CAEPP[f'G{n + 132}'] = valor\n",
    "\n",
    "dados"
   ]
  },
  {
   "cell_type": "markdown",
   "metadata": {
    "id": "LIiVUeozDg3H",
    "tags": []
   },
   "source": [
    "##### Autuados últimos 12 meses"
   ]
  },
  {
   "cell_type": "code",
   "execution_count": 168,
   "metadata": {
    "colab": {
     "base_uri": "https://localhost:8080/"
    },
    "id": "J5Do3AyODkG4",
    "outputId": "5fd08c8f-1b1f-456d-d61a-cc34ae07f252"
   },
   "outputs": [
    {
     "data": {
      "text/plain": [
       "data_autuacao\n",
       "2022-10-01    488\n",
       "2022-11-01    758\n",
       "2022-12-01    714\n",
       "2023-01-01    515\n",
       "2023-02-01    601\n",
       "2023-03-01    684\n",
       "2023-04-01    597\n",
       "2023-05-01    681\n",
       "2023-06-01    641\n",
       "2023-07-01    600\n",
       "2023-08-01    624\n",
       "2023-09-01    556\n",
       "Freq: MS, Name: n_processo, dtype: int64"
      ]
     },
     "execution_count": 168,
     "metadata": {},
     "output_type": "execute_result"
    }
   ],
   "source": [
    "dados = get_slce_last_12_autuados()\n",
    "\n",
    "for n, valor in enumerate(dados):\n",
    "    DADOS_CAEPP[f'J{n + 132}'] = valor\n",
    "dados"
   ]
  },
  {
   "cell_type": "markdown",
   "metadata": {
    "id": "cZzHPNpDDUVh",
    "tags": []
   },
   "source": [
    "##### Assuntos"
   ]
  },
  {
   "cell_type": "code",
   "execution_count": 169,
   "metadata": {
    "colab": {
     "base_uri": "https://localhost:8080/"
    },
    "id": "Kne-c4X7DW3p",
    "outputId": "828c0d14-8922-4233-b9ac-e126e02cea66"
   },
   "outputs": [
    {
     "data": {
      "text/plain": [
       "assunto_x\n",
       "Alvará de Autorização para avanço de Tapume sobre parte do Passeio Público    163\n",
       "Alvará de Autorização de Implantação e/ou Utilização de Estande de Vendas      50\n",
       "Alvará de Execução de Demolição                                                43\n",
       "Certificado de Conclusão de Demolição                                          38\n",
       "Certificado de Conclusão                                                       35\n",
       "Alvará de Aprovação e Execução para Residência Unifamiliar                     25\n",
       "Alvará de Reparcelamento de Lote                                                3\n",
       "Alvará de Execução de Edificação Nova                                           2\n",
       "Alvará de Desmembramento de Lote                                                2\n",
       "Alvará de Aprovação de Edificação Nova                                          2\n",
       "Name: count, dtype: int64"
      ]
     },
     "execution_count": 169,
     "metadata": {},
     "output_type": "execute_result"
    }
   ],
   "source": [
    "dados = get_slce_assuntos()\n",
    "last_line = 0 \n",
    "# Inserindo dados de assuntos\n",
    "for n, index in enumerate(dados.index):\n",
    "    DADOS_CAEPP[f'L{n + 119}'] = index\n",
    "    DADOS_CAEPP[f'M{n + 119}'] = int(dados.at[index])\n",
    "    last_line = n + 119 + 1\n",
    "\n",
    "for i in range(125 - last_line):\n",
    "    DADOS_CAEPP[f'L{last_line + i}'] = \" \"\n",
    "    DADOS_CAEPP[f'M{last_line + i}'] = \" \"\n",
    "dados"
   ]
  },
  {
   "cell_type": "markdown",
   "metadata": {
    "id": "YPYlHqFWEGvE",
    "tags": []
   },
   "source": [
    "##### Acumulado"
   ]
  },
  {
   "cell_type": "code",
   "execution_count": 170,
   "metadata": {
    "colab": {
     "base_uri": "https://localhost:8080/"
    },
    "id": "tEFA8NBobmGS",
    "outputId": "3c6870cb-a79f-4d86-bd35-c440ace3c672"
   },
   "outputs": [
    {
     "data": {
      "text/plain": [
       "{'Despachos': 30044,\n",
       " 'Deferidos': 17106,\n",
       " 'Indeferidos': 12938,\n",
       " 'COMIN-GTEA': 14764,\n",
       " 'CAEPP-DERPP': 14139,\n",
       " 'CAEPP': 1,\n",
       " 'Comunique-ses': 28787,\n",
       " 'Autuados': 36540,\n",
       " 'Estoque': 15251}"
      ]
     },
     "execution_count": 170,
     "metadata": {},
     "output_type": "execute_result"
    }
   ],
   "source": [
    "# Escrevendo os dados e os nomes das colunas\n",
    "dados = get_slce_acumulado()\n",
    "\n",
    "for n, key in enumerate(dados.keys()):\n",
    "    DADOS_CAEPP[f'I{n + 116}'] = key\n",
    "    DADOS_CAEPP[f'J{n + 116}'] = dados[key]\n",
    "    \n",
    "dados"
   ]
  },
  {
   "cell_type": "markdown",
   "metadata": {
    "id": "wzdQIVWE0d0u",
    "tags": []
   },
   "source": [
    "### **8.3 Gravando dados de COMIN**"
   ]
  },
  {
   "cell_type": "markdown",
   "metadata": {
    "id": "T_rZVafE0d0w",
    "tags": []
   },
   "source": [
    "#### 8.3.1 Mês Referência - COMIN"
   ]
  },
  {
   "cell_type": "markdown",
   "metadata": {
    "id": "Bi7X3oY90d0w"
   },
   "source": [
    "<p align='justify'> Calcula e grava qual mês de referência usado para a geração do relatorio. No caso o mês de referência sempre será o mês anterior ao do atual no momento em que o script é rodados, ou o ultimo mês \"cheio\", em que é possível obter informações completas. Futuramente será adcionada funcionalidade que permitirá que o mês referência possa ser selecionado manualmente.</p>"
   ]
  },
  {
   "cell_type": "code",
   "execution_count": 171,
   "metadata": {
    "id": "TR4GONZW0d0x"
   },
   "outputs": [],
   "source": [
    "# Mês referência\n",
    "mes_ref = mes(data_referencia)\n",
    "ano_ref = ano(data_referencia)\n",
    "\n",
    "# Mês anterior\n",
    "mes_ant = mes(data_anterior)"
   ]
  },
  {
   "cell_type": "code",
   "execution_count": 172,
   "metadata": {
    "colab": {
     "base_uri": "https://localhost:8080/"
    },
    "id": "o_2uhtMj0d0y",
    "outputId": "cef5064d-a756-488a-a88e-964f55e687cb"
   },
   "outputs": [],
   "source": [
    "# Escrevendo dados de referência\n",
    "DADOS_COMIN['C1'] = str(f'COMIN - {mes_ref} de {ano_ref}')\n",
    "DADOS_COMIN['C2'] = str(f'Resumo {mes_ref} de {ano_ref}')\n",
    "DADOS_COMIN['C3'] = str(f'Comunique-ses emitidos em {mes_ref}')\n",
    "DADOS_COMIN['C4'] = str(f'Deferimentos por assunto em {mes_ref}')"
   ]
  },
  {
   "cell_type": "markdown",
   "metadata": {
    "id": "9sK5cA7s0d02",
    "tags": []
   },
   "source": [
    "#### 8.3.2 Dados Aprova Digital - COMIN"
   ]
  },
  {
   "cell_type": "markdown",
   "metadata": {
    "id": "HOAYUCIX0d03",
    "tags": []
   },
   "source": [
    "##### Quadro resumo"
   ]
  },
  {
   "cell_type": "code",
   "execution_count": 173,
   "metadata": {
    "colab": {
     "base_uri": "https://localhost:8080/"
    },
    "id": "DSTRym5w0d04",
    "outputId": "0be2c130-5b13-4b0f-c9ee-ddfb0e8cd6fd"
   },
   "outputs": [
    {
     "data": {
      "text/plain": [
       "{'despachos_mes_referencia': 9,\n",
       " 'despachos_mes_anterior': 0,\n",
       " 'deferidos_mes_referencia': 7,\n",
       " 'deferidos_mes_anterior': 0,\n",
       " 'indeferidos_mes_referencia': 2,\n",
       " 'indeferidos_mes_anterior': 0,\n",
       " 'encerrados_mes_referencia': 0,\n",
       " 'encerrados_mes_anterior': 0}"
      ]
     },
     "execution_count": 173,
     "metadata": {},
     "output_type": "execute_result"
    }
   ],
   "source": [
    "##### Despachos, deferidos e indeferidos #####\n",
    "\n",
    "# Trazendo os dados - Para o SLCe os dados de COMIN estão como GTEL\n",
    "dados_despacho = get_ad_despachos('COMIN')\n",
    "\n",
    "# Total despachos emitidos\n",
    "DADOS_COMIN['B46'] = dados_despacho['despachos_mes_referencia']\n",
    "\n",
    "# Deferidos\n",
    "DADOS_COMIN['B47'] = dados_despacho['deferidos_mes_referencia']\n",
    "\n",
    "# Indeferidos\n",
    "DADOS_COMIN['B48'] = dados_despacho['indeferidos_mes_referencia']\n",
    "\n",
    "# Indeferidos e encerrados #0 oara o mês\n",
    "DADOS_COMIN['B51'] = dados_despacho['encerrados_mes_referencia']\n",
    "\n",
    "dados_despacho"
   ]
  },
  {
   "cell_type": "code",
   "execution_count": 174,
   "metadata": {
    "colab": {
     "base_uri": "https://localhost:8080/"
    },
    "id": "pF1YRlr30d04",
    "outputId": "63113b81-7c0a-434b-900e-f787e95ba613"
   },
   "outputs": [
    {
     "data": {
      "text/plain": [
       "{'comuniq_mes_referencia': 77, 'comuniq_mes_anterior': 81}"
      ]
     },
     "execution_count": 174,
     "metadata": {},
     "output_type": "execute_result"
    }
   ],
   "source": [
    "##### Processos comunicados ##### \n",
    "\n",
    "# Trazendo os dados - Para o SLCe os dados de COMIN estão como COMIN-GTEA\n",
    "dados_comun = get_ad_comuniqueses('COMIN')\n",
    "\n",
    "# Comunique-ses no mês de referência\n",
    "DADOS_COMIN['B49'] = dados_comun['comuniq_mes_referencia']\n",
    "dados_comun"
   ]
  },
  {
   "cell_type": "code",
   "execution_count": 175,
   "metadata": {
    "colab": {
     "base_uri": "https://localhost:8080/"
    },
    "id": "iZhZrjec0d05",
    "outputId": "00bbf03d-069f-4996-d7d5-58aaed90dd5b"
   },
   "outputs": [
    {
     "data": {
      "text/plain": [
       "{'aut_mes_referencia': 12, 'aut_mes_anterior': 15}"
      ]
     },
     "execution_count": 175,
     "metadata": {},
     "output_type": "execute_result"
    }
   ],
   "source": [
    "##### Processos autuados #####\n",
    "dados_aut = get_ad_autuados('COMIN')\n",
    "\n",
    "# Autuados no mês de referência\n",
    "DADOS_COMIN['B50'] = dados_aut['aut_mes_referencia']\n",
    "dados_aut"
   ]
  },
  {
   "cell_type": "markdown",
   "metadata": {
    "id": "cUiR4XMh0d06",
    "tags": []
   },
   "source": [
    "##### Despachos por divisões"
   ]
  },
  {
   "cell_type": "code",
   "execution_count": 176,
   "metadata": {
    "colab": {
     "base_uri": "https://localhost:8080/"
    },
    "id": "l2Iufxf_0d07",
    "outputId": "47238957-a3dd-442d-e61f-ff6906c93e44"
   },
   "outputs": [
    {
     "name": "stdout",
     "output_type": "stream",
     "text": [
      "6\n",
      "2\n",
      "1\n"
     ]
    }
   ],
   "source": [
    "# Escrevendo os valores\n",
    "dados = get_ad_divisoes('COMIN')\n",
    "for n, i in enumerate(dados.keys()):\n",
    "    DADOS_COMIN[f'B{n + 53}'] = int(dados[i])\n",
    "    print(dados[i])"
   ]
  },
  {
   "cell_type": "code",
   "execution_count": 177,
   "metadata": {
    "colab": {
     "base_uri": "https://localhost:8080/"
    },
    "id": "o6VqBGhR0d07",
    "outputId": "2073de21-040e-4baa-ca5d-e3f4c6ebd38e"
   },
   "outputs": [
    {
     "name": "stdout",
     "output_type": "stream",
     "text": [
      "DCIGP\n",
      "DCIMP\n",
      "COMIN\n"
     ]
    }
   ],
   "source": [
    "# Escrevendo os nomes das divisões\n",
    "last_line = 0\n",
    "for n, i in enumerate(get_ad_divisao_list('COMIN')):\n",
    "    DADOS_COMIN[f'A{n + 53}'] = i\n",
    "    last_line = n + 53 + 1\n",
    "    print(i)\n",
    "\n",
    "if last_line < 59:\n",
    "    for i in range(59 - last_line):\n",
    "        DADOS_COMIN[f'A{last_line + i}'] = \" \"\n",
    "        DADOS_COMIN[f'B{last_line + i}'] = \" \""
   ]
  },
  {
   "cell_type": "markdown",
   "metadata": {
    "id": "Yjr4hF6J0d08",
    "jp-MarkdownHeadingCollapsed": true,
    "tags": []
   },
   "source": [
    "##### Comparativo mês anterior x mês atual"
   ]
  },
  {
   "cell_type": "code",
   "execution_count": 178,
   "metadata": {
    "colab": {
     "base_uri": "https://localhost:8080/"
    },
    "id": "7-FiXHoZ0d09",
    "outputId": "ed46f758-2bce-4581-f3c7-92e0a01f9fbb"
   },
   "outputs": [
    {
     "name": "stdout",
     "output_type": "stream",
     "text": [
      "Agosto Setembro\n"
     ]
    }
   ],
   "source": [
    "# Escrevendo títulos\n",
    "DADOS_COMIN['E43'] = f'Comparativo {mes_ant} - {mes_ref}'\n",
    "\n",
    "# Escrevendo mes corrente e passado\n",
    "DADOS_COMIN['E52'] = mes_ant\n",
    "DADOS_COMIN['F52'] = mes_ref\n",
    "print(mes_ant, mes_ref)"
   ]
  },
  {
   "cell_type": "code",
   "execution_count": 179,
   "metadata": {
    "colab": {
     "base_uri": "https://localhost:8080/"
    },
    "id": "AbpHzyVA0d09",
    "outputId": "6be54643-34e9-4201-93ee-94f680813bbf"
   },
   "outputs": [
    {
     "name": "stdout",
     "output_type": "stream",
     "text": [
      "0 9\n",
      "0 7\n",
      "0 2\n"
     ]
    }
   ],
   "source": [
    "# Total despachos\n",
    "DADOS_COMIN['E46'] = dados_despacho['despachos_mes_anterior']\n",
    "DADOS_COMIN['F46'] = dados_despacho['despachos_mes_referencia']\n",
    "\n",
    "# Deferidos\n",
    "DADOS_COMIN['E47'] = dados_despacho['deferidos_mes_anterior']\n",
    "DADOS_COMIN['F47'] = dados_despacho['deferidos_mes_referencia']\n",
    "\n",
    "# Indeferidos\n",
    "DADOS_COMIN['E48'] = dados_despacho['indeferidos_mes_anterior']\n",
    "DADOS_COMIN['F48'] = dados_despacho['indeferidos_mes_referencia']\n",
    "\n",
    "print(dados_despacho['despachos_mes_anterior'], dados_despacho['despachos_mes_referencia'])\n",
    "print(dados_despacho['deferidos_mes_anterior'], dados_despacho['deferidos_mes_referencia'])\n",
    "print(dados_despacho['indeferidos_mes_anterior'], dados_despacho['indeferidos_mes_referencia'])"
   ]
  },
  {
   "cell_type": "code",
   "execution_count": 180,
   "metadata": {
    "colab": {
     "base_uri": "https://localhost:8080/"
    },
    "id": "z1bpfmXq0d0-",
    "outputId": "bdea2e22-7ffe-48a4-e1ce-acb0913d9171"
   },
   "outputs": [],
   "source": [
    "# Comunique-ses\n",
    "DADOS_COMIN['E49'] = dados_comun['comuniq_mes_anterior']\n",
    "DADOS_COMIN['F49'] = dados_comun['comuniq_mes_referencia']"
   ]
  },
  {
   "cell_type": "markdown",
   "metadata": {
    "id": "X8u-IEbY0d0_",
    "jp-MarkdownHeadingCollapsed": true,
    "tags": []
   },
   "source": [
    "##### Ultimos 12 meses despachos"
   ]
  },
  {
   "cell_type": "code",
   "execution_count": 181,
   "metadata": {
    "colab": {
     "base_uri": "https://localhost:8080/"
    },
    "id": "PeOW-6Q50d0_",
    "outputId": "18252d06-afc7-441d-dd51-cec0d2907de3"
   },
   "outputs": [
    {
     "data": {
      "text/plain": [
       "{'despachos': data_despacho\n",
       " 2022-10-01    26\n",
       " 2022-11-01    30\n",
       " 2022-12-01    40\n",
       " 2023-01-01    51\n",
       " 2023-02-01    44\n",
       " 2023-03-01    60\n",
       " 2023-04-01    32\n",
       " 2023-05-01    96\n",
       " 2023-06-01    29\n",
       " 2023-07-01    49\n",
       " 2023-08-01    27\n",
       " 2023-09-01     9\n",
       " Freq: MS, Name: despacho, dtype: int64,\n",
       " 'deferidos': data_despacho\n",
       " 2022-10-01     6\n",
       " 2022-11-01    10\n",
       " 2022-12-01    19\n",
       " 2023-01-01    13\n",
       " 2023-02-01     8\n",
       " 2023-03-01    26\n",
       " 2023-04-01    14\n",
       " 2023-05-01    27\n",
       " 2023-06-01    14\n",
       " 2023-07-01    21\n",
       " 2023-08-01     7\n",
       " 2023-09-01     7\n",
       " Freq: MS, Name: despacho, dtype: int64,\n",
       " 'indeferidos': data_despacho\n",
       " 2022-10-01    20\n",
       " 2022-11-01    20\n",
       " 2022-12-01    21\n",
       " 2023-01-01    38\n",
       " 2023-02-01    36\n",
       " 2023-03-01    34\n",
       " 2023-04-01    18\n",
       " 2023-05-01    69\n",
       " 2023-06-01    15\n",
       " 2023-07-01    28\n",
       " 2023-08-01    20\n",
       " 2023-09-01     2\n",
       " Freq: MS, Name: despacho, dtype: int64}"
      ]
     },
     "execution_count": 181,
     "metadata": {},
     "output_type": "execute_result"
    }
   ],
   "source": [
    "dados = get_ad_last_12_despachos('COMIN')\n",
    "# Gerando os nomes das colunas de meses\n",
    "for n, index in enumerate(dados['despachos'].index):\n",
    "    mes_avrev = dict_mes_abrev[index.month]\n",
    "    DADOS_COMIN[f'A{n + 61}'] = mes_avrev\n",
    "\n",
    "dados"
   ]
  },
  {
   "cell_type": "code",
   "execution_count": 182,
   "metadata": {
    "id": "bPdhUk0c0d0_"
   },
   "outputs": [],
   "source": [
    "# Gerando total de despachos\n",
    "for n, valor in enumerate(dados['despachos']):\n",
    "    DADOS_COMIN[f'B{n + 61}'] = valor"
   ]
  },
  {
   "cell_type": "code",
   "execution_count": 183,
   "metadata": {
    "id": "6QOzugaL0d1A"
   },
   "outputs": [],
   "source": [
    "# Gerando deferidos\n",
    "for n, valor in enumerate(dados['deferidos']):\n",
    "    DADOS_COMIN[f'C{n + 61}'] = valor"
   ]
  },
  {
   "cell_type": "code",
   "execution_count": 184,
   "metadata": {
    "id": "bP-KnKZo0d1A"
   },
   "outputs": [],
   "source": [
    "# Gerando indeferidos\n",
    "for n, valor in enumerate(dados['indeferidos']):\n",
    "    DADOS_COMIN[f'D{n + 61}'] = valor"
   ]
  },
  {
   "cell_type": "markdown",
   "metadata": {
    "id": "q0SlO5f10d1A",
    "jp-MarkdownHeadingCollapsed": true,
    "tags": []
   },
   "source": [
    "##### Últimos 12 meses comunique-ses"
   ]
  },
  {
   "cell_type": "code",
   "execution_count": 185,
   "metadata": {
    "id": "_GtFeNHD0d1B"
   },
   "outputs": [],
   "source": [
    "dados = get_ad_last_12_comuniq('COMIN')\n",
    "\n",
    "# Gerando total de Comunique-ses\n",
    "for n, valor in enumerate(dados):\n",
    "    DADOS_COMIN[f'G{n + 61}'] = valor"
   ]
  },
  {
   "cell_type": "markdown",
   "metadata": {
    "id": "hJffzpi50d1B",
    "jp-MarkdownHeadingCollapsed": true,
    "tags": []
   },
   "source": [
    "##### Últimos 12 meses autuados\n"
   ]
  },
  {
   "cell_type": "code",
   "execution_count": 186,
   "metadata": {
    "id": "N_n9zoF-0d1B"
   },
   "outputs": [],
   "source": [
    "dados = get_ad_last_12_autuados('COMIN')\n",
    "\n",
    "for n, valor in enumerate(dados):\n",
    "    DADOS_COMIN[f'J{n + 61}'] = valor"
   ]
  },
  {
   "cell_type": "markdown",
   "metadata": {
    "id": "oj26lX660d1C",
    "jp-MarkdownHeadingCollapsed": true,
    "tags": []
   },
   "source": [
    "##### Acumulado COMIN"
   ]
  },
  {
   "cell_type": "code",
   "execution_count": 187,
   "metadata": {
    "colab": {
     "base_uri": "https://localhost:8080/"
    },
    "id": "m-UrdhNC0d1C",
    "outputId": "84edde8e-5ab8-4949-f2f6-e5d0593eda54"
   },
   "outputs": [
    {
     "data": {
      "text/plain": [
       "{'Despachos': 931,\n",
       " 'Deferidos': 338,\n",
       " 'Indeferidos': 589,\n",
       " 'DCIGP': 206,\n",
       " 'DCIMP': 673,\n",
       " 'COMIN': 52,\n",
       " 'Comunique-ses': 2670,\n",
       " 'Autuados': 1130,\n",
       " 'Estoque': 698}"
      ]
     },
     "execution_count": 187,
     "metadata": {},
     "output_type": "execute_result"
    }
   ],
   "source": [
    "# Escrevendo os dados e os nomes das colunas\n",
    "dados = get_ad_acumulado('COMIN')\n",
    "\n",
    "last_line = 0\n",
    "\n",
    "for n, key in enumerate(dados.keys()):\n",
    "    DADOS_COMIN[f'I{n + 45}'] = key\n",
    "    DADOS_COMIN[f'J{n + 45}'] = dados[key]\n",
    "    last_line = n + 45 + 1\n",
    "\n",
    "if last_line < 59:\n",
    "    for i in range(59 - last_line):\n",
    "        DADOS_COMIN[f'I{last_line + i}'] = \" \"\n",
    "        DADOS_COMIN[f'J{last_line + i}'] = \" \"\n",
    "\n",
    "dados"
   ]
  },
  {
   "cell_type": "markdown",
   "metadata": {
    "id": "5aY9bmPQ0d1C",
    "tags": []
   },
   "source": [
    "##### Assuntos"
   ]
  },
  {
   "cell_type": "code",
   "execution_count": 188,
   "metadata": {
    "colab": {
     "base_uri": "https://localhost:8080/"
    },
    "id": "lWLv4RGI0d1C",
    "outputId": "7c486b70-c0a4-4e04-8f07-92777eb4879c"
   },
   "outputs": [
    {
     "data": {
      "text/plain": [
       "assunto_x\n",
       "Alvará de Aprovação e Execução de Reforma (Exceto HIS e HMP)                                    2\n",
       "Alvará de Execução de Edificação Nova (Exceto HIS/ HMP)                                         1\n",
       "Alvará de Aprovação de Edificação Nova (Exceto HIS/ HMP)                                        1\n",
       "Projeto Modificativo de Alvará de Aprovação e Execução de Edificação Nova (exceto HIS / HMP)    1\n",
       "Apostilamento                                                                                   1\n",
       "Certificado de Conclusão                                                                        1\n",
       "Name: count, dtype: int64"
      ]
     },
     "execution_count": 188,
     "metadata": {},
     "output_type": "execute_result"
    }
   ],
   "source": [
    "dados = get_ad_assuntos('COMIN')\n",
    "last_line = 0 \n",
    "# Inserindo dados de assuntos\n",
    "for n, index in enumerate(dados.index):\n",
    "    DADOS_COMIN[f'L{n + 48}'] = index\n",
    "    DADOS_COMIN[f'M{n + 48}'] = int(dados.at[index])\n",
    "    last_line = n + 48 + 1\n",
    "\n",
    "for i in range(59 - last_line):\n",
    "    DADOS_COMIN[f'L{last_line + i}'] = \" \"\n",
    "    DADOS_COMIN[f'M{last_line + i}'] = \" \"\n",
    "dados"
   ]
  },
  {
   "cell_type": "markdown",
   "metadata": {
    "id": "HkBPSXry0d1D"
   },
   "source": [
    "##### Categorias de Uso * EM DESENVOLVIMENTO"
   ]
  },
  {
   "cell_type": "code",
   "execution_count": null,
   "metadata": {
    "id": "HBr0Suom0d1D"
   },
   "outputs": [],
   "source": []
  },
  {
   "cell_type": "markdown",
   "metadata": {
    "id": "myQEMDoG0d1L",
    "tags": []
   },
   "source": [
    "#### 8.3.4 Dados SISSEL - COMIN"
   ]
  },
  {
   "cell_type": "markdown",
   "metadata": {
    "id": "B2X0lEve1OFc"
   },
   "source": [
    "##### Quadro resumo"
   ]
  },
  {
   "cell_type": "code",
   "execution_count": null,
   "metadata": {
    "colab": {
     "base_uri": "https://localhost:8080/"
    },
    "id": "8zE99HQV1OFc",
    "outputId": "3925a9d2-680e-4fb1-fd0c-1dccbef48a64"
   },
   "outputs": [],
   "source": [
    "##### Despachos, deferidos e indeferidos #####\n",
    "\n",
    "# Trazendo os dados - Para o SLCe os dados de COMIN estão como GTEL\n",
    "dados_despacho = get_sissel_despachos('COMIN')\n",
    "\n",
    "# Total despachos emitidos\n",
    "DADOS_COMIN['B80'] = dados_despacho['despachos_mes_referencia']\n",
    "\n",
    "# Deferidos\n",
    "DADOS_COMIN['B81'] = dados_despacho['deferidos_mes_referencia']\n",
    "\n",
    "# Indeferidos\n",
    "DADOS_COMIN['B82'] = dados_despacho['indeferidos_mes_referencia']\n",
    "dados_despacho"
   ]
  },
  {
   "cell_type": "code",
   "execution_count": null,
   "metadata": {
    "colab": {
     "base_uri": "https://localhost:8080/"
    },
    "id": "QpTU4unN1OFc",
    "outputId": "93b2e7e1-c4c6-4c4b-a68e-18ebdabd4743"
   },
   "outputs": [],
   "source": [
    "##### Processos comunicados ##### \n",
    "\n",
    "# Trazendo os dados - Para o SLCe os dados de COMIN estão como GTEL\n",
    "dados_comun = get_sissel_comuniqueses('COMIN')\n",
    "\n",
    "# Comunique-ses no mês de referência\n",
    "DADOS_COMIN['B83'] = dados_comun['comuniq_mes_referencia']\n",
    "dados_comun"
   ]
  },
  {
   "cell_type": "code",
   "execution_count": null,
   "metadata": {
    "colab": {
     "base_uri": "https://localhost:8080/"
    },
    "id": "1VbN6tPy1OFc",
    "outputId": "28f57a48-2b80-4e64-cd97-4b688a23b0fa"
   },
   "outputs": [],
   "source": [
    "# Em desenvolvimento\n",
    "\"\"\"\n",
    "##### Processos autuados #####\n",
    "dados_aut = get_ad_autuados('RESID')\n",
    "\n",
    "# Autuados no mês de referência\n",
    "DADOS_RESID.update('B50', dados_aut['aut_mes_referencia'])\n",
    "dados_aut\n",
    "\"\"\""
   ]
  },
  {
   "cell_type": "markdown",
   "metadata": {
    "id": "x2SHXVm61OFc"
   },
   "source": [
    "##### Despachos por divisões"
   ]
  },
  {
   "cell_type": "code",
   "execution_count": null,
   "metadata": {
    "colab": {
     "base_uri": "https://localhost:8080/"
    },
    "id": "5dBsxm4r1OFd",
    "outputId": "5da57ed1-5fcf-46a9-b7b2-b8e27449c448"
   },
   "outputs": [],
   "source": [
    "# Escrevendo os valores\n",
    "dados = get_sissel_divisoes('COMIN')\n",
    "for n, i in enumerate(dados.keys()):\n",
    "    DADOS_COMIN[f'B{n + 86}'] = int(dados[i])\n",
    "    print(dados[i])"
   ]
  },
  {
   "cell_type": "code",
   "execution_count": null,
   "metadata": {
    "colab": {
     "base_uri": "https://localhost:8080/"
    },
    "id": "rT4jQgC81OFc",
    "outputId": "d77576c3-e0b2-40e6-836e-36b8d37bbe17"
   },
   "outputs": [],
   "source": [
    "# Escrevendo os nomes das divisões\n",
    "last_line = 0\n",
    "\n",
    "for n, i in enumerate(get_sissel_divisao_list('COMIN')):\n",
    "    DADOS_COMIN[f'A{n + 86}'] = i\n",
    "    last_line = n + 86 + 1\n",
    "    print(i)\n",
    "\n",
    "if last_line < 92:\n",
    "    for i in range(92 - last_line):\n",
    "        DADOS_COMIN[f'A{last_line + i}'] = \" \"\n",
    "        DADOS_COMIN[f'B{last_line + i}'] = \" \""
   ]
  },
  {
   "cell_type": "markdown",
   "metadata": {
    "id": "GuKTeCcH1OFd"
   },
   "source": [
    "##### Comparativo mês anterior x mês atual"
   ]
  },
  {
   "cell_type": "code",
   "execution_count": null,
   "metadata": {
    "colab": {
     "base_uri": "https://localhost:8080/"
    },
    "id": "o6igQXfL1OFd",
    "outputId": "44c4c342-8d13-498e-c5d4-c244a08db55c"
   },
   "outputs": [],
   "source": [
    "# Escrevendo títulos\n",
    "DADOS_COMIN['E78'] = f'Comparativo {mes_ant} - {mes_ref}'\n",
    "\n",
    "# Escrevendo mes corrente e passado\n",
    "DADOS_COMIN['E84'] = mes_ant\n",
    "DADOS_COMIN['F84'] = mes_ref\n",
    "print(mes_ant, mes_ref)"
   ]
  },
  {
   "cell_type": "code",
   "execution_count": null,
   "metadata": {
    "colab": {
     "base_uri": "https://localhost:8080/"
    },
    "id": "2kuJ7ryu1OFd",
    "outputId": "50ff3f5c-aa6c-49e0-bf03-3246641d3d65"
   },
   "outputs": [],
   "source": [
    "# Total despachos\n",
    "DADOS_COMIN['E80'] = dados_despacho['despachos_mes_anterior']\n",
    "DADOS_COMIN['F80'] = dados_despacho['despachos_mes_referencia']\n",
    "\n",
    "# Deferidos\n",
    "DADOS_COMIN['E81'] = dados_despacho['deferidos_mes_anterior']\n",
    "DADOS_COMIN['F81'] = dados_despacho['deferidos_mes_referencia']\n",
    "\n",
    "# Indeferidos\n",
    "DADOS_COMIN['E82'] = dados_despacho['indeferidos_mes_anterior']\n",
    "DADOS_COMIN['F82'] = dados_despacho['indeferidos_mes_referencia']\n",
    "\n",
    "print(dados_despacho['despachos_mes_anterior'], dados_despacho['despachos_mes_referencia'])\n",
    "print(dados_despacho['deferidos_mes_anterior'], dados_despacho['deferidos_mes_referencia'])\n",
    "print(dados_despacho['indeferidos_mes_anterior'], dados_despacho['indeferidos_mes_referencia'])"
   ]
  },
  {
   "cell_type": "code",
   "execution_count": null,
   "metadata": {
    "colab": {
     "base_uri": "https://localhost:8080/"
    },
    "id": "jylczguq1OFd",
    "outputId": "bf1ed3f5-e74c-4314-ee07-d5211b5cb740"
   },
   "outputs": [],
   "source": [
    "# Comunique-ses\n",
    "DADOS_COMIN['E83'] = dados_comun['comuniq_mes_anterior']\n",
    "DADOS_COMIN['F83'] = dados_comun['comuniq_mes_referencia']"
   ]
  },
  {
   "cell_type": "markdown",
   "metadata": {
    "id": "-pR7puLU1OFd"
   },
   "source": [
    "##### Ultimos 12 meses despachos"
   ]
  },
  {
   "cell_type": "code",
   "execution_count": null,
   "metadata": {
    "colab": {
     "base_uri": "https://localhost:8080/"
    },
    "id": "HFtgfk8F1OFd",
    "outputId": "4d75aa68-8ec3-4948-e158-035fa469d7a8"
   },
   "outputs": [],
   "source": [
    "dados = get_sissel_last_12_despachos('COMIN')\n",
    "# Gerando os nomes das colunas de meses\n",
    "for n, index in enumerate(dados['despachos'].index):\n",
    "    mes_avrev = dict_mes_abrev[index.month]\n",
    "    DADOS_COMIN[f'A{n + 95}'] = mes_avrev\n",
    "\n",
    "dados"
   ]
  },
  {
   "cell_type": "code",
   "execution_count": null,
   "metadata": {
    "id": "rBD20FEv1OFd"
   },
   "outputs": [],
   "source": [
    "# Gerando total de despachos\n",
    "for n, valor in enumerate(dados['despachos']):\n",
    "    DADOS_COMIN[f'B{n + 95}'] = valor"
   ]
  },
  {
   "cell_type": "code",
   "execution_count": null,
   "metadata": {
    "id": "BDXP7KH51OFd"
   },
   "outputs": [],
   "source": [
    "# Gerando deferidos\n",
    "for n, valor in enumerate(dados['deferidos']):\n",
    "    DADOS_COMIN[f'C{n + 95}'] = valor"
   ]
  },
  {
   "cell_type": "code",
   "execution_count": null,
   "metadata": {
    "id": "O-jZXaDY1OFd"
   },
   "outputs": [],
   "source": [
    "# Gerando indeferidos\n",
    "for n, valor in enumerate(dados['indeferidos']):\n",
    "    DADOS_COMIN[f'D{n + 95}'] = valor"
   ]
  },
  {
   "cell_type": "markdown",
   "metadata": {
    "id": "gVUK8wTB1OFd"
   },
   "source": [
    "##### Últimos 12 meses comunique-ses"
   ]
  },
  {
   "cell_type": "code",
   "execution_count": null,
   "metadata": {
    "id": "oBGtq0Ed1OFd"
   },
   "outputs": [],
   "source": [
    "dados = get_sissel_last_12_comuniq('COMIN')\n",
    "\n",
    "# Gerando total de Comunique-ses\n",
    "for n, valor in enumerate(dados):\n",
    "    DADOS_COMIN[f'G{n + 95}'] = valor"
   ]
  },
  {
   "cell_type": "markdown",
   "metadata": {
    "id": "aRuQN6Hj1OFd"
   },
   "source": [
    "##### Últimos 12 meses autuados\n"
   ]
  },
  {
   "cell_type": "code",
   "execution_count": null,
   "metadata": {
    "colab": {
     "base_uri": "https://localhost:8080/",
     "height": 35
    },
    "id": "abk5nHXO1OFe",
    "outputId": "f9625e37-c984-4c83-d2bf-0f21003abe85"
   },
   "outputs": [],
   "source": [
    "# Em desenvolvimento\n",
    "\"\"\"\n",
    "dados = get_sissel_last_12_autuados('RESID')\n",
    "\n",
    "for n, valor in enumerate(dados):\n",
    "    DADOS_RESID.update(f'J{n + 95}', valor)\n",
    "\"\"\""
   ]
  },
  {
   "cell_type": "markdown",
   "metadata": {
    "id": "Zxy78XHn1OFe"
   },
   "source": [
    "##### Acumulado COMIN"
   ]
  },
  {
   "cell_type": "code",
   "execution_count": null,
   "metadata": {
    "colab": {
     "base_uri": "https://localhost:8080/"
    },
    "id": "6_IccsiH1OFe",
    "outputId": "312622a9-3c2a-463e-a7e4-e5c94ca6bac2"
   },
   "outputs": [],
   "source": [
    "# Escrevendo os dados e os nomes das colunas\n",
    "dados = get_sissel_acumulado('COMIN')\n",
    "\n",
    "last_line = 0\n",
    "\n",
    "for n, key in enumerate(dados.keys()):\n",
    "    DADOS_COMIN[f'I{n + 79}'] = key\n",
    "    DADOS_COMIN[f'J{n + 79}'] = dados[key]\n",
    "    last_line = n + 79 + 1\n",
    "\n",
    "if last_line < 92:\n",
    "    for i in range(92 - last_line):\n",
    "        DADOS_COMIN[f'I{last_line + i}'] = \" \"\n",
    "        DADOS_COMIN[f'J{last_line + i}'] = \" \"\n",
    "\n",
    "dados"
   ]
  },
  {
   "cell_type": "markdown",
   "metadata": {
    "id": "1N-AnB_S1OFe"
   },
   "source": [
    "##### Assuntos"
   ]
  },
  {
   "cell_type": "code",
   "execution_count": null,
   "metadata": {
    "colab": {
     "base_uri": "https://localhost:8080/"
    },
    "id": "YgGVIKKv1OFe",
    "outputId": "731d9bee-f07d-4134-f0a7-ce7fb42e2165"
   },
   "outputs": [],
   "source": [
    "dados = get_sissel_assuntos('COMIN')\n",
    "last_line = 0 \n",
    "# Inserindo dados de assuntos\n",
    "for n, index in enumerate(dados.index):\n",
    "    DADOS_COMIN[f'L{n + 82}'] = index\n",
    "    DADOS_COMIN[f'M{n + 82}'] = int(dados.at[index])\n",
    "    last_line = n + 82 + 1\n",
    "\n",
    "for i in range(100 - last_line):\n",
    "    DADOS_COMIN[f'L{last_line + i}'] = \" \"\n",
    "    DADOS_COMIN[f'M{last_line + i}'] = \" \"\n",
    "dados"
   ]
  },
  {
   "cell_type": "markdown",
   "metadata": {
    "id": "5_MS1d-b1OFe",
    "tags": []
   },
   "source": [
    "##### Categorias de Uso * EM DESENVOLVIMENTO"
   ]
  },
  {
   "cell_type": "code",
   "execution_count": null,
   "metadata": {
    "id": "bKxrk40x1OFe"
   },
   "outputs": [],
   "source": []
  },
  {
   "cell_type": "markdown",
   "metadata": {
    "id": "iPC6MZWD1OFe"
   },
   "source": [
    "##### Time off"
   ]
  },
  {
   "cell_type": "code",
   "execution_count": null,
   "metadata": {
    "id": "Z5YWP9Wq1OFe"
   },
   "outputs": [],
   "source": []
  },
  {
   "cell_type": "markdown",
   "metadata": {
    "id": "iWTHMHQP7j1W",
    "tags": []
   },
   "source": [
    "### **8.4 Gravando dados de SERVIN**"
   ]
  },
  {
   "cell_type": "markdown",
   "metadata": {
    "id": "RJNnL8Mp7j1W",
    "tags": []
   },
   "source": [
    "#### 8.4.1 Mês Referência - SERVIN"
   ]
  },
  {
   "cell_type": "markdown",
   "metadata": {
    "id": "aDHB-oFp7j1W"
   },
   "source": [
    "<p align='justify'> Calcula e grava qual mês de referência usado para a geração do relatorio. No caso o mês de referência sempre será o mês anterior ao do atual no momento em que o script é rodados, ou o ultimo mês \"cheio\", em que é possível obter informações completas. Futuramente será adcionada funcionalidade que permitirá que o mês referência possa ser selecionado manualmente.</p>"
   ]
  },
  {
   "cell_type": "code",
   "execution_count": null,
   "metadata": {
    "id": "dwuadwyT7j1W"
   },
   "outputs": [],
   "source": [
    "# Mês referência\n",
    "mes_ref = mes(data_referencia)\n",
    "ano_ref = ano(data_referencia)\n",
    "\n",
    "# Mês anterior\n",
    "mes_ant = mes(data_anterior)"
   ]
  },
  {
   "cell_type": "code",
   "execution_count": null,
   "metadata": {
    "colab": {
     "base_uri": "https://localhost:8080/"
    },
    "id": "TwWkeAl07j1W",
    "outputId": "beb88d49-60f0-43d6-9ea4-f1e8f3682b49"
   },
   "outputs": [],
   "source": [
    "# Escrevendo dados de referência\n",
    "DADOS_SERVIN['C1'] = str(f'SERVIN - {mes_ref} de {ano_ref}')\n",
    "DADOS_SERVIN['C2'] = str(f'Resumo {mes_ref} de {ano_ref}')\n",
    "DADOS_SERVIN['C3'] = str(f'Comunique-ses emitidos em {mes_ref}')\n",
    "DADOS_SERVIN['C4'] = str(f'Deferimentos por assunto em {mes_ref}')"
   ]
  },
  {
   "cell_type": "markdown",
   "metadata": {
    "id": "Z1UxK4JL7j1X",
    "jp-MarkdownHeadingCollapsed": true,
    "tags": []
   },
   "source": [
    "#### 8.4.2 Dados Aprova Digital - SERVIN"
   ]
  },
  {
   "cell_type": "markdown",
   "metadata": {
    "id": "hOE2ogHx7j1X"
   },
   "source": [
    "##### Quadro resumo"
   ]
  },
  {
   "cell_type": "code",
   "execution_count": null,
   "metadata": {
    "colab": {
     "base_uri": "https://localhost:8080/"
    },
    "id": "ySNO8VI87j1X",
    "outputId": "3b5a5da8-fde5-4ab2-85f9-a1b07debe00a"
   },
   "outputs": [],
   "source": [
    "##### Despachos, deferidos e indeferidos #####\n",
    "\n",
    "# Trazendo os dados - Para o SLCe os dados de SERVIN estão como GTEL\n",
    "dados_despacho = get_ad_despachos('SERVIN')\n",
    "\n",
    "# Total despachos emitidos\n",
    "DADOS_SERVIN['B46'] = dados_despacho['despachos_mes_referencia']\n",
    "\n",
    "# Deferidos\n",
    "DADOS_SERVIN['B47'] = dados_despacho['deferidos_mes_referencia']\n",
    "\n",
    "# Indeferidos\n",
    "DADOS_SERVIN['B48'] = dados_despacho['indeferidos_mes_referencia']\n",
    "\n",
    "# Indeferidos e encerrados\n",
    "DADOS_SERVIN['B51'] = dados_despacho['encerrados_mes_referencia']\n",
    "\n",
    "dados_despacho"
   ]
  },
  {
   "cell_type": "code",
   "execution_count": null,
   "metadata": {
    "colab": {
     "base_uri": "https://localhost:8080/"
    },
    "id": "RSXiCGSR7j1X",
    "outputId": "ef2d9177-4668-46b5-e008-736e2d1d60db"
   },
   "outputs": [],
   "source": [
    "##### Processos comunicados ##### \n",
    "\n",
    "# Trazendo os dados - Para o SLCe os dados de SERVIN estão como GTEL\n",
    "dados_comun = get_ad_comuniqueses('SERVIN')\n",
    "\n",
    "# Comunique-ses no mês de referência\n",
    "DADOS_SERVIN['B49'] = dados_comun['comuniq_mes_referencia']\n",
    "dados_comun"
   ]
  },
  {
   "cell_type": "code",
   "execution_count": null,
   "metadata": {
    "colab": {
     "base_uri": "https://localhost:8080/"
    },
    "id": "GqlNjCV77j1X",
    "outputId": "971436e3-0c49-467d-b98f-63d123733ca7"
   },
   "outputs": [],
   "source": [
    "##### Processos autuados #####\n",
    "dados_aut = get_ad_autuados('SERVIN')\n",
    "\n",
    "# Autuados no mês de referência\n",
    "DADOS_SERVIN['B50'] = dados_aut['aut_mes_referencia']\n",
    "dados_aut"
   ]
  },
  {
   "cell_type": "markdown",
   "metadata": {
    "id": "2ZeKIdLm7j1X",
    "jp-MarkdownHeadingCollapsed": true,
    "tags": []
   },
   "source": [
    "##### Despachos por divisões"
   ]
  },
  {
   "cell_type": "code",
   "execution_count": null,
   "metadata": {
    "colab": {
     "base_uri": "https://localhost:8080/"
    },
    "id": "LOi9ao3c7j1X",
    "outputId": "a0dea909-a41e-4436-98a9-02416b6b0599"
   },
   "outputs": [],
   "source": [
    "# Escrevendo os valores\n",
    "dados = get_ad_divisoes('SERVIN')\n",
    "for n, i in enumerate(dados.keys()):\n",
    "    DADOS_SERVIN[f'B{n + 53}'] = int(dados[i])\n",
    "    print(dados[i])"
   ]
  },
  {
   "cell_type": "code",
   "execution_count": null,
   "metadata": {
    "colab": {
     "base_uri": "https://localhost:8080/"
    },
    "id": "f9Bv04NK7j1X",
    "outputId": "4c8a5895-ac8c-4540-fe0c-93d3c710b157"
   },
   "outputs": [],
   "source": [
    "# Escrevendo os nomes das divisões\n",
    "last_line = 0\n",
    "\n",
    "for n, i in enumerate(get_ad_divisao_list('SERVIN')):\n",
    "    DADOS_SERVIN[f'A{n + 53}'] = i\n",
    "    last_line = n + 53 + 1\n",
    "    print(i)\n",
    "\n",
    "if last_line < 59:\n",
    "    for i in range(59 - last_line):\n",
    "        DADOS_SERVIN[f'A{last_line + i}'] = \" \"\n",
    "        DADOS_SERVIN[f'B{last_line + i}'] = \" \""
   ]
  },
  {
   "cell_type": "markdown",
   "metadata": {
    "id": "z8bEGVo07j1Y",
    "jp-MarkdownHeadingCollapsed": true,
    "tags": []
   },
   "source": [
    "##### Comparativo mês anterior x mês atual"
   ]
  },
  {
   "cell_type": "code",
   "execution_count": null,
   "metadata": {
    "colab": {
     "base_uri": "https://localhost:8080/"
    },
    "id": "rLygQZ-87j1Y",
    "outputId": "be48d92b-746f-4e97-88ba-2711f827572b"
   },
   "outputs": [],
   "source": [
    "# Escrevendo títulos\n",
    "DADOS_SERVIN['E43'] = f'Comparativo {mes_ant} - {mes_ref}'\n",
    "\n",
    "# Escrevendo mes corrente e passado\n",
    "DADOS_SERVIN['E52'] = mes_ant\n",
    "DADOS_SERVIN['F52'] = mes_ref\n",
    "print(mes_ant, mes_ref)"
   ]
  },
  {
   "cell_type": "code",
   "execution_count": null,
   "metadata": {
    "colab": {
     "base_uri": "https://localhost:8080/"
    },
    "id": "z6Nc_dC_7j1Y",
    "outputId": "23a56efd-7aad-47b2-a021-c664928f29ae"
   },
   "outputs": [],
   "source": [
    "# Total despachos\n",
    "DADOS_SERVIN['E46'] = dados_despacho['despachos_mes_anterior']\n",
    "DADOS_SERVIN['F46'] = dados_despacho['despachos_mes_referencia']\n",
    "\n",
    "# Deferidos\n",
    "DADOS_SERVIN['E47'] = dados_despacho['deferidos_mes_anterior']\n",
    "DADOS_SERVIN['F47'] = dados_despacho['deferidos_mes_referencia']\n",
    "\n",
    "# Indeferidos\n",
    "DADOS_SERVIN['E48'] = dados_despacho['indeferidos_mes_anterior']\n",
    "DADOS_SERVIN['F48'] = dados_despacho['indeferidos_mes_referencia']\n",
    "\n",
    "print(dados_despacho['despachos_mes_anterior'], dados_despacho['despachos_mes_referencia'])\n",
    "print(dados_despacho['deferidos_mes_anterior'], dados_despacho['deferidos_mes_referencia'])\n",
    "print(dados_despacho['indeferidos_mes_anterior'], dados_despacho['indeferidos_mes_referencia'])"
   ]
  },
  {
   "cell_type": "code",
   "execution_count": null,
   "metadata": {
    "colab": {
     "base_uri": "https://localhost:8080/"
    },
    "id": "GtmH9I3g7j1Y",
    "outputId": "4a3f13fe-331b-42b3-dd90-f39c0caeb2b2"
   },
   "outputs": [],
   "source": [
    "# Comunique-ses\n",
    "DADOS_SERVIN['E49'] = dados_comun['comuniq_mes_anterior']\n",
    "DADOS_SERVIN['F49'] = dados_comun['comuniq_mes_referencia']"
   ]
  },
  {
   "cell_type": "markdown",
   "metadata": {
    "id": "QIP9qAEL7j1Y",
    "jp-MarkdownHeadingCollapsed": true,
    "tags": []
   },
   "source": [
    "##### Ultimos 12 meses despachos"
   ]
  },
  {
   "cell_type": "code",
   "execution_count": null,
   "metadata": {
    "colab": {
     "base_uri": "https://localhost:8080/"
    },
    "id": "y1K4WFP67j1Y",
    "outputId": "3fd21863-2376-4be6-fdf7-75c138c58d3b"
   },
   "outputs": [],
   "source": [
    "dados = get_ad_last_12_despachos('SERVIN')\n",
    "# Gerando os nomes das colunas de meses\n",
    "for n, index in enumerate(dados['despachos'].index):\n",
    "    mes_avrev = dict_mes_abrev[index.month]\n",
    "    DADOS_SERVIN[f'A{n + 61}'] = mes_avrev\n",
    "\n",
    "dados"
   ]
  },
  {
   "cell_type": "code",
   "execution_count": null,
   "metadata": {
    "id": "bgT8ym_F7j1Y"
   },
   "outputs": [],
   "source": [
    "# Gerando total de despachos\n",
    "for n, valor in enumerate(dados['despachos']):\n",
    "    DADOS_SERVIN[f'B{n + 61}'] = valor"
   ]
  },
  {
   "cell_type": "code",
   "execution_count": null,
   "metadata": {
    "id": "YgTL1UYb7j1Z"
   },
   "outputs": [],
   "source": [
    "# Gerando deferidos\n",
    "for n, valor in enumerate(dados['deferidos']):\n",
    "    DADOS_SERVIN[f'C{n + 61}'] = valor"
   ]
  },
  {
   "cell_type": "code",
   "execution_count": null,
   "metadata": {
    "id": "Raum4YpS7j1Z"
   },
   "outputs": [],
   "source": [
    "# Gerando indeferidos\n",
    "for n, valor in enumerate(dados['indeferidos']):\n",
    "    DADOS_SERVIN[f'D{n + 61}'] = valor"
   ]
  },
  {
   "cell_type": "markdown",
   "metadata": {
    "id": "W21Q-2ZY7j1Z"
   },
   "source": [
    "##### Últimos 12 meses comunique-ses"
   ]
  },
  {
   "cell_type": "code",
   "execution_count": null,
   "metadata": {
    "id": "zcLBJdWk7j1Z"
   },
   "outputs": [],
   "source": [
    "dados = get_ad_last_12_comuniq('SERVIN')\n",
    "\n",
    "# Gerando total de Comunique-ses\n",
    "for n, valor in enumerate(dados):\n",
    "    DADOS_SERVIN[f'G{n + 61}'] = valor"
   ]
  },
  {
   "cell_type": "markdown",
   "metadata": {
    "id": "mugh5hzr7j1Z"
   },
   "source": [
    "##### Últimos 12 meses autuados\n"
   ]
  },
  {
   "cell_type": "code",
   "execution_count": null,
   "metadata": {
    "id": "2qXrbNNi7j1Z"
   },
   "outputs": [],
   "source": [
    "dados = get_ad_last_12_autuados('SERVIN')\n",
    "\n",
    "for n, valor in enumerate(dados):\n",
    "    DADOS_SERVIN[f'J{n + 61}'] = valor"
   ]
  },
  {
   "cell_type": "markdown",
   "metadata": {
    "id": "4eu26xr07j1Z"
   },
   "source": [
    "##### Acumulado SERVIN"
   ]
  },
  {
   "cell_type": "code",
   "execution_count": null,
   "metadata": {
    "colab": {
     "base_uri": "https://localhost:8080/"
    },
    "id": "ovhUk4F87j1Z",
    "outputId": "68abb2a0-8d89-42cf-b889-79f87ad745ec"
   },
   "outputs": [],
   "source": [
    "# Escrevendo os dados e os nomes das colunas\n",
    "dados = get_ad_acumulado('SERVIN')\n",
    "\n",
    "last_line = 0\n",
    "\n",
    "for n, key in enumerate(dados.keys()):\n",
    "    DADOS_SERVIN[f'I{n + 45}'] = key\n",
    "    DADOS_SERVIN[f'J{n + 45}'] = dados[key]\n",
    "    last_line = n + 45 + 1\n",
    "\n",
    "if last_line < 59:\n",
    "    for i in range(59 - last_line):\n",
    "        DADOS_SERVIN[f'I{last_line + i}'] = \" \"\n",
    "        DADOS_SERVIN[f'J{last_line + i}'] = \" \"\n",
    "\n",
    "dados"
   ]
  },
  {
   "cell_type": "markdown",
   "metadata": {
    "id": "QlltWwwW7j1Z"
   },
   "source": [
    "##### Assuntos"
   ]
  },
  {
   "cell_type": "code",
   "execution_count": null,
   "metadata": {
    "colab": {
     "base_uri": "https://localhost:8080/"
    },
    "id": "AaaB4tjX7j1Z",
    "outputId": "446e0912-6925-48b8-f8a8-1a6a313d10c7"
   },
   "outputs": [],
   "source": [
    "dados = get_ad_assuntos('SERVIN')\n",
    "last_line = 0 \n",
    "# Inserindo dados de assuntos\n",
    "for n, index in enumerate(dados.index):\n",
    "    DADOS_SERVIN[f'L{n + 48}'] = index\n",
    "    DADOS_SERVIN[f'M{n + 48}'] = int(dados.at[index])\n",
    "    last_line = n + 48 + 1\n",
    "\n",
    "for i in range(70 - last_line):\n",
    "    DADOS_SERVIN[f'L{last_line + i}'] = \" \"\n",
    "    DADOS_SERVIN[f'M{last_line + i}'] = \" \"\n",
    "dados"
   ]
  },
  {
   "cell_type": "markdown",
   "metadata": {
    "id": "MhwibIso7j1a"
   },
   "source": [
    "##### Categorias de Uso * EM DESENVOLVIMENTO"
   ]
  },
  {
   "cell_type": "code",
   "execution_count": null,
   "metadata": {
    "id": "3kzRS-zi7j1a"
   },
   "outputs": [],
   "source": []
  },
  {
   "cell_type": "markdown",
   "metadata": {
    "id": "5OExdFkJ7j1d",
    "jp-MarkdownHeadingCollapsed": true,
    "tags": []
   },
   "source": [
    "#### 8.2.4 Dados SISSEL - SERVIN"
   ]
  },
  {
   "cell_type": "markdown",
   "metadata": {
    "id": "CT3Zmc733nTw"
   },
   "source": [
    "##### Quadro resumo"
   ]
  },
  {
   "cell_type": "code",
   "execution_count": null,
   "metadata": {
    "colab": {
     "base_uri": "https://localhost:8080/"
    },
    "id": "PcTIVvka3nTw",
    "outputId": "012543d6-5d80-46e3-cc01-a278afaa05c6"
   },
   "outputs": [],
   "source": [
    "##### Despachos, deferidos e indeferidos #####\n",
    "\n",
    "# Trazendo os dados - Para o SLCe os dados de SERVIN estão como GTEL\n",
    "dados_despacho = get_sissel_despachos('SERVIN')\n",
    "\n",
    "# Total despachos emitidos\n",
    "DADOS_SERVIN['B80'] = dados_despacho['despachos_mes_referencia']\n",
    "\n",
    "# Deferidos\n",
    "DADOS_SERVIN['B81'] = dados_despacho['deferidos_mes_referencia']\n",
    "\n",
    "# Indeferidos\n",
    "DADOS_SERVIN['B82'] = dados_despacho['indeferidos_mes_referencia']\n",
    "dados_despacho"
   ]
  },
  {
   "cell_type": "code",
   "execution_count": null,
   "metadata": {
    "colab": {
     "base_uri": "https://localhost:8080/"
    },
    "id": "cE-eb80x3nTw",
    "outputId": "1a4d0dee-d23a-4de7-b121-167aa546a08a"
   },
   "outputs": [],
   "source": [
    "##### Processos comunicados ##### \n",
    "\n",
    "# Trazendo os dados - Para o SLCe os dados de SERVIN estão como GTEL\n",
    "dados_comun = get_sissel_comuniqueses('SERVIN')\n",
    "\n",
    "# Comunique-ses no mês de referência\n",
    "DADOS_SERVIN['B83'] = dados_comun['comuniq_mes_referencia']\n",
    "dados_comun"
   ]
  },
  {
   "cell_type": "code",
   "execution_count": null,
   "metadata": {
    "colab": {
     "base_uri": "https://localhost:8080/",
     "height": 53
    },
    "id": "MkuGFx5M3nTw",
    "outputId": "d5233f78-a840-429a-d021-e0e53fb980ad"
   },
   "outputs": [],
   "source": [
    "# Em desenvolvimento\n",
    "\"\"\"\n",
    "##### Processos autuados #####\n",
    "dados_aut = get_ad_autuados('RESID')\n",
    "\n",
    "# Autuados no mês de referência\n",
    "DADOS_RESID.update('B50', dados_aut['aut_mes_referencia'])\n",
    "dados_aut\n",
    "\"\"\""
   ]
  },
  {
   "cell_type": "markdown",
   "metadata": {
    "id": "8Tztob723nTw"
   },
   "source": [
    "##### Despachos por divisões"
   ]
  },
  {
   "cell_type": "code",
   "execution_count": null,
   "metadata": {
    "colab": {
     "base_uri": "https://localhost:8080/"
    },
    "id": "81K7jXWL3nTw",
    "outputId": "85b82565-f7f1-485e-cb27-80866c88ae1e"
   },
   "outputs": [],
   "source": [
    "# Escrevendo os valores\n",
    "dados = get_sissel_divisoes('SERVIN')\n",
    "for n, i in enumerate(dados.keys()):\n",
    "    DADOS_SERVIN[f'B{n + 86}'] = int(dados[i])\n",
    "    print(dados[i])"
   ]
  },
  {
   "cell_type": "code",
   "execution_count": null,
   "metadata": {
    "colab": {
     "base_uri": "https://localhost:8080/"
    },
    "id": "KeQRzjGW3nTw",
    "outputId": "b19e90c0-b8e8-42a9-c44c-e6418e26dad3"
   },
   "outputs": [],
   "source": [
    "# Escrevendo os nomes das divisões\n",
    "last_line = 0\n",
    "\n",
    "for n, i in enumerate(get_sissel_divisao_list('SERVIN')):\n",
    "    DADOS_SERVIN[f'A{n + 86}'] = i\n",
    "    last_line = n + 86 + 1\n",
    "    print(i)\n",
    "\n",
    "if last_line < 92:\n",
    "    for i in range(92 - last_line):\n",
    "        DADOS_SERVIN[f'A{last_line + i}'] = \" \"\n",
    "        DADOS_SERVIN[f'B{last_line + i}'] = \" \""
   ]
  },
  {
   "cell_type": "markdown",
   "metadata": {
    "id": "3E5Axgmp3nTw"
   },
   "source": [
    "##### Comparativo mês anterior x mês atual"
   ]
  },
  {
   "cell_type": "code",
   "execution_count": null,
   "metadata": {
    "colab": {
     "base_uri": "https://localhost:8080/"
    },
    "id": "iRrPBNS73nTw",
    "outputId": "7649b22e-a7d3-4dff-fa93-a64a3670db8d"
   },
   "outputs": [],
   "source": [
    "# Escrevendo títulos\n",
    "DADOS_SERVIN['E78'] = f'Comparativo {mes_ant} - {mes_ref}'\n",
    "\n",
    "# Escrevendo mes corrente e passado\n",
    "DADOS_SERVIN['E84'] = mes_ant\n",
    "DADOS_SERVIN['F84'] = mes_ref\n",
    "print(mes_ant, mes_ref)"
   ]
  },
  {
   "cell_type": "code",
   "execution_count": null,
   "metadata": {
    "colab": {
     "base_uri": "https://localhost:8080/"
    },
    "id": "OUaAMCWK3nTx",
    "outputId": "09c90f30-5f51-425e-846b-641d847a7f37"
   },
   "outputs": [],
   "source": [
    "# Total despachos\n",
    "DADOS_SERVIN['E80'] = dados_despacho['despachos_mes_anterior']\n",
    "DADOS_SERVIN['F80'] = dados_despacho['despachos_mes_referencia']\n",
    "\n",
    "# Deferidos\n",
    "DADOS_SERVIN['E81'] = dados_despacho['deferidos_mes_anterior']\n",
    "DADOS_SERVIN['F81'] = dados_despacho['deferidos_mes_referencia']\n",
    "\n",
    "# Indeferidos\n",
    "DADOS_SERVIN['E82'] = dados_despacho['indeferidos_mes_anterior']\n",
    "DADOS_SERVIN['F82'] = dados_despacho['indeferidos_mes_referencia']\n",
    "\n",
    "print(dados_despacho['despachos_mes_anterior'], dados_despacho['despachos_mes_referencia'])\n",
    "print(dados_despacho['deferidos_mes_anterior'], dados_despacho['deferidos_mes_referencia'])\n",
    "print(dados_despacho['indeferidos_mes_anterior'], dados_despacho['indeferidos_mes_referencia'])"
   ]
  },
  {
   "cell_type": "code",
   "execution_count": null,
   "metadata": {
    "colab": {
     "base_uri": "https://localhost:8080/"
    },
    "id": "fHzrt82S3nTx",
    "outputId": "923ced74-bb44-4f2c-e63d-051443122199"
   },
   "outputs": [],
   "source": [
    "# Comunique-ses\n",
    "DADOS_SERVIN['E83'] = dados_comun['comuniq_mes_anterior']\n",
    "DADOS_SERVIN['F83'] = dados_comun['comuniq_mes_referencia']"
   ]
  },
  {
   "cell_type": "markdown",
   "metadata": {
    "id": "8LvnSFKM3nTx"
   },
   "source": [
    "##### Ultimos 12 meses despachos"
   ]
  },
  {
   "cell_type": "code",
   "execution_count": null,
   "metadata": {
    "colab": {
     "base_uri": "https://localhost:8080/"
    },
    "id": "rFH3cgji3nTx",
    "outputId": "8b607073-7452-4f33-9930-ce46114abcca"
   },
   "outputs": [],
   "source": [
    "dados = get_sissel_last_12_despachos('SERVIN')\n",
    "# Gerando os nomes das colunas de meses\n",
    "for n, index in enumerate(dados['despachos'].index):\n",
    "    mes_avrev = dict_mes_abrev[index.month]\n",
    "    DADOS_SERVIN[f'A{n + 95}'] = mes_avrev\n",
    "\n",
    "dados"
   ]
  },
  {
   "cell_type": "code",
   "execution_count": null,
   "metadata": {
    "id": "HAGMTgjy3nTx"
   },
   "outputs": [],
   "source": [
    "# Gerando total de despachos\n",
    "for n, valor in enumerate(dados['despachos']):\n",
    "    DADOS_SERVIN[f'B{n + 95}'] = valor"
   ]
  },
  {
   "cell_type": "code",
   "execution_count": null,
   "metadata": {
    "id": "27Ux4LrO3nTx"
   },
   "outputs": [],
   "source": [
    "# Gerando deferidos\n",
    "for n, valor in enumerate(dados['deferidos']):\n",
    "    DADOS_SERVIN[f'C{n + 95}'] = valor"
   ]
  },
  {
   "cell_type": "code",
   "execution_count": null,
   "metadata": {
    "id": "im4FkPci3nTx"
   },
   "outputs": [],
   "source": [
    "# Gerando indeferidos\n",
    "for n, valor in enumerate(dados['indeferidos']):\n",
    "    DADOS_SERVIN[f'D{n + 95}'] = valor"
   ]
  },
  {
   "cell_type": "markdown",
   "metadata": {
    "id": "FknDYuBg3nTx"
   },
   "source": [
    "##### Últimos 12 meses comunique-ses"
   ]
  },
  {
   "cell_type": "code",
   "execution_count": null,
   "metadata": {
    "id": "DOqaQLkk3nTx"
   },
   "outputs": [],
   "source": [
    "dados = get_sissel_last_12_comuniq('SERVIN')\n",
    "\n",
    "# Gerando total de Comunique-ses\n",
    "for n, valor in enumerate(dados):\n",
    "    DADOS_SERVIN[f'G{n + 95}'] = valor"
   ]
  },
  {
   "cell_type": "markdown",
   "metadata": {
    "id": "sVBC1u163nTx"
   },
   "source": [
    "##### Últimos 12 meses autuados\n"
   ]
  },
  {
   "cell_type": "code",
   "execution_count": null,
   "metadata": {
    "colab": {
     "base_uri": "https://localhost:8080/",
     "height": 35
    },
    "id": "q7i6hiWs3nTx",
    "outputId": "ad463d11-14b5-43b2-f7c5-2886f91153aa"
   },
   "outputs": [],
   "source": [
    "# Em desenvolvimento\n",
    "\"\"\"\n",
    "dados = get_sissel_last_12_autuados('RESID')\n",
    "\n",
    "for n, valor in enumerate(dados):\n",
    "    DADOS_RESID.update(f'J{n + 95}', valor)\n",
    "\"\"\""
   ]
  },
  {
   "cell_type": "markdown",
   "metadata": {
    "id": "l0MT3ALc3nTx"
   },
   "source": [
    "##### Acumulado SERVIN"
   ]
  },
  {
   "cell_type": "code",
   "execution_count": null,
   "metadata": {
    "colab": {
     "base_uri": "https://localhost:8080/"
    },
    "id": "EMiEqQMb3nTx",
    "outputId": "e0958599-ee60-4129-8d1b-3d52cb5ffff9"
   },
   "outputs": [],
   "source": [
    "# Escrevendo os dados e os nomes das colunas\n",
    "dados = get_sissel_acumulado('SERVIN')\n",
    "\n",
    "last_line = 0\n",
    "\n",
    "for n, key in enumerate(dados.keys()):\n",
    "    DADOS_SERVIN[f'I{n + 79}'] = key\n",
    "    DADOS_SERVIN[f'J{n + 79}'] = dados[key]\n",
    "    last_line = n + 79 + 1\n",
    "\n",
    "if last_line < 92:\n",
    "    for i in range(92 - last_line):\n",
    "        DADOS_SERVIN[f'I{last_line + i}'] = \" \"\n",
    "        DADOS_SERVIN[f'J{last_line + i}'] = \" \"\n",
    "\n",
    "dados"
   ]
  },
  {
   "cell_type": "markdown",
   "metadata": {
    "id": "KXQy8X1H3nTx"
   },
   "source": [
    "##### Assuntos"
   ]
  },
  {
   "cell_type": "code",
   "execution_count": null,
   "metadata": {
    "colab": {
     "base_uri": "https://localhost:8080/"
    },
    "id": "XuksNvZY3nTx",
    "outputId": "6e675419-588c-42eb-e337-6ebbb2b87899"
   },
   "outputs": [],
   "source": [
    "dados = get_sissel_assuntos('SERVIN')\n",
    "last_line = 0 \n",
    "# Inserindo dados de assuntos\n",
    "for n, index in enumerate(dados.index):\n",
    "    DADOS_SERVIN[f'L{n + 82}'] = index\n",
    "    DADOS_SERVIN[f'M{n + 82}'] = int(dados.at[index])\n",
    "    last_line = n + 82 + 1\n",
    "\n",
    "for i in range(100 - last_line):\n",
    "    DADOS_SERVIN[f'L{last_line + i}'] = \" \"\n",
    "    DADOS_SERVIN[f'M{last_line + i}'] = \" \"\n",
    "dados"
   ]
  },
  {
   "cell_type": "markdown",
   "metadata": {
    "id": "PkdkRhYO3nTy"
   },
   "source": [
    "##### Categorias de Uso * EM DESENVOLVIMENTO"
   ]
  },
  {
   "cell_type": "code",
   "execution_count": null,
   "metadata": {
    "id": "9rkWhusO3nTy"
   },
   "outputs": [],
   "source": []
  },
  {
   "cell_type": "markdown",
   "metadata": {
    "id": "TUVpCe0b3nTy"
   },
   "source": [
    "##### Time off"
   ]
  },
  {
   "cell_type": "code",
   "execution_count": null,
   "metadata": {
    "id": "o4XvMlwb3nTy"
   },
   "outputs": [],
   "source": [
    "# Dando um tempo para esfriar o processador da google"
   ]
  },
  {
   "cell_type": "markdown",
   "metadata": {
    "id": "b1X6FgpuDjyt",
    "tags": []
   },
   "source": [
    "### **8.5 Gravando dados de PARHIS**"
   ]
  },
  {
   "cell_type": "markdown",
   "metadata": {
    "id": "_pgeLHQwDjyw",
    "tags": []
   },
   "source": [
    "#### 8.5.1 Mês Referência - PARHIS"
   ]
  },
  {
   "cell_type": "markdown",
   "metadata": {
    "id": "EbDjey0uDjyx"
   },
   "source": [
    "<p align='justify'> Calcula e grava qual mês de referência usado para a geração do relatorio. No caso o mês de referência sempre será o mês anterior ao do atual no momento em que o script é rodados, ou o ultimo mês \"cheio\", em que é possível obter informações completas. Futuramente será adcionada funcionalidade que permitirá que o mês referência possa ser selecionado manualmente.</p>"
   ]
  },
  {
   "cell_type": "code",
   "execution_count": null,
   "metadata": {
    "id": "3ywSgoMJDjyx"
   },
   "outputs": [],
   "source": [
    "# Mês referência\n",
    "mes_ref = mes(data_referencia)\n",
    "ano_ref = ano(data_referencia)\n",
    "\n",
    "# Mês anterior\n",
    "mes_ant = mes(data_anterior)"
   ]
  },
  {
   "cell_type": "code",
   "execution_count": null,
   "metadata": {
    "colab": {
     "base_uri": "https://localhost:8080/"
    },
    "id": "jwV3oB5QDjyy",
    "outputId": "160bac0b-5fa2-40a2-dc26-4918a85729fc"
   },
   "outputs": [],
   "source": [
    "# Escrevendo dados de referência\n",
    "DADOS_PARHIS['C1'] = str(f'PARHIS - {mes_ref} de {ano_ref}')\n",
    "DADOS_PARHIS['C2'] = str(f'Resumo {mes_ref} de {ano_ref}')\n",
    "DADOS_PARHIS['C3'] = str(f'Comunique-ses emitidos em {mes_ref}')\n",
    "DADOS_PARHIS['C4'] = str(f'Deferimentos por assunto em {mes_ref}')"
   ]
  },
  {
   "cell_type": "markdown",
   "metadata": {
    "id": "nRGZKL7ZDjyz",
    "jp-MarkdownHeadingCollapsed": true,
    "tags": []
   },
   "source": [
    "#### 8.5.2 Dados Aprova Digital - PARHIS"
   ]
  },
  {
   "cell_type": "markdown",
   "metadata": {
    "id": "NuNMVSHXDjy0"
   },
   "source": [
    "##### Quadro resumo"
   ]
  },
  {
   "cell_type": "code",
   "execution_count": null,
   "metadata": {
    "colab": {
     "base_uri": "https://localhost:8080/"
    },
    "id": "G_2YekGrDjy0",
    "outputId": "50839cb4-59c2-4adb-b805-fc403a128302"
   },
   "outputs": [],
   "source": [
    "##### Despachos, deferidos e indeferidos #####\n",
    "\n",
    "# Trazendo os dados - Para o SLCe os dados de PARHIS estão como GTEL\n",
    "dados_despacho = get_ad_despachos('PARHIS')\n",
    "\n",
    "# Total despachos emitidos\n",
    "DADOS_PARHIS['B46'] = dados_despacho['despachos_mes_referencia']\n",
    "\n",
    "# Deferidos\n",
    "DADOS_PARHIS['B47'] = dados_despacho['deferidos_mes_referencia']\n",
    "\n",
    "# Indeferidos\n",
    "DADOS_PARHIS['B48'] = dados_despacho['indeferidos_mes_referencia']\n",
    "\n",
    "# Indeferidos e encerrados\n",
    "DADOS_PARHIS['B51'] = dados_despacho['encerrados_mes_referencia']\n",
    "\n",
    "dados_despacho"
   ]
  },
  {
   "cell_type": "code",
   "execution_count": null,
   "metadata": {
    "colab": {
     "base_uri": "https://localhost:8080/"
    },
    "id": "J0aMCIbTDjy1",
    "outputId": "df6bcbc2-411a-48a8-b49c-637b33733766"
   },
   "outputs": [],
   "source": [
    "##### Processos comunicados ##### \n",
    "\n",
    "# Trazendo os dados - Para o SLCe os dados de PARHIS estão como GTEL\n",
    "dados_comun = get_ad_comuniqueses('PARHIS')\n",
    "\n",
    "# Comunique-ses no mês de referência\n",
    "DADOS_PARHIS['B49'] = dados_comun['comuniq_mes_referencia']\n",
    "dados_comun"
   ]
  },
  {
   "cell_type": "code",
   "execution_count": null,
   "metadata": {
    "colab": {
     "base_uri": "https://localhost:8080/"
    },
    "id": "uEwGGhO0Djy2",
    "outputId": "44373475-2fa5-4e1b-d567-56228cc8b28e"
   },
   "outputs": [],
   "source": [
    "##### Processos autuados #####\n",
    "dados_aut = get_ad_autuados('PARHIS')\n",
    "\n",
    "# Autuados no mês de referência\n",
    "DADOS_PARHIS['B50'] = dados_aut['aut_mes_referencia']\n",
    "dados_aut"
   ]
  },
  {
   "cell_type": "markdown",
   "metadata": {
    "id": "_WkazqKYDjy3"
   },
   "source": [
    "##### Despachos por divisões"
   ]
  },
  {
   "cell_type": "code",
   "execution_count": null,
   "metadata": {
    "colab": {
     "base_uri": "https://localhost:8080/"
    },
    "id": "wbVZD2ifDjy4",
    "outputId": "43dcf72d-3366-41b4-80d1-662d4230602c"
   },
   "outputs": [],
   "source": [
    "# Escrevendo os valores\n",
    "dados = get_ad_divisoes('PARHIS')\n",
    "for n, i in enumerate(dados.keys()):\n",
    "    DADOS_PARHIS[f'B{n + 53}'] = int(dados[i])\n",
    "    print(dados[i])"
   ]
  },
  {
   "cell_type": "code",
   "execution_count": null,
   "metadata": {
    "colab": {
     "base_uri": "https://localhost:8080/"
    },
    "id": "ZHXYLvaJDjy3",
    "outputId": "9e33df98-8968-4c18-f3e8-c32581b48898"
   },
   "outputs": [],
   "source": [
    "# Escrevendo os nomes das divisões\n",
    "last_line = 0\n",
    "\n",
    "for n, i in enumerate(get_ad_divisao_list('PARHIS')):\n",
    "    DADOS_PARHIS[f'A{n + 53}'] = i\n",
    "    last_line = n + 53 + 1\n",
    "    print(i)\n",
    "\n",
    "if last_line < 59:\n",
    "    for i in range(59 - last_line):\n",
    "        DADOS_PARHIS[f'A{last_line + i}'] = \" \"\n",
    "        DADOS_PARHIS[f'B{last_line + i}'] = \" \""
   ]
  },
  {
   "cell_type": "markdown",
   "metadata": {
    "id": "FSqnat9ADjy6"
   },
   "source": [
    "##### Comparativo mês anterior x mês atual"
   ]
  },
  {
   "cell_type": "code",
   "execution_count": null,
   "metadata": {
    "colab": {
     "base_uri": "https://localhost:8080/"
    },
    "id": "iRoO5nClDjy6",
    "outputId": "be48d92b-746f-4e97-88ba-2711f827572b"
   },
   "outputs": [],
   "source": [
    "# Escrevendo títulos\n",
    "DADOS_PARHIS['E43'] = f'Comparativo {mes_ant} - {mes_ref}'\n",
    "\n",
    "# Escrevendo mes corrente e passado\n",
    "DADOS_PARHIS['E52'] = mes_ant\n",
    "DADOS_PARHIS['F52'] = mes_ref\n",
    "print(mes_ant, mes_ref)"
   ]
  },
  {
   "cell_type": "code",
   "execution_count": null,
   "metadata": {
    "colab": {
     "base_uri": "https://localhost:8080/"
    },
    "id": "3HuPFq93Djy6",
    "outputId": "2401cf7d-10b0-486e-d3c9-262e654c6850"
   },
   "outputs": [],
   "source": [
    "# Total despachos\n",
    "DADOS_PARHIS['E46'] = dados_despacho['despachos_mes_anterior']\n",
    "DADOS_PARHIS['F46'] = dados_despacho['despachos_mes_referencia']\n",
    "\n",
    "# Deferidos\n",
    "DADOS_PARHIS['E47'] = dados_despacho['deferidos_mes_anterior']\n",
    "DADOS_PARHIS['F47'] = dados_despacho['deferidos_mes_referencia']\n",
    "\n",
    "# Indeferidos\n",
    "DADOS_PARHIS['E48'] = dados_despacho['indeferidos_mes_anterior']\n",
    "DADOS_PARHIS['F48'] = dados_despacho['indeferidos_mes_referencia']\n",
    "\n",
    "print(dados_despacho['despachos_mes_anterior'], dados_despacho['despachos_mes_referencia'])\n",
    "print(dados_despacho['deferidos_mes_anterior'], dados_despacho['deferidos_mes_referencia'])\n",
    "print(dados_despacho['indeferidos_mes_anterior'], dados_despacho['indeferidos_mes_referencia'])"
   ]
  },
  {
   "cell_type": "code",
   "execution_count": null,
   "metadata": {
    "colab": {
     "base_uri": "https://localhost:8080/"
    },
    "id": "rVDJUngvDjy7",
    "outputId": "6cffaa89-fc2a-4b06-f831-c1e8a44d1d71"
   },
   "outputs": [],
   "source": [
    "# Comunique-ses\n",
    "DADOS_PARHIS['E49'] = dados_comun['comuniq_mes_anterior']\n",
    "DADOS_PARHIS['F49'] = dados_comun['comuniq_mes_referencia']"
   ]
  },
  {
   "cell_type": "markdown",
   "metadata": {
    "id": "1mwGAV69Djy7"
   },
   "source": [
    "##### Ultimos 12 meses despachos"
   ]
  },
  {
   "cell_type": "code",
   "execution_count": null,
   "metadata": {
    "colab": {
     "base_uri": "https://localhost:8080/"
    },
    "id": "oyZ026MSDjy7",
    "outputId": "3ca6e466-b8f3-4788-9337-e466caac2d97"
   },
   "outputs": [],
   "source": [
    "dados = get_ad_last_12_despachos('PARHIS')\n",
    "# Gerando os nomes das colunas de meses\n",
    "for n, index in enumerate(dados['despachos'].index):\n",
    "    mes_avrev = dict_mes_abrev[index.month]\n",
    "    DADOS_PARHIS[f'A{n + 61}'] = mes_avrev\n",
    "\n",
    "dados"
   ]
  },
  {
   "cell_type": "code",
   "execution_count": null,
   "metadata": {
    "id": "AqMn_Qj5Djy8"
   },
   "outputs": [],
   "source": [
    "# Gerando total de despachos\n",
    "for n, valor in enumerate(dados['despachos']):\n",
    "    DADOS_PARHIS[f'B{n + 61}'] = valor"
   ]
  },
  {
   "cell_type": "code",
   "execution_count": null,
   "metadata": {
    "id": "5uqkmdEwDjy8"
   },
   "outputs": [],
   "source": [
    "# Gerando deferidos\n",
    "for n, valor in enumerate(dados['deferidos']):\n",
    "    DADOS_PARHIS[f'C{n + 61}'] = valor"
   ]
  },
  {
   "cell_type": "code",
   "execution_count": null,
   "metadata": {
    "id": "GyfzQ345Djy8"
   },
   "outputs": [],
   "source": [
    "# Gerando indeferidos\n",
    "for n, valor in enumerate(dados['indeferidos']):\n",
    "    DADOS_PARHIS[f'D{n + 61}'] = valor"
   ]
  },
  {
   "cell_type": "markdown",
   "metadata": {
    "id": "03YyjsW_Djy8"
   },
   "source": [
    "##### Últimos 12 meses comunique-ses"
   ]
  },
  {
   "cell_type": "code",
   "execution_count": null,
   "metadata": {
    "id": "IETvLN-cDjy9"
   },
   "outputs": [],
   "source": [
    "dados = get_ad_last_12_comuniq('PARHIS')\n",
    "\n",
    "# Gerando total de Comunique-ses\n",
    "for n, valor in enumerate(dados):\n",
    "    DADOS_PARHIS[f'G{n + 61}'] = valor"
   ]
  },
  {
   "cell_type": "markdown",
   "metadata": {
    "id": "NWPQZYdLDjy-"
   },
   "source": [
    "##### Últimos 12 meses autuados\n"
   ]
  },
  {
   "cell_type": "code",
   "execution_count": null,
   "metadata": {
    "id": "rSfbSN0nDjy-"
   },
   "outputs": [],
   "source": [
    "dados = get_ad_last_12_autuados('PARHIS')\n",
    "\n",
    "for n, valor in enumerate(dados):\n",
    "    DADOS_PARHIS[f'J{n + 61}'] = valor"
   ]
  },
  {
   "cell_type": "markdown",
   "metadata": {
    "id": "_57lLEuaDjy-"
   },
   "source": [
    "##### Acumulado PARHIS"
   ]
  },
  {
   "cell_type": "code",
   "execution_count": null,
   "metadata": {
    "colab": {
     "base_uri": "https://localhost:8080/"
    },
    "id": "kttb4iTzDjy_",
    "outputId": "d66a4ff3-7b80-4e77-c312-7eb6dd7a435a"
   },
   "outputs": [],
   "source": [
    "# Escrevendo os dados e os nomes das colunas\n",
    "dados = get_ad_acumulado('PARHIS')\n",
    "\n",
    "last_line = 0\n",
    "\n",
    "for n, key in enumerate(dados.keys()):\n",
    "    DADOS_PARHIS[f'I{n + 45}'] = key\n",
    "    DADOS_PARHIS[f'J{n + 45}'] = dados[key]\n",
    "    last_line = n + 45 + 1\n",
    "\n",
    "if last_line < 59:\n",
    "    for i in range(59 - last_line):\n",
    "        DADOS_PARHIS[f'I{last_line + i}'] = \" \"\n",
    "        DADOS_PARHIS[f'J{last_line + i}'] = \" \"\n",
    "\n",
    "dados"
   ]
  },
  {
   "cell_type": "markdown",
   "metadata": {
    "id": "nSGe9lQ5Djy_"
   },
   "source": [
    "##### Assuntos"
   ]
  },
  {
   "cell_type": "code",
   "execution_count": null,
   "metadata": {
    "colab": {
     "base_uri": "https://localhost:8080/"
    },
    "id": "82HOUtU4DjzA",
    "outputId": "67b34c7c-9a8f-44d0-bc65-2afcffef3925"
   },
   "outputs": [],
   "source": [
    "dados = get_ad_assuntos('PARHIS')\n",
    "last_line = 0 \n",
    "# Inserindo dados de assuntos\n",
    "for n, index in enumerate(dados.index):\n",
    "    DADOS_PARHIS[f'L{n + 48}'] = index\n",
    "    DADOS_PARHIS[f'M{n + 48}'] = int(dados.at[index])\n",
    "    last_line = n + 48 + 1\n",
    "\n",
    "for i in range(70 - last_line):\n",
    "    DADOS_PARHIS[f'L{last_line + i}'] = \" \"\n",
    "    DADOS_PARHIS[f'M{last_line + i}'] = \" \"\n",
    "dados"
   ]
  },
  {
   "cell_type": "markdown",
   "metadata": {
    "id": "F6Qxd53oDjzA"
   },
   "source": [
    "##### Categorias de Uso * EM DESENVOLVIMENTO"
   ]
  },
  {
   "cell_type": "code",
   "execution_count": null,
   "metadata": {
    "id": "U0HCHwvEDjzA"
   },
   "outputs": [],
   "source": []
  },
  {
   "cell_type": "markdown",
   "metadata": {
    "id": "EzZgJgIZDjzA"
   },
   "source": [
    "##### Time off"
   ]
  },
  {
   "cell_type": "code",
   "execution_count": null,
   "metadata": {
    "id": "TxchfiT7DjzB"
   },
   "outputs": [],
   "source": [
    "# Dando um tempo para esfriar o processador da google\n"
   ]
  },
  {
   "cell_type": "markdown",
   "metadata": {
    "id": "eiWN6cbLDjzB",
    "jp-MarkdownHeadingCollapsed": true,
    "tags": []
   },
   "source": [
    "#### 8.5.4 Dados SISSEL - PARHIS"
   ]
  },
  {
   "cell_type": "markdown",
   "metadata": {
    "id": "JsCYvjMmALqw"
   },
   "source": [
    "##### Quadro resumo"
   ]
  },
  {
   "cell_type": "code",
   "execution_count": null,
   "metadata": {
    "colab": {
     "base_uri": "https://localhost:8080/"
    },
    "id": "0lIWsq1CALqw",
    "outputId": "4ecdb5ad-3385-4fcf-996a-5071102ce31c"
   },
   "outputs": [],
   "source": [
    "##### Despachos, deferidos e indeferidos #####\n",
    "\n",
    "# Trazendo os dados \n",
    "dados_despacho = get_sissel_despachos('PARHIS')\n",
    "\n",
    "# Total despachos emitidos\n",
    "DADOS_PARHIS['B80'] = dados_despacho['despachos_mes_referencia']\n",
    "\n",
    "# Deferidos\n",
    "DADOS_PARHIS['B81'] = dados_despacho['deferidos_mes_referencia']\n",
    "\n",
    "# Indeferidos\n",
    "DADOS_PARHIS['B82'] = dados_despacho['indeferidos_mes_referencia']\n",
    "dados_despacho"
   ]
  },
  {
   "cell_type": "code",
   "execution_count": null,
   "metadata": {
    "colab": {
     "base_uri": "https://localhost:8080/"
    },
    "id": "74b4zPKkALqw",
    "outputId": "60dca1ce-bb79-4c7a-8084-f666dbe94e07"
   },
   "outputs": [],
   "source": [
    "##### Processos comunicados ##### \n",
    "\n",
    "# Trazendo os dados - Para o SLCe os dados de PARHIS estão como GTEL\n",
    "dados_comun = get_sissel_comuniqueses('PARHIS')\n",
    "\n",
    "# Comunique-ses no mês de referência\n",
    "DADOS_PARHIS['B83'] = dados_comun['comuniq_mes_referencia']\n",
    "dados_comun"
   ]
  },
  {
   "cell_type": "code",
   "execution_count": null,
   "metadata": {
    "colab": {
     "base_uri": "https://localhost:8080/",
     "height": 53
    },
    "id": "7opC0kCvALqw",
    "outputId": "d5233f78-a840-429a-d021-e0e53fb980ad"
   },
   "outputs": [],
   "source": [
    "# Em desenvolvimento\n",
    "\"\"\"\n",
    "##### Processos autuados #####\n",
    "dados_aut = get_ad_autuados('RESID')\n",
    "\n",
    "# Autuados no mês de referência\n",
    "DADOS_RESID.update('B50', dados_aut['aut_mes_referencia'])\n",
    "dados_aut\n",
    "\"\"\""
   ]
  },
  {
   "cell_type": "markdown",
   "metadata": {
    "id": "NMWBPzr8ALqx"
   },
   "source": [
    "##### Despachos por divisões"
   ]
  },
  {
   "cell_type": "code",
   "execution_count": null,
   "metadata": {
    "colab": {
     "base_uri": "https://localhost:8080/"
    },
    "id": "zgaF8fwLALqx",
    "outputId": "8ec9be75-4af0-4db4-81bf-3739c28fdb5e"
   },
   "outputs": [],
   "source": [
    "# Escrevendo os valores\n",
    "dados = get_sissel_divisoes('PARHIS')\n",
    "for n, i in enumerate(dados.keys()):\n",
    "    DADOS_PARHIS[f'B{n + 86}'] = int(dados[i])\n",
    "    print(dados[i])"
   ]
  },
  {
   "cell_type": "code",
   "execution_count": null,
   "metadata": {
    "colab": {
     "base_uri": "https://localhost:8080/"
    },
    "id": "7lAZTSVfALqx",
    "outputId": "420ac957-6ab3-4dd3-ac51-297fed3f25e7"
   },
   "outputs": [],
   "source": [
    "# Escrevendo os nomes das divisões\n",
    "last_line = 0\n",
    "\n",
    "for n, i in enumerate(get_sissel_divisao_list('PARHIS')):\n",
    "    DADOS_PARHIS[f'A{n + 86}'] = i\n",
    "    last_line = n + 86 + 1\n",
    "    print(i)\n",
    "\n",
    "if last_line < 92:\n",
    "    for i in range(92 - last_line):\n",
    "        DADOS_PARHIS[f'A{last_line + i}'] = \" \"\n",
    "        DADOS_PARHIS[f'B{last_line + i}'] = \" \""
   ]
  },
  {
   "cell_type": "markdown",
   "metadata": {
    "id": "FY4w-gM9ALqx"
   },
   "source": [
    "##### Comparativo mês anterior x mês atual"
   ]
  },
  {
   "cell_type": "code",
   "execution_count": null,
   "metadata": {
    "colab": {
     "base_uri": "https://localhost:8080/"
    },
    "id": "kX0DjF_kALqx",
    "outputId": "c26f3cab-a55c-496e-b316-76de0232e198"
   },
   "outputs": [],
   "source": [
    "# Escrevendo títulos\n",
    "DADOS_PARHIS['E78'] = f'Comparativo {mes_ant} - {mes_ref}'\n",
    "\n",
    "# Escrevendo mes corrente e passado\n",
    "DADOS_PARHIS['E84'] = mes_ant\n",
    "DADOS_PARHIS['F84'] = mes_ref\n",
    "print(mes_ant, mes_ref)"
   ]
  },
  {
   "cell_type": "code",
   "execution_count": null,
   "metadata": {
    "colab": {
     "base_uri": "https://localhost:8080/"
    },
    "id": "ota8mfWVALqx",
    "outputId": "3bbfbac9-6fe8-4218-8a70-49fcf948c65d"
   },
   "outputs": [],
   "source": [
    "# Total despachos\n",
    "DADOS_PARHIS['E80'] = dados_despacho['despachos_mes_anterior']\n",
    "DADOS_PARHIS['F80'] = dados_despacho['despachos_mes_referencia']\n",
    "\n",
    "# Deferidos\n",
    "DADOS_PARHIS['E81'] = dados_despacho['deferidos_mes_anterior']\n",
    "DADOS_PARHIS['F81'] = dados_despacho['deferidos_mes_referencia']\n",
    "\n",
    "# Indeferidos\n",
    "DADOS_PARHIS['E82'] = dados_despacho['indeferidos_mes_anterior']\n",
    "DADOS_PARHIS['F82'] = dados_despacho['indeferidos_mes_referencia']\n",
    "\n",
    "print(dados_despacho['despachos_mes_anterior'], dados_despacho['despachos_mes_referencia'])\n",
    "print(dados_despacho['deferidos_mes_anterior'], dados_despacho['deferidos_mes_referencia'])\n",
    "print(dados_despacho['indeferidos_mes_anterior'], dados_despacho['indeferidos_mes_referencia'])"
   ]
  },
  {
   "cell_type": "code",
   "execution_count": null,
   "metadata": {
    "colab": {
     "base_uri": "https://localhost:8080/"
    },
    "id": "OnZn0cjfALqx",
    "outputId": "d4f0e090-9bdb-4172-aa98-b403ce3da56b"
   },
   "outputs": [],
   "source": [
    "# Comunique-ses\n",
    "DADOS_PARHIS['E83'] = dados_comun['comuniq_mes_anterior']\n",
    "DADOS_PARHIS['F83'] = dados_comun['comuniq_mes_referencia']"
   ]
  },
  {
   "cell_type": "markdown",
   "metadata": {
    "id": "0CGHKD6gALqx"
   },
   "source": [
    "##### Ultimos 12 meses despachos"
   ]
  },
  {
   "cell_type": "code",
   "execution_count": null,
   "metadata": {
    "colab": {
     "base_uri": "https://localhost:8080/"
    },
    "id": "6Exn-tbCALqx",
    "outputId": "ee04e53b-4b9e-42bd-99ce-879ed772b607"
   },
   "outputs": [],
   "source": [
    "dados = get_sissel_last_12_despachos('PARHIS')\n",
    "# Gerando os nomes das colunas de meses\n",
    "for n, index in enumerate(dados['despachos'].index):\n",
    "    mes_avrev = dict_mes_abrev[index.month]\n",
    "    DADOS_PARHIS[f'A{n + 95}'] = mes_avrev\n",
    "\n",
    "dados"
   ]
  },
  {
   "cell_type": "code",
   "execution_count": null,
   "metadata": {
    "id": "QkHx_FilALqx"
   },
   "outputs": [],
   "source": [
    "# Gerando total de despachos\n",
    "for n, valor in enumerate(dados['despachos']):\n",
    "    DADOS_PARHIS[f'B{n + 95}'] = valor"
   ]
  },
  {
   "cell_type": "code",
   "execution_count": null,
   "metadata": {
    "id": "bOQv_mMTALqx"
   },
   "outputs": [],
   "source": [
    "# Gerando deferidos\n",
    "for n, valor in enumerate(dados['deferidos']):\n",
    "    DADOS_PARHIS[f'C{n + 95}'] = valor"
   ]
  },
  {
   "cell_type": "code",
   "execution_count": null,
   "metadata": {
    "id": "XbXD-1huALqx"
   },
   "outputs": [],
   "source": [
    "# Gerando indeferidos\n",
    "for n, valor in enumerate(dados['indeferidos']):\n",
    "    DADOS_PARHIS[f'D{n + 95}'] = valor"
   ]
  },
  {
   "cell_type": "markdown",
   "metadata": {
    "id": "ftpkwPyjALqx"
   },
   "source": [
    "##### Últimos 12 meses comunique-ses"
   ]
  },
  {
   "cell_type": "code",
   "execution_count": null,
   "metadata": {
    "id": "zenFRndyALqx"
   },
   "outputs": [],
   "source": [
    "dados = get_sissel_last_12_comuniq('PARHIS')\n",
    "\n",
    "# Gerando total de Comunique-ses\n",
    "for n, valor in enumerate(dados):\n",
    "    DADOS_PARHIS[f'G{n + 95}'] = valor"
   ]
  },
  {
   "cell_type": "markdown",
   "metadata": {
    "id": "uVBa6WCXALqy"
   },
   "source": [
    "##### Últimos 12 meses autuados\n"
   ]
  },
  {
   "cell_type": "code",
   "execution_count": null,
   "metadata": {
    "colab": {
     "base_uri": "https://localhost:8080/",
     "height": 35
    },
    "id": "i85dhcPXALqy",
    "outputId": "ad463d11-14b5-43b2-f7c5-2886f91153aa"
   },
   "outputs": [],
   "source": [
    "# Em desenvolvimento\n",
    "\"\"\"\n",
    "dados = get_sissel_last_12_autuados('RESID')\n",
    "\n",
    "for n, valor in enumerate(dados):\n",
    "    DADOS_RESID.update(f'J{n + 95}', valor)\n",
    "\"\"\""
   ]
  },
  {
   "cell_type": "markdown",
   "metadata": {
    "id": "MWUH875mALqy"
   },
   "source": [
    "##### Acumulado SERVIN"
   ]
  },
  {
   "cell_type": "code",
   "execution_count": null,
   "metadata": {
    "colab": {
     "base_uri": "https://localhost:8080/"
    },
    "id": "SngU1pg4ALqy",
    "outputId": "152b1ac5-7df6-4c68-d07a-4c99849eee95"
   },
   "outputs": [],
   "source": [
    "# Escrevendo os dados e os nomes das colunas\n",
    "dados = get_sissel_acumulado('PARHIS')\n",
    "\n",
    "last_line = 0\n",
    "\n",
    "for n, key in enumerate(dados.keys()):\n",
    "    DADOS_PARHIS[f'I{n + 79}'] = key\n",
    "    DADOS_PARHIS[f'J{n + 79}'] = dados[key]\n",
    "    last_line = n + 79 + 1\n",
    "\n",
    "if last_line < 92:\n",
    "    for i in range(92 - last_line):\n",
    "        DADOS_PARHIS[f'I{last_line + i}'] = \" \"\n",
    "        DADOS_PARHIS[f'J{last_line + i}'] = \" \"\n",
    "\n",
    "dados"
   ]
  },
  {
   "cell_type": "markdown",
   "metadata": {
    "id": "f0m0U1GQALqy"
   },
   "source": [
    "##### Assuntos"
   ]
  },
  {
   "cell_type": "code",
   "execution_count": null,
   "metadata": {
    "colab": {
     "base_uri": "https://localhost:8080/"
    },
    "id": "pwdXk5rBALqy",
    "outputId": "b70728d7-f8bd-44ab-c563-9d2c795fd110"
   },
   "outputs": [],
   "source": [
    "dados = get_sissel_assuntos('PARHIS')\n",
    "last_line = 0 \n",
    "# Inserindo dados de assuntos\n",
    "for n, index in enumerate(dados.index):\n",
    "    DADOS_PARHIS[f'L{n + 82}'] = index\n",
    "    DADOS_PARHIS[f'M{n + 82}'] = int(dados.at[index])\n",
    "    last_line = n + 82 + 1\n",
    "\n",
    "for i in range(100 - last_line):\n",
    "    DADOS_PARHIS[f'L{last_line + i}'] = \" \"\n",
    "    DADOS_PARHIS[f'M{last_line + i}'] = \" \"\n",
    "dados"
   ]
  },
  {
   "cell_type": "markdown",
   "metadata": {
    "id": "oUxRApe0ALqy"
   },
   "source": [
    "##### Categorias de Uso * EM DESENVOLVIMENTO"
   ]
  },
  {
   "cell_type": "code",
   "execution_count": null,
   "metadata": {
    "id": "NM9MUrRoALqy"
   },
   "outputs": [],
   "source": []
  },
  {
   "cell_type": "markdown",
   "metadata": {
    "id": "wB6JnA0BALqy"
   },
   "source": [
    "##### Time off"
   ]
  },
  {
   "cell_type": "code",
   "execution_count": null,
   "metadata": {
    "id": "y8mfCQkyALqy"
   },
   "outputs": [],
   "source": [
    "# Dando um tempo para esfriar o processador da google"
   ]
  },
  {
   "cell_type": "markdown",
   "metadata": {
    "id": "qp70v2_3PKRF",
    "tags": []
   },
   "source": [
    "### **8.6 Gravando dados de CONTRU**"
   ]
  },
  {
   "cell_type": "markdown",
   "metadata": {
    "id": "LBG4X_S1PKRG",
    "tags": []
   },
   "source": [
    "#### 8.6.1 Mês Referência - CONTRU"
   ]
  },
  {
   "cell_type": "markdown",
   "metadata": {
    "id": "f59sfbg_PKRH"
   },
   "source": [
    "<p align='justify'> Calcula e grava qual mês de referência usado para a geração do relatorio. No caso o mês de referência sempre será o mês anterior ao do atual no momento em que o script é rodados, ou o ultimo mês \"cheio\", em que é possível obter informações completas. Futuramente será adcionada funcionalidade que permitirá que o mês referência possa ser selecionado manualmente.</p>"
   ]
  },
  {
   "cell_type": "code",
   "execution_count": null,
   "metadata": {
    "id": "EtUqsfOqPKRI"
   },
   "outputs": [],
   "source": [
    "# Mês referência\n",
    "mes_ref = mes(data_referencia)\n",
    "ano_ref = ano(data_referencia)\n",
    "\n",
    "# Mês anterior\n",
    "mes_ant = mes(data_anterior)"
   ]
  },
  {
   "cell_type": "code",
   "execution_count": null,
   "metadata": {
    "colab": {
     "base_uri": "https://localhost:8080/"
    },
    "id": "21761DSCPKRJ",
    "outputId": "4fa9093c-a4ec-4abb-a46e-683f217726b9"
   },
   "outputs": [],
   "source": [
    "# Escrevendo dados de referência\n",
    "DADOS_CONTRU['C1'] = str(f'CONTRU - {mes_ref} de {ano_ref}')\n",
    "DADOS_CONTRU['C2'] = str(f'Resumo {mes_ref} de {ano_ref}')\n",
    "DADOS_CONTRU['C3'] = str(f'Comunique-ses emitidos em {mes_ref}')\n",
    "DADOS_CONTRU['C4'] = str(f'Deferimentos por assunto em {mes_ref}')"
   ]
  },
  {
   "cell_type": "markdown",
   "metadata": {
    "id": "wOFH5ZowPKRK",
    "jp-MarkdownHeadingCollapsed": true,
    "tags": []
   },
   "source": [
    "#### 8.6.2 Dados Aprova Digital - CONTRU"
   ]
  },
  {
   "cell_type": "markdown",
   "metadata": {
    "id": "xZw4QQ05PKRK"
   },
   "source": [
    "##### Quadro resumo"
   ]
  },
  {
   "cell_type": "code",
   "execution_count": null,
   "metadata": {
    "colab": {
     "base_uri": "https://localhost:8080/"
    },
    "id": "3zowd3eaPKRK",
    "outputId": "b50b0ba5-e7b1-4c41-877f-feeac2c65dd6"
   },
   "outputs": [],
   "source": [
    "##### Despachos, deferidos e indeferidos #####\n",
    "\n",
    "# Trazendo os dados - Para o SLCe os dados de CONTRU estão como GTEL\n",
    "dados_despacho = get_ad_despachos('CONTRU')\n",
    "\n",
    "# Total despachos emitidos\n",
    "DADOS_CONTRU['B46'] = dados_despacho['despachos_mes_referencia']\n",
    "\n",
    "# Deferidos\n",
    "DADOS_CONTRU['B47'] = dados_despacho['deferidos_mes_referencia']\n",
    "\n",
    "# Indeferidos\n",
    "DADOS_CONTRU['B48'] = dados_despacho['indeferidos_mes_referencia']\n",
    "\n",
    "# Indeferidos e encerrados\n",
    "DADOS_CONTRU['B51'] = dados_despacho['encerrados_mes_referencia']\n",
    "\n",
    "dados_despacho"
   ]
  },
  {
   "cell_type": "code",
   "execution_count": null,
   "metadata": {
    "colab": {
     "base_uri": "https://localhost:8080/"
    },
    "id": "QdAlGiMrPKRL",
    "outputId": "5a16e5d2-01de-43d1-be22-e08df2ff021b"
   },
   "outputs": [],
   "source": [
    "##### Processos comunicados ##### \n",
    "\n",
    "# Trazendo os dados - Para o SLCe os dados de CONTRU estão como GTEL\n",
    "dados_comun = get_ad_comuniqueses('CONTRU')\n",
    "\n",
    "# Comunique-ses no mês de referência\n",
    "DADOS_CONTRU['B49'] = dados_comun['comuniq_mes_referencia']\n",
    "dados_comun"
   ]
  },
  {
   "cell_type": "code",
   "execution_count": null,
   "metadata": {
    "colab": {
     "base_uri": "https://localhost:8080/"
    },
    "id": "kfAbIJT2PKRM",
    "outputId": "cad7074b-8173-434a-8e30-8807a2a3204c"
   },
   "outputs": [],
   "source": [
    "##### Processos autuados #####\n",
    "dados_aut = get_ad_autuados('CONTRU')\n",
    "\n",
    "# Autuados no mês de referência\n",
    "DADOS_CONTRU['B50'] = dados_aut['aut_mes_referencia']\n",
    "dados_aut"
   ]
  },
  {
   "cell_type": "markdown",
   "metadata": {
    "id": "yLJQ4znPPKRN"
   },
   "source": [
    "##### Despachos por divisões"
   ]
  },
  {
   "cell_type": "code",
   "execution_count": null,
   "metadata": {
    "colab": {
     "base_uri": "https://localhost:8080/"
    },
    "id": "aZOd04uiPKRO",
    "outputId": "88b2934d-6f66-49eb-9ec3-0dfd527d168c"
   },
   "outputs": [],
   "source": [
    "# Escrevendo os valores\n",
    "dados = get_ad_divisoes('CONTRU')\n",
    "for n, i in enumerate(dados.keys()):\n",
    "    DADOS_CONTRU[f'B{n + 53}'] = int(dados[i])\n",
    "    print(dados[i])"
   ]
  },
  {
   "cell_type": "code",
   "execution_count": null,
   "metadata": {
    "colab": {
     "base_uri": "https://localhost:8080/"
    },
    "id": "V4ZFMKOSPKRO",
    "outputId": "e832bc12-6fbc-434f-d387-a6ccfb323ed7"
   },
   "outputs": [],
   "source": [
    "# Escrevendo os nomes das divisões\n",
    "last_line = 0\n",
    "\n",
    "for n, i in enumerate(get_ad_divisao_list('CONTRU')):\n",
    "    DADOS_CONTRU[f'A{n + 53}'] = i\n",
    "    last_line = n + 53 + 1\n",
    "    print(i)\n",
    "\n",
    "if last_line < 59:\n",
    "    for i in range(59 - last_line):\n",
    "        DADOS_CONTRU[f'A{last_line + i}'] = \" \"\n",
    "        DADOS_CONTRU[f'B{last_line + i}'] = \" \""
   ]
  },
  {
   "cell_type": "markdown",
   "metadata": {
    "id": "jXRLl2yhPKRP"
   },
   "source": [
    "##### Comparativo mês anterior x mês atual"
   ]
  },
  {
   "cell_type": "code",
   "execution_count": null,
   "metadata": {
    "colab": {
     "base_uri": "https://localhost:8080/"
    },
    "id": "j0acII0tPKRP",
    "outputId": "f18c5b02-0b74-4937-d1b9-104ae0d252df"
   },
   "outputs": [],
   "source": [
    "# Escrevendo títulos\n",
    "DADOS_CONTRU['E43'] = f'Comparativo {mes_ant} - {mes_ref}'\n",
    "\n",
    "# Escrevendo mes corrente e passado\n",
    "DADOS_CONTRU['E52'] = mes_ant\n",
    "DADOS_CONTRU['F52'] = mes_ref\n",
    "print(mes_ant, mes_ref)"
   ]
  },
  {
   "cell_type": "code",
   "execution_count": null,
   "metadata": {
    "colab": {
     "base_uri": "https://localhost:8080/"
    },
    "id": "gNU9E-rdPKRQ",
    "outputId": "76640466-8952-4967-8820-614cce3c1400"
   },
   "outputs": [],
   "source": [
    "# Total despachos\n",
    "DADOS_CONTRU['E46'] = dados_despacho['despachos_mes_anterior']\n",
    "DADOS_CONTRU['F46'] = dados_despacho['despachos_mes_referencia']\n",
    "\n",
    "# Deferidos\n",
    "DADOS_CONTRU['E47'] = dados_despacho['deferidos_mes_anterior']\n",
    "DADOS_CONTRU['F47'] = dados_despacho['deferidos_mes_referencia']\n",
    "\n",
    "# Indeferidos\n",
    "DADOS_CONTRU['E48'] = dados_despacho['indeferidos_mes_anterior']\n",
    "DADOS_CONTRU['F48'] = dados_despacho['indeferidos_mes_referencia']\n",
    "\n",
    "print(dados_despacho['despachos_mes_anterior'], dados_despacho['despachos_mes_referencia'])\n",
    "print(dados_despacho['deferidos_mes_anterior'], dados_despacho['deferidos_mes_referencia'])\n",
    "print(dados_despacho['indeferidos_mes_anterior'], dados_despacho['indeferidos_mes_referencia'])"
   ]
  },
  {
   "cell_type": "code",
   "execution_count": null,
   "metadata": {
    "colab": {
     "base_uri": "https://localhost:8080/"
    },
    "id": "cpQFvUrGPKRQ",
    "outputId": "2b83e7dc-c316-4428-dae7-843bab35a1bf"
   },
   "outputs": [],
   "source": [
    "# Comunique-ses\n",
    "DADOS_CONTRU['E49'] = dados_comun['comuniq_mes_anterior']\n",
    "DADOS_CONTRU['F49'] = dados_comun['comuniq_mes_referencia']"
   ]
  },
  {
   "cell_type": "markdown",
   "metadata": {
    "id": "7NI6StPYPKRR"
   },
   "source": [
    "##### Ultimos 12 meses despachos"
   ]
  },
  {
   "cell_type": "code",
   "execution_count": null,
   "metadata": {
    "colab": {
     "base_uri": "https://localhost:8080/"
    },
    "id": "7ga23icfPKRR",
    "outputId": "4704684d-78be-4bae-e933-18b39a3100e5"
   },
   "outputs": [],
   "source": [
    "dados = get_ad_last_12_despachos('CONTRU')\n",
    "# Gerando os nomes das colunas de meses\n",
    "for n, index in enumerate(dados['despachos'].index):\n",
    "    mes_avrev = dict_mes_abrev[index.month]\n",
    "    DADOS_CONTRU[f'A{n + 61}'] = mes_avrev\n",
    "\n",
    "dados"
   ]
  },
  {
   "cell_type": "code",
   "execution_count": null,
   "metadata": {
    "id": "cXRLzvoRPKRS"
   },
   "outputs": [],
   "source": [
    "# Gerando total de despachos\n",
    "for n, valor in enumerate(dados['despachos']):\n",
    "    DADOS_CONTRU[f'B{n + 61}'] = valor"
   ]
  },
  {
   "cell_type": "code",
   "execution_count": null,
   "metadata": {
    "id": "GAcaEfiIPKRS"
   },
   "outputs": [],
   "source": [
    "# Gerando deferidos\n",
    "for n, valor in enumerate(dados['deferidos']):\n",
    "    DADOS_CONTRU[f'C{n + 61}'] = valor"
   ]
  },
  {
   "cell_type": "code",
   "execution_count": null,
   "metadata": {
    "id": "r3HZ5CPzPKRS"
   },
   "outputs": [],
   "source": [
    "# Gerando indeferidos\n",
    "for n, valor in enumerate(dados['indeferidos']):\n",
    "    DADOS_CONTRU[f'D{n + 61}'] = valor"
   ]
  },
  {
   "cell_type": "markdown",
   "metadata": {
    "id": "4Z3Lkkf_PKRS"
   },
   "source": [
    "##### Últimos 12 meses comunique-ses"
   ]
  },
  {
   "cell_type": "code",
   "execution_count": null,
   "metadata": {
    "id": "06G80OVNPKRT"
   },
   "outputs": [],
   "source": [
    "dados = get_ad_last_12_comuniq('CONTRU')\n",
    "\n",
    "# Gerando total de Comunique-ses\n",
    "for n, valor in enumerate(dados):\n",
    "    DADOS_CONTRU[f'G{n + 61}'] = valor"
   ]
  },
  {
   "cell_type": "markdown",
   "metadata": {
    "id": "fkPFGKQwPKRT"
   },
   "source": [
    "##### Últimos 12 meses autuados\n"
   ]
  },
  {
   "cell_type": "code",
   "execution_count": null,
   "metadata": {
    "id": "Ze5bWA9WPKRT"
   },
   "outputs": [],
   "source": [
    "dados = get_ad_last_12_autuados('CONTRU')\n",
    "\n",
    "for n, valor in enumerate(dados):\n",
    "    DADOS_CONTRU[f'J{n + 61}'] = valor"
   ]
  },
  {
   "cell_type": "markdown",
   "metadata": {
    "id": "pjoflU0yPKRU"
   },
   "source": [
    "##### Acumulado CONTRU"
   ]
  },
  {
   "cell_type": "code",
   "execution_count": null,
   "metadata": {
    "colab": {
     "base_uri": "https://localhost:8080/"
    },
    "id": "djjTYbZCPKRU",
    "outputId": "4ecd6dc8-f2c9-4758-926c-0ffd62eacbe4"
   },
   "outputs": [],
   "source": [
    "# Escrevendo os dados e os nomes das colunas\n",
    "dados = get_ad_acumulado('CONTRU')\n",
    "\n",
    "last_line = 0\n",
    "\n",
    "for n, key in enumerate(dados.keys()):\n",
    "    DADOS_CONTRU[f'I{n + 45}'] = key\n",
    "    DADOS_CONTRU[f'J{n + 45}'] = dados[key]\n",
    "    last_line = n + 45 + 1\n",
    "\n",
    "if last_line < 59:\n",
    "    for i in range(59 - last_line):\n",
    "        DADOS_CONTRU[f'I{last_line + i}'] = \" \"\n",
    "        DADOS_CONTRU[f'J{last_line + i}'] = \" \"\n",
    "\n",
    "dados"
   ]
  },
  {
   "cell_type": "markdown",
   "metadata": {
    "id": "4Mh8E-TqPKRU"
   },
   "source": [
    "##### Assuntos"
   ]
  },
  {
   "cell_type": "code",
   "execution_count": null,
   "metadata": {
    "colab": {
     "base_uri": "https://localhost:8080/"
    },
    "id": "GdoLakKPPKRV",
    "outputId": "8b0ab4df-80a4-4dc8-8814-4fb26b5129a7"
   },
   "outputs": [],
   "source": [
    "dados = get_ad_assuntos('CONTRU')\n",
    "last_line = 0 \n",
    "# Inserindo dados de assuntos\n",
    "for n, index in enumerate(dados.index):\n",
    "    DADOS_CONTRU[f'L{n + 48}'] = index\n",
    "    DADOS_CONTRU[f'M{n + 48}'] = int(dados.at[index])\n",
    "    last_line = n + 48 + 1\n",
    "\n",
    "for i in range(70 - last_line):\n",
    "    DADOS_CONTRU[f'L{last_line + i}'] = \" \"\n",
    "    DADOS_CONTRU[f'M{last_line + i}'] = \" \"\n",
    "dados"
   ]
  },
  {
   "cell_type": "markdown",
   "metadata": {
    "id": "jkQzwbTmPKRV"
   },
   "source": [
    "##### Categorias de Uso * EM DESENVOLVIMENTO"
   ]
  },
  {
   "cell_type": "code",
   "execution_count": null,
   "metadata": {
    "id": "wAUTq7jLPKRV"
   },
   "outputs": [],
   "source": []
  },
  {
   "cell_type": "markdown",
   "metadata": {
    "id": "84UBAd7sPKRW",
    "jp-MarkdownHeadingCollapsed": true,
    "tags": []
   },
   "source": [
    "#### 8.6.4 Dados SISSEL - CONTRU"
   ]
  },
  {
   "cell_type": "markdown",
   "metadata": {
    "id": "fv320Tg5EOF8"
   },
   "source": [
    "##### Quadro resumo"
   ]
  },
  {
   "cell_type": "code",
   "execution_count": null,
   "metadata": {
    "colab": {
     "base_uri": "https://localhost:8080/"
    },
    "id": "9HemXmS3EOF8",
    "outputId": "0b5447b5-b3f4-442f-9cbc-14084a360d4e"
   },
   "outputs": [],
   "source": [
    "##### Despachos, deferidos e indeferidos #####\n",
    "\n",
    "# Trazendo os dados \n",
    "dados_despacho = get_sissel_despachos('CONTRU')\n",
    "\n",
    "# Total despachos emitidos\n",
    "DADOS_CONTRU['B80'] = dados_despacho['despachos_mes_referencia']\n",
    "\n",
    "# Deferidos\n",
    "DADOS_CONTRU['B81'] = dados_despacho['deferidos_mes_referencia']\n",
    "\n",
    "# Indeferidos\n",
    "DADOS_CONTRU['B82'] = dados_despacho['indeferidos_mes_referencia']\n",
    "dados_despacho"
   ]
  },
  {
   "cell_type": "code",
   "execution_count": null,
   "metadata": {
    "colab": {
     "base_uri": "https://localhost:8080/"
    },
    "id": "Zdw9Ea-DEOF8",
    "outputId": "9c1b3889-c895-4884-bd66-c30c51ee6cac"
   },
   "outputs": [],
   "source": [
    "##### Processos comunicados ##### \n",
    "\n",
    "# Trazendo os dados\n",
    "dados_comun = get_sissel_comuniqueses('CONTRU')\n",
    "\n",
    "# Comunique-ses no mês de referência\n",
    "DADOS_CONTRU['B83'] = dados_comun['comuniq_mes_referencia']\n",
    "dados_comun"
   ]
  },
  {
   "cell_type": "code",
   "execution_count": null,
   "metadata": {
    "colab": {
     "base_uri": "https://localhost:8080/",
     "height": 53
    },
    "id": "MoSkFEKgEOF8",
    "outputId": "d5233f78-a840-429a-d021-e0e53fb980ad"
   },
   "outputs": [],
   "source": [
    "# Em desenvolvimento\n",
    "\"\"\"\n",
    "##### Processos autuados #####\n",
    "dados_aut = get_ad_autuados('RESID')\n",
    "\n",
    "# Autuados no mês de referência\n",
    "DADOS_RESID.update('B50', dados_aut['aut_mes_referencia'])\n",
    "dados_aut\n",
    "\"\"\""
   ]
  },
  {
   "cell_type": "markdown",
   "metadata": {
    "id": "TlmQAJ7wEOF8"
   },
   "source": [
    "##### Despachos por divisões"
   ]
  },
  {
   "cell_type": "code",
   "execution_count": null,
   "metadata": {
    "colab": {
     "base_uri": "https://localhost:8080/"
    },
    "id": "AlFlWYvuEOF9",
    "outputId": "28834c19-88f9-44ec-c041-a67406a3e188"
   },
   "outputs": [],
   "source": [
    "# Escrevendo os valores\n",
    "dados = get_sissel_divisoes('CONTRU')\n",
    "for n, i in enumerate(dados.keys()):\n",
    "    DADOS_CONTRU[f'B{n + 86}'] = int(dados[i])\n",
    "    print(dados[i])"
   ]
  },
  {
   "cell_type": "code",
   "execution_count": null,
   "metadata": {
    "colab": {
     "base_uri": "https://localhost:8080/"
    },
    "id": "7wXA84bYEOF9",
    "outputId": "71d3ec1e-d798-4a6a-8e0b-0d71f70dcfbc"
   },
   "outputs": [],
   "source": [
    "# Escrevendo os nomes das divisões\n",
    "last_line = 0\n",
    "\n",
    "for n, i in enumerate(get_sissel_divisao_list('CONTRU')):\n",
    "    DADOS_CONTRU[f'A{n + 86}'] = i\n",
    "    last_line = n + 86 + 1\n",
    "    print(i)\n",
    "\n",
    "if last_line < 92:\n",
    "    for i in range(92 - last_line):\n",
    "        DADOS_CONTRU[f'A{last_line + i}'] = \" \"\n",
    "        DADOS_CONTRU[f'B{last_line + i}'] = \" \""
   ]
  },
  {
   "cell_type": "markdown",
   "metadata": {
    "id": "VcWRzMZDEOF9"
   },
   "source": [
    "##### Comparativo mês anterior x mês atual"
   ]
  },
  {
   "cell_type": "code",
   "execution_count": null,
   "metadata": {
    "colab": {
     "base_uri": "https://localhost:8080/"
    },
    "id": "2XjA7udAEOF9",
    "outputId": "1eb68296-00ce-459e-8a7d-6e8fc5366d02"
   },
   "outputs": [],
   "source": [
    "# Escrevendo títulos\n",
    "DADOS_CONTRU['E78'] = f'Comparativo {mes_ant} - {mes_ref}'\n",
    "\n",
    "# Escrevendo mes corrente e passado\n",
    "DADOS_CONTRU['E84'] = mes_ant\n",
    "DADOS_CONTRU['F84'] = mes_ref\n",
    "print(mes_ant, mes_ref)"
   ]
  },
  {
   "cell_type": "code",
   "execution_count": null,
   "metadata": {
    "colab": {
     "base_uri": "https://localhost:8080/"
    },
    "id": "0j_vh51lEOF9",
    "outputId": "8cf83a98-c426-4afa-c20c-6984c7b6fb73"
   },
   "outputs": [],
   "source": [
    "# Total despachos\n",
    "DADOS_CONTRU['E80'] = dados_despacho['despachos_mes_anterior']\n",
    "DADOS_CONTRU['F80'] = dados_despacho['despachos_mes_referencia']\n",
    "\n",
    "# Deferidos\n",
    "DADOS_CONTRU['E81'] = dados_despacho['deferidos_mes_anterior']\n",
    "DADOS_CONTRU['F81'] = dados_despacho['deferidos_mes_referencia']\n",
    "\n",
    "# Indeferidos\n",
    "DADOS_CONTRU['E82'] = dados_despacho['indeferidos_mes_anterior']\n",
    "DADOS_CONTRU['F82'] = dados_despacho['indeferidos_mes_referencia']\n",
    "\n",
    "print(dados_despacho['despachos_mes_anterior'], dados_despacho['despachos_mes_referencia'])\n",
    "print(dados_despacho['deferidos_mes_anterior'], dados_despacho['deferidos_mes_referencia'])\n",
    "print(dados_despacho['indeferidos_mes_anterior'], dados_despacho['indeferidos_mes_referencia'])"
   ]
  },
  {
   "cell_type": "code",
   "execution_count": null,
   "metadata": {
    "colab": {
     "base_uri": "https://localhost:8080/"
    },
    "id": "uT2uWpPKEOF9",
    "outputId": "ab597740-ba58-41f6-f039-8b019f12a641"
   },
   "outputs": [],
   "source": [
    "# Comunique-ses\n",
    "DADOS_CONTRU['E83'] = dados_comun['comuniq_mes_anterior']\n",
    "DADOS_CONTRU['F83'] = dados_comun['comuniq_mes_referencia']"
   ]
  },
  {
   "cell_type": "markdown",
   "metadata": {
    "id": "Kqmho7ueEOF9"
   },
   "source": [
    "##### Ultimos 12 meses despachos"
   ]
  },
  {
   "cell_type": "code",
   "execution_count": null,
   "metadata": {
    "colab": {
     "base_uri": "https://localhost:8080/"
    },
    "id": "yzInFr_nEOF9",
    "outputId": "2792e64a-c35f-4d0f-957c-c537c540bd78"
   },
   "outputs": [],
   "source": [
    "dados = get_sissel_last_12_despachos('CONTRU')\n",
    "# Gerando os nomes das colunas de meses\n",
    "for n, index in enumerate(dados['despachos'].index):\n",
    "    mes_avrev = dict_mes_abrev[index.month]\n",
    "    DADOS_CONTRU[f'A{n + 95}'] = mes_avrev\n",
    "\n",
    "dados"
   ]
  },
  {
   "cell_type": "code",
   "execution_count": null,
   "metadata": {
    "id": "cfNRP22IEOF9"
   },
   "outputs": [],
   "source": [
    "# Gerando total de despachos\n",
    "for n, valor in enumerate(dados['despachos']):\n",
    "    DADOS_CONTRU[f'B{n + 95}'] = valor"
   ]
  },
  {
   "cell_type": "code",
   "execution_count": null,
   "metadata": {
    "id": "UFt5PQubEOF9"
   },
   "outputs": [],
   "source": [
    "# Gerando deferidos\n",
    "for n, valor in enumerate(dados['deferidos']):\n",
    "    DADOS_CONTRU[f'C{n + 95}'] = valor"
   ]
  },
  {
   "cell_type": "code",
   "execution_count": null,
   "metadata": {
    "id": "r9SEaPYfEOF9"
   },
   "outputs": [],
   "source": [
    "# Gerando indeferidos\n",
    "for n, valor in enumerate(dados['indeferidos']):\n",
    "    DADOS_CONTRU[f'D{n + 95}'] = valor"
   ]
  },
  {
   "cell_type": "markdown",
   "metadata": {
    "id": "m49s-V6xEOF9"
   },
   "source": [
    "##### Últimos 12 meses comunique-ses"
   ]
  },
  {
   "cell_type": "code",
   "execution_count": null,
   "metadata": {
    "id": "1QT5bi8gEOF9"
   },
   "outputs": [],
   "source": [
    "dados = get_sissel_last_12_comuniq('PARHIS')\n",
    "\n",
    "# Gerando total de Comunique-ses\n",
    "for n, valor in enumerate(dados):\n",
    "    DADOS_CONTRU[f'G{n + 95}'] = valor"
   ]
  },
  {
   "cell_type": "markdown",
   "metadata": {
    "id": "AV1twcBKEOF9"
   },
   "source": [
    "##### Últimos 12 meses autuados\n"
   ]
  },
  {
   "cell_type": "code",
   "execution_count": null,
   "metadata": {
    "colab": {
     "base_uri": "https://localhost:8080/",
     "height": 35
    },
    "id": "-1ggpKUGEOF-",
    "outputId": "ad463d11-14b5-43b2-f7c5-2886f91153aa"
   },
   "outputs": [],
   "source": [
    "# Em desenvolvimento\n",
    "\"\"\"\n",
    "dados = get_sissel_last_12_autuados('RESID')\n",
    "\n",
    "for n, valor in enumerate(dados):\n",
    "    DADOS_RESID.update(f'J{n + 95}', valor)\n",
    "\"\"\""
   ]
  },
  {
   "cell_type": "markdown",
   "metadata": {
    "id": "ewZWqbBjEOF-"
   },
   "source": [
    "##### Acumulado CONTRU"
   ]
  },
  {
   "cell_type": "code",
   "execution_count": null,
   "metadata": {
    "colab": {
     "base_uri": "https://localhost:8080/"
    },
    "id": "ZIBpVbokEOF-",
    "outputId": "cbcf62a1-aa17-4b8f-aded-00a777bd5b9d"
   },
   "outputs": [],
   "source": [
    "# Escrevendo os dados e os nomes das colunas\n",
    "dados = get_sissel_acumulado('CONTRU')\n",
    "\n",
    "last_line = 0\n",
    "\n",
    "for n, key in enumerate(dados.keys()):\n",
    "    DADOS_CONTRU[f'I{n + 79}'] = key\n",
    "    DADOS_CONTRU[f'J{n + 79}'] = dados[key]\n",
    "    last_line = n + 79 + 1\n",
    "\n",
    "if last_line < 92:\n",
    "    for i in range(92 - last_line):\n",
    "        DADOS_CONTRU[f'I{last_line + i}'] = \" \"\n",
    "        DADOS_CONTRU[f'J{last_line + i}'] = \" \"\n",
    "\n",
    "dados"
   ]
  },
  {
   "cell_type": "markdown",
   "metadata": {
    "id": "bJIXuXD2EOF-"
   },
   "source": [
    "##### Assuntos"
   ]
  },
  {
   "cell_type": "code",
   "execution_count": null,
   "metadata": {
    "colab": {
     "base_uri": "https://localhost:8080/"
    },
    "id": "ZGQ7BmJCEOF-",
    "outputId": "221b4398-6003-4b97-c414-88e79bbca852"
   },
   "outputs": [],
   "source": [
    "dados = get_sissel_assuntos('CONTRU')\n",
    "last_line = 0 \n",
    "# Inserindo dados de assuntos\n",
    "for n, index in enumerate(dados.index):\n",
    "    DADOS_CONTRU[f'L{n + 82}'] = index\n",
    "    DADOS_CONTRU[f'M{n + 82}'] = int(dados.at[index])\n",
    "    last_line = n + 82 + 1\n",
    "\n",
    "for i in range(100 - last_line):\n",
    "    DADOS_CONTRU[f'L{last_line + i}'] = \" \"\n",
    "    DADOS_CONTRU[f'M{last_line + i}'] = \" \"\n",
    "dados"
   ]
  },
  {
   "cell_type": "markdown",
   "metadata": {
    "id": "1dBEDpm9EOF-"
   },
   "source": [
    "##### Categorias de Uso * EM DESENVOLVIMENTO"
   ]
  },
  {
   "cell_type": "code",
   "execution_count": null,
   "metadata": {
    "id": "lRHMDLIDEOF-"
   },
   "outputs": [],
   "source": [
    "# teste"
   ]
  },
  {
   "cell_type": "markdown",
   "metadata": {
    "id": "KQ6VArGU0Z14",
    "tags": []
   },
   "source": [
    "### **8.7 Gravando dados para o Portal**"
   ]
  },
  {
   "cell_type": "markdown",
   "metadata": {
    "id": "LBG4X_S1PKRG",
    "tags": []
   },
   "source": [
    "#### 8.6.1 Mês Referência - Portal"
   ]
  },
  {
   "cell_type": "markdown",
   "metadata": {
    "id": "f59sfbg_PKRH"
   },
   "source": [
    "<p align='justify'> Calcula e grava qual mês de referência usado para a geração do relatorio. No caso o mês de referência sempre será o mês anterior ao do atual no momento em que o script é rodados, ou o ultimo mês \"cheio\", em que é possível obter informações completas. Futuramente será adcionada funcionalidade que permitirá que o mês referência possa ser selecionado manualmente.</p>"
   ]
  },
  {
   "cell_type": "code",
   "execution_count": null,
   "metadata": {
    "id": "EtUqsfOqPKRI"
   },
   "outputs": [],
   "source": [
    "# Mês referência\n",
    "mes_ref = mes(data_referencia)\n",
    "ano_ref = ano(data_referencia)\n",
    "\n",
    "# Mês anterior\n",
    "mes_ant = mes(data_anterior)"
   ]
  },
  {
   "cell_type": "code",
   "execution_count": null,
   "metadata": {
    "colab": {
     "base_uri": "https://localhost:8080/"
    },
    "id": "21761DSCPKRJ",
    "outputId": "4fa9093c-a4ec-4abb-a46e-683f217726b9"
   },
   "outputs": [],
   "source": [
    "# Escrevendo dados de referência\n",
    "DADOS_GTEC['C1'] = str(f'GTEC - {mes_ref} de {ano_ref}')\n",
    "DADOS_GTEC['C2'] = str(f'Resumo {mes_ref} de {ano_ref}')\n",
    "DADOS_GTEC['C3'] = str(f'Comunique-ses emitidos em {mes_ref}')\n",
    "DADOS_GTEC['C4'] = str(f'Deferimentos por assunto em {mes_ref}')"
   ]
  },
  {
   "cell_type": "markdown",
   "metadata": {
    "id": "wOFH5ZowPKRK",
    "tags": []
   },
   "source": [
    "#### 8.6.2 Dados Portal do Licenciamento - GTEC"
   ]
  },
  {
   "cell_type": "markdown",
   "metadata": {
    "id": "xZw4QQ05PKRK"
   },
   "source": [
    "##### Quadro resumo"
   ]
  },
  {
   "cell_type": "code",
   "execution_count": null,
   "metadata": {
    "colab": {
     "base_uri": "https://localhost:8080/"
    },
    "id": "3zowd3eaPKRK",
    "outputId": "b50b0ba5-e7b1-4c41-877f-feeac2c65dd6"
   },
   "outputs": [],
   "source": [
    "##### Despachos, deferidos e indeferidos #####\n",
    "\n",
    "# Trazendo os dados - Para o SLCe os dados de GTEC estão como GTEL\n",
    "dados_despacho = get_portal_despachos('GTEC')\n",
    "\n",
    "# Total despachos emitidos\n",
    "DADOS_GTEC['B5'] = dados_despacho['despachos_mes_referencia']\n",
    "\n",
    "# Deferidos\n",
    "DADOS_GTEC['B6'] = dados_despacho['deferidos_mes_referencia']\n",
    "\n",
    "# Indeferidos\n",
    "DADOS_GTEC['B7'] = dados_despacho['indeferidos_mes_referencia']\n",
    "\n",
    "dados_despacho"
   ]
  },
  {
   "cell_type": "code",
   "execution_count": null,
   "metadata": {
    "colab": {
     "base_uri": "https://localhost:8080/"
    },
    "id": "QdAlGiMrPKRL",
    "outputId": "5a16e5d2-01de-43d1-be22-e08df2ff021b"
   },
   "outputs": [],
   "source": [
    "##### Processos comunicados ##### \n",
    "\n",
    "# Trazendo os dados - Para o SLCe os dados de GTEC estão como GTEL\n",
    "dados_comun = get_portal_comuniqueses('GTEC')\n",
    "\n",
    "# Comunique-ses no mês de referência\n",
    "DADOS_GTEC['B8'] = dados_comun['comuniq_mes_referencia']\n",
    "dados_comun"
   ]
  },
  {
   "cell_type": "code",
   "execution_count": null,
   "metadata": {
    "colab": {
     "base_uri": "https://localhost:8080/"
    },
    "id": "kfAbIJT2PKRM",
    "outputId": "cad7074b-8173-434a-8e30-8807a2a3204c"
   },
   "outputs": [],
   "source": [
    "##### Processos autuados #####\n",
    "dados_aut = get_portal_autuados()\n",
    "\n",
    "# Autuados no mês de referência\n",
    "DADOS_GTEC['B9'] = str(dados_aut['aut_mes_referencia'])\n",
    "dados_aut"
   ]
  },
  {
   "cell_type": "markdown",
   "metadata": {
    "id": "jXRLl2yhPKRP"
   },
   "source": [
    "##### Comparativo mês anterior x mês atual"
   ]
  },
  {
   "cell_type": "code",
   "execution_count": null,
   "metadata": {
    "colab": {
     "base_uri": "https://localhost:8080/"
    },
    "id": "j0acII0tPKRP",
    "outputId": "f18c5b02-0b74-4937-d1b9-104ae0d252df"
   },
   "outputs": [],
   "source": [
    "# Escrevendo títulos\n",
    "DADOS_GTEC['E2'] = f'Comparativo {mes_ant} - {mes_ref}'\n",
    "\n",
    "# Escrevendo mes corrente e passado\n",
    "DADOS_GTEC['E11'] = mes_ant\n",
    "DADOS_GTEC['F11'] = mes_ref\n",
    "print(mes_ant, mes_ref)"
   ]
  },
  {
   "cell_type": "code",
   "execution_count": null,
   "metadata": {
    "colab": {
     "base_uri": "https://localhost:8080/"
    },
    "id": "gNU9E-rdPKRQ",
    "outputId": "76640466-8952-4967-8820-614cce3c1400"
   },
   "outputs": [],
   "source": [
    "# Total despachos\n",
    "DADOS_GTEC['E5'] = dados_despacho['despachos_mes_anterior']\n",
    "DADOS_GTEC['F5'] = dados_despacho['despachos_mes_referencia']\n",
    "\n",
    "# Deferidos\n",
    "DADOS_GTEC['E6'] = dados_despacho['deferidos_mes_anterior']\n",
    "DADOS_GTEC['F6'] = dados_despacho['deferidos_mes_referencia']\n",
    "\n",
    "# Indeferidos\n",
    "DADOS_GTEC['E7'] = dados_despacho['indeferidos_mes_anterior']\n",
    "DADOS_GTEC['F7'] = dados_despacho['indeferidos_mes_referencia']\n",
    "\n",
    "print(dados_despacho['despachos_mes_anterior'], dados_despacho['despachos_mes_referencia'])\n",
    "print(dados_despacho['deferidos_mes_anterior'], dados_despacho['deferidos_mes_referencia'])\n",
    "print(dados_despacho['indeferidos_mes_anterior'], dados_despacho['indeferidos_mes_referencia'])"
   ]
  },
  {
   "cell_type": "code",
   "execution_count": null,
   "metadata": {
    "colab": {
     "base_uri": "https://localhost:8080/"
    },
    "id": "cpQFvUrGPKRQ",
    "outputId": "2b83e7dc-c316-4428-dae7-843bab35a1bf"
   },
   "outputs": [],
   "source": [
    "# Comunique-ses\n",
    "DADOS_CONTRU['E8'] = dados_comun['comuniq_mes_anterior']\n",
    "DADOS_CONTRU['F8'] = dados_comun['comuniq_mes_referencia']"
   ]
  },
  {
   "cell_type": "code",
   "execution_count": null,
   "metadata": {},
   "outputs": [],
   "source": [
    "# Comunique-ses\n",
    "DADOS_GTEC['E8'] = dados_comun['comuniq_mes_anterior']\n",
    "DADOS_GTEC['F8'] = dados_comun['comuniq_mes_referencia']"
   ]
  },
  {
   "cell_type": "markdown",
   "metadata": {
    "id": "7NI6StPYPKRR"
   },
   "source": [
    "##### Ultimos 12 meses despachos"
   ]
  },
  {
   "cell_type": "code",
   "execution_count": null,
   "metadata": {
    "colab": {
     "base_uri": "https://localhost:8080/"
    },
    "id": "7ga23icfPKRR",
    "outputId": "4704684d-78be-4bae-e933-18b39a3100e5"
   },
   "outputs": [],
   "source": [
    "dados = get_portal_last_12_despachos('GTEC')\n",
    "# Gerando os nomes das colunas de meses\n",
    "for n, index in enumerate(dados['despachos'].index):\n",
    "    mes_avrev = dict_mes_abrev[index.month]\n",
    "    DADOS_GTEC[f'A{n + 20}'] = mes_avrev\n",
    "\n",
    "dados"
   ]
  },
  {
   "cell_type": "code",
   "execution_count": null,
   "metadata": {
    "id": "cXRLzvoRPKRS"
   },
   "outputs": [],
   "source": [
    "# Gerando total de despachos\n",
    "for n, valor in enumerate(dados['despachos']):\n",
    "    DADOS_GTEC[f'B{n + 20}'] = valor"
   ]
  },
  {
   "cell_type": "code",
   "execution_count": null,
   "metadata": {
    "id": "GAcaEfiIPKRS"
   },
   "outputs": [],
   "source": [
    "# Gerando deferidos\n",
    "for n, valor in enumerate(dados['deferidos']):\n",
    "    DADOS_GTEC[f'C{n + 20}'] = valor"
   ]
  },
  {
   "cell_type": "code",
   "execution_count": null,
   "metadata": {
    "id": "r3HZ5CPzPKRS"
   },
   "outputs": [],
   "source": [
    "# Gerando indeferidos\n",
    "for n, valor in enumerate(dados['indeferidos']):\n",
    "    DADOS_GTEC[f'D{n + 20}'] = valor"
   ]
  },
  {
   "cell_type": "markdown",
   "metadata": {
    "id": "4Z3Lkkf_PKRS"
   },
   "source": [
    "##### Últimos 12 meses comunique-ses"
   ]
  },
  {
   "cell_type": "code",
   "execution_count": null,
   "metadata": {
    "id": "06G80OVNPKRT"
   },
   "outputs": [],
   "source": [
    "dados = get_portal_last_12_comuniq('GTEC')\n",
    "\n",
    "# Gerando total de Comunique-ses\n",
    "for n, valor in enumerate(dados):\n",
    "    DADOS_GTEC[f'G{n + 20}'] = valor"
   ]
  },
  {
   "cell_type": "markdown",
   "metadata": {
    "id": "fkPFGKQwPKRT"
   },
   "source": [
    "##### Últimos 12 meses autuados\n"
   ]
  },
  {
   "cell_type": "code",
   "execution_count": null,
   "metadata": {
    "id": "Ze5bWA9WPKRT"
   },
   "outputs": [],
   "source": [
    "dados = get_portal_last_12_autuados()\n",
    "\n",
    "for n, valor in enumerate(dados):\n",
    "    DADOS_GTEC[f'J{n + 20}'] = valor"
   ]
  },
  {
   "cell_type": "markdown",
   "metadata": {
    "id": "pjoflU0yPKRU"
   },
   "source": [
    "##### Acumulado CONTRU"
   ]
  },
  {
   "cell_type": "code",
   "execution_count": null,
   "metadata": {
    "colab": {
     "base_uri": "https://localhost:8080/"
    },
    "id": "djjTYbZCPKRU",
    "outputId": "4ecd6dc8-f2c9-4758-926c-0ffd62eacbe4"
   },
   "outputs": [],
   "source": [
    "# Escrevendo os dados e os nomes das colunas\n",
    "dados = get_portal_acumulado('GTEC')\n",
    "\n",
    "last_line = 0\n",
    "\n",
    "for n, key in enumerate(dados.keys()):\n",
    "    DADOS_GTEC[f'I{n + 3}'] = key\n",
    "    DADOS_GTEC[f'J{n + 3}'] = str(dados[key])\n",
    "    last_line = n + 17 + 1\n",
    "\n",
    "if last_line < 17:\n",
    "    for i in range(17 - last_line):\n",
    "        DADOS_GTEC[f'I{last_line + i}'] = \" \"\n",
    "        DADOS_GTEC[f'J{last_line + i}'] = \" \"\n",
    "\n",
    "dados"
   ]
  },
  {
   "cell_type": "code",
   "execution_count": null,
   "metadata": {},
   "outputs": [],
   "source": []
  }
 ],
 "metadata": {
  "colab": {
   "collapsed_sections": [
    "5NENVjw5q33E",
    "jjGWaP7LssAc",
    "Pnnkm5Bq9713",
    "OijA1eNsV3dg",
    "31aM81NmRA2_",
    "DyZ0BsfIXYkW",
    "aKm_oXEzY0rv",
    "rbCmEEbSDrMu",
    "inblbEylaFeB",
    "M3zQt1hMtS-D",
    "u7C3coHZmd9t",
    "7Hz6y23Z4d_4",
    "ZtM4a7kXglxz",
    "Z7vrBVQQCEAz",
    "WerNBSgZwCy4",
    "ICecoDHvm1SG",
    "lU9RNDuxA5H0",
    "fxLcl1gHaeCT",
    "3hfRImjDAAgj",
    "w1ZvxAk6aqhb",
    "rPrFm1PU4ojf",
    "jDFjDe8JBJtR",
    "Qx3wdL4iDs8w",
    "UOHgdJqEsbUp",
    "0wDe2DXmszbz",
    "PoDw1DpBs7j4",
    "xSN2uZZWtH7Z",
    "SEsdK4fRtE-R",
    "62DPzaJb9kLq",
    "ud27I7d40j-Z",
    "ynxcgzuD7FVx",
    "DRTNNpwhZsJy",
    "ubFpfjoZZ2G8",
    "YfIcWkEvlOHh",
    "4o6_cp4BlVEy",
    "VcuhHiwLlZrq",
    "oYAWaZsJljSK",
    "MyTrBcpOg_tO",
    "gicUsSkj7pLh",
    "nefVoC7U8mg6",
    "uenPvs1vlHGJ",
    "6B0XtFYxgtvm",
    "-_mNGHPHBpjg",
    "tO5xQ-jgis3I",
    "soHKEC_f5cZz",
    "B0ct0WPF_xkb",
    "-S30LiCyDOlQ",
    "D1qk1PnkDnNw",
    "s7qCndToDfjC",
    "Cvvw8PdkDjnA",
    "8kv7AKUtz4Pz",
    "PYCBd97P8-4J",
    "LAO3FqB4xjPi",
    "VpmZFj7lvNCo",
    "UVQ2GRsSDbE6",
    "LIiVUeozDg3H",
    "cZzHPNpDDUVh",
    "YPYlHqFWEGvE",
    "qtkXR5zECzOo",
    "T_rZVafE0d0w",
    "cUiR4XMh0d06",
    "Yjr4hF6J0d08",
    "X8u-IEbY0d0_",
    "q0SlO5f10d1A",
    "hJffzpi50d1B",
    "oj26lX660d1C",
    "5aY9bmPQ0d1C",
    "HkBPSXry0d1D",
    "jAFK4eHE0d1D",
    "47pr_lbR0d1F",
    "0YRlo68M0d1K",
    "8jtZlFLk0d1K",
    "oa7_dXod0d1K",
    "6oeR_-Sy0d1L",
    "iWTHMHQP7j1W",
    "RJNnL8Mp7j1W",
    "5OExdFkJ7j1d"
   ],
   "provenance": []
  },
  "kernelspec": {
   "display_name": "Python 3 (ipykernel)",
   "language": "python",
   "name": "python3"
  },
  "language_info": {
   "codemirror_mode": {
    "name": "ipython",
    "version": 3
   },
   "file_extension": ".py",
   "mimetype": "text/x-python",
   "name": "python",
   "nbconvert_exporter": "python",
   "pygments_lexer": "ipython3",
   "version": "3.10.13"
  }
 },
 "nbformat": 4,
 "nbformat_minor": 4
}
