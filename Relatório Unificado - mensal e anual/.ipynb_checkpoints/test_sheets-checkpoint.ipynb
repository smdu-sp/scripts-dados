{
 "cells": [
  {
   "cell_type": "code",
   "execution_count": 3,
   "id": "a2084b98-62bc-4cc7-bf69-463c8f812276",
   "metadata": {},
   "outputs": [
    {
     "name": "stdout",
     "output_type": "stream",
     "text": [
      "Please visit this URL to authorize this application: https://accounts.google.com/o/oauth2/auth?response_type=code&client_id=895644401061-grpl00ebok624ls7lplanem6752sgi64.apps.googleusercontent.com&redirect_uri=http%3A%2F%2Flocalhost%3A8080%2F&scope=https%3A%2F%2Fwww.googleapis.com%2Fauth%2Fspreadsheets&state=ozsTs28hCBiMWlff9Hot4djsLTi8mz&access_type=offline\n",
      "Please visit this URL to authorize this application: https://accounts.google.com/o/oauth2/auth?response_type=code&client_id=895644401061-grpl00ebok624ls7lplanem6752sgi64.apps.googleusercontent.com&redirect_uri=http%3A%2F%2Flocalhost%3A8080%2F&scope=https%3A%2F%2Fwww.googleapis.com%2Fauth%2Fdrive&state=g2MtRpU3cVCtAZnPN0gl7dpHVPCM2u&access_type=offline\n"
     ]
    }
   ],
   "source": [
    "import ezsheets"
   ]
  },
  {
   "cell_type": "code",
   "execution_count": 4,
   "id": "342d16ed-337c-4b34-8b11-eb60a0762178",
   "metadata": {},
   "outputs": [
    {
     "name": "stdout",
     "output_type": "stream",
     "text": [
      "Please visit this URL to authorize this application: https://accounts.google.com/o/oauth2/auth?response_type=code&client_id=895644401061-grpl00ebok624ls7lplanem6752sgi64.apps.googleusercontent.com&redirect_uri=http%3A%2F%2Flocalhost%3A8080%2F&scope=https%3A%2F%2Fwww.googleapis.com%2Fauth%2Fdrive&state=HPwX8kwTZ0TyTk17l6SIkaRwmUuTlt&access_type=offline\n"
     ]
    },
    {
     "data": {
      "text/plain": [
       "Spreadsheet(spreadsheetId='14Vh8KdIMnAlHQQACdU73y46C6-1nbfTIzVrUpDwtozk')"
      ]
     },
     "execution_count": 4,
     "metadata": {},
     "output_type": "execute_result"
    }
   ],
   "source": [
    "ss = ezsheets.Spreadsheet('14Vh8KdIMnAlHQQACdU73y46C6-1nbfTIzVrUpDwtozk')\n",
    "ss"
   ]
  },
  {
   "cell_type": "code",
   "execution_count": 5,
   "id": "999c12de-b702-40ae-a393-0d9f697b909b",
   "metadata": {},
   "outputs": [
    {
     "data": {
      "text/plain": [
       "Spreadsheet(spreadsheetId='14Vh8KdIMnAlHQQACdU73y46C6-1nbfTIzVrUpDwtozk')"
      ]
     },
     "execution_count": 5,
     "metadata": {},
     "output_type": "execute_result"
    }
   ],
   "source": [
    "ss"
   ]
  },
  {
   "cell_type": "code",
   "execution_count": 6,
   "id": "54640b56-47f8-4956-a812-b7664eeeca3c",
   "metadata": {},
   "outputs": [
    {
     "data": {
      "text/plain": [
       "'relatorio_unificado'"
      ]
     },
     "execution_count": 6,
     "metadata": {},
     "output_type": "execute_result"
    }
   ],
   "source": [
    "ss.title"
   ]
  },
  {
   "cell_type": "code",
   "execution_count": 7,
   "id": "56cddd84-33d7-4d6a-903c-a3f28119b21d",
   "metadata": {},
   "outputs": [
    {
     "data": {
      "text/plain": [
       "(<Sheet sheetId=0, title='RESID', rowCount=1136, columnCount=25>,\n",
       " <Sheet sheetId=1668860588, title='dados_resid', rowCount=1015, columnCount=26>,\n",
       " <Sheet sheetId=659338294, title='COMIN', rowCount=1136, columnCount=25>,\n",
       " <Sheet sheetId=336590157, title='dados_comin', rowCount=1015, columnCount=26>,\n",
       " <Sheet sheetId=1038291008, title='SERVIN', rowCount=1036, columnCount=25>,\n",
       " <Sheet sheetId=930950155, title='dados_servin', rowCount=1015, columnCount=26>,\n",
       " <Sheet sheetId=293123553, title='PARHIS', rowCount=1039, columnCount=25>,\n",
       " <Sheet sheetId=318710386, title='dados_parhis', rowCount=1015, columnCount=26>,\n",
       " <Sheet sheetId=1461934880, title='CONTRU', rowCount=1050, columnCount=25>,\n",
       " <Sheet sheetId=1425404180, title='dados_contru', rowCount=1015, columnCount=26>,\n",
       " <Sheet sheetId=276176169, title='tabelão', rowCount=1000, columnCount=17>)"
      ]
     },
     "execution_count": 7,
     "metadata": {},
     "output_type": "execute_result"
    }
   ],
   "source": [
    "ss.sheets"
   ]
  },
  {
   "cell_type": "code",
   "execution_count": 8,
   "id": "369bd0e1-f968-49d5-8e56-2be255ec73b0",
   "metadata": {},
   "outputs": [],
   "source": [
    "resid = ss['dados_resid']"
   ]
  },
  {
   "cell_type": "code",
   "execution_count": 10,
   "id": "e4d103cb-f11e-4f5a-8ea7-e0139a9d1941",
   "metadata": {},
   "outputs": [],
   "source": [
    "resid['B1'] = 'teste'"
   ]
  },
  {
   "cell_type": "code",
   "execution_count": null,
   "id": "c688c18d-6c31-4cee-b02d-5ba7f2af8b0b",
   "metadata": {},
   "outputs": [],
   "source": [
    "# uhul"
   ]
  }
 ],
 "metadata": {
  "kernelspec": {
   "display_name": "Python 3 (ipykernel)",
   "language": "python",
   "name": "python3"
  },
  "language_info": {
   "codemirror_mode": {
    "name": "ipython",
    "version": 3
   },
   "file_extension": ".py",
   "mimetype": "text/x-python",
   "name": "python",
   "nbconvert_exporter": "python",
   "pygments_lexer": "ipython3",
   "version": "3.10.11"
  }
 },
 "nbformat": 4,
 "nbformat_minor": 5
}
