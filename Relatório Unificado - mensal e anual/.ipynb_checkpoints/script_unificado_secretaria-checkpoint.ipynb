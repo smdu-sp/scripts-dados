{
 "cells": [
  {
   "cell_type": "markdown",
   "id": "2e8c56d3-9643-49b7-a27c-50193cd53f2f",
   "metadata": {},
   "source": [
    "# <center>Script base - relatório unificado"
   ]
  },
  {
   "cell_type": "markdown",
   "id": "ae42459a-1859-4dcf-8e9b-1baede38257c",
   "metadata": {
    "jp-MarkdownHeadingCollapsed": true,
    "tags": []
   },
   "source": [
    "## Importações"
   ]
  },
  {
   "cell_type": "code",
   "execution_count": 1,
   "id": "1da831fc-1c2e-4f31-8183-7153edb4c9a0",
   "metadata": {
    "tags": []
   },
   "outputs": [],
   "source": [
    "# Importando as bibliotecas utilizadas\n",
    "import os # trabalhar com arquivos e diretórios\n",
    "import pandas as pd  # daframes\n",
    "import numpy as np  # operações com dataframes\n",
    "import copy  # copiar um dataframe mudando a alocação na memória\n",
    "import json  # gerar/importar arquivos com informações entre os scripts\n",
    "from datetime import datetime, timedelta\n",
    "import copy\n",
    "\n",
    "import matplotlib.pyplot as plt"
   ]
  },
  {
   "cell_type": "code",
   "execution_count": 2,
   "id": "260c7c25-0029-4530-96fa-e59fdc26569a",
   "metadata": {
    "tags": []
   },
   "outputs": [
    {
     "name": "stdout",
     "output_type": "stream",
     "text": [
      "c:\\Users\\d850398\\Documents\\GitHub\\relatorio_unificado\n",
      "c:\\Users\\d850398\\Documents\\GitHub\\relatorio_unificado\\dat_clean\n",
      "c:\\Users\\d850398\\Documents\\GitHub\\relatorio_unificado\\dat_raw\n"
     ]
    }
   ],
   "source": [
    "# Absolute path para o diretório atual\n",
    "dir_atual = os.getcwd()\n",
    "# Absolute path para o diretório irmão onde os arquivos serão lidos\n",
    "dir_cleaned_data = os.path.abspath(os.path.join(dir_atual, 'dat_clean'))\n",
    "dir_raw_data = os.path.abspath(os.path.join(dir_atual, 'dat_raw'))\n",
    "print(dir_atual)\n",
    "print(dir_cleaned_data)\n",
    "print(dir_raw_data)"
   ]
  },
  {
   "cell_type": "code",
   "execution_count": 3,
   "id": "8fce0c5a-778b-4d9f-b458-77153f1e1a06",
   "metadata": {
    "tags": []
   },
   "outputs": [
    {
     "name": "stdout",
     "output_type": "stream",
     "text": [
      ".~lock.sissel_comuniqueses.csv#\n",
      ".~lock.sissel_despachos.csv#\n",
      "ad_comuniqueses.csv\n",
      "ad_despachos.csv\n",
      "ad_principal.csv\n",
      "portal_comuniqueses.csv\n",
      "portal_despachos.csv\n",
      "sissel_comuniqueses.csv\n",
      "sissel_despachos.csv\n",
      "slce_comuniqueses.csv\n",
      "slce_despachos.csv\n",
      "slce_principal.csv\n"
     ]
    }
   ],
   "source": [
    "# Teste - deve retornar informações sobre uma das tabelas csv do repositório\n",
    "for file in os.listdir('dat_clean'):\n",
    "    print(file)"
   ]
  },
  {
   "cell_type": "markdown",
   "id": "b0d1362c-e23c-40cb-9b8e-07559a2f26ac",
   "metadata": {
    "tags": []
   },
   "source": [
    "## Leitura dos dados"
   ]
  },
  {
   "cell_type": "markdown",
   "id": "1d7839dd-d03d-4e9f-bd8d-d4e612bfbd76",
   "metadata": {
    "tags": []
   },
   "source": [
    "### Aprova Digital"
   ]
  },
  {
   "cell_type": "code",
   "execution_count": 4,
   "id": "0146dd74-b79a-4f0c-aaef-9ae1df920d7c",
   "metadata": {
    "tags": []
   },
   "outputs": [
    {
     "name": "stdout",
     "output_type": "stream",
     "text": [
      "<class 'pandas.core.frame.DataFrame'>\n",
      "RangeIndex: 31561 entries, 0 to 31560\n",
      "Data columns (total 6 columns):\n",
      " #   Column         Non-Null Count  Dtype \n",
      "---  ------         --------------  ----- \n",
      " 0   n_processo     31561 non-null  object\n",
      " 1   data_autuacao  31552 non-null  object\n",
      " 2   assunto        31561 non-null  object\n",
      " 3   coord_atual    31561 non-null  object\n",
      " 4   status         31561 non-null  object\n",
      " 5   data_extracao  31561 non-null  object\n",
      "dtypes: object(6)\n",
      "memory usage: 1.4+ MB\n"
     ]
    }
   ],
   "source": [
    "# Tabela de processos\n",
    "ad_main = pd.read_csv(f'{dir_cleaned_data}/ad_principal.csv', encoding='latin-1', sep=';')\n",
    "ad_main.info()"
   ]
  },
  {
   "cell_type": "code",
   "execution_count": 5,
   "id": "617a7eab-2c36-4155-8a74-ad16b2adcd14",
   "metadata": {
    "tags": []
   },
   "outputs": [
    {
     "name": "stdout",
     "output_type": "stream",
     "text": [
      "<class 'pandas.core.frame.DataFrame'>\n",
      "RangeIndex: 21633 entries, 0 to 21632\n",
      "Data columns (total 9 columns):\n",
      " #   Column          Non-Null Count  Dtype \n",
      "---  ------          --------------  ----- \n",
      " 0   n_processo      21633 non-null  object\n",
      " 1   assunto         21633 non-null  object\n",
      " 2   despacho        21633 non-null  object\n",
      " 3   data_despacho   21633 non-null  object\n",
      " 4   coord_despacho  15891 non-null  object\n",
      " 5   quem_despachou  21633 non-null  object\n",
      " 6   data_extracao   21633 non-null  object\n",
      " 7   coord           15891 non-null  object\n",
      " 8   divisao         15891 non-null  object\n",
      "dtypes: object(9)\n",
      "memory usage: 1.5+ MB\n"
     ]
    }
   ],
   "source": [
    "# Tabela de despachos\n",
    "ad_despachos = pd.read_csv(f'{dir_cleaned_data}/ad_despachos.csv', encoding='latin-1', sep=';')\n",
    "ad_despachos.info()"
   ]
  },
  {
   "cell_type": "code",
   "execution_count": 6,
   "id": "7d411a45-88cf-4c6b-96bd-217130c1ee91",
   "metadata": {
    "tags": []
   },
   "outputs": [
    {
     "name": "stdout",
     "output_type": "stream",
     "text": [
      "<class 'pandas.core.frame.DataFrame'>\n",
      "RangeIndex: 28815 entries, 0 to 28814\n",
      "Data columns (total 5 columns):\n",
      " #   Column             Non-Null Count  Dtype \n",
      "---  ------             --------------  ----- \n",
      " 0   n_processo         28815 non-null  object\n",
      " 1   data_comuniquese   28815 non-null  object\n",
      " 2   coord_comuniquese  27731 non-null  object\n",
      " 3   quem_comunicou     28815 non-null  object\n",
      " 4   coord              26322 non-null  object\n",
      "dtypes: object(5)\n",
      "memory usage: 1.1+ MB\n"
     ]
    }
   ],
   "source": [
    "# Tabela de comuniqueses\n",
    "ad_comuniqueses = pd.read_csv(f'{dir_cleaned_data}/ad_comuniqueses.csv', encoding='latin-1', sep=';')\n",
    "ad_comuniqueses.info()"
   ]
  },
  {
   "cell_type": "code",
   "execution_count": 7,
   "id": "c5567faf-be6e-4dc7-a0fc-b939f17cebc7",
   "metadata": {
    "tags": []
   },
   "outputs": [],
   "source": [
    "# Processamento extra - ADICIONAR NO ARQUIVO DE LIMPEZA\n",
    "# Criando colunas para valores de coordenadoria e divisão\n",
    "ad_despachos['coord'] = ad_despachos['coord_despacho'].apply(lambda x: str(x).split('/')[1] if '/' in str(x) else None)\n",
    "ad_despachos['divisao'] = ad_despachos['coord_despacho'].apply(lambda x: str(x).split('/')[-1] if '/' in str(x) else None)\n",
    "ad_comuniqueses['coord'] = ad_comuniqueses['coord_comuniquese'].apply(lambda x: str(x).split('/')[1] if '/' in str(x) else None)"
   ]
  },
  {
   "cell_type": "code",
   "execution_count": 8,
   "id": "afd5b9b7-38a0-4044-9fcc-76d9be5a8901",
   "metadata": {
    "tags": []
   },
   "outputs": [
    {
     "data": {
      "text/html": [
       "<div>\n",
       "<style scoped>\n",
       "    .dataframe tbody tr th:only-of-type {\n",
       "        vertical-align: middle;\n",
       "    }\n",
       "\n",
       "    .dataframe tbody tr th {\n",
       "        vertical-align: top;\n",
       "    }\n",
       "\n",
       "    .dataframe thead th {\n",
       "        text-align: right;\n",
       "    }\n",
       "</style>\n",
       "<table border=\"1\" class=\"dataframe\">\n",
       "  <thead>\n",
       "    <tr style=\"text-align: right;\">\n",
       "      <th></th>\n",
       "      <th>n_processo</th>\n",
       "      <th>assunto</th>\n",
       "      <th>despacho</th>\n",
       "      <th>data_despacho</th>\n",
       "      <th>coord_despacho</th>\n",
       "      <th>quem_despachou</th>\n",
       "      <th>data_extracao</th>\n",
       "      <th>coord</th>\n",
       "      <th>divisao</th>\n",
       "      <th>coor_despacho</th>\n",
       "    </tr>\n",
       "  </thead>\n",
       "  <tbody>\n",
       "    <tr>\n",
       "      <th>21631</th>\n",
       "      <td>1020.2024/0004875-3</td>\n",
       "      <td>Alvará de Autorização de Avanço do Tapume Sobr...</td>\n",
       "      <td>Processo Deferido</td>\n",
       "      <td>29/02/2024 09:41:13</td>\n",
       "      <td>NaN</td>\n",
       "      <td>Desconhecido/Evento Automático</td>\n",
       "      <td>2024.03.04</td>\n",
       "      <td>None</td>\n",
       "      <td>None</td>\n",
       "      <td>NaN</td>\n",
       "    </tr>\n",
       "    <tr>\n",
       "      <th>21632</th>\n",
       "      <td>1020.2024/0004767-6</td>\n",
       "      <td>Certificado de Conclusão</td>\n",
       "      <td>Processo Deferido</td>\n",
       "      <td>01/03/2024 20:19:43</td>\n",
       "      <td>SMUL/PARHIS/DHIS</td>\n",
       "      <td>Renaldo Silva de Moura</td>\n",
       "      <td>2024.03.04</td>\n",
       "      <td>PARHIS</td>\n",
       "      <td>DHIS</td>\n",
       "      <td>NaN</td>\n",
       "    </tr>\n",
       "    <tr>\n",
       "      <th>21633</th>\n",
       "      <td>None</td>\n",
       "      <td>None</td>\n",
       "      <td>Processo Deferido</td>\n",
       "      <td>07/12/2018 20:18:43</td>\n",
       "      <td>NaN</td>\n",
       "      <td>None</td>\n",
       "      <td>None</td>\n",
       "      <td>CAEPP</td>\n",
       "      <td>CAEPP</td>\n",
       "      <td>None</td>\n",
       "    </tr>\n",
       "    <tr>\n",
       "      <th>21634</th>\n",
       "      <td>None</td>\n",
       "      <td>None</td>\n",
       "      <td>Processo Indeferido</td>\n",
       "      <td>07/12/2018 20:19:43</td>\n",
       "      <td>NaN</td>\n",
       "      <td>None</td>\n",
       "      <td>None</td>\n",
       "      <td>CAEPP</td>\n",
       "      <td>CAEPP</td>\n",
       "      <td>None</td>\n",
       "    </tr>\n",
       "    <tr>\n",
       "      <th>21635</th>\n",
       "      <td>None</td>\n",
       "      <td>None</td>\n",
       "      <td>Processo Indeferido e Encerrado</td>\n",
       "      <td>06/03/2024 09:48:21</td>\n",
       "      <td>NaN</td>\n",
       "      <td>None</td>\n",
       "      <td>None</td>\n",
       "      <td>CAEPP</td>\n",
       "      <td>COMIN</td>\n",
       "      <td>None</td>\n",
       "    </tr>\n",
       "  </tbody>\n",
       "</table>\n",
       "</div>"
      ],
      "text/plain": [
       "                n_processo                                            assunto  \\\n",
       "21631  1020.2024/0004875-3  Alvará de Autorização de Avanço do Tapume Sobr...   \n",
       "21632  1020.2024/0004767-6                           Certificado de Conclusão   \n",
       "21633                 None                                               None   \n",
       "21634                 None                                               None   \n",
       "21635                 None                                               None   \n",
       "\n",
       "                              despacho        data_despacho    coord_despacho  \\\n",
       "21631                Processo Deferido  29/02/2024 09:41:13               NaN   \n",
       "21632                Processo Deferido  01/03/2024 20:19:43  SMUL/PARHIS/DHIS   \n",
       "21633                Processo Deferido  07/12/2018 20:18:43               NaN   \n",
       "21634              Processo Indeferido  07/12/2018 20:19:43               NaN   \n",
       "21635  Processo Indeferido e Encerrado  06/03/2024 09:48:21               NaN   \n",
       "\n",
       "                       quem_despachou data_extracao   coord divisao  \\\n",
       "21631  Desconhecido/Evento Automático    2024.03.04    None    None   \n",
       "21632          Renaldo Silva de Moura    2024.03.04  PARHIS    DHIS   \n",
       "21633                            None          None   CAEPP   CAEPP   \n",
       "21634                            None          None   CAEPP   CAEPP   \n",
       "21635                            None          None   CAEPP   COMIN   \n",
       "\n",
       "      coor_despacho  \n",
       "21631           NaN  \n",
       "21632           NaN  \n",
       "21633          None  \n",
       "21634          None  \n",
       "21635          None  "
      ]
     },
     "execution_count": 8,
     "metadata": {},
     "output_type": "execute_result"
    }
   ],
   "source": [
    "# Acertando os meses de CAEPP - inserindo dados falsos para acertar os meses - DESPACHOS\n",
    "fake_def = pd.DataFrame({'n_processo': None , 'assunto': None, 'despacho': 'Processo Deferido', 'data_despacho': '07/12/2018 20:18:43', 'coor_despacho': None, \n",
    "                 'quem_despachou': None, 'data_extracao': None, 'coord': 'CAEPP', 'divisao': 'CAEPP'}, index=[1])\n",
    "fake_indef = pd.DataFrame({'n_processo': None , 'assunto': None, 'despacho': 'Processo Indeferido', 'data_despacho': '07/12/2018 20:19:43', 'coor_despacho': None, \n",
    "                 'quem_despachou': None, 'data_extracao': None, 'coord': 'CAEPP', 'divisao': 'CAEPP'}, index=[2])\n",
    "fake_encerrado = pd.DataFrame({'n_processo': None , 'assunto': None, 'despacho': 'Processo Indeferido e Encerrado', 'data_despacho': datetime.strftime(datetime.now(), '%d/%m/%Y %H:%M:%S'),\n",
    "                               'coor_despacho': None, 'quem_despachou': None, 'data_extracao': None, 'coord': 'CAEPP', 'divisao': 'COMIN'}, index=[2])\n",
    "\n",
    "ad_despachos = pd.concat([ad_despachos, fake_def, fake_indef, fake_encerrado])\n",
    "\n",
    "ad_despachos.reset_index(drop=True, inplace=True)\n",
    "ad_despachos.tail()"
   ]
  },
  {
   "cell_type": "code",
   "execution_count": 9,
   "id": "d4e7ed10-f947-40e2-bba0-3694e01dcef9",
   "metadata": {
    "tags": []
   },
   "outputs": [
    {
     "data": {
      "text/html": [
       "<div>\n",
       "<style scoped>\n",
       "    .dataframe tbody tr th:only-of-type {\n",
       "        vertical-align: middle;\n",
       "    }\n",
       "\n",
       "    .dataframe tbody tr th {\n",
       "        vertical-align: top;\n",
       "    }\n",
       "\n",
       "    .dataframe thead th {\n",
       "        text-align: right;\n",
       "    }\n",
       "</style>\n",
       "<table border=\"1\" class=\"dataframe\">\n",
       "  <thead>\n",
       "    <tr style=\"text-align: right;\">\n",
       "      <th></th>\n",
       "      <th>n_processo</th>\n",
       "      <th>data_comuniquese</th>\n",
       "      <th>coord_comuniquese</th>\n",
       "      <th>quem_comunicou</th>\n",
       "      <th>coord</th>\n",
       "      <th>coor_comuniquese</th>\n",
       "    </tr>\n",
       "  </thead>\n",
       "  <tbody>\n",
       "    <tr>\n",
       "      <th>28811</th>\n",
       "      <td>1020.2024/0004491-0</td>\n",
       "      <td>01/03/2024 13:18:34</td>\n",
       "      <td>NaN</td>\n",
       "      <td>Desconhecido/Evento Automático</td>\n",
       "      <td>None</td>\n",
       "      <td>NaN</td>\n",
       "    </tr>\n",
       "    <tr>\n",
       "      <th>28812</th>\n",
       "      <td>1020.2024/0004241-0</td>\n",
       "      <td>28/02/2024 12:50:31</td>\n",
       "      <td>SMUL/CASE/DDU</td>\n",
       "      <td>Luis Otavio dos Santos Guerra</td>\n",
       "      <td>CASE</td>\n",
       "      <td>NaN</td>\n",
       "    </tr>\n",
       "    <tr>\n",
       "      <th>28813</th>\n",
       "      <td>1020.2024/0004778-1</td>\n",
       "      <td>04/03/2024 11:24:39</td>\n",
       "      <td>SMUL/CONTRU/DINS</td>\n",
       "      <td>Luiz Carlos Flosi</td>\n",
       "      <td>CONTRU</td>\n",
       "      <td>NaN</td>\n",
       "    </tr>\n",
       "    <tr>\n",
       "      <th>28814</th>\n",
       "      <td>1020.2024/0004429-4</td>\n",
       "      <td>29/02/2024 10:59:48</td>\n",
       "      <td>SMUL/PARHIS/DHMP</td>\n",
       "      <td>Mariana Mazzariello Damante</td>\n",
       "      <td>PARHIS</td>\n",
       "      <td>NaN</td>\n",
       "    </tr>\n",
       "    <tr>\n",
       "      <th>28815</th>\n",
       "      <td>None</td>\n",
       "      <td>01/12/2018 15:50:35</td>\n",
       "      <td>NaN</td>\n",
       "      <td>None</td>\n",
       "      <td>CAEPP</td>\n",
       "      <td>None</td>\n",
       "    </tr>\n",
       "  </tbody>\n",
       "</table>\n",
       "</div>"
      ],
      "text/plain": [
       "                n_processo     data_comuniquese coord_comuniquese  \\\n",
       "28811  1020.2024/0004491-0  01/03/2024 13:18:34               NaN   \n",
       "28812  1020.2024/0004241-0  28/02/2024 12:50:31     SMUL/CASE/DDU   \n",
       "28813  1020.2024/0004778-1  04/03/2024 11:24:39  SMUL/CONTRU/DINS   \n",
       "28814  1020.2024/0004429-4  29/02/2024 10:59:48  SMUL/PARHIS/DHMP   \n",
       "28815                 None  01/12/2018 15:50:35               NaN   \n",
       "\n",
       "                       quem_comunicou   coord coor_comuniquese  \n",
       "28811  Desconhecido/Evento Automático    None              NaN  \n",
       "28812   Luis Otavio dos Santos Guerra    CASE              NaN  \n",
       "28813               Luiz Carlos Flosi  CONTRU              NaN  \n",
       "28814     Mariana Mazzariello Damante  PARHIS              NaN  \n",
       "28815                            None   CAEPP             None  "
      ]
     },
     "execution_count": 9,
     "metadata": {},
     "output_type": "execute_result"
    }
   ],
   "source": [
    "# Acertando os meses de CAEPP - inserindo dados falsos para acertar os meses - COMUNIQUESES\n",
    "fake_comun = pd.DataFrame({'n_processo': None, 'data_comuniquese': '01/12/2018 15:50:35', 'coor_comuniquese': None, \n",
    "                 'quem_comunicou': None, 'coord': 'CAEPP'}, index=[1])\n",
    "\n",
    "ad_comuniqueses = pd.concat([ad_comuniqueses, fake_comun])\n",
    "\n",
    "ad_comuniqueses.reset_index(drop=True, inplace=True)\n",
    "ad_comuniqueses.tail()"
   ]
  },
  {
   "cell_type": "code",
   "execution_count": null,
   "id": "e6a2d37c-5d7a-4ba3-b391-13a5dd1dac87",
   "metadata": {},
   "outputs": [],
   "source": []
  },
  {
   "cell_type": "code",
   "execution_count": 10,
   "id": "803efb53-c07b-478f-aa3f-a68db659ceee",
   "metadata": {
    "tags": []
   },
   "outputs": [],
   "source": [
    "# Processamento extra - ADICIONAR NO ARQUIVO DE LIMPEZA\n",
    "# Padronizando despachos\n",
    "ad_despachos.loc[ad_despachos.despacho == 'Processo Indeferido e Finalizado', 'despacho'] = 'Processo Indeferido e Encerrado'"
   ]
  },
  {
   "cell_type": "code",
   "execution_count": 11,
   "id": "671e4a0b-fa00-4087-a61d-7f72cb4c5251",
   "metadata": {
    "tags": []
   },
   "outputs": [
    {
     "name": "stdout",
     "output_type": "stream",
     "text": [
      "<class 'pandas.core.frame.DataFrame'>\n",
      "RangeIndex: 31561 entries, 0 to 31560\n",
      "Data columns (total 6 columns):\n",
      " #   Column         Non-Null Count  Dtype         \n",
      "---  ------         --------------  -----         \n",
      " 0   n_processo     31561 non-null  object        \n",
      " 1   data_autuacao  31552 non-null  datetime64[ns]\n",
      " 2   assunto        31561 non-null  object        \n",
      " 3   coord_atual    31561 non-null  object        \n",
      " 4   status         31561 non-null  object        \n",
      " 5   data_extracao  31561 non-null  object        \n",
      "dtypes: datetime64[ns](1), object(5)\n",
      "memory usage: 1.4+ MB\n",
      "\n",
      "<class 'pandas.core.frame.DataFrame'>\n",
      "RangeIndex: 21636 entries, 0 to 21635\n",
      "Data columns (total 10 columns):\n",
      " #   Column          Non-Null Count  Dtype         \n",
      "---  ------          --------------  -----         \n",
      " 0   n_processo      21633 non-null  object        \n",
      " 1   assunto         21633 non-null  object        \n",
      " 2   despacho        21636 non-null  object        \n",
      " 3   data_despacho   21636 non-null  datetime64[ns]\n",
      " 4   coord_despacho  15891 non-null  object        \n",
      " 5   quem_despachou  21633 non-null  object        \n",
      " 6   data_extracao   21633 non-null  object        \n",
      " 7   coord           15894 non-null  object        \n",
      " 8   divisao         15894 non-null  object        \n",
      " 9   coor_despacho   0 non-null      object        \n",
      "dtypes: datetime64[ns](1), object(9)\n",
      "memory usage: 1.7+ MB\n",
      "\n",
      "<class 'pandas.core.frame.DataFrame'>\n",
      "RangeIndex: 28816 entries, 0 to 28815\n",
      "Data columns (total 6 columns):\n",
      " #   Column             Non-Null Count  Dtype         \n",
      "---  ------             --------------  -----         \n",
      " 0   n_processo         28815 non-null  object        \n",
      " 1   data_comuniquese   28816 non-null  datetime64[ns]\n",
      " 2   coord_comuniquese  27731 non-null  object        \n",
      " 3   quem_comunicou     28815 non-null  object        \n",
      " 4   coord              26323 non-null  object        \n",
      " 5   coor_comuniquese   0 non-null      object        \n",
      "dtypes: datetime64[ns](1), object(5)\n",
      "memory usage: 1.3+ MB\n"
     ]
    }
   ],
   "source": [
    "# Processamento extra\n",
    "# Transformando colunas para datetime\n",
    "ad_main['data_autuacao'] = pd.to_datetime(ad_main['data_autuacao'], dayfirst=True)\n",
    "ad_despachos['data_despacho'] = pd.to_datetime(ad_despachos['data_despacho'], dayfirst=True)\n",
    "ad_comuniqueses['data_comuniquese'] = pd.to_datetime(ad_comuniqueses['data_comuniquese'], dayfirst=True)\n",
    "\n",
    "ad_main.info()\n",
    "print()\n",
    "ad_despachos.info()\n",
    "print()\n",
    "ad_comuniqueses.info()"
   ]
  },
  {
   "cell_type": "markdown",
   "id": "2c3293d4-0060-4750-9fae-963cc822fc59",
   "metadata": {
    "jp-MarkdownHeadingCollapsed": true,
    "tags": []
   },
   "source": [
    "### SLCe"
   ]
  },
  {
   "cell_type": "code",
   "execution_count": 12,
   "id": "83743a52-ce3c-4cee-89d9-e2ad0a08de29",
   "metadata": {
    "tags": []
   },
   "outputs": [
    {
     "name": "stdout",
     "output_type": "stream",
     "text": [
      "<class 'pandas.core.frame.DataFrame'>\n",
      "RangeIndex: 39199 entries, 0 to 39198\n",
      "Data columns (total 7 columns):\n",
      " #   Column         Non-Null Count  Dtype \n",
      "---  ------         --------------  ----- \n",
      " 0   n_processo     39199 non-null  object\n",
      " 1   data_autuacao  39199 non-null  object\n",
      " 2   assunto        39199 non-null  object\n",
      " 3   coord_atual    39199 non-null  object\n",
      " 4   status         39199 non-null  object\n",
      " 5   n_protocolo    39199 non-null  object\n",
      " 6   data_extracao  39199 non-null  object\n",
      "dtypes: object(7)\n",
      "memory usage: 2.1+ MB\n"
     ]
    }
   ],
   "source": [
    "# Tabela de processos\n",
    "slce_main = pd.read_csv(f'{dir_cleaned_data}/slce_principal.csv', encoding='latin-1', sep=';')\n",
    "slce_main.info()"
   ]
  },
  {
   "cell_type": "code",
   "execution_count": 13,
   "id": "88cce4da-8536-446e-8754-684aadf6b999",
   "metadata": {
    "tags": []
   },
   "outputs": [
    {
     "name": "stdout",
     "output_type": "stream",
     "text": [
      "<class 'pandas.core.frame.DataFrame'>\n",
      "RangeIndex: 32156 entries, 0 to 32155\n",
      "Data columns (total 8 columns):\n",
      " #   Column          Non-Null Count  Dtype \n",
      "---  ------          --------------  ----- \n",
      " 0   n_processo      32156 non-null  object\n",
      " 1   assunto         32156 non-null  object\n",
      " 2   deferido        32156 non-null  object\n",
      " 3   data_despacho   32156 non-null  object\n",
      " 4   coord_despacho  32156 non-null  object\n",
      " 5   situacao        32156 non-null  object\n",
      " 6   n_protocolo     32156 non-null  object\n",
      " 7   data_extracao   32156 non-null  object\n",
      "dtypes: object(8)\n",
      "memory usage: 2.0+ MB\n"
     ]
    }
   ],
   "source": [
    "# Tabela de despachos\n",
    "slce_despachos = pd.read_csv(f'{dir_cleaned_data}/slce_despachos.csv', encoding='latin-1', sep=';')\n",
    "slce_despachos.info()"
   ]
  },
  {
   "cell_type": "code",
   "execution_count": 14,
   "id": "d99d57b9-4f28-4a0f-b01a-c2f52d5e6ad3",
   "metadata": {
    "tags": []
   },
   "outputs": [
    {
     "name": "stdout",
     "output_type": "stream",
     "text": [
      "<class 'pandas.core.frame.DataFrame'>\n",
      "RangeIndex: 30282 entries, 0 to 30281\n",
      "Data columns (total 5 columns):\n",
      " #   Column             Non-Null Count  Dtype \n",
      "---  ------             --------------  ----- \n",
      " 0   n_processo         30282 non-null  object\n",
      " 1   data_comuniquese   30282 non-null  object\n",
      " 2   coord_comuniquese  30282 non-null  object\n",
      " 3   n_protocolo        30282 non-null  object\n",
      " 4   data_extracao      30282 non-null  object\n",
      "dtypes: object(5)\n",
      "memory usage: 1.2+ MB\n"
     ]
    }
   ],
   "source": [
    "# Tabela de comuniqueses\n",
    "slce_comuniqueses = pd.read_csv(f'{dir_cleaned_data}/slce_comuniqueses.csv', encoding='latin-1', sep=';')\n",
    "slce_comuniqueses.info()"
   ]
  },
  {
   "cell_type": "code",
   "execution_count": 15,
   "id": "ac25cd54-bffb-47fb-8d22-c0fdc4cc0500",
   "metadata": {
    "tags": []
   },
   "outputs": [
    {
     "name": "stdout",
     "output_type": "stream",
     "text": [
      "<class 'pandas.core.frame.DataFrame'>\n",
      "RangeIndex: 39199 entries, 0 to 39198\n",
      "Data columns (total 7 columns):\n",
      " #   Column         Non-Null Count  Dtype         \n",
      "---  ------         --------------  -----         \n",
      " 0   n_processo     39199 non-null  object        \n",
      " 1   data_autuacao  39199 non-null  datetime64[ns]\n",
      " 2   assunto        39199 non-null  object        \n",
      " 3   coord_atual    39199 non-null  object        \n",
      " 4   status         39199 non-null  object        \n",
      " 5   n_protocolo    39199 non-null  object        \n",
      " 6   data_extracao  39199 non-null  object        \n",
      "dtypes: datetime64[ns](1), object(6)\n",
      "memory usage: 2.1+ MB\n",
      "\n",
      "<class 'pandas.core.frame.DataFrame'>\n",
      "RangeIndex: 32156 entries, 0 to 32155\n",
      "Data columns (total 8 columns):\n",
      " #   Column          Non-Null Count  Dtype         \n",
      "---  ------          --------------  -----         \n",
      " 0   n_processo      32156 non-null  object        \n",
      " 1   assunto         32156 non-null  object        \n",
      " 2   deferido        32156 non-null  object        \n",
      " 3   data_despacho   32156 non-null  datetime64[ns]\n",
      " 4   coord_despacho  32156 non-null  object        \n",
      " 5   situacao        32156 non-null  object        \n",
      " 6   n_protocolo     32156 non-null  object        \n",
      " 7   data_extracao   32156 non-null  object        \n",
      "dtypes: datetime64[ns](1), object(7)\n",
      "memory usage: 2.0+ MB\n",
      "\n",
      "<class 'pandas.core.frame.DataFrame'>\n",
      "RangeIndex: 30282 entries, 0 to 30281\n",
      "Data columns (total 5 columns):\n",
      " #   Column             Non-Null Count  Dtype         \n",
      "---  ------             --------------  -----         \n",
      " 0   n_processo         30282 non-null  object        \n",
      " 1   data_comuniquese   30282 non-null  datetime64[ns]\n",
      " 2   coord_comuniquese  30282 non-null  object        \n",
      " 3   n_protocolo        30282 non-null  object        \n",
      " 4   data_extracao      30282 non-null  object        \n",
      "dtypes: datetime64[ns](1), object(4)\n",
      "memory usage: 1.2+ MB\n"
     ]
    }
   ],
   "source": [
    "# Processamento extra\n",
    "# Transformando colunas para datetime\n",
    "slce_main['data_autuacao'] = pd.to_datetime(slce_main['data_autuacao'], dayfirst=True)\n",
    "slce_despachos['data_despacho'] = pd.to_datetime(slce_despachos['data_despacho'], dayfirst=True)\n",
    "slce_comuniqueses['data_comuniquese'] = pd.to_datetime(slce_comuniqueses['data_comuniquese'], dayfirst=True)\n",
    "\n",
    "slce_main.info()\n",
    "print()\n",
    "slce_despachos.info()\n",
    "print()\n",
    "slce_comuniqueses.info()"
   ]
  },
  {
   "cell_type": "markdown",
   "id": "adb1284b-2206-4780-b5d3-ac40d48fbfc9",
   "metadata": {
    "jp-MarkdownHeadingCollapsed": true,
    "tags": []
   },
   "source": [
    "### SISSEL"
   ]
  },
  {
   "cell_type": "code",
   "execution_count": 16,
   "id": "962844f5-a265-4f73-9a78-e1c20dd5625f",
   "metadata": {
    "tags": []
   },
   "outputs": [
    {
     "name": "stdout",
     "output_type": "stream",
     "text": [
      "<class 'pandas.core.frame.DataFrame'>\n",
      "RangeIndex: 77995 entries, 0 to 77994\n",
      "Data columns (total 6 columns):\n",
      " #   Column          Non-Null Count  Dtype \n",
      "---  ------          --------------  ----- \n",
      " 0   assunto         77995 non-null  object\n",
      " 1   situacao        77995 non-null  object\n",
      " 2   data_despacho   77995 non-null  object\n",
      " 3   coord_despacho  77995 non-null  object\n",
      " 4   n_processo      77995 non-null  object\n",
      " 5   data_extracao   77995 non-null  object\n",
      "dtypes: object(6)\n",
      "memory usage: 3.6+ MB\n"
     ]
    }
   ],
   "source": [
    "# Tabela de despachos\n",
    "sissel_despachos = pd.read_csv(f'{dir_cleaned_data}/sissel_despachos.csv', sep=';')\n",
    "sissel_despachos.info()"
   ]
  },
  {
   "cell_type": "code",
   "execution_count": 17,
   "id": "fc70ac66-bcb6-4685-8e04-1617c989e4ee",
   "metadata": {
    "tags": []
   },
   "outputs": [
    {
     "name": "stdout",
     "output_type": "stream",
     "text": [
      "<class 'pandas.core.frame.DataFrame'>\n",
      "RangeIndex: 186478 entries, 0 to 186477\n",
      "Data columns (total 4 columns):\n",
      " #   Column             Non-Null Count   Dtype \n",
      "---  ------             --------------   ----- \n",
      " 0   data_comuniquese   186478 non-null  object\n",
      " 1   coord_comuniquese  186478 non-null  object\n",
      " 2   n_processo         186478 non-null  object\n",
      " 3   data_extracao      186478 non-null  object\n",
      "dtypes: object(4)\n",
      "memory usage: 5.7+ MB\n"
     ]
    }
   ],
   "source": [
    "# Tabela comunique-ses\n",
    "sissel_comuniqueses = pd.read_csv(f'{dir_cleaned_data}/sissel_comuniqueses.csv', sep=';')\n",
    "sissel_comuniqueses.info()"
   ]
  },
  {
   "cell_type": "code",
   "execution_count": 18,
   "id": "1779f349-3fce-44f7-9aaf-c2de42b91a3d",
   "metadata": {
    "tags": []
   },
   "outputs": [],
   "source": [
    "# Processamento extra - ADICIONAR NO ARQUIVO DE LIMPEZA\n",
    "# Criando colunas para valores de coordenadoria e divisão\n",
    "sissel_despachos['coord'] = sissel_despachos['coord_despacho'].apply(lambda x: str(x).split('/')[1] if '/' in str(x) else None)\n",
    "sissel_despachos['divisao'] = sissel_despachos['coord_despacho'].apply(lambda x: str(x).split('/')[-1] if '/' in str(x) else None)\n",
    "sissel_comuniqueses['coord'] = sissel_comuniqueses['coord_comuniquese'].apply(lambda x: str(x).split('/')[1] if '/' in str(x) else None)\n",
    "sissel_comuniqueses['divisao'] = sissel_comuniqueses['coord_comuniquese'].apply(lambda x: str(x).split('/')[-1] if '/' in str(x) else None)"
   ]
  },
  {
   "cell_type": "code",
   "execution_count": 19,
   "id": "3cf66634-fd67-4fc9-b991-6810a72d8bba",
   "metadata": {
    "tags": []
   },
   "outputs": [
    {
     "data": {
      "text/html": [
       "<div>\n",
       "<style scoped>\n",
       "    .dataframe tbody tr th:only-of-type {\n",
       "        vertical-align: middle;\n",
       "    }\n",
       "\n",
       "    .dataframe tbody tr th {\n",
       "        vertical-align: top;\n",
       "    }\n",
       "\n",
       "    .dataframe thead th {\n",
       "        text-align: right;\n",
       "    }\n",
       "</style>\n",
       "<table border=\"1\" class=\"dataframe\">\n",
       "  <thead>\n",
       "    <tr style=\"text-align: right;\">\n",
       "      <th></th>\n",
       "      <th>assunto</th>\n",
       "      <th>situacao</th>\n",
       "      <th>data_despacho</th>\n",
       "      <th>coord_despacho</th>\n",
       "      <th>n_processo</th>\n",
       "      <th>data_extracao</th>\n",
       "      <th>coord</th>\n",
       "      <th>divisao</th>\n",
       "    </tr>\n",
       "  </thead>\n",
       "  <tbody>\n",
       "    <tr>\n",
       "      <th>77993</th>\n",
       "      <td>ALVARA DE AUTORIZACAO</td>\n",
       "      <td>COM PROPOSTA DE DEFERIMENTO</td>\n",
       "      <td>2024-02-29</td>\n",
       "      <td>SMUL/CONTRU/DLR</td>\n",
       "      <td>2024-0001189-8</td>\n",
       "      <td>2024.03.04</td>\n",
       "      <td>CONTRU</td>\n",
       "      <td>DLR</td>\n",
       "    </tr>\n",
       "    <tr>\n",
       "      <th>77994</th>\n",
       "      <td>APOSTILAMENTO DE ALVARA DE APROVACAO E EXECUCA...</td>\n",
       "      <td>COM PROPOSTA DE DEFERIMENTO</td>\n",
       "      <td>2024-02-29</td>\n",
       "      <td>SMUL/SERVIN/DSIGP</td>\n",
       "      <td>2023-0003296-6</td>\n",
       "      <td>2024.03.04</td>\n",
       "      <td>SERVIN</td>\n",
       "      <td>DSIGP</td>\n",
       "    </tr>\n",
       "    <tr>\n",
       "      <th>77995</th>\n",
       "      <td>None</td>\n",
       "      <td>COM PROPOSTA DE DEFERIMENTO</td>\n",
       "      <td>2000-11-30</td>\n",
       "      <td>None</td>\n",
       "      <td>None</td>\n",
       "      <td>None</td>\n",
       "      <td>CAEPP</td>\n",
       "      <td>CAEPP</td>\n",
       "    </tr>\n",
       "    <tr>\n",
       "      <th>77996</th>\n",
       "      <td>None</td>\n",
       "      <td>COM PROPOSTA DE INDEFERIMENTO</td>\n",
       "      <td>2000-11-30</td>\n",
       "      <td>None</td>\n",
       "      <td>None</td>\n",
       "      <td>None</td>\n",
       "      <td>CAEPP</td>\n",
       "      <td>CAEPP</td>\n",
       "    </tr>\n",
       "    <tr>\n",
       "      <th>77997</th>\n",
       "      <td>None</td>\n",
       "      <td>COM PROPOSTA DE INDEFERIMENTO</td>\n",
       "      <td>2023-11-30</td>\n",
       "      <td>None</td>\n",
       "      <td>None</td>\n",
       "      <td>None</td>\n",
       "      <td>CAEPP</td>\n",
       "      <td>CAEPP</td>\n",
       "    </tr>\n",
       "  </tbody>\n",
       "</table>\n",
       "</div>"
      ],
      "text/plain": [
       "                                                 assunto  \\\n",
       "77993                              ALVARA DE AUTORIZACAO   \n",
       "77994  APOSTILAMENTO DE ALVARA DE APROVACAO E EXECUCA...   \n",
       "77995                                               None   \n",
       "77996                                               None   \n",
       "77997                                               None   \n",
       "\n",
       "                            situacao data_despacho     coord_despacho  \\\n",
       "77993    COM PROPOSTA DE DEFERIMENTO    2024-02-29    SMUL/CONTRU/DLR   \n",
       "77994    COM PROPOSTA DE DEFERIMENTO    2024-02-29  SMUL/SERVIN/DSIGP   \n",
       "77995    COM PROPOSTA DE DEFERIMENTO    2000-11-30               None   \n",
       "77996  COM PROPOSTA DE INDEFERIMENTO    2000-11-30               None   \n",
       "77997  COM PROPOSTA DE INDEFERIMENTO    2023-11-30               None   \n",
       "\n",
       "           n_processo data_extracao   coord divisao  \n",
       "77993  2024-0001189-8    2024.03.04  CONTRU     DLR  \n",
       "77994  2023-0003296-6    2024.03.04  SERVIN   DSIGP  \n",
       "77995            None          None   CAEPP   CAEPP  \n",
       "77996            None          None   CAEPP   CAEPP  \n",
       "77997            None          None   CAEPP   CAEPP  "
      ]
     },
     "execution_count": 19,
     "metadata": {},
     "output_type": "execute_result"
    }
   ],
   "source": [
    "# Acertando os meses de CAEPP - inserindo dados falsos para acertar os meses - DESPACHOS\n",
    "fake_def = pd.DataFrame({'assunto': None, 'situacao': 'COM PROPOSTA DE DEFERIMENTO', 'data_despacho': '2000-11-30', 'coord_despacho': None, 'n_processo': None,\n",
    "                        'data_extracao': None, 'coord': 'CAEPP', 'divisao': 'CAEPP'}, index=[1])\n",
    "fake_indef = pd.DataFrame({'assunto': None, 'situacao': 'COM PROPOSTA DE INDEFERIMENTO', 'data_despacho': '2000-11-30', 'coord_despacho': None, 'n_processo': None,\n",
    "                        'data_extracao': None, 'coord': 'CAEPP', 'divisao': 'CAEPP'}, index=[1])\n",
    "fake_indef2 = pd.DataFrame({'assunto': None, 'situacao': 'COM PROPOSTA DE INDEFERIMENTO', 'data_despacho': '2023-11-30', 'coord_despacho': None, 'n_processo': None,\n",
    "                        'data_extracao': None, 'coord': 'CAEPP', 'divisao': 'CAEPP'}, index=[1])\n",
    "\n",
    "sissel_despachos = pd.concat([sissel_despachos, fake_def, fake_indef, fake_indef2])\n",
    "\n",
    "sissel_despachos.reset_index(drop=True, inplace=True)\n",
    "sissel_despachos.tail()"
   ]
  },
  {
   "cell_type": "code",
   "execution_count": 20,
   "id": "4a1234a1-8bca-49c3-9642-51188f5820d6",
   "metadata": {
    "tags": []
   },
   "outputs": [
    {
     "data": {
      "text/html": [
       "<div>\n",
       "<style scoped>\n",
       "    .dataframe tbody tr th:only-of-type {\n",
       "        vertical-align: middle;\n",
       "    }\n",
       "\n",
       "    .dataframe tbody tr th {\n",
       "        vertical-align: top;\n",
       "    }\n",
       "\n",
       "    .dataframe thead th {\n",
       "        text-align: right;\n",
       "    }\n",
       "</style>\n",
       "<table border=\"1\" class=\"dataframe\">\n",
       "  <thead>\n",
       "    <tr style=\"text-align: right;\">\n",
       "      <th></th>\n",
       "      <th>data_comuniquese</th>\n",
       "      <th>coord_comuniquese</th>\n",
       "      <th>n_processo</th>\n",
       "      <th>data_extracao</th>\n",
       "      <th>coord</th>\n",
       "      <th>divisao</th>\n",
       "    </tr>\n",
       "  </thead>\n",
       "  <tbody>\n",
       "    <tr>\n",
       "      <th>186474</th>\n",
       "      <td>01/03/2024 00:00:00</td>\n",
       "      <td>SMUL/CONTRU/DSUS</td>\n",
       "      <td>2024-0000242-2</td>\n",
       "      <td>2024.03.04</td>\n",
       "      <td>CONTRU</td>\n",
       "      <td>DSUS</td>\n",
       "    </tr>\n",
       "    <tr>\n",
       "      <th>186475</th>\n",
       "      <td>01/03/2024 00:00:00</td>\n",
       "      <td>SMUL/CONTRU/DSUS</td>\n",
       "      <td>2023-0011697-3</td>\n",
       "      <td>2024.03.04</td>\n",
       "      <td>CONTRU</td>\n",
       "      <td>DSUS</td>\n",
       "    </tr>\n",
       "    <tr>\n",
       "      <th>186476</th>\n",
       "      <td>01/03/2024 00:00:00</td>\n",
       "      <td>SMUL/CONTRU/DSUS</td>\n",
       "      <td>2023-0011431-8</td>\n",
       "      <td>2024.03.04</td>\n",
       "      <td>CONTRU</td>\n",
       "      <td>DSUS</td>\n",
       "    </tr>\n",
       "    <tr>\n",
       "      <th>186477</th>\n",
       "      <td>01/03/2024 00:00:00</td>\n",
       "      <td>SMUL/CONTRU/DSUS</td>\n",
       "      <td>2023-0011133-5</td>\n",
       "      <td>2024.03.04</td>\n",
       "      <td>CONTRU</td>\n",
       "      <td>DSUS</td>\n",
       "    </tr>\n",
       "    <tr>\n",
       "      <th>186478</th>\n",
       "      <td>04/12/2000 00:00:00</td>\n",
       "      <td>None</td>\n",
       "      <td>filler</td>\n",
       "      <td>None</td>\n",
       "      <td>CAEPP</td>\n",
       "      <td>CAEPP</td>\n",
       "    </tr>\n",
       "  </tbody>\n",
       "</table>\n",
       "</div>"
      ],
      "text/plain": [
       "           data_comuniquese coord_comuniquese      n_processo data_extracao  \\\n",
       "186474  01/03/2024 00:00:00  SMUL/CONTRU/DSUS  2024-0000242-2    2024.03.04   \n",
       "186475  01/03/2024 00:00:00  SMUL/CONTRU/DSUS  2023-0011697-3    2024.03.04   \n",
       "186476  01/03/2024 00:00:00  SMUL/CONTRU/DSUS  2023-0011431-8    2024.03.04   \n",
       "186477  01/03/2024 00:00:00  SMUL/CONTRU/DSUS  2023-0011133-5    2024.03.04   \n",
       "186478  04/12/2000 00:00:00              None          filler          None   \n",
       "\n",
       "         coord divisao  \n",
       "186474  CONTRU    DSUS  \n",
       "186475  CONTRU    DSUS  \n",
       "186476  CONTRU    DSUS  \n",
       "186477  CONTRU    DSUS  \n",
       "186478   CAEPP   CAEPP  "
      ]
     },
     "execution_count": 20,
     "metadata": {},
     "output_type": "execute_result"
    }
   ],
   "source": [
    "# Acertando os meses de CAEPP - inserindo dados falsos para acertar os meses - Comuniqueses\n",
    "fake_comun = pd.DataFrame({'data_comuniquese': '04/12/2000 00:00:00', 'coord_comuniquese': None, 'n_processo': 'filler',\n",
    "                        'data_extracao': None, 'coord': 'CAEPP', 'divisao': 'CAEPP'}, index=[1])\n",
    "\n",
    "\n",
    "sissel_comuniqueses = pd.concat([sissel_comuniqueses, fake_comun])\n",
    "\n",
    "sissel_comuniqueses.reset_index(drop=True, inplace=True)\n",
    "sissel_comuniqueses.tail()"
   ]
  },
  {
   "cell_type": "code",
   "execution_count": 21,
   "id": "6ef3fabb-b09b-4de6-b5fc-d53e847b24ce",
   "metadata": {
    "tags": []
   },
   "outputs": [
    {
     "name": "stdout",
     "output_type": "stream",
     "text": [
      "<class 'pandas.core.frame.DataFrame'>\n",
      "RangeIndex: 77998 entries, 0 to 77997\n",
      "Data columns (total 8 columns):\n",
      " #   Column          Non-Null Count  Dtype         \n",
      "---  ------          --------------  -----         \n",
      " 0   assunto         77995 non-null  object        \n",
      " 1   situacao        77998 non-null  object        \n",
      " 2   data_despacho   77998 non-null  datetime64[ns]\n",
      " 3   coord_despacho  77995 non-null  object        \n",
      " 4   n_processo      77995 non-null  object        \n",
      " 5   data_extracao   77995 non-null  object        \n",
      " 6   coord           77998 non-null  object        \n",
      " 7   divisao         77998 non-null  object        \n",
      "dtypes: datetime64[ns](1), object(7)\n",
      "memory usage: 4.8+ MB\n",
      "\n",
      "<class 'pandas.core.frame.DataFrame'>\n",
      "RangeIndex: 186479 entries, 0 to 186478\n",
      "Data columns (total 6 columns):\n",
      " #   Column             Non-Null Count   Dtype         \n",
      "---  ------             --------------   -----         \n",
      " 0   data_comuniquese   186479 non-null  datetime64[ns]\n",
      " 1   coord_comuniquese  186478 non-null  object        \n",
      " 2   n_processo         186479 non-null  object        \n",
      " 3   data_extracao      186478 non-null  object        \n",
      " 4   coord              186479 non-null  object        \n",
      " 5   divisao            186479 non-null  object        \n",
      "dtypes: datetime64[ns](1), object(5)\n",
      "memory usage: 8.5+ MB\n"
     ]
    }
   ],
   "source": [
    "# Processamento extra - datetime\n",
    "sissel_despachos['data_despacho'] = pd.to_datetime(sissel_despachos['data_despacho'])\n",
    "sissel_comuniqueses['data_comuniquese'] = pd.to_datetime(sissel_comuniqueses['data_comuniquese'], dayfirst=True)\n",
    "\n",
    "sissel_despachos.info()\n",
    "print()\n",
    "sissel_comuniqueses.info()"
   ]
  },
  {
   "cell_type": "markdown",
   "id": "b3225a0d-9715-46d8-a182-bffe8daeebfa",
   "metadata": {
    "jp-MarkdownHeadingCollapsed": true,
    "tags": []
   },
   "source": [
    "### Portal do Licenciamento"
   ]
  },
  {
   "cell_type": "code",
   "execution_count": 22,
   "id": "21221412-2e9b-45d4-8251-25884e10a563",
   "metadata": {
    "tags": []
   },
   "outputs": [
    {
     "name": "stdout",
     "output_type": "stream",
     "text": [
      "<class 'pandas.core.frame.DataFrame'>\n",
      "RangeIndex: 8828 entries, 0 to 8827\n",
      "Data columns (total 6 columns):\n",
      " #   Column          Non-Null Count  Dtype \n",
      "---  ------          --------------  ----- \n",
      " 0   n_protocolo     8828 non-null   object\n",
      " 1   n_processo      8828 non-null   object\n",
      " 2   despacho        8828 non-null   object\n",
      " 3   data_despacho   8828 non-null   object\n",
      " 4   coord_despacho  8828 non-null   object\n",
      " 5   data_extracao   8828 non-null   object\n",
      "dtypes: object(6)\n",
      "memory usage: 413.9+ KB\n"
     ]
    }
   ],
   "source": [
    "# Tabela de despachos\n",
    "portal_despachos = pd.read_csv(f'{dir_cleaned_data}/portal_despachos.csv', sep=';', encoding='latin-1')\n",
    "portal_despachos.info()"
   ]
  },
  {
   "cell_type": "code",
   "execution_count": 23,
   "id": "1b1bbae8-42a2-46a1-a84e-5621d7975e6c",
   "metadata": {
    "tags": []
   },
   "outputs": [
    {
     "name": "stdout",
     "output_type": "stream",
     "text": [
      "<class 'pandas.core.frame.DataFrame'>\n",
      "RangeIndex: 15559 entries, 0 to 15558\n",
      "Data columns (total 5 columns):\n",
      " #   Column             Non-Null Count  Dtype \n",
      "---  ------             --------------  ----- \n",
      " 0   n_protocolo        15559 non-null  object\n",
      " 1   n_processo         15559 non-null  object\n",
      " 2   data_comuniquese   15559 non-null  object\n",
      " 3   coord_comuniquese  15559 non-null  object\n",
      " 4   data_extracao      15559 non-null  object\n",
      "dtypes: object(5)\n",
      "memory usage: 607.9+ KB\n"
     ]
    }
   ],
   "source": [
    "# Tabela de comunique-ses\n",
    "portal_comuniqueses = pd.read_csv(f'{dir_cleaned_data}/portal_comuniqueses.csv', sep=';', encoding='latin-1')\n",
    "portal_comuniqueses.info()"
   ]
  },
  {
   "cell_type": "code",
   "execution_count": 24,
   "id": "275cd2db-8d65-4597-b393-6b2ce9c84c78",
   "metadata": {
    "tags": []
   },
   "outputs": [
    {
     "name": "stdout",
     "output_type": "stream",
     "text": [
      "<class 'pandas.core.frame.DataFrame'>\n",
      "RangeIndex: 101 entries, 0 to 100\n",
      "Data columns (total 4 columns):\n",
      " #   Column                      Non-Null Count  Dtype\n",
      "---  ------                      --------------  -----\n",
      " 0   ProcessoAnoAutuacao         101 non-null    int64\n",
      " 1   ProcessoMesAutuacao         101 non-null    int64\n",
      " 2   ProcessoQuinzenaAutuacao    101 non-null    int64\n",
      " 3   CodigoRequerimentoOperacao  101 non-null    int64\n",
      "dtypes: int64(4)\n",
      "memory usage: 3.3 KB\n"
     ]
    }
   ],
   "source": [
    "# Tabela autuados\n",
    "for i in os.listdir(dir_raw_data):\n",
    "    if i.startswith('portal_card-quantidade'):\n",
    "        aut_file = i\n",
    "\n",
    "portal_autuados = pd.read_excel(f'{dir_raw_data}/{aut_file}')\n",
    "portal_autuados.info()"
   ]
  },
  {
   "cell_type": "code",
   "execution_count": 25,
   "id": "b257e44b-5ad4-48ae-9a91-6a9abfd437f4",
   "metadata": {
    "tags": []
   },
   "outputs": [],
   "source": [
    "# Processamento extra - ADICIONAR NO ARQUIVO DE LIMPEZA\n",
    "# Ajustando nomes de colunas\n",
    "portal_autuados.columns = ['ano', 'mes', 'quinzena', 'quantidade']"
   ]
  },
  {
   "cell_type": "code",
   "execution_count": 26,
   "id": "d1e022df-c985-4a92-a897-39bffe714a83",
   "metadata": {
    "tags": []
   },
   "outputs": [
    {
     "name": "stdout",
     "output_type": "stream",
     "text": [
      "<class 'pandas.core.frame.DataFrame'>\n",
      "RangeIndex: 8828 entries, 0 to 8827\n",
      "Data columns (total 6 columns):\n",
      " #   Column          Non-Null Count  Dtype         \n",
      "---  ------          --------------  -----         \n",
      " 0   n_protocolo     8828 non-null   object        \n",
      " 1   n_processo      8828 non-null   object        \n",
      " 2   despacho        8828 non-null   object        \n",
      " 3   data_despacho   8828 non-null   datetime64[ns]\n",
      " 4   coord_despacho  8828 non-null   object        \n",
      " 5   data_extracao   8828 non-null   object        \n",
      "dtypes: datetime64[ns](1), object(5)\n",
      "memory usage: 413.9+ KB\n",
      "\n",
      "<class 'pandas.core.frame.DataFrame'>\n",
      "RangeIndex: 15559 entries, 0 to 15558\n",
      "Data columns (total 5 columns):\n",
      " #   Column             Non-Null Count  Dtype         \n",
      "---  ------             --------------  -----         \n",
      " 0   n_protocolo        15559 non-null  object        \n",
      " 1   n_processo         15559 non-null  object        \n",
      " 2   data_comuniquese   15559 non-null  datetime64[ns]\n",
      " 3   coord_comuniquese  15559 non-null  object        \n",
      " 4   data_extracao      15559 non-null  object        \n",
      "dtypes: datetime64[ns](1), object(4)\n",
      "memory usage: 607.9+ KB\n"
     ]
    }
   ],
   "source": [
    "# Processamento extra - datetime\n",
    "portal_despachos['data_despacho'] = pd.to_datetime(portal_despachos['data_despacho'], dayfirst=True)\n",
    "portal_comuniqueses['data_comuniquese'] = pd.to_datetime(portal_comuniqueses['data_comuniquese'], dayfirst=True)\n",
    "\n",
    "portal_despachos.info()\n",
    "print()\n",
    "portal_comuniqueses.info()"
   ]
  },
  {
   "cell_type": "markdown",
   "id": "d79922af-c2de-400f-976a-2932ae2923d1",
   "metadata": {
    "tags": []
   },
   "source": [
    "## Análise por sistema"
   ]
  },
  {
   "cell_type": "markdown",
   "id": "e1ba5aa6-fd2e-41b5-acad-b318dcb33b12",
   "metadata": {
    "jp-MarkdownHeadingCollapsed": true,
    "tags": []
   },
   "source": [
    "### Datas e Agrupadores"
   ]
  },
  {
   "cell_type": "code",
   "execution_count": 27,
   "id": "04ec0bae-c4ab-441f-b83e-a07284aaa6eb",
   "metadata": {
    "tags": []
   },
   "outputs": [],
   "source": [
    "# Extração de data de referência: A data de referência é sempre o ultimo mês completo. Como os processos são extraídos\n",
    "# sempre no mês seguinte ao mês de referência, são usados os dados do dia subtraindo 1 mês (30 dias)\n",
    "# e para o mês anterior volta-se 2 meses (60 dias)\n",
    "\n",
    "data_atual = datetime.now()\n",
    "data_input = None#'01-11-2023' # Mês e que o relatório deve ser gerado\n",
    "\n",
    "if not data_input:\n",
    "    data_referencia = data_atual - timedelta(days=30)\n",
    "    data_anterior = data_atual - timedelta(days=60)\n",
    "    data_ano_referencia = data_atual - timedelta(days=30)\n",
    "else:\n",
    "    data_referencia = datetime.strptime(data_input, '%d-%m-%Y')\n",
    "    data_anterior = data_referencia - timedelta(days=30)\n",
    "    \n",
    "\n",
    "month_starter = lambda date: f'{date.year}-{date.month}-01'\n",
    "year_starter = lambda date: f'{date.year}-01-01'"
   ]
  },
  {
   "cell_type": "code",
   "execution_count": 28,
   "id": "01506ae7-1ccc-4424-b127-948a072b5d03",
   "metadata": {
    "tags": []
   },
   "outputs": [
    {
     "data": {
      "text/plain": [
       "('2024-2-01', '2024-1-01', '2024-3-01', '2024-01-01')"
      ]
     },
     "execution_count": 28,
     "metadata": {},
     "output_type": "execute_result"
    }
   ],
   "source": [
    "# Declarando datas de referência \n",
    "data_referencia = month_starter(data_referencia)\n",
    "data_anterior = month_starter(data_anterior)\n",
    "data_corrente = month_starter(data_atual)\n",
    "data_ano_referencia = year_starter(data_ano_referencia)\n",
    "\n",
    "data_referencia, data_anterior, data_corrente, data_ano_referencia"
   ]
  },
  {
   "cell_type": "code",
   "execution_count": 29,
   "id": "bc4c973d-02be-40be-9d18-b91d30e53b68",
   "metadata": {
    "tags": []
   },
   "outputs": [],
   "source": [
    "### Defiindo agrupadores por data\n",
    "# Agrupador para a coluna 'data_autucao'\n",
    "grouper_aut = pd.Grouper(key='data_autuacao', freq='MS', label='left')\n",
    "\n",
    "# Agrupador para a coluna 'data_despacho'\n",
    "grouper_desp = pd.Grouper(key='data_despacho', freq='MS', label='left')\n",
    "\n",
    "# Agrupador para a coluna 'data_despacho' ANUAL\n",
    "grouper_desp_yr = pd.Grouper(key='data_despacho', freq='YS', label='left')\n",
    "\n",
    "# Agrupador para a coluna 'data_comuniquese'\n",
    "grouper_comun = pd.Grouper(key='data_comuniquese', freq='MS', label='left')"
   ]
  },
  {
   "cell_type": "markdown",
   "id": "a068585e-7f75-42f1-8039-4eab7847a662",
   "metadata": {
    "jp-MarkdownHeadingCollapsed": true,
    "tags": []
   },
   "source": [
    "### Aprova Digital"
   ]
  },
  {
   "cell_type": "code",
   "execution_count": 103,
   "id": "34cc440e-16d5-484a-9870-808108482ac5",
   "metadata": {
    "tags": []
   },
   "outputs": [
    {
     "data": {
      "text/plain": [
       "{'despachos_mes_referencia': 758,\n",
       " 'despachos_mes_anterior': 694,\n",
       " 'deferidos_mes_referencia': 532,\n",
       " 'deferidos_mes_anterior': 436,\n",
       " 'indeferidos_mes_referencia': 196,\n",
       " 'indeferidos_mes_anterior': 223,\n",
       " 'encerrados_mes_referencia': 30,\n",
       " 'encerrados_mes_anterior': 35}"
      ]
     },
     "execution_count": 103,
     "metadata": {},
     "output_type": "execute_result"
    }
   ],
   "source": [
    "def get_ad_despachos(coord=None):\n",
    "    # Data cointainer\n",
    "    data_container = {}\n",
    "    \n",
    "    # Filtrando despachos para coordenadoria\n",
    "    if coord:\n",
    "        coord = ad_despachos.query(\"(coord == @coord)\")\n",
    "        coord_grouped = coord.groupby(grouper_desp)\n",
    "    else:\n",
    "        coord = ad_despachos[:]\n",
    "        coord_grouped = coord.groupby(grouper_desp)\n",
    "\n",
    "    try:\n",
    "        data_container['despachos_mes_referencia'] = int(coord_grouped.get_group(data_referencia)['n_processo'].count())\n",
    "    except KeyError:\n",
    "        data_container['despachos_mes_referencia'] = 0\n",
    "        \n",
    "    try:\n",
    "        data_container['despachos_mes_anterior'] = int(coord_grouped.get_group(data_anterior)['n_processo'].count())\n",
    "    except KeyError:\n",
    "        data_container['despachos_mes_anterior'] = 0\n",
    "\n",
    "    # Filtrando deferidos\n",
    "    deferidos = coord.query(\"despacho == 'Processo Deferido'\")\n",
    "    deferidos_grouped = deferidos.groupby(grouper_desp)\n",
    "\n",
    "    try:\n",
    "        data_container['deferidos_mes_referencia'] = int(deferidos_grouped.get_group(data_referencia)['n_processo'].count())\n",
    "    except KeyError:\n",
    "        data_container['deferidos_mes_referencia'] = 0\n",
    "    \n",
    "    try:\n",
    "        data_container['deferidos_mes_anterior'] = int(deferidos_grouped.get_group(data_anterior)['n_processo'].count())\n",
    "    except KeyError:\n",
    "        data_container['deferidos_mes_anterior'] = 0\n",
    "\n",
    "    # Filtrando indeferidos\n",
    "    indeferidos = coord.query(\"despacho == 'Processo Indeferido'\")\n",
    "    indeferidos_grouped = indeferidos.groupby(grouper_desp)\n",
    "\n",
    "    try:\n",
    "        data_container['indeferidos_mes_referencia'] = int(indeferidos_grouped.get_group(data_referencia)['n_processo'].count())\n",
    "    except KeyError:\n",
    "        data_container['indeferidos_mes_referencia'] = 0\n",
    "\n",
    "    try:\n",
    "        data_container['indeferidos_mes_anterior'] = int(indeferidos_grouped.get_group(data_anterior)['n_processo'].count())\n",
    "    except KeyError:\n",
    "        data_container['indeferidos_mes_anterior'] = 0\n",
    "\n",
    "    # Filtrando indeferidos e encerrados\n",
    "    encerrados = coord.query(\"despacho == 'Processo Indeferido e Encerrado'\")\n",
    "    encerrados_grouped = encerrados.groupby(grouper_desp)\n",
    "\n",
    "    try:\n",
    "        data_container['encerrados_mes_referencia'] = int(encerrados_grouped.get_group(data_referencia)['n_processo'].count())\n",
    "    except:\n",
    "        data_container['encerrados_mes_referencia'] = 0\n",
    "        \n",
    "    try:\n",
    "        data_container['encerrados_mes_anterior'] = int(encerrados_grouped.get_group(data_anterior)['n_processo'].count())\n",
    "    except KeyError:\n",
    "        data_container['encerrados_mes_anterior'] = 0\n",
    "        \n",
    "        \n",
    "\n",
    "    return data_container\n",
    "\n",
    "get_ad_despachos()"
   ]
  },
  {
   "cell_type": "code",
   "execution_count": 31,
   "id": "9e83e73f-a3b8-44e3-b1de-b41da64ae039",
   "metadata": {
    "tags": []
   },
   "outputs": [
    {
     "data": {
      "text/plain": [
       "divisao\n",
       "DRGP    32\n",
       "DRPM    32\n",
       "DRU      4\n",
       "Name: count, dtype: int64"
      ]
     },
     "execution_count": 31,
     "metadata": {},
     "output_type": "execute_result"
    }
   ],
   "source": [
    "def get_ad_divisoes(coord):\n",
    "    # Data cointainer\n",
    "    data_container = {}\n",
    "\n",
    "    # Filtrando despachos para coordenadoria\n",
    "    coord = ad_despachos.query(\"(coord == @coord) & ~(quem_despachou == 'Desconhecido/Evento Automático')\")\n",
    "    coord_grouped = coord.groupby(grouper_desp)\n",
    "    \n",
    "    mes_referencia = coord_grouped.get_group(data_referencia)\n",
    "    return mes_referencia['divisao'].value_counts()\n",
    "    \n",
    "get_ad_divisoes('RESID')"
   ]
  },
  {
   "cell_type": "code",
   "execution_count": 32,
   "id": "43cb881d-0ef2-4717-bfe0-a2d592a24774",
   "metadata": {
    "tags": []
   },
   "outputs": [
    {
     "data": {
      "text/plain": [
       "['CAEPP']"
      ]
     },
     "execution_count": 32,
     "metadata": {},
     "output_type": "execute_result"
    }
   ],
   "source": [
    "def get_ad_divisao_list(coord):\n",
    "    # Recebe um objeto Series contendo algumas divisões e retorna o nome de cada uma\n",
    "    \n",
    "    series = get_ad_divisoes(coord)\n",
    "    div_list = [i.split('/')[-1] for i in series.index]\n",
    "\n",
    "    return div_list\n",
    "\n",
    "get_ad_divisao_list('CAEPP')"
   ]
  },
  {
   "cell_type": "code",
   "execution_count": 33,
   "id": "b69b0c98-fcff-4666-a53b-0e04aec12dd2",
   "metadata": {
    "tags": []
   },
   "outputs": [
    {
     "data": {
      "text/plain": [
       "coord\n",
       "PARHIS    387\n",
       "CAEPP     350\n",
       "CONTRU    328\n",
       "RESID     165\n",
       "COMIN      53\n",
       "SERVIN     17\n",
       "GAB         8\n",
       "Name: count, dtype: int64"
      ]
     },
     "execution_count": 33,
     "metadata": {},
     "output_type": "execute_result"
    }
   ],
   "source": [
    "def get_ad_divisoes_ano(coord=None):\n",
    "    # Data cointainer\n",
    "    data_container = {}\n",
    "\n",
    "    # Filtrando despachos para coordenadoria\n",
    "    if coord:\n",
    "        coord = ad_despachos.query(\"(coord == @coord) & ~(quem_despachou == 'Desconhecido/Evento Automático')\")\n",
    "    else:\n",
    "        coord = ad_despachos.query(\"(coord.notnull())\")\n",
    "        \n",
    "    coord_grouped = coord.groupby(grouper_desp_yr)\n",
    "    \n",
    "    ano = coord_grouped.get_group(data_ano_referencia)\n",
    "    return ano['coord'].value_counts()\n",
    "    \n",
    "get_ad_divisoes_ano()"
   ]
  },
  {
   "cell_type": "code",
   "execution_count": 34,
   "id": "b347aa8a-8de2-4cd2-b02f-a09a2cbb0bfb",
   "metadata": {
    "tags": []
   },
   "outputs": [
    {
     "data": {
      "text/plain": [
       "['PARHIS', 'CAEPP', 'CONTRU', 'RESID', 'COMIN', 'SERVIN', 'GAB']"
      ]
     },
     "execution_count": 34,
     "metadata": {},
     "output_type": "execute_result"
    }
   ],
   "source": [
    "def get_ad_divisao_list_ano(coord=None):\n",
    "    # Recebe um objeto Series contendo algumas divisões e retorna o nome de cada uma\n",
    "    \n",
    "    series = get_ad_divisoes_ano(coord)\n",
    "    div_list = [i.split('/')[-1] for i in series.index]\n",
    "\n",
    "    return div_list\n",
    "\n",
    "get_ad_divisao_list_ano()"
   ]
  },
  {
   "cell_type": "code",
   "execution_count": 127,
   "id": "eb9ced7a-faa5-4374-bc5a-03e8d7487f08",
   "metadata": {
    "tags": []
   },
   "outputs": [
    {
     "data": {
      "text/plain": [
       "{'comuniq_mes_referencia': 920, 'comuniq_mes_anterior': 886}"
      ]
     },
     "execution_count": 127,
     "metadata": {},
     "output_type": "execute_result"
    }
   ],
   "source": [
    "def get_ad_comuniqueses(coord=None):\n",
    "    # Data cointainer\n",
    "    data_container = {}\n",
    "\n",
    "    # Filtrando comunique-ses para coordenadoria\n",
    "    if coord:\n",
    "        coord = ad_comuniqueses.query(\"coord == @coord\")\n",
    "        coord_grouped = coord.groupby(grouper_comun)\n",
    "    else:\n",
    "        coord = ad_comuniqueses[:]\n",
    "        coord_grouped  = coord.groupby(grouper_comun)\n",
    "    \n",
    "    try:\n",
    "        data_container['comuniq_mes_referencia'] = int(coord_grouped.get_group(data_referencia)['n_processo'].count())\n",
    "    except KeyError:\n",
    "        data_container['comuniq_mes_referencia'] = 0\n",
    "        \n",
    "    try:\n",
    "        data_container['comuniq_mes_anterior'] = int(coord_grouped.get_group(data_anterior)['n_processo'].count())\n",
    "    except KeyError:\n",
    "        data_container['comuniq_mes_anterior'] = 0\n",
    "    \n",
    "\n",
    "    return data_container\n",
    "\n",
    "get_ad_comuniqueses()"
   ]
  },
  {
   "cell_type": "code",
   "execution_count": 129,
   "id": "75b08179-9f29-4c71-a9b3-63dbabeb8bdf",
   "metadata": {
    "tags": []
   },
   "outputs": [
    {
     "data": {
      "text/plain": [
       "{'aut_mes_referencia': 739, 'aut_mes_anterior': 701}"
      ]
     },
     "execution_count": 129,
     "metadata": {},
     "output_type": "execute_result"
    }
   ],
   "source": [
    "def get_ad_autuados(coord=None):\n",
    "    # Data cointainer\n",
    "    data_container = {}\n",
    "\n",
    "    # Filtrando comunique-ses para coordenadoria\n",
    "    if coord:\n",
    "        coord = ad_main.query(\"(data_autuacao >= @data_anterior) & (data_autuacao < @data_corrente) & (coord_atual == @coord)\")\n",
    "        coord_grouped = coord.groupby(grouper_aut)\n",
    "    else:\n",
    "        coord = ad_main[:]\n",
    "        coord_grouped = coord.groupby(grouper_aut)\n",
    "    \n",
    "    data_container['aut_mes_referencia'] = int(coord_grouped.get_group(data_referencia)['n_processo'].count())\n",
    "    data_container['aut_mes_anterior'] = int(coord_grouped.get_group(data_anterior)['n_processo'].count())\n",
    "\n",
    "    return data_container\n",
    "\n",
    "get_ad_autuados()"
   ]
  },
  {
   "cell_type": "code",
   "execution_count": 37,
   "id": "5f32cfb1-3f30-47c1-b090-528e4f359de5",
   "metadata": {
    "tags": []
   },
   "outputs": [
    {
     "data": {
      "text/plain": [
       "{'despachos': data_despacho\n",
       " 2023-03-01    810\n",
       " 2023-04-01    645\n",
       " 2023-05-01    970\n",
       " 2023-06-01    909\n",
       " 2023-07-01    908\n",
       " 2023-08-01    732\n",
       " 2023-09-01    747\n",
       " 2023-10-01    773\n",
       " 2023-11-01    661\n",
       " 2023-12-01    751\n",
       " 2024-01-01    694\n",
       " 2024-02-01    758\n",
       " Freq: MS, Name: despacho, dtype: int64,\n",
       " 'deferidos': data_despacho\n",
       " 2023-03-01    536\n",
       " 2023-04-01    459\n",
       " 2023-05-01    593\n",
       " 2023-06-01    614\n",
       " 2023-07-01    619\n",
       " 2023-08-01    473\n",
       " 2023-09-01    526\n",
       " 2023-10-01    542\n",
       " 2023-11-01    489\n",
       " 2023-12-01    565\n",
       " 2024-01-01    436\n",
       " 2024-02-01    532\n",
       " Freq: MS, Name: despacho, dtype: int64,\n",
       " 'indeferidos': data_despacho\n",
       " 2023-03-01    231\n",
       " 2023-04-01    167\n",
       " 2023-05-01    311\n",
       " 2023-06-01    261\n",
       " 2023-07-01    258\n",
       " 2023-08-01    223\n",
       " 2023-09-01    184\n",
       " 2023-10-01    190\n",
       " 2023-11-01    151\n",
       " 2023-12-01    164\n",
       " 2024-01-01    223\n",
       " 2024-02-01    196\n",
       " Freq: MS, Name: despacho, dtype: int64,\n",
       " 'encerrados': data_despacho\n",
       " 2023-03-01    43\n",
       " 2023-04-01    19\n",
       " 2023-05-01    66\n",
       " 2023-06-01    34\n",
       " 2023-07-01    31\n",
       " 2023-08-01    36\n",
       " 2023-09-01    37\n",
       " 2023-10-01    41\n",
       " 2023-11-01    21\n",
       " 2023-12-01    22\n",
       " 2024-01-01    35\n",
       " 2024-02-01    30\n",
       " Freq: MS, Name: despacho, dtype: int64}"
      ]
     },
     "execution_count": 37,
     "metadata": {},
     "output_type": "execute_result"
    }
   ],
   "source": [
    "def get_ad_last_12_despachos(coord=None):\n",
    "    # Data cointainer\n",
    "    data_container = {}\n",
    "    \n",
    "    # Filtrando despachos para coordenadoria\n",
    "    if coord:\n",
    "        coord = ad_despachos.query(\"(coord == @coord) & ~(quem_despachou == 'Desconhecido/Evento Automático')\")\n",
    "        coord_grouped = coord.groupby(grouper_desp)\n",
    "    else:\n",
    "        coord = ad_despachos[:]\n",
    "        coord_grouped = coord.groupby(grouper_desp)\n",
    "    \n",
    "    # Ultimos 12 meses de despachos\n",
    "    data_container['despachos'] = coord_grouped['despacho'].count().loc[:data_referencia][-12:]\n",
    "\n",
    "    # Filtrando e extraindo deferidos\n",
    "    deferidos = coord.query(\"despacho == 'Processo Deferido'\").groupby(grouper_desp)\n",
    "    data_container['deferidos'] = deferidos['despacho'].count().loc[:data_referencia][-12:]\n",
    "\n",
    "    # Filtrando e extraindo indeferidos\n",
    "    indeferidos = coord.query(\"despacho == 'Processo Indeferido'\").groupby(grouper_desp)\n",
    "    data_container['indeferidos'] = indeferidos['despacho'].count().loc[:data_referencia][-12:]\n",
    "    \n",
    "    # Indeferidos e encerrados\n",
    "    encerrados = coord.query(\"despacho == 'Processo Indeferido e Encerrado'\").groupby(grouper_desp)\n",
    "    data_container['encerrados'] = encerrados['despacho'].count().loc[:data_referencia][-12:]\n",
    "\n",
    "    return data_container\n",
    "\n",
    "get_ad_last_12_despachos()"
   ]
  },
  {
   "cell_type": "code",
   "execution_count": 38,
   "id": "dc66712f-9275-4fc7-ae87-3d8a198bdf9d",
   "metadata": {
    "tags": []
   },
   "outputs": [
    {
     "data": {
      "text/plain": [
       "data_comuniquese\n",
       "2023-03-01    1424\n",
       "2023-04-01    1112\n",
       "2023-05-01    1404\n",
       "2023-06-01    1312\n",
       "2023-07-01    1268\n",
       "2023-08-01    1134\n",
       "2023-09-01     956\n",
       "2023-10-01     998\n",
       "2023-11-01     864\n",
       "2023-12-01     698\n",
       "2024-01-01     886\n",
       "2024-02-01     920\n",
       "Freq: MS, Name: n_processo, dtype: int64"
      ]
     },
     "execution_count": 38,
     "metadata": {},
     "output_type": "execute_result"
    }
   ],
   "source": [
    "def get_ad_last_12_comuniq(coord=None):\n",
    "    \n",
    "    if coord:\n",
    "        coord = ad_comuniqueses.query(\"(coord == @coord)\")\n",
    "        coord_grouped = coord.groupby(grouper_comun)\n",
    "    else:\n",
    "        coord = ad_comuniqueses[:]\n",
    "        coord_grouped = coord.groupby(grouper_comun)\n",
    "\n",
    "    \n",
    "    # Ultimos 12 meses de despachos\n",
    "    comuniq_12 = coord_grouped['n_processo'].count().loc[:data_referencia][-12:]\n",
    "\n",
    "   \n",
    "    return comuniq_12\n",
    "\n",
    "get_ad_last_12_comuniq()"
   ]
  },
  {
   "cell_type": "code",
   "execution_count": 39,
   "id": "68e9384c-61be-4eee-838a-dfda566599ca",
   "metadata": {
    "tags": []
   },
   "outputs": [
    {
     "data": {
      "text/plain": [
       "data_autuacao\n",
       "2023-03-01     943\n",
       "2023-04-01     869\n",
       "2023-05-01     901\n",
       "2023-06-01    1067\n",
       "2023-07-01     842\n",
       "2023-08-01     966\n",
       "2023-09-01     815\n",
       "2023-10-01     828\n",
       "2023-11-01     808\n",
       "2023-12-01    1193\n",
       "2024-01-01     701\n",
       "2024-02-01     739\n",
       "Name: n_processo, dtype: int64"
      ]
     },
     "execution_count": 39,
     "metadata": {},
     "output_type": "execute_result"
    }
   ],
   "source": [
    "def get_ad_last_12_autuados(coord=None):\n",
    "\n",
    "    # Filtrando despachos para coordenadoria\n",
    "    if coord:\n",
    "        coord = ad_main.query(\"(coord_atual == @coord)\")\n",
    "        coord_grouped = coord.groupby(grouper_aut)\n",
    "    else:\n",
    "        coord = ad_main[:]\n",
    "        coord_grouped = coord.groupby(grouper_aut)\n",
    "    \n",
    "    # Ultimos 12 meses de despachos\n",
    "    aut_12 = coord_grouped['n_processo'].count().loc[:data_referencia][-12:]\n",
    "   \n",
    "    return aut_12\n",
    "\n",
    "get_ad_last_12_autuados()"
   ]
  },
  {
   "cell_type": "code",
   "execution_count": 131,
   "id": "2c5377c4-919f-4d44-8b3c-7ca8cc1d96ca",
   "metadata": {
    "tags": []
   },
   "outputs": [
    {
     "data": {
      "text/plain": [
       "assunto\n",
       "Certificado de Conclusão                                        89\n",
       "Alvará de Aprovação e Execução de Edificação Nova (Exceto HI    72\n",
       "Apostilamento                                                   50\n",
       "Alvará de Aprovação e Execução de Edificação Nova (HIS/ HMP)    49\n",
       "Alvará para Desmembramento/ Remembramento/ Reparcelamento       47\n",
       "Alvará de implantação de Estação Rádio-Base                     40\n",
       "Alvará de Autorização de Implantação e/ou Utilização de Esta    33\n",
       "Alvará de Autorização de Avanço do Tapume Sobre Parte do Pas    29\n",
       "Certificado de Estanqueidade                                    19\n",
       "Alvará de Execução de Edificação Nova (Exceto HIS/ HMP)         17\n",
       "Alvará de Execução de Edificação Nova (HIS/ HMP)                15\n",
       "Alvará de Aprovação e Execução de Reforma (Exceto HIS e HMP)    14\n",
       "Certificado de Segurança                                        10\n",
       "Alvará de Autorização de Avanço de Grua Sobre o Espaço Públi     9\n",
       "Cadastro de tanque de armazenagem, bomba, filtro de combustí     8\n",
       "Alvará de Aprovação de Edificação Nova (HIS/ HMP)                6\n",
       "Alvará de Funcionamento de Local de Reunião                      6\n",
       "Cadastro de Sistema Especial de Segurança                        4\n",
       "Certificado de Acessibilidade                                    3\n",
       "Pedido de Isenção de Taxa                                        3\n",
       "Alvará de Aprovação de Edificação Nova (Exceto HIS/ HMP)         2\n",
       "Alvará de Loteamento + Alvará de Aprovação de Edificação Nov     1\n",
       "Alvará de Desmembramento + Alvará de Aprovação de Edificação     1\n",
       "Manutenção do cadastro de tanque de armazenagem, bomba, filt     1\n",
       "Projeto Modificativo de Alvará de Aprovação e Execução de Re     1\n",
       "Alvará de Desmembramento + Alvará de Aprovação e Execução de     1\n",
       "Alvará de Instalação de Heliponto                                1\n",
       "Projeto Modificativo de Alvará de Aprovação e Execução de Ed     1\n",
       "Name: count, dtype: int64"
      ]
     },
     "execution_count": 131,
     "metadata": {},
     "output_type": "execute_result"
    }
   ],
   "source": [
    "def get_ad_assuntos(coord=None):\n",
    "\n",
    "    # Filtrando despachos deferidos para coordenadoria\n",
    "    if coord:\n",
    "        coord_desp = ad_despachos.query(\"(coord == @coord) & (despacho == 'Processo Deferido')\")\n",
    "    else:\n",
    "        coord_desp = ad_despachos.query(\"(despacho == 'Processo Deferido')\")\n",
    "    \n",
    "    # Filtro para o período\n",
    "    coord_desp_mes = coord_desp.query(\"(data_despacho >= @data_referencia) & (data_despacho < @data_corrente)\")[:]\n",
    "    \n",
    "    # Fazendo um left merge com a planilha principal para adcionar a coluna assunto à tabela de despachos\n",
    "    coord_desp_mes['assunto'] = coord_desp_mes['assunto'].apply(lambda x: x[:60])\n",
    "    #return assuntos.head()\n",
    "    return coord_desp_mes['assunto'].value_counts()\n",
    "\n",
    "\n",
    "get_ad_assuntos()"
   ]
  },
  {
   "cell_type": "code",
   "execution_count": 41,
   "id": "4d07955e-41f3-4b71-a850-f79bb2c88c3f",
   "metadata": {
    "tags": []
   },
   "outputs": [
    {
     "data": {
      "text/plain": [
       "assunto\n",
       "Alvará de Aprovação e Execução de Edificação Nova     222\n",
       "Certificado de Conclusão                              160\n",
       "Apostilamento                                          95\n",
       "Alvará para Desmembramento/ Remembramento/ Reparce     86\n",
       "Alvará de implantação de Estação Rádio-Base            65\n",
       "Alvará de Autorização de Implantação e/ou Utilizaç     49\n",
       "Alvará de Autorização de Avanço do Tapume Sobre Pa     47\n",
       "Alvará de Aprovação e Execução de Reforma (Exceto      32\n",
       "Alvará de Execução de Edificação Nova (Exceto HIS/     31\n",
       "Pedido de Isenção de Taxa                              28\n",
       "Certificado de Estanqueidade                           26\n",
       "Alvará de Execução de Edificação Nova (HIS/ HMP)       22\n",
       "Cadastro de tanque de armazenagem, bomba, filtro d     17\n",
       "Alvará de Autorização de Avanço de Grua Sobre o Es     16\n",
       "Certificado de Segurança                               15\n",
       "Alvará de Aprovação de Edificação Nova (HIS/ HMP)      12\n",
       "Alvará de Aprovação de Edificação Nova (Exceto HIS     10\n",
       "Alvará de Funcionamento de Local de Reunião            10\n",
       "Cadastro de Sistema Especial de Segurança               9\n",
       "Certificado de Acessibilidade                           5\n",
       "Projeto Modificativo de Alvará de Aprovação e Exec      4\n",
       "Alvará de Instalação de Heliponto                       2\n",
       "Alvará de Loteamento + Alvará de Aprovação de Edif      1\n",
       "Alvará de Desmembramento + Alvará de Aprovação de       1\n",
       "Alvará de Desmembramento + Alvará de Aprovação e E      1\n",
       "Manutenção do cadastro de tanque de armazenagem, b      1\n",
       "Alvará de Aprovação de Reforma (Exceto HIS/ HMP)        1\n",
       "Name: count, dtype: int64"
      ]
     },
     "execution_count": 41,
     "metadata": {},
     "output_type": "execute_result"
    }
   ],
   "source": [
    "def get_ad_assuntos_ano(coord=None):\n",
    "\n",
    "    # Filtrando despachos deferidos para coordenadoria\n",
    "    if coord:\n",
    "        coord_desp = ad_despachos.query(\"(coord == @coord) & (despacho == 'Processo Deferido')\")\n",
    "    else:\n",
    "        coord_desp = ad_despachos.query(\"(despacho == 'Processo Deferido')\")\n",
    "        \n",
    "    \n",
    "    # Filtro para o período\n",
    "    coord_desp_ano = coord_desp.query(\"(data_despacho >= @data_ano_referencia) & (data_despacho < @data_corrente)\")[:]\n",
    "    \n",
    "    coord_desp_ano['assunto'] = coord_desp_ano['assunto'].apply(lambda x: x[:50])\n",
    "    #return assuntos.head()\n",
    "    return coord_desp_ano['assunto'].value_counts()\n",
    "\n",
    "get_ad_assuntos_ano()"
   ]
  },
  {
   "cell_type": "code",
   "execution_count": 42,
   "id": "6ec55431-5529-4536-9337-90fbec64aaa8",
   "metadata": {
    "tags": []
   },
   "outputs": [
    {
     "data": {
      "text/plain": [
       "{'Despachos': 15873,\n",
       " 'Deferidos': 10459,\n",
       " 'Indeferidos': 4944,\n",
       " 'Indef e Encerrados': 470,\n",
       " 'Comunique-ses': 0,\n",
       " 'Autuados': 0,\n",
       " 'Estoque': 0}"
      ]
     },
     "execution_count": 42,
     "metadata": {},
     "output_type": "execute_result"
    }
   ],
   "source": [
    "def get_ad_acumulado(coord=None):\n",
    "\n",
    "    data_container = {}\n",
    "\n",
    "    # Filtrando despachos para coordenadoria\n",
    "    if coord:\n",
    "        coord_desp = ad_despachos.query(\"(coord == @coord) & ~(quem_despachou == 'Desconhecido/Evento Automático') & (data_despacho < @data_corrente)\")\n",
    "    else:\n",
    "        coord_desp = ad_despachos.query(\"~(quem_despachou == 'Desconhecido/Evento Automático') & (data_despacho < @data_corrente)\")\n",
    "        \n",
    "    \n",
    "    # Despachos\n",
    "    data_container['Despachos'] = coord_desp.shape[0]\n",
    "    data_container['Deferidos'] = coord_desp.query(\"(despacho == 'Processo Deferido')\").shape[0]\n",
    "    data_container['Indeferidos'] = coord_desp.query(\"(despacho == 'Processo Indeferido')\").shape[0]\n",
    "    data_container['Indef e Encerrados'] = coord_desp.query(\"(despacho == 'Processo Indeferido e Encerrado')\").shape[0]\n",
    "\n",
    "    # Divisões\n",
    "    #for i in get_ad_divisao_list(coord):\n",
    "        #data_container[i] = coord_desp.query('divisao == @i').shape[0]\n",
    "\n",
    "    # Comunique-ses\n",
    "    data_container['Comunique-ses'] = ad_comuniqueses.query(\"(coord == @coord) & (data_comuniquese < @data_corrente)\").shape[0]\n",
    "\n",
    "    # Autuados\n",
    "    data_container['Autuados'] = ad_main.query(\"(coord_atual == @coord) & (data_autuacao < @data_corrente)\").shape[0]\n",
    "    \n",
    "    # Estoque\n",
    "    coord_main = ad_main.query(\"(coord_atual == @coord) & ((status == 'em análise') | (status == 'indeferido') | (status == 'desconhecido'))\")\n",
    "    data_container['Estoque'] = coord_main.shape[0]\n",
    "\n",
    "    return data_container\n",
    "\n",
    "\n",
    "get_ad_acumulado()"
   ]
  },
  {
   "cell_type": "markdown",
   "id": "42bec4a7-acb8-4a4b-a690-ba20a129ded4",
   "metadata": {
    "jp-MarkdownHeadingCollapsed": true,
    "tags": []
   },
   "source": [
    "### SLCe"
   ]
  },
  {
   "cell_type": "code",
   "execution_count": 109,
   "id": "83342ebd-66f8-4d68-929f-c7de213e1546",
   "metadata": {
    "tags": []
   },
   "outputs": [
    {
     "data": {
      "text/plain": [
       "{'despachos_mes_referencia': 376,\n",
       " 'despachos_mes_anterior': 329,\n",
       " 'deferidos_mes_referencia': 414,\n",
       " 'deferidos_mes_anterior': 300,\n",
       " 'indeferidos_mes_referencia': 92,\n",
       " 'indeferidos_mes_anterior': 64,\n",
       " 'encerrados_mes_referencia': 0,\n",
       " 'encerrados_mes_anterior': 0}"
      ]
     },
     "execution_count": 109,
     "metadata": {},
     "output_type": "execute_result"
    }
   ],
   "source": [
    "def get_slce_despachos(coord=None):  # parametro coord retirado\n",
    "    # Data cointainer\n",
    "    data_container = {}\n",
    "\n",
    "    # Filtrando despachos para coordenadoria\n",
    "    coord = slce_despachos.query(\"(coord_despacho == @coord)\")\n",
    "    coord_grouped = coord.groupby(grouper_desp) # coord foi trocado pelo tabela original - slce_despachos\n",
    "    \n",
    "    data_container['despachos_mes_referencia'] = int(coord_grouped.get_group(data_referencia)['n_processo'].count())\n",
    "    data_container['despachos_mes_anterior'] = int(coord_grouped.get_group(data_anterior)['n_processo'].count())\n",
    "\n",
    "    # Filtrando deferidos\n",
    "    deferidos = slce_despachos.query(\"deferido == 'Sim'\")  # coord foi trocado pelo tabela original - slce_despachos\n",
    "    deferidos_grouped = deferidos.groupby(grouper_desp)\n",
    "\n",
    "    data_container['deferidos_mes_referencia'] = int(deferidos_grouped.get_group(data_referencia)['n_processo'].count())\n",
    "    data_container['deferidos_mes_anterior'] = int(deferidos_grouped.get_group(data_anterior)['n_processo'].count())\n",
    "\n",
    "\n",
    "    # Filtrando indeferidos\n",
    "    indeferidos = slce_despachos.query(\"deferido == 'Não'\")  # coord foi trocado pelo tabela original - slce_despachos\n",
    "    indeferidos_grouped = indeferidos.groupby(grouper_desp)\n",
    "\n",
    "    data_container['indeferidos_mes_referencia'] = int(indeferidos_grouped.get_group(data_referencia)['n_processo'].count())\n",
    "    data_container['indeferidos_mes_anterior'] = int(indeferidos_grouped.get_group(data_anterior)['n_processo'].count())\n",
    "\n",
    "\n",
    "    # Filtrando indeferidos e encerrados\n",
    "    encerrados = slce_despachos.query(\"(deferido == 'Não') & (situacao == 'Indeferido - Encerrado')\")  # coord foi trocado pelo tabela original - slce_despachos\n",
    "    encerrados_grouped = encerrados.groupby(grouper_desp)\n",
    "\n",
    "    try:\n",
    "        data_container['encerrados_mes_referencia'] = int(encerrados_grouped.get_group(data_referencia)['n_processo'].count())\n",
    "        data_container['encerrados_mes_anterior'] = int(encerrados_grouped.get_group(data_anterior)['n_processo'].count())\n",
    "    \n",
    "    except KeyError:\n",
    "        data_container['encerrados_mes_referencia'] = 0\n",
    "        data_container['encerrados_mes_anterior'] = 0\n",
    "\n",
    "\n",
    "    return data_container\n",
    "\n",
    "get_slce_despachos('CAEPP')"
   ]
  },
  {
   "cell_type": "code",
   "execution_count": 44,
   "id": "cecc2936-0eae-44f8-9ce3-4d2b8ebcd0de",
   "metadata": {
    "tags": []
   },
   "outputs": [
    {
     "data": {
      "text/plain": [
       "{'comuniq_mes_referencia': 374, 'comuniq_mes_anterior': 368}"
      ]
     },
     "execution_count": 44,
     "metadata": {},
     "output_type": "execute_result"
    }
   ],
   "source": [
    "def get_slce_comuniqueses():\n",
    "    # Data cointainer\n",
    "    data_container = {}\n",
    "\n",
    "    # Filtrando comunique-ses para coordenadoria\n",
    "    #coord = slce_comuniqueses.query(\"(coord_comuniquese == @coord)\")\n",
    "    coord_grouped = slce_comuniqueses.groupby(grouper_comun) # coord foi trocado pelo tabela original - slce_despachos\n",
    "    \n",
    "    data_container['comuniq_mes_referencia'] = int(coord_grouped.get_group(data_referencia)['n_processo'].count())\n",
    "    data_container['comuniq_mes_anterior'] = int(coord_grouped.get_group(data_anterior)['n_processo'].count())\n",
    "\n",
    "\n",
    "    return data_container\n",
    "\n",
    "get_slce_comuniqueses()"
   ]
  },
  {
   "cell_type": "code",
   "execution_count": 45,
   "id": "1ed99691-69ed-4001-85c2-35178a5b0bb0",
   "metadata": {
    "tags": []
   },
   "outputs": [
    {
     "data": {
      "text/plain": [
       "{'aut_mes_referencia': 520, 'aut_mes_anterior': 419}"
      ]
     },
     "execution_count": 45,
     "metadata": {},
     "output_type": "execute_result"
    }
   ],
   "source": [
    "def get_slce_autuados():\n",
    "    # Data cointainer\n",
    "    data_container = {}\n",
    "\n",
    "    # Filtrando comunique-ses para coordenadoria\n",
    "    #coord = slce_main.query(\"(data_autuacao >= @data_anterior) & (data_autuacao < @data_corrente) & (coord_atual == @coord)\")\n",
    "    coord_grouped = slce_main.groupby(grouper_aut) # coord foi trocado pelo tabela original - slce_main\n",
    "    \n",
    "    data_container['aut_mes_referencia'] = int(coord_grouped.get_group(data_referencia)['n_processo'].count())\n",
    "    data_container['aut_mes_anterior'] = int(coord_grouped.get_group(data_anterior)['n_processo'].count())\n",
    "\n",
    "\n",
    "    return data_container\n",
    "\n",
    "get_slce_autuados()"
   ]
  },
  {
   "cell_type": "code",
   "execution_count": 46,
   "id": "9354cf47-af97-4888-983e-c42a3580f8bb",
   "metadata": {
    "tags": []
   },
   "outputs": [
    {
     "data": {
      "text/plain": [
       "{'despachos': data_despacho\n",
       " 2023-03-01    703\n",
       " 2023-04-01    800\n",
       " 2023-05-01    939\n",
       " 2023-06-01    615\n",
       " 2023-07-01    668\n",
       " 2023-08-01    463\n",
       " 2023-09-01    412\n",
       " 2023-10-01    457\n",
       " 2023-11-01    449\n",
       " 2023-12-01    414\n",
       " 2024-01-01    364\n",
       " 2024-02-01    506\n",
       " Freq: MS, Name: deferido, dtype: int64,\n",
       " 'deferidos': data_despacho\n",
       " 2023-03-01    560\n",
       " 2023-04-01    579\n",
       " 2023-05-01    712\n",
       " 2023-06-01    442\n",
       " 2023-07-01    512\n",
       " 2023-08-01    334\n",
       " 2023-09-01    363\n",
       " 2023-10-01    419\n",
       " 2023-11-01    423\n",
       " 2023-12-01    348\n",
       " 2024-01-01    300\n",
       " 2024-02-01    414\n",
       " Freq: MS, Name: deferido, dtype: int64,\n",
       " 'indeferidos': data_despacho\n",
       " 2023-03-01    143\n",
       " 2023-04-01    221\n",
       " 2023-05-01    227\n",
       " 2023-06-01    173\n",
       " 2023-07-01    156\n",
       " 2023-08-01    129\n",
       " 2023-09-01     49\n",
       " 2023-10-01     38\n",
       " 2023-11-01     26\n",
       " 2023-12-01     66\n",
       " 2024-01-01     64\n",
       " 2024-02-01     92\n",
       " Freq: MS, Name: deferido, dtype: int64,\n",
       " 'encerrados': data_despacho\n",
       " 2023-02-01     77\n",
       " 2023-03-01     98\n",
       " 2023-04-01    148\n",
       " 2023-05-01    159\n",
       " 2023-06-01    125\n",
       " 2023-07-01     87\n",
       " 2023-08-01     74\n",
       " 2023-09-01     36\n",
       " 2023-10-01     28\n",
       " 2023-11-01     14\n",
       " 2023-12-01     30\n",
       " 2024-01-01     45\n",
       " Freq: MS, Name: deferido, dtype: int64}"
      ]
     },
     "execution_count": 46,
     "metadata": {},
     "output_type": "execute_result"
    }
   ],
   "source": [
    "def get_slce_last_12_despachos():\n",
    "    # Data cointainer\n",
    "    data_container = {}\n",
    "\n",
    "    # Filtrando despachos para coordenadoria\n",
    "    #coord = slce_despachos.query(\"(coord_despacho == @coord)\")\n",
    "    coord_grouped = slce_despachos.groupby(grouper_desp) # coord foi trocado pelo tabela original - slce_despachos\n",
    "    \n",
    "    # Ultimos 12 meses de despachos\n",
    "    data_container['despachos'] = coord_grouped['deferido'].count().loc[:data_referencia][-12:]\n",
    "\n",
    "    # Fiitrando e extraindo deferidos\n",
    "    deferidos = slce_despachos.query(\"deferido == 'Sim'\").groupby(grouper_desp) # coord foi trocado pelo tabela original - slce_despachos\n",
    "    data_container['deferidos'] = deferidos['deferido'].count().loc[:data_referencia][-12:]\n",
    "\n",
    "    # Fiitrando e extraindo indeferidos\n",
    "    indeferidos = slce_despachos.query(\"deferido == 'Não'\").groupby(grouper_desp) # coord foi trocado pelo tabela original - slce_despachos\n",
    "    data_container['indeferidos'] = indeferidos['deferido'].count().loc[:data_referencia][-12:]\n",
    "    \n",
    "        # Indeferidos e encerrados\n",
    "    encerrados = slce_despachos.query(\"(deferido == 'Não') & (situacao == 'Indeferido - Encerrado')\").groupby(grouper_desp)\n",
    "    data_container['encerrados'] = encerrados['deferido'].count().loc[:data_referencia][-12:]\n",
    "\n",
    "\n",
    "    return data_container\n",
    "\n",
    "get_slce_last_12_despachos()"
   ]
  },
  {
   "cell_type": "code",
   "execution_count": 47,
   "id": "6e0d640f-6968-4173-9e5f-8871453cb863",
   "metadata": {
    "tags": []
   },
   "outputs": [
    {
     "data": {
      "text/plain": [
       "data_comuniquese\n",
       "2023-03-01    590\n",
       "2023-04-01    497\n",
       "2023-05-01    580\n",
       "2023-06-01    418\n",
       "2023-07-01    353\n",
       "2023-08-01    163\n",
       "2023-09-01    112\n",
       "2023-10-01    222\n",
       "2023-11-01    281\n",
       "2023-12-01    222\n",
       "2024-01-01    368\n",
       "2024-02-01    374\n",
       "Freq: MS, Name: n_processo, dtype: int64"
      ]
     },
     "execution_count": 47,
     "metadata": {},
     "output_type": "execute_result"
    }
   ],
   "source": [
    "def get_slce_last_12_comuniq():\n",
    "\n",
    "    # Filtrando despachos para coordenadoria\n",
    "    #coord = slce_comuniqueses.query(\"(coord_comuniquese == @coord)\") # coord foi trocado pelo tabela original - slce_comuniqueses\n",
    "    coord_grouped = slce_comuniqueses.groupby(grouper_comun)\n",
    "    \n",
    "    # Ultimos 12 meses de despachos\n",
    "    comuniq_12 = coord_grouped['n_processo'].count().loc[:data_referencia][-12:]\n",
    "\n",
    "    return comuniq_12\n",
    "\n",
    "get_slce_last_12_comuniq()"
   ]
  },
  {
   "cell_type": "code",
   "execution_count": 48,
   "id": "bac6bedf-a850-4ab5-bec5-2b10c979852b",
   "metadata": {
    "tags": []
   },
   "outputs": [
    {
     "data": {
      "text/plain": [
       "data_autuacao\n",
       "2023-03-01    687\n",
       "2023-04-01    600\n",
       "2023-05-01    687\n",
       "2023-06-01    649\n",
       "2023-07-01    603\n",
       "2023-08-01    625\n",
       "2023-09-01    557\n",
       "2023-10-01    566\n",
       "2023-11-01    585\n",
       "2023-12-01    473\n",
       "2024-01-01    419\n",
       "2024-02-01    520\n",
       "Freq: MS, Name: n_processo, dtype: int64"
      ]
     },
     "execution_count": 48,
     "metadata": {},
     "output_type": "execute_result"
    }
   ],
   "source": [
    "def get_slce_last_12_autuados():\n",
    "\n",
    "    # Filtrando despachos para coordenadoria\n",
    "    #coord = slce_main.query(\"(coord_atual == @coord)\")\n",
    "    coord_grouped = slce_main.groupby(grouper_aut) # coord foi trocado pelo tabela original - slce_despachos\n",
    "    \n",
    "    # Ultimos 12 meses de despachos\n",
    "    aut_12 = coord_grouped['n_processo'].count().loc[:data_referencia][-12:]\n",
    "   \n",
    "    return aut_12\n",
    "\n",
    "get_slce_last_12_autuados()"
   ]
  },
  {
   "cell_type": "code",
   "execution_count": 49,
   "id": "367216d0-aa7e-4855-bdef-78f5dd0d3136",
   "metadata": {
    "tags": []
   },
   "outputs": [
    {
     "data": {
      "text/plain": [
       "assunto\n",
       "Alvará de Autorização para avanço de Tapume sobre     116\n",
       "Alvará de Execução de Demolição                        92\n",
       "Alvará de Aprovação e Execução para Residência Uni     75\n",
       "Alvará de Autorização de Implantação e/ou Utilizaç     54\n",
       "Certificado de Conclusão de Demolição                  39\n",
       "Certificado de Conclusão                               26\n",
       "Alvará de Aprovação de Reforma                          3\n",
       "Alvará de Aprovação de Edificação Nova                  2\n",
       "Alvará de Licença para Residências Unifamiliares        2\n",
       "Alvará de Execução de Edificação Nova                   2\n",
       "Alvará de Execução de Reforma                           2\n",
       "Alvará de Desmembramento de Lote                        1\n",
       "Name: count, dtype: int64"
      ]
     },
     "execution_count": 49,
     "metadata": {},
     "output_type": "execute_result"
    }
   ],
   "source": [
    "def get_slce_assuntos():\n",
    "\n",
    "    # Filtrando despachos deferidos para coordenadoria\n",
    "    coord_desp = slce_despachos.query(\"(deferido == 'Sim')\") # retirado: (coord_despacho == @coord) & \n",
    "    # Filtro para o período\n",
    "    coord_desp_mes = coord_desp.query(\"(data_despacho >= @data_referencia) & (data_despacho < @data_corrente)\")\n",
    "\n",
    "    # Fazendo um left merge com a planilha principal para adcionar a coluna assunto à tabela de despachos\n",
    "    assuntos = coord_desp_mes.merge(slce_main[['n_processo', 'assunto']].drop_duplicates(subset=['n_processo']), on='n_processo', how='left')\n",
    "    assuntos['assunto'] = assuntos['assunto_x'].apply(lambda x: x[:50])\n",
    "    return assuntos['assunto'].value_counts()\n",
    "\n",
    "\n",
    "get_slce_assuntos()"
   ]
  },
  {
   "cell_type": "code",
   "execution_count": 50,
   "id": "d335d4bb-dbec-4367-9676-59be318fb51b",
   "metadata": {
    "tags": []
   },
   "outputs": [
    {
     "data": {
      "text/plain": [
       "{'Despachos': 32142,\n",
       " 'Deferidos': 19010,\n",
       " 'Indeferidos': 13132,\n",
       " 'Indef. Encerrados': 4390,\n",
       " 'Comunique-ses': 30255,\n",
       " 'Autuados': 39173,\n",
       " 'Estoque': 15844}"
      ]
     },
     "execution_count": 50,
     "metadata": {},
     "output_type": "execute_result"
    }
   ],
   "source": [
    "# Para valores históricos, devemos misturar GTEL com CAEPP? POr equanto será usado apenas GTEL\n",
    "def get_slce_acumulado():\n",
    "\n",
    "    data_container = {}\n",
    "\n",
    "    # Filtrando despachos para coordenadoria\n",
    "    coord_desp = slce_despachos.query(\"(data_despacho < @data_corrente)\") # Retirado: (coord_despacho == @coord) &\n",
    "    \n",
    "    # Despachos\n",
    "    data_container['Despachos'] = coord_desp.shape[0]\n",
    "    data_container['Deferidos'] = coord_desp.query(\"(deferido == 'Sim')\").shape[0]\n",
    "    data_container['Indeferidos'] = coord_desp.query(\"(deferido == 'Não')\").shape[0]\n",
    "    data_container['Indef. Encerrados'] = coord_desp.query(\"(deferido == 'Não') & (situacao == 'Indeferido - Encerrado')\").shape[0]\n",
    "\n",
    "    # Divisões\n",
    "    for i in coord_desp['coord_despacho'].value_counts().index:\n",
    "        div_name = i.split('/')[-1]\n",
    "        data_container[div_name] = coord_desp.query('coord_despacho == @i').shape[0]\n",
    "\n",
    "    # Comunique-ses\n",
    "    data_container['Comunique-ses'] = slce_comuniqueses.query(\"(data_comuniquese < @data_corrente)\").shape[0] # Retirado: (coord_comuniquese == @coord) & \n",
    "\n",
    "    # Autuados\n",
    "    data_container['Autuados'] = slce_main.query(\"(data_autuacao < @data_corrente)\").shape[0] # Retirado: (coord_atual == @coord) & \n",
    "    \n",
    "    # Estoque\n",
    "    status_ativos = ['Processo Físico', 'Indeferido', 'Em Análise', 'Processando Despacho', 'Solicitação Enviada', 'Em Comunique-se', 'Processando Comunique-se', 'Aguardando Pagamento', 'Aguardando Aceite']\n",
    "    coord_main = slce_main.query(\"status.isin(@status_ativos)\") # Retirado: (coord_atual == @coord) & \n",
    "    data_container['Estoque'] = coord_main.shape[0]\n",
    "    \n",
    "    del data_container['CAEPP']\n",
    "    del data_container['COMIN']\n",
    "    del data_container['Processo Eletrônico']\n",
    "    del data_container['PARHIS-G']\n",
    "    del data_container['SERVIN']\n",
    "    del data_container['GAB']\n",
    "    del data_container['CONTRU-G']\n",
    "    del data_container['PARHIS-3']\n",
    "    del data_container['COMIN-GTEA']\n",
    "    del data_container['CAEPP-DERPP']\n",
    "    del data_container['RESID']\n",
    "    del data_container['PARHIS-DPS']\n",
    "\n",
    "    return data_container\n",
    "\n",
    "\n",
    "get_slce_acumulado()"
   ]
  },
  {
   "cell_type": "markdown",
   "id": "8e29281c-baae-403b-b8e6-0d39f23a6b97",
   "metadata": {
    "jp-MarkdownHeadingCollapsed": true,
    "tags": []
   },
   "source": [
    "### SISSEL"
   ]
  },
  {
   "cell_type": "code",
   "execution_count": 121,
   "id": "55e3d39b-d67d-4378-87a3-75d7a34a4272",
   "metadata": {
    "tags": []
   },
   "outputs": [
    {
     "data": {
      "text/plain": [
       "{'despachos_mes_referencia': 334,\n",
       " 'despachos_mes_anterior': 329,\n",
       " 'deferidos_mes_referencia': 182,\n",
       " 'deferidos_mes_anterior': 163,\n",
       " 'indeferidos_mes_referencia': 150,\n",
       " 'indeferidos_mes_anterior': 161}"
      ]
     },
     "execution_count": 121,
     "metadata": {},
     "output_type": "execute_result"
    }
   ],
   "source": [
    "def get_sissel_despachos(coord=None):\n",
    "    # Data cointainer\n",
    "    data_container = {}\n",
    "    \n",
    "    # Filtrando despachos para coordenadoria\n",
    "    if coord:\n",
    "        coord = sissel_despachos.query(\"(coord == @coord)\")\n",
    "        coord_grouped = coord.groupby(grouper_desp)\n",
    "    else:\n",
    "        coord = sissel_despachos[:]\n",
    "        coord_grouped = coord.groupby(grouper_desp)\n",
    "\n",
    "    try:\n",
    "        data_container['despachos_mes_referencia'] = int(coord_grouped.get_group(data_referencia)['n_processo'].count())\n",
    "    except KeyError:\n",
    "        data_container['despachos_mes_referencia'] = 0\n",
    "    try:\n",
    "        data_container['despachos_mes_anterior'] = int(coord_grouped.get_group(data_anterior)['n_processo'].count())\n",
    "    except KeyError:\n",
    "        data_container['despachos_mes_anterior'] = 0\n",
    "\n",
    "    # Filtrando deferidos\n",
    "    deferidos = coord.query(\"situacao == 'COM PROPOSTA DE DEFERIMENTO'\")\n",
    "    deferidos_grouped = deferidos.groupby(grouper_desp)\n",
    "\n",
    "    try:\n",
    "        data_container['deferidos_mes_referencia'] = int(deferidos_grouped.get_group(data_referencia)['n_processo'].count())\n",
    "    except KeyError:\n",
    "        data_container['deferidos_mes_referencia'] = 0\n",
    "    try:\n",
    "        data_container['deferidos_mes_anterior'] = int(deferidos_grouped.get_group(data_anterior)['n_processo'].count())\n",
    "    except KeyError:\n",
    "        data_container['deferidos_mes_anterior'] = 0\n",
    "\n",
    "    # Filtrando indeferidos\n",
    "    indeferidos = coord.query(\"situacao == 'COM PROPOSTA DE INDEFERIMENTO'\")\n",
    "    indeferidos_grouped = indeferidos.groupby(grouper_desp)\n",
    "\n",
    "    try:\n",
    "        data_container['indeferidos_mes_referencia'] = int(indeferidos_grouped.get_group(data_referencia)['n_processo'].count())\n",
    "    except KeyError:\n",
    "        data_container['indeferidos_mes_referencia'] = 0\n",
    "    try:\n",
    "        data_container['indeferidos_mes_anterior'] = int(indeferidos_grouped.get_group(data_anterior)['n_processo'].count())\n",
    "    except KeyError:\n",
    "        data_container['indeferidos_mes_anterior'] = 0\n",
    "\n",
    "    return data_container\n",
    "\n",
    "get_sissel_despachos()"
   ]
  },
  {
   "cell_type": "code",
   "execution_count": 52,
   "id": "9c231fe3-78c1-43a7-b6fe-f05aaa22e5e6",
   "metadata": {
    "tags": []
   },
   "outputs": [
    {
     "data": {
      "text/plain": [
       "divisao\n",
       "CAEPP    9\n",
       "Name: count, dtype: int64"
      ]
     },
     "execution_count": 52,
     "metadata": {},
     "output_type": "execute_result"
    }
   ],
   "source": [
    "def get_sissel_divisoes(coord):\n",
    "    # Data cointainer\n",
    "    data_container = {}\n",
    "\n",
    "    # Filtrando despachos para coordenadoria\n",
    "    coord = sissel_despachos.query(\"(coord == @coord)\")\n",
    "    coord_grouped = coord.groupby(grouper_desp)\n",
    "    \n",
    "    mes_referencia = coord_grouped.get_group(data_referencia)\n",
    "    \n",
    "    return mes_referencia['divisao'].value_counts()\n",
    "    \n",
    "get_sissel_divisoes('CAEPP')"
   ]
  },
  {
   "cell_type": "code",
   "execution_count": 53,
   "id": "73278fd3-d3f3-4c89-b7d0-25450e01dea0",
   "metadata": {
    "tags": []
   },
   "outputs": [
    {
     "name": "stdout",
     "output_type": "stream",
     "text": [
      "['CAEPP']\n"
     ]
    }
   ],
   "source": [
    "def get_sissel_divisao_list(coord):\n",
    "    # Recebe um objeto Series contendo algumas divisões e retorna o nome de cada uma\n",
    "    \n",
    "    series = get_sissel_divisoes(coord)\n",
    "    div_list = [i.split('/')[-1] for i in series.index]\n",
    "\n",
    "    return div_list\n",
    "\n",
    "print(get_sissel_divisao_list('CAEPP'))"
   ]
  },
  {
   "cell_type": "code",
   "execution_count": 54,
   "id": "9ac0c2a6-2e08-4abe-90a8-dd65e20a20cb",
   "metadata": {
    "tags": []
   },
   "outputs": [
    {
     "data": {
      "text/plain": [
       "coord\n",
       "CONTRU    445\n",
       "PARHIS     65\n",
       "RESID      53\n",
       "COMIN      51\n",
       "SERVIN     33\n",
       "CAEPP      13\n",
       "GAB         2\n",
       "LICEN       1\n",
       "Name: count, dtype: int64"
      ]
     },
     "execution_count": 54,
     "metadata": {},
     "output_type": "execute_result"
    }
   ],
   "source": [
    "def get_sissel_divisoes_ano(coord=None):\n",
    "    # Data cointainer\n",
    "    data_container = {}\n",
    "\n",
    "    # Filtrando despachos para coordenadoria\n",
    "    if coord:\n",
    "        coord = sissel_despachos.query(\"(coord == @coord)\")\n",
    "    else:\n",
    "        coord = sissel_despachos[:]\n",
    "        \n",
    "    coord_grouped = coord.groupby(grouper_desp_yr)\n",
    "    \n",
    "    ano = coord_grouped.get_group(data_ano_referencia)\n",
    "    return ano['coord'].value_counts()\n",
    "    \n",
    "get_sissel_divisoes_ano()"
   ]
  },
  {
   "cell_type": "code",
   "execution_count": 55,
   "id": "bcf00704-d621-4cdc-87aa-5a12a706dfee",
   "metadata": {
    "tags": []
   },
   "outputs": [
    {
     "data": {
      "text/plain": [
       "['CONTRU', 'PARHIS', 'RESID', 'COMIN', 'SERVIN', 'CAEPP', 'GAB', 'LICEN']"
      ]
     },
     "execution_count": 55,
     "metadata": {},
     "output_type": "execute_result"
    }
   ],
   "source": [
    "def get_sissel_divisao_list_ano(coord=None):\n",
    "    # Recebe um objeto Series contendo algumas divisões e retorna o nome de cada uma\n",
    "    \n",
    "    series = get_sissel_divisoes_ano(coord)\n",
    "    div_list = [i.split('/')[-1] for i in series.index]\n",
    "\n",
    "    return div_list\n",
    "\n",
    "get_sissel_divisao_list_ano()"
   ]
  },
  {
   "cell_type": "code",
   "execution_count": 134,
   "id": "8ccebe57-68da-478b-b1d5-6c394752752f",
   "metadata": {
    "tags": []
   },
   "outputs": [
    {
     "data": {
      "text/plain": [
       "{'comuniq_mes_referencia': 408, 'comuniq_mes_anterior': 393}"
      ]
     },
     "execution_count": 134,
     "metadata": {},
     "output_type": "execute_result"
    }
   ],
   "source": [
    "def get_sissel_comuniqueses(coord=None):\n",
    "    # Data cointainer\n",
    "    data_container = {}\n",
    "\n",
    "    # Filtrando comunique-ses para coordenadoria\n",
    "    if coord:\n",
    "        coord = sissel_comuniqueses.query(\"coord == @coord\")\n",
    "        coord_grouped = coord.groupby(grouper_comun)\n",
    "    else:\n",
    "        coord = sissel_comuniqueses[:]\n",
    "        coord_grouped = coord.groupby(grouper_comun)\n",
    "\n",
    "    \n",
    "    try:\n",
    "        data_container['comuniq_mes_referencia'] = int(coord_grouped.get_group(data_referencia)['n_processo'].count())\n",
    "    except KeyError:\n",
    "        data_container['comuniq_mes_referencia'] = 0\n",
    "    try:\n",
    "        data_container['comuniq_mes_anterior'] = int(coord_grouped.get_group(data_anterior)['n_processo'].count())\n",
    "    except KeyError:\n",
    "        data_container['comuniq_mes_anterior'] = 0\n",
    "\n",
    "    return data_container\n",
    "\n",
    "get_sissel_comuniqueses()"
   ]
  },
  {
   "cell_type": "code",
   "execution_count": 57,
   "id": "51da2522-7ad1-4f20-9175-d3e28253e636",
   "metadata": {
    "tags": []
   },
   "outputs": [
    {
     "data": {
      "text/plain": [
       "'\\ndef get_ad_autuados(coord):\\n    # Data cointainer\\n    data_container = {}\\n\\n    # Filtrando comunique-ses para coordenadoria\\n    coord = ad_main.query(\"(data_autuacao >= @data_anterior) & (data_autuacao < @data_corrente) & (coord_autuacao == @coord)\")\\n    coord_grouped = coord.groupby(grouper_aut)\\n    \\n    data_container[\\'aut_mes_referencia\\'] = int(coord_grouped.get_group(data_referencia)[\\'n_processo\\'].count())\\n    data_container[\\'aut_mes_anterior\\'] = int(coord_grouped.get_group(data_anterior)[\\'n_processo\\'].count())\\n\\n    return data_container\\n\\nget_ad_autuados(\\'CAEPP\\')\\n'"
      ]
     },
     "execution_count": 57,
     "metadata": {},
     "output_type": "execute_result"
    }
   ],
   "source": [
    "# Dados incompletos impedem a implementação\n",
    "\"\"\"\n",
    "def get_ad_autuados(coord):\n",
    "    # Data cointainer\n",
    "    data_container = {}\n",
    "\n",
    "    # Filtrando comunique-ses para coordenadoria\n",
    "    coord = ad_main.query(\"(data_autuacao >= @data_anterior) & (data_autuacao < @data_corrente) & (coord_autuacao == @coord)\")\n",
    "    coord_grouped = coord.groupby(grouper_aut)\n",
    "    \n",
    "    data_container['aut_mes_referencia'] = int(coord_grouped.get_group(data_referencia)['n_processo'].count())\n",
    "    data_container['aut_mes_anterior'] = int(coord_grouped.get_group(data_anterior)['n_processo'].count())\n",
    "\n",
    "    return data_container\n",
    "\n",
    "get_ad_autuados('CAEPP')\n",
    "\"\"\"\n"
   ]
  },
  {
   "cell_type": "code",
   "execution_count": 58,
   "id": "8cf1dd98-171c-4ffc-8a45-b482199c2dd4",
   "metadata": {
    "tags": []
   },
   "outputs": [
    {
     "data": {
      "text/plain": [
       "{'despachos': data_despacho\n",
       " 2023-03-01    532\n",
       " 2023-04-01    326\n",
       " 2023-05-01    484\n",
       " 2023-06-01    455\n",
       " 2023-07-01    384\n",
       " 2023-08-01    369\n",
       " 2023-09-01    384\n",
       " 2023-10-01    440\n",
       " 2023-11-01    368\n",
       " 2023-12-01    297\n",
       " 2024-01-01    329\n",
       " 2024-02-01    334\n",
       " Freq: MS, Name: situacao, dtype: int64,\n",
       " 'deferidos': data_despacho\n",
       " 2023-03-01    290\n",
       " 2023-04-01    196\n",
       " 2023-05-01    265\n",
       " 2023-06-01    264\n",
       " 2023-07-01    240\n",
       " 2023-08-01    234\n",
       " 2023-09-01    226\n",
       " 2023-10-01    275\n",
       " 2023-11-01    207\n",
       " 2023-12-01    194\n",
       " 2024-01-01    163\n",
       " 2024-02-01    182\n",
       " Freq: MS, Name: situacao, dtype: int64,\n",
       " 'indeferidos': data_despacho\n",
       " 2023-03-01    241\n",
       " 2023-04-01    130\n",
       " 2023-05-01    218\n",
       " 2023-06-01    190\n",
       " 2023-07-01    142\n",
       " 2023-08-01    133\n",
       " 2023-09-01    158\n",
       " 2023-10-01    163\n",
       " 2023-11-01    161\n",
       " 2023-12-01    100\n",
       " 2024-01-01    161\n",
       " 2024-02-01    150\n",
       " Freq: MS, Name: situacao, dtype: int64}"
      ]
     },
     "execution_count": 58,
     "metadata": {},
     "output_type": "execute_result"
    }
   ],
   "source": [
    "def get_sissel_last_12_despachos(coord=None):\n",
    "    # Data cointainer\n",
    "    data_container = {}\n",
    "\n",
    "    # Filtrando despachos para coordenadoria\n",
    "    if coord:\n",
    "        coord = sissel_despachos.query(\"(coord == @coord)\")\n",
    "    else:\n",
    "        coord = sissel_despachos[:]\n",
    "        \n",
    "    coord_grouped = coord.groupby(grouper_desp)\n",
    "    \n",
    "    # Ultimos 12 meses de despachos\n",
    "    data_container['despachos'] = coord_grouped['situacao'].count().loc[:data_referencia][-12:]\n",
    "\n",
    "    # Fiitrando e extraindo deferidos\n",
    "    deferidos = coord.query(\"situacao == 'COM PROPOSTA DE DEFERIMENTO'\").groupby(grouper_desp)\n",
    "    data_container['deferidos'] = deferidos['situacao'].count().loc[:data_referencia][-12:]\n",
    "\n",
    "    # Fiitrando e extraindo indeferidos\n",
    "    indeferidos = coord.query(\"situacao == 'COM PROPOSTA DE INDEFERIMENTO'\").groupby(grouper_desp)\n",
    "    data_container['indeferidos'] = indeferidos['situacao'].count().loc[:data_referencia][-12:]\n",
    "\n",
    "\n",
    "    return data_container\n",
    "\n",
    "get_sissel_last_12_despachos()"
   ]
  },
  {
   "cell_type": "code",
   "execution_count": 78,
   "id": "1474d34e-c110-41c2-8bd0-40c199bb1a42",
   "metadata": {
    "tags": []
   },
   "outputs": [
    {
     "data": {
      "text/plain": [
       "data_comuniquese\n",
       "2023-03-01    559\n",
       "2023-04-01    469\n",
       "2023-05-01    492\n",
       "2023-06-01    430\n",
       "2023-07-01    384\n",
       "2023-08-01    520\n",
       "2023-09-01    534\n",
       "2023-10-01    441\n",
       "2023-11-01    364\n",
       "2023-12-01    726\n",
       "2024-01-01    393\n",
       "2024-02-01    408\n",
       "Freq: MS, Name: n_processo, dtype: int64"
      ]
     },
     "execution_count": 78,
     "metadata": {},
     "output_type": "execute_result"
    }
   ],
   "source": [
    "def get_sissel_last_12_comuniq(coord=None):\n",
    "\n",
    "    # Filtrando despachos para coordenadoria\n",
    "    if coord:\n",
    "        coord = sissel_comuniqueses.query(\"(coord == @coord)\")\n",
    "    else:\n",
    "        coord = sissel_comuniqueses[:]\n",
    "        \n",
    "    coord_grouped = coord.groupby(grouper_comun)\n",
    "    \n",
    "    # Ultimos 12 meses de despachos\n",
    "    comuniq_12 = coord_grouped['n_processo'].count().loc[:data_referencia][-12:]\n",
    "    \"\"\"\n",
    "    if len(comuniq_12) == 1:\n",
    "        fake_comun = pd.DataFrame({'data_comuniquese': data_atual, 'coord_comuniquese': None, 'n_processo': 'filler',\n",
    "                        'data_extracao': None, 'coord': 'CAEPP', 'divisao': 'CAEPP'}, index=[1])\n",
    "        \n",
    "        coord = pd.concat([coord, fake_comun])\n",
    "        coord.reset_index(drop=True, inplace=True)\n",
    "        \n",
    "        coord_grouped = coord.groupby(grouper_comun)\n",
    "        \n",
    "        # Ultimos 12 meses de despachos\n",
    "        comuniq_12 = coord_grouped['n_processo'].count().loc[:data_referencia][-12:]\n",
    "    \"\"\"\n",
    "    return comuniq_12\n",
    "\n",
    "get_sissel_last_12_comuniq()"
   ]
  },
  {
   "cell_type": "code",
   "execution_count": 60,
   "id": "9570f51d-61d3-47ab-a27d-326b5f66cf1f",
   "metadata": {
    "tags": []
   },
   "outputs": [
    {
     "data": {
      "text/plain": [
       "'\\ndef get_ad_last_12_autuados(coord):\\n\\n    # Filtrando despachos para coordenadoria\\n    coord = ad_main.query(\"(coord_autuacao == @coord)\")\\n    coord_grouped = coord.groupby(grouper_aut)\\n    \\n    # Ultimos 12 meses de despachos\\n    aut_12 = coord_grouped[\\'n_processo\\'].count().loc[:data_referencia][-12:]\\n   \\n    return aut_12\\n\\nget_ad_last_12_autuados(\\'CAEPP\\')\\n'"
      ]
     },
     "execution_count": 60,
     "metadata": {},
     "output_type": "execute_result"
    }
   ],
   "source": [
    "# Dados incompletos impedem a implementação\n",
    "\"\"\"\n",
    "def get_ad_last_12_autuados(coord):\n",
    "\n",
    "    # Filtrando despachos para coordenadoria\n",
    "    coord = ad_main.query(\"(coord_autuacao == @coord)\")\n",
    "    coord_grouped = coord.groupby(grouper_aut)\n",
    "    \n",
    "    # Ultimos 12 meses de despachos\n",
    "    aut_12 = coord_grouped['n_processo'].count().loc[:data_referencia][-12:]\n",
    "   \n",
    "    return aut_12\n",
    "\n",
    "get_ad_last_12_autuados('CAEPP')\n",
    "\"\"\""
   ]
  },
  {
   "cell_type": "code",
   "execution_count": 136,
   "id": "199408ba-59d6-4994-a67a-6a2a38b2f038",
   "metadata": {
    "tags": []
   },
   "outputs": [
    {
     "data": {
      "text/plain": [
       "assunto_x\n",
       "REVALIDACAO DO ALVARA DE FUNCIONAMENTO DO LOCAL DE    32\n",
       "Certificado de Manutenção                             31\n",
       "ALVARA DE AUTORIZACAO                                 28\n",
       "Processo de Inscrição do Cadastro de Manutenção -     23\n",
       "APOSTILAMENTO DE ALVARA DE APROVACAO E EXECUCAO DE    12\n",
       "APOSTILAMENTO DO CERTIFICADO DE CONCLUSAO              5\n",
       "RECONSIDERACAO DESPACHO DE ALVARA DE APROVACAO E E     5\n",
       "ALVARA DE APROVACAO E EXECUCAO DE EDIFICACAO NOVA      5\n",
       "APOSTILAMENTO DE ALVARA DE APROVACAO DE EDIFICACAO     4\n",
       "RECONSIDERACAO DE DESPACHO DE ALVARA DE APROVACAO      4\n",
       "APOSTILAMENTO DE ALVARA DE EXECUCAO DE EDIFICACAO      3\n",
       "CERTIFICADO DE ESTANQUEIDADE                           3\n",
       "ALVARA DE FUNCIONAMENTO DE LOCAL DE REUNIAO            3\n",
       "CERTIFICADO DE REGULARIZACAO                           3\n",
       "APOSTILAMENTO DE ALVARA DE FUNCIONAMENTO DE LOCAL      2\n",
       "RECONSIDERACAO DE DESPACHO DE ALVARA DE FUNCIONAME     2\n",
       "REVALIDACAO DE ALVARA DE APROVACAO E EXECUCAO DE E     2\n",
       "ALVARA DE APROVACAO E EXECUCAO DE REFORMA              2\n",
       "PROJETO MODIFICATIVO DE ALVARA DE DESMEMBRAMENTO       1\n",
       "APOSTILAMENTO ALVARA DE INSTALAÇÃO HELIPONTO E HEL     1\n",
       "Reconsideração do Certificado de Manutenção            1\n",
       "RECONSIDERACAO DE DESPACHO DE ALVARA DE LOTEAMENTO     1\n",
       "ALVARA DE APROVACAO DE EDIFICACAO NOVA                 1\n",
       "ALVARA DE APROVACAO E EXECUCAO PARA RESIDENCIAS UN     1\n",
       "RECONSIDERACAO DE DESPACHO DE ALVARA DE AUTORIZACA     1\n",
       "RECONSIDERACAO DE CADASTRO DE TANQUES, BOMBAS E EQ     1\n",
       "ALVARA DE APROVACAO E EXECUCAO DE REQUALIFICACAO       1\n",
       "CADASTRO DE TANQUES, BOMBAS E EQUIPAMENTOS AFINS       1\n",
       "RECONSIDERACAO DE DESPACHO DE AUTO DE REGULARIZACA     1\n",
       "PROJETO MODIFICATIVO DE ALVARA DE APROVACAO E EXEC     1\n",
       "RECONSIDERACAO DE ALVARA DE DESMEMBRAMENTO             1\n",
       "Name: count, dtype: int64"
      ]
     },
     "execution_count": 136,
     "metadata": {},
     "output_type": "execute_result"
    }
   ],
   "source": [
    "def get_sissel_assuntos(coord=None):\n",
    "\n",
    "    # Filtrando despachos deferidos para coordenadoria\n",
    "    if coord:\n",
    "        coord_desp = sissel_despachos.query(\"(coord == @coord) & (situacao == 'COM PROPOSTA DE DEFERIMENTO')\")\n",
    "    else:\n",
    "        coord_desp = sissel_despachos.query(\"(situacao == 'COM PROPOSTA DE DEFERIMENTO')\")\n",
    "    \n",
    "    # Filtro para o período\n",
    "    assuntos = coord_desp.query(\"(data_despacho >= @data_referencia) & (data_despacho < @data_corrente)\")[:]\n",
    "    assuntos['assunto_x'] = assuntos['assunto'].apply(lambda x: x[:50])\n",
    "\n",
    "    return assuntos['assunto_x'].value_counts()\n",
    "\n",
    "get_sissel_assuntos()"
   ]
  },
  {
   "cell_type": "code",
   "execution_count": 62,
   "id": "ddf746c6-8664-4327-aa04-ab0cb130c414",
   "metadata": {
    "tags": []
   },
   "outputs": [
    {
     "data": {
      "text/plain": [
       "assunto\n",
       "APOSTILAMENTO DE ALVARA DE APROVACAO DE EDIFICACAO    7\n",
       "APOSTILAMENTO DE ALVARA DE APROVACAO E EXECUCAO DE    4\n",
       "RECONSIDERACAO DESPACHO DE ALVARA DE APROVACAO E E    4\n",
       "RECONSIDERACAO DE DESPACHO DE ALVARA DE APROVACAO     3\n",
       "APOSTILAMENTO DE ALVARA DE EXECUCAO DE EDIFICACAO     3\n",
       "APOSTILAMENTO DE ALVARA DE APROVACAO E DE EXECUCAO    2\n",
       "ALVARA DE APROVACAO DE EDIFICACAO NOVA                2\n",
       "PROJETO MODIFICATIVO DE ALVARA DE APROVACAO E EXEC    1\n",
       "ALVARA DE APROVACAO E EXECUCAO DE EDIFICACAO NOVA     1\n",
       "APOSTILAMENTO DO CERTIFICADO DE CONCLUSAO             1\n",
       "Name: count, dtype: int64"
      ]
     },
     "execution_count": 62,
     "metadata": {},
     "output_type": "execute_result"
    }
   ],
   "source": [
    "def get_sissel_assuntos_ano(coord=None):\n",
    "\n",
    "    # Filtrando despachos deferidos para coordenadoria\n",
    "    if coord:\n",
    "        coord_desp = sissel_despachos.query(\"(coord == @coord) & (situacao == 'COM PROPOSTA DE DEFERIMENTO')\")\n",
    "    else:\n",
    "        coord_desp = sissel_despachos.query(\"(situacao == 'COM PROPOSTA DE DEFERIMENTO')\")\n",
    "        \n",
    "    # Filtro para o período\n",
    "    coord_desp_ano = coord_desp.query(\"(data_despacho >= @data_ano_referencia) & (data_despacho < @data_corrente)\")[:]\n",
    "    \n",
    "    coord_desp_ano['assunto'] = coord_desp_ano['assunto'].apply(lambda x: x[:50])\n",
    "    #return assuntos.head()\n",
    "    return coord_desp_ano['assunto'].value_counts()\n",
    "\n",
    "get_sissel_assuntos_ano('RESID')"
   ]
  },
  {
   "cell_type": "code",
   "execution_count": 63,
   "id": "8cbdb857-e6c3-469d-bc00-5afb7bfbc935",
   "metadata": {
    "tags": []
   },
   "outputs": [
    {
     "data": {
      "text/plain": [
       "{'Despachos': 77998,\n",
       " 'Deferidos': 40890,\n",
       " 'Indeferidos': 36848,\n",
       " 'Indef. Encerrados': '-',\n",
       " 'Comunique-ses': 0,\n",
       " 'autuados': '-',\n",
       " 'estoque': '-'}"
      ]
     },
     "execution_count": 63,
     "metadata": {},
     "output_type": "execute_result"
    }
   ],
   "source": [
    "def get_sissel_acumulado(coord=None):\n",
    "\n",
    "    data_container = {}\n",
    "\n",
    "    # Filtrando despachos para coordenadoria\n",
    "    if coord:\n",
    "        coord_desp = sissel_despachos.query(\"(coord == @coord) & (data_despacho < @data_corrente)\")\n",
    "    else:\n",
    "        coord_desp = sissel_despachos.query(\"(data_despacho < @data_corrente)\")\n",
    "        \n",
    "    # Despachos\n",
    "    data_container['Despachos'] = coord_desp.shape[0]\n",
    "    data_container['Deferidos'] = coord_desp.query(\"(situacao == 'COM PROPOSTA DE DEFERIMENTO')\").shape[0]\n",
    "    data_container['Indeferidos'] = coord_desp.query(\"(situacao == 'COM PROPOSTA DE INDEFERIMENTO')\").shape[0]\n",
    "    \n",
    "    data_container['Indef. Encerrados'] = '-'\n",
    "\n",
    "    # Divisões\n",
    "    #for i in get_sissel_divisao_list(coord):\n",
    "        #data_container[i] = coord_desp.query('divisao == @i').shape[0]\n",
    "\n",
    "    # Comunique-ses\n",
    "    data_container['Comunique-ses'] = sissel_comuniqueses.query(\"(coord == @coord) & (data_comuniquese < @data_corrente)\").shape[0]\n",
    "\n",
    "    # Autuados\n",
    "    #data_container['Autuados'] = sissel_main.query(\"(coord_atual == @coord) & (data_autuacao < @data_corrente)\").shape[0]\n",
    "    data_container['autuados'] = '-'\n",
    "    # Estoque\n",
    "    #coord_main = sissel_main.query(\"(coord_atual == @coord) & ((status == 'em análise') | (status == 'indeferido') | (status == 'desconhecido'))\")\n",
    "    #data_container['Estoque'] = coord_main.shape[0]\n",
    "    data_container['estoque'] = '-'\n",
    "\n",
    "    return data_container\n",
    "\n",
    "\n",
    "get_sissel_acumulado()"
   ]
  },
  {
   "cell_type": "markdown",
   "id": "d85c2ad9-8b6e-4bbf-abc2-06fd10ce4dbf",
   "metadata": {
    "tags": []
   },
   "source": [
    "### Portal do Licencimento"
   ]
  },
  {
   "cell_type": "code",
   "execution_count": 64,
   "id": "4700f403-4fb5-48c0-97bf-a69c872aa322",
   "metadata": {
    "tags": []
   },
   "outputs": [
    {
     "data": {
      "text/plain": [
       "{'despachos_mes_referencia': 253,\n",
       " 'despachos_mes_anterior': 159,\n",
       " 'deferidos_mes_referencia': 184,\n",
       " 'deferidos_mes_anterior': 111,\n",
       " 'indeferidos_mes_referencia': 69,\n",
       " 'indeferidos_mes_anterior': 48}"
      ]
     },
     "execution_count": 64,
     "metadata": {},
     "output_type": "execute_result"
    }
   ],
   "source": [
    "def get_portal_despachos(coord):\n",
    "    # Data cointainer\n",
    "    data_container = {}\n",
    "    \n",
    "    # Filtrando despachos para coordenadoria\n",
    "    coord = portal_despachos.query(\"(coord_despacho == @coord)\")\n",
    "    coord_grouped = coord.groupby(grouper_desp)\n",
    "\n",
    "    data_container['despachos_mes_referencia'] = int(coord_grouped.get_group(data_referencia)['n_processo'].count())\n",
    "    data_container['despachos_mes_anterior'] = int(coord_grouped.get_group(data_anterior)['n_processo'].count())\n",
    "\n",
    "    # Filtrando deferidos\n",
    "    deferidos = coord.query(\"despacho == 'Despacho de Deferimento Comum'\")\n",
    "    deferidos_grouped = deferidos.groupby(grouper_desp)\n",
    "\n",
    "    data_container['deferidos_mes_referencia'] = int(deferidos_grouped.get_group(data_referencia)['n_processo'].count())\n",
    "    data_container['deferidos_mes_anterior'] = int(deferidos_grouped.get_group(data_anterior)['n_processo'].count())#\n",
    "\n",
    "    # Filtrando indeferidos\n",
    "    indeferidos = coord.query(\"despacho == 'Despacho de Indeferimento Comum'\")\n",
    "    indeferidos_grouped = indeferidos.groupby(grouper_desp)\n",
    "\n",
    "    data_container['indeferidos_mes_referencia'] = int(indeferidos_grouped.get_group(data_referencia)['n_processo'].count())\n",
    "    data_container['indeferidos_mes_anterior'] = int(indeferidos_grouped.get_group(data_anterior)['n_processo'].count())\n",
    "\n",
    "\n",
    "    return data_container\n",
    "\n",
    "get_portal_despachos('GTEC')"
   ]
  },
  {
   "cell_type": "code",
   "execution_count": 65,
   "id": "4fd3eabc-9d0e-4e26-8250-5d3fa671b488",
   "metadata": {
    "tags": []
   },
   "outputs": [
    {
     "data": {
      "text/plain": [
       "{'comuniq_mes_referencia': 562, 'comuniq_mes_anterior': 511}"
      ]
     },
     "execution_count": 65,
     "metadata": {},
     "output_type": "execute_result"
    }
   ],
   "source": [
    "def get_portal_comuniqueses(coord):\n",
    "    # Data cointainer\n",
    "    data_container = {}\n",
    "\n",
    "    # Filtrando comunique-ses para coordenadoria\n",
    "    coord = portal_comuniqueses.query(\"coord_comuniquese == @coord\")\n",
    "    coord_grouped = coord.groupby(grouper_comun)\n",
    "    \n",
    "    data_container['comuniq_mes_referencia'] = int(coord_grouped.get_group(data_referencia)['n_processo'].count())\n",
    "    data_container['comuniq_mes_anterior'] = int(coord_grouped.get_group(data_anterior)['n_processo'].count())\n",
    "\n",
    "    return data_container\n",
    "\n",
    "get_portal_comuniqueses('GTEC')"
   ]
  },
  {
   "cell_type": "code",
   "execution_count": 66,
   "id": "028cec6e-64e7-4259-8646-1d99ccc26eb3",
   "metadata": {
    "tags": []
   },
   "outputs": [
    {
     "data": {
      "text/plain": [
       "('2024-2-01', '2024-1-01')"
      ]
     },
     "execution_count": 66,
     "metadata": {},
     "output_type": "execute_result"
    }
   ],
   "source": [
    "data_referencia, data_anterior"
   ]
  },
  {
   "cell_type": "code",
   "execution_count": 67,
   "id": "a86288d5-de3c-41d4-b38f-cf64cb72ab72",
   "metadata": {
    "tags": []
   },
   "outputs": [],
   "source": [
    "# Lidando com a tabela de autuações - ATUALIZAR ISSO\n",
    "ano_referencia = int(data_referencia[:data_referencia.find('-')])\n",
    "ano_anterior = int(data_anterior[:data_anterior.find('-')])\n",
    "ano_corrente = int(data_corrente[:data_corrente.find('-')])\n",
    "\n",
    "mes_referencia = int(data_referencia[data_referencia.find('-') + 1: -3])\n",
    "mes_anterior = int(data_anterior[data_anterior.find('-') + 1: -3])\n",
    "mes_corrente = int(data_corrente[data_corrente.find('-') + 1: -3])"
   ]
  },
  {
   "cell_type": "code",
   "execution_count": 68,
   "id": "6039468a-19d5-4fc5-854e-1cbab3dd59e5",
   "metadata": {
    "tags": []
   },
   "outputs": [
    {
     "data": {
      "text/plain": [
       "{'aut_mes_referencia': 1046, 'aut_mes_anterior': 2285}"
      ]
     },
     "execution_count": 68,
     "metadata": {},
     "output_type": "execute_result"
    }
   ],
   "source": [
    "def get_portal_autuados():\n",
    "    # Data cointainer\n",
    "    data_container = {}\n",
    "    \n",
    "    data_container['aut_mes_referencia'] = int(portal_autuados.query(\"(ano == @ano_referencia) & (mes == @mes_referencia)\").quantidade.sum())\n",
    "    data_container['aut_mes_anterior'] = int(portal_autuados.query(\"(ano == @ano_anterior) & (mes == @mes_anterior)\").quantidade.sum())\n",
    "\n",
    "    return data_container\n",
    "\n",
    "get_portal_autuados()"
   ]
  },
  {
   "cell_type": "code",
   "execution_count": 69,
   "id": "1af0affc-b3db-4cb4-98f0-30a9544cb7fe",
   "metadata": {
    "tags": []
   },
   "outputs": [
    {
     "data": {
      "text/plain": [
       "{'despachos': data_despacho\n",
       " 2023-03-01    247\n",
       " 2023-04-01    243\n",
       " 2023-05-01    293\n",
       " 2023-06-01    270\n",
       " 2023-07-01    303\n",
       " 2023-08-01    314\n",
       " 2023-09-01    217\n",
       " 2023-10-01    476\n",
       " 2023-11-01    402\n",
       " 2023-12-01    275\n",
       " 2024-01-01    159\n",
       " 2024-02-01    253\n",
       " Freq: MS, Name: despacho, dtype: int64,\n",
       " 'deferidos': data_despacho\n",
       " 2023-03-01    189\n",
       " 2023-04-01    183\n",
       " 2023-05-01    217\n",
       " 2023-06-01    208\n",
       " 2023-07-01    202\n",
       " 2023-08-01    241\n",
       " 2023-09-01    179\n",
       " 2023-10-01    290\n",
       " 2023-11-01    275\n",
       " 2023-12-01    209\n",
       " 2024-01-01    111\n",
       " 2024-02-01    184\n",
       " Freq: MS, Name: despacho, dtype: int64,\n",
       " 'indeferidos': data_despacho\n",
       " 2023-03-01     58\n",
       " 2023-04-01     60\n",
       " 2023-05-01     76\n",
       " 2023-06-01     62\n",
       " 2023-07-01    101\n",
       " 2023-08-01     73\n",
       " 2023-09-01     38\n",
       " 2023-10-01    186\n",
       " 2023-11-01    127\n",
       " 2023-12-01     66\n",
       " 2024-01-01     48\n",
       " 2024-02-01     69\n",
       " Freq: MS, Name: despacho, dtype: int64}"
      ]
     },
     "execution_count": 69,
     "metadata": {},
     "output_type": "execute_result"
    }
   ],
   "source": [
    "def get_portal_last_12_despachos(coord):\n",
    "    # Data cointainer\n",
    "    data_container = {}\n",
    "\n",
    "    # Filtrando despachos para coordenadoria\n",
    "    coord = portal_despachos.query(\"(coord_despacho == @coord)\")\n",
    "    coord_grouped = coord.groupby(grouper_desp)\n",
    "    \n",
    "    # Ultimos 12 meses de despachos\n",
    "    data_container['despachos'] = coord_grouped['despacho'].count().loc[:data_referencia][-12:]\n",
    "\n",
    "    # Fiitrando e extraindo deferidos\n",
    "    deferidos = coord.query(\"despacho == 'Despacho de Deferimento Comum'\").groupby(grouper_desp)\n",
    "    data_container['deferidos'] = deferidos['despacho'].count().loc[:data_referencia][-12:]\n",
    "\n",
    "    # Fiitrando e extraindo indeferidos\n",
    "    indeferidos = coord.query(\"despacho == 'Despacho de Indeferimento Comum'\").groupby(grouper_desp)\n",
    "    data_container['indeferidos'] = indeferidos['despacho'].count().loc[:data_referencia][-12:]\n",
    "\n",
    "\n",
    "    return data_container\n",
    "\n",
    "get_portal_last_12_despachos('GTEC')"
   ]
  },
  {
   "cell_type": "code",
   "execution_count": 70,
   "id": "d47204d8-c273-4609-a554-daf1097826e2",
   "metadata": {
    "tags": []
   },
   "outputs": [
    {
     "data": {
      "text/plain": [
       "data_comuniquese\n",
       "2023-03-01    574\n",
       "2023-04-01    516\n",
       "2023-05-01    570\n",
       "2023-06-01    536\n",
       "2023-07-01    650\n",
       "2023-08-01    529\n",
       "2023-09-01    377\n",
       "2023-10-01    488\n",
       "2023-11-01    364\n",
       "2023-12-01    347\n",
       "2024-01-01    511\n",
       "2024-02-01    562\n",
       "Freq: MS, Name: n_processo, dtype: int64"
      ]
     },
     "execution_count": 70,
     "metadata": {},
     "output_type": "execute_result"
    }
   ],
   "source": [
    "def get_portal_last_12_comuniq(coord):\n",
    "\n",
    "    # Filtrando despachos para coordenadoria\n",
    "    coord = portal_comuniqueses.query(\"(coord_comuniquese == @coord)\")\n",
    "    coord_grouped = coord.groupby(grouper_comun)\n",
    "    \n",
    "    # Ultimos 12 meses de despachos\n",
    "    comuniq_12 = coord_grouped['n_processo'].count().loc[:data_referencia][-12:]\n",
    "\n",
    "    return comuniq_12\n",
    "\n",
    "get_portal_last_12_comuniq('GTEC')"
   ]
  },
  {
   "cell_type": "code",
   "execution_count": 71,
   "id": "c397b5f9-d959-4462-afc2-32c748fc8641",
   "metadata": {
    "tags": []
   },
   "outputs": [
    {
     "data": {
      "text/plain": [
       "0     1322\n",
       "1     1156\n",
       "2     1336\n",
       "3     1365\n",
       "4     1299\n",
       "5     1519\n",
       "6     1286\n",
       "7     1485\n",
       "8     1786\n",
       "9     4149\n",
       "10    2285\n",
       "11    1046\n",
       "Name: quantidade, dtype: int64"
      ]
     },
     "execution_count": 71,
     "metadata": {},
     "output_type": "execute_result"
    }
   ],
   "source": [
    "# Dados incompletos impedem a implementação\n",
    "def get_portal_last_12_autuados():\n",
    "    \n",
    "    # Ultimos 12 meses de despachos\n",
    "    aut_12 = portal_autuados.query(\"~((ano == @ano_corrente) & (mes ==@mes_corrente))\")[-24:]\n",
    "    \n",
    "    aut_12 = aut_12.groupby(['ano', 'mes'])['quantidade'].sum().reset_index()\n",
    "    return aut_12['quantidade']\n",
    "\n",
    "get_portal_last_12_autuados()"
   ]
  },
  {
   "cell_type": "code",
   "execution_count": 72,
   "id": "d410ef7c-269a-4d17-840d-b28cf41ec4a6",
   "metadata": {
    "tags": []
   },
   "outputs": [
    {
     "data": {
      "text/plain": [
       "{'Despachos': 8790,\n",
       " 'Deferidos': 5771,\n",
       " 'Indeferidos': 3019,\n",
       " 'Encerrados': '-',\n",
       " 'Comunique-ses': 15521,\n",
       " 'Autuados': 59838}"
      ]
     },
     "execution_count": 72,
     "metadata": {},
     "output_type": "execute_result"
    }
   ],
   "source": [
    "def get_portal_acumulado(coord):\n",
    "\n",
    "    data_container = {}\n",
    "\n",
    "    # Filtrando despachos para coordenadoria\n",
    "    coord_desp = portal_despachos.query(\"(coord_despacho == @coord) & (data_despacho < @data_corrente)\")\n",
    "    \n",
    "    # Despachos\n",
    "    data_container['Despachos'] = int(coord_desp.shape[0])\n",
    "    data_container['Deferidos'] = int(coord_desp.query(\"(despacho == 'Despacho de Deferimento Comum')\").shape[0])\n",
    "    data_container['Indeferidos'] = int(coord_desp.query(\"(despacho == 'Despacho de Indeferimento Comum')\").shape[0])\n",
    "    data_container['Encerrados'] = '-'\n",
    "\n",
    "    # Comunique-ses\n",
    "    data_container['Comunique-ses'] = int(portal_comuniqueses.query(\"(coord_comuniquese == @coord) & (data_comuniquese < @data_corrente)\").shape[0])\n",
    "\n",
    "    # Autuados\n",
    "    data_container['Autuados'] = int(portal_autuados.query(\"~((ano == @ano_corrente) & (mes ==@mes_corrente))\").quantidade.sum())\n",
    "    \n",
    "    # Estoque\n",
    "    #data_container['Estoque'] = data_container['Autuados'] - data_container['Despachos']\n",
    "\n",
    "    return data_container\n",
    "\n",
    "\n",
    "get_portal_acumulado('GTEC')"
   ]
  },
  {
   "cell_type": "markdown",
   "id": "42315060-b511-4c5c-bb4c-22ef61a555a3",
   "metadata": {
    "tags": []
   },
   "source": [
    "## Escrevendo dados no relatório"
   ]
  },
  {
   "cell_type": "markdown",
   "id": "b4996735",
   "metadata": {},
   "source": [
    "### Parametros iniciais"
   ]
  },
  {
   "cell_type": "code",
   "execution_count": 73,
   "id": "29980064-0dd3-41df-b848-9b8c69f01e06",
   "metadata": {
    "tags": []
   },
   "outputs": [],
   "source": [
    "dict_mes_abrev = {\n",
    "    1: 'jan',\n",
    "    2: 'fev',\n",
    "    3: 'mar',\n",
    "    4: 'abr',\n",
    "    5: 'mai',\n",
    "    6: 'jun',\n",
    "    7: 'jul',\n",
    "    8: 'ago',\n",
    "    9: 'set',\n",
    "    10: 'out',\n",
    "    11: 'nov',\n",
    "    12: 'dez'\n",
    "}\n",
    "\n",
    "dict_meses = {\n",
    "    '1': 'Janeiro',\n",
    "    '2': 'Fevereiro',\n",
    "    '3': 'Março',\n",
    "    '4': 'Abril',\n",
    "    '5': 'Maio',\n",
    "    '6': 'Junho',\n",
    "    '7': 'Julho',\n",
    "    '8': 'Agosto',\n",
    "    '9': 'Setembro',\n",
    "    '10': 'Outubro',\n",
    "    '11': 'Novembro',\n",
    "    '12': 'Dezembro'\n",
    "}\n",
    "\n",
    "# Ferramentas para formatar data de referência\n",
    "mes = lambda x: dict_meses[x[5:x.find('-', 5)]]\n",
    "ano = lambda y: y[:4]"
   ]
  },
  {
   "cell_type": "code",
   "execution_count": 74,
   "id": "4a8e34df-f8fd-4608-afde-0db6b7a583ca",
   "metadata": {
    "tags": []
   },
   "outputs": [],
   "source": [
    "# Mês referência\n",
    "mes_ref = mes(data_referencia)\n",
    "ano_ref = ano(data_referencia)\n",
    "\n",
    "# Mês anterior\n",
    "mes_ant = mes(data_anterior)\n",
    "ano_ant = ano(data_anterior)\n",
    "\n",
    "# Tranformando o index de 12_despachos para nomes de meses\n",
    "lista_meses = [dict_mes_abrev[i.month] for i in get_ad_last_12_despachos('RESID')['despachos'].index]"
   ]
  },
  {
   "cell_type": "code",
   "execution_count": 75,
   "id": "454a3a1a-ab00-4c75-97af-463ead93258f",
   "metadata": {
    "tags": []
   },
   "outputs": [
    {
     "name": "stdout",
     "output_type": "stream",
     "text": [
      "SMUL-2024-03-05T14-46-29.json\n"
     ]
    }
   ],
   "source": [
    "# Apagando arquivos anterioes\n",
    "files = os.listdir('rel_parametrizacao')\n",
    "for i in files:\n",
    "    print(i)\n",
    "    os.remove(f'rel_parametrizacao\\\\{i}')"
   ]
  },
  {
   "cell_type": "code",
   "execution_count": 76,
   "id": "fe159e80-132e-49f5-acfb-f7b45fdc4ed7",
   "metadata": {
    "tags": []
   },
   "outputs": [],
   "source": [
    "# Apgando imagens anterioes\n",
    "files = os.listdir('pdf_img')\n",
    "files\n",
    "for file in files:\n",
    "    os.remove(f'pdf_img\\\\{file}')"
   ]
  },
  {
   "cell_type": "markdown",
   "id": "45264c5a-cbe8-441f-b63a-11d591b4451c",
   "metadata": {
    "tags": []
   },
   "source": [
    "### SMUL"
   ]
  },
  {
   "cell_type": "code",
   "execution_count": 137,
   "id": "aa804926-6aab-4d04-8f10-9a93f1aef630",
   "metadata": {
    "tags": []
   },
   "outputs": [
    {
     "data": {
      "text/plain": [
       "93"
      ]
     },
     "execution_count": 137,
     "metadata": {},
     "output_type": "execute_result"
    }
   ],
   "source": [
    "# Funções Aprova Digital\n",
    "f_ad_despachos = get_ad_despachos(None)\n",
    "#f_ad_divisoes = get_ad_divisoes()\n",
    "#f_ad_div_list = get_ad_divisao_list()\n",
    "f_ad_comun = get_ad_comuniqueses()\n",
    "f_ad_autuados = get_ad_autuados()\n",
    "f_ad_12_despachos = get_ad_last_12_despachos()\n",
    "f_ad_12_comun = get_ad_last_12_comuniq()\n",
    "f_ad_12_autuados = get_ad_last_12_autuados()\n",
    "f_ad_assuntos = get_ad_assuntos()\n",
    "f_ad_acumulado = get_ad_acumulado()\n",
    "\n",
    "# Funções Sissel\n",
    "f_sissel_despachos = get_sissel_despachos()\n",
    "#f_sissel_divisoes = get_sissel_divisoes()\n",
    "#f_sissel_div_list = get_sissel_divisao_list()\n",
    "f_sissel_comun = get_sissel_comuniqueses()\n",
    "sissel_autuados = 0\n",
    "f_sissel_12_despachos = get_sissel_last_12_despachos()\n",
    "f_sissel_12_comun = get_sissel_last_12_comuniq()\n",
    "sissel_12_autuados = 0\n",
    "f_sissel_assuntos = get_sissel_assuntos()\n",
    "f_sissel_acumulado = get_sissel_acumulado()\n",
    "\n",
    "# Funções SLCe\n",
    "f_slce_despachos = get_slce_despachos('CAEPP')\n",
    "f_slce_comun = get_slce_comuniqueses()\n",
    "f_slce_autuados = get_slce_autuados()\n",
    "f_slce_12_despachos = get_slce_last_12_despachos()\n",
    "f_slce_12_comun = get_slce_last_12_comuniq()\n",
    "f_slce_12_autuados = get_slce_last_12_autuados()\n",
    "f_slce_assuntos = get_slce_assuntos()\n",
    "f_slce_acumulado = get_slce_acumulado()\n",
    "\n",
    "# Funções portal\n",
    "f_portal_despachos = get_portal_despachos('GTEC')\n",
    "f_portal_comun = get_portal_comuniqueses('GTEC')\n",
    "f_portal_autuados = get_portal_autuados()\n",
    "f_portal_12_despachos = get_portal_last_12_despachos('GTEC')\n",
    "f_portal_12_comun = get_portal_last_12_comuniq('GTEC')\n",
    "f_portal_12_autuados = get_portal_last_12_autuados()\n",
    "f_portal_acumulado = get_portal_acumulado('GTEC')\n",
    "\n",
    "\n",
    "f_resid = get_ad_despachos('RESID')['despachos_mes_referencia'] + get_sissel_despachos('RESID')['despachos_mes_referencia']\n",
    "f_parhis = get_ad_despachos('PARHIS')['despachos_mes_referencia'] + get_sissel_despachos('PARHIS')['despachos_mes_referencia']\n",
    "f_servin = get_ad_despachos('SERVIN')['despachos_mes_referencia'] + get_sissel_despachos('SERVIN')['despachos_mes_referencia']\n",
    "f_comin = get_ad_despachos('COMIN')['despachos_mes_referencia'] + get_sissel_despachos('COMIN')['despachos_mes_referencia']\n",
    "f_contru = get_ad_despachos('CONTRU')['despachos_mes_referencia'] + get_sissel_despachos('CONTRU')['despachos_mes_referencia']\n",
    "f_gtec = get_portal_despachos('GTEC')['despachos_mes_referencia']\n",
    "f_caepp = get_ad_despachos('CAEPP')['despachos_mes_referencia'] + get_sissel_despachos('CAEPP')['despachos_mes_referencia'] + get_slce_despachos('CAEPP')['despachos_mes_referencia']\n",
    "f_smul = get_ad_despachos('SMUL')['despachos_mes_referencia'] + get_sissel_despachos('SMUL')['despachos_mes_referencia']\n",
    "\n",
    "\n",
    "# Coordenadorias\n",
    "\n",
    "\n",
    "coord = 'SMUL'\n",
    "f_resid"
   ]
  },
  {
   "cell_type": "code",
   "execution_count": 138,
   "id": "4ed00413-e136-4d38-af2c-c0c38367a540",
   "metadata": {
    "tags": []
   },
   "outputs": [
    {
     "data": {
      "text/plain": [
       "{'Aprova Digital': 12976, 'Portal': 6024, 'SisSEL': 5720, 'SLCe': 4180}"
      ]
     },
     "execution_count": 138,
     "metadata": {},
     "output_type": "execute_result"
    }
   ],
   "source": [
    "smul_param = {\n",
    "    'metadata': {\n",
    "        'coord': coord,\n",
    "        'created_at': str(datetime.now()).replace(':', '-'),\n",
    "    },\n",
    "    'block_placement': {\n",
    "        'bloco_main_titulo': {\n",
    "            'block_name': 'bloco_titulo',\n",
    "            'tamanho_base': 'bloco_titulo',\n",
    "            'titulo': 'RELATÓRIO DE DESPACHOS PUBLICADOS',\n",
    "            'coord': coord,\n",
    "            'mes': mes_ref,\n",
    "            'ano': ano_ref,\n",
    "            'sistemas': 'Aprova Digital, Sissel, SLCe e Portal'\n",
    "        },\n",
    "        'bloco_main_resumo': {\n",
    "            'block_name': 'bloco_resumo',\n",
    "            'tamanho_base': 'bloco_resumo',\n",
    "            'pallete': 'blue_pallete',\n",
    "            'titulo': 'Visão para todos os sistemas',\n",
    "            'subtitulo': f'Resumo SMUL {mes_ref}',\n",
    "            'data': {\n",
    "                # Soma despachos totais ad para o mês + total despachos sissel\n",
    "                'total_despachos': int(f_ad_despachos['despachos_mes_referencia']) + int(f_sissel_despachos['despachos_mes_referencia']) + \n",
    "                int(f_slce_despachos['despachos_mes_referencia']) + int(f_portal_despachos['despachos_mes_referencia']), \n",
    "                # Soma deferidos para o mês do AD e sissel\n",
    "                'deferidos': int(f_ad_despachos['deferidos_mes_referencia']) + int(f_sissel_despachos['deferidos_mes_referencia']) + \n",
    "                int(f_slce_despachos['deferidos_mes_referencia']) + int(f_portal_despachos['deferidos_mes_referencia']),\n",
    "                # Soma indeferidos para o mês do AD e sissel\n",
    "                'indeferidos': int(f_ad_despachos['indeferidos_mes_referencia']) + int(f_sissel_despachos['indeferidos_mes_referencia']) + \n",
    "                int(f_slce_despachos['indeferidos_mes_referencia']) + int(f_portal_despachos['indeferidos_mes_referencia']),\n",
    "                # Soma encerrados para o mês apenas AD\n",
    "                'indef_encerrados': int(f_ad_despachos['encerrados_mes_referencia'])  + int(f_slce_despachos['encerrados_mes_referencia']),\n",
    "                # Comunicados para o mês AS e sissem\n",
    "                'comunicados': f_ad_comun['comuniq_mes_referencia'] + f_sissel_comun['comuniq_mes_referencia'] + f_slce_comun['comuniq_mes_referencia'] + f_portal_comun['comuniq_mes_referencia'],\n",
    "                # Autuados apenas para o AD\n",
    "                'autuados': f_ad_autuados['aut_mes_referencia'] + f_slce_autuados['aut_mes_referencia'] + f_portal_autuados['aut_mes_referencia']\n",
    "            }\n",
    "        },\n",
    "        'bloco_main_fontes': {\n",
    "            'block_name': 'bloco_fontes',\n",
    "            'tamanho_base': 'bloco_fontes',\n",
    "            'pallete': 'blue_pallete',\n",
    "            'titulo': f'Despachos por sistema em {mes_ref}',\n",
    "            'img': 'pdf_img/smul_main_fontes.png',\n",
    "            'padding': 3,  # Distancia entre as informçãoes - 6 para 2 linhas, 5 para 3 linhas, 3 para 4 linhas\n",
    "            'width': 350,\n",
    "            'height': 150,\n",
    "            'line_size': 1,\n",
    "            'img_y': 1,\n",
    "            'img_x': 1,\n",
    "            'data': {\n",
    "                'SLCe': int(f_slce_despachos['despachos_mes_referencia']),\n",
    "                'Portal': int(f_portal_despachos['despachos_mes_referencia']),\n",
    "                'Aprova Digital': int(f_ad_despachos['despachos_mes_referencia']),\n",
    "                'SisSEL': int(f_sissel_despachos['despachos_mes_referencia'])\n",
    "            },\n",
    "        },\n",
    "        'bloco_main_fontes_div': {\n",
    "            'block_name': 'bloco_fontes',\n",
    "            'tamanho_base': 'bloco_fontes',\n",
    "            'pallete': 'blue_pallete',\n",
    "            'titulo': 'Despachos por coordenadoria',\n",
    "            'img': 'pdf_img/smul_div_fontes.png',\n",
    "            'padding': 3,\n",
    "            'width': 320,\n",
    "            'height': 300,\n",
    "            'line_size': 2,\n",
    "            'img_y': 2,\n",
    "            'img_x': 30,\n",
    "            'data': {\n",
    "                'RESID': f_resid,\n",
    "                'PARHIS': f_parhis,\n",
    "                'SERVIN': f_servin,\n",
    "                'COMIN': f_comin,\n",
    "                'CONTRU': f_contru,\n",
    "                'GTEC': f_gtec,\n",
    "                'CAEPP': f_caepp,\n",
    "                'SMUL': f_smul \n",
    "            },\n",
    "            \n",
    "        },\n",
    "        'bloco_main_comparativo_linha': {\n",
    "            'block_name': 'bloco_autuacoes',\n",
    "            'tamanho_base': 'bloco_autuacoes',\n",
    "            'pallete': 'blue_pallete',\n",
    "            'titulo': 'Despachos emitidos nos últimos 12 meses',\n",
    "            'img': 'pdf_img/smul_main_comparativo_linha.png',\n",
    "            'data': {\n",
    "                'Total': {key: value for key, value in zip(lista_meses, [x + y + z + a for x, y, z, a in zip(list(f_sissel_12_despachos['despachos']), list(f_ad_12_despachos['despachos']), list(f_slce_12_despachos['despachos']), list(f_portal_12_despachos['despachos']))])},\n",
    "            },\n",
    "        },\n",
    "\n",
    "        'bloco_main_comparativo_comun': {\n",
    "            'block_name': 'bloco_autuacoes',\n",
    "            'tamanho_base': 'bloco_autuacoes',\n",
    "            'pallete': 'blue_pallete',\n",
    "            'titulo': 'Comunique-ses emitidos nos últimos 12 meses',\n",
    "            'img': 'pdf_img/smul_main_comparativo_comun.png',\n",
    "\n",
    "            'data_index': lista_meses,\n",
    "            'data': {\n",
    "                'Total': {key: value for key, value in zip(lista_meses, [x + y + z + a for x, y, z, a in zip(list(f_sissel_12_comun), list(f_ad_12_comun), list(f_slce_12_comun), list(f_portal_12_comun))])},\n",
    "            }\n",
    "        },\n",
    "        'bloco_main_comuniqueses': {\n",
    "            'block_name': 'bloco_fontes',\n",
    "            'tamanho_base': 'bloco_fontes',\n",
    "            'pallete': 'blue_pallete',\n",
    "            'titulo': f'Comunique-ses por sistema em {ano_ref}',\n",
    "            'img': 'pdf_img/smul_main_comun.png',\n",
    "            'padding': 3,\n",
    "            'width': 350,\n",
    "            'height': 150,\n",
    "            'line_size': 1,\n",
    "            'img_y': 1,\n",
    "            'img_x': 1,\n",
    "            'data': {\n",
    "                'Aprova Digital': int(f_ad_12_comun.sum()),\n",
    "                'Portal': int(f_portal_12_comun.sum()),\n",
    "                'SisSEL': int(f_sissel_12_comun.sum()),\n",
    "                'SLCe': int(f_slce_12_comun.sum()),\n",
    "            },\n",
    "        },\n",
    "        'bloco_main_autuacoes': {\n",
    "            'block_name': 'bloco_autuacoes',\n",
    "            'tamanho_base': 'bloco_autuacoes',\n",
    "            'pallete': 'blue_pallete',\n",
    "            'titulo': 'Autuações de processos em 2023',\n",
    "            'img': 'pdf_img/smul_main_autuados.png',\n",
    "            'data': {\n",
    "                'Aprova Digital': {dict_mes_abrev[key.month]: value for key, value in f_ad_12_autuados.to_dict().items()},\n",
    "                'SLCe': {dict_mes_abrev[key.month]: value for key, value in f_slce_12_autuados.to_dict().items()},\n",
    "                'Portal': {dict_mes_abrev[key + 1]: value for key, value in f_portal_12_autuados.to_dict().items()},\n",
    "            }\n",
    "        },  \n",
    "        'bloco_final': {'tamanho_base': 'bloco_final'},\n",
    "    },\n",
    "    'assuntos': {\n",
    "        'aprova_digital': {\n",
    "            'data': f_ad_assuntos.to_dict()\n",
    "        },\n",
    "        'sissel': {\n",
    "            'data': f_sissel_assuntos.to_dict()\n",
    "        },\n",
    "    },\n",
    "}"
   ]
  },
  {
   "cell_type": "code",
   "execution_count": 139,
   "id": "9d4d930c-7653-44ad-850e-d6a9d4aec502",
   "metadata": {
    "tags": []
   },
   "outputs": [
    {
     "data": {
      "text/plain": [
       "'rel_parametrizacao\\\\SMUL-2024-03-06T10-38-41.json'"
      ]
     },
     "execution_count": 139,
     "metadata": {},
     "output_type": "execute_result"
    }
   ],
   "source": [
    "path_json_smul = f\"rel_parametrizacao\\\\{coord}-{datetime.now().strftime('%Y-%m-%dT%H-%M-%S')}.json\"\n",
    "\n",
    "with open(path_json_smul, 'w') as json_file:\n",
    "    json.dump(smul_param, json_file)\n",
    "path_json_smul"
   ]
  },
  {
   "cell_type": "markdown",
   "id": "060659d8-c9ea-4746-ab51-05b5eecd4b6d",
   "metadata": {
    "tags": []
   },
   "source": [
    "## Por no gráfico"
   ]
  },
  {
   "cell_type": "code",
   "execution_count": 94,
   "id": "af9d0835-3890-4af7-87ba-e1a8265ed0c8",
   "metadata": {
    "tags": []
   },
   "outputs": [],
   "source": [
    "label_color = lambda x: ['white' if i == 'w' else 'black' for i in x]"
   ]
  },
  {
   "cell_type": "markdown",
   "id": "ecac750b-23c4-4a80-bf5b-ce941d80f927",
   "metadata": {
    "tags": []
   },
   "source": [
    "### SMUL"
   ]
  },
  {
   "cell_type": "markdown",
   "id": "a57b855f-3036-4beb-86d0-b5ed7dfa376b",
   "metadata": {
    "tags": []
   },
   "source": [
    "#### Geral"
   ]
  },
  {
   "cell_type": "markdown",
   "id": "f87d9bb2-038a-4c71-acdf-7709da72c98e",
   "metadata": {
    "tags": []
   },
   "source": [
    "##### Grafico main fontes"
   ]
  },
  {
   "cell_type": "code",
   "execution_count": 95,
   "id": "190e81bb-ad76-498e-8ec4-2e793bb16149",
   "metadata": {
    "tags": []
   },
   "outputs": [
    {
     "data": {
      "image/png": "[encoded data removed]",
      "text/plain": [
       "<Figure size 700x300 with 1 Axes>"
      ]
     },
     "metadata": {},
     "output_type": "display_data"
    }
   ],
   "source": [
    "#dados = caepp_param['block_placement']['bloco_main_fontes']['data']\n",
    "def graph_main_fontes(coord, dados):\n",
    "    valores = list(dados.values())\n",
    "    sistemas = list(dados.keys())\n",
    "    total = np.sum(valores)  # Total para calcula de porcentagem na mão\n",
    "\n",
    "    labels = [f'{i} - {round(valores[n] * 100 / total, 1)}%' for n, i in enumerate(sistemas)] \n",
    "    blue_pallete = ['#073763', '#9fc5e8', '#3d85c6', '#0b5394']\n",
    "\n",
    "    ## Grafico\n",
    "    def func(pct, allvals):\n",
    "        absolute = int(np.round(pct/100.*np.sum(allvals)))\n",
    "        return f\"{absolute}\"\n",
    "\n",
    "    fig, ax = plt.subplots(figsize=(7,3)) \n",
    "    wedges, texts, autotexts = ax.pie(valores, \n",
    "                                      colors=blue_pallete,\n",
    "                                      autopct=lambda pct: func(pct, valores), \n",
    "                                      startangle=120, \n",
    "                                      pctdistance=0.75, \n",
    "                                      wedgeprops=dict(width=0.45, edgecolor='w'))\n",
    "\n",
    "    for n, autotext in enumerate(autotexts):\n",
    "        autotext.set_color(label_color('wbbw')[n]) \n",
    "\n",
    "    kw = dict(arrowprops=dict(arrowstyle=\"-\"))\n",
    "\n",
    "    for i, p in enumerate(wedges):\n",
    "        ang = (p.theta2 - p.theta1)/1.9 + p.theta1\n",
    "        y = np.sin(np.deg2rad(ang))\n",
    "        x = np.cos(np.deg2rad(ang))\n",
    "        horizontalalignment = {-1: \"right\", 1: \"left\"}[int(np.sign(x))]\n",
    "        connectionstyle = f\"angle,angleA=0,angleB={ang}\"\n",
    "        kw[\"arrowprops\"].update({\"connectionstyle\": connectionstyle})\n",
    "        ax.annotate(labels[i], xy=(x, y), xytext=(1.2*np.sign(x), 1.3*y), horizontalalignment=horizontalalignment, **kw)\n",
    "\n",
    "    plt.savefig(f'pdf_img/{coord}_main_fontes.png', dpi=300)\n",
    "\n",
    "dados = smul_param['block_placement'].get('bloco_main_fontes').get('data')\n",
    "if dados:\n",
    "    graph_main_fontes('smul', dados)"
   ]
  },
  {
   "cell_type": "markdown",
   "id": "3519e605-c23c-4aa7-97b2-9f8bfd4a5187",
   "metadata": {
    "tags": []
   },
   "source": [
    "##### Grafico main fontes div"
   ]
  },
  {
   "cell_type": "code",
   "execution_count": 85,
   "id": "f6ea39b9-b1a2-4888-ad41-8883e0236345",
   "metadata": {
    "tags": []
   },
   "outputs": [
    {
     "data": {
      "image/png": "[encoded data removed]",
      "text/plain": [
       "<Figure size 600x800 with 1 Axes>"
      ]
     },
     "metadata": {},
     "output_type": "display_data"
    },
    {
     "data": {
      "text/plain": [
       "{'CAEPP': 192}"
      ]
     },
     "execution_count": 85,
     "metadata": {},
     "output_type": "execute_result"
    }
   ],
   "source": [
    "#dados = caepp_param['block_placement']['bloco_main_fontes']['data']\n",
    "def graph_main_fontes_div(coord, dados):\n",
    "\n",
    "    blue_palette = ['#073763', '#9fc5e8', '#3d85c6']\n",
    "    \n",
    "    lista_invertida = list(dados.values())[::-1]\n",
    "\n",
    "    categories = list(dados.keys())[::-1]\n",
    "\n",
    "    # Configurar a largura das barras\n",
    "    bar_width = 0.4\n",
    "\n",
    "    fig, ax = plt.subplots(figsize=(6, 8))\n",
    "\n",
    "    # Criar o gráfico de barras horizontais\n",
    "    bars = plt.barh(categories, lista_invertida, color=blue_palette[0], height=bar_width, edgecolor='white', label='despachos', zorder=3)\n",
    "\n",
    "    # Escrever valores dentro das barras\n",
    "    for bar in bars:\n",
    "        xval = bar.get_width()\n",
    "        plt.text(xval, bar.get_y() + bar.get_height()/2.0, int(xval), ha='left', va='center', fontsize=8)\n",
    "\n",
    "    # Personalizar o gráfico\n",
    "    plt.grid(color='#b7b7b7', axis='x', zorder=0)\n",
    "    plt.xlabel('Despachos')\n",
    "    plt.title(f'Despachos por Coordenadoria - {coord.upper()}')\n",
    "\n",
    "    # Remover bordas\n",
    "    ax.spines['top'].set_color('none')\n",
    "    ax.spines['right'].set_color('none')\n",
    "    ax.spines['bottom'].set_color('none')\n",
    "\n",
    "    # Ajustar margem direita maior\n",
    "    desired_right_limit = 400  # Defina o limite direito desejado\n",
    "    ax.xaxis.set_ticks(range(0, 401, 100))  # Configurar marcadores no eixo X\n",
    "    ax.set_xlim(right=desired_right_limit * 1.1)\n",
    "\n",
    "    # Adicionar uma legenda\n",
    "    plt.legend()\n",
    "\n",
    "    plt.savefig(f'pdf_img/{coord}_div_fontes.png', dpi=300)\n",
    "    plt.show()\n",
    "\n",
    "dados = smul_param['block_placement'].get('bloco_main_fontes_div').get('data')\n",
    "if dados:\n",
    "    graph_main_fontes_div('smul', dados)\n",
    "dados\n"
   ]
  },
  {
   "cell_type": "markdown",
   "id": "ec6f0c5f-ec9c-4415-80b3-3c4b7e764163",
   "metadata": {
    "tags": []
   },
   "source": [
    "##### Grafico main comparativo linha"
   ]
  },
  {
   "cell_type": "code",
   "execution_count": 86,
   "id": "d03b3b93-74e1-48cc-a2bc-e61431512dd4",
   "metadata": {
    "tags": []
   },
   "outputs": [
    {
     "data": {
      "image/png": "[encoded data removed]",
      "text/plain": [
       "<Figure size 1500x500 with 1 Axes>"
      ]
     },
     "metadata": {},
     "output_type": "display_data"
    }
   ],
   "source": [
    "def graph_main_comparativo_linha(coord, dados_aut):\n",
    "    dados = dados_aut.values()\n",
    "    meses = dados_aut.keys()\n",
    "    \n",
    "    categories = meses\n",
    "    bar_width = 0.4\n",
    "\n",
    "    fig, ax = plt.subplots(figsize=(15,5))\n",
    "    # Criar um gráfico de linha\n",
    "    plt.plot(meses, list(dados), marker='o', linestyle='--', color='#073763', label='SMUL')\n",
    "\n",
    "    # Adicionar rótulos\n",
    "    plt.ylabel('Valores')\n",
    "\n",
    "    # Personalizar o gráfico\n",
    "    plt.grid(color='#b7b7b7', axis='y', zorder=0)\n",
    "    plt.xticks([r + ((bar_width / 2) - 0.2) for r in range(len(categories))], categories)\n",
    "    plt.ylabel('Despachos')\n",
    "\n",
    "    # Ajustar margem superior maior\n",
    "    desired_top_limit = 3000  # Defina o limite superior desejado\n",
    "    ax.yaxis.set_ticks(range(0, desired_top_limit + 1, 500))  # Configurar marcadores no eixo Y\n",
    "    ax.set_ylim(top=ax.get_ylim()[1] * 1.1) \n",
    "\n",
    "    # Adicionar marcadores numéricos acima dos pontos\n",
    "    for mes, valor in zip(meses, dados):\n",
    "        plt.annotate(str(valor), xy=(mes, valor), xytext=(0, 5), textcoords='offset points', ha='center', va='bottom')\n",
    "\n",
    "\n",
    "    # Remover bordas\n",
    "    ax.spines['top'].set_color('none')\n",
    "    ax.spines['right'].set_color('none')\n",
    "    ax.spines['left'].set_color('none')\n",
    "\n",
    "    # Adicionar uma legenda\n",
    "    plt.legend()\n",
    "\n",
    "    plt.savefig(f'pdf_img/{coord}_main_comparativo_linha.png', dpi=300)\n",
    "\n",
    "dados = smul_param['block_placement'].get('bloco_main_comparativo_linha').get('data').get('Total')\n",
    "if dados:\n",
    "    graph_main_comparativo_linha('smul', dados)"
   ]
  },
  {
   "cell_type": "markdown",
   "id": "53a0479f-ed97-448f-8117-9f9d09eb242f",
   "metadata": {
    "tags": []
   },
   "source": [
    "##### Grafico main comparativo comuniqueses"
   ]
  },
  {
   "cell_type": "code",
   "execution_count": 87,
   "id": "56b30f06-edcf-4703-bc85-c48e498a48d9",
   "metadata": {
    "tags": []
   },
   "outputs": [
    {
     "data": {
      "image/png": "[encoded data removed]",
      "text/plain": [
       "<Figure size 1500x500 with 1 Axes>"
      ]
     },
     "metadata": {},
     "output_type": "display_data"
    }
   ],
   "source": [
    "def graph_main_comparativo_comun(coord, dados_aut):\n",
    "    dados = dados_aut.values()\n",
    "    meses = dados_aut.keys()\n",
    "    \n",
    "    categories = meses\n",
    "    bar_width = 0.4\n",
    "\n",
    "    fig, ax = plt.subplots(figsize=(15,5))\n",
    "    # Criar um gráfico de linha\n",
    "    plt.plot(meses, list(dados), marker='o', linestyle='--', color='#073763', label='SMUL')\n",
    "\n",
    "    # Adicionar rótulos\n",
    "    plt.ylabel('Valores')\n",
    "\n",
    "    # Personalizar o gráfico\n",
    "    plt.grid(color='#b7b7b7', axis='y', zorder=0)\n",
    "    plt.xticks([r + ((bar_width / 2) - 0.2) for r in range(len(categories))], categories)\n",
    "    plt.ylabel('Despachos')\n",
    "\n",
    "    # Ajustar margem superior maior\n",
    "    desired_top_limit = 3500  # Defina o limite superior desejado\n",
    "    ax.yaxis.set_ticks(range(0, desired_top_limit + 1, 500))  # Configurar marcadores no eixo Y\n",
    "    ax.set_ylim(top=ax.get_ylim()[1] * 1.1) \n",
    "\n",
    "    # Adicionar marcadores numéricos acima dos pontos\n",
    "    for mes, valor in zip(meses, dados):\n",
    "        plt.annotate(str(valor), xy=(mes, valor), xytext=(0, 5), textcoords='offset points', ha='center', va='bottom')\n",
    "\n",
    "\n",
    "    # Remover bordas\n",
    "    ax.spines['top'].set_color('none')\n",
    "    ax.spines['right'].set_color('none')\n",
    "    ax.spines['left'].set_color('none')\n",
    "\n",
    "    # Adicionar uma legenda\n",
    "    plt.legend()\n",
    "\n",
    "    plt.savefig(f'pdf_img/{coord}_main_comparativo_comun.png', dpi=300)\n",
    "\n",
    "dados = smul_param['block_placement'].get('bloco_main_comparativo_comun').get('data').get('Total')\n",
    "if dados:\n",
    "    graph_main_comparativo_comun('smul', dados)"
   ]
  },
  {
   "cell_type": "markdown",
   "id": "f263d734-6501-4da5-8e67-dcdb9d197498",
   "metadata": {
    "tags": []
   },
   "source": [
    "##### Gráfico main comuniqueses"
   ]
  },
  {
   "cell_type": "code",
   "execution_count": 96,
   "id": "51ccf96a-e1c1-4938-83bc-cb4ddbb3a57e",
   "metadata": {
    "tags": []
   },
   "outputs": [
    {
     "name": "stdout",
     "output_type": "stream",
     "text": [
      "Aprova Digital - 1.3%\n",
      "Portal - 58.3%\n",
      "SisSEL - 0.0%\n",
      "SLCe - 40.4%\n"
     ]
    },
    {
     "data": {
      "text/plain": [
       "{'Aprova Digital': 132, 'Portal': 6024, 'SisSEL': 1, 'SLCe': 4180}"
      ]
     },
     "execution_count": 96,
     "metadata": {},
     "output_type": "execute_result"
    },
    {
     "data": {
      "image/png": "[encoded data removed]",
      "text/plain": [
       "<Figure size 700x300 with 1 Axes>"
      ]
     },
     "metadata": {},
     "output_type": "display_data"
    }
   ],
   "source": [
    "def graph_main_comun(coord, dados):\n",
    "    \n",
    "    valores = list(dados.values())\n",
    "    sistemas = list(dados.keys())\n",
    "    total = np.sum(valores)  # Total para calcula de porcentagem na mão\n",
    "\n",
    "    labels = [f'{i} - {round(valores[n] * 100 / total, 1)}%' for n, i in enumerate(sistemas)] \n",
    "    blue_pallete = ['#073763', '#0b5394', '#3d85c6', '#9fc5e8']\n",
    "\n",
    "    ## Grafico\n",
    "    def func(pct, allvals):\n",
    "        absolute = int(np.round(pct/100.*np.sum(allvals)))\n",
    "        return f\"{absolute}\"\n",
    "\n",
    "    fig, ax = plt.subplots(figsize=(7,3)) \n",
    "    wedges, texts, autotexts = ax.pie(valores, \n",
    "                                      colors=blue_pallete,\n",
    "                                      autopct=lambda pct: func(pct, valores), \n",
    "                                      startangle=120, \n",
    "                                      pctdistance=0.75, \n",
    "                                      wedgeprops=dict(width=0.45, edgecolor='w'))\n",
    "\n",
    "    for n, autotext in enumerate(autotexts):\n",
    "        autotext.set_color(label_color('wwbb')[n]) \n",
    "\n",
    "    kw = dict(arrowprops=dict(arrowstyle=\"-\"))\n",
    "\n",
    "    for i, p in enumerate(wedges):\n",
    "        ang = (p.theta2 - p.theta1)/2 + p.theta1\n",
    "        y = np.sin(np.deg2rad(ang))\n",
    "        x = np.cos(np.deg2rad(ang))\n",
    "        horizontalalignment = {-1: \"right\", 1: \"left\"}[int(np.sign(x))]\n",
    "        connectionstyle = f\"angle,angleA=0,angleB={ang}\"\n",
    "        kw[\"arrowprops\"].update({\"connectionstyle\": connectionstyle})\n",
    "        ax.annotate(labels[i], xy=(x, y), xytext=(1.6*np.sign(x), 1.3*y), horizontalalignment=horizontalalignment, **kw)\n",
    "        print(labels[i])\n",
    "\n",
    "    plt.savefig(f'pdf_img/{coord}_main_comun.png', dpi=300)\n",
    "    \n",
    "dados = smul_param['block_placement'].get('bloco_main_comuniqueses').get('data')\n",
    "if dados:\n",
    "    graph_main_comun('smul', dados)\n",
    "dados"
   ]
  },
  {
   "cell_type": "markdown",
   "id": "ba463d18-3013-4e97-ad45-e806c19bee34",
   "metadata": {
    "tags": []
   },
   "source": [
    "##### Gráfico main Autuacoes"
   ]
  },
  {
   "cell_type": "code",
   "execution_count": 97,
   "id": "f6b5e1d1-3f6a-4e26-a30c-337271ba0f68",
   "metadata": {
    "tags": []
   },
   "outputs": [
    {
     "data": {
      "text/plain": [
       "{'Aprova Digital': {'mar': 187,\n",
       "  'abr': 218,\n",
       "  'mai': 215,\n",
       "  'jun': 292,\n",
       "  'jul': 302,\n",
       "  'ago': 362,\n",
       "  'set': 265,\n",
       "  'out': 254,\n",
       "  'nov': 266,\n",
       "  'dez': 327,\n",
       "  'jan': 246,\n",
       "  'fev': 225},\n",
       " 'SLCe': {'mar': 687,\n",
       "  'abr': 600,\n",
       "  'mai': 687,\n",
       "  'jun': 649,\n",
       "  'jul': 603,\n",
       "  'ago': 625,\n",
       "  'set': 557,\n",
       "  'out': 566,\n",
       "  'nov': 585,\n",
       "  'dez': 473,\n",
       "  'jan': 419,\n",
       "  'fev': 520},\n",
       " 'Portal': {'jan': 1322,\n",
       "  'fev': 1156,\n",
       "  'mar': 1336,\n",
       "  'abr': 1365,\n",
       "  'mai': 1299,\n",
       "  'jun': 1519,\n",
       "  'jul': 1286,\n",
       "  'ago': 1485,\n",
       "  'set': 1786,\n",
       "  'out': 4149,\n",
       "  'nov': 2285,\n",
       "  'dez': 1046}}"
      ]
     },
     "execution_count": 97,
     "metadata": {},
     "output_type": "execute_result"
    },
    {
     "data": {
      "image/png": "[encoded data removed]",
      "text/plain": [
       "<Figure size 1500x500 with 1 Axes>"
      ]
     },
     "metadata": {},
     "output_type": "display_data"
    }
   ],
   "source": [
    "def graph_main_aut(coord, dados_aut):\n",
    "    dados = dados_aut\n",
    "    meses = list(dados_aut['Aprova Digital'].keys())\n",
    "    \n",
    "    categories = meses\n",
    "    bar_width = 0.4\n",
    "\n",
    "    fig, ax = plt.subplots(figsize=(15,5))\n",
    "    # Criar um gráfico de linha\n",
    "    plt.plot(meses, list(dados['Aprova Digital'].values()), marker='s', linestyle='-', color='#073763', label='Aprova Digital')\n",
    "    plt.plot(meses, list(dados['SLCe'].values()), marker='D', linestyle='-', color='#b45f06', label='SLCe')\n",
    "    plt.plot(meses, list(dados['Portal'].values()), marker='o', linestyle='-', color='#003b46', label='Portal')\n",
    "\n",
    "    # Adicionar rótulos\n",
    "    plt.ylabel('Valores')\n",
    "\n",
    "    # Personalizar o gráfico\n",
    "    plt.grid(color='#b7b7b7', axis='y', zorder=0)\n",
    "    plt.xticks([r + ((bar_width / 2) - 0.2) for r in range(len(categories))], categories)\n",
    "    plt.ylabel('Autuados')\n",
    "\n",
    "    # Ajustar margem superior maior\n",
    "    desired_top_limit = 4500  # Defina o limite superior desejado\n",
    "    ax.yaxis.set_ticks(range(0, desired_top_limit + 1, 1000))  # Configurar marcadores no eixo Y\n",
    "    ax.set_ylim(top=ax.get_ylim()[1] * 1.1) \n",
    "\n",
    "    # Adicionar marcadores numéricos acima dos pontos\n",
    "    for key, values in dados.items():\n",
    "        for mes, valor in values.items():\n",
    "            plt.annotate(str(valor), xy=(mes, valor), xytext=(0, 5), textcoords='offset points', ha='center', va='bottom')\n",
    "\n",
    "\n",
    "    # Remover bordas\n",
    "    ax.spines['top'].set_color('none')\n",
    "    ax.spines['right'].set_color('none')\n",
    "    ax.spines['left'].set_color('none')\n",
    "\n",
    "    # Adicionar uma legenda\n",
    "    plt.legend()\n",
    "\n",
    "    plt.savefig(f'pdf_img/{coord}_main_autuados.png', dpi=300)\n",
    "\n",
    "main_aut = smul_param['block_placement'].get('bloco_main_autuacoes').get('data')\n",
    "\n",
    "if main_aut:\n",
    "    graph_main_aut('smul', main_aut)\n",
    "main_aut"
   ]
  },
  {
   "cell_type": "markdown",
   "id": "6ff5ae0a-8dd7-48f9-b090-08937ce1514f",
   "metadata": {
    "tags": []
   },
   "source": [
    "#### Aprova Digital"
   ]
  },
  {
   "cell_type": "markdown",
   "id": "848a15b5-9dba-4925-bff6-274f31396d3c",
   "metadata": {
    "tags": []
   },
   "source": [
    "##### Gráfico AD comparativo"
   ]
  },
  {
   "cell_type": "code",
   "execution_count": 98,
   "id": "e89cff6e-b384-4536-8f58-2dd7de7d748d",
   "metadata": {
    "tags": []
   },
   "outputs": [],
   "source": [
    "def graph_ad_comparativo(coord, dados):\n",
    "    green_pallete = ['#c4dfe6', '#003b46']\n",
    "\n",
    "    categories = list(dados.index)\n",
    "\n",
    "\n",
    "    # Configurar a largura das barras agrupadas\n",
    "    bar_width = 0.4\n",
    "\n",
    "    # Configurar a posição das barras agrupadas\n",
    "    r = [x - bar_width/2 for x in range(len(categories))]\n",
    "\n",
    "\n",
    "    fig, ax = plt.subplots(figsize=(15,5))\n",
    "\n",
    "    # Criar o gráfico de barras agrupadas\n",
    "    bar_def = plt.bar(r, dados['Deferidos'], color=green_pallete[1],  edgecolor='white', label='Deferidos', zorder=3)\n",
    "    bar_indef = plt.bar(r, dados['Indeferidos'], color=green_pallete[0], bottom=dados['Deferidos'],  edgecolor='white', label='Indeferidos', zorder=3)\n",
    "\n",
    "    #linha\n",
    "    #total_line = plt.plot(dados['Total'], color='#000000', linewidth=1, zorder=3, label='Total')\n",
    "\n",
    "    for i, (valor_def, valor_indef) in enumerate(zip(dados['Deferidos'], dados['Indeferidos'])):\n",
    "        ajuste_def = 12\n",
    "        ajuste_indef = -6\n",
    "        #if i == 11:\n",
    "            #ajuste_indef = 4\n",
    "        plt.text(i - 0.17, valor_def - ajuste_def, f'{valor_def}', ha='center', va='center', fontsize=8, color='white')\n",
    "        plt.text(i - 0.17, valor_def + valor_indef - ajuste_indef, f'{valor_indef}', ha='center', va='center', fontsize=8, color='black')\n",
    "\n",
    "\n",
    "    # Personalizar o gráfico\n",
    "    plt.grid(color='#b7b7b7', axis='y', zorder=0)\n",
    "    #plt.xticks([r + bar_width for r in range(len(categories))], categories)\n",
    "    plt.xticks(r, categories)\n",
    "    plt.ylabel('Despachos')\n",
    "\n",
    "    # Remover bordas\n",
    "    ax.spines['top'].set_color('none')\n",
    "    ax.spines['right'].set_color('none')\n",
    "    ax.spines['left'].set_color('none')\n",
    "\n",
    "    # Ajustar margem superior maior\n",
    "    desired_top_limit = 200  # Defina o limite superior desejado\n",
    "    ax.yaxis.set_ticks(range(0, desired_top_limit + 1, 50))  # Configurar marcadores no eixo Y\n",
    "    ax.set_ylim(top=ax.get_ylim()[1] * 1.1) \n",
    "\n",
    "    # Legenda customizada\n",
    "    plt.legend(handles=[bar_def, bar_indef], loc='upper center', ncol=3) # total_line[0]   \n",
    "\n",
    "    plt.savefig(f'pdf_img/{coord}_ad_comparativo.png', dpi=300)\n",
    "    \n",
    "\n",
    "#ad_comparativo = smul_param['block_placement'].get('bloco_ad_comparativo').get('data')\n",
    "#if ad_comparativo:\n",
    "    #df_ad_comparativo = pd.DataFrame(ad_comparativo, index=lista_meses)\n",
    "    #graph_ad_comparativo('smul', df_ad_comparativo)"
   ]
  },
  {
   "cell_type": "markdown",
   "id": "3bb5a2cb-7155-4afb-a479-4f8117e43bd1",
   "metadata": {
    "tags": []
   },
   "source": [
    "##### Grafico ad comuniqueses"
   ]
  },
  {
   "cell_type": "code",
   "execution_count": 99,
   "id": "555dce66-202d-49ae-8c12-632cee77a76e",
   "metadata": {},
   "outputs": [],
   "source": [
    "def graph_ad_comun(coord, dados_com):\n",
    "    dados = dados_com.values()\n",
    "    meses = dados_com.keys()\n",
    "    \n",
    "    categories = meses\n",
    "    bar_width = 0.4\n",
    "\n",
    "    fig, ax = plt.subplots(figsize=(15,5))\n",
    "    # Criar um gráfico de linha\n",
    "    plt.plot(meses, list(dados), marker='o', linestyle='-', color='#073763', label='Aprova Digital')\n",
    "\n",
    "    # Adicionar rótulos\n",
    "    plt.ylabel('Valores')\n",
    "\n",
    "    # Personalizar o gráfico\n",
    "    plt.grid(color='#b7b7b7', axis='y', zorder=0)\n",
    "    plt.xticks([r + ((bar_width / 2) - 0.2) for r in range(len(categories))], categories)\n",
    "    plt.ylabel('Comunicados')\n",
    "\n",
    "    # Ajustar margem superior maior\n",
    "    desired_top_limit = 100  # Defina o limite superior desejado\n",
    "    ax.yaxis.set_ticks(range(0, desired_top_limit + 1, 25))  # Configurar marcadores no eixo Y\n",
    "    ax.set_ylim(top=ax.get_ylim()[1] * 1.1) \n",
    "\n",
    "    # Adicionar marcadores numéricos acima dos pontos\n",
    "    for mes, valor in zip(meses, dados):\n",
    "        plt.annotate(str(valor), xy=(mes, valor), xytext=(0, 5), textcoords='offset points', ha='center', va='bottom')\n",
    "\n",
    "\n",
    "    # Remover bordas\n",
    "    ax.spines['top'].set_color('none')\n",
    "    ax.spines['right'].set_color('none')\n",
    "    ax.spines['left'].set_color('none')\n",
    "\n",
    "    # Adicionar uma legenda\n",
    "    plt.legend()\n",
    "\n",
    "    plt.savefig(f'pdf_img/{coord}_ad_comun.png', dpi=300)\n",
    "    \n",
    "#ad_comun = caepp_param['block_placement'].get('bloco_ad_comuniqueses').get('data')\n",
    "#if ad_comun:\n",
    "#    graph_ad_comun('caepp', ad_comun)"
   ]
  },
  {
   "cell_type": "markdown",
   "id": "24f9c4fc-415b-4eb3-b9b5-9e68e9b6adbe",
   "metadata": {
    "tags": []
   },
   "source": [
    "##### Grafico ad Autuados"
   ]
  },
  {
   "cell_type": "code",
   "execution_count": 100,
   "id": "a8789920-2cb2-4d17-98e4-94484276848d",
   "metadata": {
    "tags": []
   },
   "outputs": [],
   "source": [
    "def graph_ad_aut(coord, dados_aut):\n",
    "    dados = dados_aut.values()\n",
    "    meses = dados_aut.keys()\n",
    "    \n",
    "    categories = meses\n",
    "    bar_width = 0.4\n",
    "\n",
    "\n",
    "    fig, ax = plt.subplots(figsize=(15,5))\n",
    "    # Criar um gráfico de linha\n",
    "    plt.plot(meses, list(dados), marker='o', linestyle='-', color='#003b46', label='Autuados')\n",
    "\n",
    "    # Adicionar rótulos\n",
    "    plt.ylabel('Valores')\n",
    "\n",
    "    # Personalizar o gráfico\n",
    "    plt.grid(color='#b7b7b7', axis='y', zorder=0)\n",
    "    plt.xticks([r + ((bar_width / 2) - 0.2) for r in range(len(categories))], categories)\n",
    "    plt.ylabel('Autuados')\n",
    "\n",
    "    # Ajustar margem superior maior\n",
    "    desired_top_limit = 400  # Defina o limite superior desejado\n",
    "    ax.yaxis.set_ticks(range(0, desired_top_limit + 1, 100))  # Configurar marcadores no eixo Y\n",
    "    ax.set_ylim(top=ax.get_ylim()[1] * 1.1) \n",
    "\n",
    "    # Adicionar marcadores numéricos acima dos pontos\n",
    "    for mes, valor in zip(meses, dados):\n",
    "        plt.annotate(str(valor), xy=(mes, valor), xytext=(0, 5), textcoords='offset points', ha='center', va='bottom')\n",
    "\n",
    "\n",
    "    # Remover bordas\n",
    "    ax.spines['top'].set_color('none')\n",
    "    ax.spines['right'].set_color('none')\n",
    "    ax.spines['left'].set_color('none')\n",
    "\n",
    "    # Adicionar uma legenda\n",
    "    plt.legend()\n",
    "\n",
    "    plt.savefig(f'pdf_img/{coord}_ad_autuados.png', dpi=300)\n",
    "\n",
    "#ad_aut = caepp_param['block_placement'].get('bloco_ad_autuacoes').get('data')\n",
    "#if ad_aut:\n",
    "    #graph_ad_aut('caepp', ad_aut)"
   ]
  },
  {
   "cell_type": "markdown",
   "id": "c8e84da1-760e-473f-a408-caf9d0e92f27",
   "metadata": {
    "tags": []
   },
   "source": [
    "#### SisSEL"
   ]
  },
  {
   "cell_type": "markdown",
   "id": "73a21850-9a61-48a3-9f33-829ed61da997",
   "metadata": {
    "tags": []
   },
   "source": [
    "##### Grafico sissel comaprativo"
   ]
  },
  {
   "cell_type": "code",
   "execution_count": 101,
   "id": "559419b2-b1aa-4882-85c6-195242d39d43",
   "metadata": {
    "tags": []
   },
   "outputs": [
    {
     "ename": "NameError",
     "evalue": "name 'caepp_param' is not defined",
     "output_type": "error",
     "traceback": [
      "\u001b[1;31m---------------------------------------------------------------------------\u001b[0m",
      "\u001b[1;31mNameError\u001b[0m                                 Traceback (most recent call last)",
      "Cell \u001b[1;32mIn[101], line 57\u001b[0m\n\u001b[0;32m     53\u001b[0m     plt\u001b[38;5;241m.\u001b[39mlegend(handles\u001b[38;5;241m=\u001b[39m[bar_def, bar_indef], loc\u001b[38;5;241m=\u001b[39m\u001b[38;5;124m'\u001b[39m\u001b[38;5;124mupper center\u001b[39m\u001b[38;5;124m'\u001b[39m, ncol\u001b[38;5;241m=\u001b[39m\u001b[38;5;241m3\u001b[39m) \u001b[38;5;66;03m# total_line[0]   \u001b[39;00m\n\u001b[0;32m     55\u001b[0m     plt\u001b[38;5;241m.\u001b[39msavefig(\u001b[38;5;124mf\u001b[39m\u001b[38;5;124m'\u001b[39m\u001b[38;5;124mpdf_img/\u001b[39m\u001b[38;5;132;01m{\u001b[39;00mcoord\u001b[38;5;132;01m}\u001b[39;00m\u001b[38;5;124m_sissel_comparativo.png\u001b[39m\u001b[38;5;124m'\u001b[39m, dpi\u001b[38;5;241m=\u001b[39m\u001b[38;5;241m300\u001b[39m)\n\u001b[1;32m---> 57\u001b[0m dados \u001b[38;5;241m=\u001b[39m \u001b[43mcaepp_param\u001b[49m[\u001b[38;5;124m'\u001b[39m\u001b[38;5;124mblock_placement\u001b[39m\u001b[38;5;124m'\u001b[39m]\u001b[38;5;241m.\u001b[39mget(\u001b[38;5;124m'\u001b[39m\u001b[38;5;124mbloco_sissel_comparativo\u001b[39m\u001b[38;5;124m'\u001b[39m)\u001b[38;5;241m.\u001b[39mget(\u001b[38;5;124m'\u001b[39m\u001b[38;5;124mdata\u001b[39m\u001b[38;5;124m'\u001b[39m)\n\u001b[0;32m     58\u001b[0m \u001b[38;5;28;01mif\u001b[39;00m dados:\n\u001b[0;32m     59\u001b[0m     df_dados \u001b[38;5;241m=\u001b[39m pd\u001b[38;5;241m.\u001b[39mDataFrame(dados, index\u001b[38;5;241m=\u001b[39mlista_meses)\n",
      "\u001b[1;31mNameError\u001b[0m: name 'caepp_param' is not defined"
     ]
    }
   ],
   "source": [
    "def graph_sissel_comparativo(coord, dados):\n",
    "    pink_pallete = ['#741b47', '#d5a6bd']\n",
    "\n",
    "    categories = list(dados.index)\n",
    "\n",
    "\n",
    "    # Configurar a largura das barras agrupadas\n",
    "    bar_width = 0.4\n",
    "\n",
    "    # Configurar a posição das barras agrupadas\n",
    "    r = [x - bar_width/2 for x in range(len(categories))]\n",
    "\n",
    "\n",
    "    fig, ax = plt.subplots(figsize=(15,5))\n",
    "\n",
    "    # Criar o gráfico de barras agrupadas\n",
    "    bar_def = plt.bar(r, dados['Deferidos'], color=pink_pallete[0],  edgecolor='white', label='Deferidos', zorder=3)\n",
    "    bar_indef = plt.bar(r, dados['Indeferidos'], color=pink_pallete[1], bottom=dados['Deferidos'],  edgecolor='white', label='Indeferidos', zorder=3)\n",
    "\n",
    "    #linha\n",
    "    #total_line = plt.plot(dados['Total'], color='#000000', linewidth=1, zorder=3, label='Total')\n",
    "\n",
    "    for i, (valor_def, valor_indef) in enumerate(zip(dados['Deferidos'], dados['Indeferidos'])):\n",
    "        ajuste_def = 3\n",
    "        ajuste_indef = -2\n",
    "        color_def = 'white'\n",
    "        color_indef = 'black'\n",
    "        if i == 9:\n",
    "            color_def = 'black'\n",
    "            ajuste_def = -2\n",
    "            ajuste_indef = -6\n",
    "        plt.text(i - 0.17, valor_def - ajuste_def, f'{valor_def}', ha='center', va='center', fontsize=8, color=color_def)\n",
    "        plt.text(i - 0.17, valor_def + valor_indef - ajuste_indef, f'{valor_indef}', ha='center', va='center', fontsize=8, color=color_indef)\n",
    "\n",
    "\n",
    "    # Personalizar o gráfico\n",
    "    plt.grid(color='#b7b7b7', axis='y', zorder=0)\n",
    "    #plt.xticks([r + bar_width for r in range(len(categories))], categories)\n",
    "    plt.xticks(r, categories)\n",
    "    plt.ylabel('Despachos')\n",
    "\n",
    "    # Remover bordas\n",
    "    ax.spines['top'].set_color('none')\n",
    "    ax.spines['right'].set_color('none')\n",
    "    ax.spines['left'].set_color('none')\n",
    "\n",
    "    # Ajustar margem superior maior\n",
    "    desired_top_limit = 100  # Defina o limite superior desejado\n",
    "    ax.yaxis.set_ticks(range(0, desired_top_limit + 1, 25))  # Configurar marcadores no eixo Y\n",
    "    ax.set_ylim(top=ax.get_ylim()[1] * 1.1) \n",
    "\n",
    "    # Legenda customizada\n",
    "    plt.legend(handles=[bar_def, bar_indef], loc='upper center', ncol=3) # total_line[0]   \n",
    "\n",
    "    plt.savefig(f'pdf_img/{coord}_sissel_comparativo.png', dpi=300)\n",
    "\n",
    "dados = caepp_param['block_placement'].get('bloco_sissel_comparativo').get('data')\n",
    "if dados:\n",
    "    df_dados = pd.DataFrame(dados, index=lista_meses)\n",
    "    graph_sissel_comparativo('caepp', df_dados)"
   ]
  },
  {
   "cell_type": "markdown",
   "id": "4e1fcdb0-c7e4-46b5-8ffd-ad24b2d97d30",
   "metadata": {
    "tags": []
   },
   "source": [
    "##### Grafico sissel comuniqueses"
   ]
  },
  {
   "cell_type": "code",
   "execution_count": null,
   "id": "1fa1d307-3688-4939-ac60-e20a29e9f3b8",
   "metadata": {
    "tags": []
   },
   "outputs": [],
   "source": [
    "def graph_sissel_comun(coord, dados_com):\n",
    "    dados = dados_com.values()\n",
    "    meses = dados_com.keys()\n",
    "    \n",
    "    categories = meses\n",
    "    bar_width = 0.4\n",
    "\n",
    "\n",
    "    fig, ax = plt.subplots(figsize=(15,5))\n",
    "    # Criar um gráfico de linha\n",
    "    plt.plot(meses, list(dados), marker='o', linestyle='-', color='#741b47', label='Comunicados')\n",
    "\n",
    "    # Adicionar rótulos\n",
    "    plt.ylabel('Valores')\n",
    "\n",
    "    # Personalizar o gráfico\n",
    "    plt.grid(color='#b7b7b7', axis='y', zorder=0)\n",
    "    plt.xticks([r + ((bar_width / 2) - 0.2) for r in range(len(categories))], categories)\n",
    "    plt.ylabel('Autuados')\n",
    "\n",
    "    # Ajustar margem superior maior\n",
    "    desired_top_limit = 100  # Defina o limite superior desejado\n",
    "    ax.yaxis.set_ticks(range(0, desired_top_limit + 1, 25))  # Configurar marcadores no eixo Y\n",
    "    ax.set_ylim(top=ax.get_ylim()[1] * 1.1) \n",
    "\n",
    "    # Adicionar marcadores numéricos acima dos pontos\n",
    "    for mes, valor in zip(meses, dados):\n",
    "        plt.annotate(str(valor), xy=(mes, valor), xytext=(0, 5), textcoords='offset points', ha='center', va='bottom')\n",
    "\n",
    "\n",
    "    # Remover bordas\n",
    "    ax.spines['top'].set_color('none')\n",
    "    ax.spines['right'].set_color('none')\n",
    "    ax.spines['left'].set_color('none')\n",
    "\n",
    "    # Adicionar uma legenda\n",
    "    plt.legend()\n",
    "\n",
    "    plt.savefig(f'pdf_img/{coord}_sissel_comun.png', dpi=300)\n",
    "    \n",
    "dados_com = caepp_param['block_placement'].get('bloco_sissel_comuniqueses').get('data')\n",
    "if dados_com:\n",
    "    graph_sissel_comun('caepp', dados_com)"
   ]
  },
  {
   "cell_type": "markdown",
   "id": "1d2aa452-c6a4-4663-8233-ee5ab39629c4",
   "metadata": {
    "jp-MarkdownHeadingCollapsed": true,
    "tags": []
   },
   "source": [
    "##### grafico sissel autuados"
   ]
  },
  {
   "cell_type": "markdown",
   "id": "a30112ff-44b1-41ac-b15b-474d14e7ce17",
   "metadata": {
    "tags": []
   },
   "source": [
    "#### SLCe"
   ]
  },
  {
   "cell_type": "markdown",
   "id": "67edc9b4-ceea-4130-95d9-2b0020540157",
   "metadata": {
    "tags": []
   },
   "source": [
    "##### Gráfico slce comparativo"
   ]
  },
  {
   "cell_type": "code",
   "execution_count": null,
   "id": "74cba28c-cb16-479c-a607-aca512a05776",
   "metadata": {
    "tags": []
   },
   "outputs": [],
   "source": [
    "def graph_slce_comparativo(coord, dados):\n",
    "    green_pallete = ['#b45f06', '#f9cb9c']\n",
    "\n",
    "    categories = list(dados.index)\n",
    "\n",
    "\n",
    "    # Configurar a largura das barras agrupadas\n",
    "    bar_width = 0.4\n",
    "\n",
    "    # Configurar a posição das barras agrupadas\n",
    "    r = [x - bar_width/2 for x in range(len(categories))]\n",
    "\n",
    "\n",
    "    fig, ax = plt.subplots(figsize=(15,5))\n",
    "\n",
    "    # Criar o gráfico de barras agrupadas\n",
    "    bar_def = plt.bar(r, dados['Deferidos'], color=green_pallete[0],  edgecolor='white', label='Deferidos', zorder=3)\n",
    "    bar_indef = plt.bar(r, dados['Indeferidos'], color=green_pallete[1], bottom=dados['Deferidos'],  edgecolor='white', label='Indeferidos', zorder=3)\n",
    "\n",
    "    #linha\n",
    "    #total_line = plt.plot(dados['Total'], color='#000000', linewidth=1, zorder=3, label='Total')\n",
    "\n",
    "    for i, (valor_def, valor_indef) in enumerate(zip(dados['Deferidos'], dados['Indeferidos'])):\n",
    "        ajuste_def = 25\n",
    "        ajuste_indef = 25\n",
    "        if i == 11:\n",
    "            ajuste_indef = 18\n",
    "        plt.text(i - 0.17, valor_def - ajuste_def, f'{valor_def}', ha='center', va='center', fontsize=8, color='white')\n",
    "        plt.text(i - 0.17, valor_def + valor_indef - ajuste_indef, f'{valor_indef}', ha='center', va='center', fontsize=8, color='black')\n",
    "\n",
    "\n",
    "    # Personalizar o gráfico\n",
    "    plt.grid(color='#b7b7b7', axis='y', zorder=0)\n",
    "    #plt.xticks([r + bar_width for r in range(len(categories))], categories)\n",
    "    plt.xticks(r, categories)\n",
    "    plt.ylabel('Despachos')\n",
    "\n",
    "    # Remover bordas\n",
    "    ax.spines['top'].set_color('none')\n",
    "    ax.spines['right'].set_color('none')\n",
    "    ax.spines['left'].set_color('none')\n",
    "\n",
    "    # Ajustar margem superior maior\n",
    "    desired_top_limit = 1000  # Defina o limite superior desejado\n",
    "    ax.yaxis.set_ticks(range(0, desired_top_limit + 1, 200))  # Configurar marcadores no eixo Y\n",
    "    ax.set_ylim(top=ax.get_ylim()[1] * 1.1) \n",
    "\n",
    "    # Legenda customizada\n",
    "    plt.legend(handles=[bar_def, bar_indef], loc='upper center', ncol=3) # total_line[0]   \n",
    "\n",
    "    plt.savefig(f'pdf_img/{coord}_slce_comparativo.png', dpi=300)\n",
    "    \n",
    "\n",
    "slce_comparativo = caepp_param['block_placement'].get('bloco_slce_comparativo').get('data')\n",
    "if slce_comparativo:\n",
    "    df_slce_comparativo = pd.DataFrame(slce_comparativo, index=lista_meses)\n",
    "    graph_slce_comparativo('caepp', df_slce_comparativo)"
   ]
  },
  {
   "cell_type": "markdown",
   "id": "a5c8c97f-f1f7-4c17-a6ad-242a049d92db",
   "metadata": {
    "tags": []
   },
   "source": [
    "##### Grafico slce comuniqueses"
   ]
  },
  {
   "cell_type": "code",
   "execution_count": null,
   "id": "7763425c-2b52-47df-a8de-8d30c86b799d",
   "metadata": {},
   "outputs": [],
   "source": [
    "def graph_slce_comun(coord, dados_com):\n",
    "    dados = dados_com.values()\n",
    "    meses = dados_com.keys()\n",
    "    \n",
    "    categories = meses\n",
    "    bar_width = 0.4\n",
    "\n",
    "    fig, ax = plt.subplots(figsize=(15,5))\n",
    "    # Criar um gráfico de linha\n",
    "    plt.plot(meses, list(dados), marker='o', linestyle='-', color='#b45f06', label='Aprova Digital')\n",
    "\n",
    "    # Adicionar rótulos\n",
    "    plt.ylabel('Valores')\n",
    "\n",
    "    # Personalizar o gráfico\n",
    "    plt.grid(color='#b7b7b7', axis='y', zorder=0)\n",
    "    plt.xticks([r + ((bar_width / 2) - 0.2) for r in range(len(categories))], categories)\n",
    "    plt.ylabel('Comunicados')\n",
    "\n",
    "    # Ajustar margem superior maior\n",
    "    desired_top_limit = 1000  # Defina o limite superior desejado\n",
    "    ax.yaxis.set_ticks(range(0, desired_top_limit + 1, 200))  # Configurar marcadores no eixo Y\n",
    "    ax.set_ylim(top=ax.get_ylim()[1] * 1.1) \n",
    "\n",
    "    # Adicionar marcadores numéricos acima dos pontos\n",
    "    for mes, valor in zip(meses, dados):\n",
    "        plt.annotate(str(valor), xy=(mes, valor), xytext=(0, 5), textcoords='offset points', ha='center', va='bottom')\n",
    "\n",
    "\n",
    "    # Remover bordas\n",
    "    ax.spines['top'].set_color('none')\n",
    "    ax.spines['right'].set_color('none')\n",
    "    ax.spines['left'].set_color('none')\n",
    "\n",
    "    # Adicionar uma legenda\n",
    "    plt.legend()\n",
    "\n",
    "    plt.savefig(f'pdf_img/{coord}_slce_comun.png', dpi=300)\n",
    "    \n",
    "slce_comun = caepp_param['block_placement'].get('bloco_slce_comuniqueses').get('data')\n",
    "if slce_comun:\n",
    "    graph_slce_comun('caepp', slce_comun)"
   ]
  },
  {
   "cell_type": "markdown",
   "id": "df442e42-a986-4aee-b94a-5e75d1155766",
   "metadata": {
    "tags": []
   },
   "source": [
    "##### Grafico slce Autuados"
   ]
  },
  {
   "cell_type": "code",
   "execution_count": null,
   "id": "c5d58797-55fe-4bf3-93bf-7e2f8e461aa9",
   "metadata": {
    "tags": []
   },
   "outputs": [],
   "source": [
    "def graph_slce_aut(coord, dados_aut):\n",
    "    dados = dados_aut.values()\n",
    "    meses = dados_aut.keys()\n",
    "    \n",
    "    categories = meses\n",
    "    bar_width = 0.4\n",
    "\n",
    "\n",
    "    fig, ax = plt.subplots(figsize=(15,5))\n",
    "    # Criar um gráfico de linha\n",
    "    plt.plot(meses, list(dados), marker='o', linestyle='-', color='#b45f06', label='Autuados')\n",
    "\n",
    "    # Adicionar rótulos\n",
    "    plt.ylabel('Valores')\n",
    "\n",
    "    # Personalizar o gráfico\n",
    "    plt.grid(color='#b7b7b7', axis='y', zorder=0)\n",
    "    plt.xticks([r + ((bar_width / 2) - 0.2) for r in range(len(categories))], categories)\n",
    "    plt.ylabel('Autuados')\n",
    "\n",
    "    # Ajustar margem superior maior\n",
    "    desired_top_limit = 1000  # Defina o limite superior desejado\n",
    "    ax.yaxis.set_ticks(range(0, desired_top_limit + 1, 200))  # Configurar marcadores no eixo Y\n",
    "    ax.set_ylim(top=ax.get_ylim()[1] * 1.1) \n",
    "\n",
    "    # Adicionar marcadores numéricos acima dos pontos\n",
    "    for mes, valor in zip(meses, dados):\n",
    "        plt.annotate(str(valor), xy=(mes, valor), xytext=(0, 5), textcoords='offset points', ha='center', va='bottom')\n",
    "\n",
    "\n",
    "    # Remover bordas\n",
    "    ax.spines['top'].set_color('none')\n",
    "    ax.spines['right'].set_color('none')\n",
    "    ax.spines['left'].set_color('none')\n",
    "\n",
    "    # Adicionar uma legenda\n",
    "    plt.legend()\n",
    "\n",
    "    plt.savefig(f'pdf_img/{coord}_slce_autuados.png', dpi=300)\n",
    "\n",
    "slce_aut = caepp_param['block_placement'].get('bloco_slce_autuacoes').get('data')\n",
    "if slce_aut:\n",
    "    graph_slce_aut('caepp', slce_aut)"
   ]
  },
  {
   "cell_type": "markdown",
   "id": "a193dc58",
   "metadata": {},
   "source": [
    "## Relatorios\n"
   ]
  },
  {
   "cell_type": "code",
   "execution_count": null,
   "id": "2a76de18",
   "metadata": {},
   "outputs": [
    {
     "data": {
      "text/plain": [
       "[]"
      ]
     },
     "execution_count": 267,
     "metadata": {},
     "output_type": "execute_result"
    }
   ],
   "source": [
    "os.system(f'python {os.getcwd()}/pdf_writer.py')\n",
    "os.listdir('pdf_relatorios')"
   ]
  }
 ],
 "metadata": {
  "kernelspec": {
   "display_name": "Python 3 (ipykernel)",
   "language": "python",
   "name": "python3"
  },
  "language_info": {
   "codemirror_mode": {
    "name": "ipython",
    "version": 3
   },
   "file_extension": ".py",
   "mimetype": "text/x-python",
   "name": "python",
   "nbconvert_exporter": "python",
   "pygments_lexer": "ipython3",
   "version": "3.10.13"
  }
 },
 "nbformat": 4,
 "nbformat_minor": 5
}
