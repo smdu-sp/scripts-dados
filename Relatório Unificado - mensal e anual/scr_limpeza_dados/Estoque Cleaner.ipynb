{
 "cells": [
  {
   "cell_type": "code",
   "execution_count": 14,
   "id": "9179c194-c3c8-4d39-9934-229f60c21714",
   "metadata": {
    "tags": []
   },
   "outputs": [],
   "source": [
    "import pandas as pd\n",
    "import os\n",
    "import glob\n",
    "from datetime import datetime"
   ]
  },
  {
   "cell_type": "code",
   "execution_count": 15,
   "id": "c15ca860-8c92-4dac-85c9-aa7a5c078f07",
   "metadata": {
    "tags": []
   },
   "outputs": [
    {
     "name": "stdout",
     "output_type": "stream",
     "text": [
      "Collecting xlrd\n",
      "  Downloading xlrd-2.0.1-py2.py3-none-any.whl (96 kB)\n",
      "     ---------------------------------------- 0.0/96.5 kB ? eta -:--:--\n",
      "     ---------------------------------------- 96.5/96.5 kB 2.8 MB/s eta 0:00:00\n",
      "Installing collected packages: xlrd\n",
      "Successfully installed xlrd-2.0.1\n"
     ]
    }
   ],
   "source": [
    "!pip install xlrd"
   ]
  },
  {
   "cell_type": "code",
   "execution_count": 5,
   "id": "a12875f5-371e-4ac4-b688-e3230d0731e3",
   "metadata": {
    "tags": []
   },
   "outputs": [],
   "source": [
    "# Absolute path para o diretório atual\n",
    "dir_atual = os.getcwd()\n",
    "# Absolute path para o diretório irmão onde os arquivos serão criados\n",
    "dir_raw_data = os.path.abspath(os.path.join(dir_atual,'..', 'raw_data'))\n",
    "dir_cleaned_data = os.path.abspath(os.path.join(dir_atual, '..','cleaned_data'))"
   ]
  },
  {
   "cell_type": "code",
   "execution_count": 6,
   "id": "bed7e4ee-5c20-4a32-a77b-bdfecc18489a",
   "metadata": {
    "tags": []
   },
   "outputs": [
    {
     "name": "stdout",
     "output_type": "stream",
     "text": [
      "C:\\Users\\julio\\Documents\\GitHub\\relatorio_unificado\\limpeza_dados\n",
      "C:\\Users\\julio\\Documents\\GitHub\\relatorio_unificado\\raw_data\n",
      "C:\\Users\\julio\\Documents\\GitHub\\relatorio_unificado\\cleaned_data\n"
     ]
    }
   ],
   "source": [
    "print (dir_atual)\n",
    "print (dir_raw_data)\n",
    "print (dir_cleaned_data)"
   ]
  },
  {
   "cell_type": "code",
   "execution_count": 19,
   "id": "33386f44-ac66-4b2d-9f2a-12a9dba3cbda",
   "metadata": {
    "tags": []
   },
   "outputs": [
    {
     "data": {
      "text/html": [
       "<div>\n",
       "<style scoped>\n",
       "    .dataframe tbody tr th:only-of-type {\n",
       "        vertical-align: middle;\n",
       "    }\n",
       "\n",
       "    .dataframe tbody tr th {\n",
       "        vertical-align: top;\n",
       "    }\n",
       "\n",
       "    .dataframe thead th {\n",
       "        text-align: right;\n",
       "    }\n",
       "</style>\n",
       "<table border=\"1\" class=\"dataframe\">\n",
       "  <thead>\n",
       "    <tr style=\"text-align: right;\">\n",
       "      <th></th>\n",
       "      <th>Nº Processo</th>\n",
       "      <th>Tipo de Procedimento</th>\n",
       "      <th>Cód. Assunto</th>\n",
       "      <th>Assunto SISACOE</th>\n",
       "      <th>Status</th>\n",
       "      <th>Dt. Public.</th>\n",
       "      <th>Public. D.O.C.</th>\n",
       "      <th>Sigla Unidade</th>\n",
       "    </tr>\n",
       "  </thead>\n",
       "  <tbody>\n",
       "    <tr>\n",
       "      <th>0</th>\n",
       "      <td>6068.2020/0000520-3</td>\n",
       "      <td>Comunicações Administrativas: Memorando</td>\n",
       "      <td>NaN</td>\n",
       "      <td>NaN</td>\n",
       "      <td>NaN</td>\n",
       "      <td>NaN</td>\n",
       "      <td>NaN</td>\n",
       "      <td>SMUL/CAF/DGP_PRONTUÁRIO</td>\n",
       "    </tr>\n",
       "    <tr>\n",
       "      <th>1</th>\n",
       "      <td>6068.2023/0001019-9</td>\n",
       "      <td>Orçamento: Reserva com Transferência</td>\n",
       "      <td>NaN</td>\n",
       "      <td>NaN</td>\n",
       "      <td>NaN</td>\n",
       "      <td>NaN</td>\n",
       "      <td>NaN</td>\n",
       "      <td>SMUL/CAF/DRV</td>\n",
       "    </tr>\n",
       "    <tr>\n",
       "      <th>2</th>\n",
       "      <td>7810.2023/0000885-8</td>\n",
       "      <td>Pagamentos: contratações</td>\n",
       "      <td>NaN</td>\n",
       "      <td>NaN</td>\n",
       "      <td>NaN</td>\n",
       "      <td>NaN</td>\n",
       "      <td>NaN</td>\n",
       "      <td>SMUL/CAF/DRV</td>\n",
       "    </tr>\n",
       "    <tr>\n",
       "      <th>3</th>\n",
       "      <td>6068.2023/0004071-3</td>\n",
       "      <td>Comunicações Administrativas: Memorando</td>\n",
       "      <td>NaN</td>\n",
       "      <td>NaN</td>\n",
       "      <td>NaN</td>\n",
       "      <td>NaN</td>\n",
       "      <td>NaN</td>\n",
       "      <td>SMUL/CAF/DRV</td>\n",
       "    </tr>\n",
       "    <tr>\n",
       "      <th>4</th>\n",
       "      <td>7810.2022/0000214-9</td>\n",
       "      <td>Comunicações Administrativas: Memorando</td>\n",
       "      <td>NaN</td>\n",
       "      <td>NaN</td>\n",
       "      <td>NaN</td>\n",
       "      <td>NaN</td>\n",
       "      <td>NaN</td>\n",
       "      <td>SMUL/CAF/DRV</td>\n",
       "    </tr>\n",
       "    <tr>\n",
       "      <th>5</th>\n",
       "      <td>6068.2023/0004585-5</td>\n",
       "      <td>Operação Urbana Consorciada Água Espraiada - O...</td>\n",
       "      <td>NaN</td>\n",
       "      <td>NaN</td>\n",
       "      <td>NaN</td>\n",
       "      <td>NaN</td>\n",
       "      <td>NaN</td>\n",
       "      <td>SMUL/CAF/DRV</td>\n",
       "    </tr>\n",
       "    <tr>\n",
       "      <th>6</th>\n",
       "      <td>6068.2021/0008228-5</td>\n",
       "      <td>Dispensa (Espelho Pubnet)</td>\n",
       "      <td>NaN</td>\n",
       "      <td>NaN</td>\n",
       "      <td>NaN</td>\n",
       "      <td>NaN</td>\n",
       "      <td>NaN</td>\n",
       "      <td>SMUL/CAF/DRV</td>\n",
       "    </tr>\n",
       "    <tr>\n",
       "      <th>7</th>\n",
       "      <td>6066.2019/0007169-6</td>\n",
       "      <td>Licitação: Dispensa</td>\n",
       "      <td>NaN</td>\n",
       "      <td>NaN</td>\n",
       "      <td>NaN</td>\n",
       "      <td>NaN</td>\n",
       "      <td>NaN</td>\n",
       "      <td>SMUL/CAF/DRV</td>\n",
       "    </tr>\n",
       "    <tr>\n",
       "      <th>8</th>\n",
       "      <td>6068.2022/0011220-8</td>\n",
       "      <td>Orçamento: Descongelamento/Congelamento de Dot...</td>\n",
       "      <td>NaN</td>\n",
       "      <td>NaN</td>\n",
       "      <td>NaN</td>\n",
       "      <td>NaN</td>\n",
       "      <td>NaN</td>\n",
       "      <td>SMUL/CAF/DRV</td>\n",
       "    </tr>\n",
       "    <tr>\n",
       "      <th>9</th>\n",
       "      <td>7810.2021/0000058-6</td>\n",
       "      <td>Pagamentos: contratações</td>\n",
       "      <td>NaN</td>\n",
       "      <td>NaN</td>\n",
       "      <td>NaN</td>\n",
       "      <td>NaN</td>\n",
       "      <td>NaN</td>\n",
       "      <td>SMUL/CAF/DRV</td>\n",
       "    </tr>\n",
       "  </tbody>\n",
       "</table>\n",
       "</div>"
      ],
      "text/plain": [
       "           Nº Processo                               Tipo de Procedimento  \\\n",
       "0  6068.2020/0000520-3            Comunicações Administrativas: Memorando   \n",
       "1  6068.2023/0001019-9               Orçamento: Reserva com Transferência   \n",
       "2  7810.2023/0000885-8                           Pagamentos: contratações   \n",
       "3  6068.2023/0004071-3            Comunicações Administrativas: Memorando   \n",
       "4  7810.2022/0000214-9            Comunicações Administrativas: Memorando   \n",
       "5  6068.2023/0004585-5  Operação Urbana Consorciada Água Espraiada - O...   \n",
       "6  6068.2021/0008228-5                          Dispensa (Espelho Pubnet)   \n",
       "7  6066.2019/0007169-6                                Licitação: Dispensa   \n",
       "8  6068.2022/0011220-8  Orçamento: Descongelamento/Congelamento de Dot...   \n",
       "9  7810.2021/0000058-6                           Pagamentos: contratações   \n",
       "\n",
       "  Cód. Assunto Assunto SISACOE Status Dt. Public. Public. D.O.C.  \\\n",
       "0          NaN             NaN    NaN         NaN            NaN   \n",
       "1          NaN             NaN    NaN         NaN            NaN   \n",
       "2          NaN             NaN    NaN         NaN            NaN   \n",
       "3          NaN             NaN    NaN         NaN            NaN   \n",
       "4          NaN             NaN    NaN         NaN            NaN   \n",
       "5          NaN             NaN    NaN         NaN            NaN   \n",
       "6          NaN             NaN    NaN         NaN            NaN   \n",
       "7          NaN             NaN    NaN         NaN            NaN   \n",
       "8          NaN             NaN    NaN         NaN            NaN   \n",
       "9          NaN             NaN    NaN         NaN            NaN   \n",
       "\n",
       "             Sigla Unidade  \n",
       "0  SMUL/CAF/DGP_PRONTUÁRIO  \n",
       "1             SMUL/CAF/DRV  \n",
       "2             SMUL/CAF/DRV  \n",
       "3             SMUL/CAF/DRV  \n",
       "4             SMUL/CAF/DRV  \n",
       "5             SMUL/CAF/DRV  \n",
       "6             SMUL/CAF/DRV  \n",
       "7             SMUL/CAF/DRV  \n",
       "8             SMUL/CAF/DRV  \n",
       "9             SMUL/CAF/DRV  "
      ]
     },
     "execution_count": 19,
     "metadata": {},
     "output_type": "execute_result"
    }
   ],
   "source": [
    "df = pd.read_excel(f'{dir_raw_data}/EstoquedeProcessos_SEI.xls')\n",
    "dados.head(10)"
   ]
  },
  {
   "cell_type": "code",
   "execution_count": 20,
   "id": "e61bcbe2-d834-4242-a6bc-c6fd1b8888f6",
   "metadata": {
    "tags": []
   },
   "outputs": [
    {
     "name": "stdout",
     "output_type": "stream",
     "text": [
      "SMUL/ATECC/APROVA_RAPIDO       2720\n",
      "SMUL/CEPEUC/DVF                 808\n",
      "SMUL/CAEPP                      690\n",
      "SMUL/PARHIS/DHGP                681\n",
      "SMUL/GAB/CI                     619\n",
      "                               ... \n",
      "SMUL/CAF/DLC/UNESCO               1\n",
      "SMUL/CAP/DPCI/RESID/DRH           1\n",
      "SMUL/CONTRU/DSUS/CERT_ACESS       1\n",
      "SMUL/CONTRU/DSUS/EMISS_DOC        1\n",
      "SMUL/CAF/DGP_PRONTUÁRIO           1\n",
      "Name: Sigla Unidade, Length: 120, dtype: int64\n"
     ]
    }
   ],
   "source": [
    "contagem_valores = df['Sigla Unidade'].value_counts()\n",
    "print(contagem_valores)"
   ]
  },
  {
   "cell_type": "code",
   "execution_count": 23,
   "id": "8bac82d9-dc2d-460c-89c8-343fab584e1a",
   "metadata": {
    "tags": []
   },
   "outputs": [],
   "source": [
    "df['coord'] = df['Sigla Unidade'].apply(lambda x: str(x).split('/')[1] if '/' in str(x) else None)"
   ]
  },
  {
   "cell_type": "code",
   "execution_count": 24,
   "id": "45446baa-0a5b-423a-a9b8-bcf0b5e35740",
   "metadata": {
    "tags": []
   },
   "outputs": [
    {
     "data": {
      "text/plain": [
       "ATECC           3140\n",
       "CONTRU          1827\n",
       "CEPEUC          1475\n",
       "CAF             1074\n",
       "PARHIS          1032\n",
       "GAB             1000\n",
       "CAEPP            700\n",
       "DEUSO            505\n",
       "GTEC             403\n",
       "CAP              395\n",
       "CASE             281\n",
       "RESID            277\n",
       "SERVIN           201\n",
       "ATAJ             170\n",
       "LICEN            155\n",
       "COMIN            144\n",
       "ATIC              93\n",
       "CEEP_QEAG         68\n",
       "ADJ               66\n",
       "CEEP              54\n",
       "CAPPS             49\n",
       "GEOINFO           46\n",
       "PLANURB           43\n",
       "URB               26\n",
       "CPPU              24\n",
       "CMPU              20\n",
       "CTLU              13\n",
       "ASCOM              9\n",
       "APPGG              9\n",
       "CIMPDE             8\n",
       "FUNDURB            7\n",
       "CAEC               6\n",
       "CAP-CUSTODIA       5\n",
       "SEC                4\n",
       "CIPA               1\n",
       "Name: coord, dtype: int64"
      ]
     },
     "execution_count": 24,
     "metadata": {},
     "output_type": "execute_result"
    }
   ],
   "source": [
    "df['coord'].value_counts()"
   ]
  },
  {
   "cell_type": "code",
   "execution_count": 18,
   "id": "54b03f7a-8d85-45a0-be35-5574ab9511a2",
   "metadata": {
    "tags": []
   },
   "outputs": [],
   "source": [
    "dataframes_separados = {}"
   ]
  },
  {
   "cell_type": "code",
   "execution_count": 21,
   "id": "85bbd821-af70-49a9-9a53-dc81e193ae36",
   "metadata": {
    "tags": []
   },
   "outputs": [],
   "source": [
    "for valor, contagem in df['coord'].items():\n",
    "    dataframe_separado = df[df['Sigla Unidade'] == valor]  # Filtra o DataFrame original\n",
    "    dataframes_separados[valor] = dataframe_separado"
   ]
  },
  {
   "cell_type": "code",
   "execution_count": 22,
   "id": "3f0d9e48-c32c-4eab-b24d-0b8ba957a0f4",
   "metadata": {
    "tags": []
   },
   "outputs": [
    {
     "name": "stdout",
     "output_type": "stream",
     "text": [
      "               Nº Processo                               Tipo de Procedimento  \\\n",
      "12584  6510.2023/0021018-1               Comunicações Administrativas: Ofício   \n",
      "12585  6068.2023/0008961-5              SISACOE: Certificado de Regularização   \n",
      "12586  6021.2023/0054462-6  Comunicação de decisão judicial e pedido de in...   \n",
      "12587  6068.2023/0009044-3              SISACOE: Certificado de Regularização   \n",
      "12588  6068.2022/0006901-9              SISACOE: Certificado de Regularização   \n",
      "...                    ...                                                ...   \n",
      "13269  6017.2023/0046347-0  (SF) Acompanhamento do Contencioso Administrat...   \n",
      "13270  6068.2022/0008348-8                     SISACOE: Alvara de Autorização   \n",
      "13271  6068.2023/0006222-9                  SISACOE: Certificado de Conclusao   \n",
      "13272  6068.2022/0011858-3     SISACOE: Certificado de Conclusao de demolição   \n",
      "13273  6068.2023/0007173-2              SISACOE: Certificado de Regularização   \n",
      "\n",
      "                     Cód. Assunto  \\\n",
      "12584                         NaN   \n",
      "12585                    013 0 01   \n",
      "12586                         NaN   \n",
      "12587                    013 0 01   \n",
      "12588  013 0 01 013 5 01 013 5 02   \n",
      "...                           ...   \n",
      "13269                         NaN   \n",
      "13270                    030 0 01   \n",
      "13271                    011 0 01   \n",
      "13272                    012 0 01   \n",
      "13273                    013 0 01   \n",
      "\n",
      "                                         Assunto SISACOE  \\\n",
      "12584                                                NaN   \n",
      "12585                       CERTIFICADO DE REGULARIZACAO   \n",
      "12586                                                NaN   \n",
      "12587                       CERTIFICADO DE REGULARIZACAO   \n",
      "12588  CERTIFICADO DE REGULARIZACAO RECONSIDERACAO DE...   \n",
      "...                                                  ...   \n",
      "13269                                                NaN   \n",
      "13270                              ALVARA DE AUTORIZACAO   \n",
      "13271                           CERTIFICADO DE CONCLUSAO   \n",
      "13272              CERTIFICADO DE CONCLUSAO DE DEMOLICAO   \n",
      "13273                       CERTIFICADO DE REGULARIZACAO   \n",
      "\n",
      "                                 Status                       Dt. Public.  \\\n",
      "12584                               NaN                               NaN   \n",
      "12585                               NaN                               NaN   \n",
      "12586                               NaN                               NaN   \n",
      "12587                               NaN                               NaN   \n",
      "12588  INDEFERIDO INDEFERIDO INDEFERIDO  27/01/2023 20/03/2023 27/06/2023   \n",
      "...                                 ...                               ...   \n",
      "13269                               NaN                               NaN   \n",
      "13270                               NaN                               NaN   \n",
      "13271                               NaN                               NaN   \n",
      "13272                               NaN                               NaN   \n",
      "13273                               NaN                               NaN   \n",
      "\n",
      "                         Public. D.O.C. Sigla Unidade  \n",
      "12584                               NaN    SMUL/CAEPP  \n",
      "12585                               NaN    SMUL/CAEPP  \n",
      "12586                               NaN    SMUL/CAEPP  \n",
      "12587                               NaN    SMUL/CAEPP  \n",
      "12588  31/01/2023 21/03/2023 28/06/2023    SMUL/CAEPP  \n",
      "...                                 ...           ...  \n",
      "13269                               NaN    SMUL/CAEPP  \n",
      "13270                               NaN    SMUL/CAEPP  \n",
      "13271                               NaN    SMUL/CAEPP  \n",
      "13272                               NaN    SMUL/CAEPP  \n",
      "13273                               NaN    SMUL/CAEPP  \n",
      "\n",
      "[690 rows x 8 columns]\n"
     ]
    }
   ],
   "source": [
    "print(dataframes_separados['SMUL/CAEPP'])"
   ]
  },
  {
   "cell_type": "code",
   "execution_count": null,
   "id": "abaecebe-1c19-4348-8141-0eb4f1b4c9a1",
   "metadata": {},
   "outputs": [],
   "source": []
  }
 ],
 "metadata": {
  "kernelspec": {
   "display_name": "Python 3 (ipykernel)",
   "language": "python",
   "name": "python3"
  },
  "language_info": {
   "codemirror_mode": {
    "name": "ipython",
    "version": 3
   },
   "file_extension": ".py",
   "mimetype": "text/x-python",
   "name": "python",
   "nbconvert_exporter": "python",
   "pygments_lexer": "ipython3",
   "version": "3.10.13"
  }
 },
 "nbformat": 4,
 "nbformat_minor": 5
}
