{
 "cells": [
  {
   "cell_type": "code",
   "execution_count": 62,
   "id": "eec6b602-2100-4cff-bda7-8def7be7dfb9",
   "metadata": {
    "tags": []
   },
   "outputs": [],
   "source": [
    "import pandas as pd"
   ]
  },
  {
   "cell_type": "code",
   "execution_count": 63,
   "id": "5e9998bf-0e66-425a-9e28-8e381173e537",
   "metadata": {
    "tags": []
   },
   "outputs": [
    {
     "name": "stdout",
     "output_type": "stream",
     "text": [
      "<class 'pandas.core.frame.DataFrame'>\n",
      "RangeIndex: 13607 entries, 0 to 13606\n",
      "Data columns (total 47 columns):\n",
      " #   Column                   Non-Null Count  Dtype         \n",
      "---  ------                   --------------  -----         \n",
      " 0   PROCESSO                 13607 non-null  object        \n",
      " 1   DATA_PROTOCOLAMENTO      13607 non-null  datetime64[ns]\n",
      " 2   SQL_CONTRIBUINTE         13607 non-null  object        \n",
      " 3   SQL_INCRA                13607 non-null  object        \n",
      " 4   REQUERIMENTO             13607 non-null  int64         \n",
      " 5   SITUACAO                 13607 non-null  object        \n",
      " 6   DATA_DESPACHO            13607 non-null  datetime64[ns]\n",
      " 7   UNIDADE_DESPACHO         13607 non-null  object        \n",
      " 8   ALVARÁ                   13607 non-null  object        \n",
      " 9   DATA_EMISSÃO             13607 non-null  datetime64[ns]\n",
      " 10  DESCRICAO_DO_ASSUNTO     13607 non-null  object        \n",
      " 11  NOME_PROPRIETARIO        13607 non-null  object        \n",
      " 12  OUTRO_PROPRIETARIO       1966 non-null   object        \n",
      " 13  AREA_CONSTRUIR           13607 non-null  float64       \n",
      " 14  AREA_REGULARIZAR         13607 non-null  float64       \n",
      " 15  AREA_REFORMAR            13607 non-null  float64       \n",
      " 16  AREA_DEMOLIR             13607 non-null  float64       \n",
      " 17  AREA_EXISTENTE           13607 non-null  float64       \n",
      " 18  AREA_MODIFICAR           13607 non-null  float64       \n",
      " 19  AREA_CONSTRUCAO          13607 non-null  float64       \n",
      " 20  AREA_PISCINA             13607 non-null  int64         \n",
      " 21  QUADRA_ESPORTIVA         13607 non-null  int64         \n",
      " 22  HELIPORTO_HELIPONTO      13607 non-null  int64         \n",
      " 23  SACADA_DESCOBERTA        13607 non-null  int64         \n",
      " 24  AREA_TERRENO             13607 non-null  float64       \n",
      " 25  AREA_CERTF_CONCLUSAO     3592 non-null   object        \n",
      " 26  CERTIFICADO              3804 non-null   object        \n",
      " 27  AREA_CERTIF_DEMOLICAO    13607 non-null  int64         \n",
      " 28  CERTIFICADO_CONCLUSAO    606 non-null    object        \n",
      " 29  CATEGORIA                13454 non-null  object        \n",
      " 30  DESCRICAO_CATEGORIA_USO  13454 non-null  object        \n",
      " 31  ATIVIDADE                4100 non-null   object        \n",
      " 32  RESIDENCIA               13607 non-null  int64         \n",
      " 33  QTD_PREDIO               2973 non-null   float64       \n",
      " 34  QTD_PAVIMENTO            2973 non-null   float64       \n",
      " 35  QTD_APARTAMENTO_PREDIO   1979 non-null   float64       \n",
      " 36  TOTAL_APARTAMENTO        1979 non-null   float64       \n",
      " 37  PAVIMENTO_SUBSOLO        1578 non-null   float64       \n",
      " 38  PAVIMENTO_SOBRESSOLO     0 non-null      float64       \n",
      " 39  ENDERECO                 13607 non-null  object        \n",
      " 40  BAIRRO                   13586 non-null  object        \n",
      " 41  CEP                      13607 non-null  object        \n",
      " 42  SUBPREFEITURA            13607 non-null  object        \n",
      " 43  DISTRITO                 13168 non-null  object        \n",
      " 44  ORIGEM                   13607 non-null  object        \n",
      " 45  DATA_GERAÇÃO             13607 non-null  datetime64[ns]\n",
      " 46  LOC_SCRIPT               13607 non-null  object        \n",
      "dtypes: datetime64[ns](4), float64(14), int64(7), object(22)\n",
      "memory usage: 4.9+ MB\n"
     ]
    }
   ],
   "source": [
    "df = pd.read_excel('amostra_prodam-2022.xlsx')\n",
    "df.info()"
   ]
  },
  {
   "cell_type": "markdown",
   "id": "b00eace7-8b7b-42ac-8d1e-93e00485a4c1",
   "metadata": {},
   "source": [
    "<h3>UNIDADE DESPACHO</h3>"
   ]
  },
  {
   "cell_type": "code",
   "execution_count": 64,
   "id": "823b5031-7921-44f7-85b9-6c65cd3f1d6a",
   "metadata": {
    "tags": []
   },
   "outputs": [
    {
     "data": {
      "text/plain": [
       "0        GAB            -ASSESSORIA DE GABINETE E GESTÃ...\n",
       "1        GAB            -ASSESSORIA DE GABINETE E GESTÃ...\n",
       "2        GAB            -ASSESSORIA DE GABINETE E GESTÃ...\n",
       "3        GTEC           -SMUL/UNIDADE DE GESTAO TECNICA...\n",
       "4        GTEC           -SMUL/UNIDADE DE GESTAO TECNICA...\n",
       "                               ...                        \n",
       "13602    COMIN/DCIGP    -SMUL/COMIN/DIVISAO DE USO COME...\n",
       "13603    COMIN/DCIGP    -SMUL/COMIN/DIVISAO DE USO COME...\n",
       "13604    PARHIS/DHGP    -SMUL/PARHIS/DIV. DE HABIT DE I...\n",
       "13605    PARHIS/DHGP    -SMUL/PARHIS/DIV. DE HABIT DE I...\n",
       "13606    PARHIS/DHGP    -SMUL/PARHIS/DIV. DE HABIT DE I...\n",
       "Name: UNIDADE_DESPACHO, Length: 13607, dtype: object"
      ]
     },
     "execution_count": 64,
     "metadata": {},
     "output_type": "execute_result"
    }
   ],
   "source": [
    "# unidade_despacho\n",
    "un = df['UNIDADE_DESPACHO']\n",
    "un_s1 = un.apply(lambda x: x[x.find('/') + 1:])\n",
    "un_s1"
   ]
  },
  {
   "cell_type": "code",
   "execution_count": 65,
   "id": "a491963f-a7be-4e5a-a26c-0863ca99bae6",
   "metadata": {
    "tags": []
   },
   "outputs": [
    {
     "data": {
      "text/plain": [
       "0                GAB\n",
       "1                GAB\n",
       "2                GAB\n",
       "3               GTEC\n",
       "4               GTEC\n",
       "            ...     \n",
       "13602    COMIN/DCIGP\n",
       "13603    COMIN/DCIGP\n",
       "13604    PARHIS/DHGP\n",
       "13605    PARHIS/DHGP\n",
       "13606    PARHIS/DHGP\n",
       "Name: UNIDADE_DESPACHO, Length: 13607, dtype: object"
      ]
     },
     "execution_count": 65,
     "metadata": {},
     "output_type": "execute_result"
    }
   ],
   "source": [
    "un_s2 = un_s1.apply(lambda x: x[:x.find('-')].strip())\n",
    "un_s2"
   ]
  },
  {
   "cell_type": "code",
   "execution_count": 66,
   "id": "d25b674d-238e-430f-bb5c-12a77a497e21",
   "metadata": {
    "tags": []
   },
   "outputs": [
    {
     "data": {
      "text/plain": [
       "0           GAB\n",
       "1           GAB\n",
       "2           GAB\n",
       "3          GTEC\n",
       "4          GTEC\n",
       "          ...  \n",
       "13602     COMIN\n",
       "13603     COMIN\n",
       "13604    PARHIS\n",
       "13605    PARHIS\n",
       "13606    PARHIS\n",
       "Name: UNIDADE_DESPACHO, Length: 13607, dtype: object"
      ]
     },
     "execution_count": 66,
     "metadata": {},
     "output_type": "execute_result"
    }
   ],
   "source": [
    "un_s3 = un_s2.apply(lambda x: x[:x.find('/')] if '/' in x else x)\n",
    "un_s3"
   ]
  },
  {
   "cell_type": "code",
   "execution_count": 67,
   "id": "533c350a-23ad-422c-bd3b-cf0a313768f4",
   "metadata": {
    "tags": []
   },
   "outputs": [],
   "source": [
    "df['UNIDADE_DESPACHO'] = un_s3"
   ]
  },
  {
   "cell_type": "code",
   "execution_count": 68,
   "id": "f6996bc4-d5f4-4a5d-8c6d-4ce8d554a5e9",
   "metadata": {
    "tags": []
   },
   "outputs": [
    {
     "data": {
      "text/html": [
       "<div>\n",
       "<style scoped>\n",
       "    .dataframe tbody tr th:only-of-type {\n",
       "        vertical-align: middle;\n",
       "    }\n",
       "\n",
       "    .dataframe tbody tr th {\n",
       "        vertical-align: top;\n",
       "    }\n",
       "\n",
       "    .dataframe thead th {\n",
       "        text-align: right;\n",
       "    }\n",
       "</style>\n",
       "<table border=\"1\" class=\"dataframe\">\n",
       "  <thead>\n",
       "    <tr style=\"text-align: right;\">\n",
       "      <th></th>\n",
       "      <th>PROCESSO</th>\n",
       "      <th>DATA_PROTOCOLAMENTO</th>\n",
       "      <th>SQL_CONTRIBUINTE</th>\n",
       "      <th>SQL_INCRA</th>\n",
       "      <th>REQUERIMENTO</th>\n",
       "      <th>SITUACAO</th>\n",
       "      <th>DATA_DESPACHO</th>\n",
       "      <th>UNIDADE_DESPACHO</th>\n",
       "      <th>ALVARÁ</th>\n",
       "      <th>DATA_EMISSÃO</th>\n",
       "      <th>...</th>\n",
       "      <th>PAVIMENTO_SUBSOLO</th>\n",
       "      <th>PAVIMENTO_SOBRESSOLO</th>\n",
       "      <th>ENDERECO</th>\n",
       "      <th>BAIRRO</th>\n",
       "      <th>CEP</th>\n",
       "      <th>SUBPREFEITURA</th>\n",
       "      <th>DISTRITO</th>\n",
       "      <th>ORIGEM</th>\n",
       "      <th>DATA_GERAÇÃO</th>\n",
       "      <th>LOC_SCRIPT</th>\n",
       "    </tr>\n",
       "  </thead>\n",
       "  <tbody>\n",
       "    <tr>\n",
       "      <th>0</th>\n",
       "      <td>0000-1982.0.001.482-7</td>\n",
       "      <td>1982-12-08</td>\n",
       "      <td>000.009.096.0002-3</td>\n",
       "      <td>SQL</td>\n",
       "      <td>7</td>\n",
       "      <td>Deferido</td>\n",
       "      <td>2023-08-22</td>\n",
       "      <td>GAB</td>\n",
       "      <td>2023 06175 00</td>\n",
       "      <td>2023-09-21</td>\n",
       "      <td>...</td>\n",
       "      <td>NaN</td>\n",
       "      <td>NaN</td>\n",
       "      <td>AV   PAULISTA 001578</td>\n",
       "      <td>BELA VISTA</td>\n",
       "      <td>01310-200</td>\n",
       "      <td>116-SE - SE</td>\n",
       "      <td>07-SE-BVI-BELA VISTA</td>\n",
       "      <td>SISACOE</td>\n",
       "      <td>2023-09-27 13:29:27</td>\n",
       "      <td>select 5</td>\n",
       "    </tr>\n",
       "    <tr>\n",
       "      <th>1</th>\n",
       "      <td>0000-1982.0.001.482-7</td>\n",
       "      <td>1982-12-08</td>\n",
       "      <td>000.009.096.0002-3</td>\n",
       "      <td>SQL</td>\n",
       "      <td>7</td>\n",
       "      <td>Deferido</td>\n",
       "      <td>2023-08-22</td>\n",
       "      <td>GAB</td>\n",
       "      <td>2023 06175 00</td>\n",
       "      <td>2023-09-21</td>\n",
       "      <td>...</td>\n",
       "      <td>NaN</td>\n",
       "      <td>NaN</td>\n",
       "      <td>AV   PAULISTA 001578</td>\n",
       "      <td>BELA VISTA</td>\n",
       "      <td>01310-200</td>\n",
       "      <td>116-SE - SE</td>\n",
       "      <td>07-SE-BVI-BELA VISTA</td>\n",
       "      <td>SISACOE</td>\n",
       "      <td>2023-09-27 13:29:27</td>\n",
       "      <td>select 5</td>\n",
       "    </tr>\n",
       "    <tr>\n",
       "      <th>2</th>\n",
       "      <td>0000-1994.0.098.819-2</td>\n",
       "      <td>1994-10-24</td>\n",
       "      <td>000.172.344.0122-8</td>\n",
       "      <td>SQL</td>\n",
       "      <td>1</td>\n",
       "      <td>Deferido</td>\n",
       "      <td>2023-05-04</td>\n",
       "      <td>GAB</td>\n",
       "      <td>2023 02793 00</td>\n",
       "      <td>2023-05-08</td>\n",
       "      <td>...</td>\n",
       "      <td>NaN</td>\n",
       "      <td>NaN</td>\n",
       "      <td>R   VALE DA PERDIZ 00126</td>\n",
       "      <td>VL ELIDA</td>\n",
       "      <td>04417-170</td>\n",
       "      <td>299-AD - CIDADE ADEMAR</td>\n",
       "      <td>22-AD-CAD-CIDADE ADEMAR</td>\n",
       "      <td>SISACOE</td>\n",
       "      <td>2023-09-27 13:29:27</td>\n",
       "      <td>select 5</td>\n",
       "    </tr>\n",
       "    <tr>\n",
       "      <th>3</th>\n",
       "      <td>0000-1994.0.113.247-0</td>\n",
       "      <td>1994-10-31</td>\n",
       "      <td>000.172.212.0050-4</td>\n",
       "      <td>SQL</td>\n",
       "      <td>1</td>\n",
       "      <td>Deferido</td>\n",
       "      <td>2023-05-24</td>\n",
       "      <td>GTEC</td>\n",
       "      <td>2023 03229 00</td>\n",
       "      <td>2023-05-25</td>\n",
       "      <td>...</td>\n",
       "      <td>NaN</td>\n",
       "      <td>NaN</td>\n",
       "      <td>AV   CUPECE 05651</td>\n",
       "      <td>CIDADE ADEMAR</td>\n",
       "      <td>04365-001</td>\n",
       "      <td>299-AD - CIDADE ADEMAR</td>\n",
       "      <td>22-AD-CAD-CIDADE ADEMAR</td>\n",
       "      <td>SISACOE</td>\n",
       "      <td>2023-09-27 13:29:27</td>\n",
       "      <td>select 5</td>\n",
       "    </tr>\n",
       "    <tr>\n",
       "      <th>4</th>\n",
       "      <td>0000-1994.0.113.247-0</td>\n",
       "      <td>1994-10-31</td>\n",
       "      <td>000.172.212.0050-4</td>\n",
       "      <td>SQL</td>\n",
       "      <td>1</td>\n",
       "      <td>Deferido</td>\n",
       "      <td>2023-05-24</td>\n",
       "      <td>GTEC</td>\n",
       "      <td>2023 03229 00</td>\n",
       "      <td>2023-05-25</td>\n",
       "      <td>...</td>\n",
       "      <td>NaN</td>\n",
       "      <td>NaN</td>\n",
       "      <td>AV   CUPECE 05651</td>\n",
       "      <td>CIDADE ADEMAR</td>\n",
       "      <td>04365-001</td>\n",
       "      <td>299-AD - CIDADE ADEMAR</td>\n",
       "      <td>22-AD-CAD-CIDADE ADEMAR</td>\n",
       "      <td>SISACOE</td>\n",
       "      <td>2023-09-27 13:29:27</td>\n",
       "      <td>select 5</td>\n",
       "    </tr>\n",
       "  </tbody>\n",
       "</table>\n",
       "<p>5 rows × 47 columns</p>\n",
       "</div>"
      ],
      "text/plain": [
       "                PROCESSO DATA_PROTOCOLAMENTO    SQL_CONTRIBUINTE SQL_INCRA  \\\n",
       "0  0000-1982.0.001.482-7          1982-12-08  000.009.096.0002-3       SQL   \n",
       "1  0000-1982.0.001.482-7          1982-12-08  000.009.096.0002-3       SQL   \n",
       "2  0000-1994.0.098.819-2          1994-10-24  000.172.344.0122-8       SQL   \n",
       "3  0000-1994.0.113.247-0          1994-10-31  000.172.212.0050-4       SQL   \n",
       "4  0000-1994.0.113.247-0          1994-10-31  000.172.212.0050-4       SQL   \n",
       "\n",
       "   REQUERIMENTO  SITUACAO DATA_DESPACHO UNIDADE_DESPACHO         ALVARÁ  \\\n",
       "0             7  Deferido    2023-08-22              GAB  2023 06175 00   \n",
       "1             7  Deferido    2023-08-22              GAB  2023 06175 00   \n",
       "2             1  Deferido    2023-05-04              GAB  2023 02793 00   \n",
       "3             1  Deferido    2023-05-24             GTEC  2023 03229 00   \n",
       "4             1  Deferido    2023-05-24             GTEC  2023 03229 00   \n",
       "\n",
       "  DATA_EMISSÃO  ... PAVIMENTO_SUBSOLO PAVIMENTO_SOBRESSOLO  \\\n",
       "0   2023-09-21  ...               NaN                  NaN   \n",
       "1   2023-09-21  ...               NaN                  NaN   \n",
       "2   2023-05-08  ...               NaN                  NaN   \n",
       "3   2023-05-25  ...               NaN                  NaN   \n",
       "4   2023-05-25  ...               NaN                  NaN   \n",
       "\n",
       "                   ENDERECO         BAIRRO        CEP           SUBPREFEITURA  \\\n",
       "0      AV   PAULISTA 001578     BELA VISTA  01310-200             116-SE - SE   \n",
       "1      AV   PAULISTA 001578     BELA VISTA  01310-200             116-SE - SE   \n",
       "2  R   VALE DA PERDIZ 00126       VL ELIDA  04417-170  299-AD - CIDADE ADEMAR   \n",
       "3         AV   CUPECE 05651  CIDADE ADEMAR  04365-001  299-AD - CIDADE ADEMAR   \n",
       "4         AV   CUPECE 05651  CIDADE ADEMAR  04365-001  299-AD - CIDADE ADEMAR   \n",
       "\n",
       "                  DISTRITO   ORIGEM        DATA_GERAÇÃO  LOC_SCRIPT  \n",
       "0     07-SE-BVI-BELA VISTA  SISACOE 2023-09-27 13:29:27    select 5  \n",
       "1     07-SE-BVI-BELA VISTA  SISACOE 2023-09-27 13:29:27    select 5  \n",
       "2  22-AD-CAD-CIDADE ADEMAR  SISACOE 2023-09-27 13:29:27    select 5  \n",
       "3  22-AD-CAD-CIDADE ADEMAR  SISACOE 2023-09-27 13:29:27    select 5  \n",
       "4  22-AD-CAD-CIDADE ADEMAR  SISACOE 2023-09-27 13:29:27    select 5  \n",
       "\n",
       "[5 rows x 47 columns]"
      ]
     },
     "execution_count": 68,
     "metadata": {},
     "output_type": "execute_result"
    }
   ],
   "source": [
    "df.head()"
   ]
  },
  {
   "cell_type": "markdown",
   "id": "bd6f3dcc-e5a2-452e-96f6-cb4fc7bbac77",
   "metadata": {},
   "source": [
    "<h3>DESCRICAO_DO_ASSUNTO</h3>"
   ]
  },
  {
   "cell_type": "code",
   "execution_count": 69,
   "id": "b2dc994b-a51f-43d0-9f08-ab8b9507b4b1",
   "metadata": {
    "tags": []
   },
   "outputs": [
    {
     "data": {
      "text/plain": [
       "0         22-5-RECONSIDERACAO DE DESPACHO DE ALVARA DE ...\n",
       "1         22-5-RECONSIDERACAO DE DESPACHO DE ALVARA DE ...\n",
       "2         13-5-RECONSIDERACAO DE DESPACHO DE CERTIFICAD...\n",
       "3         13-5-RECONSIDERACAO DE DESPACHO DE CERTIFICAD...\n",
       "4         13-5-RECONSIDERACAO DE DESPACHO DE CERTIFICAD...\n",
       "                               ...                        \n",
       "13602       11-1-APOSTILAMENTO DO CERTIFICADO DE CONCLUSAO\n",
       "13603       11-1-APOSTILAMENTO DO CERTIFICADO DE CONCLUSAO\n",
       "13604     04-3-REVALIDACAO DE ALVARA DE APROVACAO DE ED...\n",
       "13605       36-3-REVALIDACAO DE ALVARA DE DESDOBRO DE LOTE\n",
       "13606     07-3-REVALIDACAO DE ALVARA DE EXECUCAO DE EDI...\n",
       "Name: DESCRICAO_DO_ASSUNTO, Length: 13607, dtype: object"
      ]
     },
     "execution_count": 69,
     "metadata": {},
     "output_type": "execute_result"
    }
   ],
   "source": [
    "ass = df['DESCRICAO_DO_ASSUNTO']\n",
    "ass = ass.replace('LEI N:13.558/2003', '')\n",
    "ass"
   ]
  },
  {
   "cell_type": "code",
   "execution_count": 70,
   "id": "a109636c-4cda-495f-ae00-dfdced307f98",
   "metadata": {
    "tags": []
   },
   "outputs": [
    {
     "data": {
      "text/plain": [
       "0        5-RECONSIDERACAO DE DESPACHO DE ALVARA DE FUNC...\n",
       "1        5-RECONSIDERACAO DE DESPACHO DE ALVARA DE FUNC...\n",
       "2        5-RECONSIDERACAO DE DESPACHO DE CERTIFICADO DE...\n",
       "3        5-RECONSIDERACAO DE DESPACHO DE CERTIFICADO DE...\n",
       "4        5-RECONSIDERACAO DE DESPACHO DE CERTIFICADO DE...\n",
       "                               ...                        \n",
       "13602          1-APOSTILAMENTO DO CERTIFICADO DE CONCLUSAO\n",
       "13603          1-APOSTILAMENTO DO CERTIFICADO DE CONCLUSAO\n",
       "13604    3-REVALIDACAO DE ALVARA DE APROVACAO DE EDIFIC...\n",
       "13605          3-REVALIDACAO DE ALVARA DE DESDOBRO DE LOTE\n",
       "13606    3-REVALIDACAO DE ALVARA DE EXECUCAO DE EDIFICA...\n",
       "Name: DESCRICAO_DO_ASSUNTO, Length: 13607, dtype: object"
      ]
     },
     "execution_count": 70,
     "metadata": {},
     "output_type": "execute_result"
    }
   ],
   "source": [
    "ass = ass.apply(lambda x: x[x.find('-') + 1:])\n",
    "ass"
   ]
  },
  {
   "cell_type": "code",
   "execution_count": 71,
   "id": "d81fc71d-a0ee-42aa-8c78-674754d5dcdb",
   "metadata": {
    "tags": []
   },
   "outputs": [
    {
     "data": {
      "text/plain": [
       "0        RECONSIDERACAO DE DESPACHO DE ALVARA DE FUNCIO...\n",
       "1        RECONSIDERACAO DE DESPACHO DE ALVARA DE FUNCIO...\n",
       "2        RECONSIDERACAO DE DESPACHO DE CERTIFICADO DE R...\n",
       "3        RECONSIDERACAO DE DESPACHO DE CERTIFICADO DE R...\n",
       "4        RECONSIDERACAO DE DESPACHO DE CERTIFICADO DE R...\n",
       "                               ...                        \n",
       "13602            APOSTILAMENTO DO CERTIFICADO DE CONCLUSAO\n",
       "13603            APOSTILAMENTO DO CERTIFICADO DE CONCLUSAO\n",
       "13604    REVALIDACAO DE ALVARA DE APROVACAO DE EDIFICAC...\n",
       "13605            REVALIDACAO DE ALVARA DE DESDOBRO DE LOTE\n",
       "13606    REVALIDACAO DE ALVARA DE EXECUCAO DE EDIFICACA...\n",
       "Name: DESCRICAO_DO_ASSUNTO, Length: 13607, dtype: object"
      ]
     },
     "execution_count": 71,
     "metadata": {},
     "output_type": "execute_result"
    }
   ],
   "source": [
    "ass = ass.apply(lambda x: x[x.find('-') + 1:])\n",
    "ass"
   ]
  },
  {
   "cell_type": "code",
   "execution_count": 72,
   "id": "2395674f-6516-4dca-887c-f87efec03782",
   "metadata": {
    "tags": []
   },
   "outputs": [
    {
     "data": {
      "text/html": [
       "<div>\n",
       "<style scoped>\n",
       "    .dataframe tbody tr th:only-of-type {\n",
       "        vertical-align: middle;\n",
       "    }\n",
       "\n",
       "    .dataframe tbody tr th {\n",
       "        vertical-align: top;\n",
       "    }\n",
       "\n",
       "    .dataframe thead th {\n",
       "        text-align: right;\n",
       "    }\n",
       "</style>\n",
       "<table border=\"1\" class=\"dataframe\">\n",
       "  <thead>\n",
       "    <tr style=\"text-align: right;\">\n",
       "      <th></th>\n",
       "      <th>UNIDADE_DESPACHO</th>\n",
       "      <th>DESCRICAO_DO_ASSUNTO</th>\n",
       "    </tr>\n",
       "  </thead>\n",
       "  <tbody>\n",
       "    <tr>\n",
       "      <th>0</th>\n",
       "      <td>GAB</td>\n",
       "      <td>RECONSIDERACAO DE DESPACHO DE ALVARA DE FUNCIO...</td>\n",
       "    </tr>\n",
       "    <tr>\n",
       "      <th>1</th>\n",
       "      <td>GAB</td>\n",
       "      <td>RECONSIDERACAO DE DESPACHO DE ALVARA DE FUNCIO...</td>\n",
       "    </tr>\n",
       "    <tr>\n",
       "      <th>2</th>\n",
       "      <td>GAB</td>\n",
       "      <td>RECONSIDERACAO DE DESPACHO DE CERTIFICADO DE R...</td>\n",
       "    </tr>\n",
       "    <tr>\n",
       "      <th>3</th>\n",
       "      <td>GTEC</td>\n",
       "      <td>RECONSIDERACAO DE DESPACHO DE CERTIFICADO DE R...</td>\n",
       "    </tr>\n",
       "    <tr>\n",
       "      <th>4</th>\n",
       "      <td>GTEC</td>\n",
       "      <td>RECONSIDERACAO DE DESPACHO DE CERTIFICADO DE R...</td>\n",
       "    </tr>\n",
       "  </tbody>\n",
       "</table>\n",
       "</div>"
      ],
      "text/plain": [
       "  UNIDADE_DESPACHO                               DESCRICAO_DO_ASSUNTO\n",
       "0              GAB  RECONSIDERACAO DE DESPACHO DE ALVARA DE FUNCIO...\n",
       "1              GAB  RECONSIDERACAO DE DESPACHO DE ALVARA DE FUNCIO...\n",
       "2              GAB  RECONSIDERACAO DE DESPACHO DE CERTIFICADO DE R...\n",
       "3             GTEC  RECONSIDERACAO DE DESPACHO DE CERTIFICADO DE R...\n",
       "4             GTEC  RECONSIDERACAO DE DESPACHO DE CERTIFICADO DE R..."
      ]
     },
     "execution_count": 72,
     "metadata": {},
     "output_type": "execute_result"
    }
   ],
   "source": [
    "df['DESCRICAO_DO_ASSUNTO'] = ass\n",
    "df[['UNIDADE_DESPACHO', 'DESCRICAO_DO_ASSUNTO']].head()"
   ]
  },
  {
   "cell_type": "markdown",
   "id": "06890b60-62a1-4191-9254-68e64d512823",
   "metadata": {},
   "source": [
    "<h3>CATEGORIA</h3>"
   ]
  },
  {
   "cell_type": "code",
   "execution_count": 74,
   "id": "58a759d9-7f26-44b7-a515-2d4e4cda9a6d",
   "metadata": {
    "tags": []
   },
   "outputs": [],
   "source": [
    "df.rename(columns={'CATEGORIA': 'SUBCATEGORIA'}, inplace=True)"
   ]
  },
  {
   "cell_type": "code",
   "execution_count": 75,
   "id": "ec7fdc38-8171-4131-8162-7900c237957f",
   "metadata": {
    "tags": []
   },
   "outputs": [
    {
     "name": "stdout",
     "output_type": "stream",
     "text": [
      "<class 'pandas.core.frame.DataFrame'>\n",
      "RangeIndex: 13607 entries, 0 to 13606\n",
      "Data columns (total 47 columns):\n",
      " #   Column                   Non-Null Count  Dtype         \n",
      "---  ------                   --------------  -----         \n",
      " 0   PROCESSO                 13607 non-null  object        \n",
      " 1   DATA_PROTOCOLAMENTO      13607 non-null  datetime64[ns]\n",
      " 2   SQL_CONTRIBUINTE         13607 non-null  object        \n",
      " 3   SQL_INCRA                13607 non-null  object        \n",
      " 4   REQUERIMENTO             13607 non-null  int64         \n",
      " 5   SITUACAO                 13607 non-null  object        \n",
      " 6   DATA_DESPACHO            13607 non-null  datetime64[ns]\n",
      " 7   UNIDADE_DESPACHO         13607 non-null  object        \n",
      " 8   ALVARÁ                   13607 non-null  object        \n",
      " 9   DATA_EMISSÃO             13607 non-null  datetime64[ns]\n",
      " 10  DESCRICAO_DO_ASSUNTO     13607 non-null  object        \n",
      " 11  NOME_PROPRIETARIO        13607 non-null  object        \n",
      " 12  OUTRO_PROPRIETARIO       1966 non-null   object        \n",
      " 13  AREA_CONSTRUIR           13607 non-null  float64       \n",
      " 14  AREA_REGULARIZAR         13607 non-null  float64       \n",
      " 15  AREA_REFORMAR            13607 non-null  float64       \n",
      " 16  AREA_DEMOLIR             13607 non-null  float64       \n",
      " 17  AREA_EXISTENTE           13607 non-null  float64       \n",
      " 18  AREA_MODIFICAR           13607 non-null  float64       \n",
      " 19  AREA_CONSTRUCAO          13607 non-null  float64       \n",
      " 20  AREA_PISCINA             13607 non-null  int64         \n",
      " 21  QUADRA_ESPORTIVA         13607 non-null  int64         \n",
      " 22  HELIPORTO_HELIPONTO      13607 non-null  int64         \n",
      " 23  SACADA_DESCOBERTA        13607 non-null  int64         \n",
      " 24  AREA_TERRENO             13607 non-null  float64       \n",
      " 25  AREA_CERTF_CONCLUSAO     3592 non-null   object        \n",
      " 26  CERTIFICADO              3804 non-null   object        \n",
      " 27  AREA_CERTIF_DEMOLICAO    13607 non-null  int64         \n",
      " 28  CERTIFICADO_CONCLUSAO    606 non-null    object        \n",
      " 29  SUBCATEGORIA             13454 non-null  object        \n",
      " 30  DESCRICAO_CATEGORIA_USO  13454 non-null  object        \n",
      " 31  ATIVIDADE                4100 non-null   object        \n",
      " 32  RESIDENCIA               13607 non-null  int64         \n",
      " 33  QTD_PREDIO               2973 non-null   float64       \n",
      " 34  QTD_PAVIMENTO            2973 non-null   float64       \n",
      " 35  QTD_APARTAMENTO_PREDIO   1979 non-null   float64       \n",
      " 36  TOTAL_APARTAMENTO        1979 non-null   float64       \n",
      " 37  PAVIMENTO_SUBSOLO        1578 non-null   float64       \n",
      " 38  PAVIMENTO_SOBRESSOLO     0 non-null      float64       \n",
      " 39  ENDERECO                 13607 non-null  object        \n",
      " 40  BAIRRO                   13586 non-null  object        \n",
      " 41  CEP                      13607 non-null  object        \n",
      " 42  SUBPREFEITURA            13607 non-null  object        \n",
      " 43  DISTRITO                 13168 non-null  object        \n",
      " 44  ORIGEM                   13607 non-null  object        \n",
      " 45  DATA_GERAÇÃO             13607 non-null  datetime64[ns]\n",
      " 46  LOC_SCRIPT               13607 non-null  object        \n",
      "dtypes: datetime64[ns](4), float64(14), int64(7), object(22)\n",
      "memory usage: 4.9+ MB\n"
     ]
    }
   ],
   "source": [
    "df.info()"
   ]
  },
  {
   "cell_type": "code",
   "execution_count": 76,
   "id": "8a35331b-b213-4ada-a057-83f981ca6e61",
   "metadata": {
    "tags": []
   },
   "outputs": [],
   "source": [
    "df['SUBCATEGORIA'] = df['SUBCATEGORIA'].astype(str)"
   ]
  },
  {
   "cell_type": "code",
   "execution_count": 77,
   "id": "71ba7974-eaa7-49bd-9901-832cd577159b",
   "metadata": {
    "tags": []
   },
   "outputs": [],
   "source": [
    "df['SUBCATEGORIA'] = df['SUBCATEGORIA'].replace('H.I.S', 'HIS')\n",
    "df['SUBCATEGORIA'] = df['SUBCATEGORIA'].replace('H.M.P', 'HMP')"
   ]
  },
  {
   "cell_type": "code",
   "execution_count": 78,
   "id": "96621cb5-e832-4a9b-9198-6330be443bb6",
   "metadata": {
    "tags": []
   },
   "outputs": [
    {
     "data": {
      "text/plain": [
       "0           NR3\n",
       "1           NR3\n",
       "2          R201\n",
       "3            C2\n",
       "4            R1\n",
       "          ...  \n",
       "13602    R2V-02\n",
       "13603    R2V-02\n",
       "13604       HIS\n",
       "13605       nan\n",
       "13606     HIS 1\n",
       "Name: SUBCATEGORIA, Length: 13607, dtype: object"
      ]
     },
     "execution_count": 78,
     "metadata": {},
     "output_type": "execute_result"
    }
   ],
   "source": [
    "temp = df['SUBCATEGORIA'].apply(lambda x: x[:x.find('.')] if '.' in x else x)\n",
    "temp"
   ]
  },
  {
   "cell_type": "code",
   "execution_count": 81,
   "id": "9f5b0fc0-7cd9-4a12-b074-bc2b0ad80601",
   "metadata": {
    "tags": []
   },
   "outputs": [
    {
     "data": {
      "text/plain": [
       "CATEGORIA\n",
       "NR3      2742\n",
       "NR2      2437\n",
       "NR1      2332\n",
       "R2V      1636\n",
       "HIS 2    1102\n",
       "EHIS      717\n",
       "HIS       643\n",
       "HMP       543\n",
       "EHMP      263\n",
       "R1        225\n",
       "R2H       220\n",
       "EZEIS     184\n",
       "nan       153\n",
       "HIS 1     113\n",
       "NR4        51\n",
       "R201       44\n",
       "S2         31\n",
       "C2         28\n",
       "R202       18\n",
       "N          17\n",
       "E3         15\n",
       "IND        15\n",
       "E2         13\n",
       "R          13\n",
       "R301       11\n",
       "S1          9\n",
       "NR5         8\n",
       "C1          5\n",
       "E4          4\n",
       "R303        4\n",
       "I1          3\n",
       "I2          2\n",
       "E1          2\n",
       "R203        2\n",
       "S3          1\n",
       "H           1\n",
       "Name: count, dtype: int64"
      ]
     },
     "execution_count": 81,
     "metadata": {},
     "output_type": "execute_result"
    }
   ],
   "source": [
    "df['CATEGORIA'] = temp.apply(lambda x: x[:x.find('-')].strip() if '-' in x else x)\n",
    "df['CATEGORIA'].value_counts()"
   ]
  },
  {
   "cell_type": "code",
   "execution_count": 85,
   "id": "8ca3a6ca-b58a-4ab9-b896-30da35017cf9",
   "metadata": {
    "tags": []
   },
   "outputs": [],
   "source": [
    "def tipo_uso(categoria):\n",
    "    tipo_dict = {\n",
    "        'Residencial': ['R2V', 'R1', 'R2H', 'R201', 'R202', 'R203', 'R301', 'R303', 'R'],\n",
    "        'Não Residencial': ['N', 'NR1', 'NR2', 'NR3', 'NR4', 'NR5','C2', 'C1', 'E1', 'E2', 'E3', 'E4', 'I1', 'I2', 'IND', 'S1', 'S2', 'S3']\n",
    "    }\n",
    "    for i in tipo_dict:\n",
    "        if categoria in tipo_dict[i]:\n",
    "            return i\n",
    "    else:\n",
    "        return categoria            "
   ]
  },
  {
   "cell_type": "code",
   "execution_count": 86,
   "id": "172f1abe-9066-494d-a92a-fb621d6e1f05",
   "metadata": {
    "tags": []
   },
   "outputs": [
    {
     "data": {
      "text/plain": [
       "0        Não Residencial\n",
       "1        Não Residencial\n",
       "2            Residencial\n",
       "3        Não Residencial\n",
       "4            Residencial\n",
       "              ...       \n",
       "13602        Residencial\n",
       "13603        Residencial\n",
       "13604                HIS\n",
       "13605                nan\n",
       "13606              HIS 1\n",
       "Name: TIPO_USO, Length: 13607, dtype: object"
      ]
     },
     "execution_count": 86,
     "metadata": {},
     "output_type": "execute_result"
    }
   ],
   "source": [
    "df['TIPO_USO'] = df['CATEGORIA'].apply(tipo_uso)\n",
    "df['TIPO_USO']"
   ]
  },
  {
   "cell_type": "code",
   "execution_count": 87,
   "id": "c91bf1dc-a1a5-4805-a070-5358c7cc5baf",
   "metadata": {
    "tags": []
   },
   "outputs": [
    {
     "data": {
      "text/html": [
       "<div>\n",
       "<style scoped>\n",
       "    .dataframe tbody tr th:only-of-type {\n",
       "        vertical-align: middle;\n",
       "    }\n",
       "\n",
       "    .dataframe tbody tr th {\n",
       "        vertical-align: top;\n",
       "    }\n",
       "\n",
       "    .dataframe thead th {\n",
       "        text-align: right;\n",
       "    }\n",
       "</style>\n",
       "<table border=\"1\" class=\"dataframe\">\n",
       "  <thead>\n",
       "    <tr style=\"text-align: right;\">\n",
       "      <th></th>\n",
       "      <th>TIPO_USO</th>\n",
       "      <th>CATEGORIA</th>\n",
       "      <th>SUBCATEGORIA</th>\n",
       "    </tr>\n",
       "  </thead>\n",
       "  <tbody>\n",
       "    <tr>\n",
       "      <th>0</th>\n",
       "      <td>Não Residencial</td>\n",
       "      <td>NR3</td>\n",
       "      <td>NR3.04</td>\n",
       "    </tr>\n",
       "    <tr>\n",
       "      <th>1</th>\n",
       "      <td>Não Residencial</td>\n",
       "      <td>NR3</td>\n",
       "      <td>NR3.04</td>\n",
       "    </tr>\n",
       "    <tr>\n",
       "      <th>2</th>\n",
       "      <td>Residencial</td>\n",
       "      <td>R201</td>\n",
       "      <td>R201</td>\n",
       "    </tr>\n",
       "    <tr>\n",
       "      <th>3</th>\n",
       "      <td>Não Residencial</td>\n",
       "      <td>C2</td>\n",
       "      <td>C2.3</td>\n",
       "    </tr>\n",
       "    <tr>\n",
       "      <th>4</th>\n",
       "      <td>Residencial</td>\n",
       "      <td>R1</td>\n",
       "      <td>R1</td>\n",
       "    </tr>\n",
       "    <tr>\n",
       "      <th>...</th>\n",
       "      <td>...</td>\n",
       "      <td>...</td>\n",
       "      <td>...</td>\n",
       "    </tr>\n",
       "    <tr>\n",
       "      <th>13602</th>\n",
       "      <td>Residencial</td>\n",
       "      <td>R2V</td>\n",
       "      <td>R2V-02</td>\n",
       "    </tr>\n",
       "    <tr>\n",
       "      <th>13603</th>\n",
       "      <td>Residencial</td>\n",
       "      <td>R2V</td>\n",
       "      <td>R2V-02</td>\n",
       "    </tr>\n",
       "    <tr>\n",
       "      <th>13604</th>\n",
       "      <td>HIS</td>\n",
       "      <td>HIS</td>\n",
       "      <td>HIS</td>\n",
       "    </tr>\n",
       "    <tr>\n",
       "      <th>13605</th>\n",
       "      <td>nan</td>\n",
       "      <td>nan</td>\n",
       "      <td>nan</td>\n",
       "    </tr>\n",
       "    <tr>\n",
       "      <th>13606</th>\n",
       "      <td>HIS 1</td>\n",
       "      <td>HIS 1</td>\n",
       "      <td>HIS 1</td>\n",
       "    </tr>\n",
       "  </tbody>\n",
       "</table>\n",
       "<p>13607 rows × 3 columns</p>\n",
       "</div>"
      ],
      "text/plain": [
       "              TIPO_USO CATEGORIA SUBCATEGORIA\n",
       "0      Não Residencial       NR3       NR3.04\n",
       "1      Não Residencial       NR3       NR3.04\n",
       "2          Residencial      R201         R201\n",
       "3      Não Residencial        C2         C2.3\n",
       "4          Residencial        R1           R1\n",
       "...                ...       ...          ...\n",
       "13602      Residencial       R2V       R2V-02\n",
       "13603      Residencial       R2V       R2V-02\n",
       "13604              HIS       HIS          HIS\n",
       "13605              nan       nan          nan\n",
       "13606            HIS 1     HIS 1        HIS 1\n",
       "\n",
       "[13607 rows x 3 columns]"
      ]
     },
     "execution_count": 87,
     "metadata": {},
     "output_type": "execute_result"
    }
   ],
   "source": [
    "df[['TIPO_USO', 'CATEGORIA', 'SUBCATEGORIA']]"
   ]
  },
  {
   "cell_type": "code",
   "execution_count": null,
   "id": "b412368b-ad98-4752-b98d-903206de506c",
   "metadata": {},
   "outputs": [],
   "source": []
  }
 ],
 "metadata": {
  "kernelspec": {
   "display_name": "Python 3 (ipykernel)",
   "language": "python",
   "name": "python3"
  },
  "language_info": {
   "codemirror_mode": {
    "name": "ipython",
    "version": 3
   },
   "file_extension": ".py",
   "mimetype": "text/x-python",
   "name": "python",
   "nbconvert_exporter": "python",
   "pygments_lexer": "ipython3",
   "version": "3.10.12"
  }
 },
 "nbformat": 4,
 "nbformat_minor": 5
}
