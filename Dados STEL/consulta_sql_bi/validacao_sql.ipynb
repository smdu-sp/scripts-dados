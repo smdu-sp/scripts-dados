{
 "cells": [
  {
   "cell_type": "markdown",
   "id": "efbcdd8d-7f5e-4962-a851-6a9029d21d29",
   "metadata": {},
   "source": [
    "### Conexão Banco SQL server"
   ]
  },
  {
   "cell_type": "code",
   "execution_count": 1,
   "id": "57eb90a3-f7f7-4d8f-b8ff-ff1c1598832e",
   "metadata": {},
   "outputs": [],
   "source": [
    "import pyodbc\n",
    "import pandas as pd\n",
    "import copy\n",
    "\n",
    "server = 'd64v38i'\n",
    "username = 'user_sa_licenciamento_leitura_ext'\n",
    "password = '1qEr3@ext'\n",
    "database = 'sa_licenciamento'\n",
    "\n",
    "connection_string = 'DRIVER={SQL Server};SERVER='+server+';DATABASE='+database+';UID='+username+';PWD='+ password\n",
    "\n",
    "# Conectar ao banco de dados\n",
    "connection = pyodbc.connect(connection_string)\n",
    "\n",
    "# Consulta SQL\n",
    "def sql_query(query):\n",
    "    return pd.read_sql(query, connection)"
   ]
  },
  {
   "cell_type": "markdown",
   "id": "7cf01565-e500-4b94-8f68-0c872657101f",
   "metadata": {},
   "source": [
    "### Importando as tabelas - sql_incra, assunto, endereço"
   ]
  },
  {
   "cell_type": "code",
   "execution_count": 2,
   "id": "197cd95f-d76c-48e2-8403-592d9730bf0f",
   "metadata": {},
   "outputs": [
    {
     "name": "stderr",
     "output_type": "stream",
     "text": [
      "C:\\Users\\d850398\\AppData\\Local\\Temp\\ipykernel_24956\\1644747194.py:17: UserWarning: pandas only supports SQLAlchemy connectable (engine/connection) or database string URI or sqlite3 DBAPI2 connection. Other DBAPI2 objects are not tested. Please consider using SQLAlchemy.\n",
      "  return pd.read_sql(query, connection)\n"
     ]
    },
    {
     "name": "stdout",
     "output_type": "stream",
     "text": [
      "<class 'pandas.core.frame.DataFrame'>\n",
      "RangeIndex: 1682986 entries, 0 to 1682985\n",
      "Data columns (total 12 columns):\n",
      " #   Column                Non-Null Count    Dtype         \n",
      "---  ------                --------------    -----         \n",
      " 0   id_prata_sql_incra    1682986 non-null  int64         \n",
      " 1   id_prata_assunto      1682986 non-null  int64         \n",
      " 2   sistema               1682986 non-null  object        \n",
      " 3   processo              1676965 non-null  object        \n",
      " 4   protocolo             262745 non-null   object        \n",
      " 5   codigoAssuntoObra     1682986 non-null  object        \n",
      " 6   sql_incra             1682672 non-null  object        \n",
      " 7   tipoSql_incra         1682956 non-null  object        \n",
      " 8   origem_carga          1450858 non-null  object        \n",
      " 9   origem_sql_incra      1682672 non-null  object        \n",
      " 10  dtcarga               1682986 non-null  datetime64[ns]\n",
      " 11  origem_tipoSql_incra  1522946 non-null  object        \n",
      "dtypes: datetime64[ns](1), int64(2), object(9)\n",
      "memory usage: 154.1+ MB\n"
     ]
    }
   ],
   "source": [
    "# SQL_INCRA\n",
    "df_sql_incra = sql_query('SELECT * FROM dbo.prata_sql_incra')\n",
    "df_sql_incra.info()"
   ]
  },
  {
   "cell_type": "code",
   "execution_count": 7,
   "id": "12048b3a-ec75-47ab-9fc9-1ca67be7e41b",
   "metadata": {
    "tags": []
   },
   "outputs": [],
   "source": [
    "sql_incra = df_sql_incra[['sql_incra']][:]"
   ]
  },
  {
   "cell_type": "code",
   "execution_count": 9,
   "id": "5b619ebe-8aba-49fe-bd1c-e4dac32b3f5a",
   "metadata": {
    "tags": []
   },
   "outputs": [
    {
     "data": {
      "text/html": [
       "<div>\n",
       "<style scoped>\n",
       "    .dataframe tbody tr th:only-of-type {\n",
       "        vertical-align: middle;\n",
       "    }\n",
       "\n",
       "    .dataframe tbody tr th {\n",
       "        vertical-align: top;\n",
       "    }\n",
       "\n",
       "    .dataframe thead th {\n",
       "        text-align: right;\n",
       "    }\n",
       "</style>\n",
       "<table border=\"1\" class=\"dataframe\">\n",
       "  <thead>\n",
       "    <tr style=\"text-align: right;\">\n",
       "      <th></th>\n",
       "      <th>sql_incra</th>\n",
       "      <th>caracteres</th>\n",
       "    </tr>\n",
       "  </thead>\n",
       "  <tbody>\n",
       "    <tr>\n",
       "      <th>0</th>\n",
       "      <td>116.241.0014-6</td>\n",
       "      <td>14.0</td>\n",
       "    </tr>\n",
       "    <tr>\n",
       "      <th>1</th>\n",
       "      <td>116.241.0014-6</td>\n",
       "      <td>14.0</td>\n",
       "    </tr>\n",
       "    <tr>\n",
       "      <th>2</th>\n",
       "      <td>010.010.0022-6</td>\n",
       "      <td>14.0</td>\n",
       "    </tr>\n",
       "    <tr>\n",
       "      <th>3</th>\n",
       "      <td>007.059.0022-3</td>\n",
       "      <td>14.0</td>\n",
       "    </tr>\n",
       "    <tr>\n",
       "      <th>4</th>\n",
       "      <td>123.027.0217-3</td>\n",
       "      <td>14.0</td>\n",
       "    </tr>\n",
       "  </tbody>\n",
       "</table>\n",
       "</div>"
      ],
      "text/plain": [
       "        sql_incra  caracteres\n",
       "0  116.241.0014-6        14.0\n",
       "1  116.241.0014-6        14.0\n",
       "2  010.010.0022-6        14.0\n",
       "3  007.059.0022-3        14.0\n",
       "4  123.027.0217-3        14.0"
      ]
     },
     "execution_count": 9,
     "metadata": {},
     "output_type": "execute_result"
    }
   ],
   "source": [
    "sql_incra['caracteres'] = sql_incra['sql_incra'].apply(lambda x: len(x) if x else None)\n",
    "sql_incra.head()"
   ]
  },
  {
   "cell_type": "code",
   "execution_count": 16,
   "id": "7c0f76f0-d09e-4f5f-87fb-4aa9067ddb83",
   "metadata": {
    "tags": []
   },
   "outputs": [
    {
     "data": {
      "text/html": [
       "<div>\n",
       "<style scoped>\n",
       "    .dataframe tbody tr th:only-of-type {\n",
       "        vertical-align: middle;\n",
       "    }\n",
       "\n",
       "    .dataframe tbody tr th {\n",
       "        vertical-align: top;\n",
       "    }\n",
       "\n",
       "    .dataframe thead th {\n",
       "        text-align: right;\n",
       "    }\n",
       "</style>\n",
       "<table border=\"1\" class=\"dataframe\">\n",
       "  <thead>\n",
       "    <tr style=\"text-align: right;\">\n",
       "      <th></th>\n",
       "      <th>sql_incra</th>\n",
       "      <th>caracteres</th>\n",
       "    </tr>\n",
       "  </thead>\n",
       "  <tbody>\n",
       "    <tr>\n",
       "      <th>96</th>\n",
       "      <td>Antonia Maria Nigro</td>\n",
       "      <td>19.0</td>\n",
       "    </tr>\n",
       "    <tr>\n",
       "      <th>565</th>\n",
       "      <td>residencia</td>\n",
       "      <td>10.0</td>\n",
       "    </tr>\n",
       "    <tr>\n",
       "      <th>765</th>\n",
       "      <td>6351970257550</td>\n",
       "      <td>13.0</td>\n",
       "    </tr>\n",
       "    <tr>\n",
       "      <th>815</th>\n",
       "      <td>Rua</td>\n",
       "      <td>3.0</td>\n",
       "    </tr>\n",
       "    <tr>\n",
       "      <th>924</th>\n",
       "      <td>6383580148180</td>\n",
       "      <td>13.0</td>\n",
       "    </tr>\n",
       "    <tr>\n",
       "      <th>...</th>\n",
       "      <td>...</td>\n",
       "      <td>...</td>\n",
       "    </tr>\n",
       "    <tr>\n",
       "      <th>1682673</th>\n",
       "      <td>6383580122629</td>\n",
       "      <td>13.0</td>\n",
       "    </tr>\n",
       "    <tr>\n",
       "      <th>1682691</th>\n",
       "      <td>None</td>\n",
       "      <td>NaN</td>\n",
       "    </tr>\n",
       "    <tr>\n",
       "      <th>1682817</th>\n",
       "      <td>638.358.049.042-3</td>\n",
       "      <td>17.0</td>\n",
       "    </tr>\n",
       "    <tr>\n",
       "      <th>1682933</th>\n",
       "      <td>None</td>\n",
       "      <td>NaN</td>\n",
       "    </tr>\n",
       "    <tr>\n",
       "      <th>1682963</th>\n",
       "      <td>None</td>\n",
       "      <td>NaN</td>\n",
       "    </tr>\n",
       "  </tbody>\n",
       "</table>\n",
       "<p>17946 rows × 2 columns</p>\n",
       "</div>"
      ],
      "text/plain": [
       "                   sql_incra  caracteres\n",
       "96       Antonia Maria Nigro        19.0\n",
       "565               residencia        10.0\n",
       "765            6351970257550        13.0\n",
       "815                      Rua         3.0\n",
       "924            6383580148180        13.0\n",
       "...                      ...         ...\n",
       "1682673        6383580122629        13.0\n",
       "1682691                 None         NaN\n",
       "1682817    638.358.049.042-3        17.0\n",
       "1682933                 None         NaN\n",
       "1682963                 None         NaN\n",
       "\n",
       "[17946 rows x 2 columns]"
      ]
     },
     "execution_count": 16,
     "metadata": {},
     "output_type": "execute_result"
    }
   ],
   "source": [
    "sql_incra.query(\"caracteres != 14\")"
   ]
  },
  {
   "cell_type": "code",
   "execution_count": null,
   "id": "604f326b-b6ed-4280-a004-4651814b6ea1",
   "metadata": {},
   "outputs": [],
   "source": []
  }
 ],
 "metadata": {
  "kernelspec": {
   "display_name": "Python 3 (ipykernel)",
   "language": "python",
   "name": "python3"
  },
  "language_info": {
   "codemirror_mode": {
    "name": "ipython",
    "version": 3
   },
   "file_extension": ".py",
   "mimetype": "text/x-python",
   "name": "python",
   "nbconvert_exporter": "python",
   "pygments_lexer": "ipython3",
   "version": "3.11.5"
  }
 },
 "nbformat": 4,
 "nbformat_minor": 5
}
