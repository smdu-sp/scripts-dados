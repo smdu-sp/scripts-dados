{
 "cells": [
  {
   "cell_type": "markdown",
   "id": "0ccc83b4-3245-4c63-919d-70bcc5dc9c54",
   "metadata": {},
   "source": [
    "# Avaliação de despachos dos dispatched documents vs publicações em diário oficial"
   ]
  },
  {
   "cell_type": "code",
   "execution_count": 1,
   "id": "fbeda376-0104-4377-a5d0-27a811c7e5b1",
   "metadata": {
    "tags": []
   },
   "outputs": [],
   "source": [
    "import pandas as pd"
   ]
  },
  {
   "cell_type": "markdown",
   "id": "ee9ca085-023e-471c-937f-11a0b9724728",
   "metadata": {
    "tags": []
   },
   "source": [
    "### Importação Diario Oficial Antigo"
   ]
  },
  {
   "cell_type": "code",
   "execution_count": 2,
   "id": "ddcbdff9-7235-4162-94ba-b3067bdbbe34",
   "metadata": {
    "tags": []
   },
   "outputs": [
    {
     "name": "stdout",
     "output_type": "stream",
     "text": [
      "<class 'pandas.core.frame.DataFrame'>\n",
      "RangeIndex: 12232 entries, 0 to 12231\n",
      "Data columns (total 8 columns):\n",
      " #   Column        Non-Null Count  Dtype \n",
      "---  ------        --------------  ----- \n",
      " 0   Data          12232 non-null  object\n",
      " 1   Pag.          12232 non-null  int64 \n",
      " 2   Processo SEI  12232 non-null  object\n",
      " 3   Interessado   12124 non-null  object\n",
      " 4   N° AD         12232 non-null  object\n",
      " 5   Assunto       12232 non-null  object\n",
      " 6   Resultado     12232 non-null  object\n",
      " 7   Despacho      9058 non-null   object\n",
      "dtypes: int64(1), object(7)\n",
      "memory usage: 764.6+ KB\n"
     ]
    }
   ],
   "source": [
    "old_dom = pd.read_csv('ad_oldom_despachos.csv', sep=';', encoding='latin-1')\n",
    "old_dom.info()"
   ]
  },
  {
   "cell_type": "code",
   "execution_count": 3,
   "id": "f1c1b9f2-0d1c-4d27-8eaf-caee2d212ff9",
   "metadata": {
    "tags": []
   },
   "outputs": [
    {
     "data": {
      "text/html": [
       "<div>\n",
       "<style scoped>\n",
       "    .dataframe tbody tr th:only-of-type {\n",
       "        vertical-align: middle;\n",
       "    }\n",
       "\n",
       "    .dataframe tbody tr th {\n",
       "        vertical-align: top;\n",
       "    }\n",
       "\n",
       "    .dataframe thead th {\n",
       "        text-align: right;\n",
       "    }\n",
       "</style>\n",
       "<table border=\"1\" class=\"dataframe\">\n",
       "  <thead>\n",
       "    <tr style=\"text-align: right;\">\n",
       "      <th></th>\n",
       "      <th>processo</th>\n",
       "      <th>despacho</th>\n",
       "      <th>data_publicacao</th>\n",
       "    </tr>\n",
       "  </thead>\n",
       "  <tbody>\n",
       "    <tr>\n",
       "      <th>0</th>\n",
       "      <td>6021.2018/0039868-0</td>\n",
       "      <td>sso SEI: 6021.2018/0039868-0); Art. 2º A ativi...</td>\n",
       "      <td>2020/01/24</td>\n",
       "    </tr>\n",
       "    <tr>\n",
       "      <th>1</th>\n",
       "      <td>1010.2020/0007037-4</td>\n",
       "      <td>deferido</td>\n",
       "      <td>2020/12/15</td>\n",
       "    </tr>\n",
       "    <tr>\n",
       "      <th>2</th>\n",
       "      <td>1010.2020/0008497-9</td>\n",
       "      <td>deferido</td>\n",
       "      <td>2020/12/19</td>\n",
       "    </tr>\n",
       "    <tr>\n",
       "      <th>3</th>\n",
       "      <td>1010.2020/0007987-8</td>\n",
       "      <td>deferido</td>\n",
       "      <td>2020/12/19</td>\n",
       "    </tr>\n",
       "    <tr>\n",
       "      <th>4</th>\n",
       "      <td>1010.2020/0007987-8</td>\n",
       "      <td>deferido</td>\n",
       "      <td>2020/12/22</td>\n",
       "    </tr>\n",
       "  </tbody>\n",
       "</table>\n",
       "</div>"
      ],
      "text/plain": [
       "               processo                                           despacho  \\\n",
       "0   6021.2018/0039868-0  sso SEI: 6021.2018/0039868-0); Art. 2º A ativi...   \n",
       "1   1010.2020/0007037-4                                           deferido   \n",
       "2   1010.2020/0008497-9                                           deferido   \n",
       "3   1010.2020/0007987-8                                           deferido   \n",
       "4   1010.2020/0007987-8                                           deferido   \n",
       "\n",
       "  data_publicacao  \n",
       "0      2020/01/24  \n",
       "1      2020/12/15  \n",
       "2      2020/12/19  \n",
       "3      2020/12/19  \n",
       "4      2020/12/22  "
      ]
     },
     "execution_count": 3,
     "metadata": {},
     "output_type": "execute_result"
    }
   ],
   "source": [
    "# Mantendo apenas as colunas processo, resultado e data de publicação\n",
    "old_dom = old_dom[['Processo SEI', 'Resultado', 'Data']]\n",
    "old_dom.columns = ['processo', 'despacho', 'data_publicacao']\n",
    "old_dom.head()"
   ]
  },
  {
   "cell_type": "code",
   "execution_count": 4,
   "id": "7f392156-e4a3-475c-99bb-19d0be907d69",
   "metadata": {
    "tags": []
   },
   "outputs": [
    {
     "data": {
      "text/html": [
       "<div>\n",
       "<style scoped>\n",
       "    .dataframe tbody tr th:only-of-type {\n",
       "        vertical-align: middle;\n",
       "    }\n",
       "\n",
       "    .dataframe tbody tr th {\n",
       "        vertical-align: top;\n",
       "    }\n",
       "\n",
       "    .dataframe thead th {\n",
       "        text-align: right;\n",
       "    }\n",
       "</style>\n",
       "<table border=\"1\" class=\"dataframe\">\n",
       "  <thead>\n",
       "    <tr style=\"text-align: right;\">\n",
       "      <th></th>\n",
       "      <th>processo</th>\n",
       "      <th>despacho</th>\n",
       "      <th>data_publicacao</th>\n",
       "    </tr>\n",
       "  </thead>\n",
       "  <tbody>\n",
       "  </tbody>\n",
       "</table>\n",
       "</div>"
      ],
      "text/plain": [
       "Empty DataFrame\n",
       "Columns: [processo, despacho, data_publicacao]\n",
       "Index: []"
      ]
     },
     "execution_count": 4,
     "metadata": {},
     "output_type": "execute_result"
    }
   ],
   "source": [
    "old_dom.query(\"processo == '1020.2022/0020297-0'\")"
   ]
  },
  {
   "cell_type": "code",
   "execution_count": 5,
   "id": "7d5614b3-342d-49ed-a949-b30e469c6a10",
   "metadata": {
    "tags": []
   },
   "outputs": [
    {
     "data": {
      "text/plain": [
       "' 1010.2020/0007037-4'"
      ]
     },
     "execution_count": 5,
     "metadata": {},
     "output_type": "execute_result"
    }
   ],
   "source": [
    "old_dom.loc[1, 'processo']"
   ]
  },
  {
   "cell_type": "code",
   "execution_count": 6,
   "id": "7c2499c6-121c-4a9b-baca-d13850495c9f",
   "metadata": {
    "tags": []
   },
   "outputs": [
    {
     "data": {
      "text/plain": [
       "'1010.2020/0007037-4'"
      ]
     },
     "execution_count": 6,
     "metadata": {},
     "output_type": "execute_result"
    }
   ],
   "source": [
    "# Limpando numero de processo\n",
    "old_dom['processo'] = old_dom['processo'].apply(lambda x: x.strip())\n",
    "old_dom.loc[1, 'processo']"
   ]
  },
  {
   "cell_type": "code",
   "execution_count": 7,
   "id": "103df7d1-e068-409c-b8a5-654e516379a2",
   "metadata": {
    "tags": []
   },
   "outputs": [
    {
     "data": {
      "text/html": [
       "<div>\n",
       "<style scoped>\n",
       "    .dataframe tbody tr th:only-of-type {\n",
       "        vertical-align: middle;\n",
       "    }\n",
       "\n",
       "    .dataframe tbody tr th {\n",
       "        vertical-align: top;\n",
       "    }\n",
       "\n",
       "    .dataframe thead th {\n",
       "        text-align: right;\n",
       "    }\n",
       "</style>\n",
       "<table border=\"1\" class=\"dataframe\">\n",
       "  <thead>\n",
       "    <tr style=\"text-align: right;\">\n",
       "      <th></th>\n",
       "      <th>processo</th>\n",
       "      <th>despacho</th>\n",
       "      <th>data_publicacao</th>\n",
       "    </tr>\n",
       "  </thead>\n",
       "  <tbody>\n",
       "    <tr>\n",
       "      <th>1</th>\n",
       "      <td>1010.2020/0007037-4</td>\n",
       "      <td>deferido</td>\n",
       "      <td>2020/12/15</td>\n",
       "    </tr>\n",
       "    <tr>\n",
       "      <th>2</th>\n",
       "      <td>1010.2020/0008497-9</td>\n",
       "      <td>deferido</td>\n",
       "      <td>2020/12/19</td>\n",
       "    </tr>\n",
       "    <tr>\n",
       "      <th>3</th>\n",
       "      <td>1010.2020/0007987-8</td>\n",
       "      <td>deferido</td>\n",
       "      <td>2020/12/19</td>\n",
       "    </tr>\n",
       "    <tr>\n",
       "      <th>4</th>\n",
       "      <td>1010.2020/0007987-8</td>\n",
       "      <td>deferido</td>\n",
       "      <td>2020/12/22</td>\n",
       "    </tr>\n",
       "    <tr>\n",
       "      <th>5</th>\n",
       "      <td>1010.2020/0007034-0</td>\n",
       "      <td>deferido</td>\n",
       "      <td>2020/12/23</td>\n",
       "    </tr>\n",
       "  </tbody>\n",
       "</table>\n",
       "</div>"
      ],
      "text/plain": [
       "              processo  despacho data_publicacao\n",
       "1  1010.2020/0007037-4  deferido      2020/12/15\n",
       "2  1010.2020/0008497-9  deferido      2020/12/19\n",
       "3  1010.2020/0007987-8  deferido      2020/12/19\n",
       "4  1010.2020/0007987-8  deferido      2020/12/22\n",
       "5  1010.2020/0007034-0  deferido      2020/12/23"
      ]
     },
     "execution_count": 7,
     "metadata": {},
     "output_type": "execute_result"
    }
   ],
   "source": [
    "# Excluindo dados provenientes de erro de extração\n",
    "despachos_validos = ['deferido', 'indeferido', 'indeferido e encerrado']\n",
    "old_dom_cl = old_dom.query('despacho.isin(@despachos_validos)')\n",
    "old_dom_cl.head()"
   ]
  },
  {
   "cell_type": "markdown",
   "id": "38e7b4de-3336-49af-8c78-8405b44887dd",
   "metadata": {
    "jp-MarkdownHeadingCollapsed": true,
    "tags": []
   },
   "source": [
    "### Diario Oficial Novo"
   ]
  },
  {
   "cell_type": "code",
   "execution_count": 8,
   "id": "94cfea36-3921-43c6-917f-5f5f186b1725",
   "metadata": {
    "tags": []
   },
   "outputs": [
    {
     "name": "stdout",
     "output_type": "stream",
     "text": [
      "<class 'pandas.core.frame.DataFrame'>\n",
      "RangeIndex: 14417 entries, 0 to 14416\n",
      "Data columns (total 7 columns):\n",
      " #   Column     Non-Null Count  Dtype \n",
      "---  ------     --------------  ----- \n",
      " 0   veiculo    14417 non-null  object\n",
      " 1   orgao      14417 non-null  object\n",
      " 2   unidade    14417 non-null  object\n",
      " 3   serie      14417 non-null  object\n",
      " 4   processo   14417 non-null  object\n",
      " 5   documento  14417 non-null  int64 \n",
      " 6   data       14417 non-null  object\n",
      "dtypes: int64(1), object(6)\n",
      "memory usage: 788.6+ KB\n"
     ]
    }
   ],
   "source": [
    "new_dom = pd.read_csv('ad_dom_despachos.csv', sep=';', encoding='latin-1')\n",
    "new_dom.info()"
   ]
  },
  {
   "cell_type": "code",
   "execution_count": 9,
   "id": "c32cf5cb-f51e-4460-aea7-6948baa4f564",
   "metadata": {
    "tags": []
   },
   "outputs": [
    {
     "data": {
      "text/html": [
       "<div>\n",
       "<style scoped>\n",
       "    .dataframe tbody tr th:only-of-type {\n",
       "        vertical-align: middle;\n",
       "    }\n",
       "\n",
       "    .dataframe tbody tr th {\n",
       "        vertical-align: top;\n",
       "    }\n",
       "\n",
       "    .dataframe thead th {\n",
       "        text-align: right;\n",
       "    }\n",
       "</style>\n",
       "<table border=\"1\" class=\"dataframe\">\n",
       "  <thead>\n",
       "    <tr style=\"text-align: right;\">\n",
       "      <th></th>\n",
       "      <th>processo</th>\n",
       "      <th>despacho</th>\n",
       "      <th>data_publicacao</th>\n",
       "    </tr>\n",
       "  </thead>\n",
       "  <tbody>\n",
       "    <tr>\n",
       "      <th>0</th>\n",
       "      <td>1020.2021/0015175-3</td>\n",
       "      <td>Despacho deferido</td>\n",
       "      <td>01/03/2023</td>\n",
       "    </tr>\n",
       "    <tr>\n",
       "      <th>1</th>\n",
       "      <td>1020.2023/0002289-2</td>\n",
       "      <td>Despacho deferido</td>\n",
       "      <td>01/03/2023</td>\n",
       "    </tr>\n",
       "    <tr>\n",
       "      <th>2</th>\n",
       "      <td>1020.2023/0003318-5</td>\n",
       "      <td>Despacho deferido</td>\n",
       "      <td>01/03/2023</td>\n",
       "    </tr>\n",
       "    <tr>\n",
       "      <th>3</th>\n",
       "      <td>1020.2023/0003276-6</td>\n",
       "      <td>Despacho deferido</td>\n",
       "      <td>01/03/2023</td>\n",
       "    </tr>\n",
       "    <tr>\n",
       "      <th>4</th>\n",
       "      <td>1020.2023/0003286-3</td>\n",
       "      <td>Despacho deferido</td>\n",
       "      <td>01/03/2023</td>\n",
       "    </tr>\n",
       "  </tbody>\n",
       "</table>\n",
       "</div>"
      ],
      "text/plain": [
       "              processo           despacho data_publicacao\n",
       "0  1020.2021/0015175-3  Despacho deferido      01/03/2023\n",
       "1  1020.2023/0002289-2  Despacho deferido      01/03/2023\n",
       "2  1020.2023/0003318-5  Despacho deferido      01/03/2023\n",
       "3  1020.2023/0003276-6  Despacho deferido      01/03/2023\n",
       "4  1020.2023/0003286-3  Despacho deferido      01/03/2023"
      ]
     },
     "execution_count": 9,
     "metadata": {},
     "output_type": "execute_result"
    }
   ],
   "source": [
    "# Mantendo apenas as colunas processo, despacho e data de publicação\n",
    "new_dom = new_dom[['processo', 'serie', 'data']]\n",
    "new_dom.columns = ['processo', 'despacho', 'data_publicacao']\n",
    "new_dom.head()"
   ]
  },
  {
   "cell_type": "code",
   "execution_count": 10,
   "id": "5a5c2fbd-29fd-43e1-b2ef-73293e320de3",
   "metadata": {
    "tags": []
   },
   "outputs": [
    {
     "name": "stdout",
     "output_type": "stream",
     "text": [
      "<class 'pandas.core.frame.DataFrame'>\n",
      "Index: 5668 entries, 0 to 14378\n",
      "Data columns (total 3 columns):\n",
      " #   Column           Non-Null Count  Dtype \n",
      "---  ------           --------------  ----- \n",
      " 0   processo         5668 non-null   object\n",
      " 1   despacho         5668 non-null   object\n",
      " 2   data_publicacao  5668 non-null   object\n",
      "dtypes: object(3)\n",
      "memory usage: 177.1+ KB\n"
     ]
    }
   ],
   "source": [
    "despachos_validos = ['Despacho deferido', 'Despacho indeferido', 'Despacho Deferido', 'Despacho Indeferido']\n",
    "new_dom_cl = new_dom.query('despacho.isin(@despachos_validos)')\n",
    "new_dom_cl.info()"
   ]
  },
  {
   "cell_type": "markdown",
   "id": "42daeddc-a9e2-416d-8539-13280eef814e",
   "metadata": {
    "jp-MarkdownHeadingCollapsed": true,
    "tags": []
   },
   "source": [
    "### Concat"
   ]
  },
  {
   "cell_type": "code",
   "execution_count": 11,
   "id": "a13ebec5-cd1f-4044-8991-573d7cb55c0a",
   "metadata": {
    "tags": []
   },
   "outputs": [
    {
     "name": "stdout",
     "output_type": "stream",
     "text": [
      "<class 'pandas.core.frame.DataFrame'>\n",
      "Index: 17806 entries, 1 to 14378\n",
      "Data columns (total 3 columns):\n",
      " #   Column           Non-Null Count  Dtype \n",
      "---  ------           --------------  ----- \n",
      " 0   processo         17806 non-null  object\n",
      " 1   despacho         17806 non-null  object\n",
      " 2   data_publicacao  17806 non-null  object\n",
      "dtypes: object(3)\n",
      "memory usage: 556.4+ KB\n"
     ]
    }
   ],
   "source": [
    "concat_list = [old_dom_cl, new_dom_cl]\n",
    "dom = pd.concat(concat_list)\n",
    "dom.info()"
   ]
  },
  {
   "cell_type": "code",
   "execution_count": 12,
   "id": "f00c1522-abce-4c35-8c5b-cae021e71dee",
   "metadata": {
    "tags": []
   },
   "outputs": [
    {
     "data": {
      "text/plain": [
       "despacho\n",
       "deferido                  8798\n",
       "Despacho deferido         3762\n",
       "indeferido                3135\n",
       "Despacho indeferido       1868\n",
       "indeferido e encerrado     205\n",
       "Despacho Deferido           20\n",
       "Despacho Indeferido         18\n",
       "Name: count, dtype: int64"
      ]
     },
     "execution_count": 12,
     "metadata": {},
     "output_type": "execute_result"
    }
   ],
   "source": [
    "dom['despacho'].value_counts()"
   ]
  },
  {
   "cell_type": "code",
   "execution_count": 13,
   "id": "37442bfb-207c-4d49-8360-43483b6dc192",
   "metadata": {
    "tags": []
   },
   "outputs": [
    {
     "data": {
      "text/plain": [
       "despacho\n",
       "deferido      12580\n",
       "indeferido     5226\n",
       "Name: count, dtype: int64"
      ]
     },
     "execution_count": 13,
     "metadata": {},
     "output_type": "execute_result"
    }
   ],
   "source": [
    "dom = dom.replace('Despacho deferido', 'deferido')\n",
    "dom = dom.replace('Despacho Deferido', 'deferido')\n",
    "dom = dom.replace('Despacho indeferido', 'indeferido')\n",
    "dom = dom.replace('Despacho Indeferido', 'indeferido')\n",
    "dom = dom.replace('indeferido e encerrado', 'indeferido')\n",
    "dom['despacho'].value_counts()"
   ]
  },
  {
   "cell_type": "code",
   "execution_count": 14,
   "id": "60f6ee14-4e43-4203-99ea-065a82f204bf",
   "metadata": {
    "tags": []
   },
   "outputs": [
    {
     "data": {
      "text/html": [
       "<div>\n",
       "<style scoped>\n",
       "    .dataframe tbody tr th:only-of-type {\n",
       "        vertical-align: middle;\n",
       "    }\n",
       "\n",
       "    .dataframe tbody tr th {\n",
       "        vertical-align: top;\n",
       "    }\n",
       "\n",
       "    .dataframe thead th {\n",
       "        text-align: right;\n",
       "    }\n",
       "</style>\n",
       "<table border=\"1\" class=\"dataframe\">\n",
       "  <thead>\n",
       "    <tr style=\"text-align: right;\">\n",
       "      <th></th>\n",
       "      <th>processo</th>\n",
       "      <th>despacho</th>\n",
       "      <th>data_publicacao</th>\n",
       "    </tr>\n",
       "  </thead>\n",
       "  <tbody>\n",
       "    <tr>\n",
       "      <th>9307</th>\n",
       "      <td>1020.2022/0020297-0</td>\n",
       "      <td>deferido</td>\n",
       "      <td>2022/10/21</td>\n",
       "    </tr>\n",
       "    <tr>\n",
       "      <th>9308</th>\n",
       "      <td>1020.2022/0020297-0</td>\n",
       "      <td>deferido</td>\n",
       "      <td>2022/10/21</td>\n",
       "    </tr>\n",
       "    <tr>\n",
       "      <th>9309</th>\n",
       "      <td>1020.2022/0020297-0</td>\n",
       "      <td>deferido</td>\n",
       "      <td>2022/10/21</td>\n",
       "    </tr>\n",
       "    <tr>\n",
       "      <th>9314</th>\n",
       "      <td>1020.2022/0020297-0</td>\n",
       "      <td>deferido</td>\n",
       "      <td>2022/10/21</td>\n",
       "    </tr>\n",
       "  </tbody>\n",
       "</table>\n",
       "</div>"
      ],
      "text/plain": [
       "                 processo  despacho data_publicacao\n",
       "9307  1020.2022/0020297-0  deferido      2022/10/21\n",
       "9308  1020.2022/0020297-0  deferido      2022/10/21\n",
       "9309  1020.2022/0020297-0  deferido      2022/10/21\n",
       "9314  1020.2022/0020297-0  deferido      2022/10/21"
      ]
     },
     "execution_count": 14,
     "metadata": {},
     "output_type": "execute_result"
    }
   ],
   "source": [
    "dom.query(\"processo == '1020.2022/0020297-0'\")"
   ]
  },
  {
   "cell_type": "markdown",
   "id": "3af98b40-9f8a-46e7-8b24-c5839cf17bd7",
   "metadata": {
    "tags": []
   },
   "source": [
    "### AD Dispatched"
   ]
  },
  {
   "cell_type": "code",
   "execution_count": 15,
   "id": "2b6a3501-d6f7-4eb6-ad0b-ca092c20b1a0",
   "metadata": {
    "tags": []
   },
   "outputs": [
    {
     "name": "stdout",
     "output_type": "stream",
     "text": [
      "<class 'pandas.core.frame.DataFrame'>\n",
      "RangeIndex: 18081 entries, 0 to 18080\n",
      "Data columns (total 8 columns):\n",
      " #   Column           Non-Null Count  Dtype \n",
      "---  ------           --------------  ----- \n",
      " 0   id               18081 non-null  object\n",
      " 1   protocolo        18081 non-null  object\n",
      " 2   processo         18081 non-null  object\n",
      " 3   assunto          18081 non-null  object\n",
      " 4   despacho         18081 non-null  object\n",
      " 5   data_publicacao  18081 non-null  object\n",
      " 6   documento_sei    18081 non-null  int64 \n",
      " 7   data_extracao    18081 non-null  object\n",
      "dtypes: int64(1), object(7)\n",
      "memory usage: 1.1+ MB\n"
     ]
    }
   ],
   "source": [
    "dispatched = pd.read_csv('ad_dispatched_despachos.csv', sep=';', encoding='latin-1')\n",
    "dispatched.info()"
   ]
  },
  {
   "cell_type": "code",
   "execution_count": 16,
   "id": "b8352fe8-0a8c-414e-89ce-111675da6107",
   "metadata": {
    "tags": []
   },
   "outputs": [
    {
     "name": "stdout",
     "output_type": "stream",
     "text": [
      "<class 'pandas.core.frame.DataFrame'>\n",
      "Index: 18015 entries, 0 to 18080\n",
      "Data columns (total 8 columns):\n",
      " #   Column           Non-Null Count  Dtype \n",
      "---  ------           --------------  ----- \n",
      " 0   id               18015 non-null  object\n",
      " 1   protocolo        18015 non-null  object\n",
      " 2   processo         18015 non-null  object\n",
      " 3   assunto          18015 non-null  object\n",
      " 4   despacho         18015 non-null  object\n",
      " 5   data_publicacao  18015 non-null  object\n",
      " 6   documento_sei    18015 non-null  int64 \n",
      " 7   data_extracao    18015 non-null  object\n",
      "dtypes: int64(1), object(7)\n",
      "memory usage: 1.2+ MB\n"
     ]
    }
   ],
   "source": [
    "# Excluindo entrada repetidas que referenciam o mesmo documento\n",
    "dispatched = dispatched.drop_duplicates()\n",
    "dispatched.info()"
   ]
  },
  {
   "cell_type": "code",
   "execution_count": 17,
   "id": "038b1921-9cfc-4666-8884-e81d631f66ae",
   "metadata": {
    "tags": []
   },
   "outputs": [],
   "source": [
    "dispatched = dispatched[['processo', 'despacho', 'data_publicacao', 'assunto']]"
   ]
  },
  {
   "cell_type": "code",
   "execution_count": 18,
   "id": "0b972d21-1702-4ca0-bb48-5b5b88b83f46",
   "metadata": {
    "tags": []
   },
   "outputs": [
    {
     "data": {
      "text/plain": [
       "despacho\n",
       "Despacho deferido          12770\n",
       "Despacho indeferido         5241\n",
       "Despacho Documental            2\n",
       "Despacho documental            1\n",
       "Despacho de Retificação        1\n",
       "Name: count, dtype: int64"
      ]
     },
     "execution_count": 18,
     "metadata": {},
     "output_type": "execute_result"
    }
   ],
   "source": [
    "dispatched['despacho'].value_counts()"
   ]
  },
  {
   "cell_type": "markdown",
   "id": "c6bdc8a2-4708-478b-9c09-275710911ae4",
   "metadata": {
    "jp-MarkdownHeadingCollapsed": true,
    "tags": []
   },
   "source": [
    "### Contagem de despachos por processo"
   ]
  },
  {
   "cell_type": "code",
   "execution_count": 19,
   "id": "39633a5b-8817-4d61-847b-e8ea0a46bc29",
   "metadata": {
    "tags": []
   },
   "outputs": [
    {
     "data": {
      "text/plain": [
       "processo             despacho  \n",
       "1020.2022/0022993-2  deferido      36\n",
       "1020.2022/0012930-0  deferido      24\n",
       "1020.2022/0002755-8  indeferido    21\n",
       "1020.2022/0023390-5  indeferido    14\n",
       "1020.2022/0009042-0  deferido      10\n",
       "Name: count, dtype: int64"
      ]
     },
     "execution_count": 19,
     "metadata": {},
     "output_type": "execute_result"
    }
   ],
   "source": [
    "dom_count = dom[['processo', 'despacho']].value_counts()\n",
    "dom_count.head()"
   ]
  },
  {
   "cell_type": "code",
   "execution_count": 20,
   "id": "cbfdda7d-e551-401b-8d15-7f32a7a8c78c",
   "metadata": {
    "tags": []
   },
   "outputs": [
    {
     "data": {
      "text/html": [
       "<div>\n",
       "<style scoped>\n",
       "    .dataframe tbody tr th:only-of-type {\n",
       "        vertical-align: middle;\n",
       "    }\n",
       "\n",
       "    .dataframe tbody tr th {\n",
       "        vertical-align: top;\n",
       "    }\n",
       "\n",
       "    .dataframe thead th {\n",
       "        text-align: right;\n",
       "    }\n",
       "</style>\n",
       "<table border=\"1\" class=\"dataframe\">\n",
       "  <thead>\n",
       "    <tr style=\"text-align: right;\">\n",
       "      <th></th>\n",
       "      <th>processo</th>\n",
       "      <th>despacho</th>\n",
       "      <th>contagem_dom</th>\n",
       "    </tr>\n",
       "  </thead>\n",
       "  <tbody>\n",
       "    <tr>\n",
       "      <th>0</th>\n",
       "      <td>1020.2022/0022993-2</td>\n",
       "      <td>deferido</td>\n",
       "      <td>36</td>\n",
       "    </tr>\n",
       "    <tr>\n",
       "      <th>1</th>\n",
       "      <td>1020.2022/0012930-0</td>\n",
       "      <td>deferido</td>\n",
       "      <td>24</td>\n",
       "    </tr>\n",
       "    <tr>\n",
       "      <th>2</th>\n",
       "      <td>1020.2022/0002755-8</td>\n",
       "      <td>indeferido</td>\n",
       "      <td>21</td>\n",
       "    </tr>\n",
       "    <tr>\n",
       "      <th>3</th>\n",
       "      <td>1020.2022/0023390-5</td>\n",
       "      <td>indeferido</td>\n",
       "      <td>14</td>\n",
       "    </tr>\n",
       "    <tr>\n",
       "      <th>4</th>\n",
       "      <td>1020.2022/0009042-0</td>\n",
       "      <td>deferido</td>\n",
       "      <td>10</td>\n",
       "    </tr>\n",
       "  </tbody>\n",
       "</table>\n",
       "</div>"
      ],
      "text/plain": [
       "              processo    despacho  contagem_dom\n",
       "0  1020.2022/0022993-2    deferido            36\n",
       "1  1020.2022/0012930-0    deferido            24\n",
       "2  1020.2022/0002755-8  indeferido            21\n",
       "3  1020.2022/0023390-5  indeferido            14\n",
       "4  1020.2022/0009042-0    deferido            10"
      ]
     },
     "execution_count": 20,
     "metadata": {},
     "output_type": "execute_result"
    }
   ],
   "source": [
    "dom_count_df = dom_count.reset_index()\n",
    "dom_count_df.columns = ['processo', 'despacho', 'contagem_dom']\n",
    "dom_count_df.head()"
   ]
  },
  {
   "cell_type": "code",
   "execution_count": 21,
   "id": "85b96ba9-cbd5-4518-8f9e-f2ef42127855",
   "metadata": {
    "tags": []
   },
   "outputs": [
    {
     "data": {
      "text/plain": [
       "processo             despacho           \n",
       "1020.2021/0001523-0  Despacho indeferido    4\n",
       "1020.2023/0007094-3  Despacho deferido      4\n",
       "1020.2021/0015180-0  Despacho indeferido    4\n",
       "1020.2022/0020300-3  Despacho deferido      4\n",
       "1020.2022/0020297-0  Despacho deferido      4\n",
       "Name: count, dtype: int64"
      ]
     },
     "execution_count": 21,
     "metadata": {},
     "output_type": "execute_result"
    }
   ],
   "source": [
    "dispatched_count = dispatched[['processo', 'despacho']].value_counts()\n",
    "dispatched_count.head()"
   ]
  },
  {
   "cell_type": "code",
   "execution_count": 22,
   "id": "e34b3b3b-d6dd-47f8-b639-b8b39b45b142",
   "metadata": {
    "tags": []
   },
   "outputs": [
    {
     "data": {
      "text/html": [
       "<div>\n",
       "<style scoped>\n",
       "    .dataframe tbody tr th:only-of-type {\n",
       "        vertical-align: middle;\n",
       "    }\n",
       "\n",
       "    .dataframe tbody tr th {\n",
       "        vertical-align: top;\n",
       "    }\n",
       "\n",
       "    .dataframe thead th {\n",
       "        text-align: right;\n",
       "    }\n",
       "</style>\n",
       "<table border=\"1\" class=\"dataframe\">\n",
       "  <thead>\n",
       "    <tr style=\"text-align: right;\">\n",
       "      <th></th>\n",
       "      <th>processo</th>\n",
       "      <th>despacho</th>\n",
       "      <th>contagem_dispatched</th>\n",
       "    </tr>\n",
       "  </thead>\n",
       "  <tbody>\n",
       "    <tr>\n",
       "      <th>0</th>\n",
       "      <td>1020.2021/0001523-0</td>\n",
       "      <td>Despacho indeferido</td>\n",
       "      <td>4</td>\n",
       "    </tr>\n",
       "    <tr>\n",
       "      <th>1</th>\n",
       "      <td>1020.2023/0007094-3</td>\n",
       "      <td>Despacho deferido</td>\n",
       "      <td>4</td>\n",
       "    </tr>\n",
       "    <tr>\n",
       "      <th>2</th>\n",
       "      <td>1020.2021/0015180-0</td>\n",
       "      <td>Despacho indeferido</td>\n",
       "      <td>4</td>\n",
       "    </tr>\n",
       "    <tr>\n",
       "      <th>3</th>\n",
       "      <td>1020.2022/0020300-3</td>\n",
       "      <td>Despacho deferido</td>\n",
       "      <td>4</td>\n",
       "    </tr>\n",
       "    <tr>\n",
       "      <th>4</th>\n",
       "      <td>1020.2022/0020297-0</td>\n",
       "      <td>Despacho deferido</td>\n",
       "      <td>4</td>\n",
       "    </tr>\n",
       "  </tbody>\n",
       "</table>\n",
       "</div>"
      ],
      "text/plain": [
       "              processo             despacho  contagem_dispatched\n",
       "0  1020.2021/0001523-0  Despacho indeferido                    4\n",
       "1  1020.2023/0007094-3    Despacho deferido                    4\n",
       "2  1020.2021/0015180-0  Despacho indeferido                    4\n",
       "3  1020.2022/0020300-3    Despacho deferido                    4\n",
       "4  1020.2022/0020297-0    Despacho deferido                    4"
      ]
     },
     "execution_count": 22,
     "metadata": {},
     "output_type": "execute_result"
    }
   ],
   "source": [
    "dispatched_count_df = dispatched_count.reset_index()\n",
    "dispatched_count_df.columns = ['processo', 'despacho', 'contagem_dispatched']\n",
    "dispatched_count_df.head()"
   ]
  },
  {
   "cell_type": "markdown",
   "id": "2bf4155e-b4b2-4049-bc0c-f6c5f98c2e5d",
   "metadata": {},
   "source": [
    "### Dispatched para DOC"
   ]
  },
  {
   "cell_type": "code",
   "execution_count": 23,
   "id": "602a3f57-d5d9-4adf-b97f-4b0ebc7fab37",
   "metadata": {
    "tags": []
   },
   "outputs": [],
   "source": [
    "def comparador_despachos(row, tipo, dados, contra_tipo='dispatched'):\n",
    "    if tipo == 'dispatched':\n",
    "        contra_tipo = 'dom'        \n",
    "    \n",
    "    x = row['processo']\n",
    "    z = row[f'contagem_{contra_tipo}']\n",
    "    \n",
    "    if x in dados.index:\n",
    "        if dados.loc[x, f'contagem_{tipo}'] == z:\n",
    "            return 'correto'\n",
    "        else:\n",
    "            return dados.loc[x, f'contagem_{tipo}']\n",
    "    else:\n",
    "        return 'inexistente'"
   ]
  },
  {
   "cell_type": "code",
   "execution_count": 24,
   "id": "2a6b5ec5-088d-452b-96f2-58b78b483b32",
   "metadata": {
    "tags": []
   },
   "outputs": [
    {
     "data": {
      "text/html": [
       "<div>\n",
       "<style scoped>\n",
       "    .dataframe tbody tr th:only-of-type {\n",
       "        vertical-align: middle;\n",
       "    }\n",
       "\n",
       "    .dataframe tbody tr th {\n",
       "        vertical-align: top;\n",
       "    }\n",
       "\n",
       "    .dataframe thead th {\n",
       "        text-align: right;\n",
       "    }\n",
       "</style>\n",
       "<table border=\"1\" class=\"dataframe\">\n",
       "  <thead>\n",
       "    <tr style=\"text-align: right;\">\n",
       "      <th></th>\n",
       "      <th>despacho</th>\n",
       "      <th>contagem_dom</th>\n",
       "    </tr>\n",
       "    <tr>\n",
       "      <th>processo</th>\n",
       "      <th></th>\n",
       "      <th></th>\n",
       "    </tr>\n",
       "  </thead>\n",
       "  <tbody>\n",
       "    <tr>\n",
       "      <th>1020.2022/0002755-8</th>\n",
       "      <td>indeferido</td>\n",
       "      <td>21</td>\n",
       "    </tr>\n",
       "    <tr>\n",
       "      <th>1020.2022/0023390-5</th>\n",
       "      <td>indeferido</td>\n",
       "      <td>14</td>\n",
       "    </tr>\n",
       "    <tr>\n",
       "      <th>1020.2021/0018930-0</th>\n",
       "      <td>indeferido</td>\n",
       "      <td>8</td>\n",
       "    </tr>\n",
       "    <tr>\n",
       "      <th>1020.2022/0006954-4</th>\n",
       "      <td>indeferido</td>\n",
       "      <td>5</td>\n",
       "    </tr>\n",
       "    <tr>\n",
       "      <th>1020.2020/0014589-1</th>\n",
       "      <td>indeferido</td>\n",
       "      <td>5</td>\n",
       "    </tr>\n",
       "    <tr>\n",
       "      <th>...</th>\n",
       "      <td>...</td>\n",
       "      <td>...</td>\n",
       "    </tr>\n",
       "    <tr>\n",
       "      <th>1020.2022/0001012-4</th>\n",
       "      <td>indeferido</td>\n",
       "      <td>1</td>\n",
       "    </tr>\n",
       "    <tr>\n",
       "      <th>1020.2022/0001022-1</th>\n",
       "      <td>indeferido</td>\n",
       "      <td>1</td>\n",
       "    </tr>\n",
       "    <tr>\n",
       "      <th>1020.2022/0001023-0</th>\n",
       "      <td>indeferido</td>\n",
       "      <td>1</td>\n",
       "    </tr>\n",
       "    <tr>\n",
       "      <th>1020.2022/0001027-2</th>\n",
       "      <td>indeferido</td>\n",
       "      <td>1</td>\n",
       "    </tr>\n",
       "    <tr>\n",
       "      <th>1020.2022/0001028-0</th>\n",
       "      <td>indeferido</td>\n",
       "      <td>1</td>\n",
       "    </tr>\n",
       "  </tbody>\n",
       "</table>\n",
       "<p>4693 rows × 2 columns</p>\n",
       "</div>"
      ],
      "text/plain": [
       "                       despacho  contagem_dom\n",
       "processo                                     \n",
       "1020.2022/0002755-8  indeferido            21\n",
       "1020.2022/0023390-5  indeferido            14\n",
       "1020.2021/0018930-0  indeferido             8\n",
       "1020.2022/0006954-4  indeferido             5\n",
       "1020.2020/0014589-1  indeferido             5\n",
       "...                         ...           ...\n",
       "1020.2022/0001012-4  indeferido             1\n",
       "1020.2022/0001022-1  indeferido             1\n",
       "1020.2022/0001023-0  indeferido             1\n",
       "1020.2022/0001027-2  indeferido             1\n",
       "1020.2022/0001028-0  indeferido             1\n",
       "\n",
       "[4693 rows x 2 columns]"
      ]
     },
     "execution_count": 24,
     "metadata": {},
     "output_type": "execute_result"
    }
   ],
   "source": [
    "dom_deferidos = dom_count_df.query(\"despacho == 'deferido'\").set_index('processo')\n",
    "dom_indeferidos = dom_count_df.query(\"despacho == 'indeferido'\").set_index('processo')\n",
    "\n",
    "dom_indeferidos"
   ]
  },
  {
   "cell_type": "code",
   "execution_count": 25,
   "id": "82005e21-aefc-4547-a277-1ff5e20448fc",
   "metadata": {
    "tags": []
   },
   "outputs": [
    {
     "data": {
      "text/html": [
       "<div>\n",
       "<style scoped>\n",
       "    .dataframe tbody tr th:only-of-type {\n",
       "        vertical-align: middle;\n",
       "    }\n",
       "\n",
       "    .dataframe tbody tr th {\n",
       "        vertical-align: top;\n",
       "    }\n",
       "\n",
       "    .dataframe thead th {\n",
       "        text-align: right;\n",
       "    }\n",
       "</style>\n",
       "<table border=\"1\" class=\"dataframe\">\n",
       "  <thead>\n",
       "    <tr style=\"text-align: right;\">\n",
       "      <th></th>\n",
       "      <th>processo</th>\n",
       "      <th>despacho</th>\n",
       "      <th>contagem_dispatched</th>\n",
       "      <th>contagem_dom</th>\n",
       "    </tr>\n",
       "  </thead>\n",
       "  <tbody>\n",
       "    <tr>\n",
       "      <th>1</th>\n",
       "      <td>1020.2023/0007094-3</td>\n",
       "      <td>Despacho deferido</td>\n",
       "      <td>4</td>\n",
       "      <td>correto</td>\n",
       "    </tr>\n",
       "    <tr>\n",
       "      <th>3</th>\n",
       "      <td>1020.2022/0020300-3</td>\n",
       "      <td>Despacho deferido</td>\n",
       "      <td>4</td>\n",
       "      <td>correto</td>\n",
       "    </tr>\n",
       "    <tr>\n",
       "      <th>4</th>\n",
       "      <td>1020.2022/0020297-0</td>\n",
       "      <td>Despacho deferido</td>\n",
       "      <td>4</td>\n",
       "      <td>correto</td>\n",
       "    </tr>\n",
       "    <tr>\n",
       "      <th>5</th>\n",
       "      <td>1020.2023/0007666-6</td>\n",
       "      <td>Despacho deferido</td>\n",
       "      <td>3</td>\n",
       "      <td>correto</td>\n",
       "    </tr>\n",
       "    <tr>\n",
       "      <th>6</th>\n",
       "      <td>1020.2023/0007651-8</td>\n",
       "      <td>Despacho deferido</td>\n",
       "      <td>3</td>\n",
       "      <td>correto</td>\n",
       "    </tr>\n",
       "    <tr>\n",
       "      <th>7</th>\n",
       "      <td>1020.2022/0020307-0</td>\n",
       "      <td>Despacho deferido</td>\n",
       "      <td>3</td>\n",
       "      <td>correto</td>\n",
       "    </tr>\n",
       "    <tr>\n",
       "      <th>12</th>\n",
       "      <td>1020.2022/0020826-9</td>\n",
       "      <td>Despacho deferido</td>\n",
       "      <td>3</td>\n",
       "      <td>correto</td>\n",
       "    </tr>\n",
       "    <tr>\n",
       "      <th>14</th>\n",
       "      <td>1020.2022/0016144-0</td>\n",
       "      <td>Despacho deferido</td>\n",
       "      <td>3</td>\n",
       "      <td>4</td>\n",
       "    </tr>\n",
       "    <tr>\n",
       "      <th>15</th>\n",
       "      <td>1020.2021/0001261-3</td>\n",
       "      <td>Despacho deferido</td>\n",
       "      <td>3</td>\n",
       "      <td>correto</td>\n",
       "    </tr>\n",
       "    <tr>\n",
       "      <th>20</th>\n",
       "      <td>1020.2022/0020259-7</td>\n",
       "      <td>Despacho deferido</td>\n",
       "      <td>3</td>\n",
       "      <td>correto</td>\n",
       "    </tr>\n",
       "    <tr>\n",
       "      <th>21</th>\n",
       "      <td>1020.2023/0007185-0</td>\n",
       "      <td>Despacho deferido</td>\n",
       "      <td>3</td>\n",
       "      <td>correto</td>\n",
       "    </tr>\n",
       "    <tr>\n",
       "      <th>26</th>\n",
       "      <td>1020.2022/0014308-6</td>\n",
       "      <td>Despacho deferido</td>\n",
       "      <td>3</td>\n",
       "      <td>correto</td>\n",
       "    </tr>\n",
       "    <tr>\n",
       "      <th>27</th>\n",
       "      <td>1020.2022/0004887-3</td>\n",
       "      <td>Despacho deferido</td>\n",
       "      <td>3</td>\n",
       "      <td>correto</td>\n",
       "    </tr>\n",
       "    <tr>\n",
       "      <th>28</th>\n",
       "      <td>1020.2021/0005368-9</td>\n",
       "      <td>Despacho deferido</td>\n",
       "      <td>3</td>\n",
       "      <td>correto</td>\n",
       "    </tr>\n",
       "    <tr>\n",
       "      <th>33</th>\n",
       "      <td>1020.2021/0000693-1</td>\n",
       "      <td>Despacho deferido</td>\n",
       "      <td>3</td>\n",
       "      <td>2</td>\n",
       "    </tr>\n",
       "    <tr>\n",
       "      <th>38</th>\n",
       "      <td>1020.2022/0020457-3</td>\n",
       "      <td>Despacho deferido</td>\n",
       "      <td>3</td>\n",
       "      <td>correto</td>\n",
       "    </tr>\n",
       "    <tr>\n",
       "      <th>39</th>\n",
       "      <td>1020.2021/0003926-0</td>\n",
       "      <td>Despacho deferido</td>\n",
       "      <td>3</td>\n",
       "      <td>correto</td>\n",
       "    </tr>\n",
       "    <tr>\n",
       "      <th>41</th>\n",
       "      <td>1020.2021/0018962-9</td>\n",
       "      <td>Despacho deferido</td>\n",
       "      <td>3</td>\n",
       "      <td>6</td>\n",
       "    </tr>\n",
       "    <tr>\n",
       "      <th>43</th>\n",
       "      <td>1020.2022/0017701-0</td>\n",
       "      <td>Despacho deferido</td>\n",
       "      <td>3</td>\n",
       "      <td>correto</td>\n",
       "    </tr>\n",
       "    <tr>\n",
       "      <th>49</th>\n",
       "      <td>1020.2021/0001810-7</td>\n",
       "      <td>Despacho deferido</td>\n",
       "      <td>3</td>\n",
       "      <td>5</td>\n",
       "    </tr>\n",
       "  </tbody>\n",
       "</table>\n",
       "</div>"
      ],
      "text/plain": [
       "               processo           despacho  contagem_dispatched contagem_dom\n",
       "1   1020.2023/0007094-3  Despacho deferido                    4      correto\n",
       "3   1020.2022/0020300-3  Despacho deferido                    4      correto\n",
       "4   1020.2022/0020297-0  Despacho deferido                    4      correto\n",
       "5   1020.2023/0007666-6  Despacho deferido                    3      correto\n",
       "6   1020.2023/0007651-8  Despacho deferido                    3      correto\n",
       "7   1020.2022/0020307-0  Despacho deferido                    3      correto\n",
       "12  1020.2022/0020826-9  Despacho deferido                    3      correto\n",
       "14  1020.2022/0016144-0  Despacho deferido                    3            4\n",
       "15  1020.2021/0001261-3  Despacho deferido                    3      correto\n",
       "20  1020.2022/0020259-7  Despacho deferido                    3      correto\n",
       "21  1020.2023/0007185-0  Despacho deferido                    3      correto\n",
       "26  1020.2022/0014308-6  Despacho deferido                    3      correto\n",
       "27  1020.2022/0004887-3  Despacho deferido                    3      correto\n",
       "28  1020.2021/0005368-9  Despacho deferido                    3      correto\n",
       "33  1020.2021/0000693-1  Despacho deferido                    3            2\n",
       "38  1020.2022/0020457-3  Despacho deferido                    3      correto\n",
       "39  1020.2021/0003926-0  Despacho deferido                    3      correto\n",
       "41  1020.2021/0018962-9  Despacho deferido                    3            6\n",
       "43  1020.2022/0017701-0  Despacho deferido                    3      correto\n",
       "49  1020.2021/0001810-7  Despacho deferido                    3            5"
      ]
     },
     "execution_count": 25,
     "metadata": {},
     "output_type": "execute_result"
    }
   ],
   "source": [
    "dispatched_count_deferidos = dispatched_count_df.query(\"despacho == 'Despacho deferido'\")[:]\n",
    "dispatched_count_indeferidos = dispatched_count_df.query(\"despacho == 'Despacho indeferido'\")[:]\n",
    "\n",
    "dispatched_count_deferidos['contagem_dom'] = dispatched_count_deferidos.apply(comparador_despachos, args=('dom', dom_deferidos,), axis=1)\n",
    "dispatched_count_indeferidos['contagem_dom'] = dispatched_count_indeferidos.apply(comparador_despachos, args=('dom', dom_indeferidos,), axis=1)\n",
    "\n",
    "dispatched_count_deferidos.head(20)"
   ]
  },
  {
   "cell_type": "markdown",
   "id": "9b04f5ea-a895-4c86-ae4d-6d024cb39290",
   "metadata": {},
   "source": [
    "### Dom para dispatched"
   ]
  },
  {
   "cell_type": "code",
   "execution_count": 26,
   "id": "6251f169-3f4b-4fa9-8d78-7e608c588a60",
   "metadata": {
    "tags": []
   },
   "outputs": [
    {
     "data": {
      "text/html": [
       "<div>\n",
       "<style scoped>\n",
       "    .dataframe tbody tr th:only-of-type {\n",
       "        vertical-align: middle;\n",
       "    }\n",
       "\n",
       "    .dataframe tbody tr th {\n",
       "        vertical-align: top;\n",
       "    }\n",
       "\n",
       "    .dataframe thead th {\n",
       "        text-align: right;\n",
       "    }\n",
       "</style>\n",
       "<table border=\"1\" class=\"dataframe\">\n",
       "  <thead>\n",
       "    <tr style=\"text-align: right;\">\n",
       "      <th></th>\n",
       "      <th>despacho</th>\n",
       "      <th>contagem_dispatched</th>\n",
       "    </tr>\n",
       "    <tr>\n",
       "      <th>processo</th>\n",
       "      <th></th>\n",
       "      <th></th>\n",
       "    </tr>\n",
       "  </thead>\n",
       "  <tbody>\n",
       "    <tr>\n",
       "      <th>1020.2021/0001523-0</th>\n",
       "      <td>Despacho indeferido</td>\n",
       "      <td>4</td>\n",
       "    </tr>\n",
       "    <tr>\n",
       "      <th>1020.2021/0015180-0</th>\n",
       "      <td>Despacho indeferido</td>\n",
       "      <td>4</td>\n",
       "    </tr>\n",
       "    <tr>\n",
       "      <th>1020.2020/0014890-4</th>\n",
       "      <td>Despacho indeferido</td>\n",
       "      <td>3</td>\n",
       "    </tr>\n",
       "    <tr>\n",
       "      <th>1020.2023/0004583-3</th>\n",
       "      <td>Despacho indeferido</td>\n",
       "      <td>3</td>\n",
       "    </tr>\n",
       "    <tr>\n",
       "      <th>1020.2020/0015637-0</th>\n",
       "      <td>Despacho indeferido</td>\n",
       "      <td>3</td>\n",
       "    </tr>\n",
       "    <tr>\n",
       "      <th>...</th>\n",
       "      <td>...</td>\n",
       "      <td>...</td>\n",
       "    </tr>\n",
       "    <tr>\n",
       "      <th>1020.2022/0001181-3</th>\n",
       "      <td>Despacho indeferido</td>\n",
       "      <td>1</td>\n",
       "    </tr>\n",
       "    <tr>\n",
       "      <th>1020.2022/0001182-1</th>\n",
       "      <td>Despacho indeferido</td>\n",
       "      <td>1</td>\n",
       "    </tr>\n",
       "    <tr>\n",
       "      <th>1020.2022/0001184-8</th>\n",
       "      <td>Despacho indeferido</td>\n",
       "      <td>1</td>\n",
       "    </tr>\n",
       "    <tr>\n",
       "      <th>1020.2022/0001190-2</th>\n",
       "      <td>Despacho indeferido</td>\n",
       "      <td>1</td>\n",
       "    </tr>\n",
       "    <tr>\n",
       "      <th>1020.2022/0001191-0</th>\n",
       "      <td>Despacho indeferido</td>\n",
       "      <td>1</td>\n",
       "    </tr>\n",
       "  </tbody>\n",
       "</table>\n",
       "<p>4782 rows × 2 columns</p>\n",
       "</div>"
      ],
      "text/plain": [
       "                                despacho  contagem_dispatched\n",
       "processo                                                     \n",
       "1020.2021/0001523-0  Despacho indeferido                    4\n",
       "1020.2021/0015180-0  Despacho indeferido                    4\n",
       "1020.2020/0014890-4  Despacho indeferido                    3\n",
       "1020.2023/0004583-3  Despacho indeferido                    3\n",
       "1020.2020/0015637-0  Despacho indeferido                    3\n",
       "...                                  ...                  ...\n",
       "1020.2022/0001181-3  Despacho indeferido                    1\n",
       "1020.2022/0001182-1  Despacho indeferido                    1\n",
       "1020.2022/0001184-8  Despacho indeferido                    1\n",
       "1020.2022/0001190-2  Despacho indeferido                    1\n",
       "1020.2022/0001191-0  Despacho indeferido                    1\n",
       "\n",
       "[4782 rows x 2 columns]"
      ]
     },
     "execution_count": 26,
     "metadata": {},
     "output_type": "execute_result"
    }
   ],
   "source": [
    "dispatched_deferidos = dispatched_count_df.query(\"despacho == 'Despacho deferido'\").set_index('processo')\n",
    "dispatched_indeferidos = dispatched_count_df.query(\"despacho == 'Despacho indeferido'\").set_index('processo')\n",
    "\n",
    "dispatched_indeferidos"
   ]
  },
  {
   "cell_type": "code",
   "execution_count": 27,
   "id": "ad39080f-c329-42d5-bfa6-2636bd030dfe",
   "metadata": {
    "tags": []
   },
   "outputs": [
    {
     "data": {
      "text/html": [
       "<div>\n",
       "<style scoped>\n",
       "    .dataframe tbody tr th:only-of-type {\n",
       "        vertical-align: middle;\n",
       "    }\n",
       "\n",
       "    .dataframe tbody tr th {\n",
       "        vertical-align: top;\n",
       "    }\n",
       "\n",
       "    .dataframe thead th {\n",
       "        text-align: right;\n",
       "    }\n",
       "</style>\n",
       "<table border=\"1\" class=\"dataframe\">\n",
       "  <thead>\n",
       "    <tr style=\"text-align: right;\">\n",
       "      <th></th>\n",
       "      <th>processo</th>\n",
       "      <th>despacho</th>\n",
       "      <th>contagem_dom</th>\n",
       "      <th>contagem_dispatched</th>\n",
       "    </tr>\n",
       "  </thead>\n",
       "  <tbody>\n",
       "    <tr>\n",
       "      <th>0</th>\n",
       "      <td>1020.2022/0022993-2</td>\n",
       "      <td>deferido</td>\n",
       "      <td>36</td>\n",
       "      <td>1</td>\n",
       "    </tr>\n",
       "    <tr>\n",
       "      <th>1</th>\n",
       "      <td>1020.2022/0012930-0</td>\n",
       "      <td>deferido</td>\n",
       "      <td>24</td>\n",
       "      <td>2</td>\n",
       "    </tr>\n",
       "    <tr>\n",
       "      <th>4</th>\n",
       "      <td>1020.2022/0009042-0</td>\n",
       "      <td>deferido</td>\n",
       "      <td>10</td>\n",
       "      <td>1</td>\n",
       "    </tr>\n",
       "    <tr>\n",
       "      <th>6</th>\n",
       "      <td>1020.2021/0005918-0</td>\n",
       "      <td>deferido</td>\n",
       "      <td>7</td>\n",
       "      <td>1</td>\n",
       "    </tr>\n",
       "    <tr>\n",
       "      <th>7</th>\n",
       "      <td>1020.2020/0015162-0</td>\n",
       "      <td>deferido</td>\n",
       "      <td>6</td>\n",
       "      <td>1</td>\n",
       "    </tr>\n",
       "    <tr>\n",
       "      <th>8</th>\n",
       "      <td>1020.2021/0018962-9</td>\n",
       "      <td>deferido</td>\n",
       "      <td>6</td>\n",
       "      <td>3</td>\n",
       "    </tr>\n",
       "    <tr>\n",
       "      <th>9</th>\n",
       "      <td>1020.2023/0004409-8</td>\n",
       "      <td>deferido</td>\n",
       "      <td>5</td>\n",
       "      <td>1</td>\n",
       "    </tr>\n",
       "    <tr>\n",
       "      <th>11</th>\n",
       "      <td>1020.2021/0009149-1</td>\n",
       "      <td>deferido</td>\n",
       "      <td>5</td>\n",
       "      <td>2</td>\n",
       "    </tr>\n",
       "    <tr>\n",
       "      <th>12</th>\n",
       "      <td>1020.2021/0001810-7</td>\n",
       "      <td>deferido</td>\n",
       "      <td>5</td>\n",
       "      <td>3</td>\n",
       "    </tr>\n",
       "    <tr>\n",
       "      <th>13</th>\n",
       "      <td>1020.2023/0014777-6</td>\n",
       "      <td>deferido</td>\n",
       "      <td>5</td>\n",
       "      <td>2</td>\n",
       "    </tr>\n",
       "    <tr>\n",
       "      <th>14</th>\n",
       "      <td>1020.2021/0011878-0</td>\n",
       "      <td>deferido</td>\n",
       "      <td>5</td>\n",
       "      <td>2</td>\n",
       "    </tr>\n",
       "    <tr>\n",
       "      <th>16</th>\n",
       "      <td>1020.2023/0007094-3</td>\n",
       "      <td>deferido</td>\n",
       "      <td>4</td>\n",
       "      <td>correto</td>\n",
       "    </tr>\n",
       "    <tr>\n",
       "      <th>18</th>\n",
       "      <td>1020.2022/0016144-0</td>\n",
       "      <td>deferido</td>\n",
       "      <td>4</td>\n",
       "      <td>3</td>\n",
       "    </tr>\n",
       "    <tr>\n",
       "      <th>20</th>\n",
       "      <td>1020.2022/0020297-0</td>\n",
       "      <td>deferido</td>\n",
       "      <td>4</td>\n",
       "      <td>correto</td>\n",
       "    </tr>\n",
       "    <tr>\n",
       "      <th>21</th>\n",
       "      <td>1020.2022/0020300-3</td>\n",
       "      <td>deferido</td>\n",
       "      <td>4</td>\n",
       "      <td>correto</td>\n",
       "    </tr>\n",
       "    <tr>\n",
       "      <th>26</th>\n",
       "      <td>1020.2023/0014463-7</td>\n",
       "      <td>deferido</td>\n",
       "      <td>3</td>\n",
       "      <td>1</td>\n",
       "    </tr>\n",
       "    <tr>\n",
       "      <th>29</th>\n",
       "      <td>1020.2020/0014327-9</td>\n",
       "      <td>deferido</td>\n",
       "      <td>3</td>\n",
       "      <td>correto</td>\n",
       "    </tr>\n",
       "    <tr>\n",
       "      <th>31</th>\n",
       "      <td>1020.2023/0017145-6</td>\n",
       "      <td>deferido</td>\n",
       "      <td>3</td>\n",
       "      <td>1</td>\n",
       "    </tr>\n",
       "    <tr>\n",
       "      <th>32</th>\n",
       "      <td>1020.2022/0020457-3</td>\n",
       "      <td>deferido</td>\n",
       "      <td>3</td>\n",
       "      <td>correto</td>\n",
       "    </tr>\n",
       "    <tr>\n",
       "      <th>33</th>\n",
       "      <td>1020.2023/0006453-6</td>\n",
       "      <td>deferido</td>\n",
       "      <td>3</td>\n",
       "      <td>1</td>\n",
       "    </tr>\n",
       "  </tbody>\n",
       "</table>\n",
       "</div>"
      ],
      "text/plain": [
       "               processo  despacho  contagem_dom contagem_dispatched\n",
       "0   1020.2022/0022993-2  deferido            36                   1\n",
       "1   1020.2022/0012930-0  deferido            24                   2\n",
       "4   1020.2022/0009042-0  deferido            10                   1\n",
       "6   1020.2021/0005918-0  deferido             7                   1\n",
       "7   1020.2020/0015162-0  deferido             6                   1\n",
       "8   1020.2021/0018962-9  deferido             6                   3\n",
       "9   1020.2023/0004409-8  deferido             5                   1\n",
       "11  1020.2021/0009149-1  deferido             5                   2\n",
       "12  1020.2021/0001810-7  deferido             5                   3\n",
       "13  1020.2023/0014777-6  deferido             5                   2\n",
       "14  1020.2021/0011878-0  deferido             5                   2\n",
       "16  1020.2023/0007094-3  deferido             4             correto\n",
       "18  1020.2022/0016144-0  deferido             4                   3\n",
       "20  1020.2022/0020297-0  deferido             4             correto\n",
       "21  1020.2022/0020300-3  deferido             4             correto\n",
       "26  1020.2023/0014463-7  deferido             3                   1\n",
       "29  1020.2020/0014327-9  deferido             3             correto\n",
       "31  1020.2023/0017145-6  deferido             3                   1\n",
       "32  1020.2022/0020457-3  deferido             3             correto\n",
       "33  1020.2023/0006453-6  deferido             3                   1"
      ]
     },
     "execution_count": 27,
     "metadata": {},
     "output_type": "execute_result"
    }
   ],
   "source": [
    "dom_count_deferidos = dom_count_df.query(\"despacho == 'deferido'\")[:]\n",
    "dom_count_indeferidos = dom_count_df.query(\"despacho == 'indeferido'\")[:]\n",
    "\n",
    "dom_count_deferidos['contagem_dispatched'] = dom_count_deferidos.apply(comparador_despachos, args=('dispatched', dispatched_deferidos,), axis=1)\n",
    "dom_count_indeferidos['contagem_dispatched'] = dom_count_indeferidos.apply(comparador_despachos, args=('dispatched', dispatched_indeferidos,), axis=1)\n",
    "\n",
    "dom_count_deferidos.head(20)"
   ]
  },
  {
   "cell_type": "code",
   "execution_count": 28,
   "id": "eb5754e2-8f21-4787-b53b-da532bae0564",
   "metadata": {
    "tags": []
   },
   "outputs": [],
   "source": [
    "concat_container = [dispatched_count_deferidos, dispatched_count_indeferidos]\n",
    "\n",
    "df_final = pd.concat(concat_container)\n",
    "df_final.to_csv('dispatched_x_dom.csv', sep=';', index=False)\n",
    "\n",
    "concat_container = [dom_count_deferidos, dom_count_indeferidos]\n",
    "\n",
    "df_final = pd.concat(concat_container)\n",
    "df_final.to_csv('dom_x_dispatched.csv', sep=';', index=False)"
   ]
  },
  {
   "cell_type": "code",
   "execution_count": null,
   "id": "341b1df6-dafa-479a-a22e-41e7de08d8a0",
   "metadata": {},
   "outputs": [],
   "source": []
  }
 ],
 "metadata": {
  "kernelspec": {
   "display_name": "Python 3 (ipykernel)",
   "language": "python",
   "name": "python3"
  },
  "language_info": {
   "codemirror_mode": {
    "name": "ipython",
    "version": 3
   },
   "file_extension": ".py",
   "mimetype": "text/x-python",
   "name": "python",
   "nbconvert_exporter": "python",
   "pygments_lexer": "ipython3",
   "version": "3.11.5"
  }
 },
 "nbformat": 4,
 "nbformat_minor": 5
}
