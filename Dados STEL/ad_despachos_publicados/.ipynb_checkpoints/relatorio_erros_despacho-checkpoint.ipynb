{
 "cells": [
  {
   "cell_type": "markdown",
   "id": "a4267017-7f7b-473d-910e-c3aadf088959",
   "metadata": {},
   "source": [
    "# Relatorios de Erros em Despachos no Aprova Digital (timeline x dispatched)"
   ]
  },
  {
   "cell_type": "markdown",
   "id": "d51b0bf3-6c59-45cb-bcd5-d4d6666ead03",
   "metadata": {},
   "source": [
    "Alguns erros foram notados em relação aos dados que constam nos despachos do AD. Para o sistema temos o histórico do processo em que constam as datas de emissão do despacho, o usuário responsavel pelo despacho e a unidade a qual esse funcionário pertence. \n",
    "Temos também o registro da comunicação do Aprova Digital com o SEI (quem efetivamente publica os despachos) onde ficam registradas as datas de publicação do despacho, o despacho em si e o documento SEI. Não há, até o momento, um relacionamento por meio de chaves entre esses dois tipos de fontes de despachos.\n",
    "Podemos apontar ainda os despachos já publicados no diário oficial, em que constam o teor do despacho, sua data de publicação e o documento referenciado no SEI.\n",
    "\n",
    "Notamos que existem dissiparidades entre as informações constantes nessas três vias e pretendemos aprofundar o entendimento das causas para elaborar estratégias de saneamento dos dados para fins de criação de regras para uso no BI de SMUL.\n",
    "\n",
    "Inicialmente faremos a comparação de processos da timeline e as diferenças em relção aos 'dispatched_documents', após, a comparação de despachos (via chave documento sei) do 'dispatched documentos' e o efetivamente publicado em diário oficial.\n",
    "\n",
    "O recorte temporal usado para comparar a timeline com o dispatched será toda a história do AD, o recorte temporal usado para comparar o dispatched ao Diário Ofical será de março de 2023 à setembro de 2023, porque é a partir desse período que os dados do diário oficial são apresentados de forma consistente (semiestruturado no período vs desestruturado anteriormente)."
   ]
  },
  {
   "cell_type": "markdown",
   "id": "ae1e6397-7ad2-4a51-a0d6-3c0b9addc134",
   "metadata": {
    "tags": []
   },
   "source": [
    "## Processos que possuem assimetrias entre o que consta na timeline e o que consta em dispatched_documents"
   ]
  },
  {
   "cell_type": "markdown",
   "id": "c4458f35-677f-4109-a23b-79df0401f9a2",
   "metadata": {
    "tags": []
   },
   "source": [
    "### Importação dos dados"
   ]
  },
  {
   "cell_type": "code",
   "execution_count": 1,
   "id": "45ddbaac-683e-41a5-94ba-c31555d8ceba",
   "metadata": {
    "tags": []
   },
   "outputs": [],
   "source": [
    "import pandas as pd"
   ]
  },
  {
   "cell_type": "code",
   "execution_count": 2,
   "id": "f036789b-c890-4b64-8f9e-dc1364d5c35a",
   "metadata": {
    "tags": []
   },
   "outputs": [
    {
     "name": "stdout",
     "output_type": "stream",
     "text": [
      "<class 'pandas.core.frame.DataFrame'>\n",
      "RangeIndex: 18266 entries, 0 to 18265\n",
      "Data columns (total 10 columns):\n",
      " #   Column          Non-Null Count  Dtype \n",
      "---  ------          --------------  ----- \n",
      " 0   id              18266 non-null  object\n",
      " 1   protocolo       18266 non-null  object\n",
      " 2   processo        18266 non-null  object\n",
      " 3   assunto         18266 non-null  object\n",
      " 4   data_extracao   18266 non-null  object\n",
      " 5   despacho        18266 non-null  object\n",
      " 6   data_despacho   18266 non-null  object\n",
      " 7   coord_despacho  12950 non-null  object\n",
      " 8   quem_despachou  18266 non-null  object\n",
      " 9   documento       12761 non-null  object\n",
      "dtypes: object(10)\n",
      "memory usage: 1.4+ MB\n"
     ]
    }
   ],
   "source": [
    "# Carregando tabelas\n",
    "timeline = pd.read_csv('ad_timeline_despachos.csv', sep=';', encoding='latin-1')\n",
    "timeline.info()"
   ]
  },
  {
   "cell_type": "code",
   "execution_count": 3,
   "id": "5974117b-5d9f-4686-a9f9-277fd9e4d631",
   "metadata": {
    "tags": []
   },
   "outputs": [
    {
     "name": "stdout",
     "output_type": "stream",
     "text": [
      "<class 'pandas.core.frame.DataFrame'>\n",
      "RangeIndex: 18081 entries, 0 to 18080\n",
      "Data columns (total 8 columns):\n",
      " #   Column           Non-Null Count  Dtype \n",
      "---  ------           --------------  ----- \n",
      " 0   id               18081 non-null  object\n",
      " 1   protocolo        18081 non-null  object\n",
      " 2   processo         18081 non-null  object\n",
      " 3   assunto          18081 non-null  object\n",
      " 4   despacho         18081 non-null  object\n",
      " 5   data_publicacao  18081 non-null  object\n",
      " 6   documento_sei    18081 non-null  int64 \n",
      " 7   data_extracao    18081 non-null  object\n",
      "dtypes: int64(1), object(7)\n",
      "memory usage: 1.1+ MB\n"
     ]
    }
   ],
   "source": [
    "dispatched = pd.read_csv('ad_dispatched_despachos.csv', sep=';', encoding='latin-1')\n",
    "dispatched.info()"
   ]
  },
  {
   "cell_type": "code",
   "execution_count": 4,
   "id": "0ffc030e-6557-4083-ba26-a053352bc323",
   "metadata": {
    "tags": []
   },
   "outputs": [
    {
     "name": "stdout",
     "output_type": "stream",
     "text": [
      "<class 'pandas.core.frame.DataFrame'>\n",
      "Index: 18015 entries, 0 to 18080\n",
      "Data columns (total 8 columns):\n",
      " #   Column           Non-Null Count  Dtype \n",
      "---  ------           --------------  ----- \n",
      " 0   id               18015 non-null  object\n",
      " 1   protocolo        18015 non-null  object\n",
      " 2   processo         18015 non-null  object\n",
      " 3   assunto          18015 non-null  object\n",
      " 4   despacho         18015 non-null  object\n",
      " 5   data_publicacao  18015 non-null  object\n",
      " 6   documento_sei    18015 non-null  int64 \n",
      " 7   data_extracao    18015 non-null  object\n",
      "dtypes: int64(1), object(7)\n",
      "memory usage: 1.2+ MB\n"
     ]
    }
   ],
   "source": [
    "# Excluindo entrada repetidas que referenciam o mesmo documento\n",
    "dispatched = dispatched.drop_duplicates()\n",
    "dispatched.info()"
   ]
  },
  {
   "cell_type": "markdown",
   "id": "56d94a6f-cb3f-4882-9c0c-23788217c397",
   "metadata": {
    "tags": []
   },
   "source": [
    "### Contagem de despachos"
   ]
  },
  {
   "cell_type": "code",
   "execution_count": 5,
   "id": "fd85c4ba-0435-4cb8-808e-1e6d95773dfc",
   "metadata": {
    "tags": []
   },
   "outputs": [
    {
     "data": {
      "text/plain": [
       "processo             despacho           \n",
       "1020.2022/0001444-8  Processo Indeferido    4\n",
       "1020.2021/0001523-0  Processo Indeferido    4\n",
       "1020.2021/0016233-0  Processo Deferido      4\n",
       "1020.2023/0000111-9  Processo Indeferido    4\n",
       "1020.2022/0004887-3  Processo Deferido      3\n",
       "1020.2020/0014327-9  Processo Deferido      3\n",
       "1020.2021/0012434-9  Processo Indeferido    3\n",
       "1020.2021/0017952-6  Processo Indeferido    3\n",
       "1020.2022/0020501-4  Processo Indeferido    3\n",
       "1020.2020/0015637-0  Processo Indeferido    3\n",
       "1020.2022/0006180-2  Processo Indeferido    3\n",
       "1020.2021/0016665-3  Processo Indeferido    3\n",
       "1020.2021/0003926-0  Processo Deferido      3\n",
       "1020.2020/0014426-7  Processo Deferido      3\n",
       "1020.2021/0005470-7  Processo Deferido      3\n",
       "1020.2022/0023390-5  Processo Indeferido    3\n",
       "1020.2021/0015180-0  Processo Indeferido    3\n",
       "1020.2021/0005368-9  Processo Deferido      3\n",
       "1020.2021/0001261-3  Processo Deferido      3\n",
       "1020.2022/0001726-9  Processo Indeferido    2\n",
       "Name: count, dtype: int64"
      ]
     },
     "execution_count": 5,
     "metadata": {},
     "output_type": "execute_result"
    }
   ],
   "source": [
    "# despachos da timeline\n",
    "timeline_count = timeline[['processo', 'despacho']].value_counts()\n",
    "timeline_count.head(20)"
   ]
  },
  {
   "cell_type": "code",
   "execution_count": 6,
   "id": "43d5c9db-dd95-49f5-bfe1-c1493a3f6449",
   "metadata": {
    "tags": []
   },
   "outputs": [
    {
     "data": {
      "text/plain": [
       "18266"
      ]
     },
     "execution_count": 6,
     "metadata": {},
     "output_type": "execute_result"
    }
   ],
   "source": [
    "timeline_count.sum()"
   ]
  },
  {
   "cell_type": "code",
   "execution_count": 7,
   "id": "3b3ec151-29d8-4da1-8f51-9f61f10f5809",
   "metadata": {
    "tags": []
   },
   "outputs": [
    {
     "data": {
      "text/html": [
       "<div>\n",
       "<style scoped>\n",
       "    .dataframe tbody tr th:only-of-type {\n",
       "        vertical-align: middle;\n",
       "    }\n",
       "\n",
       "    .dataframe tbody tr th {\n",
       "        vertical-align: top;\n",
       "    }\n",
       "\n",
       "    .dataframe thead th {\n",
       "        text-align: right;\n",
       "    }\n",
       "</style>\n",
       "<table border=\"1\" class=\"dataframe\">\n",
       "  <thead>\n",
       "    <tr style=\"text-align: right;\">\n",
       "      <th></th>\n",
       "      <th>processo</th>\n",
       "      <th>despacho</th>\n",
       "      <th>contagem_timeline</th>\n",
       "    </tr>\n",
       "  </thead>\n",
       "  <tbody>\n",
       "    <tr>\n",
       "      <th>1364</th>\n",
       "      <td>1010.2020/0006241-0</td>\n",
       "      <td>Processo Deferido</td>\n",
       "      <td>1</td>\n",
       "    </tr>\n",
       "    <tr>\n",
       "      <th>15009</th>\n",
       "      <td>1010.2020/0006558-3</td>\n",
       "      <td>Processo Deferido</td>\n",
       "      <td>1</td>\n",
       "    </tr>\n",
       "    <tr>\n",
       "      <th>11963</th>\n",
       "      <td>1010.2020/0006559-1</td>\n",
       "      <td>Processo Deferido</td>\n",
       "      <td>1</td>\n",
       "    </tr>\n",
       "    <tr>\n",
       "      <th>11964</th>\n",
       "      <td>1010.2020/0006787-0</td>\n",
       "      <td>Processo Deferido</td>\n",
       "      <td>1</td>\n",
       "    </tr>\n",
       "    <tr>\n",
       "      <th>420</th>\n",
       "      <td>1010.2020/0006790-0</td>\n",
       "      <td>Processo Deferido</td>\n",
       "      <td>2</td>\n",
       "    </tr>\n",
       "    <tr>\n",
       "      <th>11965</th>\n",
       "      <td>1010.2020/0006853-1</td>\n",
       "      <td>Processo Indeferido</td>\n",
       "      <td>1</td>\n",
       "    </tr>\n",
       "    <tr>\n",
       "      <th>11966</th>\n",
       "      <td>1010.2020/0007034-0</td>\n",
       "      <td>Processo Deferido</td>\n",
       "      <td>1</td>\n",
       "    </tr>\n",
       "    <tr>\n",
       "      <th>411</th>\n",
       "      <td>1010.2020/0007035-8</td>\n",
       "      <td>Processo Indeferido</td>\n",
       "      <td>2</td>\n",
       "    </tr>\n",
       "    <tr>\n",
       "      <th>11967</th>\n",
       "      <td>1010.2020/0007037-4</td>\n",
       "      <td>Processo Deferido</td>\n",
       "      <td>1</td>\n",
       "    </tr>\n",
       "    <tr>\n",
       "      <th>11969</th>\n",
       "      <td>1010.2020/0007052-8</td>\n",
       "      <td>Processo Indeferido</td>\n",
       "      <td>1</td>\n",
       "    </tr>\n",
       "    <tr>\n",
       "      <th>11968</th>\n",
       "      <td>1010.2020/0007052-8</td>\n",
       "      <td>Processo Deferido</td>\n",
       "      <td>1</td>\n",
       "    </tr>\n",
       "    <tr>\n",
       "      <th>11970</th>\n",
       "      <td>1010.2020/0007369-1</td>\n",
       "      <td>Processo Deferido</td>\n",
       "      <td>1</td>\n",
       "    </tr>\n",
       "    <tr>\n",
       "      <th>11971</th>\n",
       "      <td>1010.2020/0007370-5</td>\n",
       "      <td>Processo Deferido</td>\n",
       "      <td>1</td>\n",
       "    </tr>\n",
       "    <tr>\n",
       "      <th>11972</th>\n",
       "      <td>1010.2020/0007418-3</td>\n",
       "      <td>Processo Indeferido e Encerrado</td>\n",
       "      <td>1</td>\n",
       "    </tr>\n",
       "    <tr>\n",
       "      <th>428</th>\n",
       "      <td>1010.2020/0007418-3</td>\n",
       "      <td>Processo Indeferido</td>\n",
       "      <td>2</td>\n",
       "    </tr>\n",
       "    <tr>\n",
       "      <th>11973</th>\n",
       "      <td>1010.2020/0007422-1</td>\n",
       "      <td>Processo Indeferido</td>\n",
       "      <td>1</td>\n",
       "    </tr>\n",
       "    <tr>\n",
       "      <th>11974</th>\n",
       "      <td>1010.2020/0007462-0</td>\n",
       "      <td>Processo Deferido</td>\n",
       "      <td>1</td>\n",
       "    </tr>\n",
       "    <tr>\n",
       "      <th>11975</th>\n",
       "      <td>1010.2020/0007463-9</td>\n",
       "      <td>Processo Deferido</td>\n",
       "      <td>1</td>\n",
       "    </tr>\n",
       "    <tr>\n",
       "      <th>11976</th>\n",
       "      <td>1010.2020/0007464-7</td>\n",
       "      <td>Processo Indeferido</td>\n",
       "      <td>1</td>\n",
       "    </tr>\n",
       "    <tr>\n",
       "      <th>11962</th>\n",
       "      <td>1010.2020/0007510-4</td>\n",
       "      <td>Processo Deferido</td>\n",
       "      <td>1</td>\n",
       "    </tr>\n",
       "  </tbody>\n",
       "</table>\n",
       "</div>"
      ],
      "text/plain": [
       "                  processo                         despacho  contagem_timeline\n",
       "1364   1010.2020/0006241-0                Processo Deferido                  1\n",
       "15009  1010.2020/0006558-3                Processo Deferido                  1\n",
       "11963  1010.2020/0006559-1                Processo Deferido                  1\n",
       "11964  1010.2020/0006787-0                Processo Deferido                  1\n",
       "420    1010.2020/0006790-0                Processo Deferido                  2\n",
       "11965  1010.2020/0006853-1              Processo Indeferido                  1\n",
       "11966  1010.2020/0007034-0                Processo Deferido                  1\n",
       "411    1010.2020/0007035-8              Processo Indeferido                  2\n",
       "11967  1010.2020/0007037-4                Processo Deferido                  1\n",
       "11969  1010.2020/0007052-8              Processo Indeferido                  1\n",
       "11968  1010.2020/0007052-8                Processo Deferido                  1\n",
       "11970  1010.2020/0007369-1                Processo Deferido                  1\n",
       "11971  1010.2020/0007370-5                Processo Deferido                  1\n",
       "11972  1010.2020/0007418-3  Processo Indeferido e Encerrado                  1\n",
       "428    1010.2020/0007418-3              Processo Indeferido                  2\n",
       "11973  1010.2020/0007422-1              Processo Indeferido                  1\n",
       "11974  1010.2020/0007462-0                Processo Deferido                  1\n",
       "11975  1010.2020/0007463-9                Processo Deferido                  1\n",
       "11976  1010.2020/0007464-7              Processo Indeferido                  1\n",
       "11962  1010.2020/0007510-4                Processo Deferido                  1"
      ]
     },
     "execution_count": 7,
     "metadata": {},
     "output_type": "execute_result"
    }
   ],
   "source": [
    "# despachos timeline\n",
    "timeline_count_df = timeline_count.reset_index()\n",
    "timeline_count_df.columns = ['processo', 'despacho', 'contagem_timeline']\n",
    "timeline_count_df.sort_values(by='processo').head(20)"
   ]
  },
  {
   "cell_type": "code",
   "execution_count": 8,
   "id": "55c2e107-2f48-4d88-8278-434565da0729",
   "metadata": {
    "tags": []
   },
   "outputs": [
    {
     "data": {
      "text/plain": [
       "18266"
      ]
     },
     "execution_count": 8,
     "metadata": {},
     "output_type": "execute_result"
    }
   ],
   "source": [
    "timeline_count_df['contagem_timeline'].sum()"
   ]
  },
  {
   "cell_type": "code",
   "execution_count": 9,
   "id": "1f1e8cf2-5fcb-447b-9714-5aa8f235facd",
   "metadata": {
    "tags": []
   },
   "outputs": [
    {
     "data": {
      "text/html": [
       "<div>\n",
       "<style scoped>\n",
       "    .dataframe tbody tr th:only-of-type {\n",
       "        vertical-align: middle;\n",
       "    }\n",
       "\n",
       "    .dataframe tbody tr th {\n",
       "        vertical-align: top;\n",
       "    }\n",
       "\n",
       "    .dataframe thead th {\n",
       "        text-align: right;\n",
       "    }\n",
       "</style>\n",
       "<table border=\"1\" class=\"dataframe\">\n",
       "  <thead>\n",
       "    <tr style=\"text-align: right;\">\n",
       "      <th></th>\n",
       "      <th>processo</th>\n",
       "      <th>despacho</th>\n",
       "      <th>contagem_timeline</th>\n",
       "    </tr>\n",
       "  </thead>\n",
       "  <tbody>\n",
       "    <tr>\n",
       "      <th>201</th>\n",
       "      <td>1020.2021/0000549-8</td>\n",
       "      <td>Processo Indeferido</td>\n",
       "      <td>2</td>\n",
       "    </tr>\n",
       "    <tr>\n",
       "      <th>11258</th>\n",
       "      <td>1020.2021/0000549-8</td>\n",
       "      <td>Processo Indeferido e Encerrado</td>\n",
       "      <td>1</td>\n",
       "    </tr>\n",
       "  </tbody>\n",
       "</table>\n",
       "</div>"
      ],
      "text/plain": [
       "                  processo                         despacho  contagem_timeline\n",
       "201    1020.2021/0000549-8              Processo Indeferido                  2\n",
       "11258  1020.2021/0000549-8  Processo Indeferido e Encerrado                  1"
      ]
     },
     "execution_count": 9,
     "metadata": {},
     "output_type": "execute_result"
    }
   ],
   "source": [
    "# Paronizar indeferidos para evitar duplicação de processos\n",
    "timeline_count_df.query(\"processo == '1020.2021/0000549-8'\")"
   ]
  },
  {
   "cell_type": "code",
   "execution_count": 10,
   "id": "51951700-e400-4036-99f0-cc0a14f3ff33",
   "metadata": {
    "tags": []
   },
   "outputs": [
    {
     "data": {
      "text/plain": [
       "despacho\n",
       "Processo Deferido                   12606\n",
       "Processo Indeferido                  3780\n",
       "Processo Indeferido e Encerrado      1397\n",
       "Processo Indeferido e Finalizado        1\n",
       "Name: count, dtype: int64"
      ]
     },
     "execution_count": 10,
     "metadata": {},
     "output_type": "execute_result"
    }
   ],
   "source": [
    "timeline_count_df['despacho'].value_counts()"
   ]
  },
  {
   "cell_type": "code",
   "execution_count": 11,
   "id": "47b9b2b0-3be4-4fc4-bc25-4910806b3357",
   "metadata": {
    "tags": []
   },
   "outputs": [
    {
     "data": {
      "text/plain": [
       "processo             despacho           \n",
       "1020.2021/0001523-0  Despacho indeferido    4\n",
       "1020.2023/0007094-3  Despacho deferido      4\n",
       "1020.2021/0015180-0  Despacho indeferido    4\n",
       "1020.2022/0020300-3  Despacho deferido      4\n",
       "1020.2022/0020297-0  Despacho deferido      4\n",
       "1020.2023/0007666-6  Despacho deferido      3\n",
       "1020.2023/0007651-8  Despacho deferido      3\n",
       "1020.2022/0020307-0  Despacho deferido      3\n",
       "1020.2020/0014890-4  Despacho indeferido    3\n",
       "1020.2023/0004583-3  Despacho indeferido    3\n",
       "1020.2020/0015637-0  Despacho indeferido    3\n",
       "1020.2020/0015164-6  Despacho indeferido    3\n",
       "1020.2022/0020826-9  Despacho deferido      3\n",
       "1020.2020/0016002-5  Despacho indeferido    3\n",
       "1020.2022/0016144-0  Despacho deferido      3\n",
       "1020.2021/0001261-3  Despacho deferido      3\n",
       "1020.2021/0019095-3  Despacho indeferido    3\n",
       "1020.2021/0012434-9  Despacho indeferido    3\n",
       "1020.2021/0016665-3  Despacho indeferido    3\n",
       "1020.2021/0015155-9  Despacho indeferido    3\n",
       "Name: count, dtype: int64"
      ]
     },
     "execution_count": 11,
     "metadata": {},
     "output_type": "execute_result"
    }
   ],
   "source": [
    "# Despachos dispatched\n",
    "dispatched_count = dispatched[['processo', 'despacho']].value_counts()\n",
    "dispatched_count.head(20)"
   ]
  },
  {
   "cell_type": "code",
   "execution_count": 12,
   "id": "d071549c-6872-4f6e-97ac-af5132942af5",
   "metadata": {
    "tags": []
   },
   "outputs": [
    {
     "data": {
      "text/plain": [
       "18015"
      ]
     },
     "execution_count": 12,
     "metadata": {},
     "output_type": "execute_result"
    }
   ],
   "source": [
    "dispatched_count.sum()"
   ]
  },
  {
   "cell_type": "code",
   "execution_count": 13,
   "id": "472ba42d-3c51-436c-a549-59353cbc4c02",
   "metadata": {
    "tags": []
   },
   "outputs": [
    {
     "data": {
      "text/html": [
       "<div>\n",
       "<style scoped>\n",
       "    .dataframe tbody tr th:only-of-type {\n",
       "        vertical-align: middle;\n",
       "    }\n",
       "\n",
       "    .dataframe tbody tr th {\n",
       "        vertical-align: top;\n",
       "    }\n",
       "\n",
       "    .dataframe thead th {\n",
       "        text-align: right;\n",
       "    }\n",
       "</style>\n",
       "<table border=\"1\" class=\"dataframe\">\n",
       "  <thead>\n",
       "    <tr style=\"text-align: right;\">\n",
       "      <th></th>\n",
       "      <th>processo</th>\n",
       "      <th>despacho</th>\n",
       "      <th>contagem_dispatched</th>\n",
       "    </tr>\n",
       "  </thead>\n",
       "  <tbody>\n",
       "    <tr>\n",
       "      <th>912</th>\n",
       "      <td>1010.2020/0006241-0</td>\n",
       "      <td>Despacho deferido</td>\n",
       "      <td>1</td>\n",
       "    </tr>\n",
       "    <tr>\n",
       "      <th>14578</th>\n",
       "      <td>1010.2020/0006558-3</td>\n",
       "      <td>Despacho deferido</td>\n",
       "      <td>1</td>\n",
       "    </tr>\n",
       "    <tr>\n",
       "      <th>11691</th>\n",
       "      <td>1010.2020/0006559-1</td>\n",
       "      <td>Despacho deferido</td>\n",
       "      <td>1</td>\n",
       "    </tr>\n",
       "    <tr>\n",
       "      <th>11692</th>\n",
       "      <td>1010.2020/0006787-0</td>\n",
       "      <td>Despacho deferido</td>\n",
       "      <td>1</td>\n",
       "    </tr>\n",
       "    <tr>\n",
       "      <th>56</th>\n",
       "      <td>1010.2020/0006790-0</td>\n",
       "      <td>Despacho deferido</td>\n",
       "      <td>3</td>\n",
       "    </tr>\n",
       "    <tr>\n",
       "      <th>11693</th>\n",
       "      <td>1010.2020/0006853-1</td>\n",
       "      <td>Despacho indeferido</td>\n",
       "      <td>1</td>\n",
       "    </tr>\n",
       "    <tr>\n",
       "      <th>11694</th>\n",
       "      <td>1010.2020/0007034-0</td>\n",
       "      <td>Despacho deferido</td>\n",
       "      <td>1</td>\n",
       "    </tr>\n",
       "    <tr>\n",
       "      <th>487</th>\n",
       "      <td>1010.2020/0007035-8</td>\n",
       "      <td>Despacho indeferido</td>\n",
       "      <td>2</td>\n",
       "    </tr>\n",
       "    <tr>\n",
       "      <th>11695</th>\n",
       "      <td>1010.2020/0007037-4</td>\n",
       "      <td>Despacho deferido</td>\n",
       "      <td>1</td>\n",
       "    </tr>\n",
       "    <tr>\n",
       "      <th>11697</th>\n",
       "      <td>1010.2020/0007052-8</td>\n",
       "      <td>Despacho indeferido</td>\n",
       "      <td>1</td>\n",
       "    </tr>\n",
       "    <tr>\n",
       "      <th>11696</th>\n",
       "      <td>1010.2020/0007052-8</td>\n",
       "      <td>Despacho deferido</td>\n",
       "      <td>1</td>\n",
       "    </tr>\n",
       "    <tr>\n",
       "      <th>11698</th>\n",
       "      <td>1010.2020/0007369-1</td>\n",
       "      <td>Despacho deferido</td>\n",
       "      <td>1</td>\n",
       "    </tr>\n",
       "    <tr>\n",
       "      <th>11699</th>\n",
       "      <td>1010.2020/0007370-5</td>\n",
       "      <td>Despacho deferido</td>\n",
       "      <td>1</td>\n",
       "    </tr>\n",
       "    <tr>\n",
       "      <th>45</th>\n",
       "      <td>1010.2020/0007418-3</td>\n",
       "      <td>Despacho indeferido</td>\n",
       "      <td>3</td>\n",
       "    </tr>\n",
       "    <tr>\n",
       "      <th>11700</th>\n",
       "      <td>1010.2020/0007422-1</td>\n",
       "      <td>Despacho indeferido</td>\n",
       "      <td>1</td>\n",
       "    </tr>\n",
       "    <tr>\n",
       "      <th>11701</th>\n",
       "      <td>1010.2020/0007462-0</td>\n",
       "      <td>Despacho deferido</td>\n",
       "      <td>1</td>\n",
       "    </tr>\n",
       "    <tr>\n",
       "      <th>11702</th>\n",
       "      <td>1010.2020/0007463-9</td>\n",
       "      <td>Despacho deferido</td>\n",
       "      <td>1</td>\n",
       "    </tr>\n",
       "    <tr>\n",
       "      <th>11703</th>\n",
       "      <td>1010.2020/0007464-7</td>\n",
       "      <td>Despacho indeferido</td>\n",
       "      <td>1</td>\n",
       "    </tr>\n",
       "    <tr>\n",
       "      <th>11704</th>\n",
       "      <td>1010.2020/0007510-4</td>\n",
       "      <td>Despacho deferido</td>\n",
       "      <td>1</td>\n",
       "    </tr>\n",
       "    <tr>\n",
       "      <th>11705</th>\n",
       "      <td>1010.2020/0007567-8</td>\n",
       "      <td>Despacho deferido</td>\n",
       "      <td>1</td>\n",
       "    </tr>\n",
       "  </tbody>\n",
       "</table>\n",
       "</div>"
      ],
      "text/plain": [
       "                  processo             despacho  contagem_dispatched\n",
       "912    1010.2020/0006241-0    Despacho deferido                    1\n",
       "14578  1010.2020/0006558-3    Despacho deferido                    1\n",
       "11691  1010.2020/0006559-1    Despacho deferido                    1\n",
       "11692  1010.2020/0006787-0    Despacho deferido                    1\n",
       "56     1010.2020/0006790-0    Despacho deferido                    3\n",
       "11693  1010.2020/0006853-1  Despacho indeferido                    1\n",
       "11694  1010.2020/0007034-0    Despacho deferido                    1\n",
       "487    1010.2020/0007035-8  Despacho indeferido                    2\n",
       "11695  1010.2020/0007037-4    Despacho deferido                    1\n",
       "11697  1010.2020/0007052-8  Despacho indeferido                    1\n",
       "11696  1010.2020/0007052-8    Despacho deferido                    1\n",
       "11698  1010.2020/0007369-1    Despacho deferido                    1\n",
       "11699  1010.2020/0007370-5    Despacho deferido                    1\n",
       "45     1010.2020/0007418-3  Despacho indeferido                    3\n",
       "11700  1010.2020/0007422-1  Despacho indeferido                    1\n",
       "11701  1010.2020/0007462-0    Despacho deferido                    1\n",
       "11702  1010.2020/0007463-9    Despacho deferido                    1\n",
       "11703  1010.2020/0007464-7  Despacho indeferido                    1\n",
       "11704  1010.2020/0007510-4    Despacho deferido                    1\n",
       "11705  1010.2020/0007567-8    Despacho deferido                    1"
      ]
     },
     "execution_count": 13,
     "metadata": {},
     "output_type": "execute_result"
    }
   ],
   "source": [
    "# despachos dispatched\n",
    "dispatched_count_df = dispatched_count.reset_index()\n",
    "dispatched_count_df.columns = ['processo', 'despacho', 'contagem_dispatched']\n",
    "dispatched_count_df.sort_values(by='processo').head(20)"
   ]
  },
  {
   "cell_type": "code",
   "execution_count": 14,
   "id": "f40023cd-7a27-439d-b4ec-1f527f368f3f",
   "metadata": {
    "tags": []
   },
   "outputs": [
    {
     "data": {
      "text/plain": [
       "18015"
      ]
     },
     "execution_count": 14,
     "metadata": {},
     "output_type": "execute_result"
    }
   ],
   "source": [
    "dispatched_count_df['contagem_dispatched'].sum()"
   ]
  },
  {
   "cell_type": "code",
   "execution_count": 15,
   "id": "c6e45f52-c84b-4b89-9350-8fd5d316c6d3",
   "metadata": {
    "tags": []
   },
   "outputs": [
    {
     "data": {
      "text/plain": [
       "despacho\n",
       "Despacho deferido          12544\n",
       "Despacho indeferido         4782\n",
       "Despacho Documental            2\n",
       "Despacho de Retificação        1\n",
       "Despacho documental            1\n",
       "Name: count, dtype: int64"
      ]
     },
     "execution_count": 15,
     "metadata": {},
     "output_type": "execute_result"
    }
   ],
   "source": [
    "dispatched_count_df['despacho'].value_counts()"
   ]
  },
  {
   "cell_type": "code",
   "execution_count": 16,
   "id": "e6b8342c-ba7d-4897-939b-4b46c6dacd16",
   "metadata": {
    "tags": []
   },
   "outputs": [
    {
     "data": {
      "text/plain": [
       "despacho\n",
       "Processo Deferido                   12606\n",
       "Processo Indeferido                  3780\n",
       "Processo Indeferido e Encerrado      1397\n",
       "Processo Indeferido e Finalizado        1\n",
       "Name: count, dtype: int64"
      ]
     },
     "execution_count": 16,
     "metadata": {},
     "output_type": "execute_result"
    }
   ],
   "source": [
    "timeline_count_df['despacho'].value_counts()"
   ]
  },
  {
   "cell_type": "markdown",
   "id": "832b96f7-e48c-4f34-bd5c-e4413087034e",
   "metadata": {},
   "source": [
    "<b>Achados:</b>"
   ]
  },
  {
   "cell_type": "markdown",
   "id": "e272b24c-1e3c-4650-9762-804dd14b33be",
   "metadata": {},
   "source": [
    "* Nota-se que o numero de despachos é diferente em cada tabela, com a timeline contendo 185 linhas a mais de despachos em relação a dispatched.\n",
    "* Há superioridade de 65 despachos deferidos na extração da timeline\n",
    "* Os despachos não são totalmente compativeis, devendo haver ajustes na extração da timeline para unificar os despachos indeferidos, sendo ainda necessário criar regra para tratamento dos despachos do tipo documental"
   ]
  },
  {
   "cell_type": "code",
   "execution_count": 17,
   "id": "35079cce-f550-4574-ab79-84e13de6337a",
   "metadata": {
    "tags": []
   },
   "outputs": [],
   "source": [
    "timeline = timeline.replace('Processo Indeferido e Encerrado', 'Processo Indeferido')\n",
    "timeline = timeline.replace('Processo Indeferido e Finalizado', 'Processo Indeferido')"
   ]
  },
  {
   "cell_type": "code",
   "execution_count": 18,
   "id": "bda6bf2c-391e-417d-82c9-d49ed83606a1",
   "metadata": {
    "tags": []
   },
   "outputs": [],
   "source": [
    "timeline_count = timeline[['processo', 'despacho']].value_counts()"
   ]
  },
  {
   "cell_type": "code",
   "execution_count": 19,
   "id": "e5da9e34-d536-4f93-aad0-241118ee95e8",
   "metadata": {
    "tags": []
   },
   "outputs": [],
   "source": [
    "timeline_count_df = timeline_count.reset_index()\n",
    "timeline_count_df.columns = ['processo', 'despacho', 'contagem_timeline']"
   ]
  },
  {
   "cell_type": "code",
   "execution_count": 20,
   "id": "2ebbea42-bbcc-4f11-a22b-80c05e1af80f",
   "metadata": {
    "tags": []
   },
   "outputs": [
    {
     "data": {
      "text/plain": [
       "despacho\n",
       "Despacho deferido          12544\n",
       "Despacho indeferido         4782\n",
       "Despacho Documental            2\n",
       "Despacho de Retificação        1\n",
       "Despacho documental            1\n",
       "Name: count, dtype: int64"
      ]
     },
     "execution_count": 20,
     "metadata": {},
     "output_type": "execute_result"
    }
   ],
   "source": [
    "dispatched_count_df['despacho'].value_counts()"
   ]
  },
  {
   "cell_type": "code",
   "execution_count": 21,
   "id": "c645a758-5d0a-4509-be66-d7bb36040371",
   "metadata": {
    "tags": []
   },
   "outputs": [
    {
     "data": {
      "text/plain": [
       "despacho\n",
       "Processo Deferido      12606\n",
       "Processo Indeferido     4832\n",
       "Name: count, dtype: int64"
      ]
     },
     "execution_count": 21,
     "metadata": {},
     "output_type": "execute_result"
    }
   ],
   "source": [
    "timeline_count_df['despacho'].value_counts()"
   ]
  },
  {
   "cell_type": "code",
   "execution_count": 22,
   "id": "c4a1c97d-a469-42dd-999d-b83e40324baa",
   "metadata": {
    "tags": []
   },
   "outputs": [
    {
     "data": {
      "text/plain": [
       "18266"
      ]
     },
     "execution_count": 22,
     "metadata": {},
     "output_type": "execute_result"
    }
   ],
   "source": [
    "timeline_count_df['contagem_timeline'].sum()"
   ]
  },
  {
   "cell_type": "markdown",
   "id": "8984e8a2-4fd9-4df4-bd8b-b567e57969ac",
   "metadata": {},
   "source": [
    "* Após unificação dos indeferidos houeve uma diferença de 52 despachos no total entre despachos da timeline e do dispatched"
   ]
  },
  {
   "cell_type": "markdown",
   "id": "09c25031-6f14-4273-9e38-9ee252990126",
   "metadata": {},
   "source": [
    "### Processos em que constam assimetrias"
   ]
  },
  {
   "cell_type": "markdown",
   "id": "e49a0c2d-160a-4e7e-94eb-5433da3c2548",
   "metadata": {},
   "source": [
    "#### Processos deferidos da timeline que possuem assimetrias no dispatched"
   ]
  },
  {
   "cell_type": "code",
   "execution_count": 23,
   "id": "e9d5c211-d3f6-4335-9fef-1a23d9092776",
   "metadata": {
    "tags": []
   },
   "outputs": [
    {
     "data": {
      "text/html": [
       "<div>\n",
       "<style scoped>\n",
       "    .dataframe tbody tr th:only-of-type {\n",
       "        vertical-align: middle;\n",
       "    }\n",
       "\n",
       "    .dataframe tbody tr th {\n",
       "        vertical-align: top;\n",
       "    }\n",
       "\n",
       "    .dataframe thead th {\n",
       "        text-align: right;\n",
       "    }\n",
       "</style>\n",
       "<table border=\"1\" class=\"dataframe\">\n",
       "  <thead>\n",
       "    <tr style=\"text-align: right;\">\n",
       "      <th></th>\n",
       "      <th>contagem_dispatched</th>\n",
       "    </tr>\n",
       "    <tr>\n",
       "      <th>processo</th>\n",
       "      <th></th>\n",
       "    </tr>\n",
       "  </thead>\n",
       "  <tbody>\n",
       "    <tr>\n",
       "      <th>1020.2023/0007094-3</th>\n",
       "      <td>4</td>\n",
       "    </tr>\n",
       "    <tr>\n",
       "      <th>1020.2022/0020300-3</th>\n",
       "      <td>4</td>\n",
       "    </tr>\n",
       "    <tr>\n",
       "      <th>1020.2022/0020297-0</th>\n",
       "      <td>4</td>\n",
       "    </tr>\n",
       "    <tr>\n",
       "      <th>1020.2023/0007666-6</th>\n",
       "      <td>3</td>\n",
       "    </tr>\n",
       "    <tr>\n",
       "      <th>1020.2023/0007651-8</th>\n",
       "      <td>3</td>\n",
       "    </tr>\n",
       "    <tr>\n",
       "      <th>...</th>\n",
       "      <td>...</td>\n",
       "    </tr>\n",
       "    <tr>\n",
       "      <th>1020.2022/0001186-4</th>\n",
       "      <td>1</td>\n",
       "    </tr>\n",
       "    <tr>\n",
       "      <th>1020.2022/0001187-2</th>\n",
       "      <td>1</td>\n",
       "    </tr>\n",
       "    <tr>\n",
       "      <th>1020.2022/0001188-0</th>\n",
       "      <td>1</td>\n",
       "    </tr>\n",
       "    <tr>\n",
       "      <th>1020.2022/0001189-9</th>\n",
       "      <td>1</td>\n",
       "    </tr>\n",
       "    <tr>\n",
       "      <th>1020.2023/0020060-0</th>\n",
       "      <td>1</td>\n",
       "    </tr>\n",
       "  </tbody>\n",
       "</table>\n",
       "<p>12544 rows × 1 columns</p>\n",
       "</div>"
      ],
      "text/plain": [
       "                     contagem_dispatched\n",
       "processo                                \n",
       "1020.2023/0007094-3                    4\n",
       "1020.2022/0020300-3                    4\n",
       "1020.2022/0020297-0                    4\n",
       "1020.2023/0007666-6                    3\n",
       "1020.2023/0007651-8                    3\n",
       "...                                  ...\n",
       "1020.2022/0001186-4                    1\n",
       "1020.2022/0001187-2                    1\n",
       "1020.2022/0001188-0                    1\n",
       "1020.2022/0001189-9                    1\n",
       "1020.2023/0020060-0                    1\n",
       "\n",
       "[12544 rows x 1 columns]"
      ]
     },
     "execution_count": 23,
     "metadata": {},
     "output_type": "execute_result"
    }
   ],
   "source": [
    "dispatched_deferidos = dispatched_count_df.query(\"despacho == 'Despacho deferido'\")\n",
    "dispatched_deferidos = dispatched_deferidos[['processo', 'contagem_dispatched']].set_index('processo')\n",
    "\n",
    "dispatched_indeferidos = dispatched_count_df.query(\"despacho == 'Despacho indeferido'\")\n",
    "dispatched_indeferidos = dispatched_indeferidos[['processo', 'contagem_dispatched']].set_index('processo')\n",
    "\n",
    "dispatched_deferidos"
   ]
  },
  {
   "cell_type": "code",
   "execution_count": 24,
   "id": "929dad52-22ec-4b06-b56f-f6130b062c62",
   "metadata": {
    "tags": []
   },
   "outputs": [],
   "source": [
    "def comparador_despachos(row, tipo, dados, contra_tipo='dispatched'):\n",
    "    if tipo == 'dispatched':\n",
    "        contra_tipo = 'timeline'        \n",
    "    \n",
    "    x = row['processo']\n",
    "    z = row[f'contagem_{contra_tipo}']\n",
    "    \n",
    "    if x in dados.index:\n",
    "        if dados.loc[x, f'contagem_{tipo}'] == z:\n",
    "            return 'correto'\n",
    "        else:\n",
    "            return dados.loc[x, f'contagem_{tipo}']\n",
    "    else:\n",
    "        return 'inexistente'"
   ]
  },
  {
   "cell_type": "code",
   "execution_count": 25,
   "id": "5504f0b1-80dd-480d-ac99-f41f3e09489d",
   "metadata": {
    "tags": []
   },
   "outputs": [
    {
     "data": {
      "text/html": [
       "<div>\n",
       "<style scoped>\n",
       "    .dataframe tbody tr th:only-of-type {\n",
       "        vertical-align: middle;\n",
       "    }\n",
       "\n",
       "    .dataframe tbody tr th {\n",
       "        vertical-align: top;\n",
       "    }\n",
       "\n",
       "    .dataframe thead th {\n",
       "        text-align: right;\n",
       "    }\n",
       "</style>\n",
       "<table border=\"1\" class=\"dataframe\">\n",
       "  <thead>\n",
       "    <tr style=\"text-align: right;\">\n",
       "      <th></th>\n",
       "      <th>processo</th>\n",
       "      <th>despacho</th>\n",
       "      <th>contagem_timeline</th>\n",
       "      <th>contagem_dispatched</th>\n",
       "    </tr>\n",
       "  </thead>\n",
       "  <tbody>\n",
       "    <tr>\n",
       "      <th>7</th>\n",
       "      <td>1020.2021/0016233-0</td>\n",
       "      <td>Processo Deferido</td>\n",
       "      <td>4</td>\n",
       "      <td>1</td>\n",
       "    </tr>\n",
       "    <tr>\n",
       "      <th>9</th>\n",
       "      <td>1020.2021/0003926-0</td>\n",
       "      <td>Processo Deferido</td>\n",
       "      <td>3</td>\n",
       "      <td>correto</td>\n",
       "    </tr>\n",
       "    <tr>\n",
       "      <th>30</th>\n",
       "      <td>1020.2020/0014426-7</td>\n",
       "      <td>Processo Deferido</td>\n",
       "      <td>3</td>\n",
       "      <td>2</td>\n",
       "    </tr>\n",
       "    <tr>\n",
       "      <th>34</th>\n",
       "      <td>1020.2020/0014327-9</td>\n",
       "      <td>Processo Deferido</td>\n",
       "      <td>3</td>\n",
       "      <td>correto</td>\n",
       "    </tr>\n",
       "    <tr>\n",
       "      <th>45</th>\n",
       "      <td>1020.2021/0001261-3</td>\n",
       "      <td>Processo Deferido</td>\n",
       "      <td>3</td>\n",
       "      <td>correto</td>\n",
       "    </tr>\n",
       "    <tr>\n",
       "      <th>46</th>\n",
       "      <td>1020.2021/0005368-9</td>\n",
       "      <td>Processo Deferido</td>\n",
       "      <td>3</td>\n",
       "      <td>correto</td>\n",
       "    </tr>\n",
       "    <tr>\n",
       "      <th>48</th>\n",
       "      <td>1020.2022/0004887-3</td>\n",
       "      <td>Processo Deferido</td>\n",
       "      <td>3</td>\n",
       "      <td>correto</td>\n",
       "    </tr>\n",
       "    <tr>\n",
       "      <th>51</th>\n",
       "      <td>1020.2021/0005470-7</td>\n",
       "      <td>Processo Deferido</td>\n",
       "      <td>3</td>\n",
       "      <td>correto</td>\n",
       "    </tr>\n",
       "    <tr>\n",
       "      <th>54</th>\n",
       "      <td>1020.2023/0005169-8</td>\n",
       "      <td>Processo Deferido</td>\n",
       "      <td>2</td>\n",
       "      <td>1</td>\n",
       "    </tr>\n",
       "    <tr>\n",
       "      <th>55</th>\n",
       "      <td>1020.2023/0014337-1</td>\n",
       "      <td>Processo Deferido</td>\n",
       "      <td>2</td>\n",
       "      <td>1</td>\n",
       "    </tr>\n",
       "  </tbody>\n",
       "</table>\n",
       "</div>"
      ],
      "text/plain": [
       "               processo           despacho  contagem_timeline  \\\n",
       "7   1020.2021/0016233-0  Processo Deferido                  4   \n",
       "9   1020.2021/0003926-0  Processo Deferido                  3   \n",
       "30  1020.2020/0014426-7  Processo Deferido                  3   \n",
       "34  1020.2020/0014327-9  Processo Deferido                  3   \n",
       "45  1020.2021/0001261-3  Processo Deferido                  3   \n",
       "46  1020.2021/0005368-9  Processo Deferido                  3   \n",
       "48  1020.2022/0004887-3  Processo Deferido                  3   \n",
       "51  1020.2021/0005470-7  Processo Deferido                  3   \n",
       "54  1020.2023/0005169-8  Processo Deferido                  2   \n",
       "55  1020.2023/0014337-1  Processo Deferido                  2   \n",
       "\n",
       "   contagem_dispatched  \n",
       "7                    1  \n",
       "9              correto  \n",
       "30                   2  \n",
       "34             correto  \n",
       "45             correto  \n",
       "46             correto  \n",
       "48             correto  \n",
       "51             correto  \n",
       "54                   1  \n",
       "55                   1  "
      ]
     },
     "execution_count": 25,
     "metadata": {},
     "output_type": "execute_result"
    }
   ],
   "source": [
    "timeline_count_deferidos = timeline_count_df.query(\"despacho == 'Processo Deferido'\")[:]\n",
    "timeline_count_indeferidos = timeline_count_df.query(\"despacho == 'Processo Indeferido'\")[:]\n",
    "\n",
    "timeline_count_deferidos['contagem_dispatched'] = timeline_count_deferidos.apply(comparador_despachos, args=('dispatched', dispatched_deferidos,), axis=1)\n",
    "timeline_count_indeferidos['contagem_dispatched'] = timeline_count_indeferidos.apply(comparador_despachos, args=('dispatched', dispatched_indeferidos,), axis=1)\n",
    "\n",
    "\n",
    "timeline_count_deferidos.head(10)"
   ]
  },
  {
   "cell_type": "code",
   "execution_count": 26,
   "id": "ae080df4-bd8c-47f4-964d-a37c7a9776af",
   "metadata": {
    "tags": []
   },
   "outputs": [
    {
     "data": {
      "text/html": [
       "<div>\n",
       "<style scoped>\n",
       "    .dataframe tbody tr th:only-of-type {\n",
       "        vertical-align: middle;\n",
       "    }\n",
       "\n",
       "    .dataframe tbody tr th {\n",
       "        vertical-align: top;\n",
       "    }\n",
       "\n",
       "    .dataframe thead th {\n",
       "        text-align: right;\n",
       "    }\n",
       "</style>\n",
       "<table border=\"1\" class=\"dataframe\">\n",
       "  <thead>\n",
       "    <tr style=\"text-align: right;\">\n",
       "      <th></th>\n",
       "      <th>processo</th>\n",
       "      <th>despacho</th>\n",
       "      <th>contagem_timeline</th>\n",
       "      <th>contagem_dispatched</th>\n",
       "    </tr>\n",
       "  </thead>\n",
       "  <tbody>\n",
       "  </tbody>\n",
       "</table>\n",
       "</div>"
      ],
      "text/plain": [
       "Empty DataFrame\n",
       "Columns: [processo, despacho, contagem_timeline, contagem_dispatched]\n",
       "Index: []"
      ]
     },
     "execution_count": 26,
     "metadata": {},
     "output_type": "execute_result"
    }
   ],
   "source": [
    "timeline_count_deferidos.query(\"contagem_dispatched == False\")\n",
    "timeline_count_indeferidos.query(\"contagem_dispatched == False\")"
   ]
  },
  {
   "cell_type": "code",
   "execution_count": 27,
   "id": "6bb73627-5689-45a4-833d-5edd5a1384ea",
   "metadata": {
    "tags": []
   },
   "outputs": [
    {
     "data": {
      "text/html": [
       "<div>\n",
       "<style scoped>\n",
       "    .dataframe tbody tr th:only-of-type {\n",
       "        vertical-align: middle;\n",
       "    }\n",
       "\n",
       "    .dataframe tbody tr th {\n",
       "        vertical-align: top;\n",
       "    }\n",
       "\n",
       "    .dataframe thead th {\n",
       "        text-align: right;\n",
       "    }\n",
       "</style>\n",
       "<table border=\"1\" class=\"dataframe\">\n",
       "  <thead>\n",
       "    <tr style=\"text-align: right;\">\n",
       "      <th></th>\n",
       "      <th>processo</th>\n",
       "      <th>despacho</th>\n",
       "      <th>contagem_timeline</th>\n",
       "      <th>contagem_dispatched</th>\n",
       "    </tr>\n",
       "  </thead>\n",
       "  <tbody>\n",
       "    <tr>\n",
       "      <th>7</th>\n",
       "      <td>1020.2021/0016233-0</td>\n",
       "      <td>Processo Deferido</td>\n",
       "      <td>4</td>\n",
       "      <td>1</td>\n",
       "    </tr>\n",
       "    <tr>\n",
       "      <th>30</th>\n",
       "      <td>1020.2020/0014426-7</td>\n",
       "      <td>Processo Deferido</td>\n",
       "      <td>3</td>\n",
       "      <td>2</td>\n",
       "    </tr>\n",
       "    <tr>\n",
       "      <th>54</th>\n",
       "      <td>1020.2023/0005169-8</td>\n",
       "      <td>Processo Deferido</td>\n",
       "      <td>2</td>\n",
       "      <td>1</td>\n",
       "    </tr>\n",
       "    <tr>\n",
       "      <th>55</th>\n",
       "      <td>1020.2023/0014337-1</td>\n",
       "      <td>Processo Deferido</td>\n",
       "      <td>2</td>\n",
       "      <td>1</td>\n",
       "    </tr>\n",
       "    <tr>\n",
       "      <th>63</th>\n",
       "      <td>1020.2021/0010727-4</td>\n",
       "      <td>Processo Deferido</td>\n",
       "      <td>2</td>\n",
       "      <td>1</td>\n",
       "    </tr>\n",
       "    <tr>\n",
       "      <th>71</th>\n",
       "      <td>1020.2022/0019931-6</td>\n",
       "      <td>Processo Deferido</td>\n",
       "      <td>2</td>\n",
       "      <td>1</td>\n",
       "    </tr>\n",
       "    <tr>\n",
       "      <th>86</th>\n",
       "      <td>1020.2022/0000347-0</td>\n",
       "      <td>Processo Deferido</td>\n",
       "      <td>2</td>\n",
       "      <td>1</td>\n",
       "    </tr>\n",
       "    <tr>\n",
       "      <th>102</th>\n",
       "      <td>1020.2021/0011682-6</td>\n",
       "      <td>Processo Deferido</td>\n",
       "      <td>2</td>\n",
       "      <td>1</td>\n",
       "    </tr>\n",
       "    <tr>\n",
       "      <th>167</th>\n",
       "      <td>1020.2022/0019887-5</td>\n",
       "      <td>Processo Deferido</td>\n",
       "      <td>2</td>\n",
       "      <td>1</td>\n",
       "    </tr>\n",
       "    <tr>\n",
       "      <th>216</th>\n",
       "      <td>1020.2021/0011874-8</td>\n",
       "      <td>Processo Deferido</td>\n",
       "      <td>2</td>\n",
       "      <td>1</td>\n",
       "    </tr>\n",
       "  </tbody>\n",
       "</table>\n",
       "</div>"
      ],
      "text/plain": [
       "                processo           despacho  contagem_timeline  \\\n",
       "7    1020.2021/0016233-0  Processo Deferido                  4   \n",
       "30   1020.2020/0014426-7  Processo Deferido                  3   \n",
       "54   1020.2023/0005169-8  Processo Deferido                  2   \n",
       "55   1020.2023/0014337-1  Processo Deferido                  2   \n",
       "63   1020.2021/0010727-4  Processo Deferido                  2   \n",
       "71   1020.2022/0019931-6  Processo Deferido                  2   \n",
       "86   1020.2022/0000347-0  Processo Deferido                  2   \n",
       "102  1020.2021/0011682-6  Processo Deferido                  2   \n",
       "167  1020.2022/0019887-5  Processo Deferido                  2   \n",
       "216  1020.2021/0011874-8  Processo Deferido                  2   \n",
       "\n",
       "    contagem_dispatched  \n",
       "7                     1  \n",
       "30                    2  \n",
       "54                    1  \n",
       "55                    1  \n",
       "63                    1  \n",
       "71                    1  \n",
       "86                    1  \n",
       "102                   1  \n",
       "167                   1  \n",
       "216                   1  "
      ]
     },
     "execution_count": 27,
     "metadata": {},
     "output_type": "execute_result"
    }
   ],
   "source": [
    "# Processos em que a contagem de despachos da timeline difere ou não existe no dispatched\n",
    "timeline_def_erros = timeline_count_deferidos.query(\"contagem_dispatched != 'correto'\")\n",
    "timeline_indef_erros = timeline_count_indeferidos.query(\"contagem_dispatched != 'correto'\")\n",
    "timeline_def_erros.head(10)"
   ]
  },
  {
   "cell_type": "code",
   "execution_count": 28,
   "id": "03b8d63f-b18c-4f42-b33e-9e1e834ae6be",
   "metadata": {
    "tags": []
   },
   "outputs": [],
   "source": []
  },
  {
   "cell_type": "markdown",
   "id": "8e5791f2-d380-47f0-84ba-b290d9394365",
   "metadata": {},
   "source": [
    "#### Processos dispatched que tem inconsistencia na timeline"
   ]
  },
  {
   "cell_type": "code",
   "execution_count": 29,
   "id": "52e6ecb2-f618-47d3-b319-709c2378df72",
   "metadata": {},
   "outputs": [
    {
     "data": {
      "text/html": [
       "<div>\n",
       "<style scoped>\n",
       "    .dataframe tbody tr th:only-of-type {\n",
       "        vertical-align: middle;\n",
       "    }\n",
       "\n",
       "    .dataframe tbody tr th {\n",
       "        vertical-align: top;\n",
       "    }\n",
       "\n",
       "    .dataframe thead th {\n",
       "        text-align: right;\n",
       "    }\n",
       "</style>\n",
       "<table border=\"1\" class=\"dataframe\">\n",
       "  <thead>\n",
       "    <tr style=\"text-align: right;\">\n",
       "      <th></th>\n",
       "      <th>contagem_timeline</th>\n",
       "    </tr>\n",
       "    <tr>\n",
       "      <th>processo</th>\n",
       "      <th></th>\n",
       "    </tr>\n",
       "  </thead>\n",
       "  <tbody>\n",
       "    <tr>\n",
       "      <th>1020.2021/0001523-0</th>\n",
       "      <td>5</td>\n",
       "    </tr>\n",
       "    <tr>\n",
       "      <th>1020.2022/0003098-2</th>\n",
       "      <td>4</td>\n",
       "    </tr>\n",
       "    <tr>\n",
       "      <th>1020.2022/0001444-8</th>\n",
       "      <td>4</td>\n",
       "    </tr>\n",
       "    <tr>\n",
       "      <th>1020.2022/0023390-5</th>\n",
       "      <td>4</td>\n",
       "    </tr>\n",
       "    <tr>\n",
       "      <th>1020.2023/0000111-9</th>\n",
       "      <td>4</td>\n",
       "    </tr>\n",
       "    <tr>\n",
       "      <th>...</th>\n",
       "      <td>...</td>\n",
       "    </tr>\n",
       "    <tr>\n",
       "      <th>1020.2022/0001467-7</th>\n",
       "      <td>1</td>\n",
       "    </tr>\n",
       "    <tr>\n",
       "      <th>1020.2022/0001468-5</th>\n",
       "      <td>1</td>\n",
       "    </tr>\n",
       "    <tr>\n",
       "      <th>1020.2022/0001492-8</th>\n",
       "      <td>1</td>\n",
       "    </tr>\n",
       "    <tr>\n",
       "      <th>1020.2022/0001495-2</th>\n",
       "      <td>1</td>\n",
       "    </tr>\n",
       "    <tr>\n",
       "      <th>1020.2022/0001502-9</th>\n",
       "      <td>1</td>\n",
       "    </tr>\n",
       "  </tbody>\n",
       "</table>\n",
       "<p>4832 rows × 1 columns</p>\n",
       "</div>"
      ],
      "text/plain": [
       "                     contagem_timeline\n",
       "processo                              \n",
       "1020.2021/0001523-0                  5\n",
       "1020.2022/0003098-2                  4\n",
       "1020.2022/0001444-8                  4\n",
       "1020.2022/0023390-5                  4\n",
       "1020.2023/0000111-9                  4\n",
       "...                                ...\n",
       "1020.2022/0001467-7                  1\n",
       "1020.2022/0001468-5                  1\n",
       "1020.2022/0001492-8                  1\n",
       "1020.2022/0001495-2                  1\n",
       "1020.2022/0001502-9                  1\n",
       "\n",
       "[4832 rows x 1 columns]"
      ]
     },
     "execution_count": 29,
     "metadata": {},
     "output_type": "execute_result"
    }
   ],
   "source": [
    "timeline_deferidos = timeline_count_df.query(\"despacho == 'Processo Deferido'\")\n",
    "timeline_deferidos = timeline_deferidos[['processo', 'contagem_timeline']].set_index('processo')\n",
    "\n",
    "timeline_indeferidos = timeline_count_df.query(\"despacho == 'Processo Indeferido'\")\n",
    "timeline_indeferidos = timeline_indeferidos[['processo', 'contagem_timeline']].set_index('processo')\n",
    "\n",
    "timeline_indeferidos"
   ]
  },
  {
   "cell_type": "code",
   "execution_count": 30,
   "id": "f09502c1-57bf-442d-a692-fce13c26ca34",
   "metadata": {
    "tags": []
   },
   "outputs": [
    {
     "data": {
      "text/html": [
       "<div>\n",
       "<style scoped>\n",
       "    .dataframe tbody tr th:only-of-type {\n",
       "        vertical-align: middle;\n",
       "    }\n",
       "\n",
       "    .dataframe tbody tr th {\n",
       "        vertical-align: top;\n",
       "    }\n",
       "\n",
       "    .dataframe thead th {\n",
       "        text-align: right;\n",
       "    }\n",
       "</style>\n",
       "<table border=\"1\" class=\"dataframe\">\n",
       "  <thead>\n",
       "    <tr style=\"text-align: right;\">\n",
       "      <th></th>\n",
       "      <th>processo</th>\n",
       "      <th>despacho</th>\n",
       "      <th>contagem_dispatched</th>\n",
       "      <th>contagem_timeline</th>\n",
       "    </tr>\n",
       "  </thead>\n",
       "  <tbody>\n",
       "    <tr>\n",
       "      <th>1</th>\n",
       "      <td>1020.2023/0007094-3</td>\n",
       "      <td>Despacho deferido</td>\n",
       "      <td>4</td>\n",
       "      <td>1</td>\n",
       "    </tr>\n",
       "    <tr>\n",
       "      <th>3</th>\n",
       "      <td>1020.2022/0020300-3</td>\n",
       "      <td>Despacho deferido</td>\n",
       "      <td>4</td>\n",
       "      <td>1</td>\n",
       "    </tr>\n",
       "    <tr>\n",
       "      <th>4</th>\n",
       "      <td>1020.2022/0020297-0</td>\n",
       "      <td>Despacho deferido</td>\n",
       "      <td>4</td>\n",
       "      <td>1</td>\n",
       "    </tr>\n",
       "    <tr>\n",
       "      <th>5</th>\n",
       "      <td>1020.2023/0007666-6</td>\n",
       "      <td>Despacho deferido</td>\n",
       "      <td>3</td>\n",
       "      <td>1</td>\n",
       "    </tr>\n",
       "    <tr>\n",
       "      <th>6</th>\n",
       "      <td>1020.2023/0007651-8</td>\n",
       "      <td>Despacho deferido</td>\n",
       "      <td>3</td>\n",
       "      <td>1</td>\n",
       "    </tr>\n",
       "    <tr>\n",
       "      <th>7</th>\n",
       "      <td>1020.2022/0020307-0</td>\n",
       "      <td>Despacho deferido</td>\n",
       "      <td>3</td>\n",
       "      <td>1</td>\n",
       "    </tr>\n",
       "    <tr>\n",
       "      <th>12</th>\n",
       "      <td>1020.2022/0020826-9</td>\n",
       "      <td>Despacho deferido</td>\n",
       "      <td>3</td>\n",
       "      <td>1</td>\n",
       "    </tr>\n",
       "    <tr>\n",
       "      <th>14</th>\n",
       "      <td>1020.2022/0016144-0</td>\n",
       "      <td>Despacho deferido</td>\n",
       "      <td>3</td>\n",
       "      <td>1</td>\n",
       "    </tr>\n",
       "    <tr>\n",
       "      <th>15</th>\n",
       "      <td>1020.2021/0001261-3</td>\n",
       "      <td>Despacho deferido</td>\n",
       "      <td>3</td>\n",
       "      <td>correto</td>\n",
       "    </tr>\n",
       "    <tr>\n",
       "      <th>20</th>\n",
       "      <td>1020.2022/0020259-7</td>\n",
       "      <td>Despacho deferido</td>\n",
       "      <td>3</td>\n",
       "      <td>1</td>\n",
       "    </tr>\n",
       "  </tbody>\n",
       "</table>\n",
       "</div>"
      ],
      "text/plain": [
       "               processo           despacho  contagem_dispatched  \\\n",
       "1   1020.2023/0007094-3  Despacho deferido                    4   \n",
       "3   1020.2022/0020300-3  Despacho deferido                    4   \n",
       "4   1020.2022/0020297-0  Despacho deferido                    4   \n",
       "5   1020.2023/0007666-6  Despacho deferido                    3   \n",
       "6   1020.2023/0007651-8  Despacho deferido                    3   \n",
       "7   1020.2022/0020307-0  Despacho deferido                    3   \n",
       "12  1020.2022/0020826-9  Despacho deferido                    3   \n",
       "14  1020.2022/0016144-0  Despacho deferido                    3   \n",
       "15  1020.2021/0001261-3  Despacho deferido                    3   \n",
       "20  1020.2022/0020259-7  Despacho deferido                    3   \n",
       "\n",
       "   contagem_timeline  \n",
       "1                  1  \n",
       "3                  1  \n",
       "4                  1  \n",
       "5                  1  \n",
       "6                  1  \n",
       "7                  1  \n",
       "12                 1  \n",
       "14                 1  \n",
       "15           correto  \n",
       "20                 1  "
      ]
     },
     "execution_count": 30,
     "metadata": {},
     "output_type": "execute_result"
    }
   ],
   "source": [
    "dispatched_count_deferidos = dispatched_count_df.query(\"despacho == 'Despacho deferido'\")[:]\n",
    "dispatched_count_indeferidos = dispatched_count_df.query(\"despacho == 'Despacho indeferido'\")[:]\n",
    "\n",
    "dispatched_count_deferidos['contagem_timeline'] = dispatched_count_deferidos.apply(comparador_despachos, args=('timeline', timeline_deferidos,), axis=1)\n",
    "dispatched_count_indeferidos['contagem_timeline'] = dispatched_count_indeferidos.apply(comparador_despachos, args=('timeline', timeline_indeferidos,), axis=1)\n",
    "\n",
    "\n",
    "dispatched_count_deferidos.head(10)"
   ]
  },
  {
   "cell_type": "code",
   "execution_count": 34,
   "id": "036d5ab2-8de8-418d-83b1-b453c10ad4f9",
   "metadata": {
    "tags": []
   },
   "outputs": [
    {
     "data": {
      "text/html": [
       "<div>\n",
       "<style scoped>\n",
       "    .dataframe tbody tr th:only-of-type {\n",
       "        vertical-align: middle;\n",
       "    }\n",
       "\n",
       "    .dataframe tbody tr th {\n",
       "        vertical-align: top;\n",
       "    }\n",
       "\n",
       "    .dataframe thead th {\n",
       "        text-align: right;\n",
       "    }\n",
       "</style>\n",
       "<table border=\"1\" class=\"dataframe\">\n",
       "  <thead>\n",
       "    <tr style=\"text-align: right;\">\n",
       "      <th></th>\n",
       "      <th>processo</th>\n",
       "      <th>despacho</th>\n",
       "      <th>contagem_dispatched</th>\n",
       "      <th>contagem_timeline</th>\n",
       "    </tr>\n",
       "  </thead>\n",
       "  <tbody>\n",
       "    <tr>\n",
       "      <th>12713</th>\n",
       "      <td>1020.2021/0004218-0</td>\n",
       "      <td>Despacho indeferido</td>\n",
       "      <td>1</td>\n",
       "      <td>correto</td>\n",
       "    </tr>\n",
       "  </tbody>\n",
       "</table>\n",
       "</div>"
      ],
      "text/plain": [
       "                  processo             despacho  contagem_dispatched  \\\n",
       "12713  1020.2021/0004218-0  Despacho indeferido                    1   \n",
       "\n",
       "      contagem_timeline  \n",
       "12713           correto  "
      ]
     },
     "execution_count": 34,
     "metadata": {},
     "output_type": "execute_result"
    }
   ],
   "source": [
    "dispatched_count_indeferidos.query(\"processo == '1020.2021/0004218-0'\")"
   ]
  },
  {
   "cell_type": "code",
   "execution_count": 31,
   "id": "e5d2c95b-119b-4b2d-a0ed-8c559e45be4b",
   "metadata": {
    "tags": []
   },
   "outputs": [
    {
     "data": {
      "text/html": [
       "<div>\n",
       "<style scoped>\n",
       "    .dataframe tbody tr th:only-of-type {\n",
       "        vertical-align: middle;\n",
       "    }\n",
       "\n",
       "    .dataframe tbody tr th {\n",
       "        vertical-align: top;\n",
       "    }\n",
       "\n",
       "    .dataframe thead th {\n",
       "        text-align: right;\n",
       "    }\n",
       "</style>\n",
       "<table border=\"1\" class=\"dataframe\">\n",
       "  <thead>\n",
       "    <tr style=\"text-align: right;\">\n",
       "      <th></th>\n",
       "      <th>processo</th>\n",
       "      <th>despacho</th>\n",
       "      <th>contagem_dispatched</th>\n",
       "      <th>contagem_timeline</th>\n",
       "    </tr>\n",
       "  </thead>\n",
       "  <tbody>\n",
       "    <tr>\n",
       "      <th>1596</th>\n",
       "      <td>1020.2022/0019201-0</td>\n",
       "      <td>Despacho indeferido</td>\n",
       "      <td>1</td>\n",
       "      <td>inexistente</td>\n",
       "    </tr>\n",
       "    <tr>\n",
       "      <th>1692</th>\n",
       "      <td>1020.2022/0019197-8</td>\n",
       "      <td>Despacho indeferido</td>\n",
       "      <td>1</td>\n",
       "      <td>inexistente</td>\n",
       "    </tr>\n",
       "    <tr>\n",
       "      <th>2446</th>\n",
       "      <td>1020.2022/0018880-2</td>\n",
       "      <td>Despacho indeferido</td>\n",
       "      <td>1</td>\n",
       "      <td>inexistente</td>\n",
       "    </tr>\n",
       "    <tr>\n",
       "      <th>6710</th>\n",
       "      <td>1020.2023/0012951-4</td>\n",
       "      <td>Despacho indeferido</td>\n",
       "      <td>1</td>\n",
       "      <td>inexistente</td>\n",
       "    </tr>\n",
       "    <tr>\n",
       "      <th>9643</th>\n",
       "      <td>1020.2021/0008965-9</td>\n",
       "      <td>Despacho indeferido</td>\n",
       "      <td>1</td>\n",
       "      <td>inexistente</td>\n",
       "    </tr>\n",
       "    <tr>\n",
       "      <th>10668</th>\n",
       "      <td>1020.2021/0012284-2</td>\n",
       "      <td>Despacho indeferido</td>\n",
       "      <td>1</td>\n",
       "      <td>inexistente</td>\n",
       "    </tr>\n",
       "    <tr>\n",
       "      <th>12659</th>\n",
       "      <td>1020.2021/0005895-8</td>\n",
       "      <td>Despacho indeferido</td>\n",
       "      <td>1</td>\n",
       "      <td>inexistente</td>\n",
       "    </tr>\n",
       "    <tr>\n",
       "      <th>12839</th>\n",
       "      <td>1020.2021/0004965-7</td>\n",
       "      <td>Despacho indeferido</td>\n",
       "      <td>1</td>\n",
       "      <td>inexistente</td>\n",
       "    </tr>\n",
       "    <tr>\n",
       "      <th>14041</th>\n",
       "      <td>1020.2022/0005392-3</td>\n",
       "      <td>Despacho indeferido</td>\n",
       "      <td>1</td>\n",
       "      <td>inexistente</td>\n",
       "    </tr>\n",
       "  </tbody>\n",
       "</table>\n",
       "</div>"
      ],
      "text/plain": [
       "                  processo             despacho  contagem_dispatched  \\\n",
       "1596   1020.2022/0019201-0  Despacho indeferido                    1   \n",
       "1692   1020.2022/0019197-8  Despacho indeferido                    1   \n",
       "2446   1020.2022/0018880-2  Despacho indeferido                    1   \n",
       "6710   1020.2023/0012951-4  Despacho indeferido                    1   \n",
       "9643   1020.2021/0008965-9  Despacho indeferido                    1   \n",
       "10668  1020.2021/0012284-2  Despacho indeferido                    1   \n",
       "12659  1020.2021/0005895-8  Despacho indeferido                    1   \n",
       "12839  1020.2021/0004965-7  Despacho indeferido                    1   \n",
       "14041  1020.2022/0005392-3  Despacho indeferido                    1   \n",
       "\n",
       "      contagem_timeline  \n",
       "1596        inexistente  \n",
       "1692        inexistente  \n",
       "2446        inexistente  \n",
       "6710        inexistente  \n",
       "9643        inexistente  \n",
       "10668       inexistente  \n",
       "12659       inexistente  \n",
       "12839       inexistente  \n",
       "14041       inexistente  "
      ]
     },
     "execution_count": 31,
     "metadata": {},
     "output_type": "execute_result"
    }
   ],
   "source": [
    "dispatched_count_deferidos.query(\"contagem_timeline == 'inexistente'\")\n",
    "dispatched_count_indeferidos.query(\"contagem_timeline == 'inexistente'\")"
   ]
  },
  {
   "cell_type": "code",
   "execution_count": 32,
   "id": "f7be74c7-14b7-48ca-9c8a-edd3d506c6de",
   "metadata": {
    "tags": []
   },
   "outputs": [
    {
     "data": {
      "text/html": [
       "<div>\n",
       "<style scoped>\n",
       "    .dataframe tbody tr th:only-of-type {\n",
       "        vertical-align: middle;\n",
       "    }\n",
       "\n",
       "    .dataframe tbody tr th {\n",
       "        vertical-align: top;\n",
       "    }\n",
       "\n",
       "    .dataframe thead th {\n",
       "        text-align: right;\n",
       "    }\n",
       "</style>\n",
       "<table border=\"1\" class=\"dataframe\">\n",
       "  <thead>\n",
       "    <tr style=\"text-align: right;\">\n",
       "      <th></th>\n",
       "      <th>processo</th>\n",
       "      <th>despacho</th>\n",
       "      <th>contagem_dispatched</th>\n",
       "      <th>contagem_timeline</th>\n",
       "    </tr>\n",
       "  </thead>\n",
       "  <tbody>\n",
       "    <tr>\n",
       "      <th>0</th>\n",
       "      <td>1020.2021/0001523-0</td>\n",
       "      <td>Despacho indeferido</td>\n",
       "      <td>4</td>\n",
       "      <td>5</td>\n",
       "    </tr>\n",
       "    <tr>\n",
       "      <th>13</th>\n",
       "      <td>1020.2020/0016002-5</td>\n",
       "      <td>Despacho indeferido</td>\n",
       "      <td>3</td>\n",
       "      <td>2</td>\n",
       "    </tr>\n",
       "    <tr>\n",
       "      <th>16</th>\n",
       "      <td>1020.2021/0019095-3</td>\n",
       "      <td>Despacho indeferido</td>\n",
       "      <td>3</td>\n",
       "      <td>2</td>\n",
       "    </tr>\n",
       "    <tr>\n",
       "      <th>23</th>\n",
       "      <td>1020.2020/0016092-0</td>\n",
       "      <td>Despacho indeferido</td>\n",
       "      <td>3</td>\n",
       "      <td>2</td>\n",
       "    </tr>\n",
       "    <tr>\n",
       "      <th>29</th>\n",
       "      <td>1020.2021/0003804-3</td>\n",
       "      <td>Despacho indeferido</td>\n",
       "      <td>3</td>\n",
       "      <td>2</td>\n",
       "    </tr>\n",
       "  </tbody>\n",
       "</table>\n",
       "</div>"
      ],
      "text/plain": [
       "               processo             despacho  contagem_dispatched  \\\n",
       "0   1020.2021/0001523-0  Despacho indeferido                    4   \n",
       "13  1020.2020/0016002-5  Despacho indeferido                    3   \n",
       "16  1020.2021/0019095-3  Despacho indeferido                    3   \n",
       "23  1020.2020/0016092-0  Despacho indeferido                    3   \n",
       "29  1020.2021/0003804-3  Despacho indeferido                    3   \n",
       "\n",
       "   contagem_timeline  \n",
       "0                  5  \n",
       "13                 2  \n",
       "16                 2  \n",
       "23                 2  \n",
       "29                 2  "
      ]
     },
     "execution_count": 32,
     "metadata": {},
     "output_type": "execute_result"
    }
   ],
   "source": [
    "# Processos em que a contagem de despachos da timeline difere ou não existe no dispatched\n",
    "dispatched_def_erros = dispatched_count_deferidos.query(\"contagem_timeline != 'correto'\")\n",
    "dispatched_indef_erros = dispatched_count_indeferidos.query(\"contagem_timeline != 'correto'\")\n",
    "dispatched_indef_erros.head()"
   ]
  },
  {
   "cell_type": "code",
   "execution_count": 33,
   "id": "f9ad0964-f0fe-480e-8bf5-128dcb1b17e5",
   "metadata": {
    "tags": []
   },
   "outputs": [],
   "source": [
    "df_container = [timeline_def_erros, timeline_indef_erros]\n",
    "\n",
    "df_final = pd.concat(df_container)\n",
    "df_final.to_csv('timeline_x_dispatched_erros.csv', sep=';', index=False)\n",
    "\n",
    "df_container = [dispatched_def_erros, dispatched_indef_erros]\n",
    "\n",
    "df_final = pd.concat(df_container)\n",
    "df_final.to_csv('dispatched_x_timeline_erros.csv', sep=';', index=False)"
   ]
  },
  {
   "cell_type": "code",
   "execution_count": null,
   "id": "2a95a318-64fa-4594-9cde-8190882e0c81",
   "metadata": {},
   "outputs": [],
   "source": []
  }
 ],
 "metadata": {
  "kernelspec": {
   "display_name": "Python 3 (ipykernel)",
   "language": "python",
   "name": "python3"
  },
  "language_info": {
   "codemirror_mode": {
    "name": "ipython",
    "version": 3
   },
   "file_extension": ".py",
   "mimetype": "text/x-python",
   "name": "python",
   "nbconvert_exporter": "python",
   "pygments_lexer": "ipython3",
   "version": "3.10.12"
  }
 },
 "nbformat": 4,
 "nbformat_minor": 5
}
