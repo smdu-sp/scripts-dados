{
 "cells": [
  {
   "cell_type": "markdown",
   "metadata": {},
   "source": [
    "### Processos quantitativos"
   ]
  },
  {
   "cell_type": "markdown",
   "metadata": {},
   "source": [
    "Conta processos em uma tabela de acordo com a chave requerida e retorna um relatório sobre a contagem de processos e se houver diferenças, as tabelas mostrando as diferenças.\n",
    "Usa como imputs um txt com o nome do campo a ser considerado como chave primaria em cada tabela e um outro documento com a query a ser utilizada para a extração do banco de BI"
   ]
  },
  {
   "cell_type": "code",
   "execution_count": 32,
   "metadata": {},
   "outputs": [],
   "source": [
    "import pyodbc\n",
    "import pandas as pd\n",
    "import os\n",
    "\n",
    "server = 'd64v38i'\n",
    "username = 'user_sa_licenciamento_leitura_ext'\n",
    "password = '1qEr3@ext'\n",
    "database = 'sa_licenciamento'\n",
    "\n",
    "connection_string = 'DRIVER={SQL Server};SERVER='+server+';DATABASE='+database+';UID='+username+';PWD='+ password\n",
    "\n",
    "# Conectar ao banco de dados\n",
    "connection = pyodbc.connect(connection_string)\n",
    "\n",
    "# Consulta SQL\n",
    "def get_sql_query(query):\n",
    "    return pd.read_sql(query, connection)\n",
    "\n",
    "with open('input_sql.sql', 'r') as file:\n",
    "    sql_query = file.read()"
   ]
  },
  {
   "cell_type": "code",
   "execution_count": 33,
   "metadata": {},
   "outputs": [
    {
     "name": "stderr",
     "output_type": "stream",
     "text": [
      "C:\\Users\\d850398\\AppData\\Local\\Temp\\ipykernel_21748\\2338545163.py:17: UserWarning: pandas only supports SQLAlchemy connectable (engine/connection) or database string URI or sqlite3 DBAPI2 connection. Other DBAPI2 objects are not tested. Please consider using SQLAlchemy.\n",
      "  return pd.read_sql(query, connection)\n"
     ]
    },
    {
     "name": "stdout",
     "output_type": "stream",
     "text": [
      "<class 'pandas.core.frame.DataFrame'>\n",
      "RangeIndex: 31828 entries, 0 to 31827\n",
      "Data columns (total 7 columns):\n",
      " #   Column             Non-Null Count  Dtype \n",
      "---  ------             --------------  ----- \n",
      " 0   sistema            31828 non-null  object\n",
      " 1   processo           31827 non-null  object\n",
      " 2   protocolo          31828 non-null  object\n",
      " 3   dtInclusaoAssunto  30319 non-null  object\n",
      " 4   assunto            31828 non-null  object\n",
      " 5   situacaoAssunto    31828 non-null  object\n",
      " 6   statusDocumento    14938 non-null  object\n",
      "dtypes: object(7)\n",
      "memory usage: 1.7+ MB\n"
     ]
    }
   ],
   "source": [
    "df_bi = get_sql_query(sql_query)\n",
    "df_bi.head()\n",
    "df_bi.info()"
   ]
  },
  {
   "cell_type": "code",
   "execution_count": 22,
   "metadata": {},
   "outputs": [
    {
     "name": "stdout",
     "output_type": "stream",
     "text": [
      "<class 'pandas.core.frame.DataFrame'>\n",
      "RangeIndex: 31561 entries, 0 to 31560\n",
      "Data columns (total 6 columns):\n",
      " #   Column         Non-Null Count  Dtype \n",
      "---  ------         --------------  ----- \n",
      " 0   n_processo     31561 non-null  object\n",
      " 1   data_autuacao  31552 non-null  object\n",
      " 2   assunto        31561 non-null  object\n",
      " 3   coord_atual    31561 non-null  object\n",
      " 4   status         31561 non-null  object\n",
      " 5   data_extracao  31561 non-null  object\n",
      "dtypes: object(6)\n",
      "memory usage: 1.4+ MB\n"
     ]
    }
   ],
   "source": [
    "# Pegando aquivo de entrada\n",
    "for i in os.listdir('arquivos_entrada/'):\n",
    "    if i.endswith('.csv'):\n",
    "        df_comp = pd.read_csv('arquivos_entrada/' + i, sep=';', encoding='latin-1')\n",
    "    elif i.endswith('.xlsx'):\n",
    "        df_comp = pd.read_excel('arquivos_entrada/' + i)\n",
    "\n",
    "df_comp.info()"
   ]
  },
  {
   "cell_type": "code",
   "execution_count": null,
   "metadata": {},
   "outputs": [],
   "source": []
  }
 ],
 "metadata": {
  "kernelspec": {
   "display_name": "relatorio_unificado",
   "language": "python",
   "name": "python3"
  },
  "language_info": {
   "codemirror_mode": {
    "name": "ipython",
    "version": 3
   },
   "file_extension": ".py",
   "mimetype": "text/x-python",
   "name": "python",
   "nbconvert_exporter": "python",
   "pygments_lexer": "ipython3",
   "version": "3.10.13"
  }
 },
 "nbformat": 4,
 "nbformat_minor": 2
}
