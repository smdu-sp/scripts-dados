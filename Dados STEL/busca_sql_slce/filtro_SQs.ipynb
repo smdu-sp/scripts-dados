{
 "cells": [
  {
   "cell_type": "markdown",
   "id": "d012f6c4-01dc-47cd-9623-f5afd00720e4",
   "metadata": {},
   "source": [
    "## Selecão de processos a partir de uma lista de SQs"
   ]
  },
  {
   "cell_type": "code",
   "execution_count": 10,
   "id": "07027589-ce65-4232-b80b-dd4ad8daa235",
   "metadata": {},
   "outputs": [],
   "source": [
    "import pandas as pd"
   ]
  },
  {
   "cell_type": "markdown",
   "id": "520eed2a-f234-4afc-8d27-748d7775d07e",
   "metadata": {},
   "source": [
    "### Importando lista de SQs"
   ]
  },
  {
   "cell_type": "code",
   "execution_count": 16,
   "id": "b26dc052-cba6-4188-ab17-85d0b9184b2a",
   "metadata": {},
   "outputs": [],
   "source": [
    "path_sq = r'C:\\Users\\d850398\\Documents\\STEL\\Entregas\\piu_central_extração prodam nov-23\\SQ_AIU_CENTRO.txt'\n",
    "with open(path_sq, 'r') as txt_file:\n",
    "    sq_list = txt_file.readlines()\n",
    "    \n",
    "sq_list = list(map(lambda x: x[:-1], sq_list))\n",
    "#sq_list"
   ]
  },
  {
   "cell_type": "markdown",
   "id": "4b30793b-d646-4642-98e8-553039fd4bd6",
   "metadata": {},
   "source": [
    "### Aprova Digital"
   ]
  },
  {
   "cell_type": "code",
   "execution_count": 36,
   "id": "b38b9914-4f75-420f-b0fd-d1bf54a7dfed",
   "metadata": {},
   "outputs": [
    {
     "name": "stdout",
     "output_type": "stream",
     "text": [
      "<class 'pandas.core.frame.DataFrame'>\n",
      "RangeIndex: 15455 entries, 0 to 15454\n",
      "Data columns (total 37 columns):\n",
      " #   Column                                   Non-Null Count  Dtype \n",
      "---  ------                                   --------------  ----- \n",
      " 0   Assunto                                  15455 non-null  object\n",
      " 1   Número do processoo                      15455 non-null  object\n",
      " 2   Número SEI                               15455 non-null  object\n",
      " 3   Tipo de Uso                              15455 non-null  object\n",
      " 4   Zonas de Uso                             14050 non-null  object\n",
      " 5   Status                                   15455 non-null  object\n",
      " 6   Contagem de unidades                     15455 non-null  object\n",
      " 7   Data de Criação                          15455 non-null  object\n",
      " 8   Data de Autuação                         15455 non-null  object\n",
      " 9   Data de Deferimento                      5674 non-null   object\n",
      " 10  SQL                                      15455 non-null  object\n",
      " 11  INCRAs                                   15455 non-null  object\n",
      " 12  Área Pública                             15455 non-null  object\n",
      " 13  Endereços                                14049 non-null  object\n",
      " 14  SubPrefeituras                           13880 non-null  object\n",
      " 15  Distrito                                 14049 non-null  object\n",
      " 16  Área Total do Terreno                    15455 non-null  object\n",
      " 17  Área Construída Total                    15452 non-null  object\n",
      " 18  Área Existente                           15455 non-null  object\n",
      " 19  Área à Construir                         15455 non-null  object\n",
      " 20  Área à Reformar                          15455 non-null  object\n",
      " 21  Área à Demolir                           15455 non-null  object\n",
      " 22  Área à Regularizar                       15455 non-null  object\n",
      " 23  N° de Blocos                             14050 non-null  object\n",
      " 24  N° de Pavimentos                         14050 non-null  object\n",
      " 25  N° de Unidades Residenciais              14050 non-null  object\n",
      " 26  N° de Unidades HIS                       14050 non-null  object\n",
      " 27  N° de Unidades HIS1                      14050 non-null  object\n",
      " 28  N° de Unidades HIS2                      14050 non-null  object\n",
      " 29  N° de Unidades HMP                       14050 non-null  object\n",
      " 30  N° de Unidades r2h e r2v                 14050 non-null  object\n",
      " 31  Atividades Não residenciais licenciadas  7805 non-null   object\n",
      " 32  Proprietário                             14050 non-null  object\n",
      " 33  Natureza do proprietário                 14050 non-null  object\n",
      " 34  Link do processo                         15455 non-null  object\n",
      " 35  Data última versão                       15455 non-null  object\n",
      " 36  O Processo foi reaberto?                 15455 non-null  object\n",
      "dtypes: object(37)\n",
      "memory usage: 4.4+ MB\n"
     ]
    }
   ],
   "source": [
    "# Subindo os arquivos\n",
    "path_extracao = r'C:\\Users\\d850398\\Documents\\STEL\\Entregas\\piu_central_extração prodam nov-23'\n",
    "arquivo = r'\\planurbV2_2023-11-22T11-00-08_prod.xlsx'\n",
    "ad = pd.read_excel(path_extracao + arquivo)\n",
    "ad.info()"
   ]
  },
  {
   "cell_type": "code",
   "execution_count": 27,
   "id": "cf7774ca-fec4-42bb-ae6a-cdd3d45ad9f0",
   "metadata": {},
   "outputs": [
    {
     "data": {
      "text/plain": [
       "0             -\n",
       "1        056212\n",
       "2        110343\n",
       "3        093029\n",
       "4        138349\n",
       "          ...  \n",
       "15450    110344\n",
       "15451    149071\n",
       "15452    077252\n",
       "15453    047097\n",
       "15454    086020\n",
       "Name: SQ, Length: 15455, dtype: object"
      ]
     },
     "execution_count": 27,
     "metadata": {},
     "output_type": "execute_result"
    }
   ],
   "source": [
    "ad['SQ'] = ad['SQL'].apply(lambda x: x[:6])\n",
    "ad['SQ']"
   ]
  },
  {
   "cell_type": "code",
   "execution_count": 28,
   "id": "56fec540-6a15-497a-95b8-a28bee5a7aec",
   "metadata": {},
   "outputs": [],
   "source": [
    "ad['AIU_verifc'] = ad['SQ'].apply(lambda x: x in sq_list)"
   ]
  },
  {
   "cell_type": "code",
   "execution_count": 32,
   "id": "edf2c21d-f38b-4a7d-8664-4e7f3e2fd20e",
   "metadata": {},
   "outputs": [],
   "source": [
    "ad_filtrado = ad.query(\"AIU_verifc == True\")"
   ]
  },
  {
   "cell_type": "code",
   "execution_count": 40,
   "id": "8e8d7622-8868-4400-8159-b37236ed0320",
   "metadata": {},
   "outputs": [],
   "source": [
    "ad_filtrado.to_excel(path_extracao + r'\\ad_filtrado.xlsx', index=False)"
   ]
  },
  {
   "cell_type": "code",
   "execution_count": null,
   "id": "49a4d454-9bbb-4b2b-9666-461327057c29",
   "metadata": {},
   "outputs": [],
   "source": []
  }
 ],
 "metadata": {
  "kernelspec": {
   "display_name": "Python 3 (ipykernel)",
   "language": "python",
   "name": "python3"
  },
  "language_info": {
   "codemirror_mode": {
    "name": "ipython",
    "version": 3
   },
   "file_extension": ".py",
   "mimetype": "text/x-python",
   "name": "python",
   "nbconvert_exporter": "python",
   "pygments_lexer": "ipython3",
   "version": "3.10.13"
  }
 },
 "nbformat": 4,
 "nbformat_minor": 5
}
