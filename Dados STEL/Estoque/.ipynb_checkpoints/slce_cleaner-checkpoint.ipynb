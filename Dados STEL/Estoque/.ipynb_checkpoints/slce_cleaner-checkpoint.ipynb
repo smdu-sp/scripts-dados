{
 "cells": [
  {
   "cell_type": "code",
   "execution_count": 1,
   "id": "dd75b2ed-0fba-44f6-8c67-f4ca8f588f1c",
   "metadata": {
    "tags": []
   },
   "outputs": [],
   "source": [
    "import pandas as pd\n",
    "import os "
   ]
  },
  {
   "cell_type": "code",
   "execution_count": 2,
   "id": "eeed631a-fa52-4547-9c4c-e07491dc1d8a",
   "metadata": {
    "tags": []
   },
   "outputs": [],
   "source": [
    "dados = pd.read_excel('raw_data\\slce.xlsx')"
   ]
  },
  {
   "cell_type": "code",
   "execution_count": 3,
   "id": "1948cb82-1dca-4b2c-a35d-8aecc3416fe9",
   "metadata": {
    "tags": []
   },
   "outputs": [],
   "source": [
    "dados.columns = [\"dt_abertura\", \"n_processos\", \"n_protocolo\",\"assunto\",\"aditivo\",\"tipo_requerimento\",\"competencia\",\"unidade\",\"status\"] "
   ]
  },
  {
   "cell_type": "code",
   "execution_count": 4,
   "id": "f9cd1f77-9e50-4bff-a698-e47c7a7e8683",
   "metadata": {
    "tags": []
   },
   "outputs": [
    {
     "name": "stdout",
     "output_type": "stream",
     "text": [
      "unidade\n",
      "CAEPP-DERPP            17135\n",
      "COMIN-GTEA             14755\n",
      "CAEPP                   6170\n",
      "RESID                    799\n",
      "COMIN                    421\n",
      "SERVIN                   231\n",
      "PARHIS-G                 227\n",
      "Processo Eletrônico      181\n",
      "GAB                       62\n",
      "PARHIS-3                  36\n",
      "PARHIS-DPS                27\n",
      "CONTRU-G                  20\n",
      "Name: count, dtype: int64\n"
     ]
    }
   ],
   "source": [
    "contagem = dados['unidade'].value_counts()\n",
    "print(contagem)"
   ]
  },
  {
   "cell_type": "code",
   "execution_count": 5,
   "id": "119d55fc-f774-4948-bdfe-449f2f5ba936",
   "metadata": {
    "tags": []
   },
   "outputs": [],
   "source": [
    "# Suponha que temos um DataFrame chamado 'dados' e queremos agrupar por uma coluna\n",
    "coluna = 'unidade'  # Substitua pelo nome correto da coluna\n",
    "value_counts = dados[coluna].value_counts()  # Conta os valores únicos na coluna"
   ]
  },
  {
   "cell_type": "code",
   "execution_count": 6,
   "id": "826a65b3-77a4-43fe-9a21-f7978f0393ac",
   "metadata": {
    "tags": []
   },
   "outputs": [],
   "source": [
    "grupos = dados.groupby(coluna)"
   ]
  },
  {
   "cell_type": "code",
   "execution_count": 7,
   "id": "45c664af-2efd-488e-9141-86cd560baec2",
   "metadata": {
    "tags": []
   },
   "outputs": [],
   "source": [
    "tabelas = {}"
   ]
  },
  {
   "cell_type": "code",
   "execution_count": 8,
   "id": "d00f6fca-226b-4bff-8870-941882647796",
   "metadata": {
    "tags": []
   },
   "outputs": [
    {
     "name": "stdout",
     "output_type": "stream",
     "text": [
      "Tabela para 'CAEPP':\n",
      "              dt_abertura       n_processos n_protocolo  \\\n",
      "13269 2021-01-06 13:28:51  2021-0.000.052-3    39276-20   \n",
      "13289 2021-01-06 16:38:09  2021-0.000.077-9    11223-22   \n",
      "13303 2021-01-06 20:16:08  2021-0.000.101-5    32423-22   \n",
      "13306 2021-01-06 20:20:19  2021-0.000.103-1    38770-20   \n",
      "13309 2021-01-07 18:22:15  2021-0.000.117-1    38045-20   \n",
      "\n",
      "                                      assunto        aditivo  \\\n",
      "13269  Alvará de Aprovação de Edificação Nova        Inicial   \n",
      "13289  Alvará de Aprovação de Edificação Nova  Apostilamento   \n",
      "13303          Alvará de Aprovação de Reforma        Inicial   \n",
      "13306  Alvará de Aprovação de Edificação Nova        Inicial   \n",
      "13309          Alvará de Aprovação de Reforma        Inicial   \n",
      "\n",
      "      tipo_requerimento competencia unidade                status  \n",
      "13269           Inicial        SMUL   CAEPP            Em Análise  \n",
      "13289        1º Recurso        SMUL   CAEPP  Deferido - Encerrado  \n",
      "13303        1º Recurso        SMUL   CAEPP            Em Análise  \n",
      "13306           Inicial        SMUL   CAEPP            Em Análise  \n",
      "13309           Inicial        SMUL   CAEPP            Em Análise   \n",
      "\n",
      "Tabela para 'CAEPP-DERPP':\n",
      "             dt_abertura       n_processos n_protocolo  \\\n",
      "1643 2015-04-17 18:01:25  2015-0.100.698-0      367-18   \n",
      "1644 2015-04-17 18:01:25  2015-0.100.698-0    10715-15   \n",
      "1645 2015-04-17 18:01:25  2015-0.100.698-0    24504-18   \n",
      "1646 2015-04-17 18:01:34  2015-0.100.699-8    13212-15   \n",
      "1648 2015-04-20 18:01:30  2015-0.100.964-4    17555-15   \n",
      "\n",
      "                                               assunto  aditivo  \\\n",
      "1643  Alvará de Licença para Residências Unifamiliares  Inicial   \n",
      "1644  Alvará de Licença para Residências Unifamiliares  Inicial   \n",
      "1645  Alvará de Licença para Residências Unifamiliares  Inicial   \n",
      "1646  Alvará de Licença para Residências Unifamiliares  Inicial   \n",
      "1648  Alvará de Licença para Residências Unifamiliares  Inicial   \n",
      "\n",
      "     tipo_requerimento competencia      unidade                status  \n",
      "1643        1º Recurso        SMUL  CAEPP-DERPP            Indeferido  \n",
      "1644           Inicial        SMUL  CAEPP-DERPP            Indeferido  \n",
      "1645        2º Recurso        SMUL  CAEPP-DERPP  Deferido - Encerrado  \n",
      "1646           Inicial        SMUL  CAEPP-DERPP            Indeferido  \n",
      "1648    Reconsideração        SMUL  CAEPP-DERPP            Indeferido   \n",
      "\n",
      "Tabela para 'COMIN':\n",
      "           dt_abertura       n_processos n_protocolo  \\\n",
      "1  2012-10-10 16:54:55  2012-0.292.419-7      757-12   \n",
      "12 2012-10-19 12:01:25  2012-0.300.546-2     1537-12   \n",
      "15 2012-10-23 12:07:05  2012-0.303.353-9     1927-12   \n",
      "17 2012-10-23 12:07:47  2012-0.303.361-0     1379-12   \n",
      "18 2012-10-23 12:08:35  2012-0.303.364-4      326-14   \n",
      "\n",
      "                                   assunto  aditivo tipo_requerimento  \\\n",
      "1   Alvará de Aprovação de Edificação Nova  Inicial           Inicial   \n",
      "12          Alvará de Aprovação de Reforma  Inicial           Inicial   \n",
      "15          Alvará de Aprovação de Reforma  Inicial           Inicial   \n",
      "17          Alvará de Aprovação de Reforma  Inicial           Inicial   \n",
      "18  Alvará de Aprovação de Edificação Nova  Inicial    Reconsideração   \n",
      "\n",
      "   competencia unidade           status  \n",
      "1         SMUL   COMIN  Processo Físico  \n",
      "12        SMUL   COMIN  Processo Físico  \n",
      "15        SMUL   COMIN  Processo Físico  \n",
      "17        SMUL   COMIN  Processo Físico  \n",
      "18        SMUL   COMIN       Em Análise   \n",
      "\n",
      "Tabela para 'COMIN-GTEA':\n",
      "              dt_abertura       n_processos n_protocolo  \\\n",
      "13248 2021-01-05 13:46:11  2021-0.000.010-8    39379-20   \n",
      "13251 2021-01-06 09:36:21  2021-0.000.025-6    32950-20   \n",
      "13252 2021-01-06 10:25:54  2021-0.000.026-4    39411-20   \n",
      "13253 2021-01-06 11:30:40  2021-0.000.029-9    39187-20   \n",
      "13254 2021-01-06 11:45:16  2021-0.000.030-2    39409-20   \n",
      "\n",
      "                                      assunto  aditivo tipo_requerimento  \\\n",
      "13248         Alvará de Execução de Demolição  Inicial           Inicial   \n",
      "13251         Alvará de Execução de Demolição  Inicial           Inicial   \n",
      "13252          Alvará de Aprovação de Reforma  Inicial           Inicial   \n",
      "13253         Alvará de Execução de Demolição  Inicial           Inicial   \n",
      "13254  Alvará de Aprovação de Edificação Nova  Inicial           Inicial   \n",
      "\n",
      "      competencia     unidade                  status  \n",
      "13248        SMUL  COMIN-GTEA  Indeferido - Encerrado  \n",
      "13251        SMUL  COMIN-GTEA    Deferido - Encerrado  \n",
      "13252        SMUL  COMIN-GTEA              Indeferido  \n",
      "13253        SMUL  COMIN-GTEA              Indeferido  \n",
      "13254        SMUL  COMIN-GTEA  Indeferido - Encerrado   \n",
      "\n",
      "Tabela para 'CONTRU-G':\n",
      "             dt_abertura       n_processos n_protocolo  \\\n",
      "371  2013-01-31 13:42:16  2013-0.029.964-5     1582-13   \n",
      "376  2013-01-31 14:39:38  2013-0.030.158-5     1584-13   \n",
      "930  2013-05-16 14:14:41  2013-0.141.216-0     9133-13   \n",
      "990  2013-06-20 12:19:40  2013-0.174.568-1     9777-13   \n",
      "1110 2013-09-28 12:04:40  2013-0.286.505-2    19615-13   \n",
      "\n",
      "                                     assunto  aditivo tipo_requerimento  \\\n",
      "371            Alvará de Execução de Reforma  Inicial           Inicial   \n",
      "376            Alvará de Execução de Reforma  Inicial           Inicial   \n",
      "930    Alvará de Execução de Edificação Nova  Inicial           Inicial   \n",
      "990   Alvará de Aprovação de Edificação Nova  Inicial           Inicial   \n",
      "1110  Alvará de Aprovação de Edificação Nova  Inicial           Inicial   \n",
      "\n",
      "     competencia   unidade           status  \n",
      "371         SMUL  CONTRU-G       Indeferido  \n",
      "376         SMUL  CONTRU-G       Indeferido  \n",
      "930         SMUL  CONTRU-G       Indeferido  \n",
      "990         SMUL  CONTRU-G  Processo Físico  \n",
      "1110        SMUL  CONTRU-G       Em Análise   \n",
      "\n",
      "Tabela para 'GAB':\n",
      "             dt_abertura       n_processos n_protocolo  \\\n",
      "46   2012-11-05 11:15:27  2012-0.314.084-0     2466-12   \n",
      "705  2013-04-03 18:27:06  2013-0.095.329-9     3620-13   \n",
      "1239 2014-02-14 08:19:26  2014-0.045.213-5     2175-14   \n",
      "1316 2014-05-08 12:06:41  2014-0.128.681-6    11527-14   \n",
      "1357 2014-06-09 12:18:05  2014-0.160.825-2    14987-14   \n",
      "\n",
      "                             assunto  aditivo tipo_requerimento competencia  \\\n",
      "46     Alvará de Execução de Reforma  Inicial           Inicial        SMUL   \n",
      "705   Alvará de Aprovação de Reforma  Inicial           Inicial        SMUL   \n",
      "1239  Alvará de Aprovação de Reforma  Inicial           Inicial        SMUL   \n",
      "1316  Alvará de Aprovação de Reforma  Inicial           Inicial        SMUL   \n",
      "1357   Alvará de Execução de Reforma  Inicial           Inicial        SMUL   \n",
      "\n",
      "     unidade           status  \n",
      "46       GAB       Indeferido  \n",
      "705      GAB  Processo Físico  \n",
      "1239     GAB       Indeferido  \n",
      "1316     GAB       Indeferido  \n",
      "1357     GAB       Indeferido   \n",
      "\n",
      "Tabela para 'PARHIS-3':\n",
      "            dt_abertura       n_processos n_protocolo  \\\n",
      "16  2012-10-23 12:07:40  2012-0.303.359-8      777-12   \n",
      "82  2012-11-22 18:11:32  2012-0.327.823-0     3407-12   \n",
      "134 2012-12-05 12:02:27  2012-0.339.612-7     4007-12   \n",
      "135 2012-12-05 12:02:50  2012-0.339.616-0     4123-12   \n",
      "148 2012-12-07 12:10:32  2012-0.342.434-1     5045-12   \n",
      "\n",
      "                             assunto  aditivo tipo_requerimento competencia  \\\n",
      "16        Alvará de Desdobro de Lote  Inicial           Inicial        SMUL   \n",
      "82        Alvará de Desdobro de Lote  Inicial           Inicial        SMUL   \n",
      "134       Alvará de Desdobro de Lote  Inicial           Inicial        SMUL   \n",
      "135  Alvará de Remembramento de Lote  Inicial           Inicial        SMUL   \n",
      "148       Alvará de Desdobro de Lote  Inicial           Inicial        SMUL   \n",
      "\n",
      "      unidade      status  \n",
      "16   PARHIS-3  Em Análise  \n",
      "82   PARHIS-3  Em Análise  \n",
      "134  PARHIS-3  Em Análise  \n",
      "135  PARHIS-3  Em Análise  \n",
      "148  PARHIS-3  Em Análise   \n",
      "\n",
      "Tabela para 'PARHIS-DPS':\n",
      "              dt_abertura       n_processos n_protocolo  \\\n",
      "13719 2021-01-22 19:47:53  2021-0.000.775-7     1688-21   \n",
      "13870 2021-02-03 19:31:26  2021-0.001.014-6    38907-20   \n",
      "14505 2021-02-23 23:54:44  2021-0.002.179-2     9166-23   \n",
      "15201 2021-03-18 19:36:51  2021-0.003.076-7     8684-21   \n",
      "15236 2021-03-22 13:29:40  2021-0.003.110-0    21155-22   \n",
      "\n",
      "                                assunto  aditivo tipo_requerimento  \\\n",
      "13719  Alvará de Desmembramento de Lote  Inicial           Inicial   \n",
      "13870  Alvará de Desmembramento de Lote  Inicial           Inicial   \n",
      "14505  Alvará de Desmembramento de Lote  Inicial    Reconsideração   \n",
      "15201  Alvará de Desmembramento de Lote  Inicial           Inicial   \n",
      "15236  Alvará de Desmembramento de Lote  Inicial    Reconsideração   \n",
      "\n",
      "      competencia     unidade                status  \n",
      "13719        SMUL  PARHIS-DPS            Em Análise  \n",
      "13870        SMUL  PARHIS-DPS  Deferido - Encerrado  \n",
      "14505        SMUL  PARHIS-DPS            Em Análise  \n",
      "15201        SMUL  PARHIS-DPS            Em Análise  \n",
      "15236        SMUL  PARHIS-DPS            Em Análise   \n",
      "\n",
      "Tabela para 'PARHIS-G':\n",
      "           dt_abertura       n_processos n_protocolo  \\\n",
      "20 2012-10-23 16:12:31  2012-0.304.155-8     1155-12   \n",
      "21 2012-10-23 16:13:36  2012-0.304.159-0     2006-12   \n",
      "22 2012-10-23 16:14:16  2012-0.304.163-9     2013-12   \n",
      "26 2012-10-24 16:12:03  2012-0.305.552-4      620-12   \n",
      "40 2012-10-29 15:46:52  2012-0.309.313-2     1861-12   \n",
      "\n",
      "                                   assunto  aditivo tipo_requerimento  \\\n",
      "20  Alvará de Aprovação de Edificação Nova  Inicial           Inicial   \n",
      "21  Alvará de Aprovação de Edificação Nova  Inicial           Inicial   \n",
      "22  Alvará de Aprovação de Edificação Nova  Inicial           Inicial   \n",
      "26  Alvará de Aprovação de Edificação Nova  Inicial           Inicial   \n",
      "40  Alvará de Aprovação de Edificação Nova  Inicial           Inicial   \n",
      "\n",
      "   competencia   unidade           status  \n",
      "20        SMUL  PARHIS-G  Processo Físico  \n",
      "21        SMUL  PARHIS-G  Processo Físico  \n",
      "22        SMUL  PARHIS-G  Processo Físico  \n",
      "26        SMUL  PARHIS-G  Processo Físico  \n",
      "40        SMUL  PARHIS-G  Processo Físico   \n",
      "\n",
      "Tabela para 'Processo Eletrônico':\n",
      "              dt_abertura       n_processos n_protocolo  \\\n",
      "14489 2021-02-23 21:02:00  2021-0.002.165-2     3074-21   \n",
      "14490 2021-02-23 21:02:03  2021-0.002.166-0     3061-21   \n",
      "14499 2021-02-23 21:36:25  2021-0.002.175-0     4338-21   \n",
      "14501 2021-02-23 21:41:20  2021-0.002.177-6     4277-21   \n",
      "14514 2021-02-24 13:48:21  2021-0.002.213-6     4442-21   \n",
      "\n",
      "                                                 assunto  aditivo  \\\n",
      "14489  Alvará de Autorização para avanço de Tapume so...  Inicial   \n",
      "14490  Alvará de Autorização de Implantação e/ou Util...  Inicial   \n",
      "14499  Alvará de Autorização para avanço de Tapume so...  Inicial   \n",
      "14501  Alvará de Autorização de Implantação e/ou Util...  Inicial   \n",
      "14514  Alvará de Autorização de Implantação e/ou Util...  Inicial   \n",
      "\n",
      "      tipo_requerimento competencia              unidade                status  \n",
      "14489           Inicial        SMUL  Processo Eletrônico  Deferido - Encerrado  \n",
      "14490           Inicial        SMUL  Processo Eletrônico  Deferido - Encerrado  \n",
      "14499           Inicial        SMUL  Processo Eletrônico  Deferido - Encerrado  \n",
      "14501           Inicial        SMUL  Processo Eletrônico  Deferido - Encerrado  \n",
      "14514           Inicial        SMUL  Processo Eletrônico  Deferido - Encerrado   \n",
      "\n",
      "Tabela para 'RESID':\n",
      "          dt_abertura       n_processos n_protocolo  \\\n",
      "0 2012-10-10 16:40:29  2012-0.292.377-8      275-12   \n",
      "2 2012-10-10 17:01:45  2012-0.292.446-4      419-12   \n",
      "4 2012-10-17 10:08:35  2012-0.297.052-0      836-12   \n",
      "5 2012-10-17 10:08:35  2012-0.297.053-9      278-12   \n",
      "6 2012-10-17 10:09:00  2012-0.297.054-7      674-12   \n",
      "\n",
      "                                  assunto  aditivo tipo_requerimento  \\\n",
      "0  Alvará de Aprovação de Edificação Nova  Inicial           Inicial   \n",
      "2          Alvará de Aprovação de Reforma  Inicial           Inicial   \n",
      "4  Alvará de Aprovação de Edificação Nova  Inicial           Inicial   \n",
      "5          Alvará de Aprovação de Reforma  Inicial           Inicial   \n",
      "6          Alvará de Aprovação de Reforma  Inicial           Inicial   \n",
      "\n",
      "  competencia unidade                status  \n",
      "0        SMUL   RESID       Processo Físico  \n",
      "2        SMUL   RESID  Deferido - Encerrado  \n",
      "4        SMUL   RESID       Processo Físico  \n",
      "5        SMUL   RESID            Indeferido  \n",
      "6        SMUL   RESID       Processo Físico   \n",
      "\n",
      "Tabela para 'SERVIN':\n",
      "           dt_abertura       n_processos n_protocolo  \\\n",
      "3  2012-10-16 16:53:27  2012-0.296.832-1      393-12   \n",
      "9  2012-10-17 10:35:54  2012-0.297.168-3      901-12   \n",
      "13 2012-10-23 12:06:34  2012-0.303.346-6     1775-12   \n",
      "30 2012-10-26 12:00:49  2012-0.307.514-2     2071-12   \n",
      "35 2012-10-29 11:55:12  2012-0.308.718-3     1373-12   \n",
      "\n",
      "                                   assunto  aditivo tipo_requerimento  \\\n",
      "3   Alvará de Aprovação de Edificação Nova  Inicial           Inicial   \n",
      "9           Alvará de Aprovação de Reforma  Inicial           Inicial   \n",
      "13          Alvará de Aprovação de Reforma  Inicial           Inicial   \n",
      "30          Alvará de Aprovação de Reforma  Inicial           Inicial   \n",
      "35  Alvará de Aprovação de Edificação Nova  Inicial           Inicial   \n",
      "\n",
      "   competencia unidade                status  \n",
      "3         SMUL  SERVIN  Deferido - Encerrado  \n",
      "9         SMUL  SERVIN            Indeferido  \n",
      "13        SMUL  SERVIN            Indeferido  \n",
      "30        SMUL  SERVIN       Processo Físico  \n",
      "35        SMUL  SERVIN       Processo Físico   \n",
      "\n"
     ]
    }
   ],
   "source": [
    "# Itera sobre cada grupo e armazena em um dicionário ou outro contêiner\n",
    "for nome, grupo in grupos:\n",
    "    tabelas[nome] = grupo\n",
    "    # Para mostrar as primeiras linhas de cada tabela\n",
    "    print(f\"Tabela para '{nome}':\")\n",
    "    print(grupo.head(), \"\\n\")"
   ]
  },
  {
   "cell_type": "code",
   "execution_count": 9,
   "id": "3718fd5e-9d96-4056-a283-865759043a7f",
   "metadata": {
    "tags": []
   },
   "outputs": [],
   "source": [
    "pasta = 'Slce'"
   ]
  },
  {
   "cell_type": "code",
   "execution_count": 10,
   "id": "c361c1fa-32e9-4f58-ab57-057b77f935a4",
   "metadata": {
    "tags": []
   },
   "outputs": [
    {
     "name": "stdout",
     "output_type": "stream",
     "text": [
      "Pasta 'Slce' criada.\n"
     ]
    }
   ],
   "source": [
    "# Criar a pasta se não existir\n",
    "if not os.path.exists(pasta):\n",
    "    os.makedirs(pasta)\n",
    "    print(f\"Pasta '{pasta}' criada.\")"
   ]
  },
  {
   "cell_type": "code",
   "execution_count": 11,
   "id": "9348f57d-b365-40d3-bdb5-cbfd34e2d8cf",
   "metadata": {
    "tags": []
   },
   "outputs": [
    {
     "name": "stdout",
     "output_type": "stream",
     "text": [
      "Salvou 'Slce\\slce_CAEPP.csv' para a palavra 'CAEPP'\n",
      "Salvou 'Slce\\slce_CAEPP-DERPP.csv' para a palavra 'CAEPP-DERPP'\n",
      "Salvou 'Slce\\slce_COMIN.csv' para a palavra 'COMIN'\n",
      "Salvou 'Slce\\slce_COMIN-GTEA.csv' para a palavra 'COMIN-GTEA'\n",
      "Salvou 'Slce\\slce_CONTRU-G.csv' para a palavra 'CONTRU-G'\n",
      "Salvou 'Slce\\slce_GAB.csv' para a palavra 'GAB'\n",
      "Salvou 'Slce\\slce_PARHIS-3.csv' para a palavra 'PARHIS-3'\n",
      "Salvou 'Slce\\slce_PARHIS-DPS.csv' para a palavra 'PARHIS-DPS'\n",
      "Salvou 'Slce\\slce_PARHIS-G.csv' para a palavra 'PARHIS-G'\n",
      "Salvou 'Slce\\slce_Processo Eletrônico.csv' para a palavra 'Processo Eletrônico'\n",
      "Salvou 'Slce\\slce_RESID.csv' para a palavra 'RESID'\n",
      "Salvou 'Slce\\slce_SERVIN.csv' para a palavra 'SERVIN'\n"
     ]
    }
   ],
   "source": [
    "# Salvar cada grupo como um arquivo CSV na pasta especificada\n",
    "for nome, grupo in grupos:\n",
    "    arquivo_csv = os.path.join(pasta, f'slce_{nome}.csv')  # Caminho completo do arquivo\n",
    "    grupo.to_csv(arquivo_csv, index=False)  # Salva sem o índice\n",
    "    print(f\"Salvou '{arquivo_csv}' para a palavra '{nome}'\")"
   ]
  },
  {
   "cell_type": "code",
   "execution_count": null,
   "id": "aab3460b-47d2-47b3-a7c8-ebfa9c708ec3",
   "metadata": {},
   "outputs": [],
   "source": []
  }
 ],
 "metadata": {
  "kernelspec": {
   "display_name": "Python 3 (ipykernel)",
   "language": "python",
   "name": "python3"
  },
  "language_info": {
   "codemirror_mode": {
    "name": "ipython",
    "version": 3
   },
   "file_extension": ".py",
   "mimetype": "text/x-python",
   "name": "python",
   "nbconvert_exporter": "python",
   "pygments_lexer": "ipython3",
   "version": "3.11.7"
  }
 },
 "nbformat": 4,
 "nbformat_minor": 5
}
