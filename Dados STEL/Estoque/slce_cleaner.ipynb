{
 "cells": [
  {
   "cell_type": "code",
   "execution_count": 1,
   "id": "dd75b2ed-0fba-44f6-8c67-f4ca8f588f1c",
   "metadata": {
    "tags": []
   },
   "outputs": [],
   "source": [
    "import pandas as pd\n",
    "import os "
   ]
  },
  {
   "cell_type": "code",
   "execution_count": 2,
   "id": "eeed631a-fa52-4547-9c4c-e07491dc1d8a",
   "metadata": {
    "tags": []
   },
   "outputs": [],
   "source": [
    "dados = pd.read_excel('raw_data\\slce.xlsx')"
   ]
  },
  {
   "cell_type": "code",
   "execution_count": 3,
   "id": "1948cb82-1dca-4b2c-a35d-8aecc3416fe9",
   "metadata": {
    "tags": []
   },
   "outputs": [],
   "source": [
    "dados.columns = [\"dt_abertura\", \"n_processos\", \"n_protocolo\",\"assunto\",\"aditivo\",\"tipo_requerimento\",\"competencia\",\"unidade\",\"status\"] "
   ]
  },
  {
   "cell_type": "code",
   "execution_count": 4,
   "id": "f9cd1f77-9e50-4bff-a698-e47c7a7e8683",
   "metadata": {
    "tags": []
   },
   "outputs": [
    {
     "name": "stdout",
     "output_type": "stream",
     "text": [
      "unidade\n",
      "CAEPP-DERPP    9716\n",
      "CAEPP          3804\n",
      "RESID           793\n",
      "COMIN-GTEA      529\n",
      "COMIN           416\n",
      "PARHIS-G        224\n",
      "SERVIN          222\n",
      "PARHIS-3         30\n",
      "PARHIS-DPS       26\n",
      "CONTRU-G         19\n",
      "GAB              13\n",
      "Name: count, dtype: int64\n"
     ]
    }
   ],
   "source": [
    "contagem = dados['unidade'].value_counts()\n",
    "print(contagem)"
   ]
  },
  {
   "cell_type": "code",
   "execution_count": 5,
   "id": "119d55fc-f774-4948-bdfe-449f2f5ba936",
   "metadata": {
    "tags": []
   },
   "outputs": [],
   "source": [
    "# Suponha que temos um DataFrame chamado 'dados' e queremos agrupar por uma coluna\n",
    "coluna = 'unidade'  # Substitua pelo nome correto da coluna\n",
    "value_counts = dados[coluna].value_counts()  # Conta os valores únicos na coluna"
   ]
  },
  {
   "cell_type": "code",
   "execution_count": 6,
   "id": "826a65b3-77a4-43fe-9a21-f7978f0393ac",
   "metadata": {
    "tags": []
   },
   "outputs": [],
   "source": [
    "grupos = dados.groupby(coluna)"
   ]
  },
  {
   "cell_type": "code",
   "execution_count": 7,
   "id": "45c664af-2efd-488e-9141-86cd560baec2",
   "metadata": {
    "tags": []
   },
   "outputs": [],
   "source": [
    "tabelas = {}"
   ]
  },
  {
   "cell_type": "code",
   "execution_count": 8,
   "id": "d00f6fca-226b-4bff-8870-941882647796",
   "metadata": {
    "tags": []
   },
   "outputs": [
    {
     "name": "stdout",
     "output_type": "stream",
     "text": [
      "Tabela para 'CAEPP':\n",
      "             dt_abertura       n_processos n_protocolo  \\\n",
      "8075 2021-01-06 13:28:51  2021-0.000.052-3    39276-20   \n",
      "8089 2021-01-06 20:16:08  2021-0.000.101-5    32423-22   \n",
      "8091 2021-01-06 20:20:19  2021-0.000.103-1    38770-20   \n",
      "8092 2021-01-07 18:22:15  2021-0.000.117-1    38045-20   \n",
      "8093 2021-01-07 18:30:19  2021-0.000.118-0    38788-20   \n",
      "\n",
      "                                     assunto  aditivo tipo_requerimento  \\\n",
      "8075  Alvará de Aprovação de Edificação Nova  Inicial           Inicial   \n",
      "8089          Alvará de Aprovação de Reforma  Inicial        1º Recurso   \n",
      "8091  Alvará de Aprovação de Edificação Nova  Inicial           Inicial   \n",
      "8092          Alvará de Aprovação de Reforma  Inicial           Inicial   \n",
      "8093          Alvará de Aprovação de Reforma  Inicial           Inicial   \n",
      "\n",
      "     competencia unidade      status  \n",
      "8075        SMUL   CAEPP  Em Análise  \n",
      "8089        SMUL   CAEPP  Em Análise  \n",
      "8091        SMUL   CAEPP  Em Análise  \n",
      "8092        SMUL   CAEPP  Em Análise  \n",
      "8093        SMUL   CAEPP  Em Análise   \n",
      "\n",
      "Tabela para 'CAEPP-DERPP':\n",
      "             dt_abertura       n_processos n_protocolo  \\\n",
      "1626 2015-04-17 18:01:25  2015-0.100.698-0      367-18   \n",
      "1627 2015-04-17 18:01:25  2015-0.100.698-0    10715-15   \n",
      "1628 2015-04-17 18:01:34  2015-0.100.699-8    13212-15   \n",
      "1630 2015-04-20 18:01:30  2015-0.100.964-4    17555-15   \n",
      "1631 2015-04-20 18:01:30  2015-0.100.964-4    13453-15   \n",
      "\n",
      "                                               assunto  aditivo  \\\n",
      "1626  Alvará de Licença para Residências Unifamiliares  Inicial   \n",
      "1627  Alvará de Licença para Residências Unifamiliares  Inicial   \n",
      "1628  Alvará de Licença para Residências Unifamiliares  Inicial   \n",
      "1630  Alvará de Licença para Residências Unifamiliares  Inicial   \n",
      "1631  Alvará de Licença para Residências Unifamiliares  Inicial   \n",
      "\n",
      "     tipo_requerimento competencia      unidade      status  \n",
      "1626        1º Recurso        SMUL  CAEPP-DERPP  Indeferido  \n",
      "1627           Inicial        SMUL  CAEPP-DERPP  Indeferido  \n",
      "1628           Inicial        SMUL  CAEPP-DERPP  Indeferido  \n",
      "1630    Reconsideração        SMUL  CAEPP-DERPP  Indeferido  \n",
      "1631           Inicial        SMUL  CAEPP-DERPP  Indeferido   \n",
      "\n",
      "Tabela para 'COMIN':\n",
      "           dt_abertura       n_processos n_protocolo  \\\n",
      "1  2012-10-10 16:54:55  2012-0.292.419-7      757-12   \n",
      "10 2012-10-19 12:01:25  2012-0.300.546-2     1537-12   \n",
      "13 2012-10-23 12:07:05  2012-0.303.353-9     1927-12   \n",
      "15 2012-10-23 12:07:47  2012-0.303.361-0     1379-12   \n",
      "16 2012-10-23 12:08:35  2012-0.303.364-4      326-14   \n",
      "\n",
      "                                   assunto  aditivo tipo_requerimento  \\\n",
      "1   Alvará de Aprovação de Edificação Nova  Inicial           Inicial   \n",
      "10          Alvará de Aprovação de Reforma  Inicial           Inicial   \n",
      "13          Alvará de Aprovação de Reforma  Inicial           Inicial   \n",
      "15          Alvará de Aprovação de Reforma  Inicial           Inicial   \n",
      "16  Alvará de Aprovação de Edificação Nova  Inicial    Reconsideração   \n",
      "\n",
      "   competencia unidade           status  \n",
      "1         SMUL   COMIN  Processo Físico  \n",
      "10        SMUL   COMIN  Processo Físico  \n",
      "13        SMUL   COMIN  Processo Físico  \n",
      "15        SMUL   COMIN  Processo Físico  \n",
      "16        SMUL   COMIN       Em Análise   \n",
      "\n",
      "Tabela para 'COMIN-GTEA':\n",
      "             dt_abertura       n_processos n_protocolo  \\\n",
      "8071 2021-01-06 10:25:54  2021-0.000.026-4    39411-20   \n",
      "8072 2021-01-06 11:30:40  2021-0.000.029-9    39187-20   \n",
      "8074 2021-01-06 12:36:00  2021-0.000.041-8    36366-20   \n",
      "8078 2021-01-06 13:46:47  2021-0.000.056-6    39540-20   \n",
      "8081 2021-01-06 15:08:52  2021-0.000.071-0    38537-20   \n",
      "\n",
      "                              assunto               aditivo tipo_requerimento  \\\n",
      "8071   Alvará de Aprovação de Reforma               Inicial           Inicial   \n",
      "8072  Alvará de Execução de Demolição               Inicial           Inicial   \n",
      "8074  Alvará de Execução de Demolição               Inicial           Inicial   \n",
      "8078   Alvará de Aprovação de Reforma  Projeto Modificativo           Inicial   \n",
      "8081   Alvará de Aprovação de Reforma               Inicial           Inicial   \n",
      "\n",
      "     competencia     unidade      status  \n",
      "8071        SMUL  COMIN-GTEA  Indeferido  \n",
      "8072        SMUL  COMIN-GTEA  Indeferido  \n",
      "8074        SMUL  COMIN-GTEA  Indeferido  \n",
      "8078        SMUL  COMIN-GTEA  Indeferido  \n",
      "8081        SMUL  COMIN-GTEA  Indeferido   \n",
      "\n",
      "Tabela para 'CONTRU-G':\n",
      "             dt_abertura       n_processos n_protocolo  \\\n",
      "366  2013-01-31 13:42:16  2013-0.029.964-5     1582-13   \n",
      "371  2013-01-31 14:39:38  2013-0.030.158-5     1584-13   \n",
      "921  2013-05-16 14:14:41  2013-0.141.216-0     9133-13   \n",
      "981  2013-06-20 12:19:40  2013-0.174.568-1     9777-13   \n",
      "1099 2013-09-28 12:04:40  2013-0.286.505-2    19615-13   \n",
      "\n",
      "                                     assunto  aditivo tipo_requerimento  \\\n",
      "366            Alvará de Execução de Reforma  Inicial           Inicial   \n",
      "371            Alvará de Execução de Reforma  Inicial           Inicial   \n",
      "921    Alvará de Execução de Edificação Nova  Inicial           Inicial   \n",
      "981   Alvará de Aprovação de Edificação Nova  Inicial           Inicial   \n",
      "1099  Alvará de Aprovação de Edificação Nova  Inicial           Inicial   \n",
      "\n",
      "     competencia   unidade           status  \n",
      "366         SMUL  CONTRU-G       Indeferido  \n",
      "371         SMUL  CONTRU-G       Indeferido  \n",
      "921         SMUL  CONTRU-G       Indeferido  \n",
      "981         SMUL  CONTRU-G  Processo Físico  \n",
      "1099        SMUL  CONTRU-G       Em Análise   \n",
      "\n",
      "Tabela para 'GAB':\n",
      "             dt_abertura       n_processos n_protocolo  \\\n",
      "43   2012-11-05 11:15:27  2012-0.314.084-0     2466-12   \n",
      "699  2013-04-03 18:27:06  2013-0.095.329-9     3620-13   \n",
      "1228 2014-02-14 08:19:26  2014-0.045.213-5     2175-14   \n",
      "1304 2014-05-08 12:06:41  2014-0.128.681-6    11527-14   \n",
      "1343 2014-06-09 12:18:05  2014-0.160.825-2    14987-14   \n",
      "\n",
      "                             assunto  aditivo tipo_requerimento competencia  \\\n",
      "43     Alvará de Execução de Reforma  Inicial           Inicial        SMUL   \n",
      "699   Alvará de Aprovação de Reforma  Inicial           Inicial        SMUL   \n",
      "1228  Alvará de Aprovação de Reforma  Inicial           Inicial        SMUL   \n",
      "1304  Alvará de Aprovação de Reforma  Inicial           Inicial        SMUL   \n",
      "1343   Alvará de Execução de Reforma  Inicial           Inicial        SMUL   \n",
      "\n",
      "     unidade           status  \n",
      "43       GAB       Indeferido  \n",
      "699      GAB  Processo Físico  \n",
      "1228     GAB       Indeferido  \n",
      "1304     GAB       Indeferido  \n",
      "1343     GAB       Indeferido   \n",
      "\n",
      "Tabela para 'PARHIS-3':\n",
      "            dt_abertura       n_processos n_protocolo  \\\n",
      "14  2012-10-23 12:07:40  2012-0.303.359-8      777-12   \n",
      "78  2012-11-22 18:11:32  2012-0.327.823-0     3407-12   \n",
      "130 2012-12-05 12:02:27  2012-0.339.612-7     4007-12   \n",
      "131 2012-12-05 12:02:50  2012-0.339.616-0     4123-12   \n",
      "144 2012-12-07 12:10:32  2012-0.342.434-1     5045-12   \n",
      "\n",
      "                             assunto  aditivo tipo_requerimento competencia  \\\n",
      "14        Alvará de Desdobro de Lote  Inicial           Inicial        SMUL   \n",
      "78        Alvará de Desdobro de Lote  Inicial           Inicial        SMUL   \n",
      "130       Alvará de Desdobro de Lote  Inicial           Inicial        SMUL   \n",
      "131  Alvará de Remembramento de Lote  Inicial           Inicial        SMUL   \n",
      "144       Alvará de Desdobro de Lote  Inicial           Inicial        SMUL   \n",
      "\n",
      "      unidade      status  \n",
      "14   PARHIS-3  Em Análise  \n",
      "78   PARHIS-3  Em Análise  \n",
      "130  PARHIS-3  Em Análise  \n",
      "131  PARHIS-3  Em Análise  \n",
      "144  PARHIS-3  Em Análise   \n",
      "\n",
      "Tabela para 'PARHIS-DPS':\n",
      "             dt_abertura       n_processos n_protocolo  \\\n",
      "8219 2021-01-22 19:47:53  2021-0.000.775-7     1688-21   \n",
      "8455 2021-02-23 23:54:44  2021-0.002.179-2     9166-23   \n",
      "8601 2021-03-18 19:36:51  2021-0.003.076-7     8684-21   \n",
      "8606 2021-03-22 13:29:40  2021-0.003.110-0    21155-22   \n",
      "8623 2021-03-25 10:56:49  2021-0.003.191-7     7548-21   \n",
      "\n",
      "                               assunto  aditivo tipo_requerimento competencia  \\\n",
      "8219  Alvará de Desmembramento de Lote  Inicial           Inicial        SMUL   \n",
      "8455  Alvará de Desmembramento de Lote  Inicial    Reconsideração        SMUL   \n",
      "8601  Alvará de Desmembramento de Lote  Inicial           Inicial        SMUL   \n",
      "8606  Alvará de Desmembramento de Lote  Inicial    Reconsideração        SMUL   \n",
      "8623  Alvará de Desmembramento de Lote  Inicial           Inicial        SMUL   \n",
      "\n",
      "         unidade      status  \n",
      "8219  PARHIS-DPS  Em Análise  \n",
      "8455  PARHIS-DPS  Em Análise  \n",
      "8601  PARHIS-DPS  Em Análise  \n",
      "8606  PARHIS-DPS  Em Análise  \n",
      "8623  PARHIS-DPS  Em Análise   \n",
      "\n",
      "Tabela para 'PARHIS-G':\n",
      "           dt_abertura       n_processos n_protocolo  \\\n",
      "18 2012-10-23 16:12:31  2012-0.304.155-8     1155-12   \n",
      "19 2012-10-23 16:13:36  2012-0.304.159-0     2006-12   \n",
      "20 2012-10-23 16:14:16  2012-0.304.163-9     2013-12   \n",
      "24 2012-10-24 16:12:03  2012-0.305.552-4      620-12   \n",
      "37 2012-10-29 15:46:52  2012-0.309.313-2     1861-12   \n",
      "\n",
      "                                   assunto  aditivo tipo_requerimento  \\\n",
      "18  Alvará de Aprovação de Edificação Nova  Inicial           Inicial   \n",
      "19  Alvará de Aprovação de Edificação Nova  Inicial           Inicial   \n",
      "20  Alvará de Aprovação de Edificação Nova  Inicial           Inicial   \n",
      "24  Alvará de Aprovação de Edificação Nova  Inicial           Inicial   \n",
      "37  Alvará de Aprovação de Edificação Nova  Inicial           Inicial   \n",
      "\n",
      "   competencia   unidade           status  \n",
      "18        SMUL  PARHIS-G  Processo Físico  \n",
      "19        SMUL  PARHIS-G  Processo Físico  \n",
      "20        SMUL  PARHIS-G  Processo Físico  \n",
      "24        SMUL  PARHIS-G  Processo Físico  \n",
      "37        SMUL  PARHIS-G  Processo Físico   \n",
      "\n",
      "Tabela para 'RESID':\n",
      "          dt_abertura       n_processos n_protocolo  \\\n",
      "0 2012-10-10 16:40:29  2012-0.292.377-8      275-12   \n",
      "2 2012-10-17 10:08:35  2012-0.297.052-0      836-12   \n",
      "3 2012-10-17 10:08:35  2012-0.297.053-9      278-12   \n",
      "4 2012-10-17 10:09:00  2012-0.297.054-7      674-12   \n",
      "5 2012-10-17 10:16:58  2012-0.297.093-8      635-12   \n",
      "\n",
      "                                  assunto  aditivo tipo_requerimento  \\\n",
      "0  Alvará de Aprovação de Edificação Nova  Inicial           Inicial   \n",
      "2  Alvará de Aprovação de Edificação Nova  Inicial           Inicial   \n",
      "3          Alvará de Aprovação de Reforma  Inicial           Inicial   \n",
      "4          Alvará de Aprovação de Reforma  Inicial           Inicial   \n",
      "5  Alvará de Aprovação de Edificação Nova  Inicial           Inicial   \n",
      "\n",
      "  competencia unidade           status  \n",
      "0        SMUL   RESID  Processo Físico  \n",
      "2        SMUL   RESID  Processo Físico  \n",
      "3        SMUL   RESID       Indeferido  \n",
      "4        SMUL   RESID  Processo Físico  \n",
      "5        SMUL   RESID  Processo Físico   \n",
      "\n",
      "Tabela para 'SERVIN':\n",
      "           dt_abertura       n_processos n_protocolo  \\\n",
      "7  2012-10-17 10:35:54  2012-0.297.168-3      901-12   \n",
      "11 2012-10-23 12:06:34  2012-0.303.346-6     1775-12   \n",
      "28 2012-10-26 12:00:49  2012-0.307.514-2     2071-12   \n",
      "33 2012-10-29 11:55:12  2012-0.308.718-3     1373-12   \n",
      "34 2012-10-29 11:58:36  2012-0.308.722-1     1586-12   \n",
      "\n",
      "                                   assunto  aditivo tipo_requerimento  \\\n",
      "7           Alvará de Aprovação de Reforma  Inicial           Inicial   \n",
      "11          Alvará de Aprovação de Reforma  Inicial           Inicial   \n",
      "28          Alvará de Aprovação de Reforma  Inicial           Inicial   \n",
      "33  Alvará de Aprovação de Edificação Nova  Inicial           Inicial   \n",
      "34  Alvará de Aprovação de Edificação Nova  Inicial           Inicial   \n",
      "\n",
      "   competencia unidade           status  \n",
      "7         SMUL  SERVIN       Indeferido  \n",
      "11        SMUL  SERVIN       Indeferido  \n",
      "28        SMUL  SERVIN  Processo Físico  \n",
      "33        SMUL  SERVIN  Processo Físico  \n",
      "34        SMUL  SERVIN  Processo Físico   \n",
      "\n"
     ]
    }
   ],
   "source": [
    "# Itera sobre cada grupo e armazena em um dicionário ou outro contêiner\n",
    "for nome, grupo in grupos:\n",
    "    tabelas[nome] = grupo\n",
    "    # Para mostrar as primeiras linhas de cada tabela\n",
    "    print(f\"Tabela para '{nome}':\")\n",
    "    print(grupo.head(), \"\\n\")"
   ]
  },
  {
   "cell_type": "code",
   "execution_count": 9,
   "id": "3718fd5e-9d96-4056-a283-865759043a7f",
   "metadata": {
    "tags": []
   },
   "outputs": [],
   "source": [
    "pasta = 'Slce'"
   ]
  },
  {
   "cell_type": "code",
   "execution_count": 10,
   "id": "c361c1fa-32e9-4f58-ab57-057b77f935a4",
   "metadata": {
    "tags": []
   },
   "outputs": [
    {
     "name": "stdout",
     "output_type": "stream",
     "text": [
      "Pasta 'Slce' criada.\n"
     ]
    }
   ],
   "source": [
    "# Criar a pasta se não existir\n",
    "if not os.path.exists(pasta):\n",
    "    os.makedirs(pasta)\n",
    "    print(f\"Pasta '{pasta}' criada.\")"
   ]
  },
  {
   "cell_type": "code",
   "execution_count": 11,
   "id": "9348f57d-b365-40d3-bdb5-cbfd34e2d8cf",
   "metadata": {
    "tags": []
   },
   "outputs": [
    {
     "name": "stdout",
     "output_type": "stream",
     "text": [
      "Salvou 'Slce\\slce_CAEPP.csv' para a palavra 'CAEPP'\n",
      "Salvou 'Slce\\slce_CAEPP-DERPP.csv' para a palavra 'CAEPP-DERPP'\n",
      "Salvou 'Slce\\slce_COMIN.csv' para a palavra 'COMIN'\n",
      "Salvou 'Slce\\slce_COMIN-GTEA.csv' para a palavra 'COMIN-GTEA'\n",
      "Salvou 'Slce\\slce_CONTRU-G.csv' para a palavra 'CONTRU-G'\n",
      "Salvou 'Slce\\slce_GAB.csv' para a palavra 'GAB'\n",
      "Salvou 'Slce\\slce_PARHIS-3.csv' para a palavra 'PARHIS-3'\n",
      "Salvou 'Slce\\slce_PARHIS-DPS.csv' para a palavra 'PARHIS-DPS'\n",
      "Salvou 'Slce\\slce_PARHIS-G.csv' para a palavra 'PARHIS-G'\n",
      "Salvou 'Slce\\slce_RESID.csv' para a palavra 'RESID'\n",
      "Salvou 'Slce\\slce_SERVIN.csv' para a palavra 'SERVIN'\n"
     ]
    }
   ],
   "source": [
    "# Salvar cada grupo como um arquivo CSV na pasta especificada\n",
    "for nome, grupo in grupos:\n",
    "    arquivo_csv = os.path.join(pasta, f'slce_{nome}.csv')  # Caminho completo do arquivo\n",
    "    grupo.to_csv(arquivo_csv, index=False)  # Salva sem o índice\n",
    "    print(f\"Salvou '{arquivo_csv}' para a palavra '{nome}'\")"
   ]
  },
  {
   "cell_type": "code",
   "execution_count": null,
   "id": "aab3460b-47d2-47b3-a7c8-ebfa9c708ec3",
   "metadata": {},
   "outputs": [],
   "source": []
  }
 ],
 "metadata": {
  "kernelspec": {
   "display_name": "Python 3 (ipykernel)",
   "language": "python",
   "name": "python3"
  },
  "language_info": {
   "codemirror_mode": {
    "name": "ipython",
    "version": 3
   },
   "file_extension": ".py",
   "mimetype": "text/x-python",
   "name": "python",
   "nbconvert_exporter": "python",
   "pygments_lexer": "ipython3",
   "version": "3.11.7"
  }
 },
 "nbformat": 4,
 "nbformat_minor": 5
}
