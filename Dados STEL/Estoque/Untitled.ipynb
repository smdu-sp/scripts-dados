{
 "cells": [
  {
   "cell_type": "code",
   "execution_count": 2,
   "id": "c8332355-85b4-4840-8b2f-b6314492196a",
   "metadata": {
    "tags": []
   },
   "outputs": [],
   "source": [
    "import pandas as pd\n",
    "import os "
   ]
  },
  {
   "cell_type": "code",
   "execution_count": null,
   "id": "daa4d24c-5b72-40d3-8ca8-2f87e397fbf1",
   "metadata": {},
   "outputs": [],
   "source": [
    "dados = pd.read_excel('raw_data\\slce.xlsx')"
   ]
  }
 ],
 "metadata": {
  "kernelspec": {
   "display_name": "Python 3 (ipykernel)",
   "language": "python",
   "name": "python3"
  },
  "language_info": {
   "codemirror_mode": {
    "name": "ipython",
    "version": 3
   },
   "file_extension": ".py",
   "mimetype": "text/x-python",
   "name": "python",
   "nbconvert_exporter": "python",
   "pygments_lexer": "ipython3",
   "version": "3.11.7"
  }
 },
 "nbformat": 4,
 "nbformat_minor": 5
}
